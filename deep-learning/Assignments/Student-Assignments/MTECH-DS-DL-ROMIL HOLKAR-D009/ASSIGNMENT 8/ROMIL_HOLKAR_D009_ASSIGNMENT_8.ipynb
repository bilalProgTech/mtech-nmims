{
  "metadata": {
    "kernelspec": {
      "language": "python",
      "display_name": "Python 3",
      "name": "python3"
    },
    "language_info": {
      "name": "python",
      "version": "3.7.12",
      "mimetype": "text/x-python",
      "codemirror_mode": {
        "name": "ipython",
        "version": 3
      },
      "pygments_lexer": "ipython3",
      "nbconvert_exporter": "python",
      "file_extension": ".py"
    },
    "colab": {
      "provenance": []
    }
  },
  "nbformat_minor": 0,
  "nbformat": 4,
  "cells": [
    {
      "cell_type": "code",
      "source": [
        "# This Python 3 environment comes with many helpful analytics libraries installed\n",
        "# It is defined by the kaggle/python Docker image: https://github.com/kaggle/docker-python\n",
        "# For example, here's several helpful packages to load\n",
        "\n",
        "import numpy as np # linear algebra\n",
        "import pandas as pd # data processing, CSV file I/O (e.g. pd.read_csv)\n",
        "\n",
        "# Input data files are available in the read-only \"../input/\" directory\n",
        "# For example, running this (by clicking run or pressing Shift+Enter) will list all files under the input directory\n",
        "\n",
        "import os\n",
        "for dirname, _, filenames in os.walk('/kaggle/input'):\n",
        "    for filename in filenames:\n",
        "        print(os.path.join(dirname, filename))\n",
        "\n",
        "# You can write up to 20GB to the current directory (/kaggle/working/) that gets preserved as output when you create a version using \"Save & Run All\" \n",
        "# You can also write temporary files to /kaggle/temp/, but they won't be saved outside of the current session"
      ],
      "metadata": {
        "_uuid": "8f2839f25d086af736a60e9eeb907d3b93b6e0e5",
        "_cell_guid": "b1076dfc-b9ad-4769-8c92-a6c4dae69d19",
        "trusted": true,
        "id": "ErApTvYnobHR"
      },
      "execution_count": null,
      "outputs": []
    },
    {
      "cell_type": "code",
      "source": [
        "from google.cloud import bigquery\n",
        "import pandas as pd\n",
        "import numpy as np\n",
        "import re\n",
        "import tensorflow as tf\n",
        "import string\n",
        "import nltk\n",
        "from nltk.corpus import stopwords\n",
        "from sklearn.preprocessing import MultiLabelBinarizer\n",
        "from sklearn.model_selection import train_test_split"
      ],
      "metadata": {
        "execution": {
          "iopub.status.busy": "2022-10-18T17:22:25.717363Z",
          "iopub.execute_input": "2022-10-18T17:22:25.718239Z",
          "iopub.status.idle": "2022-10-18T17:22:33.164267Z",
          "shell.execute_reply.started": "2022-10-18T17:22:25.718100Z",
          "shell.execute_reply": "2022-10-18T17:22:33.162814Z"
        },
        "trusted": true,
        "id": "-GmtHxgBobHW"
      },
      "execution_count": null,
      "outputs": []
    },
    {
      "cell_type": "code",
      "source": [
        "client = bigquery.Client()\n",
        "dataset_ref = client.dataset(\"stackoverflow\", project=\"bigquery-public-data\")\n",
        "\n",
        "dataset = client.get_dataset(dataset_ref)"
      ],
      "metadata": {
        "execution": {
          "iopub.status.busy": "2022-10-18T17:22:46.606824Z",
          "iopub.execute_input": "2022-10-18T17:22:46.607579Z",
          "iopub.status.idle": "2022-10-18T17:22:47.268446Z",
          "shell.execute_reply.started": "2022-10-18T17:22:46.607539Z",
          "shell.execute_reply": "2022-10-18T17:22:47.267242Z"
        },
        "trusted": true,
        "id": "QXnWhNhbobHY",
        "outputId": "50bddd26-131f-42b0-a64a-90b66fe58431"
      },
      "execution_count": null,
      "outputs": [
        {
          "name": "stdout",
          "text": "Using Kaggle's public dataset BigQuery integration.\n",
          "output_type": "stream"
        }
      ]
    },
    {
      "cell_type": "code",
      "source": [
        "sql = \"\"\"SELECT id, title , tags \n",
        "        FROM bigquery-public-data.stackoverflow.stackoverflow_posts\n",
        "        WHERE title NOT LIKE '%None%'\n",
        "        LIMIT 10000\n",
        "        \"\"\"\n",
        "\n",
        "results = client.query(sql).to_dataframe()\n",
        "\n",
        "results.head()"
      ],
      "metadata": {
        "execution": {
          "iopub.status.busy": "2022-10-18T17:23:02.814306Z",
          "iopub.execute_input": "2022-10-18T17:23:02.814724Z",
          "iopub.status.idle": "2022-10-18T17:23:06.209767Z",
          "shell.execute_reply.started": "2022-10-18T17:23:02.814692Z",
          "shell.execute_reply": "2022-10-18T17:23:06.208861Z"
        },
        "trusted": true,
        "id": "1sQd2LtVobHb",
        "outputId": "3b07f0d5-6fb3-4a64-a537-8dcfa6826e98"
      },
      "execution_count": null,
      "outputs": [
        {
          "name": "stderr",
          "text": "/opt/conda/lib/python3.7/site-packages/google/cloud/bigquery/client.py:440: UserWarning: Cannot create BigQuery Storage client, the dependency google-cloud-bigquery-storage is not installed.\n  \"Cannot create BigQuery Storage client, the dependency \"\n",
          "output_type": "stream"
        },
        {
          "execution_count": 3,
          "output_type": "execute_result",
          "data": {
            "text/plain": "         id                                              title  \\\n0  33142013  not able to get reference to MessageEventManag...   \n1  36356000    docker registry v2 upload fails for some images   \n2  22884909         URL Scheme to open specific View with data   \n3  31844558                 Group chat using jabber IMCore API   \n4  27920190                accessing a map from Cassandra in R   \n\n                                             tags  \n0                android|xmpp|smack|status|typing  \n1            nginx|docker|docker-registry|wercker  \n2                ios|objective-c|xcode|url-scheme  \n3                              xmpp|multiuserchat  \n4  r|serialization|dictionary|cassandra|key-value  ",
            "text/html": "<div>\n<style scoped>\n    .dataframe tbody tr th:only-of-type {\n        vertical-align: middle;\n    }\n\n    .dataframe tbody tr th {\n        vertical-align: top;\n    }\n\n    .dataframe thead th {\n        text-align: right;\n    }\n</style>\n<table border=\"1\" class=\"dataframe\">\n  <thead>\n    <tr style=\"text-align: right;\">\n      <th></th>\n      <th>id</th>\n      <th>title</th>\n      <th>tags</th>\n    </tr>\n  </thead>\n  <tbody>\n    <tr>\n      <th>0</th>\n      <td>33142013</td>\n      <td>not able to get reference to MessageEventManag...</td>\n      <td>android|xmpp|smack|status|typing</td>\n    </tr>\n    <tr>\n      <th>1</th>\n      <td>36356000</td>\n      <td>docker registry v2 upload fails for some images</td>\n      <td>nginx|docker|docker-registry|wercker</td>\n    </tr>\n    <tr>\n      <th>2</th>\n      <td>22884909</td>\n      <td>URL Scheme to open specific View with data</td>\n      <td>ios|objective-c|xcode|url-scheme</td>\n    </tr>\n    <tr>\n      <th>3</th>\n      <td>31844558</td>\n      <td>Group chat using jabber IMCore API</td>\n      <td>xmpp|multiuserchat</td>\n    </tr>\n    <tr>\n      <th>4</th>\n      <td>27920190</td>\n      <td>accessing a map from Cassandra in R</td>\n      <td>r|serialization|dictionary|cassandra|key-value</td>\n    </tr>\n  </tbody>\n</table>\n</div>"
          },
          "metadata": {}
        }
      ]
    },
    {
      "cell_type": "code",
      "source": [
        "tags = []\n",
        "for tag in results['tags']:\n",
        "    tag = tag.split('|')\n",
        "    if len(tag)<20:\n",
        "        tags.append(tag)\n",
        "        \n",
        "df = pd.DataFrame({'id': results['id'], 'text': results['title'], 'tags' : tags})\n",
        "df.head()"
      ],
      "metadata": {
        "execution": {
          "iopub.status.busy": "2022-10-18T17:23:21.684418Z",
          "iopub.execute_input": "2022-10-18T17:23:21.684970Z",
          "iopub.status.idle": "2022-10-18T17:23:21.717755Z",
          "shell.execute_reply.started": "2022-10-18T17:23:21.684920Z",
          "shell.execute_reply": "2022-10-18T17:23:21.716486Z"
        },
        "trusted": true,
        "id": "wDhRk_AZobHc",
        "outputId": "1ca7ba45-9682-414b-af12-431d99e32ab3"
      },
      "execution_count": null,
      "outputs": [
        {
          "execution_count": 4,
          "output_type": "execute_result",
          "data": {
            "text/plain": "         id                                               text  \\\n0  33142013  not able to get reference to MessageEventManag...   \n1  36356000    docker registry v2 upload fails for some images   \n2  22884909         URL Scheme to open specific View with data   \n3  31844558                 Group chat using jabber IMCore API   \n4  27920190                accessing a map from Cassandra in R   \n\n                                                tags  \n0             [android, xmpp, smack, status, typing]  \n1          [nginx, docker, docker-registry, wercker]  \n2              [ios, objective-c, xcode, url-scheme]  \n3                              [xmpp, multiuserchat]  \n4  [r, serialization, dictionary, cassandra, key-...  ",
            "text/html": "<div>\n<style scoped>\n    .dataframe tbody tr th:only-of-type {\n        vertical-align: middle;\n    }\n\n    .dataframe tbody tr th {\n        vertical-align: top;\n    }\n\n    .dataframe thead th {\n        text-align: right;\n    }\n</style>\n<table border=\"1\" class=\"dataframe\">\n  <thead>\n    <tr style=\"text-align: right;\">\n      <th></th>\n      <th>id</th>\n      <th>text</th>\n      <th>tags</th>\n    </tr>\n  </thead>\n  <tbody>\n    <tr>\n      <th>0</th>\n      <td>33142013</td>\n      <td>not able to get reference to MessageEventManag...</td>\n      <td>[android, xmpp, smack, status, typing]</td>\n    </tr>\n    <tr>\n      <th>1</th>\n      <td>36356000</td>\n      <td>docker registry v2 upload fails for some images</td>\n      <td>[nginx, docker, docker-registry, wercker]</td>\n    </tr>\n    <tr>\n      <th>2</th>\n      <td>22884909</td>\n      <td>URL Scheme to open specific View with data</td>\n      <td>[ios, objective-c, xcode, url-scheme]</td>\n    </tr>\n    <tr>\n      <th>3</th>\n      <td>31844558</td>\n      <td>Group chat using jabber IMCore API</td>\n      <td>[xmpp, multiuserchat]</td>\n    </tr>\n    <tr>\n      <th>4</th>\n      <td>27920190</td>\n      <td>accessing a map from Cassandra in R</td>\n      <td>[r, serialization, dictionary, cassandra, key-...</td>\n    </tr>\n  </tbody>\n</table>\n</div>"
          },
          "metadata": {}
        }
      ]
    },
    {
      "cell_type": "code",
      "source": [
        "nltk.download('stopwords')\n",
        "stop_words = set(stopwords.words('english'))\n",
        "\n",
        "punctuations = list(string.punctuation)\n",
        "punctuations.remove(\"#\")\n",
        "punctuations.remove(\"+\")"
      ],
      "metadata": {
        "execution": {
          "iopub.status.busy": "2022-10-18T17:23:38.708258Z",
          "iopub.execute_input": "2022-10-18T17:23:38.708656Z",
          "iopub.status.idle": "2022-10-18T17:23:38.853420Z",
          "shell.execute_reply.started": "2022-10-18T17:23:38.708622Z",
          "shell.execute_reply": "2022-10-18T17:23:38.852649Z"
        },
        "trusted": true,
        "id": "cFH24tksobHe",
        "outputId": "8fc2ad71-4211-4ac9-ee66-7965b648bcae"
      },
      "execution_count": null,
      "outputs": [
        {
          "name": "stderr",
          "text": "[nltk_data] Downloading package stopwords to /usr/share/nltk_data...\n[nltk_data]   Package stopwords is already up-to-date!\n",
          "output_type": "stream"
        }
      ]
    },
    {
      "cell_type": "code",
      "source": [
        "def remove_stopwords(text):\n",
        "    no_stopword_text = [w for w in text.split() if not w in stop_words]\n",
        "    return ' '.join(no_stopword_text)\n",
        "def remove_punctuations(text):\n",
        "    no_punctuations_text = [w for w in text.split() if not w in punctuations]\n",
        "    return ' '.join(no_punctuations_text)"
      ],
      "metadata": {
        "execution": {
          "iopub.status.busy": "2022-10-18T17:23:58.553673Z",
          "iopub.execute_input": "2022-10-18T17:23:58.554094Z",
          "iopub.status.idle": "2022-10-18T17:23:58.560350Z",
          "shell.execute_reply.started": "2022-10-18T17:23:58.554060Z",
          "shell.execute_reply": "2022-10-18T17:23:58.559434Z"
        },
        "trusted": true,
        "id": "62Pp5gfQobHf"
      },
      "execution_count": null,
      "outputs": []
    },
    {
      "cell_type": "code",
      "source": [
        "def clean_text(text):\n",
        "    text = text.lower()\n",
        "    text = remove_punctuations(text)\n",
        "    text = remove_stopwords(text)\n",
        "    return text"
      ],
      "metadata": {
        "execution": {
          "iopub.status.busy": "2022-10-18T17:24:16.348028Z",
          "iopub.execute_input": "2022-10-18T17:24:16.348448Z",
          "iopub.status.idle": "2022-10-18T17:24:16.353873Z",
          "shell.execute_reply.started": "2022-10-18T17:24:16.348415Z",
          "shell.execute_reply": "2022-10-18T17:24:16.352860Z"
        },
        "trusted": true,
        "id": "ClYCNc2_obHg"
      },
      "execution_count": null,
      "outputs": []
    },
    {
      "cell_type": "code",
      "source": [
        "df['clean_text'] = df['text'].apply(lambda x: clean_text(x))\n",
        "df.head()"
      ],
      "metadata": {
        "execution": {
          "iopub.status.busy": "2022-10-18T17:24:26.347609Z",
          "iopub.execute_input": "2022-10-18T17:24:26.348002Z",
          "iopub.status.idle": "2022-10-18T17:24:26.454768Z",
          "shell.execute_reply.started": "2022-10-18T17:24:26.347970Z",
          "shell.execute_reply": "2022-10-18T17:24:26.453736Z"
        },
        "trusted": true,
        "id": "QtCmk83fobHh",
        "outputId": "716b52a5-4bb5-4202-80bd-9af8afabdcba"
      },
      "execution_count": null,
      "outputs": [
        {
          "execution_count": 9,
          "output_type": "execute_result",
          "data": {
            "text/plain": "         id                                               text  \\\n0  33142013  not able to get reference to MessageEventManag...   \n1  36356000    docker registry v2 upload fails for some images   \n2  22884909         URL Scheme to open specific View with data   \n3  31844558                 Group chat using jabber IMCore API   \n4  27920190                accessing a map from Cassandra in R   \n\n                                                tags  \\\n0             [android, xmpp, smack, status, typing]   \n1          [nginx, docker, docker-registry, wercker]   \n2              [ios, objective-c, xcode, url-scheme]   \n3                              [xmpp, multiuserchat]   \n4  [r, serialization, dictionary, cassandra, key-...   \n\n                                          clean_text  \n0  able get reference messageeventmanager class s...  \n1             docker registry v2 upload fails images  \n2                 url scheme open specific view data  \n3                 group chat using jabber imcore api  \n4                          accessing map cassandra r  ",
            "text/html": "<div>\n<style scoped>\n    .dataframe tbody tr th:only-of-type {\n        vertical-align: middle;\n    }\n\n    .dataframe tbody tr th {\n        vertical-align: top;\n    }\n\n    .dataframe thead th {\n        text-align: right;\n    }\n</style>\n<table border=\"1\" class=\"dataframe\">\n  <thead>\n    <tr style=\"text-align: right;\">\n      <th></th>\n      <th>id</th>\n      <th>text</th>\n      <th>tags</th>\n      <th>clean_text</th>\n    </tr>\n  </thead>\n  <tbody>\n    <tr>\n      <th>0</th>\n      <td>33142013</td>\n      <td>not able to get reference to MessageEventManag...</td>\n      <td>[android, xmpp, smack, status, typing]</td>\n      <td>able get reference messageeventmanager class s...</td>\n    </tr>\n    <tr>\n      <th>1</th>\n      <td>36356000</td>\n      <td>docker registry v2 upload fails for some images</td>\n      <td>[nginx, docker, docker-registry, wercker]</td>\n      <td>docker registry v2 upload fails images</td>\n    </tr>\n    <tr>\n      <th>2</th>\n      <td>22884909</td>\n      <td>URL Scheme to open specific View with data</td>\n      <td>[ios, objective-c, xcode, url-scheme]</td>\n      <td>url scheme open specific view data</td>\n    </tr>\n    <tr>\n      <th>3</th>\n      <td>31844558</td>\n      <td>Group chat using jabber IMCore API</td>\n      <td>[xmpp, multiuserchat]</td>\n      <td>group chat using jabber imcore api</td>\n    </tr>\n    <tr>\n      <th>4</th>\n      <td>27920190</td>\n      <td>accessing a map from Cassandra in R</td>\n      <td>[r, serialization, dictionary, cassandra, key-...</td>\n      <td>accessing map cassandra r</td>\n    </tr>\n  </tbody>\n</table>\n</div>"
          },
          "metadata": {}
        }
      ]
    },
    {
      "cell_type": "code",
      "source": [
        "multilabel_binarizer = MultiLabelBinarizer()\n",
        "multilabel_binarizer.fit(df['tags'])\n",
        "\n",
        "y = multilabel_binarizer.transform(df['tags'])\n",
        "\n",
        "y"
      ],
      "metadata": {
        "execution": {
          "iopub.status.busy": "2022-10-18T17:24:43.186346Z",
          "iopub.execute_input": "2022-10-18T17:24:43.186776Z",
          "iopub.status.idle": "2022-10-18T17:24:43.305559Z",
          "shell.execute_reply.started": "2022-10-18T17:24:43.186740Z",
          "shell.execute_reply": "2022-10-18T17:24:43.304332Z"
        },
        "trusted": true,
        "id": "9YPbOdDQobHi",
        "outputId": "556e5049-a31f-4986-96fd-0821b130ea33"
      },
      "execution_count": null,
      "outputs": [
        {
          "execution_count": 11,
          "output_type": "execute_result",
          "data": {
            "text/plain": "array([[0, 0, 0, ..., 0, 0, 0],\n       [0, 0, 0, ..., 0, 0, 0],\n       [0, 0, 0, ..., 0, 0, 0],\n       ...,\n       [0, 0, 0, ..., 0, 0, 0],\n       [0, 0, 0, ..., 0, 0, 0],\n       [0, 0, 0, ..., 0, 0, 0]])"
          },
          "metadata": {}
        }
      ]
    },
    {
      "cell_type": "code",
      "source": [
        "train, test, y_train, y_test = train_test_split(df, y, test_size=0.2)\n",
        "train = train.reset_index(drop=True)\n",
        "test = test.reset_index(drop=True)\n",
        "train.shape, test.shape"
      ],
      "metadata": {
        "execution": {
          "iopub.status.busy": "2022-10-18T17:24:54.841000Z",
          "iopub.execute_input": "2022-10-18T17:24:54.841529Z",
          "iopub.status.idle": "2022-10-18T17:24:55.241579Z",
          "shell.execute_reply.started": "2022-10-18T17:24:54.841482Z",
          "shell.execute_reply": "2022-10-18T17:24:55.240457Z"
        },
        "trusted": true,
        "id": "Yy00YIIxobHj",
        "outputId": "caf1f87f-f069-4f04-8b95-b2c1c2ccb55b"
      },
      "execution_count": null,
      "outputs": [
        {
          "execution_count": 12,
          "output_type": "execute_result",
          "data": {
            "text/plain": "((8000, 4), (2000, 4))"
          },
          "metadata": {}
        }
      ]
    },
    {
      "cell_type": "code",
      "source": [
        "train_tokenizer = tf.keras.preprocessing.text.Tokenizer(oov_token='<OOV>')\n",
        "train_tokenizer.fit_on_texts(train['clean_text'].values)\n",
        "train_word_index = train_tokenizer.word_index"
      ],
      "metadata": {
        "execution": {
          "iopub.status.busy": "2022-10-18T17:25:02.698366Z",
          "iopub.execute_input": "2022-10-18T17:25:02.698813Z",
          "iopub.status.idle": "2022-10-18T17:25:04.080095Z",
          "shell.execute_reply.started": "2022-10-18T17:25:02.698774Z",
          "shell.execute_reply": "2022-10-18T17:25:04.078918Z"
        },
        "trusted": true,
        "id": "SDYQ3WO3obHk"
      },
      "execution_count": null,
      "outputs": []
    },
    {
      "cell_type": "code",
      "source": [
        "vocab_length = len(train_word_index) + 1\n",
        "vocab_length"
      ],
      "metadata": {
        "execution": {
          "iopub.status.busy": "2022-10-18T17:25:14.594698Z",
          "iopub.execute_input": "2022-10-18T17:25:14.595988Z",
          "iopub.status.idle": "2022-10-18T17:25:14.604094Z",
          "shell.execute_reply.started": "2022-10-18T17:25:14.595935Z",
          "shell.execute_reply": "2022-10-18T17:25:14.603061Z"
        },
        "trusted": true,
        "id": "4BNUySA-obHl",
        "outputId": "4b0830b0-137f-449c-b64c-78c2496af6a0"
      },
      "execution_count": null,
      "outputs": [
        {
          "execution_count": 14,
          "output_type": "execute_result",
          "data": {
            "text/plain": "9168"
          },
          "metadata": {}
        }
      ]
    },
    {
      "cell_type": "code",
      "source": [
        "train_sequences = train_tokenizer.texts_to_sequences(train['clean_text'].values)\n",
        "len(train_sequences)"
      ],
      "metadata": {
        "execution": {
          "iopub.status.busy": "2022-10-18T17:25:22.718263Z",
          "iopub.execute_input": "2022-10-18T17:25:22.718691Z",
          "iopub.status.idle": "2022-10-18T17:25:22.832936Z",
          "shell.execute_reply.started": "2022-10-18T17:25:22.718655Z",
          "shell.execute_reply": "2022-10-18T17:25:22.831467Z"
        },
        "trusted": true,
        "id": "BU1EtOP_obHm",
        "outputId": "79738053-6635-46c4-f794-87b6c8425604"
      },
      "execution_count": null,
      "outputs": [
        {
          "execution_count": 15,
          "output_type": "execute_result",
          "data": {
            "text/plain": "8000"
          },
          "metadata": {}
        }
      ]
    },
    {
      "cell_type": "code",
      "source": [
        "test_sequences = train_tokenizer.texts_to_sequences(test['clean_text'].values)\n",
        "len(test_sequences)"
      ],
      "metadata": {
        "execution": {
          "iopub.status.busy": "2022-10-18T17:25:31.111533Z",
          "iopub.execute_input": "2022-10-18T17:25:31.111954Z",
          "iopub.status.idle": "2022-10-18T17:25:31.147235Z",
          "shell.execute_reply.started": "2022-10-18T17:25:31.111917Z",
          "shell.execute_reply": "2022-10-18T17:25:31.146014Z"
        },
        "trusted": true,
        "id": "qYoG5_79obHo",
        "outputId": "2c6b279b-a86a-4b29-c3ba-88005053dc1a"
      },
      "execution_count": null,
      "outputs": [
        {
          "execution_count": 16,
          "output_type": "execute_result",
          "data": {
            "text/plain": "2000"
          },
          "metadata": {}
        }
      ]
    },
    {
      "cell_type": "code",
      "source": [
        "longest_sentence = len(max(train_sequences, key=len))\n",
        "train_padded_seqeunces = tf.keras.preprocessing.sequence.pad_sequences(train_sequences, padding='post', maxlen=longest_sentence, truncating='post')\n",
        "test_padded_seqeunces = tf.keras.preprocessing.sequence.pad_sequences(test_sequences, padding='post', maxlen=longest_sentence, truncating='post')\n",
        "longest_sentence"
      ],
      "metadata": {
        "execution": {
          "iopub.status.busy": "2022-10-18T17:25:38.851325Z",
          "iopub.execute_input": "2022-10-18T17:25:38.851730Z",
          "iopub.status.idle": "2022-10-18T17:25:38.896997Z",
          "shell.execute_reply.started": "2022-10-18T17:25:38.851697Z",
          "shell.execute_reply": "2022-10-18T17:25:38.895853Z"
        },
        "trusted": true,
        "id": "SMEgqrcFobHp",
        "outputId": "4d93ca9c-b38a-46e0-c599-c89ddd9a80fa"
      },
      "execution_count": null,
      "outputs": [
        {
          "execution_count": 17,
          "output_type": "execute_result",
          "data": {
            "text/plain": "23"
          },
          "metadata": {}
        }
      ]
    },
    {
      "cell_type": "code",
      "source": [
        "tf.keras.backend.clear_session()\n",
        "\n",
        "embedding_dim = 50\n",
        "model = tf.keras.Sequential([\n",
        "    tf.keras.layers.Embedding(vocab_length, embedding_dim, input_length=longest_sentence),\n",
        "    \n",
        "    tf.keras.layers.LSTM(500, return_sequences=True),\n",
        "    tf.keras.layers.BatchNormalization(),\n",
        "    tf.keras.layers.Dropout(0.5),\n",
        "    tf.keras.layers.LSTM(250, return_sequences=True),\n",
        "    tf.keras.layers.Dropout(0.5),\n",
        "    tf.keras.layers.BatchNormalization(),\n",
        "    tf.keras.layers.LSTM(100, return_sequences=True),\n",
        "    tf.keras.layers.BatchNormalization(),\n",
        "    tf.keras.layers.GlobalMaxPooling1D(),\n",
        "    tf.keras.layers.Dense(24, activation='relu'),\n",
        "    \n",
        "    tf.keras.layers.Dense(y.shape[1], activation='softmax')\n",
        "])"
      ],
      "metadata": {
        "execution": {
          "iopub.status.busy": "2022-10-18T17:25:49.065878Z",
          "iopub.execute_input": "2022-10-18T17:25:49.066301Z",
          "iopub.status.idle": "2022-10-18T17:25:50.191965Z",
          "shell.execute_reply.started": "2022-10-18T17:25:49.066267Z",
          "shell.execute_reply": "2022-10-18T17:25:50.191089Z"
        },
        "trusted": true,
        "id": "ytO2vUw1obHp",
        "outputId": "4915e5db-64f0-428c-adde-178434a7a029"
      },
      "execution_count": null,
      "outputs": [
        {
          "name": "stderr",
          "text": "2022-10-18 17:25:49.127921: I tensorflow/core/common_runtime/process_util.cc:146] Creating new thread pool with default inter op setting: 2. Tune using inter_op_parallelism_threads for best performance.\n",
          "output_type": "stream"
        }
      ]
    },
    {
      "cell_type": "code",
      "source": [
        "model.compile(optimizer='adam', loss='categorical_crossentropy', metrics=['accuracy'])\n",
        "model.summary()"
      ],
      "metadata": {
        "execution": {
          "iopub.status.busy": "2022-10-18T17:25:56.390821Z",
          "iopub.execute_input": "2022-10-18T17:25:56.391948Z",
          "iopub.status.idle": "2022-10-18T17:25:56.413212Z",
          "shell.execute_reply.started": "2022-10-18T17:25:56.391906Z",
          "shell.execute_reply": "2022-10-18T17:25:56.411808Z"
        },
        "trusted": true,
        "id": "RBzB_HSuobHr",
        "outputId": "d55a57ad-cec7-46f7-e55c-a845cce46631"
      },
      "execution_count": null,
      "outputs": [
        {
          "name": "stdout",
          "text": "Model: \"sequential\"\n_________________________________________________________________\nLayer (type)                 Output Shape              Param #   \n=================================================================\nembedding (Embedding)        (None, 23, 50)            458400    \n_________________________________________________________________\nlstm (LSTM)                  (None, 23, 500)           1102000   \n_________________________________________________________________\nbatch_normalization (BatchNo (None, 23, 500)           2000      \n_________________________________________________________________\ndropout (Dropout)            (None, 23, 500)           0         \n_________________________________________________________________\nlstm_1 (LSTM)                (None, 23, 250)           751000    \n_________________________________________________________________\ndropout_1 (Dropout)          (None, 23, 250)           0         \n_________________________________________________________________\nbatch_normalization_1 (Batch (None, 23, 250)           1000      \n_________________________________________________________________\nlstm_2 (LSTM)                (None, 23, 100)           140400    \n_________________________________________________________________\nbatch_normalization_2 (Batch (None, 23, 100)           400       \n_________________________________________________________________\nglobal_max_pooling1d (Global (None, 100)               0         \n_________________________________________________________________\ndense (Dense)                (None, 24)                2424      \n_________________________________________________________________\ndense_1 (Dense)              (None, 6312)              157800    \n=================================================================\nTotal params: 2,615,424\nTrainable params: 2,613,724\nNon-trainable params: 1,700\n_________________________________________________________________\n",
          "output_type": "stream"
        }
      ]
    },
    {
      "cell_type": "code",
      "source": [
        "history = model.fit(train_padded_seqeunces, y_train, epochs=10, \n",
        "                    validation_data=(test_padded_seqeunces, y_test))"
      ],
      "metadata": {
        "execution": {
          "iopub.status.busy": "2022-10-18T17:26:05.695797Z",
          "iopub.execute_input": "2022-10-18T17:26:05.696197Z",
          "iopub.status.idle": "2022-10-18T17:35:02.225526Z",
          "shell.execute_reply.started": "2022-10-18T17:26:05.696164Z",
          "shell.execute_reply": "2022-10-18T17:35:02.224229Z"
        },
        "trusted": true,
        "id": "LgPVovItobHr",
        "outputId": "eb0044bc-7553-437f-e399-f2ac85d5c683"
      },
      "execution_count": null,
      "outputs": [
        {
          "name": "stderr",
          "text": "2022-10-18 17:26:06.426895: I tensorflow/compiler/mlir/mlir_graph_optimization_pass.cc:185] None of the MLIR Optimization Passes are enabled (registered 2)\n",
          "output_type": "stream"
        },
        {
          "name": "stdout",
          "text": "Epoch 1/10\n250/250 [==============================] - 59s 213ms/step - loss: 22.8858 - accuracy: 0.0362 - val_loss: 22.1003 - val_accuracy: 0.0175\nEpoch 2/10\n250/250 [==============================] - 53s 211ms/step - loss: 86.2562 - accuracy: 0.0316 - val_loss: 62.3543 - val_accuracy: 0.0445\nEpoch 3/10\n250/250 [==============================] - 53s 212ms/step - loss: 755.3975 - accuracy: 0.0205 - val_loss: 2496.1384 - val_accuracy: 0.0095\nEpoch 4/10\n250/250 [==============================] - 54s 214ms/step - loss: 2357.7878 - accuracy: 0.0156 - val_loss: 5170.4238 - val_accuracy: 0.0180\nEpoch 5/10\n250/250 [==============================] - 53s 212ms/step - loss: 4585.0132 - accuracy: 0.0150 - val_loss: 7649.1655 - val_accuracy: 0.0060\nEpoch 6/10\n250/250 [==============================] - 53s 213ms/step - loss: 7411.6787 - accuracy: 0.0139 - val_loss: 8401.3145 - val_accuracy: 0.0430\nEpoch 7/10\n250/250 [==============================] - 53s 212ms/step - loss: 10805.4814 - accuracy: 0.0143 - val_loss: 10159.5527 - val_accuracy: 0.0425\nEpoch 8/10\n250/250 [==============================] - 52s 210ms/step - loss: 14650.2881 - accuracy: 0.0129 - val_loss: 24956.7949 - val_accuracy: 0.0105\nEpoch 9/10\n250/250 [==============================] - 53s 212ms/step - loss: 18902.1895 - accuracy: 0.0141 - val_loss: 17750.3867 - val_accuracy: 0.0010\nEpoch 10/10\n250/250 [==============================] - 53s 212ms/step - loss: 23909.1191 - accuracy: 0.0137 - val_loss: 38163.6953 - val_accuracy: 0.0070\n",
          "output_type": "stream"
        }
      ]
    },
    {
      "cell_type": "code",
      "source": [
        "test_prob = model.predict(test_padded_seqeunces)\n",
        "t = 0.2\n",
        "test_pred = (test_prob >= t).astype(int)"
      ],
      "metadata": {
        "execution": {
          "iopub.status.busy": "2022-10-18T17:35:36.976207Z",
          "iopub.execute_input": "2022-10-18T17:35:36.976626Z",
          "iopub.status.idle": "2022-10-18T17:35:40.507193Z",
          "shell.execute_reply.started": "2022-10-18T17:35:36.976593Z",
          "shell.execute_reply": "2022-10-18T17:35:40.506158Z"
        },
        "trusted": true,
        "id": "GR4cDCqSobHs"
      },
      "execution_count": null,
      "outputs": []
    },
    {
      "cell_type": "code",
      "source": [
        "for i in range(10):\n",
        "    k = test.sample(1).index[0]\n",
        "    print(\"Title: \", test['text'][k])\n",
        "    print(\"Actual Tag: \", multilabel_binarizer.inverse_transform(y_test[k].reshape(1, -1))[0])\n",
        "    print(\"Predicted tag: \", multilabel_binarizer.inverse_transform(test_pred[k].reshape(1, -1))[0])\n",
        "    print('\\n')"
      ],
      "metadata": {
        "execution": {
          "iopub.status.busy": "2022-10-18T17:35:45.596330Z",
          "iopub.execute_input": "2022-10-18T17:35:45.597727Z",
          "iopub.status.idle": "2022-10-18T17:35:45.615471Z",
          "shell.execute_reply.started": "2022-10-18T17:35:45.597671Z",
          "shell.execute_reply": "2022-10-18T17:35:45.614076Z"
        },
        "trusted": true,
        "id": "XJh-o0icobHt",
        "outputId": "363c8089-d8a1-4b67-8c49-7831ab05554e"
      },
      "execution_count": null,
      "outputs": [
        {
          "name": "stdout",
          "text": "Title:  ActiveMQ mutual SSL authentication\nActual Tag:  ('activemq', 'authentication', 'configuration', 'mutual', 'ssl')\nPredicted tag:  ('django',)\n\n\nTitle:  Youtube Android API feature similar to Spotify's Media Notifications?\nActual Tag:  ('android', 'ios', 'youtube')\nPredicted tag:  ('django', 'python')\n\n\nTitle:  How to serialize SqlAlchemy join query to JSON?\nActual Tag:  ('flask-sqlalchemy', 'json', 'python', 'sqlalchemy')\nPredicted tag:  ('django',)\n\n\nTitle:  how to see jsp page in eclipse while designing?\nActual Tag:  ('eclipse',)\nPredicted tag:  ('django',)\n\n\nTitle:  Crystal Report Viewer Not Accepting Login Info\nActual Tag:  ('c#', 'crystal-reports', 'winforms')\nPredicted tag:  ('django', 'ios', 'python')\n\n\nTitle:  How to cancel a long time operation in WxPerl\nActual Tag:  ('perl', 'wx', 'wxperl', 'wxwidgets')\nPredicted tag:  ('django', 'python')\n\n\nTitle:  How to download a file with wget and save it according to the http-reported filename?\nActual Tag:  ('bash', 'http-headers', 'wget')\nPredicted tag:  ('django', 'ios', 'python')\n\n\nTitle:  Partial refund with PayPal Refund API for adaptive payments returns Internal Error (520002)\nActual Tag:  ('paypal', 'paypal-adaptive-payments', 'paypal-sandbox')\nPredicted tag:  ('django',)\n\n\nTitle:  DataView Filtering ONLY when Changing the Filter\nActual Tag:  ('slickgrid',)\nPredicted tag:  ('django', 'python')\n\n\nTitle:  adjust query for empty fields\nActual Tag:  ('c#', 'dataset', 'sql', 'visual-studio')\nPredicted tag:  ('django',)\n\n\n",
          "output_type": "stream"
        }
      ]
    }
  ]
}