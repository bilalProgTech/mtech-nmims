{
  "nbformat": 4,
  "nbformat_minor": 0,
  "metadata": {
    "colab": {
      "provenance": [],
      "collapsed_sections": []
    },
    "kernelspec": {
      "name": "python3",
      "display_name": "Python 3"
    },
    "language_info": {
      "name": "python"
    },
    "accelerator": "GPU",
    "gpuClass": "standard"
  },
  "cells": [
    {
      "cell_type": "code",
      "execution_count": null,
      "metadata": {
        "id": "jWEUtyr3Ir95",
        "colab": {
          "base_uri": "https://localhost:8080/"
        },
        "outputId": "1d2b1423-d4ff-41f8-d683-43ff53029a51"
      },
      "outputs": [
        {
          "output_type": "stream",
          "name": "stdout",
          "text": [
            "Warning: Your Kaggle API key is readable by other users on this system! To fix this, you can run 'chmod 600 /content/kaggle.json'\n",
            "Downloading emotion-detection-fer.zip to /content\n",
            " 92% 60.0M/65.2M [00:00<00:00, 220MB/s]\n",
            "100% 65.2M/65.2M [00:00<00:00, 204MB/s]\n"
          ]
        }
      ],
      "source": [
        "import os\n",
        "os.environ['KAGGLE_CONFIG_DIR'] = '/content'\n",
        "!kaggle datasets download -d ananthu017/emotion-detection-fer"
      ]
    },
    {
      "cell_type": "code",
      "source": [
        "import os\n",
        "os.environ['KAGGLE_CONFIG_DIR'] = '/content'\n",
        "!kaggle datasets download -d gaborfodor/keras-pretrained-models"
      ],
      "metadata": {
        "colab": {
          "base_uri": "https://localhost:8080/"
        },
        "id": "80uximFhIn2h",
        "outputId": "98f2a081-0667-4b8e-ab8b-987ca4777989"
      },
      "execution_count": null,
      "outputs": [
        {
          "output_type": "stream",
          "name": "stdout",
          "text": [
            "Warning: Your Kaggle API key is readable by other users on this system! To fix this, you can run 'chmod 600 /content/kaggle.json'\n",
            "Downloading keras-pretrained-models.zip to /content\n",
            "100% 941M/943M [00:09<00:00, 164MB/s]\n",
            "100% 943M/943M [00:09<00:00, 108MB/s]\n"
          ]
        }
      ]
    },
    {
      "cell_type": "code",
      "source": [
        "!unzip keras-pretrained-models.zip"
      ],
      "metadata": {
        "colab": {
          "base_uri": "https://localhost:8080/"
        },
        "id": "zrOaEtBeIuLk",
        "outputId": "b7a1256f-8de3-4fd6-f8e4-be8506fc22ec"
      },
      "execution_count": null,
      "outputs": [
        {
          "output_type": "stream",
          "name": "stdout",
          "text": [
            "Archive:  keras-pretrained-models.zip\n",
            "  inflating: Kuszma.JPG              \n",
            "  inflating: imagenet_class_index.json  \n",
            "  inflating: inception_resnet_v2_weights_tf_dim_ordering_tf_kernels.h5  \n",
            "  inflating: inception_resnet_v2_weights_tf_dim_ordering_tf_kernels_notop.h5  \n",
            "  inflating: inception_v3_weights_tf_dim_ordering_tf_kernels.h5  \n",
            "  inflating: inception_v3_weights_tf_dim_ordering_tf_kernels_notop.h5  \n",
            "  inflating: resnet50_weights_tf_dim_ordering_tf_kernels.h5  \n",
            "  inflating: resnet50_weights_tf_dim_ordering_tf_kernels_notop.h5  \n",
            "  inflating: vgg16_weights_tf_dim_ordering_tf_kernels_notop.h5  \n",
            "  inflating: xception_weights_tf_dim_ordering_tf_kernels.h5  \n",
            "  inflating: xception_weights_tf_dim_ordering_tf_kernels_notop.h5  \n"
          ]
        }
      ]
    },
    {
      "cell_type": "code",
      "source": [
        "!unzip emotion-detection-fer.zip"
      ],
      "metadata": {
        "id": "rhHh2nsezttq"
      },
      "execution_count": null,
      "outputs": []
    },
    {
      "cell_type": "code",
      "source": [
        "import pandas as pd\n",
        "import numpy as np\n",
        "import tensorflow as tf\n",
        "\n",
        "from IPython.display import Image, display\n",
        "\n",
        "import matplotlib.pyplot as plt\n",
        "import seaborn as sns\n",
        "\n",
        "import cv2\n",
        "import os\n",
        "import pandas as pd\n",
        "import matplotlib.pyplot as plt\n",
        "import numpy as np\n",
        "import random\n",
        "from sklearn.model_selection import StratifiedKFold\n",
        "\n",
        "import tensorflow as tf\n",
        "from keras.layers import Activation,Dense,Flatten,BatchNormalization,Conv2D,MaxPool2D,Dropout,Input\n",
        "from keras.preprocessing.image import ImageDataGenerator\n",
        "from keras.models import Model\n",
        "from keras.optimizers import Adam\n",
        "from keras import backend as K\n",
        "from keras.applications import VGG16\n",
        "\n",
        "import warnings\n",
        "warnings.filterwarnings('ignore')"
      ],
      "metadata": {
        "id": "_1uQ0quDz24l"
      },
      "execution_count": null,
      "outputs": []
    },
    {
      "cell_type": "code",
      "source": [
        "!nvidia-smi"
      ],
      "metadata": {
        "colab": {
          "base_uri": "https://localhost:8080/"
        },
        "id": "EK6BD2C-z6Pv",
        "outputId": "48242971-9167-4fb7-f357-94e027d311dd"
      },
      "execution_count": null,
      "outputs": [
        {
          "output_type": "stream",
          "name": "stdout",
          "text": [
            "Fri Nov  4 10:04:04 2022       \n",
            "+-----------------------------------------------------------------------------+\n",
            "| NVIDIA-SMI 460.32.03    Driver Version: 460.32.03    CUDA Version: 11.2     |\n",
            "|-------------------------------+----------------------+----------------------+\n",
            "| GPU  Name        Persistence-M| Bus-Id        Disp.A | Volatile Uncorr. ECC |\n",
            "| Fan  Temp  Perf  Pwr:Usage/Cap|         Memory-Usage | GPU-Util  Compute M. |\n",
            "|                               |                      |               MIG M. |\n",
            "|===============================+======================+======================|\n",
            "|   0  Tesla T4            Off  | 00000000:00:04.0 Off |                    0 |\n",
            "| N/A   57C    P0    29W /  70W |      0MiB / 15109MiB |      0%      Default |\n",
            "|                               |                      |                  N/A |\n",
            "+-------------------------------+----------------------+----------------------+\n",
            "                                                                               \n",
            "+-----------------------------------------------------------------------------+\n",
            "| Processes:                                                                  |\n",
            "|  GPU   GI   CI        PID   Type   Process name                  GPU Memory |\n",
            "|        ID   ID                                                   Usage      |\n",
            "|=============================================================================|\n",
            "|  No running processes found                                                 |\n",
            "+-----------------------------------------------------------------------------+\n"
          ]
        }
      ]
    },
    {
      "cell_type": "code",
      "source": [
        "files = []\n",
        "for dirname, _, filenames in os.walk('/content/train'):\n",
        "    for filename in filenames:\n",
        "        files.append(os.path.join(dirname, filename))\n",
        "\n",
        "data = pd.DataFrame({'filename': files})\n",
        "data['class'] = data['filename'].str.split('/').str[-2]\n",
        "data = data.sample(frac=1)\n",
        "data = data.reset_index(drop=True)\n",
        "data.head()"
      ],
      "metadata": {
        "colab": {
          "base_uri": "https://localhost:8080/",
          "height": 206
        },
        "id": "mtD3si95z8O9",
        "outputId": "6699e4a8-eb33-4c5e-e3e0-0f404c714317"
      },
      "execution_count": null,
      "outputs": [
        {
          "output_type": "execute_result",
          "data": {
            "text/plain": [
              "                            filename    class\n",
              "0  /content/train/fearful/im1369.png  fearful\n",
              "1   /content/train/fearful/im140.png  fearful\n",
              "2     /content/train/happy/im711.png    happy\n",
              "3  /content/train/neutral/im3500.png  neutral\n",
              "4    /content/train/angry/im2366.png    angry"
            ],
            "text/html": [
              "\n",
              "  <div id=\"df-79c020cc-6f49-419a-acf3-bba3c3aefc40\">\n",
              "    <div class=\"colab-df-container\">\n",
              "      <div>\n",
              "<style scoped>\n",
              "    .dataframe tbody tr th:only-of-type {\n",
              "        vertical-align: middle;\n",
              "    }\n",
              "\n",
              "    .dataframe tbody tr th {\n",
              "        vertical-align: top;\n",
              "    }\n",
              "\n",
              "    .dataframe thead th {\n",
              "        text-align: right;\n",
              "    }\n",
              "</style>\n",
              "<table border=\"1\" class=\"dataframe\">\n",
              "  <thead>\n",
              "    <tr style=\"text-align: right;\">\n",
              "      <th></th>\n",
              "      <th>filename</th>\n",
              "      <th>class</th>\n",
              "    </tr>\n",
              "  </thead>\n",
              "  <tbody>\n",
              "    <tr>\n",
              "      <th>0</th>\n",
              "      <td>/content/train/fearful/im1369.png</td>\n",
              "      <td>fearful</td>\n",
              "    </tr>\n",
              "    <tr>\n",
              "      <th>1</th>\n",
              "      <td>/content/train/fearful/im140.png</td>\n",
              "      <td>fearful</td>\n",
              "    </tr>\n",
              "    <tr>\n",
              "      <th>2</th>\n",
              "      <td>/content/train/happy/im711.png</td>\n",
              "      <td>happy</td>\n",
              "    </tr>\n",
              "    <tr>\n",
              "      <th>3</th>\n",
              "      <td>/content/train/neutral/im3500.png</td>\n",
              "      <td>neutral</td>\n",
              "    </tr>\n",
              "    <tr>\n",
              "      <th>4</th>\n",
              "      <td>/content/train/angry/im2366.png</td>\n",
              "      <td>angry</td>\n",
              "    </tr>\n",
              "  </tbody>\n",
              "</table>\n",
              "</div>\n",
              "      <button class=\"colab-df-convert\" onclick=\"convertToInteractive('df-79c020cc-6f49-419a-acf3-bba3c3aefc40')\"\n",
              "              title=\"Convert this dataframe to an interactive table.\"\n",
              "              style=\"display:none;\">\n",
              "        \n",
              "  <svg xmlns=\"http://www.w3.org/2000/svg\" height=\"24px\"viewBox=\"0 0 24 24\"\n",
              "       width=\"24px\">\n",
              "    <path d=\"M0 0h24v24H0V0z\" fill=\"none\"/>\n",
              "    <path d=\"M18.56 5.44l.94 2.06.94-2.06 2.06-.94-2.06-.94-.94-2.06-.94 2.06-2.06.94zm-11 1L8.5 8.5l.94-2.06 2.06-.94-2.06-.94L8.5 2.5l-.94 2.06-2.06.94zm10 10l.94 2.06.94-2.06 2.06-.94-2.06-.94-.94-2.06-.94 2.06-2.06.94z\"/><path d=\"M17.41 7.96l-1.37-1.37c-.4-.4-.92-.59-1.43-.59-.52 0-1.04.2-1.43.59L10.3 9.45l-7.72 7.72c-.78.78-.78 2.05 0 2.83L4 21.41c.39.39.9.59 1.41.59.51 0 1.02-.2 1.41-.59l7.78-7.78 2.81-2.81c.8-.78.8-2.07 0-2.86zM5.41 20L4 18.59l7.72-7.72 1.47 1.35L5.41 20z\"/>\n",
              "  </svg>\n",
              "      </button>\n",
              "      \n",
              "  <style>\n",
              "    .colab-df-container {\n",
              "      display:flex;\n",
              "      flex-wrap:wrap;\n",
              "      gap: 12px;\n",
              "    }\n",
              "\n",
              "    .colab-df-convert {\n",
              "      background-color: #E8F0FE;\n",
              "      border: none;\n",
              "      border-radius: 50%;\n",
              "      cursor: pointer;\n",
              "      display: none;\n",
              "      fill: #1967D2;\n",
              "      height: 32px;\n",
              "      padding: 0 0 0 0;\n",
              "      width: 32px;\n",
              "    }\n",
              "\n",
              "    .colab-df-convert:hover {\n",
              "      background-color: #E2EBFA;\n",
              "      box-shadow: 0px 1px 2px rgba(60, 64, 67, 0.3), 0px 1px 3px 1px rgba(60, 64, 67, 0.15);\n",
              "      fill: #174EA6;\n",
              "    }\n",
              "\n",
              "    [theme=dark] .colab-df-convert {\n",
              "      background-color: #3B4455;\n",
              "      fill: #D2E3FC;\n",
              "    }\n",
              "\n",
              "    [theme=dark] .colab-df-convert:hover {\n",
              "      background-color: #434B5C;\n",
              "      box-shadow: 0px 1px 3px 1px rgba(0, 0, 0, 0.15);\n",
              "      filter: drop-shadow(0px 1px 2px rgba(0, 0, 0, 0.3));\n",
              "      fill: #FFFFFF;\n",
              "    }\n",
              "  </style>\n",
              "\n",
              "      <script>\n",
              "        const buttonEl =\n",
              "          document.querySelector('#df-79c020cc-6f49-419a-acf3-bba3c3aefc40 button.colab-df-convert');\n",
              "        buttonEl.style.display =\n",
              "          google.colab.kernel.accessAllowed ? 'block' : 'none';\n",
              "\n",
              "        async function convertToInteractive(key) {\n",
              "          const element = document.querySelector('#df-79c020cc-6f49-419a-acf3-bba3c3aefc40');\n",
              "          const dataTable =\n",
              "            await google.colab.kernel.invokeFunction('convertToInteractive',\n",
              "                                                     [key], {});\n",
              "          if (!dataTable) return;\n",
              "\n",
              "          const docLinkHtml = 'Like what you see? Visit the ' +\n",
              "            '<a target=\"_blank\" href=https://colab.research.google.com/notebooks/data_table.ipynb>data table notebook</a>'\n",
              "            + ' to learn more about interactive tables.';\n",
              "          element.innerHTML = '';\n",
              "          dataTable['output_type'] = 'display_data';\n",
              "          await google.colab.output.renderOutput(dataTable, element);\n",
              "          const docLink = document.createElement('div');\n",
              "          docLink.innerHTML = docLinkHtml;\n",
              "          element.appendChild(docLink);\n",
              "        }\n",
              "      </script>\n",
              "    </div>\n",
              "  </div>\n",
              "  "
            ]
          },
          "metadata": {},
          "execution_count": 7
        }
      ]
    },
    {
      "cell_type": "code",
      "source": [
        "data.shape"
      ],
      "metadata": {
        "colab": {
          "base_uri": "https://localhost:8080/"
        },
        "id": "WMwpYSCw1Wsu",
        "outputId": "9e388903-8b90-4a3b-efc3-93eaf2a57d65"
      },
      "execution_count": null,
      "outputs": [
        {
          "output_type": "execute_result",
          "data": {
            "text/plain": [
              "(28709, 2)"
            ]
          },
          "metadata": {},
          "execution_count": 8
        }
      ]
    },
    {
      "cell_type": "code",
      "source": [
        "from sklearn.model_selection import train_test_split"
      ],
      "metadata": {
        "id": "vPx7nGb51pZm"
      },
      "execution_count": null,
      "outputs": []
    },
    {
      "cell_type": "code",
      "source": [
        "train, test = train_test_split(data, test_size=0.20)\n",
        "train = train.reset_index(drop=True)\n",
        "test = test.reset_index(drop=True)\n",
        "\n",
        "train.shape, test.shape"
      ],
      "metadata": {
        "colab": {
          "base_uri": "https://localhost:8080/"
        },
        "id": "v_U-SxuA1a7Y",
        "outputId": "9536d3d7-cea9-4f63-e999-a47d261fe3a7"
      },
      "execution_count": null,
      "outputs": [
        {
          "output_type": "execute_result",
          "data": {
            "text/plain": [
              "((22967, 2), (5742, 2))"
            ]
          },
          "metadata": {},
          "execution_count": 10
        }
      ]
    },
    {
      "cell_type": "code",
      "source": [
        "train.head()"
      ],
      "metadata": {
        "colab": {
          "base_uri": "https://localhost:8080/",
          "height": 206
        },
        "id": "hJM9fIeVFcf_",
        "outputId": "22101d43-2bd6-424d-df24-9600364c7ab3"
      },
      "execution_count": null,
      "outputs": [
        {
          "output_type": "execute_result",
          "data": {
            "text/plain": [
              "                           filename    class\n",
              "0   /content/train/happy/im1741.png    happy\n",
              "1     /content/train/sad/im4088.png      sad\n",
              "2   /content/train/happy/im1158.png    happy\n",
              "3  /content/train/neutral/im768.png  neutral\n",
              "4     /content/train/sad/im4372.png      sad"
            ],
            "text/html": [
              "\n",
              "  <div id=\"df-49810b6c-3ad0-467b-8659-5d4cc0796d8a\">\n",
              "    <div class=\"colab-df-container\">\n",
              "      <div>\n",
              "<style scoped>\n",
              "    .dataframe tbody tr th:only-of-type {\n",
              "        vertical-align: middle;\n",
              "    }\n",
              "\n",
              "    .dataframe tbody tr th {\n",
              "        vertical-align: top;\n",
              "    }\n",
              "\n",
              "    .dataframe thead th {\n",
              "        text-align: right;\n",
              "    }\n",
              "</style>\n",
              "<table border=\"1\" class=\"dataframe\">\n",
              "  <thead>\n",
              "    <tr style=\"text-align: right;\">\n",
              "      <th></th>\n",
              "      <th>filename</th>\n",
              "      <th>class</th>\n",
              "    </tr>\n",
              "  </thead>\n",
              "  <tbody>\n",
              "    <tr>\n",
              "      <th>0</th>\n",
              "      <td>/content/train/happy/im1741.png</td>\n",
              "      <td>happy</td>\n",
              "    </tr>\n",
              "    <tr>\n",
              "      <th>1</th>\n",
              "      <td>/content/train/sad/im4088.png</td>\n",
              "      <td>sad</td>\n",
              "    </tr>\n",
              "    <tr>\n",
              "      <th>2</th>\n",
              "      <td>/content/train/happy/im1158.png</td>\n",
              "      <td>happy</td>\n",
              "    </tr>\n",
              "    <tr>\n",
              "      <th>3</th>\n",
              "      <td>/content/train/neutral/im768.png</td>\n",
              "      <td>neutral</td>\n",
              "    </tr>\n",
              "    <tr>\n",
              "      <th>4</th>\n",
              "      <td>/content/train/sad/im4372.png</td>\n",
              "      <td>sad</td>\n",
              "    </tr>\n",
              "  </tbody>\n",
              "</table>\n",
              "</div>\n",
              "      <button class=\"colab-df-convert\" onclick=\"convertToInteractive('df-49810b6c-3ad0-467b-8659-5d4cc0796d8a')\"\n",
              "              title=\"Convert this dataframe to an interactive table.\"\n",
              "              style=\"display:none;\">\n",
              "        \n",
              "  <svg xmlns=\"http://www.w3.org/2000/svg\" height=\"24px\"viewBox=\"0 0 24 24\"\n",
              "       width=\"24px\">\n",
              "    <path d=\"M0 0h24v24H0V0z\" fill=\"none\"/>\n",
              "    <path d=\"M18.56 5.44l.94 2.06.94-2.06 2.06-.94-2.06-.94-.94-2.06-.94 2.06-2.06.94zm-11 1L8.5 8.5l.94-2.06 2.06-.94-2.06-.94L8.5 2.5l-.94 2.06-2.06.94zm10 10l.94 2.06.94-2.06 2.06-.94-2.06-.94-.94-2.06-.94 2.06-2.06.94z\"/><path d=\"M17.41 7.96l-1.37-1.37c-.4-.4-.92-.59-1.43-.59-.52 0-1.04.2-1.43.59L10.3 9.45l-7.72 7.72c-.78.78-.78 2.05 0 2.83L4 21.41c.39.39.9.59 1.41.59.51 0 1.02-.2 1.41-.59l7.78-7.78 2.81-2.81c.8-.78.8-2.07 0-2.86zM5.41 20L4 18.59l7.72-7.72 1.47 1.35L5.41 20z\"/>\n",
              "  </svg>\n",
              "      </button>\n",
              "      \n",
              "  <style>\n",
              "    .colab-df-container {\n",
              "      display:flex;\n",
              "      flex-wrap:wrap;\n",
              "      gap: 12px;\n",
              "    }\n",
              "\n",
              "    .colab-df-convert {\n",
              "      background-color: #E8F0FE;\n",
              "      border: none;\n",
              "      border-radius: 50%;\n",
              "      cursor: pointer;\n",
              "      display: none;\n",
              "      fill: #1967D2;\n",
              "      height: 32px;\n",
              "      padding: 0 0 0 0;\n",
              "      width: 32px;\n",
              "    }\n",
              "\n",
              "    .colab-df-convert:hover {\n",
              "      background-color: #E2EBFA;\n",
              "      box-shadow: 0px 1px 2px rgba(60, 64, 67, 0.3), 0px 1px 3px 1px rgba(60, 64, 67, 0.15);\n",
              "      fill: #174EA6;\n",
              "    }\n",
              "\n",
              "    [theme=dark] .colab-df-convert {\n",
              "      background-color: #3B4455;\n",
              "      fill: #D2E3FC;\n",
              "    }\n",
              "\n",
              "    [theme=dark] .colab-df-convert:hover {\n",
              "      background-color: #434B5C;\n",
              "      box-shadow: 0px 1px 3px 1px rgba(0, 0, 0, 0.15);\n",
              "      filter: drop-shadow(0px 1px 2px rgba(0, 0, 0, 0.3));\n",
              "      fill: #FFFFFF;\n",
              "    }\n",
              "  </style>\n",
              "\n",
              "      <script>\n",
              "        const buttonEl =\n",
              "          document.querySelector('#df-49810b6c-3ad0-467b-8659-5d4cc0796d8a button.colab-df-convert');\n",
              "        buttonEl.style.display =\n",
              "          google.colab.kernel.accessAllowed ? 'block' : 'none';\n",
              "\n",
              "        async function convertToInteractive(key) {\n",
              "          const element = document.querySelector('#df-49810b6c-3ad0-467b-8659-5d4cc0796d8a');\n",
              "          const dataTable =\n",
              "            await google.colab.kernel.invokeFunction('convertToInteractive',\n",
              "                                                     [key], {});\n",
              "          if (!dataTable) return;\n",
              "\n",
              "          const docLinkHtml = 'Like what you see? Visit the ' +\n",
              "            '<a target=\"_blank\" href=https://colab.research.google.com/notebooks/data_table.ipynb>data table notebook</a>'\n",
              "            + ' to learn more about interactive tables.';\n",
              "          element.innerHTML = '';\n",
              "          dataTable['output_type'] = 'display_data';\n",
              "          await google.colab.output.renderOutput(dataTable, element);\n",
              "          const docLink = document.createElement('div');\n",
              "          docLink.innerHTML = docLinkHtml;\n",
              "          element.appendChild(docLink);\n",
              "        }\n",
              "      </script>\n",
              "    </div>\n",
              "  </div>\n",
              "  "
            ]
          },
          "metadata": {},
          "execution_count": 11
        }
      ]
    },
    {
      "cell_type": "code",
      "source": [
        "datagen = ImageDataGenerator(validation_split=0.2, rescale=1./255)\n",
        "\n",
        "train_generator = datagen.flow_from_dataframe(dataframe = train,\n",
        "                                              directory = '/content/train',\n",
        "                                              class_mode='categorical',\n",
        "                                              batch_size = 32,\n",
        "                                              target_size=(224, 224),\n",
        "                                              subset='training',\n",
        "                                              validate_filenames=False)\n",
        "\n",
        "validation_generator = datagen.flow_from_dataframe(dataframe = train, \n",
        "                                                   directory = '/content/train',\n",
        "                                                   class_mode='categorical',\n",
        "                                                   batch_size = 32, \n",
        "                                                   target_size=(224, 224), \n",
        "                                                   subset='validation',\n",
        "                                                   validate_filenames=False)"
      ],
      "metadata": {
        "colab": {
          "base_uri": "https://localhost:8080/"
        },
        "id": "S1BAdsaQGYFW",
        "outputId": "9e2cb7d3-5ffc-4e59-974b-a1c64fe4a6f5"
      },
      "execution_count": null,
      "outputs": [
        {
          "output_type": "stream",
          "name": "stdout",
          "text": [
            "Found 18374 non-validated image filenames belonging to 7 classes.\n",
            "Found 4593 non-validated image filenames belonging to 7 classes.\n"
          ]
        }
      ]
    },
    {
      "cell_type": "markdown",
      "source": [
        "###VGG-16 Model"
      ],
      "metadata": {
        "id": "I8j6D6Ln2G8p"
      }
    },
    {
      "cell_type": "code",
      "source": [
        "tf.keras.backend.clear_session()\n",
        "\n",
        "from keras.applications.vgg16 import VGG16\n",
        "\n",
        "image_size = 224\n",
        "\n",
        "weight_path = '/content/vgg16_weights_tf_dim_ordering_tf_kernels_notop.h5'\n",
        "vgg16_base_model = VGG16(weights=weight_path, \n",
        "                         include_top=False, \n",
        "                         input_shape=(image_size, image_size, 3))\n",
        "\n",
        "for layer in vgg16_base_model.layers:\n",
        "    layer.trainable = False\n",
        "\n",
        "vgg16_pretrained_model = tf.keras.Sequential([\n",
        "    vgg16_base_model,\n",
        "    tf.keras.layers.Flatten(),\n",
        "    tf.keras.layers.Dense(256, activation='relu'),\n",
        "    tf.keras.layers.Dense(7, activation='softmax')\n",
        "])\n",
        "vgg16_pretrained_model.compile(optimizer='adam', loss='categorical_crossentropy', metrics=['accuracy'])\n",
        "vgg16_pretrained_model.summary()"
      ],
      "metadata": {
        "colab": {
          "base_uri": "https://localhost:8080/"
        },
        "id": "RTy9cHtpAFcZ",
        "outputId": "8e3e9cc8-bc23-4ee2-e9ff-54c8e0cf2691"
      },
      "execution_count": null,
      "outputs": [
        {
          "output_type": "stream",
          "name": "stdout",
          "text": [
            "Model: \"sequential\"\n",
            "_________________________________________________________________\n",
            " Layer (type)                Output Shape              Param #   \n",
            "=================================================================\n",
            " vgg16 (Functional)          (None, 7, 7, 512)         14714688  \n",
            "                                                                 \n",
            " flatten (Flatten)           (None, 25088)             0         \n",
            "                                                                 \n",
            " dense (Dense)               (None, 256)               6422784   \n",
            "                                                                 \n",
            " dense_1 (Dense)             (None, 7)                 1799      \n",
            "                                                                 \n",
            "=================================================================\n",
            "Total params: 21,139,271\n",
            "Trainable params: 6,424,583\n",
            "Non-trainable params: 14,714,688\n",
            "_________________________________________________________________\n"
          ]
        }
      ]
    },
    {
      "cell_type": "code",
      "source": [
        "callback = tf.keras.callbacks.EarlyStopping(monitor='loss', patience=2)\n",
        "history_vgg16 = vgg16_pretrained_model.fit(train_generator, epochs=10, callbacks=callback)"
      ],
      "metadata": {
        "colab": {
          "base_uri": "https://localhost:8080/"
        },
        "id": "AsXSh1sIJeTF",
        "outputId": "f7e71767-cfde-4a24-df4c-c9f4faf492af"
      },
      "execution_count": null,
      "outputs": [
        {
          "output_type": "stream",
          "name": "stdout",
          "text": [
            "Epoch 1/10\n",
            "575/575 [==============================] - 107s 164ms/step - loss: 1.5997 - accuracy: 0.4239\n",
            "Epoch 2/10\n",
            "575/575 [==============================] - 96s 167ms/step - loss: 1.2575 - accuracy: 0.5249\n",
            "Epoch 3/10\n",
            "575/575 [==============================] - 96s 168ms/step - loss: 1.1453 - accuracy: 0.5707\n",
            "Epoch 4/10\n",
            "575/575 [==============================] - 96s 168ms/step - loss: 1.0525 - accuracy: 0.6083\n",
            "Epoch 5/10\n",
            "575/575 [==============================] - 96s 168ms/step - loss: 0.9673 - accuracy: 0.6438\n",
            "Epoch 6/10\n",
            "575/575 [==============================] - 96s 168ms/step - loss: 0.8798 - accuracy: 0.6778\n",
            "Epoch 7/10\n",
            "575/575 [==============================] - 96s 167ms/step - loss: 0.8000 - accuracy: 0.7090\n",
            "Epoch 8/10\n",
            "575/575 [==============================] - 96s 168ms/step - loss: 0.7277 - accuracy: 0.7356\n",
            "Epoch 9/10\n",
            "575/575 [==============================] - 96s 167ms/step - loss: 0.6497 - accuracy: 0.7678\n",
            "Epoch 10/10\n",
            "575/575 [==============================] - 96s 167ms/step - loss: 0.6193 - accuracy: 0.7782\n"
          ]
        }
      ]
    },
    {
      "cell_type": "markdown",
      "source": [
        "# InceptionV3"
      ],
      "metadata": {
        "id": "SH1GeByVKSnj"
      }
    },
    {
      "cell_type": "code",
      "source": [
        "tf.keras.backend.clear_session()\n",
        "\n",
        "from keras.applications.inception_v3 import InceptionV3\n",
        "\n",
        "weight_path = '../content/inception_v3_weights_tf_dim_ordering_tf_kernels_notop.h5'\n",
        "inception_base_model = InceptionV3(weights=weight_path, \n",
        "                         include_top=False, \n",
        "                         input_shape=(image_size, image_size, 3))\n",
        "\n",
        "for layer in inception_base_model.layers:\n",
        "    layer.trainable = False\n",
        "\n",
        "inception_pretrained_model = tf.keras.Sequential([\n",
        "    inception_base_model,\n",
        "    tf.keras.layers.Flatten(),\n",
        "    tf.keras.layers.Dense(256, activation='relu'),\n",
        "    tf.keras.layers.Dense(7, activation='softmax')\n",
        "])\n",
        "inception_pretrained_model.compile(optimizer='adam', loss='categorical_crossentropy', metrics=['accuracy'])\n",
        "inception_pretrained_model.summary()"
      ],
      "metadata": {
        "colab": {
          "base_uri": "https://localhost:8080/"
        },
        "id": "0DkvP9dtJeRD",
        "outputId": "be09d587-aad4-47c9-e382-c4c9574351d8"
      },
      "execution_count": null,
      "outputs": [
        {
          "output_type": "stream",
          "name": "stdout",
          "text": [
            "Model: \"sequential\"\n",
            "_________________________________________________________________\n",
            " Layer (type)                Output Shape              Param #   \n",
            "=================================================================\n",
            " inception_v3 (Functional)   (None, 5, 5, 2048)        21802784  \n",
            "                                                                 \n",
            " flatten (Flatten)           (None, 51200)             0         \n",
            "                                                                 \n",
            " dense (Dense)               (None, 256)               13107456  \n",
            "                                                                 \n",
            " dense_1 (Dense)             (None, 7)                 1799      \n",
            "                                                                 \n",
            "=================================================================\n",
            "Total params: 34,912,039\n",
            "Trainable params: 13,109,255\n",
            "Non-trainable params: 21,802,784\n",
            "_________________________________________________________________\n"
          ]
        }
      ]
    },
    {
      "cell_type": "code",
      "source": [
        "history_inception = inception_pretrained_model.fit(train_generator, epochs=10, callbacks=callback)"
      ],
      "metadata": {
        "colab": {
          "base_uri": "https://localhost:8080/"
        },
        "id": "7dLLx7kLJeNX",
        "outputId": "912f3473-7b20-4f04-8d40-13fe4f4c7f92"
      },
      "execution_count": null,
      "outputs": [
        {
          "output_type": "stream",
          "name": "stdout",
          "text": [
            "Epoch 1/10\n",
            "575/575 [==============================] - 53s 81ms/step - loss: 2.1760 - accuracy: 0.3722\n",
            "Epoch 2/10\n",
            "575/575 [==============================] - 46s 80ms/step - loss: 1.4223 - accuracy: 0.4602\n",
            "Epoch 3/10\n",
            "575/575 [==============================] - 46s 80ms/step - loss: 1.3011 - accuracy: 0.5036\n",
            "Epoch 4/10\n",
            "575/575 [==============================] - 47s 81ms/step - loss: 1.1964 - accuracy: 0.5439\n",
            "Epoch 5/10\n",
            "575/575 [==============================] - 46s 79ms/step - loss: 1.1414 - accuracy: 0.5662\n",
            "Epoch 6/10\n",
            "575/575 [==============================] - 45s 79ms/step - loss: 1.0465 - accuracy: 0.5988\n",
            "Epoch 7/10\n",
            "575/575 [==============================] - 46s 79ms/step - loss: 0.9727 - accuracy: 0.6298\n",
            "Epoch 8/10\n",
            "575/575 [==============================] - 46s 80ms/step - loss: 0.9078 - accuracy: 0.6551\n",
            "Epoch 9/10\n",
            "575/575 [==============================] - 46s 81ms/step - loss: 0.8524 - accuracy: 0.6775\n",
            "Epoch 10/10\n",
            "575/575 [==============================] - 45s 79ms/step - loss: 0.7862 - accuracy: 0.7049\n"
          ]
        }
      ]
    },
    {
      "cell_type": "code",
      "source": [
        "inception_pretrained_model.evaluate(validation_generator)"
      ],
      "metadata": {
        "colab": {
          "base_uri": "https://localhost:8080/"
        },
        "id": "aLwVoxmNJeK-",
        "outputId": "a1a852f5-1a1f-4e2c-c546-f2ea2d28ee75"
      },
      "execution_count": null,
      "outputs": [
        {
          "output_type": "stream",
          "name": "stdout",
          "text": [
            "144/144 [==============================] - 14s 89ms/step - loss: 1.6848 - accuracy: 0.4703\n"
          ]
        },
        {
          "output_type": "execute_result",
          "data": {
            "text/plain": [
              "[1.6847504377365112, 0.47028085589408875]"
            ]
          },
          "metadata": {},
          "execution_count": 25
        }
      ]
    },
    {
      "cell_type": "markdown",
      "source": [
        "# Xception"
      ],
      "metadata": {
        "id": "X2t_Mb3DKa0g"
      }
    },
    {
      "cell_type": "code",
      "source": [
        "tf.keras.backend.clear_session()\n",
        "\n",
        "from keras.applications.xception import Xception\n",
        "\n",
        "weight_path = '../content/xception_weights_tf_dim_ordering_tf_kernels_notop.h5'\n",
        "xception_base_model = Xception(weights=weight_path, \n",
        "                         include_top=False, \n",
        "                         input_shape=(image_size, image_size, 3))\n",
        "\n",
        "for layer in xception_base_model.layers:\n",
        "    layer.trainable = False\n",
        "\n",
        "xception_pretrained_model = tf.keras.Sequential([\n",
        "    xception_base_model,\n",
        "    tf.keras.layers.Flatten(),\n",
        "    tf.keras.layers.Dense(256, activation='relu'),\n",
        "    tf.keras.layers.Dense(7, activation='softmax')\n",
        "])\n",
        "xception_pretrained_model.compile(optimizer='adam', loss='categorical_crossentropy', metrics=['accuracy'])\n",
        "xception_pretrained_model.summary()"
      ],
      "metadata": {
        "colab": {
          "base_uri": "https://localhost:8080/"
        },
        "id": "39FRiirKJeId",
        "outputId": "0a407d4e-51d7-4c86-cc2a-f0391c2321c3"
      },
      "execution_count": null,
      "outputs": [
        {
          "output_type": "stream",
          "name": "stdout",
          "text": [
            "Model: \"sequential\"\n",
            "_________________________________________________________________\n",
            " Layer (type)                Output Shape              Param #   \n",
            "=================================================================\n",
            " xception (Functional)       (None, 7, 7, 2048)        20861480  \n",
            "                                                                 \n",
            " flatten (Flatten)           (None, 100352)            0         \n",
            "                                                                 \n",
            " dense (Dense)               (None, 256)               25690368  \n",
            "                                                                 \n",
            " dense_1 (Dense)             (None, 7)                 1799      \n",
            "                                                                 \n",
            "=================================================================\n",
            "Total params: 46,553,647\n",
            "Trainable params: 25,692,167\n",
            "Non-trainable params: 20,861,480\n",
            "_________________________________________________________________\n"
          ]
        }
      ]
    },
    {
      "cell_type": "code",
      "source": [
        "history_inception_xception = xception_pretrained_model.fit(train_generator, epochs=10, callbacks=callback)"
      ],
      "metadata": {
        "colab": {
          "base_uri": "https://localhost:8080/"
        },
        "id": "-oYTmN8GJeFr",
        "outputId": "18d5e54d-3d04-4605-c12b-3b384e1014fc"
      },
      "execution_count": null,
      "outputs": [
        {
          "output_type": "stream",
          "name": "stdout",
          "text": [
            "Epoch 1/10\n",
            "575/575 [==============================] - 89s 148ms/step - loss: 1.8905 - accuracy: 0.3874\n",
            "Epoch 2/10\n",
            "575/575 [==============================] - 84s 146ms/step - loss: 1.3442 - accuracy: 0.4843\n",
            "Epoch 3/10\n",
            "575/575 [==============================] - 84s 147ms/step - loss: 1.2125 - accuracy: 0.5340\n",
            "Epoch 4/10\n",
            "575/575 [==============================] - 84s 146ms/step - loss: 1.0972 - accuracy: 0.5790\n",
            "Epoch 5/10\n",
            "575/575 [==============================] - 84s 146ms/step - loss: 0.9929 - accuracy: 0.6244\n",
            "Epoch 6/10\n",
            "575/575 [==============================] - 84s 146ms/step - loss: 0.8729 - accuracy: 0.6714\n",
            "Epoch 7/10\n",
            "575/575 [==============================] - 84s 145ms/step - loss: 0.7759 - accuracy: 0.7076\n",
            "Epoch 8/10\n",
            "575/575 [==============================] - 84s 145ms/step - loss: 0.6954 - accuracy: 0.7397\n",
            "Epoch 9/10\n",
            "575/575 [==============================] - 84s 146ms/step - loss: 0.6003 - accuracy: 0.7776\n",
            "Epoch 10/10\n",
            "575/575 [==============================] - 84s 146ms/step - loss: 0.5462 - accuracy: 0.7980\n"
          ]
        }
      ]
    },
    {
      "cell_type": "code",
      "source": [
        "xception_pretrained_model.evaluate(validation_generator)"
      ],
      "metadata": {
        "colab": {
          "base_uri": "https://localhost:8080/"
        },
        "id": "G83JS_kBJeDX",
        "outputId": "ceee31fd-0c83-4cdf-eeb5-dabf1136db58"
      },
      "execution_count": null,
      "outputs": [
        {
          "output_type": "stream",
          "name": "stdout",
          "text": [
            "144/144 [==============================] - 22s 148ms/step - loss: 2.1755 - accuracy: 0.4775\n"
          ]
        },
        {
          "output_type": "execute_result",
          "data": {
            "text/plain": [
              "[2.1754977703094482, 0.4774657189846039]"
            ]
          },
          "metadata": {},
          "execution_count": 28
        }
      ]
    }
  ]
}