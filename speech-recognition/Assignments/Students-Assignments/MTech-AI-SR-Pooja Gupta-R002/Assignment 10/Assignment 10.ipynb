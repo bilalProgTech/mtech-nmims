{
 "cells": [
  {
   "cell_type": "markdown",
   "metadata": {},
   "source": [
    "## Classifying happy and sad files"
   ]
  },
  {
   "cell_type": "code",
   "execution_count": 3,
   "metadata": {
    "execution": {
     "iopub.execute_input": "2022-10-25T11:46:13.426575Z",
     "iopub.status.busy": "2022-10-25T11:46:13.425679Z",
     "iopub.status.idle": "2022-10-25T11:46:15.544265Z",
     "shell.execute_reply": "2022-10-25T11:46:15.543123Z",
     "shell.execute_reply.started": "2022-10-25T11:46:13.426539Z"
    }
   },
   "outputs": [
    {
     "name": "stdout",
     "output_type": "stream",
     "text": [
      "Count =  769\n"
     ]
    }
   ],
   "source": [
    "# This Python 3 environment comes with many helpful analytics libraries installed\n",
    "# It is defined by the kaggle/python Docker image: https://github.com/kaggle/docker-python\n",
    "# For example, here's several helpful packages to load\n",
    "\n",
    "import numpy as np # linear algebra\n",
    "import pandas as pd # data processing, CSV file I/O (e.g. pd.read_csv)\n",
    "\n",
    "# Input data files are available in the read-only \"../input/\" directory\n",
    "# For example, running this (by clicking run or pressing Shift+Enter) will list all files under the input directory\n",
    "\n",
    "import os\n",
    "import shutil\n",
    "\n",
    "os.makedirs(\"/kaggle/working/Happy\")\n",
    "os.makedirs(\"/kaggle/working/Sad\")\n",
    "\n",
    "name = ('03-01-03-01-01-01',\n",
    "        '03-01-03-01-01-02',\n",
    "        '03-01-03-01-02-01',\n",
    "        '03-01-03-01-02-02',\n",
    "        '03-01-03-02-01-01',\n",
    "        '03-01-03-02-01-02',\n",
    "        '03-01-03-02-02-01',\n",
    "        '03-01-03-02-02-02',\n",
    "        '03-01-04-01-01-01',\n",
    "        '03-01-04-01-01-02',\n",
    "        '03-01-04-01-02-01',\n",
    "        '03-01-04-01-02-02',\n",
    "        '03-01-04-02-01-01',\n",
    "        '03-01-04-02-01-02',\n",
    "        '03-01-04-02-02-01',\n",
    "        '03-01-04-02-02-02')\n",
    "\n",
    "i = 1\n",
    "for dirname, _, filenames in os.walk('/kaggle/input'):\n",
    "    for filename in filenames:\n",
    "        if filename.startswith(name):\n",
    "            i = i+1\n",
    "            if filename.startswith((\"03-01-03\")):\n",
    "                shutil.copy(os.path.join(dirname, filename),\"./Happy/\")\n",
    "            else:\n",
    "                shutil.copy(os.path.join(dirname, filename),\"./Sad/\")\n",
    "            \n",
    "print(\"Count = \",i)\n",
    "# You can write up to 20GB to the current directory (/kaggle/working/) that gets preserved as output when you create a version using \"Save & Run All\" \n",
    "# You can also write temporary files to /kaggle/temp/, but they won't be saved outside of the current session"
   ]
  },
  {
   "cell_type": "code",
   "execution_count": 4,
   "metadata": {
    "execution": {
     "iopub.execute_input": "2022-10-25T11:46:15.546601Z",
     "iopub.status.busy": "2022-10-25T11:46:15.546132Z",
     "iopub.status.idle": "2022-10-25T11:46:16.301221Z",
     "shell.execute_reply": "2022-10-25T11:46:16.300137Z",
     "shell.execute_reply.started": "2022-10-25T11:46:15.546562Z"
    }
   },
   "outputs": [],
   "source": [
    "import librosa\n",
    "import librosa.display\n",
    "from sklearn.preprocessing import minmax_scale\n",
    "import IPython.display as ipd\n",
    "import matplotlib.pyplot as plt\n",
    "%matplotlib inline\n",
    "\n",
    "from sklearn.linear_model import LogisticRegression\n",
    "from sklearn.model_selection import train_test_split\n",
    "from sklearn.preprocessing import StandardScaler\n",
    "from sklearn.metrics import ConfusionMatrixDisplay,accuracy_score\n",
    "import tensorflow as tf\n",
    "from tensorflow.keras import regularizers\\\n",
    "from sklearn.model_selection import train_test_split\n",
    "\n",
    "import tensorflow as tf\n",
    "from tensorflow.python.keras.preprocessing.image import ImageDataGenerator\n",
    "from tensorflow.keras.layers import Conv2D, MaxPooling2D, Dropout, UpSampling2D,add\n",
    "\n",
    "import keras\n",
    "from matplotlib import pyplot as plt\n",
    "import numpy as np\n",
    "from keras.layers import Input,Conv2D,MaxPooling2D,UpSampling2D\n",
    "from keras.models import Model\n",
    "import soundfile\n",
    "from tensorflow import keras\n",
    "from tensorflow.keras import layers\n",
    "import warnings\n",
    "warnings.filterwarnings(\"ignore\")\n",
    "\n"
   ]
  },
  {
   "cell_type": "markdown",
   "metadata": {},
   "source": [
    "## Creating mfcc and melspec features for classification\n"
   ]
  },
  {
   "cell_type": "code",
   "execution_count": 5,
   "metadata": {
    "execution": {
     "iopub.execute_input": "2022-10-25T11:46:16.303371Z",
     "iopub.status.busy": "2022-10-25T11:46:16.303027Z",
     "iopub.status.idle": "2022-10-25T11:47:01.480761Z",
     "shell.execute_reply": "2022-10-25T11:47:01.479571Z",
     "shell.execute_reply.started": "2022-10-25T11:46:16.303340Z"
    }
   },
   "outputs": [
    {
     "name": "stdout",
     "output_type": "stream",
     "text": [
      "./\n",
      "./.virtual_documents\n",
      "./Happy\n",
      "./Sad\n"
     ]
    }
   ],
   "source": [
    "i = 0\n",
    "l_happy = []\n",
    "for dirname, _, filenames in os.walk('./'):\n",
    "    print(dirname)\n",
    "    if dirname == \"./Happy\":\n",
    "        for filename in filenames:\n",
    "            if filename.endswith(\".wav\"):\n",
    "                a = os.path.join(dirname, filename)\n",
    "                x, sr = librosa.load(a)\n",
    "                mfccs = librosa.feature.mfcc(y=x, sr=sr, n_mfcc=128)\n",
    "                mean = np.mean((mfccs).T,axis = 0)\n",
    "                l_happy.append(mean)\n",
    "                i = i+1\n",
    "                if i == 250:\n",
    "                    break\n",
    "        "
   ]
  },
  {
   "cell_type": "code",
   "execution_count": 6,
   "metadata": {
    "execution": {
     "iopub.execute_input": "2022-10-25T11:47:01.485682Z",
     "iopub.status.busy": "2022-10-25T11:47:01.485161Z",
     "iopub.status.idle": "2022-10-25T11:47:47.151822Z",
     "shell.execute_reply": "2022-10-25T11:47:47.150244Z",
     "shell.execute_reply.started": "2022-10-25T11:47:01.485631Z"
    }
   },
   "outputs": [
    {
     "name": "stdout",
     "output_type": "stream",
     "text": [
      "./\n",
      "./.virtual_documents\n",
      "./Happy\n",
      "./Sad\n"
     ]
    }
   ],
   "source": [
    "i = 0\n",
    "l_sad = []\n",
    "for dirname, _, filenames in os.walk('./'):\n",
    "    print(dirname)\n",
    "    if dirname == \"./Sad\":\n",
    "        for filename in filenames:\n",
    "            if filename.endswith(\".wav\"):\n",
    "                a = os.path.join(dirname, filename)\n",
    "                x, sr = librosa.load(a)\n",
    "                mfccs = librosa.feature.mfcc(y=x, sr=sr, n_mfcc=128)\n",
    "                mean = np.mean((mfccs).T,axis = 0)\n",
    "                l_sad.append(mean)\n",
    "                i = i+1\n",
    "                if i == 250:\n",
    "                    break"
   ]
  },
  {
   "cell_type": "code",
   "execution_count": 7,
   "metadata": {
    "execution": {
     "iopub.execute_input": "2022-10-25T11:47:47.154077Z",
     "iopub.status.busy": "2022-10-25T11:47:47.153476Z",
     "iopub.status.idle": "2022-10-25T11:47:47.215139Z",
     "shell.execute_reply": "2022-10-25T11:47:47.213923Z",
     "shell.execute_reply.started": "2022-10-25T11:47:47.154037Z"
    }
   },
   "outputs": [],
   "source": [
    "happy_mfcc = pd.DataFrame(l_happy,columns=range(1,129))\n",
    "happy_mfcc[\"Class\"] = \"Happy\"\n",
    "\n",
    "sad_mfcc = pd.DataFrame(l_sad,columns=range(1,129))\n",
    "sad_mfcc[\"Class\"] = \"Sad\""
   ]
  },
  {
   "cell_type": "code",
   "execution_count": 8,
   "metadata": {
    "execution": {
     "iopub.execute_input": "2022-10-25T11:47:47.217204Z",
     "iopub.status.busy": "2022-10-25T11:47:47.216665Z",
     "iopub.status.idle": "2022-10-25T11:47:47.303462Z",
     "shell.execute_reply": "2022-10-25T11:47:47.302620Z",
     "shell.execute_reply.started": "2022-10-25T11:47:47.217167Z"
    }
   },
   "outputs": [],
   "source": [
    "mfcc_data = happy_mfcc.append(sad_mfcc)\n",
    "mfcc_data.to_csv(\"Mfcc_CNN.csv\",index=False)"
   ]
  },
  {
   "cell_type": "code",
   "execution_count": 9,
   "metadata": {
    "execution": {
     "iopub.execute_input": "2022-10-25T11:47:47.305170Z",
     "iopub.status.busy": "2022-10-25T11:47:47.304843Z",
     "iopub.status.idle": "2022-10-25T11:48:31.460248Z",
     "shell.execute_reply": "2022-10-25T11:48:31.459253Z",
     "shell.execute_reply.started": "2022-10-25T11:47:47.305136Z"
    }
   },
   "outputs": [
    {
     "name": "stdout",
     "output_type": "stream",
     "text": [
      "./\n",
      "./.virtual_documents\n",
      "./Happy\n",
      "./Sad\n"
     ]
    }
   ],
   "source": [
    "## Extracting features from happy file\n",
    "i = 0\n",
    "mel_happy = []\n",
    "for dirname, _, filenames in os.walk('./'):\n",
    "    print(dirname)\n",
    "    if dirname == \"./Happy\":\n",
    "        for filename in filenames:\n",
    "            if filename.endswith(\".wav\"):\n",
    "                a = os.path.join(dirname, filename)\n",
    "                x, sr = librosa.load(a)\n",
    "        \n",
    "                mel = librosa.feature.melspectrogram(y=x, sr=sr, n_mels=128)\n",
    "                mean = np.mean((mel).T,axis = 0)\n",
    "                mel_happy.append(mean)\n",
    "                i = i+1\n",
    "                if i == 250:\n",
    "                    break"
   ]
  },
  {
   "cell_type": "code",
   "execution_count": 10,
   "metadata": {
    "execution": {
     "iopub.execute_input": "2022-10-25T11:48:31.462183Z",
     "iopub.status.busy": "2022-10-25T11:48:31.461819Z",
     "iopub.status.idle": "2022-10-25T11:49:16.347717Z",
     "shell.execute_reply": "2022-10-25T11:49:16.346324Z",
     "shell.execute_reply.started": "2022-10-25T11:48:31.462145Z"
    }
   },
   "outputs": [
    {
     "name": "stdout",
     "output_type": "stream",
     "text": [
      "./\n",
      "./.virtual_documents\n",
      "./Happy\n",
      "./Sad\n"
     ]
    }
   ],
   "source": [
    "#Extracting features from Sad file\n",
    "i = 0\n",
    "mel_sad = []\n",
    "for dirname, _, filenames in os.walk('./'):\n",
    "    print(dirname)\n",
    "    if dirname == \"./Sad\":\n",
    "        for filename in filenames:\n",
    "            if filename.endswith(\".wav\"):\n",
    "                a = os.path.join(dirname, filename)\n",
    "                x, sr = librosa.load(a)\n",
    "        \n",
    "                mel = librosa.feature.melspectrogram(y=x, sr=sr, n_mels=128)\n",
    "                mean = np.mean((mel).T,axis = 0)\n",
    "                mel_sad.append(mean)\n",
    "                i = i+1\n",
    "                if i == 250:\n",
    "                    break"
   ]
  },
  {
   "cell_type": "code",
   "execution_count": 11,
   "metadata": {
    "execution": {
     "iopub.execute_input": "2022-10-25T11:49:16.358532Z",
     "iopub.status.busy": "2022-10-25T11:49:16.354993Z",
     "iopub.status.idle": "2022-10-25T11:49:16.424087Z",
     "shell.execute_reply": "2022-10-25T11:49:16.422642Z",
     "shell.execute_reply.started": "2022-10-25T11:49:16.358474Z"
    }
   },
   "outputs": [],
   "source": [
    "happy_mel = pd.DataFrame(mel_happy,columns=range(1,129))\n",
    "happy_mel[\"Class\"] = \"Happy\"\n",
    "\n",
    "sad_mel = pd.DataFrame(mel_sad,columns=range(1,129))\n",
    "sad_mel[\"Class\"] = \"Sad\""
   ]
  },
  {
   "cell_type": "code",
   "execution_count": 12,
   "metadata": {
    "execution": {
     "iopub.execute_input": "2022-10-25T11:49:16.431864Z",
     "iopub.status.busy": "2022-10-25T11:49:16.431515Z",
     "iopub.status.idle": "2022-10-25T11:49:16.442815Z",
     "shell.execute_reply": "2022-10-25T11:49:16.441459Z",
     "shell.execute_reply.started": "2022-10-25T11:49:16.431827Z"
    }
   },
   "outputs": [],
   "source": [
    "mel_data = happy_mel.append(sad_mel)"
   ]
  },
  {
   "cell_type": "code",
   "execution_count": 13,
   "metadata": {
    "execution": {
     "iopub.execute_input": "2022-10-25T11:49:16.444832Z",
     "iopub.status.busy": "2022-10-25T11:49:16.444375Z",
     "iopub.status.idle": "2022-10-25T11:49:16.514390Z",
     "shell.execute_reply": "2022-10-25T11:49:16.513067Z",
     "shell.execute_reply.started": "2022-10-25T11:49:16.444796Z"
    }
   },
   "outputs": [],
   "source": [
    "mel_data.to_csv(\"Mel_Logistic.csv\",index=False)"
   ]
  },
  {
   "cell_type": "markdown",
   "metadata": {},
   "source": [
    "## Logistic Regression Model Mfcc features"
   ]
  },
  {
   "cell_type": "code",
   "execution_count": 15,
   "metadata": {
    "execution": {
     "iopub.execute_input": "2022-10-25T11:49:16.523635Z",
     "iopub.status.busy": "2022-10-25T11:49:16.522982Z",
     "iopub.status.idle": "2022-10-25T11:49:16.532721Z",
     "shell.execute_reply": "2022-10-25T11:49:16.531660Z",
     "shell.execute_reply.started": "2022-10-25T11:49:16.523599Z"
    }
   },
   "outputs": [],
   "source": [
    "def Logistic_Regression(X,y):\n",
    "    ## Train test Split\n",
    "    X_train, X_test, y_train, y_test = train_test_split(X, y, test_size=0.2, random_state=42,\n",
    "                                                        stratify = y)\n",
    "    \n",
    "    ## scaling\n",
    "    scaler = StandardScaler()\n",
    "    X_train_scale = scaler.fit_transform(X_train)\n",
    "    X_test_scale = scaler.transform(X_test)\n",
    "    \n",
    "    ## Model Building\n",
    "    lr = LogisticRegression()\n",
    "    lr.fit(X_train_scale,y_train)\n",
    "    \n",
    "    ## prediction\n",
    "    y_train_pred = lr.predict(X_train_scale)\n",
    "    y_test_pred = lr.predict(X_test_scale)\n",
    "    \n",
    "    ## Accuracy and Confusion Matrix\n",
    "    ## training\n",
    "    print(\"training accuracy = \",accuracy_score(y_train,y_train_pred)*100)\n",
    "    ConfusionMatrixDisplay.from_predictions(y_train,y_train_pred,normalize=\"all\")\n",
    "    plt.show()\n",
    "\n",
    "    print(\"testing accuracy = \",accuracy_score(y_test,y_test_pred)*100)\n",
    "    ConfusionMatrixDisplay.from_predictions(y_test,y_test_pred,normalize=\"all\")\n",
    "    plt.show()\n"
   ]
  },
  {
   "cell_type": "code",
   "execution_count": 16,
   "metadata": {
    "execution": {
     "iopub.execute_input": "2022-10-25T11:49:16.534419Z",
     "iopub.status.busy": "2022-10-25T11:49:16.533995Z",
     "iopub.status.idle": "2022-10-25T11:49:16.545131Z",
     "shell.execute_reply": "2022-10-25T11:49:16.544152Z",
     "shell.execute_reply.started": "2022-10-25T11:49:16.534385Z"
    }
   },
   "outputs": [],
   "source": [
    "mfcc_data[\"Class\"] = mfcc_data[\"Class\"].replace({'Happy':1,'Sad':0})\n",
    "X = mfcc_data.iloc[:,0:128]\n",
    "y = mfcc_data[\"Class\"]"
   ]
  },
  {
   "cell_type": "code",
   "execution_count": 17,
   "metadata": {
    "execution": {
     "iopub.execute_input": "2022-10-25T11:49:16.547322Z",
     "iopub.status.busy": "2022-10-25T11:49:16.546620Z",
     "iopub.status.idle": "2022-10-25T11:49:17.053221Z",
     "shell.execute_reply": "2022-10-25T11:49:17.052166Z",
     "shell.execute_reply.started": "2022-10-25T11:49:16.547286Z"
    }
   },
   "outputs": [
    {
     "name": "stdout",
     "output_type": "stream",
     "text": [
      "training accuracy =  99.6742671009772\n"
     ]
    },
    {
     "data": {
      "image/png": "[encoded data removed]",
      "text/plain": [
       "<Figure size 432x288 with 2 Axes>"
      ]
     },
     "metadata": {
      "needs_background": "light"
     },
     "output_type": "display_data"
    },
    {
     "name": "stdout",
     "output_type": "stream",
     "text": [
      "testing accuracy =  80.51948051948052\n"
     ]
    },
    {
     "data": {
      "image/png": "[encoded data removed]",
      "text/plain": [
       "<Figure size 432x288 with 2 Axes>"
      ]
     },
     "metadata": {
      "needs_background": "light"
     },
     "output_type": "display_data"
    }
   ],
   "source": [
    "Logistic_Regression(X,y)"
   ]
  },
  {
   "cell_type": "markdown",
   "metadata": {},
   "source": [
    "## Logistic regression MelSpec features"
   ]
  },
  {
   "cell_type": "code",
   "execution_count": 18,
   "metadata": {
    "execution": {
     "iopub.execute_input": "2022-10-25T11:49:17.055159Z",
     "iopub.status.busy": "2022-10-25T11:49:17.054784Z",
     "iopub.status.idle": "2022-10-25T11:49:17.063173Z",
     "shell.execute_reply": "2022-10-25T11:49:17.062141Z",
     "shell.execute_reply.started": "2022-10-25T11:49:17.055121Z"
    }
   },
   "outputs": [],
   "source": [
    "mel_data[\"Class\"] = mel_data[\"Class\"].replace({\"Happy\": 1,\"Sad\": 0})\n",
    "X = mel_data.iloc[:,:-1]\n",
    "y = mel_data.iloc[:,-1:]"
   ]
  },
  {
   "cell_type": "code",
   "execution_count": 19,
   "metadata": {
    "execution": {
     "iopub.execute_input": "2022-10-25T11:49:17.065080Z",
     "iopub.status.busy": "2022-10-25T11:49:17.064734Z",
     "iopub.status.idle": "2022-10-25T11:49:17.592449Z",
     "shell.execute_reply": "2022-10-25T11:49:17.591367Z",
     "shell.execute_reply.started": "2022-10-25T11:49:17.065046Z"
    }
   },
   "outputs": [
    {
     "name": "stderr",
     "output_type": "stream",
     "text": [
      "/opt/conda/lib/python3.7/site-packages/sklearn/utils/validation.py:993: DataConversionWarning: A column-vector y was passed when a 1d array was expected. Please change the shape of y to (n_samples, ), for example using ravel().\n",
      "  y = column_or_1d(y, warn=True)\n"
     ]
    },
    {
     "name": "stdout",
     "output_type": "stream",
     "text": [
      "training accuracy =  79.80456026058633\n"
     ]
    },
    {
     "data": {
      "image/png": "[encoded data removed]",
      "text/plain": [
       "<Figure size 432x288 with 2 Axes>"
      ]
     },
     "metadata": {
      "needs_background": "light"
     },
     "output_type": "display_data"
    },
    {
     "name": "stdout",
     "output_type": "stream",
     "text": [
      "testing accuracy =  72.72727272727273\n"
     ]
    },
    {
     "data": {
      "image/png": "[encoded data removed]",
      "text/plain": [
       "<Figure size 432x288 with 2 Axes>"
      ]
     },
     "metadata": {
      "needs_background": "light"
     },
     "output_type": "display_data"
    }
   ],
   "source": [
    "Logistic_Regression(X,y)"
   ]
  },
  {
   "cell_type": "markdown",
   "metadata": {},
   "source": [
    "## CNN model Mfcc features"
   ]
  },
  {
   "cell_type": "code",
   "execution_count": 20,
   "metadata": {
    "execution": {
     "iopub.execute_input": "2022-10-25T11:49:17.594402Z",
     "iopub.status.busy": "2022-10-25T11:49:17.594019Z",
     "iopub.status.idle": "2022-10-25T11:49:17.603284Z",
     "shell.execute_reply": "2022-10-25T11:49:17.602155Z",
     "shell.execute_reply.started": "2022-10-25T11:49:17.594363Z"
    }
   },
   "outputs": [],
   "source": [
    "X = mfcc_data.iloc[:,0:128]\n",
    "y = mfcc_data[\"Class\"]\n",
    "\n",
    "X_train, X_test, y_train, y_test = train_test_split(X, y, test_size=0.2, random_state=42,\n",
    "                                                        stratify = y)"
   ]
  },
  {
   "cell_type": "code",
   "execution_count": 21,
   "metadata": {
    "execution": {
     "iopub.execute_input": "2022-10-25T11:49:17.605272Z",
     "iopub.status.busy": "2022-10-25T11:49:17.604896Z",
     "iopub.status.idle": "2022-10-25T11:49:17.612851Z",
     "shell.execute_reply": "2022-10-25T11:49:17.611820Z",
     "shell.execute_reply.started": "2022-10-25T11:49:17.605232Z"
    }
   },
   "outputs": [],
   "source": [
    "X_train = np.array(X_train).reshape(X_train.shape[0],16,8,1)\n",
    "X_test = np.array(X_test).reshape(X_test.shape[0],16,8,1)"
   ]
  },
  {
   "cell_type": "code",
   "execution_count": 23,
   "metadata": {
    "execution": {
     "iopub.execute_input": "2022-10-25T11:49:19.120251Z",
     "iopub.status.busy": "2022-10-25T11:49:19.119484Z",
     "iopub.status.idle": "2022-10-25T11:49:20.392181Z",
     "shell.execute_reply": "2022-10-25T11:49:20.391019Z",
     "shell.execute_reply.started": "2022-10-25T11:49:19.120210Z"
    }
   },
   "outputs": [
    {
     "name": "stderr",
     "output_type": "stream",
     "text": [
      "2022-10-25 11:49:19.329805: I tensorflow/stream_executor/cuda/cuda_gpu_executor.cc:937] successful NUMA node read from SysFS had negative value (-1), but there must be at least one NUMA node, so returning NUMA node zero\n",
      "2022-10-25 11:49:19.339897: I tensorflow/stream_executor/cuda/cuda_gpu_executor.cc:937] successful NUMA node read from SysFS had negative value (-1), but there must be at least one NUMA node, so returning NUMA node zero\n",
      "2022-10-25 11:49:19.340649: I tensorflow/stream_executor/cuda/cuda_gpu_executor.cc:937] successful NUMA node read from SysFS had negative value (-1), but there must be at least one NUMA node, so returning NUMA node zero\n",
      "2022-10-25 11:49:19.341975: I tensorflow/core/platform/cpu_feature_guard.cc:142] This TensorFlow binary is optimized with oneAPI Deep Neural Network Library (oneDNN) to use the following CPU instructions in performance-critical operations:  AVX2 AVX512F FMA\n",
      "To enable them in other operations, rebuild TensorFlow with the appropriate compiler flags.\n",
      "2022-10-25 11:49:19.342334: I tensorflow/stream_executor/cuda/cuda_gpu_executor.cc:937] successful NUMA node read from SysFS had negative value (-1), but there must be at least one NUMA node, so returning NUMA node zero\n",
      "2022-10-25 11:49:19.343067: I tensorflow/stream_executor/cuda/cuda_gpu_executor.cc:937] successful NUMA node read from SysFS had negative value (-1), but there must be at least one NUMA node, so returning NUMA node zero\n",
      "2022-10-25 11:49:19.343718: I tensorflow/stream_executor/cuda/cuda_gpu_executor.cc:937] successful NUMA node read from SysFS had negative value (-1), but there must be at least one NUMA node, so returning NUMA node zero\n",
      "2022-10-25 11:49:20.004633: I tensorflow/stream_executor/cuda/cuda_gpu_executor.cc:937] successful NUMA node read from SysFS had negative value (-1), but there must be at least one NUMA node, so returning NUMA node zero\n",
      "2022-10-25 11:49:20.005485: I tensorflow/stream_executor/cuda/cuda_gpu_executor.cc:937] successful NUMA node read from SysFS had negative value (-1), but there must be at least one NUMA node, so returning NUMA node zero\n",
      "2022-10-25 11:49:20.006170: I tensorflow/stream_executor/cuda/cuda_gpu_executor.cc:937] successful NUMA node read from SysFS had negative value (-1), but there must be at least one NUMA node, so returning NUMA node zero\n",
      "2022-10-25 11:49:20.006778: I tensorflow/core/common_runtime/gpu/gpu_device.cc:1510] Created device /job:localhost/replica:0/task:0/device:GPU:0 with 15401 MB memory:  -> device: 0, name: Tesla P100-PCIE-16GB, pci bus id: 0000:00:04.0, compute capability: 6.0\n"
     ]
    },
    {
     "name": "stdout",
     "output_type": "stream",
     "text": [
      "Model: \"sequential\"\n",
      "_________________________________________________________________\n",
      "Layer (type)                 Output Shape              Param #   \n",
      "=================================================================\n",
      "conv2d (Conv2D)              (None, 16, 8, 16)         160       \n",
      "_________________________________________________________________\n",
      "max_pooling2d (MaxPooling2D) (None, 8, 4, 16)          0         \n",
      "_________________________________________________________________\n",
      "conv2d_1 (Conv2D)            (None, 8, 4, 16)          2320      \n",
      "_________________________________________________________________\n",
      "max_pooling2d_1 (MaxPooling2 (None, 4, 2, 16)          0         \n",
      "_________________________________________________________________\n",
      "flatten (Flatten)            (None, 128)               0         \n",
      "_________________________________________________________________\n",
      "dense (Dense)                (None, 16)                2064      \n",
      "_________________________________________________________________\n",
      "dense_1 (Dense)              (None, 1)                 17        \n",
      "=================================================================\n",
      "Total params: 4,561\n",
      "Trainable params: 4,561\n",
      "Non-trainable params: 0\n",
      "_________________________________________________________________\n"
     ]
    }
   ],
   "source": [
    "tf.keras.backend.clear_session()\n",
    "model = tf.keras.Sequential([\n",
    "    tf.keras.layers.InputLayer(input_shape=(16, 8, 1)),\n",
    "    tf.keras.layers.Conv2D(filters=16, kernel_size=(3, 3), activation='relu', padding = \"same\"),\n",
    "    tf.keras.layers.MaxPooling2D(2, 2),\n",
    "    tf.keras.layers.Conv2D(filters=16, kernel_size=(3, 3), activation='relu', padding = \"same\"),\n",
    "    tf.keras.layers.MaxPooling2D(2, 2),\n",
    "    tf.keras.layers.Flatten(),\n",
    "    tf.keras.layers.Dense(16, activation='relu'),\n",
    "    tf.keras.layers.Dense(1,activation='sigmoid')\n",
    "])\n",
    "model.summary()"
   ]
  },
  {
   "cell_type": "code",
   "execution_count": 24,
   "metadata": {
    "execution": {
     "iopub.execute_input": "2022-10-25T11:49:20.394049Z",
     "iopub.status.busy": "2022-10-25T11:49:20.393702Z",
     "iopub.status.idle": "2022-10-25T11:49:20.402086Z",
     "shell.execute_reply": "2022-10-25T11:49:20.401114Z",
     "shell.execute_reply.started": "2022-10-25T11:49:20.394011Z"
    }
   },
   "outputs": [
    {
     "name": "stdout",
     "output_type": "stream",
     "text": [
      "Model: \"sequential\"\n",
      "_________________________________________________________________\n",
      "Layer (type)                 Output Shape              Param #   \n",
      "=================================================================\n",
      "conv2d (Conv2D)              (None, 16, 8, 16)         160       \n",
      "_________________________________________________________________\n",
      "max_pooling2d (MaxPooling2D) (None, 8, 4, 16)          0         \n",
      "_________________________________________________________________\n",
      "conv2d_1 (Conv2D)            (None, 8, 4, 16)          2320      \n",
      "_________________________________________________________________\n",
      "max_pooling2d_1 (MaxPooling2 (None, 4, 2, 16)          0         \n",
      "_________________________________________________________________\n",
      "flatten (Flatten)            (None, 128)               0         \n",
      "_________________________________________________________________\n",
      "dense (Dense)                (None, 16)                2064      \n",
      "_________________________________________________________________\n",
      "dense_1 (Dense)              (None, 1)                 17        \n",
      "=================================================================\n",
      "Total params: 4,561\n",
      "Trainable params: 4,561\n",
      "Non-trainable params: 0\n",
      "_________________________________________________________________\n"
     ]
    }
   ],
   "source": [
    "model.summary()"
   ]
  },
  {
   "cell_type": "code",
   "execution_count": 25,
   "metadata": {
    "execution": {
     "iopub.execute_input": "2022-10-25T11:49:20.404966Z",
     "iopub.status.busy": "2022-10-25T11:49:20.404013Z",
     "iopub.status.idle": "2022-10-25T11:49:20.420870Z",
     "shell.execute_reply": "2022-10-25T11:49:20.419884Z",
     "shell.execute_reply.started": "2022-10-25T11:49:20.404905Z"
    }
   },
   "outputs": [],
   "source": [
    "model.compile(optimizer=tf.keras.optimizers.Adam(learning_rate=0.001),\n",
    "              loss='binary_crossentropy', metrics='accuracy')"
   ]
  },
  {
   "cell_type": "code",
   "execution_count": 26,
   "metadata": {
    "execution": {
     "iopub.execute_input": "2022-10-25T11:49:20.424106Z",
     "iopub.status.busy": "2022-10-25T11:49:20.423408Z",
     "iopub.status.idle": "2022-10-25T11:49:23.368398Z",
     "shell.execute_reply": "2022-10-25T11:49:23.367483Z",
     "shell.execute_reply.started": "2022-10-25T11:49:20.424067Z"
    }
   },
   "outputs": [
    {
     "name": "stdout",
     "output_type": "stream",
     "text": [
      "Epoch 1/100\n"
     ]
    },
    {
     "name": "stderr",
     "output_type": "stream",
     "text": [
      "2022-10-25 11:49:20.471761: I tensorflow/compiler/mlir/mlir_graph_optimization_pass.cc:185] None of the MLIR Optimization Passes are enabled (registered 2)\n",
      "2022-10-25 11:49:21.247938: I tensorflow/stream_executor/cuda/cuda_dnn.cc:369] Loaded cuDNN version 8005\n"
     ]
    },
    {
     "name": "stdout",
     "output_type": "stream",
     "text": [
      "10/10 [==============================] - 2s 25ms/step - loss: 2.7156 - accuracy: 0.4625 - val_loss: 0.8608 - val_accuracy: 0.5065\n",
      "Epoch 2/100\n",
      "10/10 [==============================] - 0s 5ms/step - loss: 1.0020 - accuracy: 0.5114 - val_loss: 0.5335 - val_accuracy: 0.7792\n",
      "Epoch 3/100\n",
      "10/10 [==============================] - 0s 5ms/step - loss: 0.7279 - accuracy: 0.5537 - val_loss: 0.6351 - val_accuracy: 0.5974\n",
      "Epoch 4/100\n",
      "10/10 [==============================] - 0s 5ms/step - loss: 0.6665 - accuracy: 0.6156 - val_loss: 0.5471 - val_accuracy: 0.7532\n",
      "Epoch 5/100\n",
      "10/10 [==============================] - 0s 5ms/step - loss: 0.6087 - accuracy: 0.6580 - val_loss: 0.5243 - val_accuracy: 0.7532\n",
      "Epoch 6/100\n",
      "10/10 [==============================] - 0s 5ms/step - loss: 0.5911 - accuracy: 0.6938 - val_loss: 0.5715 - val_accuracy: 0.6753\n",
      "Epoch 7/100\n",
      "10/10 [==============================] - 0s 6ms/step - loss: 0.5922 - accuracy: 0.6743 - val_loss: 0.5241 - val_accuracy: 0.7922\n",
      "Epoch 8/100\n",
      "10/10 [==============================] - 0s 5ms/step - loss: 0.5571 - accuracy: 0.7101 - val_loss: 0.5249 - val_accuracy: 0.7792\n",
      "Epoch 9/100\n",
      "10/10 [==============================] - 0s 5ms/step - loss: 0.5641 - accuracy: 0.7101 - val_loss: 0.5211 - val_accuracy: 0.7792\n",
      "Epoch 10/100\n",
      "10/10 [==============================] - 0s 5ms/step - loss: 0.5303 - accuracy: 0.7296 - val_loss: 0.5813 - val_accuracy: 0.7013\n",
      "Epoch 11/100\n",
      "10/10 [==============================] - 0s 5ms/step - loss: 0.5446 - accuracy: 0.6840 - val_loss: 0.5413 - val_accuracy: 0.7403\n",
      "Epoch 12/100\n",
      "10/10 [==============================] - 0s 5ms/step - loss: 0.5122 - accuracy: 0.7524 - val_loss: 0.5106 - val_accuracy: 0.7792\n",
      "Epoch 13/100\n",
      "10/10 [==============================] - 0s 5ms/step - loss: 0.4957 - accuracy: 0.7752 - val_loss: 0.5658 - val_accuracy: 0.7273\n",
      "Epoch 14/100\n",
      "10/10 [==============================] - 0s 5ms/step - loss: 0.5012 - accuracy: 0.7524 - val_loss: 0.5354 - val_accuracy: 0.7662\n",
      "Epoch 15/100\n",
      "10/10 [==============================] - 0s 5ms/step - loss: 0.4732 - accuracy: 0.7687 - val_loss: 0.4970 - val_accuracy: 0.8052\n",
      "Epoch 16/100\n",
      "10/10 [==============================] - 0s 5ms/step - loss: 0.4597 - accuracy: 0.8013 - val_loss: 0.5663 - val_accuracy: 0.7143\n",
      "Epoch 17/100\n",
      "10/10 [==============================] - 0s 5ms/step - loss: 0.4692 - accuracy: 0.7948 - val_loss: 0.5349 - val_accuracy: 0.7403\n",
      "Epoch 18/100\n",
      "10/10 [==============================] - 0s 9ms/step - loss: 0.4505 - accuracy: 0.8143 - val_loss: 0.5135 - val_accuracy: 0.7792\n",
      "Epoch 19/100\n",
      "10/10 [==============================] - 0s 7ms/step - loss: 0.4364 - accuracy: 0.7980 - val_loss: 0.5527 - val_accuracy: 0.7273\n",
      "Epoch 20/100\n",
      "10/10 [==============================] - 0s 5ms/step - loss: 0.4424 - accuracy: 0.8046 - val_loss: 0.5525 - val_accuracy: 0.7143\n"
     ]
    }
   ],
   "source": [
    "callback = tf.keras.callbacks.EarlyStopping(monitor='val_loss', patience=5)\n",
    "history = model.fit(X_train, y_train, epochs=100,validation_data=(X_test,y_test),\n",
    "                    callbacks=[callback])"
   ]
  },
  {
   "cell_type": "code",
   "execution_count": 27,
   "metadata": {
    "execution": {
     "iopub.execute_input": "2022-10-25T11:49:23.370559Z",
     "iopub.status.busy": "2022-10-25T11:49:23.370180Z",
     "iopub.status.idle": "2022-10-25T11:49:23.692955Z",
     "shell.execute_reply": "2022-10-25T11:49:23.692045Z",
     "shell.execute_reply.started": "2022-10-25T11:49:23.370520Z"
    }
   },
   "outputs": [
    {
     "data": {
      "image/png": "[encoded data removed]",
      "text/plain": [
       "<Figure size 1440x360 with 1 Axes>"
      ]
     },
     "metadata": {
      "needs_background": "light"
     },
     "output_type": "display_data"
    }
   ],
   "source": [
    "plt.figure(figsize=(20, 5))\n",
    "loss = history.history['loss']\n",
    "val_loss = history.history['val_loss']\n",
    "plt.plot(loss, label='Training Loss')\n",
    "plt.plot( val_loss, label='Validation Loss')\n",
    "plt.legend(loc='upper right')\n",
    "plt.title('Training and Validation Loss')\n",
    "plt.show()"
   ]
  },
  {
   "cell_type": "code",
   "execution_count": 28,
   "metadata": {
    "execution": {
     "iopub.execute_input": "2022-10-25T11:49:23.694879Z",
     "iopub.status.busy": "2022-10-25T11:49:23.694520Z",
     "iopub.status.idle": "2022-10-25T11:49:23.701576Z",
     "shell.execute_reply": "2022-10-25T11:49:23.700660Z",
     "shell.execute_reply.started": "2022-10-25T11:49:23.694840Z"
    }
   },
   "outputs": [],
   "source": [
    "from sklearn.metrics import accuracy_score,log_loss, confusion_matrix,ConfusionMatrixDisplay"
   ]
  },
  {
   "cell_type": "code",
   "execution_count": 29,
   "metadata": {
    "execution": {
     "iopub.execute_input": "2022-10-25T11:49:23.703578Z",
     "iopub.status.busy": "2022-10-25T11:49:23.703154Z",
     "iopub.status.idle": "2022-10-25T11:49:24.274253Z",
     "shell.execute_reply": "2022-10-25T11:49:24.273312Z",
     "shell.execute_reply.started": "2022-10-25T11:49:23.703541Z"
    }
   },
   "outputs": [
    {
     "name": "stdout",
     "output_type": "stream",
     "text": [
      "training accuracy =  78.50162866449512\n"
     ]
    },
    {
     "data": {
      "image/png": "[encoded data removed]",
      "text/plain": [
       "<Figure size 432x288 with 2 Axes>"
      ]
     },
     "metadata": {
      "needs_background": "light"
     },
     "output_type": "display_data"
    },
    {
     "name": "stdout",
     "output_type": "stream",
     "text": [
      "testing accuracy =  71.42857142857143\n"
     ]
    },
    {
     "data": {
      "image/png": "[encoded data removed]",
      "text/plain": [
       "<Figure size 432x288 with 2 Axes>"
      ]
     },
     "metadata": {
      "needs_background": "light"
     },
     "output_type": "display_data"
    }
   ],
   "source": [
    "## prediction \n",
    "y_train_pred = np.where(model.predict(X_train) > 0.5, 1,0)\n",
    "y_test_pred = np.where(model.predict(X_test) > 0.5, 1,0)\n",
    "    \n",
    "## Accuracy and Confusion Matrix\n",
    "## training\n",
    "print(\"training accuracy = \",accuracy_score(y_train,y_train_pred)*100)\n",
    "ConfusionMatrixDisplay.from_predictions(y_train,y_train_pred)    \n",
    "plt.show()\n",
    "## testing\n",
    "print(\"testing accuracy = \",accuracy_score(y_test,y_test_pred)*100)\n",
    "ConfusionMatrixDisplay.from_predictions(y_test,y_test_pred)\n",
    "plt.show()"
   ]
  },
  {
   "cell_type": "markdown",
   "metadata": {},
   "source": [
    "## CNN on Melspec features"
   ]
  },
  {
   "cell_type": "code",
   "execution_count": 30,
   "metadata": {
    "execution": {
     "iopub.execute_input": "2022-10-25T11:49:24.281147Z",
     "iopub.status.busy": "2022-10-25T11:49:24.280857Z",
     "iopub.status.idle": "2022-10-25T11:49:24.290167Z",
     "shell.execute_reply": "2022-10-25T11:49:24.289041Z",
     "shell.execute_reply.started": "2022-10-25T11:49:24.281119Z"
    }
   },
   "outputs": [],
   "source": [
    "X = mel_data.iloc[:,0:128]\n",
    "y = mel_data[\"Class\"]\n",
    "\n",
    "X_train, X_test, y_train, y_test = train_test_split(X, y, test_size=0.2, random_state=42,\n",
    "                                                        stratify = y)"
   ]
  },
  {
   "cell_type": "code",
   "execution_count": 31,
   "metadata": {
    "execution": {
     "iopub.execute_input": "2022-10-25T11:49:24.292103Z",
     "iopub.status.busy": "2022-10-25T11:49:24.291641Z",
     "iopub.status.idle": "2022-10-25T11:49:24.298616Z",
     "shell.execute_reply": "2022-10-25T11:49:24.297461Z",
     "shell.execute_reply.started": "2022-10-25T11:49:24.292060Z"
    }
   },
   "outputs": [],
   "source": [
    "X_train = np.array(X_train).reshape(X_train.shape[0],16,8,1)\n",
    "X_test = np.array(X_test).reshape(X_test.shape[0],16,8,1)"
   ]
  },
  {
   "cell_type": "code",
   "execution_count": 32,
   "metadata": {
    "execution": {
     "iopub.execute_input": "2022-10-25T11:49:24.301105Z",
     "iopub.status.busy": "2022-10-25T11:49:24.300056Z",
     "iopub.status.idle": "2022-10-25T11:49:24.314270Z",
     "shell.execute_reply": "2022-10-25T11:49:24.313325Z",
     "shell.execute_reply.started": "2022-10-25T11:49:24.301069Z"
    }
   },
   "outputs": [],
   "source": [
    "model.compile(optimizer=tf.keras.optimizers.Adam(learning_rate=0.001),\n",
    "              loss='binary_crossentropy', metrics='accuracy')"
   ]
  },
  {
   "cell_type": "code",
   "execution_count": 33,
   "metadata": {
    "execution": {
     "iopub.execute_input": "2022-10-25T11:49:24.317640Z",
     "iopub.status.busy": "2022-10-25T11:49:24.315659Z",
     "iopub.status.idle": "2022-10-25T11:49:26.590457Z",
     "shell.execute_reply": "2022-10-25T11:49:26.589413Z",
     "shell.execute_reply.started": "2022-10-25T11:49:24.317597Z"
    }
   },
   "outputs": [
    {
     "name": "stdout",
     "output_type": "stream",
     "text": [
      "Epoch 1/100\n",
      "10/10 [==============================] - 1s 20ms/step - loss: 0.6983 - accuracy: 0.6059 - val_loss: 0.6578 - val_accuracy: 0.7532\n",
      "Epoch 2/100\n",
      "10/10 [==============================] - 0s 5ms/step - loss: 0.6618 - accuracy: 0.7068 - val_loss: 0.6317 - val_accuracy: 0.7922\n",
      "Epoch 3/100\n",
      "10/10 [==============================] - 0s 5ms/step - loss: 0.6467 - accuracy: 0.6971 - val_loss: 0.6147 - val_accuracy: 0.7922\n",
      "Epoch 4/100\n",
      "10/10 [==============================] - 0s 5ms/step - loss: 0.6379 - accuracy: 0.6612 - val_loss: 0.6009 - val_accuracy: 0.7532\n",
      "Epoch 5/100\n",
      "10/10 [==============================] - 0s 5ms/step - loss: 0.6324 - accuracy: 0.6743 - val_loss: 0.5886 - val_accuracy: 0.7532\n",
      "Epoch 6/100\n",
      "10/10 [==============================] - 0s 5ms/step - loss: 0.6257 - accuracy: 0.6612 - val_loss: 0.5848 - val_accuracy: 0.7273\n",
      "Epoch 7/100\n",
      "10/10 [==============================] - 0s 5ms/step - loss: 0.6194 - accuracy: 0.6547 - val_loss: 0.5748 - val_accuracy: 0.7273\n",
      "Epoch 8/100\n",
      "10/10 [==============================] - 0s 5ms/step - loss: 0.6155 - accuracy: 0.6775 - val_loss: 0.5670 - val_accuracy: 0.7273\n",
      "Epoch 9/100\n",
      "10/10 [==============================] - 0s 5ms/step - loss: 0.6098 - accuracy: 0.6580 - val_loss: 0.5627 - val_accuracy: 0.7273\n",
      "Epoch 10/100\n",
      "10/10 [==============================] - 0s 5ms/step - loss: 0.6055 - accuracy: 0.6612 - val_loss: 0.5590 - val_accuracy: 0.7273\n",
      "Epoch 11/100\n",
      "10/10 [==============================] - 0s 8ms/step - loss: 0.6017 - accuracy: 0.6743 - val_loss: 0.5548 - val_accuracy: 0.7403\n",
      "Epoch 12/100\n",
      "10/10 [==============================] - 0s 7ms/step - loss: 0.5978 - accuracy: 0.6612 - val_loss: 0.5495 - val_accuracy: 0.7143\n",
      "Epoch 13/100\n",
      "10/10 [==============================] - 0s 8ms/step - loss: 0.5940 - accuracy: 0.6710 - val_loss: 0.5458 - val_accuracy: 0.7662\n",
      "Epoch 14/100\n",
      "10/10 [==============================] - 0s 7ms/step - loss: 0.5873 - accuracy: 0.6808 - val_loss: 0.5426 - val_accuracy: 0.7273\n",
      "Epoch 15/100\n",
      "10/10 [==============================] - 0s 7ms/step - loss: 0.5824 - accuracy: 0.6808 - val_loss: 0.5398 - val_accuracy: 0.7532\n",
      "Epoch 16/100\n",
      "10/10 [==============================] - 0s 7ms/step - loss: 0.5771 - accuracy: 0.6840 - val_loss: 0.5323 - val_accuracy: 0.7532\n",
      "Epoch 17/100\n",
      "10/10 [==============================] - 0s 7ms/step - loss: 0.5710 - accuracy: 0.6938 - val_loss: 0.5339 - val_accuracy: 0.7922\n",
      "Epoch 18/100\n",
      "10/10 [==============================] - 0s 8ms/step - loss: 0.5663 - accuracy: 0.6971 - val_loss: 0.5267 - val_accuracy: 0.7532\n",
      "Epoch 19/100\n",
      "10/10 [==============================] - 0s 5ms/step - loss: 0.5578 - accuracy: 0.6938 - val_loss: 0.5198 - val_accuracy: 0.7532\n",
      "Epoch 20/100\n",
      "10/10 [==============================] - 0s 7ms/step - loss: 0.5519 - accuracy: 0.6938 - val_loss: 0.5176 - val_accuracy: 0.7662\n",
      "Epoch 21/100\n",
      "10/10 [==============================] - 0s 5ms/step - loss: 0.5452 - accuracy: 0.7101 - val_loss: 0.5106 - val_accuracy: 0.7792\n",
      "Epoch 22/100\n",
      "10/10 [==============================] - 0s 5ms/step - loss: 0.5405 - accuracy: 0.7068 - val_loss: 0.5050 - val_accuracy: 0.7792\n",
      "Epoch 23/100\n",
      "10/10 [==============================] - 0s 5ms/step - loss: 0.5447 - accuracy: 0.7036 - val_loss: 0.4971 - val_accuracy: 0.7922\n",
      "Epoch 24/100\n",
      "10/10 [==============================] - 0s 5ms/step - loss: 0.5480 - accuracy: 0.7068 - val_loss: 0.4998 - val_accuracy: 0.7922\n",
      "Epoch 25/100\n",
      "10/10 [==============================] - 0s 5ms/step - loss: 0.5389 - accuracy: 0.7036 - val_loss: 0.5028 - val_accuracy: 0.7922\n",
      "Epoch 26/100\n",
      "10/10 [==============================] - 0s 5ms/step - loss: 0.5321 - accuracy: 0.7101 - val_loss: 0.5072 - val_accuracy: 0.7922\n",
      "Epoch 27/100\n",
      "10/10 [==============================] - 0s 5ms/step - loss: 0.5271 - accuracy: 0.7199 - val_loss: 0.5019 - val_accuracy: 0.7792\n",
      "Epoch 28/100\n",
      "10/10 [==============================] - 0s 5ms/step - loss: 0.5182 - accuracy: 0.7231 - val_loss: 0.4974 - val_accuracy: 0.7662\n"
     ]
    }
   ],
   "source": [
    "callback = tf.keras.callbacks.EarlyStopping(monitor='val_loss', patience=5)\n",
    "history1 = model.fit(X_train, y_train, epochs=100,validation_data=(X_test,y_test),\n",
    "                    callbacks=[callback])"
   ]
  },
  {
   "cell_type": "code",
   "execution_count": 34,
   "metadata": {
    "execution": {
     "iopub.execute_input": "2022-10-25T11:49:26.592297Z",
     "iopub.status.busy": "2022-10-25T11:49:26.591948Z",
     "iopub.status.idle": "2022-10-25T11:49:27.556608Z",
     "shell.execute_reply": "2022-10-25T11:49:27.555674Z",
     "shell.execute_reply.started": "2022-10-25T11:49:26.592260Z"
    }
   },
   "outputs": [
    {
     "data": {
      "image/png": "[encoded data removed]",
      "text/plain": [
       "<Figure size 1440x360 with 1 Axes>"
      ]
     },
     "metadata": {
      "needs_background": "light"
     },
     "output_type": "display_data"
    }
   ],
   "source": [
    "plt.figure(figsize=(20, 5))\n",
    "loss = history1.history['loss']\n",
    "val_loss = history1.history['val_loss']\n",
    "plt.plot(loss, label='Training Loss')\n",
    "plt.plot( val_loss, label='Validation Loss')\n",
    "plt.legend(loc='upper right')\n",
    "plt.title('Training and Validation Loss')\n",
    "plt.show()"
   ]
  },
  {
   "cell_type": "code",
   "execution_count": 35,
   "metadata": {
    "execution": {
     "iopub.execute_input": "2022-10-25T11:49:27.558560Z",
     "iopub.status.busy": "2022-10-25T11:49:27.558190Z",
     "iopub.status.idle": "2022-10-25T11:49:28.111032Z",
     "shell.execute_reply": "2022-10-25T11:49:28.110112Z",
     "shell.execute_reply.started": "2022-10-25T11:49:27.558521Z"
    },
    "scrolled": true
   },
   "outputs": [
    {
     "name": "stdout",
     "output_type": "stream",
     "text": [
      "training accuracy =  72.63843648208469\n"
     ]
    },
    {
     "data": {
      "image/png": "[encoded data removed]",
      "text/plain": [
       "<Figure size 432x288 with 2 Axes>"
      ]
     },
     "metadata": {
      "needs_background": "light"
     },
     "output_type": "display_data"
    },
    {
     "name": "stdout",
     "output_type": "stream",
     "text": [
      "testing accuracy =  76.62337662337663\n"
     ]
    },
    {
     "data": {
      "image/png": "[encoded data removed]",
      "text/plain": [
       "<Figure size 432x288 with 2 Axes>"
      ]
     },
     "metadata": {
      "needs_background": "light"
     },
     "output_type": "display_data"
    }
   ],
   "source": [
    "## prediction \n",
    "y_train_pred = np.where(model.predict(X_train) > 0.5, 1,0)\n",
    "y_test_pred = np.where(model.predict(X_test) > 0.5, 1,0)\n",
    "    \n",
    "## Accuracy and Confusion Matrix\n",
    "## training\n",
    "print(\"training accuracy = \",accuracy_score(y_train,y_train_pred)*100)\n",
    "ConfusionMatrixDisplay.from_predictions(y_train,y_train_pred)    \n",
    "plt.show()\n",
    "## testing\n",
    "print(\"testing accuracy = \",accuracy_score(y_test,y_test_pred)*100)\n",
    "ConfusionMatrixDisplay.from_predictions(y_test,y_test_pred)\n",
    "plt.show()"
   ]
  },
  {
   "cell_type": "markdown",
   "metadata": {},
   "source": [
    "**Inference:** MelSpec features using CNN give better performance then Mfcc features a"
   ]
  },
  {
   "cell_type": "markdown",
   "metadata": {},
   "source": [
    "## Creating audio features for auto encoders"
   ]
  },
  {
   "cell_type": "code",
   "execution_count": 36,
   "metadata": {
    "execution": {
     "iopub.execute_input": "2022-10-25T11:49:28.114216Z",
     "iopub.status.busy": "2022-10-25T11:49:28.113516Z",
     "iopub.status.idle": "2022-10-25T11:49:28.121774Z",
     "shell.execute_reply": "2022-10-25T11:49:28.120863Z",
     "shell.execute_reply.started": "2022-10-25T11:49:28.114175Z"
    }
   },
   "outputs": [],
   "source": [
    "happy_files = []\n",
    "sad_files = []\n",
    "i = 0\n",
    "l_happy = []\n",
    "for dirname, _, filenames in os.walk('./'):\n",
    "    if dirname == \"./Happy\":\n",
    "        for filename in filenames:\n",
    "            if filename.endswith(\".wav\"):\n",
    "                happy_files.append(filename)\n",
    "    if dirname == \"./Sad\":\n",
    "        for filename in filenames:\n",
    "            if filename.endswith(\".wav\"):\n",
    "                sad_files.append(filename)\n",
    "                "
   ]
  },
  {
   "cell_type": "code",
   "execution_count": 37,
   "metadata": {
    "execution": {
     "iopub.execute_input": "2022-10-25T11:49:28.123643Z",
     "iopub.status.busy": "2022-10-25T11:49:28.123168Z",
     "iopub.status.idle": "2022-10-25T11:49:28.168649Z",
     "shell.execute_reply": "2022-10-25T11:49:28.167815Z",
     "shell.execute_reply.started": "2022-10-25T11:49:28.123602Z"
    }
   },
   "outputs": [],
   "source": [
    "happy = []\n",
    "sad = []\n",
    "for i in happy_files:\n",
    "    for j in sad_files:\n",
    "        \n",
    "        x = i[:-4]\n",
    "        y = j[:-4]\n",
    "        split_x = x.split('-') \n",
    "        split_y = y.split('-')\n",
    "        \n",
    "        \n",
    "        \n",
    "        if ((split_x[-1] == split_y[-1])and (split_x[-4] == split_y[-4]) and (split_x[-2] == split_y[-2])and (split_x[-3] == split_y[-3])):\n",
    "            happy.append(i)\n",
    "            sad.append(j)\n",
    "    \n"
   ]
  },
  {
   "cell_type": "code",
   "execution_count": 38,
   "metadata": {
    "execution": {
     "iopub.execute_input": "2022-10-25T11:49:28.170958Z",
     "iopub.status.busy": "2022-10-25T11:49:28.170616Z",
     "iopub.status.idle": "2022-10-25T11:49:28.179474Z",
     "shell.execute_reply": "2022-10-25T11:49:28.178490Z",
     "shell.execute_reply.started": "2022-10-25T11:49:28.170916Z"
    }
   },
   "outputs": [],
   "source": [
    "happy_sad = pd.DataFrame()\n",
    "happy_sad[\"happy\"] = happy\n",
    "happy_sad[\"sad\"] = sad"
   ]
  },
  {
   "cell_type": "code",
   "execution_count": 39,
   "metadata": {
    "execution": {
     "iopub.execute_input": "2022-10-25T11:49:28.181190Z",
     "iopub.status.busy": "2022-10-25T11:49:28.180831Z",
     "iopub.status.idle": "2022-10-25T11:49:28.197655Z",
     "shell.execute_reply": "2022-10-25T11:49:28.196789Z",
     "shell.execute_reply.started": "2022-10-25T11:49:28.181152Z"
    }
   },
   "outputs": [
    {
     "data": {
      "text/html": [
       "<div>\n",
       "<style scoped>\n",
       "    .dataframe tbody tr th:only-of-type {\n",
       "        vertical-align: middle;\n",
       "    }\n",
       "\n",
       "    .dataframe tbody tr th {\n",
       "        vertical-align: top;\n",
       "    }\n",
       "\n",
       "    .dataframe thead th {\n",
       "        text-align: right;\n",
       "    }\n",
       "</style>\n",
       "<table border=\"1\" class=\"dataframe\">\n",
       "  <thead>\n",
       "    <tr style=\"text-align: right;\">\n",
       "      <th></th>\n",
       "      <th>happy</th>\n",
       "      <th>sad</th>\n",
       "    </tr>\n",
       "  </thead>\n",
       "  <tbody>\n",
       "    <tr>\n",
       "      <th>0</th>\n",
       "      <td>03-01-03-01-02-01-03.wav</td>\n",
       "      <td>03-01-04-01-02-01-03.wav</td>\n",
       "    </tr>\n",
       "    <tr>\n",
       "      <th>1</th>\n",
       "      <td>03-01-03-02-02-02-09.wav</td>\n",
       "      <td>03-01-04-02-02-02-09.wav</td>\n",
       "    </tr>\n",
       "    <tr>\n",
       "      <th>2</th>\n",
       "      <td>03-01-03-02-02-01-24.wav</td>\n",
       "      <td>03-01-04-02-02-01-24.wav</td>\n",
       "    </tr>\n",
       "    <tr>\n",
       "      <th>3</th>\n",
       "      <td>03-01-03-01-01-01-03.wav</td>\n",
       "      <td>03-01-04-01-01-01-03.wav</td>\n",
       "    </tr>\n",
       "    <tr>\n",
       "      <th>4</th>\n",
       "      <td>03-01-03-01-01-01-12.wav</td>\n",
       "      <td>03-01-04-01-01-01-12.wav</td>\n",
       "    </tr>\n",
       "  </tbody>\n",
       "</table>\n",
       "</div>"
      ],
      "text/plain": [
       "                      happy                       sad\n",
       "0  03-01-03-01-02-01-03.wav  03-01-04-01-02-01-03.wav\n",
       "1  03-01-03-02-02-02-09.wav  03-01-04-02-02-02-09.wav\n",
       "2  03-01-03-02-02-01-24.wav  03-01-04-02-02-01-24.wav\n",
       "3  03-01-03-01-01-01-03.wav  03-01-04-01-01-01-03.wav\n",
       "4  03-01-03-01-01-01-12.wav  03-01-04-01-01-01-12.wav"
      ]
     },
     "execution_count": 39,
     "metadata": {},
     "output_type": "execute_result"
    }
   ],
   "source": [
    "happy_sad.head()"
   ]
  },
  {
   "cell_type": "code",
   "execution_count": 40,
   "metadata": {
    "execution": {
     "iopub.execute_input": "2022-10-25T11:49:28.199650Z",
     "iopub.status.busy": "2022-10-25T11:49:28.199292Z",
     "iopub.status.idle": "2022-10-25T11:49:28.205370Z",
     "shell.execute_reply": "2022-10-25T11:49:28.204226Z",
     "shell.execute_reply.started": "2022-10-25T11:49:28.199615Z"
    }
   },
   "outputs": [],
   "source": [
    "happy_sad[\"happy\"] = './Happy/' + happy_sad[\"happy\"]\n",
    "happy_sad[\"sad\"] = './Sad/' + happy_sad[\"sad\"]"
   ]
  },
  {
   "cell_type": "code",
   "execution_count": 41,
   "metadata": {
    "execution": {
     "iopub.execute_input": "2022-10-25T11:49:28.207298Z",
     "iopub.status.busy": "2022-10-25T11:49:28.206954Z",
     "iopub.status.idle": "2022-10-25T11:49:28.220680Z",
     "shell.execute_reply": "2022-10-25T11:49:28.219333Z",
     "shell.execute_reply.started": "2022-10-25T11:49:28.207264Z"
    }
   },
   "outputs": [
    {
     "data": {
      "text/html": [
       "<div>\n",
       "<style scoped>\n",
       "    .dataframe tbody tr th:only-of-type {\n",
       "        vertical-align: middle;\n",
       "    }\n",
       "\n",
       "    .dataframe tbody tr th {\n",
       "        vertical-align: top;\n",
       "    }\n",
       "\n",
       "    .dataframe thead th {\n",
       "        text-align: right;\n",
       "    }\n",
       "</style>\n",
       "<table border=\"1\" class=\"dataframe\">\n",
       "  <thead>\n",
       "    <tr style=\"text-align: right;\">\n",
       "      <th></th>\n",
       "      <th>happy</th>\n",
       "      <th>sad</th>\n",
       "    </tr>\n",
       "  </thead>\n",
       "  <tbody>\n",
       "    <tr>\n",
       "      <th>0</th>\n",
       "      <td>./Happy/03-01-03-01-02-01-03.wav</td>\n",
       "      <td>./Sad/03-01-04-01-02-01-03.wav</td>\n",
       "    </tr>\n",
       "    <tr>\n",
       "      <th>1</th>\n",
       "      <td>./Happy/03-01-03-02-02-02-09.wav</td>\n",
       "      <td>./Sad/03-01-04-02-02-02-09.wav</td>\n",
       "    </tr>\n",
       "    <tr>\n",
       "      <th>2</th>\n",
       "      <td>./Happy/03-01-03-02-02-01-24.wav</td>\n",
       "      <td>./Sad/03-01-04-02-02-01-24.wav</td>\n",
       "    </tr>\n",
       "    <tr>\n",
       "      <th>3</th>\n",
       "      <td>./Happy/03-01-03-01-01-01-03.wav</td>\n",
       "      <td>./Sad/03-01-04-01-01-01-03.wav</td>\n",
       "    </tr>\n",
       "    <tr>\n",
       "      <th>4</th>\n",
       "      <td>./Happy/03-01-03-01-01-01-12.wav</td>\n",
       "      <td>./Sad/03-01-04-01-01-01-12.wav</td>\n",
       "    </tr>\n",
       "  </tbody>\n",
       "</table>\n",
       "</div>"
      ],
      "text/plain": [
       "                              happy                             sad\n",
       "0  ./Happy/03-01-03-01-02-01-03.wav  ./Sad/03-01-04-01-02-01-03.wav\n",
       "1  ./Happy/03-01-03-02-02-02-09.wav  ./Sad/03-01-04-02-02-02-09.wav\n",
       "2  ./Happy/03-01-03-02-02-01-24.wav  ./Sad/03-01-04-02-02-01-24.wav\n",
       "3  ./Happy/03-01-03-01-01-01-03.wav  ./Sad/03-01-04-01-01-01-03.wav\n",
       "4  ./Happy/03-01-03-01-01-01-12.wav  ./Sad/03-01-04-01-01-01-12.wav"
      ]
     },
     "execution_count": 41,
     "metadata": {},
     "output_type": "execute_result"
    }
   ],
   "source": [
    "happy_sad.head()"
   ]
  },
  {
   "cell_type": "code",
   "execution_count": 42,
   "metadata": {
    "execution": {
     "iopub.execute_input": "2022-10-25T11:49:28.222816Z",
     "iopub.status.busy": "2022-10-25T11:49:28.222348Z",
     "iopub.status.idle": "2022-10-25T11:49:28.229733Z",
     "shell.execute_reply": "2022-10-25T11:49:28.228617Z",
     "shell.execute_reply.started": "2022-10-25T11:49:28.222778Z"
    }
   },
   "outputs": [],
   "source": [
    "train, test = train_test_split(happy_sad, test_size=0.20)"
   ]
  },
  {
   "cell_type": "code",
   "execution_count": 43,
   "metadata": {
    "execution": {
     "iopub.execute_input": "2022-10-25T11:49:28.231546Z",
     "iopub.status.busy": "2022-10-25T11:49:28.231041Z",
     "iopub.status.idle": "2022-10-25T11:50:02.090180Z",
     "shell.execute_reply": "2022-10-25T11:50:02.088700Z",
     "shell.execute_reply.started": "2022-10-25T11:49:28.231509Z"
    }
   },
   "outputs": [
    {
     "name": "stderr",
     "output_type": "stream",
     "text": [
      "/opt/conda/lib/python3.7/site-packages/librosa/util/decorators.py:88: UserWarning: Empty filters detected in mel frequency basis. Some channels will produce empty responses. Try increasing your sampling rate (and fmax) or reducing n_mels.\n",
      "  return f(*args, **kwargs)\n"
     ]
    }
   ],
   "source": [
    "file_count = 0\n",
    "train_happy_feature = []\n",
    "for count_, path in zip(range(train.shape[0]), train['happy'].values):\n",
    "    x , sr = librosa.load(path)\n",
    "    mfcc = librosa.feature.mfcc(y=x, sr=sr,n_fft = 256, n_mfcc=20)\n",
    "    mfcc_t = mfcc.T\n",
    "    N = mfcc_t.size\n",
    "    if mfcc_t.shape != (256,20):\n",
    "        mfcc_t = np.pad(mfcc_t, ((0,(256-mfcc_t.shape[0])),(0,0)), mode='constant')\n",
    "    train_happy_feature.append(mfcc_t)\n",
    "    count_ += 1"
   ]
  },
  {
   "cell_type": "code",
   "execution_count": 44,
   "metadata": {
    "execution": {
     "iopub.execute_input": "2022-10-25T11:50:02.092215Z",
     "iopub.status.busy": "2022-10-25T11:50:02.091863Z",
     "iopub.status.idle": "2022-10-25T11:50:36.227742Z",
     "shell.execute_reply": "2022-10-25T11:50:36.226269Z",
     "shell.execute_reply.started": "2022-10-25T11:50:02.092177Z"
    }
   },
   "outputs": [],
   "source": [
    "train_sad_feature = []\n",
    "for count_, path in zip(range(train.shape[0]), train['sad'].values):\n",
    "    x , sr = librosa.load(path)\n",
    "    mfcc = librosa.feature.mfcc(y=x, sr=sr,n_fft = 256, n_mfcc=20)\n",
    "    mfcc_t = mfcc.T\n",
    "    N = mfcc_t.size\n",
    "    if mfcc_t.shape != (256,20):\n",
    "        mfcc_t = np.pad(mfcc_t, ((0,(256-mfcc_t.shape[0])),(0,0)), mode='constant')\n",
    "    train_sad_feature.append(mfcc_t)\n",
    "    count_ += 1"
   ]
  },
  {
   "cell_type": "code",
   "execution_count": 45,
   "metadata": {
    "execution": {
     "iopub.execute_input": "2022-10-25T11:50:36.237857Z",
     "iopub.status.busy": "2022-10-25T11:50:36.234249Z",
     "iopub.status.idle": "2022-10-25T11:50:45.377735Z",
     "shell.execute_reply": "2022-10-25T11:50:45.376579Z",
     "shell.execute_reply.started": "2022-10-25T11:50:36.237800Z"
    }
   },
   "outputs": [],
   "source": [
    "file_count = 0\n",
    "test_happy_feature = []\n",
    "for count_, path in zip(range(test.shape[0]), test['happy'].values):\n",
    "    x , sr = librosa.load(path)\n",
    "    mfcc = librosa.feature.mfcc(y=x, sr=sr,n_fft = 256, n_mfcc=20)\n",
    "    mfcc_t = mfcc.T\n",
    "    N = mfcc_t.size\n",
    "    if mfcc_t.shape != (256,20):\n",
    "        mfcc_t = np.pad(mfcc_t, ((0,(256-mfcc_t.shape[0])),(0,0)), mode='constant')\n",
    "    test_happy_feature.append(mfcc_t)\n",
    "    count_ += 1"
   ]
  },
  {
   "cell_type": "code",
   "execution_count": 46,
   "metadata": {
    "execution": {
     "iopub.execute_input": "2022-10-25T11:50:45.386143Z",
     "iopub.status.busy": "2022-10-25T11:50:45.382757Z",
     "iopub.status.idle": "2022-10-25T11:50:54.164974Z",
     "shell.execute_reply": "2022-10-25T11:50:54.163458Z",
     "shell.execute_reply.started": "2022-10-25T11:50:45.386103Z"
    }
   },
   "outputs": [],
   "source": [
    "file_count = 0\n",
    "test_sad_feature = []\n",
    "for count_, path in zip(range(test.shape[0]), test['sad'].values):\n",
    "    x , sr = librosa.load(path)\n",
    "    mfcc = librosa.feature.mfcc(y=x, sr=sr,n_fft = 256, n_mfcc=20)\n",
    "    mfcc_t = mfcc.T\n",
    "    N = mfcc_t.size\n",
    "    if mfcc_t.shape != (256,20):\n",
    "        mfcc_t = np.pad(mfcc_t, ((0,(256-mfcc_t.shape[0])),(0,0)), mode='constant')\n",
    "    test_sad_feature.append(mfcc_t)\n",
    "    count_ += 1"
   ]
  },
  {
   "cell_type": "code",
   "execution_count": 47,
   "metadata": {
    "execution": {
     "iopub.execute_input": "2022-10-25T11:50:54.167593Z",
     "iopub.status.busy": "2022-10-25T11:50:54.166827Z",
     "iopub.status.idle": "2022-10-25T11:50:54.177675Z",
     "shell.execute_reply": "2022-10-25T11:50:54.176612Z",
     "shell.execute_reply.started": "2022-10-25T11:50:54.167552Z"
    }
   },
   "outputs": [
    {
     "data": {
      "text/plain": [
       "((39, 256, 20), (39, 256, 20))"
      ]
     },
     "execution_count": 47,
     "metadata": {},
     "output_type": "execute_result"
    }
   ],
   "source": [
    "np.array(test_happy_feature).shape,np.array(test_sad_feature).shape"
   ]
  },
  {
   "cell_type": "code",
   "execution_count": 48,
   "metadata": {
    "execution": {
     "iopub.execute_input": "2022-10-25T11:50:54.180631Z",
     "iopub.status.busy": "2022-10-25T11:50:54.179152Z",
     "iopub.status.idle": "2022-10-25T11:50:54.191382Z",
     "shell.execute_reply": "2022-10-25T11:50:54.190400Z",
     "shell.execute_reply.started": "2022-10-25T11:50:54.180581Z"
    }
   },
   "outputs": [
    {
     "data": {
      "text/plain": [
       "((153, 256, 20), (153, 256, 20))"
      ]
     },
     "execution_count": 48,
     "metadata": {},
     "output_type": "execute_result"
    }
   ],
   "source": [
    "np.array(train_happy_feature).shape,np.array(train_sad_feature).shape"
   ]
  },
  {
   "cell_type": "code",
   "execution_count": 49,
   "metadata": {
    "execution": {
     "iopub.execute_input": "2022-10-25T11:50:54.193836Z",
     "iopub.status.busy": "2022-10-25T11:50:54.193099Z",
     "iopub.status.idle": "2022-10-25T11:50:54.205868Z",
     "shell.execute_reply": "2022-10-25T11:50:54.204258Z",
     "shell.execute_reply.started": "2022-10-25T11:50:54.193799Z"
    }
   },
   "outputs": [],
   "source": [
    "train_happy_feature = np.array(train_happy_feature).reshape(153,256,20,1)\n",
    "train_sad_feature = np.array(train_sad_feature).reshape(153,256,20,1)\n",
    "test_happy_feature = np.array(test_happy_feature).reshape(39,256,20,1)\n",
    "test_sad_feature = np.array(test_sad_feature).reshape(39,256,20,1)"
   ]
  },
  {
   "cell_type": "code",
   "execution_count": 50,
   "metadata": {
    "execution": {
     "iopub.execute_input": "2022-10-25T11:50:54.213267Z",
     "iopub.status.busy": "2022-10-25T11:50:54.212503Z",
     "iopub.status.idle": "2022-10-25T11:50:54.222744Z",
     "shell.execute_reply": "2022-10-25T11:50:54.221383Z",
     "shell.execute_reply.started": "2022-10-25T11:50:54.213230Z"
    }
   },
   "outputs": [],
   "source": []
  },
  {
   "cell_type": "markdown",
   "metadata": {},
   "source": [
    "## Autoencoders"
   ]
  },
  {
   "cell_type": "code",
   "execution_count": 51,
   "metadata": {
    "execution": {
     "iopub.execute_input": "2022-10-25T11:50:54.225361Z",
     "iopub.status.busy": "2022-10-25T11:50:54.224529Z",
     "iopub.status.idle": "2022-10-25T11:50:54.309889Z",
     "shell.execute_reply": "2022-10-25T11:50:54.309036Z",
     "shell.execute_reply.started": "2022-10-25T11:50:54.225322Z"
    }
   },
   "outputs": [],
   "source": [
    "tf.keras.backend.clear_session()\n",
    "class SpeechAE(tf.keras.models.Model):\n",
    "    def __init__(self):\n",
    "        super(SpeechAE, self).__init__()\n",
    "        self.encoder = tf.keras.Sequential([\n",
    "        tf.keras.layers.InputLayer(input_shape=(256, 20, 1)),\n",
    "        tf.keras.layers.Conv2D(128, (3, 3), activation='relu', padding='same'),\n",
    "        tf.keras.layers.MaxPooling2D(2, 2),\n",
    "        tf.keras.layers.Conv2D(64, (3, 3), activation='relu', padding='same'),\n",
    "        tf.keras.layers.MaxPooling2D(2, 2)])\n",
    "\n",
    "        self.decoder = tf.keras.Sequential([\n",
    "        tf.keras.layers.Conv2D(64, (3, 3), activation='relu', padding='same'),\n",
    "        tf.keras.layers.UpSampling2D((2, 2)),\n",
    "        tf.keras.layers.Conv2D(64, (3, 3), activation='relu', padding='same'),\n",
    "        tf.keras.layers.UpSampling2D((2, 2)),\n",
    "        tf.keras.layers.Conv2D(128, (3, 3), activation='relu', padding='same'),\n",
    "        tf.keras.layers.Conv2D(1, kernel_size=(3, 3), activation='sigmoid', padding='same')])\n",
    "\n",
    "    def call(self, x):\n",
    "        encoded = self.encoder(x)\n",
    "        decoded = self.decoder(encoded)\n",
    "        return decoded\n",
    "\n",
    "autoencoder = SpeechAE()"
   ]
  },
  {
   "cell_type": "code",
   "execution_count": 52,
   "metadata": {
    "execution": {
     "iopub.execute_input": "2022-10-25T11:50:54.313160Z",
     "iopub.status.busy": "2022-10-25T11:50:54.312489Z",
     "iopub.status.idle": "2022-10-25T11:50:54.321772Z",
     "shell.execute_reply": "2022-10-25T11:50:54.320774Z",
     "shell.execute_reply.started": "2022-10-25T11:50:54.313119Z"
    }
   },
   "outputs": [],
   "source": [
    "autoencoder.compile(optimizer='adam', loss='binary_crossentropy')"
   ]
  },
  {
   "cell_type": "code",
   "execution_count": 53,
   "metadata": {
    "execution": {
     "iopub.execute_input": "2022-10-25T11:50:54.323596Z",
     "iopub.status.busy": "2022-10-25T11:50:54.323145Z",
     "iopub.status.idle": "2022-10-25T11:50:59.216492Z",
     "shell.execute_reply": "2022-10-25T11:50:59.215567Z",
     "shell.execute_reply.started": "2022-10-25T11:50:54.323558Z"
    }
   },
   "outputs": [
    {
     "name": "stdout",
     "output_type": "stream",
     "text": [
      "Epoch 1/20\n",
      "5/5 [==============================] - 2s 223ms/step - loss: -8875.7490 - val_loss: -54110.9688\n",
      "Epoch 2/20\n",
      "5/5 [==============================] - 0s 28ms/step - loss: -178879.4844 - val_loss: -679130.0625\n",
      "Epoch 3/20\n",
      "5/5 [==============================] - 0s 29ms/step - loss: -1605697.2500 - val_loss: -4873203.5000\n",
      "Epoch 4/20\n",
      "5/5 [==============================] - 0s 29ms/step - loss: -9600412.0000 - val_loss: -24999228.0000\n",
      "Epoch 5/20\n",
      "5/5 [==============================] - 0s 27ms/step - loss: -44044880.0000 - val_loss: -101769904.0000\n",
      "Epoch 6/20\n",
      "5/5 [==============================] - 0s 27ms/step - loss: -164493600.0000 - val_loss: -350396992.0000\n",
      "Epoch 7/20\n",
      "5/5 [==============================] - 0s 28ms/step - loss: -534103680.0000 - val_loss: -1059732480.0000\n",
      "Epoch 8/20\n",
      "5/5 [==============================] - 0s 27ms/step - loss: -1535992704.0000 - val_loss: -2886916608.0000\n",
      "Epoch 9/20\n",
      "5/5 [==============================] - 0s 27ms/step - loss: -4005263104.0000 - val_loss: -7209417728.0000\n",
      "Epoch 10/20\n",
      "5/5 [==============================] - 0s 27ms/step - loss: -9652923392.0000 - val_loss: -16726483968.0000\n",
      "Epoch 11/20\n",
      "5/5 [==============================] - 0s 27ms/step - loss: -21908600832.0000 - val_loss: -36430184448.0000\n",
      "Epoch 12/20\n",
      "5/5 [==============================] - 0s 27ms/step - loss: -46411665408.0000 - val_loss: -75010957312.0000\n",
      "Epoch 13/20\n",
      "5/5 [==============================] - 0s 27ms/step - loss: -93278617600.0000 - val_loss: -147060391936.0000\n",
      "Epoch 14/20\n",
      "5/5 [==============================] - 0s 27ms/step - loss: -180460355584.0000 - val_loss: -275992346624.0000\n",
      "Epoch 15/20\n",
      "5/5 [==============================] - 0s 27ms/step - loss: -332763594752.0000 - val_loss: -497927225344.0000\n",
      "Epoch 16/20\n",
      "5/5 [==============================] - 0s 27ms/step - loss: -591255240704.0000 - val_loss: -867100196864.0000\n",
      "Epoch 17/20\n",
      "5/5 [==============================] - 0s 29ms/step - loss: -1012983660544.0000 - val_loss: -1462702440448.0000\n",
      "Epoch 18/20\n",
      "5/5 [==============================] - 0s 27ms/step - loss: -1685038039040.0000 - val_loss: -2396690055168.0000\n",
      "Epoch 19/20\n",
      "5/5 [==============================] - 0s 27ms/step - loss: -2739795656704.0000 - val_loss: -3824577675264.0000\n",
      "Epoch 20/20\n",
      "5/5 [==============================] - 0s 27ms/step - loss: -4339244204032.0000 - val_loss: -5958484361216.0000\n"
     ]
    }
   ],
   "source": [
    "history = autoencoder.fit(train_happy_feature, train_happy_feature, epochs=20,\n",
    "                         validation_data = (test_happy_feature,test_sad_feature))"
   ]
  },
  {
   "cell_type": "code",
   "execution_count": 54,
   "metadata": {
    "execution": {
     "iopub.execute_input": "2022-10-25T11:50:59.220140Z",
     "iopub.status.busy": "2022-10-25T11:50:59.219830Z",
     "iopub.status.idle": "2022-10-25T11:50:59.228240Z",
     "shell.execute_reply": "2022-10-25T11:50:59.227046Z",
     "shell.execute_reply.started": "2022-10-25T11:50:59.220111Z"
    }
   },
   "outputs": [
    {
     "data": {
      "text/plain": [
       "(256, 20, 1)"
      ]
     },
     "execution_count": 54,
     "metadata": {},
     "output_type": "execute_result"
    }
   ],
   "source": [
    "a = train_happy_feature[1]\n",
    "np.array(a).shape"
   ]
  },
  {
   "cell_type": "code",
   "execution_count": 55,
   "metadata": {
    "execution": {
     "iopub.execute_input": "2022-10-25T11:50:59.230638Z",
     "iopub.status.busy": "2022-10-25T11:50:59.229808Z",
     "iopub.status.idle": "2022-10-25T11:50:59.295343Z",
     "shell.execute_reply": "2022-10-25T11:50:59.294342Z",
     "shell.execute_reply.started": "2022-10-25T11:50:59.230599Z"
    }
   },
   "outputs": [
    {
     "data": {
      "text/plain": [
       "(1, 256, 20, 1)"
      ]
     },
     "execution_count": 55,
     "metadata": {},
     "output_type": "execute_result"
    }
   ],
   "source": [
    "sample = np.array(test_happy_feature[0]).reshape(1,256,20,1)\n",
    "encoded_sample = autoencoder.encoder(sample).numpy()\n",
    "decoded_sample = autoencoder.decoder(encoded_sample).numpy()\n",
    "decoded_sample.shape"
   ]
  },
  {
   "cell_type": "code",
   "execution_count": 56,
   "metadata": {
    "execution": {
     "iopub.execute_input": "2022-10-25T11:50:59.297535Z",
     "iopub.status.busy": "2022-10-25T11:50:59.296645Z",
     "iopub.status.idle": "2022-10-25T11:50:59.558082Z",
     "shell.execute_reply": "2022-10-25T11:50:59.557330Z",
     "shell.execute_reply.started": "2022-10-25T11:50:59.297496Z"
    }
   },
   "outputs": [],
   "source": [
    "mfcc_x = librosa.feature.inverse.mfcc_to_audio(decoded_sample.reshape(256, 20))\n",
    "soundfile.write('example.wav', mfcc_x, 20000)"
   ]
  },
  {
   "cell_type": "code",
   "execution_count": 57,
   "metadata": {
    "execution": {
     "iopub.execute_input": "2022-10-25T11:50:59.560056Z",
     "iopub.status.busy": "2022-10-25T11:50:59.559311Z",
     "iopub.status.idle": "2022-10-25T11:50:59.568738Z",
     "shell.execute_reply": "2022-10-25T11:50:59.567776Z",
     "shell.execute_reply.started": "2022-10-25T11:50:59.560016Z"
    }
   },
   "outputs": [
    {
     "data": {
      "text/html": [
       "\n",
       "                <audio  controls=\"controls\" >\n",
       "                    <source src=\"data:audio/x-wav;base64,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\" type=\"audio/x-wav\" />\n",
       "                    Your browser does not support the audio element.\n",
       "                </audio>\n",
       "              "
      ],
      "text/plain": [
       "<IPython.lib.display.Audio object>"
      ]
     },
     "execution_count": 57,
     "metadata": {},
     "output_type": "execute_result"
    }
   ],
   "source": [
    "ipd.Audio('example.wav')"
   ]
  },
  {
   "cell_type": "markdown",
   "metadata": {},
   "source": [
    "## Variational Autoencoder"
   ]
  },
  {
   "cell_type": "code",
   "execution_count": 59,
   "metadata": {
    "execution": {
     "iopub.execute_input": "2022-10-25T11:50:59.578712Z",
     "iopub.status.busy": "2022-10-25T11:50:59.577684Z",
     "iopub.status.idle": "2022-10-25T11:50:59.587187Z",
     "shell.execute_reply": "2022-10-25T11:50:59.586194Z",
     "shell.execute_reply.started": "2022-10-25T11:50:59.578670Z"
    }
   },
   "outputs": [],
   "source": [
    "class Sampling(layers.Layer):\n",
    "    \"\"\"Uses (z_mean, z_log_var) to sample z, the vector encoding a digit.\"\"\"\n",
    "\n",
    "    def call(self, inputs):\n",
    "        z_mean, z_log_var = inputs\n",
    "        batch = tf.shape(z_mean)[0]\n",
    "        dim = tf.shape(z_mean)[1]\n",
    "        epsilon = tf.keras.backend.random_normal(shape=(batch, dim))\n",
    "        return z_mean + tf.exp(0.5 * z_log_var) * epsilon"
   ]
  },
  {
   "cell_type": "code",
   "execution_count": 74,
   "metadata": {
    "execution": {
     "iopub.execute_input": "2022-10-25T11:53:28.415108Z",
     "iopub.status.busy": "2022-10-25T11:53:28.414625Z",
     "iopub.status.idle": "2022-10-25T11:53:28.503116Z",
     "shell.execute_reply": "2022-10-25T11:53:28.502214Z",
     "shell.execute_reply.started": "2022-10-25T11:53:28.415065Z"
    }
   },
   "outputs": [
    {
     "name": "stdout",
     "output_type": "stream",
     "text": [
      "Model: \"encoder\"\n",
      "__________________________________________________________________________________________________\n",
      "Layer (type)                    Output Shape         Param #     Connected to                     \n",
      "==================================================================================================\n",
      "input_4 (InputLayer)            [(None, 256, 20, 1)] 0                                            \n",
      "__________________________________________________________________________________________________\n",
      "conv2d_8 (Conv2D)               (None, 128, 10, 32)  320         input_4[0][0]                    \n",
      "__________________________________________________________________________________________________\n",
      "conv2d_9 (Conv2D)               (None, 64, 5, 64)    18496       conv2d_8[0][0]                   \n",
      "__________________________________________________________________________________________________\n",
      "flatten_1 (Flatten)             (None, 20480)        0           conv2d_9[0][0]                   \n",
      "__________________________________________________________________________________________________\n",
      "dense_2 (Dense)                 (None, 16)           327696      flatten_1[0][0]                  \n",
      "__________________________________________________________________________________________________\n",
      "z_mean (Dense)                  (None, 2)            34          dense_2[0][0]                    \n",
      "__________________________________________________________________________________________________\n",
      "z_log_var (Dense)               (None, 2)            34          dense_2[0][0]                    \n",
      "__________________________________________________________________________________________________\n",
      "sampling_1 (Sampling)           (None, 2)            0           z_mean[0][0]                     \n",
      "                                                                 z_log_var[0][0]                  \n",
      "==================================================================================================\n",
      "Total params: 346,580\n",
      "Trainable params: 346,580\n",
      "Non-trainable params: 0\n",
      "__________________________________________________________________________________________________\n"
     ]
    }
   ],
   "source": [
    "latent_dim = 2\n",
    "\n",
    "encoder_inputs = keras.Input(shape=(256, 20, 1))\n",
    "x = layers.Conv2D(32, 3, activation=\"relu\", strides=2, padding=\"same\")(encoder_inputs)\n",
    "x = layers.Conv2D(64, 3, activation=\"relu\", strides=2, padding=\"same\")(x)\n",
    "x = layers.Flatten()(x)\n",
    "x = layers.Dense(16, activation=\"relu\")(x)\n",
    "z_mean = layers.Dense(latent_dim, name=\"z_mean\")(x)\n",
    "z_log_var = layers.Dense(latent_dim, name=\"z_log_var\")(x)\n",
    "z = Sampling()([z_mean, z_log_var])\n",
    "encoder = keras.Model(encoder_inputs, [z_mean, z_log_var, z], name=\"encoder\")\n",
    "encoder.summary()"
   ]
  },
  {
   "cell_type": "code",
   "execution_count": 75,
   "metadata": {
    "execution": {
     "iopub.execute_input": "2022-10-25T11:53:28.850777Z",
     "iopub.status.busy": "2022-10-25T11:53:28.849583Z",
     "iopub.status.idle": "2022-10-25T11:53:28.934246Z",
     "shell.execute_reply": "2022-10-25T11:53:28.933366Z",
     "shell.execute_reply.started": "2022-10-25T11:53:28.850735Z"
    }
   },
   "outputs": [
    {
     "name": "stdout",
     "output_type": "stream",
     "text": [
      "Model: \"decoder\"\n",
      "_________________________________________________________________\n",
      "Layer (type)                 Output Shape              Param #   \n",
      "=================================================================\n",
      "input_5 (InputLayer)         [(None, 2)]               0         \n",
      "_________________________________________________________________\n",
      "dense_3 (Dense)              (None, 20480)             61440     \n",
      "_________________________________________________________________\n",
      "reshape_1 (Reshape)          (None, 64, 5, 64)         0         \n",
      "_________________________________________________________________\n",
      "conv2d_transpose_3 (Conv2DTr (None, 128, 10, 64)       36928     \n",
      "_________________________________________________________________\n",
      "conv2d_transpose_4 (Conv2DTr (None, 256, 20, 32)       18464     \n",
      "_________________________________________________________________\n",
      "conv2d_transpose_5 (Conv2DTr (None, 256, 20, 1)        289       \n",
      "=================================================================\n",
      "Total params: 117,121\n",
      "Trainable params: 117,121\n",
      "Non-trainable params: 0\n",
      "_________________________________________________________________\n"
     ]
    }
   ],
   "source": [
    "latent_inputs = keras.Input(shape=(latent_dim,))\n",
    "x = layers.Dense(64 * 5 * 64, activation=\"relu\")(latent_inputs)\n",
    "x = layers.Reshape((64, 5, 64))(x)\n",
    "x = layers.Conv2DTranspose(64, 3, activation=\"relu\", strides=2, padding=\"same\")(x)\n",
    "x = layers.Conv2DTranspose(32, 3, activation=\"relu\", strides=2, padding=\"same\")(x)\n",
    "decoder_outputs = layers.Conv2DTranspose(1, 3, activation=\"sigmoid\", padding=\"same\")(x)\n",
    "decoder = keras.Model(latent_inputs, decoder_outputs, name=\"decoder\")\n",
    "decoder.summary()"
   ]
  },
  {
   "cell_type": "code",
   "execution_count": 76,
   "metadata": {
    "execution": {
     "iopub.execute_input": "2022-10-25T11:53:29.098123Z",
     "iopub.status.busy": "2022-10-25T11:53:29.094913Z",
     "iopub.status.idle": "2022-10-25T11:53:29.115554Z",
     "shell.execute_reply": "2022-10-25T11:53:29.114337Z",
     "shell.execute_reply.started": "2022-10-25T11:53:29.098077Z"
    }
   },
   "outputs": [],
   "source": [
    "class VAE(keras.Model):\n",
    "    def __init__(self, encoder, decoder, **kwargs):\n",
    "        super(VAE, self).__init__(**kwargs)\n",
    "        self.encoder = encoder\n",
    "        self.decoder = decoder\n",
    "        self.total_loss_tracker = keras.metrics.Mean(name=\"total_loss\")\n",
    "        self.reconstruction_loss_tracker = keras.metrics.Mean(\n",
    "            name=\"reconstruction_loss\"\n",
    "        )\n",
    "        self.kl_loss_tracker = keras.metrics.Mean(name=\"kl_loss\")\n",
    "\n",
    "    @property\n",
    "    def metrics(self):\n",
    "        return [\n",
    "            self.total_loss_tracker,\n",
    "            self.reconstruction_loss_tracker,\n",
    "            self.kl_loss_tracker,\n",
    "        ]\n",
    "\n",
    "    def train_step(self, data):\n",
    "        \n",
    "        with tf.GradientTape() as tape:\n",
    "            z_mean, z_log_var, z = self.encoder(data)\n",
    "            reconstruction = self.decoder(z)\n",
    "            reconstruction_loss = tf.reduce_mean(\n",
    "                tf.reduce_sum(\n",
    "                    keras.losses.binary_crossentropy(data, reconstruction), axis=(1, 2)\n",
    "                )\n",
    "            )\n",
    "            kl_loss = -0.5 * (1 + z_log_var - tf.square(z_mean) - tf.exp(z_log_var))\n",
    "            kl_loss = tf.reduce_mean(tf.reduce_sum(kl_loss, axis=1))\n",
    "            total_loss = reconstruction_loss + kl_loss\n",
    "        grads = tape.gradient(total_loss, self.trainable_weights)\n",
    "        self.optimizer.apply_gradients(zip(grads, self.trainable_weights))\n",
    "        self.total_loss_tracker.update_state(total_loss)\n",
    "        self.reconstruction_loss_tracker.update_state(reconstruction_loss)\n",
    "        self.kl_loss_tracker.update_state(kl_loss)\n",
    "        return {\n",
    "            \"loss\": self.total_loss_tracker.result(),\n",
    "            \"reconstruction_loss\": self.reconstruction_loss_tracker.result(),\n",
    "            \"kl_loss\": self.kl_loss_tracker.result(),\n",
    "        }\n",
    "    def call(self, x):\n",
    "        encoded = self.encoder(x)\n",
    "        decoded = self.decoder(encoded)\n",
    "        return decoded"
   ]
  },
  {
   "cell_type": "code",
   "execution_count": 77,
   "metadata": {
    "execution": {
     "iopub.execute_input": "2022-10-25T11:53:29.329056Z",
     "iopub.status.busy": "2022-10-25T11:53:29.328524Z",
     "iopub.status.idle": "2022-10-25T11:53:29.356536Z",
     "shell.execute_reply": "2022-10-25T11:53:29.355405Z",
     "shell.execute_reply.started": "2022-10-25T11:53:29.329013Z"
    }
   },
   "outputs": [],
   "source": [
    "vae = VAE(encoder, decoder)\n",
    "vae.compile(optimizer=keras.optimizers.Adam())"
   ]
  },
  {
   "cell_type": "code",
   "execution_count": 78,
   "metadata": {
    "execution": {
     "iopub.execute_input": "2022-10-25T11:53:29.688929Z",
     "iopub.status.busy": "2022-10-25T11:53:29.688555Z",
     "iopub.status.idle": "2022-10-25T11:53:31.461868Z",
     "shell.execute_reply": "2022-10-25T11:53:31.460856Z",
     "shell.execute_reply.started": "2022-10-25T11:53:29.688896Z"
    }
   },
   "outputs": [
    {
     "name": "stdout",
     "output_type": "stream",
     "text": [
      "Epoch 1/20\n",
      "5/5 [==============================] - 1s 9ms/step - loss: -2943.6825 - reconstruction_loss: -33005.5742 - kl_loss: 21455.3906\n",
      "Epoch 2/20\n",
      "5/5 [==============================] - 0s 9ms/step - loss: -52989.9580 - reconstruction_loss: -622874.3125 - kl_loss: 558211.9375\n",
      "Epoch 3/20\n",
      "5/5 [==============================] - 0s 10ms/step - loss: -12727.9271 - reconstruction_loss: -12355.7842 - kl_loss: 3.0301\n",
      "Epoch 4/20\n",
      "5/5 [==============================] - 0s 9ms/step - loss: -139973.1468 - reconstruction_loss: -1115508.7500 - kl_loss: 912655.0000\n",
      "Epoch 5/20\n",
      "5/5 [==============================] - 0s 9ms/step - loss: -155567.8021 - reconstruction_loss: -143706.2031 - kl_loss: 297.3375\n",
      "Epoch 6/20\n",
      "5/5 [==============================] - 0s 9ms/step - loss: -827604.3333 - reconstruction_loss: -1738071.2500 - kl_loss: 40641.0195\n",
      "Epoch 7/20\n",
      "5/5 [==============================] - 0s 9ms/step - loss: 93208212.6667 - reconstruction_loss: -45190552.0000 - kl_loss: 89153808.0000\n",
      "Epoch 8/20\n",
      "5/5 [==============================] - 0s 9ms/step - loss: -955903.0104 - reconstruction_loss: -929656.8125 - kl_loss: 247.6737\n",
      "Epoch 9/20\n",
      "5/5 [==============================] - 0s 9ms/step - loss: -908655.6042 - reconstruction_loss: -916521.8125 - kl_loss: 128.9882\n",
      "Epoch 10/20\n",
      "5/5 [==============================] - 0s 9ms/step - loss: -1088752.1146 - reconstruction_loss: -1127268.0000 - kl_loss: 143.3840\n",
      "Epoch 11/20\n",
      "5/5 [==============================] - 0s 9ms/step - loss: -27672666.3750 - reconstruction_loss: -92349600.0000 - kl_loss: 39894628.0000\n",
      "Epoch 12/20\n",
      "5/5 [==============================] - 0s 9ms/step - loss: 16601159.0000 - reconstruction_loss: -432184928.0000 - kl_loss: 456516256.0000\n",
      "Epoch 13/20\n",
      "5/5 [==============================] - 0s 9ms/step - loss: -1062664.3438 - reconstruction_loss: -927841.5000 - kl_loss: 21.0996\n",
      "Epoch 14/20\n",
      "5/5 [==============================] - 0s 8ms/step - loss: -887354.8125 - reconstruction_loss: -923689.1250 - kl_loss: 0.3836\n",
      "Epoch 15/20\n",
      "5/5 [==============================] - 0s 9ms/step - loss: -1193045.6354 - reconstruction_loss: -1324038.7500 - kl_loss: 3.3879\n",
      "Epoch 16/20\n",
      "5/5 [==============================] - 0s 9ms/step - loss: -2039480.7708 - reconstruction_loss: -2232607.5000 - kl_loss: 23.4054\n",
      "Epoch 17/20\n",
      "5/5 [==============================] - 0s 9ms/step - loss: -3091951.7500 - reconstruction_loss: -3294332.5000 - kl_loss: 63.4350\n",
      "Epoch 18/20\n",
      "5/5 [==============================] - 0s 8ms/step - loss: -4251015.2500 - reconstruction_loss: -4442585.0000 - kl_loss: 125.6499\n",
      "Epoch 19/20\n",
      "5/5 [==============================] - 0s 9ms/step - loss: -5466311.5833 - reconstruction_loss: -5684982.5000 - kl_loss: 213.6808\n",
      "Epoch 20/20\n",
      "5/5 [==============================] - 0s 8ms/step - loss: -6721554.3333 - reconstruction_loss: -7115425.5000 - kl_loss: 338.9913\n"
     ]
    }
   ],
   "source": [
    "history = vae.fit(train_happy_feature,\n",
    "                   epochs=20)"
   ]
  },
  {
   "cell_type": "code",
   "execution_count": 79,
   "metadata": {
    "execution": {
     "iopub.execute_input": "2022-10-25T11:53:31.464585Z",
     "iopub.status.busy": "2022-10-25T11:53:31.464174Z",
     "iopub.status.idle": "2022-10-25T11:53:31.472317Z",
     "shell.execute_reply": "2022-10-25T11:53:31.471139Z",
     "shell.execute_reply.started": "2022-10-25T11:53:31.464545Z"
    }
   },
   "outputs": [
    {
     "data": {
      "text/plain": [
       "(256, 20, 1)"
      ]
     },
     "execution_count": 79,
     "metadata": {},
     "output_type": "execute_result"
    }
   ],
   "source": [
    "a = train_happy_feature[1]\n",
    "np.array(a).shape"
   ]
  },
  {
   "cell_type": "code",
   "execution_count": 80,
   "metadata": {
    "execution": {
     "iopub.execute_input": "2022-10-25T11:53:31.475280Z",
     "iopub.status.busy": "2022-10-25T11:53:31.474297Z",
     "iopub.status.idle": "2022-10-25T11:53:31.496932Z",
     "shell.execute_reply": "2022-10-25T11:53:31.496063Z",
     "shell.execute_reply.started": "2022-10-25T11:53:31.475203Z"
    }
   },
   "outputs": [
    {
     "data": {
      "text/plain": [
       "(1, 256, 20, 1)"
      ]
     },
     "execution_count": 80,
     "metadata": {},
     "output_type": "execute_result"
    }
   ],
   "source": [
    "sample = np.array(test_happy_feature[0]).reshape(1,256,20,1)\n",
    "#decoded_sample = vae.predict(sample)\n",
    "z_mean, z_log_var, z = vae.encoder(sample)\n",
    "decoded_sample = vae.decoder(z).numpy()\n",
    "decoded_sample.shape"
   ]
  },
  {
   "cell_type": "code",
   "execution_count": 81,
   "metadata": {
    "execution": {
     "iopub.execute_input": "2022-10-25T11:53:46.379551Z",
     "iopub.status.busy": "2022-10-25T11:53:46.378905Z",
     "iopub.status.idle": "2022-10-25T11:53:46.665518Z",
     "shell.execute_reply": "2022-10-25T11:53:46.664562Z",
     "shell.execute_reply.started": "2022-10-25T11:53:46.379511Z"
    }
   },
   "outputs": [],
   "source": [
    "mfcc_x = librosa.feature.inverse.mfcc_to_audio(decoded_sample.reshape(256, 20))\n",
    "soundfile.write('example1.wav', mfcc_x, 20000)"
   ]
  },
  {
   "cell_type": "code",
   "execution_count": 82,
   "metadata": {
    "execution": {
     "iopub.execute_input": "2022-10-25T11:53:50.269008Z",
     "iopub.status.busy": "2022-10-25T11:53:50.268627Z",
     "iopub.status.idle": "2022-10-25T11:53:50.277585Z",
     "shell.execute_reply": "2022-10-25T11:53:50.276465Z",
     "shell.execute_reply.started": "2022-10-25T11:53:50.268976Z"
    }
   },
   "outputs": [
    {
     "data": {
      "text/html": [
       "\n",
       "                <audio  controls=\"controls\" >\n",
       "                    <source src=\"data:audio/x-wav;base64,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\" type=\"audio/x-wav\" />\n",
       "                    Your browser does not support the audio element.\n",
       "                </audio>\n",
       "              "
      ],
      "text/plain": [
       "<IPython.lib.display.Audio object>"
      ]
     },
     "execution_count": 82,
     "metadata": {},
     "output_type": "execute_result"
    }
   ],
   "source": [
    "ipd.Audio('example.wav')"
   ]
  },
  {
   "cell_type": "markdown",
   "metadata": {},
   "source": [
    "**Inference:** However the autoencoder was not able to recreate the audio files but an approach to do so can be used as reference and maybe considering different feature as input or making some changes in the model may help"
   ]
  },
  {
   "cell_type": "code",
   "execution_count": null,
   "metadata": {},
   "outputs": [],
   "source": []
  }
 ],
 "metadata": {
  "kernelspec": {
   "display_name": "Python 3 (ipykernel)",
   "language": "python",
   "name": "python3"
  },
  "language_info": {
   "codemirror_mode": {
    "name": "ipython",
    "version": 3
   },
   "file_extension": ".py",
   "mimetype": "text/x-python",
   "name": "python",
   "nbconvert_exporter": "python",
   "pygments_lexer": "ipython3",
   "version": "3.9.7"
  }
 },
 "nbformat": 4,
 "nbformat_minor": 4
}
