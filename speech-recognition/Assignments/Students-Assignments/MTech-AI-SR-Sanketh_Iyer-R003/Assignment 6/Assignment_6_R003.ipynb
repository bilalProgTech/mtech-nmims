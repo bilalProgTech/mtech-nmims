{
  "nbformat": 4,
  "nbformat_minor": 0,
  "metadata": {
    "colab": {
      "provenance": [],
      "collapsed_sections": []
    },
    "kernelspec": {
      "name": "python3",
      "display_name": "Python 3"
    },
    "language_info": {
      "name": "python"
    },
    "accelerator": "GPU",
    "gpuClass": "standard",
    "widgets": {
      "application/vnd.jupyter.widget-state+json": {
        "6b97f943eb3d428e86875710cb7dd855": {
          "model_module": "@jupyter-widgets/controls",
          "model_name": "HBoxModel",
          "model_module_version": "1.5.0",
          "state": {
            "_dom_classes": [],
            "_model_module": "@jupyter-widgets/controls",
            "_model_module_version": "1.5.0",
            "_model_name": "HBoxModel",
            "_view_count": null,
            "_view_module": "@jupyter-widgets/controls",
            "_view_module_version": "1.5.0",
            "_view_name": "HBoxView",
            "box_style": "",
            "children": [
              "IPY_MODEL_35923091ebbb4014ac501a0e8cbc49fd",
              "IPY_MODEL_e1d5d2cd85394f2f917974f2bc3e21bb",
              "IPY_MODEL_c62b9a05bc3d4aa9b8aacee674fe5b72"
            ],
            "layout": "IPY_MODEL_6aa2e94190fb478db6878895c009d2dd"
          }
        },
        "35923091ebbb4014ac501a0e8cbc49fd": {
          "model_module": "@jupyter-widgets/controls",
          "model_name": "HTMLModel",
          "model_module_version": "1.5.0",
          "state": {
            "_dom_classes": [],
            "_model_module": "@jupyter-widgets/controls",
            "_model_module_version": "1.5.0",
            "_model_name": "HTMLModel",
            "_view_count": null,
            "_view_module": "@jupyter-widgets/controls",
            "_view_module_version": "1.5.0",
            "_view_name": "HTMLView",
            "description": "",
            "description_tooltip": null,
            "layout": "IPY_MODEL_b8325c5c36c1451aa0f8480ebf59a329",
            "placeholder": "​",
            "style": "IPY_MODEL_46c928322bf54676824cdc642899c314",
            "value": "100%"
          }
        },
        "e1d5d2cd85394f2f917974f2bc3e21bb": {
          "model_module": "@jupyter-widgets/controls",
          "model_name": "FloatProgressModel",
          "model_module_version": "1.5.0",
          "state": {
            "_dom_classes": [],
            "_model_module": "@jupyter-widgets/controls",
            "_model_module_version": "1.5.0",
            "_model_name": "FloatProgressModel",
            "_view_count": null,
            "_view_module": "@jupyter-widgets/controls",
            "_view_module_version": "1.5.0",
            "_view_name": "ProgressView",
            "bar_style": "success",
            "description": "",
            "description_tooltip": null,
            "layout": "IPY_MODEL_bfcc3f9f72444175940d21b271271968",
            "max": 1900,
            "min": 0,
            "orientation": "horizontal",
            "style": "IPY_MODEL_de62568ac41b4cb38add54d0aafdc5fc",
            "value": 1900
          }
        },
        "c62b9a05bc3d4aa9b8aacee674fe5b72": {
          "model_module": "@jupyter-widgets/controls",
          "model_name": "HTMLModel",
          "model_module_version": "1.5.0",
          "state": {
            "_dom_classes": [],
            "_model_module": "@jupyter-widgets/controls",
            "_model_module_version": "1.5.0",
            "_model_name": "HTMLModel",
            "_view_count": null,
            "_view_module": "@jupyter-widgets/controls",
            "_view_module_version": "1.5.0",
            "_view_name": "HTMLView",
            "description": "",
            "description_tooltip": null,
            "layout": "IPY_MODEL_e93b05b75d0042cc83490c4b7255b636",
            "placeholder": "​",
            "style": "IPY_MODEL_37e3b7b03f794f639db074f17b787b98",
            "value": " 1900/1900 [11:18&lt;00:00,  3.22it/s]"
          }
        },
        "6aa2e94190fb478db6878895c009d2dd": {
          "model_module": "@jupyter-widgets/base",
          "model_name": "LayoutModel",
          "model_module_version": "1.2.0",
          "state": {
            "_model_module": "@jupyter-widgets/base",
            "_model_module_version": "1.2.0",
            "_model_name": "LayoutModel",
            "_view_count": null,
            "_view_module": "@jupyter-widgets/base",
            "_view_module_version": "1.2.0",
            "_view_name": "LayoutView",
            "align_content": null,
            "align_items": null,
            "align_self": null,
            "border": null,
            "bottom": null,
            "display": null,
            "flex": null,
            "flex_flow": null,
            "grid_area": null,
            "grid_auto_columns": null,
            "grid_auto_flow": null,
            "grid_auto_rows": null,
            "grid_column": null,
            "grid_gap": null,
            "grid_row": null,
            "grid_template_areas": null,
            "grid_template_columns": null,
            "grid_template_rows": null,
            "height": null,
            "justify_content": null,
            "justify_items": null,
            "left": null,
            "margin": null,
            "max_height": null,
            "max_width": null,
            "min_height": null,
            "min_width": null,
            "object_fit": null,
            "object_position": null,
            "order": null,
            "overflow": null,
            "overflow_x": null,
            "overflow_y": null,
            "padding": null,
            "right": null,
            "top": null,
            "visibility": null,
            "width": null
          }
        },
        "b8325c5c36c1451aa0f8480ebf59a329": {
          "model_module": "@jupyter-widgets/base",
          "model_name": "LayoutModel",
          "model_module_version": "1.2.0",
          "state": {
            "_model_module": "@jupyter-widgets/base",
            "_model_module_version": "1.2.0",
            "_model_name": "LayoutModel",
            "_view_count": null,
            "_view_module": "@jupyter-widgets/base",
            "_view_module_version": "1.2.0",
            "_view_name": "LayoutView",
            "align_content": null,
            "align_items": null,
            "align_self": null,
            "border": null,
            "bottom": null,
            "display": null,
            "flex": null,
            "flex_flow": null,
            "grid_area": null,
            "grid_auto_columns": null,
            "grid_auto_flow": null,
            "grid_auto_rows": null,
            "grid_column": null,
            "grid_gap": null,
            "grid_row": null,
            "grid_template_areas": null,
            "grid_template_columns": null,
            "grid_template_rows": null,
            "height": null,
            "justify_content": null,
            "justify_items": null,
            "left": null,
            "margin": null,
            "max_height": null,
            "max_width": null,
            "min_height": null,
            "min_width": null,
            "object_fit": null,
            "object_position": null,
            "order": null,
            "overflow": null,
            "overflow_x": null,
            "overflow_y": null,
            "padding": null,
            "right": null,
            "top": null,
            "visibility": null,
            "width": null
          }
        },
        "46c928322bf54676824cdc642899c314": {
          "model_module": "@jupyter-widgets/controls",
          "model_name": "DescriptionStyleModel",
          "model_module_version": "1.5.0",
          "state": {
            "_model_module": "@jupyter-widgets/controls",
            "_model_module_version": "1.5.0",
            "_model_name": "DescriptionStyleModel",
            "_view_count": null,
            "_view_module": "@jupyter-widgets/base",
            "_view_module_version": "1.2.0",
            "_view_name": "StyleView",
            "description_width": ""
          }
        },
        "bfcc3f9f72444175940d21b271271968": {
          "model_module": "@jupyter-widgets/base",
          "model_name": "LayoutModel",
          "model_module_version": "1.2.0",
          "state": {
            "_model_module": "@jupyter-widgets/base",
            "_model_module_version": "1.2.0",
            "_model_name": "LayoutModel",
            "_view_count": null,
            "_view_module": "@jupyter-widgets/base",
            "_view_module_version": "1.2.0",
            "_view_name": "LayoutView",
            "align_content": null,
            "align_items": null,
            "align_self": null,
            "border": null,
            "bottom": null,
            "display": null,
            "flex": null,
            "flex_flow": null,
            "grid_area": null,
            "grid_auto_columns": null,
            "grid_auto_flow": null,
            "grid_auto_rows": null,
            "grid_column": null,
            "grid_gap": null,
            "grid_row": null,
            "grid_template_areas": null,
            "grid_template_columns": null,
            "grid_template_rows": null,
            "height": null,
            "justify_content": null,
            "justify_items": null,
            "left": null,
            "margin": null,
            "max_height": null,
            "max_width": null,
            "min_height": null,
            "min_width": null,
            "object_fit": null,
            "object_position": null,
            "order": null,
            "overflow": null,
            "overflow_x": null,
            "overflow_y": null,
            "padding": null,
            "right": null,
            "top": null,
            "visibility": null,
            "width": null
          }
        },
        "de62568ac41b4cb38add54d0aafdc5fc": {
          "model_module": "@jupyter-widgets/controls",
          "model_name": "ProgressStyleModel",
          "model_module_version": "1.5.0",
          "state": {
            "_model_module": "@jupyter-widgets/controls",
            "_model_module_version": "1.5.0",
            "_model_name": "ProgressStyleModel",
            "_view_count": null,
            "_view_module": "@jupyter-widgets/base",
            "_view_module_version": "1.2.0",
            "_view_name": "StyleView",
            "bar_color": null,
            "description_width": ""
          }
        },
        "e93b05b75d0042cc83490c4b7255b636": {
          "model_module": "@jupyter-widgets/base",
          "model_name": "LayoutModel",
          "model_module_version": "1.2.0",
          "state": {
            "_model_module": "@jupyter-widgets/base",
            "_model_module_version": "1.2.0",
            "_model_name": "LayoutModel",
            "_view_count": null,
            "_view_module": "@jupyter-widgets/base",
            "_view_module_version": "1.2.0",
            "_view_name": "LayoutView",
            "align_content": null,
            "align_items": null,
            "align_self": null,
            "border": null,
            "bottom": null,
            "display": null,
            "flex": null,
            "flex_flow": null,
            "grid_area": null,
            "grid_auto_columns": null,
            "grid_auto_flow": null,
            "grid_auto_rows": null,
            "grid_column": null,
            "grid_gap": null,
            "grid_row": null,
            "grid_template_areas": null,
            "grid_template_columns": null,
            "grid_template_rows": null,
            "height": null,
            "justify_content": null,
            "justify_items": null,
            "left": null,
            "margin": null,
            "max_height": null,
            "max_width": null,
            "min_height": null,
            "min_width": null,
            "object_fit": null,
            "object_position": null,
            "order": null,
            "overflow": null,
            "overflow_x": null,
            "overflow_y": null,
            "padding": null,
            "right": null,
            "top": null,
            "visibility": null,
            "width": null
          }
        },
        "37e3b7b03f794f639db074f17b787b98": {
          "model_module": "@jupyter-widgets/controls",
          "model_name": "DescriptionStyleModel",
          "model_module_version": "1.5.0",
          "state": {
            "_model_module": "@jupyter-widgets/controls",
            "_model_module_version": "1.5.0",
            "_model_name": "DescriptionStyleModel",
            "_view_count": null,
            "_view_module": "@jupyter-widgets/base",
            "_view_module_version": "1.2.0",
            "_view_name": "StyleView",
            "description_width": ""
          }
        },
        "e03a4da48fb34cc68fab2a92aecd5bea": {
          "model_module": "@jupyter-widgets/controls",
          "model_name": "HBoxModel",
          "model_module_version": "1.5.0",
          "state": {
            "_dom_classes": [],
            "_model_module": "@jupyter-widgets/controls",
            "_model_module_version": "1.5.0",
            "_model_name": "HBoxModel",
            "_view_count": null,
            "_view_module": "@jupyter-widgets/controls",
            "_view_module_version": "1.5.0",
            "_view_name": "HBoxView",
            "box_style": "",
            "children": [
              "IPY_MODEL_993786c741d24a7789c82f7136f9c34a",
              "IPY_MODEL_ff6efd9fb54546ebbd7cc0dca6e976ef",
              "IPY_MODEL_cd9d0f3ac6844da583cf6eb72ec17740"
            ],
            "layout": "IPY_MODEL_e36509eeeef7404489a34ca8e1dbf88d"
          }
        },
        "993786c741d24a7789c82f7136f9c34a": {
          "model_module": "@jupyter-widgets/controls",
          "model_name": "HTMLModel",
          "model_module_version": "1.5.0",
          "state": {
            "_dom_classes": [],
            "_model_module": "@jupyter-widgets/controls",
            "_model_module_version": "1.5.0",
            "_model_name": "HTMLModel",
            "_view_count": null,
            "_view_module": "@jupyter-widgets/controls",
            "_view_module_version": "1.5.0",
            "_view_name": "HTMLView",
            "description": "",
            "description_tooltip": null,
            "layout": "IPY_MODEL_90978ec1447f4f649764a337e3ab91ef",
            "placeholder": "​",
            "style": "IPY_MODEL_9af427e05e444a19bcd4412991bbe120",
            "value": "100%"
          }
        },
        "ff6efd9fb54546ebbd7cc0dca6e976ef": {
          "model_module": "@jupyter-widgets/controls",
          "model_name": "FloatProgressModel",
          "model_module_version": "1.5.0",
          "state": {
            "_dom_classes": [],
            "_model_module": "@jupyter-widgets/controls",
            "_model_module_version": "1.5.0",
            "_model_name": "FloatProgressModel",
            "_view_count": null,
            "_view_module": "@jupyter-widgets/controls",
            "_view_module_version": "1.5.0",
            "_view_name": "ProgressView",
            "bar_style": "success",
            "description": "",
            "description_tooltip": null,
            "layout": "IPY_MODEL_52e43dd10c7b48b58c3dd147bca949d9",
            "max": 1900,
            "min": 0,
            "orientation": "horizontal",
            "style": "IPY_MODEL_8105f9d89ad04229957019ec3c4504bd",
            "value": 1900
          }
        },
        "cd9d0f3ac6844da583cf6eb72ec17740": {
          "model_module": "@jupyter-widgets/controls",
          "model_name": "HTMLModel",
          "model_module_version": "1.5.0",
          "state": {
            "_dom_classes": [],
            "_model_module": "@jupyter-widgets/controls",
            "_model_module_version": "1.5.0",
            "_model_name": "HTMLModel",
            "_view_count": null,
            "_view_module": "@jupyter-widgets/controls",
            "_view_module_version": "1.5.0",
            "_view_name": "HTMLView",
            "description": "",
            "description_tooltip": null,
            "layout": "IPY_MODEL_6d02a460e03f46078ecb3979ead53731",
            "placeholder": "​",
            "style": "IPY_MODEL_c9208f6471664b5096b1ef1dfc4cbd4e",
            "value": " 1900/1900 [00:51&lt;00:00, 35.72it/s]"
          }
        },
        "e36509eeeef7404489a34ca8e1dbf88d": {
          "model_module": "@jupyter-widgets/base",
          "model_name": "LayoutModel",
          "model_module_version": "1.2.0",
          "state": {
            "_model_module": "@jupyter-widgets/base",
            "_model_module_version": "1.2.0",
            "_model_name": "LayoutModel",
            "_view_count": null,
            "_view_module": "@jupyter-widgets/base",
            "_view_module_version": "1.2.0",
            "_view_name": "LayoutView",
            "align_content": null,
            "align_items": null,
            "align_self": null,
            "border": null,
            "bottom": null,
            "display": null,
            "flex": null,
            "flex_flow": null,
            "grid_area": null,
            "grid_auto_columns": null,
            "grid_auto_flow": null,
            "grid_auto_rows": null,
            "grid_column": null,
            "grid_gap": null,
            "grid_row": null,
            "grid_template_areas": null,
            "grid_template_columns": null,
            "grid_template_rows": null,
            "height": null,
            "justify_content": null,
            "justify_items": null,
            "left": null,
            "margin": null,
            "max_height": null,
            "max_width": null,
            "min_height": null,
            "min_width": null,
            "object_fit": null,
            "object_position": null,
            "order": null,
            "overflow": null,
            "overflow_x": null,
            "overflow_y": null,
            "padding": null,
            "right": null,
            "top": null,
            "visibility": null,
            "width": null
          }
        },
        "90978ec1447f4f649764a337e3ab91ef": {
          "model_module": "@jupyter-widgets/base",
          "model_name": "LayoutModel",
          "model_module_version": "1.2.0",
          "state": {
            "_model_module": "@jupyter-widgets/base",
            "_model_module_version": "1.2.0",
            "_model_name": "LayoutModel",
            "_view_count": null,
            "_view_module": "@jupyter-widgets/base",
            "_view_module_version": "1.2.0",
            "_view_name": "LayoutView",
            "align_content": null,
            "align_items": null,
            "align_self": null,
            "border": null,
            "bottom": null,
            "display": null,
            "flex": null,
            "flex_flow": null,
            "grid_area": null,
            "grid_auto_columns": null,
            "grid_auto_flow": null,
            "grid_auto_rows": null,
            "grid_column": null,
            "grid_gap": null,
            "grid_row": null,
            "grid_template_areas": null,
            "grid_template_columns": null,
            "grid_template_rows": null,
            "height": null,
            "justify_content": null,
            "justify_items": null,
            "left": null,
            "margin": null,
            "max_height": null,
            "max_width": null,
            "min_height": null,
            "min_width": null,
            "object_fit": null,
            "object_position": null,
            "order": null,
            "overflow": null,
            "overflow_x": null,
            "overflow_y": null,
            "padding": null,
            "right": null,
            "top": null,
            "visibility": null,
            "width": null
          }
        },
        "9af427e05e444a19bcd4412991bbe120": {
          "model_module": "@jupyter-widgets/controls",
          "model_name": "DescriptionStyleModel",
          "model_module_version": "1.5.0",
          "state": {
            "_model_module": "@jupyter-widgets/controls",
            "_model_module_version": "1.5.0",
            "_model_name": "DescriptionStyleModel",
            "_view_count": null,
            "_view_module": "@jupyter-widgets/base",
            "_view_module_version": "1.2.0",
            "_view_name": "StyleView",
            "description_width": ""
          }
        },
        "52e43dd10c7b48b58c3dd147bca949d9": {
          "model_module": "@jupyter-widgets/base",
          "model_name": "LayoutModel",
          "model_module_version": "1.2.0",
          "state": {
            "_model_module": "@jupyter-widgets/base",
            "_model_module_version": "1.2.0",
            "_model_name": "LayoutModel",
            "_view_count": null,
            "_view_module": "@jupyter-widgets/base",
            "_view_module_version": "1.2.0",
            "_view_name": "LayoutView",
            "align_content": null,
            "align_items": null,
            "align_self": null,
            "border": null,
            "bottom": null,
            "display": null,
            "flex": null,
            "flex_flow": null,
            "grid_area": null,
            "grid_auto_columns": null,
            "grid_auto_flow": null,
            "grid_auto_rows": null,
            "grid_column": null,
            "grid_gap": null,
            "grid_row": null,
            "grid_template_areas": null,
            "grid_template_columns": null,
            "grid_template_rows": null,
            "height": null,
            "justify_content": null,
            "justify_items": null,
            "left": null,
            "margin": null,
            "max_height": null,
            "max_width": null,
            "min_height": null,
            "min_width": null,
            "object_fit": null,
            "object_position": null,
            "order": null,
            "overflow": null,
            "overflow_x": null,
            "overflow_y": null,
            "padding": null,
            "right": null,
            "top": null,
            "visibility": null,
            "width": null
          }
        },
        "8105f9d89ad04229957019ec3c4504bd": {
          "model_module": "@jupyter-widgets/controls",
          "model_name": "ProgressStyleModel",
          "model_module_version": "1.5.0",
          "state": {
            "_model_module": "@jupyter-widgets/controls",
            "_model_module_version": "1.5.0",
            "_model_name": "ProgressStyleModel",
            "_view_count": null,
            "_view_module": "@jupyter-widgets/base",
            "_view_module_version": "1.2.0",
            "_view_name": "StyleView",
            "bar_color": null,
            "description_width": ""
          }
        },
        "6d02a460e03f46078ecb3979ead53731": {
          "model_module": "@jupyter-widgets/base",
          "model_name": "LayoutModel",
          "model_module_version": "1.2.0",
          "state": {
            "_model_module": "@jupyter-widgets/base",
            "_model_module_version": "1.2.0",
            "_model_name": "LayoutModel",
            "_view_count": null,
            "_view_module": "@jupyter-widgets/base",
            "_view_module_version": "1.2.0",
            "_view_name": "LayoutView",
            "align_content": null,
            "align_items": null,
            "align_self": null,
            "border": null,
            "bottom": null,
            "display": null,
            "flex": null,
            "flex_flow": null,
            "grid_area": null,
            "grid_auto_columns": null,
            "grid_auto_flow": null,
            "grid_auto_rows": null,
            "grid_column": null,
            "grid_gap": null,
            "grid_row": null,
            "grid_template_areas": null,
            "grid_template_columns": null,
            "grid_template_rows": null,
            "height": null,
            "justify_content": null,
            "justify_items": null,
            "left": null,
            "margin": null,
            "max_height": null,
            "max_width": null,
            "min_height": null,
            "min_width": null,
            "object_fit": null,
            "object_position": null,
            "order": null,
            "overflow": null,
            "overflow_x": null,
            "overflow_y": null,
            "padding": null,
            "right": null,
            "top": null,
            "visibility": null,
            "width": null
          }
        },
        "c9208f6471664b5096b1ef1dfc4cbd4e": {
          "model_module": "@jupyter-widgets/controls",
          "model_name": "DescriptionStyleModel",
          "model_module_version": "1.5.0",
          "state": {
            "_model_module": "@jupyter-widgets/controls",
            "_model_module_version": "1.5.0",
            "_model_name": "DescriptionStyleModel",
            "_view_count": null,
            "_view_module": "@jupyter-widgets/base",
            "_view_module_version": "1.2.0",
            "_view_name": "StyleView",
            "description_width": ""
          }
        },
        "8a0364aa889a4676acbffc29145cb878": {
          "model_module": "@jupyter-widgets/controls",
          "model_name": "HBoxModel",
          "model_module_version": "1.5.0",
          "state": {
            "_dom_classes": [],
            "_model_module": "@jupyter-widgets/controls",
            "_model_module_version": "1.5.0",
            "_model_name": "HBoxModel",
            "_view_count": null,
            "_view_module": "@jupyter-widgets/controls",
            "_view_module_version": "1.5.0",
            "_view_name": "HBoxView",
            "box_style": "",
            "children": [
              "IPY_MODEL_bdd548b426074a2a9e75fc10e87f6e2c",
              "IPY_MODEL_83bec2d9e49a42469a0320938d25e9ea",
              "IPY_MODEL_5348d16dfd804d01b7c79f4439ce67be"
            ],
            "layout": "IPY_MODEL_2244dcc6f0de4c73bc09fae12a4689fa"
          }
        },
        "bdd548b426074a2a9e75fc10e87f6e2c": {
          "model_module": "@jupyter-widgets/controls",
          "model_name": "HTMLModel",
          "model_module_version": "1.5.0",
          "state": {
            "_dom_classes": [],
            "_model_module": "@jupyter-widgets/controls",
            "_model_module_version": "1.5.0",
            "_model_name": "HTMLModel",
            "_view_count": null,
            "_view_module": "@jupyter-widgets/controls",
            "_view_module_version": "1.5.0",
            "_view_name": "HTMLView",
            "description": "",
            "description_tooltip": null,
            "layout": "IPY_MODEL_f8d27162f8e34a55b23ac7441bac1a12",
            "placeholder": "​",
            "style": "IPY_MODEL_84e0da8a1c934e09b1a0d03580395434",
            "value": "100%"
          }
        },
        "83bec2d9e49a42469a0320938d25e9ea": {
          "model_module": "@jupyter-widgets/controls",
          "model_name": "FloatProgressModel",
          "model_module_version": "1.5.0",
          "state": {
            "_dom_classes": [],
            "_model_module": "@jupyter-widgets/controls",
            "_model_module_version": "1.5.0",
            "_model_name": "FloatProgressModel",
            "_view_count": null,
            "_view_module": "@jupyter-widgets/controls",
            "_view_module_version": "1.5.0",
            "_view_name": "ProgressView",
            "bar_style": "success",
            "description": "",
            "description_tooltip": null,
            "layout": "IPY_MODEL_521bd7e576f34d779f25c48353f9838b",
            "max": 1900,
            "min": 0,
            "orientation": "horizontal",
            "style": "IPY_MODEL_0c418b24310f45ba8f425503f14b283c",
            "value": 1900
          }
        },
        "5348d16dfd804d01b7c79f4439ce67be": {
          "model_module": "@jupyter-widgets/controls",
          "model_name": "HTMLModel",
          "model_module_version": "1.5.0",
          "state": {
            "_dom_classes": [],
            "_model_module": "@jupyter-widgets/controls",
            "_model_module_version": "1.5.0",
            "_model_name": "HTMLModel",
            "_view_count": null,
            "_view_module": "@jupyter-widgets/controls",
            "_view_module_version": "1.5.0",
            "_view_name": "HTMLView",
            "description": "",
            "description_tooltip": null,
            "layout": "IPY_MODEL_e359a1f9eb964f6584b8669400620769",
            "placeholder": "​",
            "style": "IPY_MODEL_2de4ff16ef2e43da8f00b4b0ee398fc5",
            "value": " 1900/1900 [00:51&lt;00:00, 35.98it/s]"
          }
        },
        "2244dcc6f0de4c73bc09fae12a4689fa": {
          "model_module": "@jupyter-widgets/base",
          "model_name": "LayoutModel",
          "model_module_version": "1.2.0",
          "state": {
            "_model_module": "@jupyter-widgets/base",
            "_model_module_version": "1.2.0",
            "_model_name": "LayoutModel",
            "_view_count": null,
            "_view_module": "@jupyter-widgets/base",
            "_view_module_version": "1.2.0",
            "_view_name": "LayoutView",
            "align_content": null,
            "align_items": null,
            "align_self": null,
            "border": null,
            "bottom": null,
            "display": null,
            "flex": null,
            "flex_flow": null,
            "grid_area": null,
            "grid_auto_columns": null,
            "grid_auto_flow": null,
            "grid_auto_rows": null,
            "grid_column": null,
            "grid_gap": null,
            "grid_row": null,
            "grid_template_areas": null,
            "grid_template_columns": null,
            "grid_template_rows": null,
            "height": null,
            "justify_content": null,
            "justify_items": null,
            "left": null,
            "margin": null,
            "max_height": null,
            "max_width": null,
            "min_height": null,
            "min_width": null,
            "object_fit": null,
            "object_position": null,
            "order": null,
            "overflow": null,
            "overflow_x": null,
            "overflow_y": null,
            "padding": null,
            "right": null,
            "top": null,
            "visibility": null,
            "width": null
          }
        },
        "f8d27162f8e34a55b23ac7441bac1a12": {
          "model_module": "@jupyter-widgets/base",
          "model_name": "LayoutModel",
          "model_module_version": "1.2.0",
          "state": {
            "_model_module": "@jupyter-widgets/base",
            "_model_module_version": "1.2.0",
            "_model_name": "LayoutModel",
            "_view_count": null,
            "_view_module": "@jupyter-widgets/base",
            "_view_module_version": "1.2.0",
            "_view_name": "LayoutView",
            "align_content": null,
            "align_items": null,
            "align_self": null,
            "border": null,
            "bottom": null,
            "display": null,
            "flex": null,
            "flex_flow": null,
            "grid_area": null,
            "grid_auto_columns": null,
            "grid_auto_flow": null,
            "grid_auto_rows": null,
            "grid_column": null,
            "grid_gap": null,
            "grid_row": null,
            "grid_template_areas": null,
            "grid_template_columns": null,
            "grid_template_rows": null,
            "height": null,
            "justify_content": null,
            "justify_items": null,
            "left": null,
            "margin": null,
            "max_height": null,
            "max_width": null,
            "min_height": null,
            "min_width": null,
            "object_fit": null,
            "object_position": null,
            "order": null,
            "overflow": null,
            "overflow_x": null,
            "overflow_y": null,
            "padding": null,
            "right": null,
            "top": null,
            "visibility": null,
            "width": null
          }
        },
        "84e0da8a1c934e09b1a0d03580395434": {
          "model_module": "@jupyter-widgets/controls",
          "model_name": "DescriptionStyleModel",
          "model_module_version": "1.5.0",
          "state": {
            "_model_module": "@jupyter-widgets/controls",
            "_model_module_version": "1.5.0",
            "_model_name": "DescriptionStyleModel",
            "_view_count": null,
            "_view_module": "@jupyter-widgets/base",
            "_view_module_version": "1.2.0",
            "_view_name": "StyleView",
            "description_width": ""
          }
        },
        "521bd7e576f34d779f25c48353f9838b": {
          "model_module": "@jupyter-widgets/base",
          "model_name": "LayoutModel",
          "model_module_version": "1.2.0",
          "state": {
            "_model_module": "@jupyter-widgets/base",
            "_model_module_version": "1.2.0",
            "_model_name": "LayoutModel",
            "_view_count": null,
            "_view_module": "@jupyter-widgets/base",
            "_view_module_version": "1.2.0",
            "_view_name": "LayoutView",
            "align_content": null,
            "align_items": null,
            "align_self": null,
            "border": null,
            "bottom": null,
            "display": null,
            "flex": null,
            "flex_flow": null,
            "grid_area": null,
            "grid_auto_columns": null,
            "grid_auto_flow": null,
            "grid_auto_rows": null,
            "grid_column": null,
            "grid_gap": null,
            "grid_row": null,
            "grid_template_areas": null,
            "grid_template_columns": null,
            "grid_template_rows": null,
            "height": null,
            "justify_content": null,
            "justify_items": null,
            "left": null,
            "margin": null,
            "max_height": null,
            "max_width": null,
            "min_height": null,
            "min_width": null,
            "object_fit": null,
            "object_position": null,
            "order": null,
            "overflow": null,
            "overflow_x": null,
            "overflow_y": null,
            "padding": null,
            "right": null,
            "top": null,
            "visibility": null,
            "width": null
          }
        },
        "0c418b24310f45ba8f425503f14b283c": {
          "model_module": "@jupyter-widgets/controls",
          "model_name": "ProgressStyleModel",
          "model_module_version": "1.5.0",
          "state": {
            "_model_module": "@jupyter-widgets/controls",
            "_model_module_version": "1.5.0",
            "_model_name": "ProgressStyleModel",
            "_view_count": null,
            "_view_module": "@jupyter-widgets/base",
            "_view_module_version": "1.2.0",
            "_view_name": "StyleView",
            "bar_color": null,
            "description_width": ""
          }
        },
        "e359a1f9eb964f6584b8669400620769": {
          "model_module": "@jupyter-widgets/base",
          "model_name": "LayoutModel",
          "model_module_version": "1.2.0",
          "state": {
            "_model_module": "@jupyter-widgets/base",
            "_model_module_version": "1.2.0",
            "_model_name": "LayoutModel",
            "_view_count": null,
            "_view_module": "@jupyter-widgets/base",
            "_view_module_version": "1.2.0",
            "_view_name": "LayoutView",
            "align_content": null,
            "align_items": null,
            "align_self": null,
            "border": null,
            "bottom": null,
            "display": null,
            "flex": null,
            "flex_flow": null,
            "grid_area": null,
            "grid_auto_columns": null,
            "grid_auto_flow": null,
            "grid_auto_rows": null,
            "grid_column": null,
            "grid_gap": null,
            "grid_row": null,
            "grid_template_areas": null,
            "grid_template_columns": null,
            "grid_template_rows": null,
            "height": null,
            "justify_content": null,
            "justify_items": null,
            "left": null,
            "margin": null,
            "max_height": null,
            "max_width": null,
            "min_height": null,
            "min_width": null,
            "object_fit": null,
            "object_position": null,
            "order": null,
            "overflow": null,
            "overflow_x": null,
            "overflow_y": null,
            "padding": null,
            "right": null,
            "top": null,
            "visibility": null,
            "width": null
          }
        },
        "2de4ff16ef2e43da8f00b4b0ee398fc5": {
          "model_module": "@jupyter-widgets/controls",
          "model_name": "DescriptionStyleModel",
          "model_module_version": "1.5.0",
          "state": {
            "_model_module": "@jupyter-widgets/controls",
            "_model_module_version": "1.5.0",
            "_model_name": "DescriptionStyleModel",
            "_view_count": null,
            "_view_module": "@jupyter-widgets/base",
            "_view_module_version": "1.2.0",
            "_view_name": "StyleView",
            "description_width": ""
          }
        }
      }
    }
  },
  "cells": [
    {
      "cell_type": "code",
      "execution_count": 3,
      "metadata": {
        "colab": {
          "base_uri": "https://localhost:8080/",
          "height": 73
        },
        "id": "zfoFvDeVR8IC",
        "outputId": "3e71c332-abfc-402d-c26f-1a1e1639aa1e"
      },
      "outputs": [
        {
          "output_type": "display_data",
          "data": {
            "text/plain": [
              "<IPython.core.display.HTML object>"
            ],
            "text/html": [
              "\n",
              "     <input type=\"file\" id=\"files-124c7eff-4c76-4b5c-96c1-33d3c3fbe612\" name=\"files[]\" multiple disabled\n",
              "        style=\"border:none\" />\n",
              "     <output id=\"result-124c7eff-4c76-4b5c-96c1-33d3c3fbe612\">\n",
              "      Upload widget is only available when the cell has been executed in the\n",
              "      current browser session. Please rerun this cell to enable.\n",
              "      </output>\n",
              "      <script>// Copyright 2017 Google LLC\n",
              "//\n",
              "// Licensed under the Apache License, Version 2.0 (the \"License\");\n",
              "// you may not use this file except in compliance with the License.\n",
              "// You may obtain a copy of the License at\n",
              "//\n",
              "//      http://www.apache.org/licenses/LICENSE-2.0\n",
              "//\n",
              "// Unless required by applicable law or agreed to in writing, software\n",
              "// distributed under the License is distributed on an \"AS IS\" BASIS,\n",
              "// WITHOUT WARRANTIES OR CONDITIONS OF ANY KIND, either express or implied.\n",
              "// See the License for the specific language governing permissions and\n",
              "// limitations under the License.\n",
              "\n",
              "/**\n",
              " * @fileoverview Helpers for google.colab Python module.\n",
              " */\n",
              "(function(scope) {\n",
              "function span(text, styleAttributes = {}) {\n",
              "  const element = document.createElement('span');\n",
              "  element.textContent = text;\n",
              "  for (const key of Object.keys(styleAttributes)) {\n",
              "    element.style[key] = styleAttributes[key];\n",
              "  }\n",
              "  return element;\n",
              "}\n",
              "\n",
              "// Max number of bytes which will be uploaded at a time.\n",
              "const MAX_PAYLOAD_SIZE = 100 * 1024;\n",
              "\n",
              "function _uploadFiles(inputId, outputId) {\n",
              "  const steps = uploadFilesStep(inputId, outputId);\n",
              "  const outputElement = document.getElementById(outputId);\n",
              "  // Cache steps on the outputElement to make it available for the next call\n",
              "  // to uploadFilesContinue from Python.\n",
              "  outputElement.steps = steps;\n",
              "\n",
              "  return _uploadFilesContinue(outputId);\n",
              "}\n",
              "\n",
              "// This is roughly an async generator (not supported in the browser yet),\n",
              "// where there are multiple asynchronous steps and the Python side is going\n",
              "// to poll for completion of each step.\n",
              "// This uses a Promise to block the python side on completion of each step,\n",
              "// then passes the result of the previous step as the input to the next step.\n",
              "function _uploadFilesContinue(outputId) {\n",
              "  const outputElement = document.getElementById(outputId);\n",
              "  const steps = outputElement.steps;\n",
              "\n",
              "  const next = steps.next(outputElement.lastPromiseValue);\n",
              "  return Promise.resolve(next.value.promise).then((value) => {\n",
              "    // Cache the last promise value to make it available to the next\n",
              "    // step of the generator.\n",
              "    outputElement.lastPromiseValue = value;\n",
              "    return next.value.response;\n",
              "  });\n",
              "}\n",
              "\n",
              "/**\n",
              " * Generator function which is called between each async step of the upload\n",
              " * process.\n",
              " * @param {string} inputId Element ID of the input file picker element.\n",
              " * @param {string} outputId Element ID of the output display.\n",
              " * @return {!Iterable<!Object>} Iterable of next steps.\n",
              " */\n",
              "function* uploadFilesStep(inputId, outputId) {\n",
              "  const inputElement = document.getElementById(inputId);\n",
              "  inputElement.disabled = false;\n",
              "\n",
              "  const outputElement = document.getElementById(outputId);\n",
              "  outputElement.innerHTML = '';\n",
              "\n",
              "  const pickedPromise = new Promise((resolve) => {\n",
              "    inputElement.addEventListener('change', (e) => {\n",
              "      resolve(e.target.files);\n",
              "    });\n",
              "  });\n",
              "\n",
              "  const cancel = document.createElement('button');\n",
              "  inputElement.parentElement.appendChild(cancel);\n",
              "  cancel.textContent = 'Cancel upload';\n",
              "  const cancelPromise = new Promise((resolve) => {\n",
              "    cancel.onclick = () => {\n",
              "      resolve(null);\n",
              "    };\n",
              "  });\n",
              "\n",
              "  // Wait for the user to pick the files.\n",
              "  const files = yield {\n",
              "    promise: Promise.race([pickedPromise, cancelPromise]),\n",
              "    response: {\n",
              "      action: 'starting',\n",
              "    }\n",
              "  };\n",
              "\n",
              "  cancel.remove();\n",
              "\n",
              "  // Disable the input element since further picks are not allowed.\n",
              "  inputElement.disabled = true;\n",
              "\n",
              "  if (!files) {\n",
              "    return {\n",
              "      response: {\n",
              "        action: 'complete',\n",
              "      }\n",
              "    };\n",
              "  }\n",
              "\n",
              "  for (const file of files) {\n",
              "    const li = document.createElement('li');\n",
              "    li.append(span(file.name, {fontWeight: 'bold'}));\n",
              "    li.append(span(\n",
              "        `(${file.type || 'n/a'}) - ${file.size} bytes, ` +\n",
              "        `last modified: ${\n",
              "            file.lastModifiedDate ? file.lastModifiedDate.toLocaleDateString() :\n",
              "                                    'n/a'} - `));\n",
              "    const percent = span('0% done');\n",
              "    li.appendChild(percent);\n",
              "\n",
              "    outputElement.appendChild(li);\n",
              "\n",
              "    const fileDataPromise = new Promise((resolve) => {\n",
              "      const reader = new FileReader();\n",
              "      reader.onload = (e) => {\n",
              "        resolve(e.target.result);\n",
              "      };\n",
              "      reader.readAsArrayBuffer(file);\n",
              "    });\n",
              "    // Wait for the data to be ready.\n",
              "    let fileData = yield {\n",
              "      promise: fileDataPromise,\n",
              "      response: {\n",
              "        action: 'continue',\n",
              "      }\n",
              "    };\n",
              "\n",
              "    // Use a chunked sending to avoid message size limits. See b/62115660.\n",
              "    let position = 0;\n",
              "    do {\n",
              "      const length = Math.min(fileData.byteLength - position, MAX_PAYLOAD_SIZE);\n",
              "      const chunk = new Uint8Array(fileData, position, length);\n",
              "      position += length;\n",
              "\n",
              "      const base64 = btoa(String.fromCharCode.apply(null, chunk));\n",
              "      yield {\n",
              "        response: {\n",
              "          action: 'append',\n",
              "          file: file.name,\n",
              "          data: base64,\n",
              "        },\n",
              "      };\n",
              "\n",
              "      let percentDone = fileData.byteLength === 0 ?\n",
              "          100 :\n",
              "          Math.round((position / fileData.byteLength) * 100);\n",
              "      percent.textContent = `${percentDone}% done`;\n",
              "\n",
              "    } while (position < fileData.byteLength);\n",
              "  }\n",
              "\n",
              "  // All done.\n",
              "  yield {\n",
              "    response: {\n",
              "      action: 'complete',\n",
              "    }\n",
              "  };\n",
              "}\n",
              "\n",
              "scope.google = scope.google || {};\n",
              "scope.google.colab = scope.google.colab || {};\n",
              "scope.google.colab._files = {\n",
              "  _uploadFiles,\n",
              "  _uploadFilesContinue,\n",
              "};\n",
              "})(self);\n",
              "</script> "
            ]
          },
          "metadata": {}
        },
        {
          "output_type": "stream",
          "name": "stdout",
          "text": [
            "Saving kaggle.json to kaggle.json\n"
          ]
        }
      ],
      "source": [
        "from google.colab import files\n",
        "\n",
        "uploaded = files.upload()"
      ]
    },
    {
      "cell_type": "code",
      "source": [
        "!pip install kaggle\n",
        "!mkdir ~/.kaggle\n",
        "!cp /content/kaggle.json ~/.kaggle/kaggle.json\n",
        "!chmod 600 /root/.kaggle/kaggle.json"
      ],
      "metadata": {
        "colab": {
          "base_uri": "https://localhost:8080/"
        },
        "id": "-icY712mSVH4",
        "outputId": "6b225610-8e35-4438-f697-0e0da6ca39c3"
      },
      "execution_count": 4,
      "outputs": [
        {
          "output_type": "stream",
          "name": "stdout",
          "text": [
            "Looking in indexes: https://pypi.org/simple, https://us-python.pkg.dev/colab-wheels/public/simple/\n",
            "Requirement already satisfied: kaggle in /usr/local/lib/python3.7/dist-packages (1.5.12)\n",
            "Requirement already satisfied: requests in /usr/local/lib/python3.7/dist-packages (from kaggle) (2.23.0)\n",
            "Requirement already satisfied: tqdm in /usr/local/lib/python3.7/dist-packages (from kaggle) (4.64.1)\n",
            "Requirement already satisfied: six>=1.10 in /usr/local/lib/python3.7/dist-packages (from kaggle) (1.15.0)\n",
            "Requirement already satisfied: python-slugify in /usr/local/lib/python3.7/dist-packages (from kaggle) (6.1.2)\n",
            "Requirement already satisfied: python-dateutil in /usr/local/lib/python3.7/dist-packages (from kaggle) (2.8.2)\n",
            "Requirement already satisfied: certifi in /usr/local/lib/python3.7/dist-packages (from kaggle) (2022.6.15)\n",
            "Requirement already satisfied: urllib3 in /usr/local/lib/python3.7/dist-packages (from kaggle) (1.24.3)\n",
            "Requirement already satisfied: text-unidecode>=1.3 in /usr/local/lib/python3.7/dist-packages (from python-slugify->kaggle) (1.3)\n",
            "Requirement already satisfied: idna<3,>=2.5 in /usr/local/lib/python3.7/dist-packages (from requests->kaggle) (2.10)\n",
            "Requirement already satisfied: chardet<4,>=3.0.2 in /usr/local/lib/python3.7/dist-packages (from requests->kaggle) (3.0.4)\n"
          ]
        }
      ]
    },
    {
      "cell_type": "markdown",
      "source": [
        "# Downloading Dataset"
      ],
      "metadata": {
        "id": "FnpOYw_U8ziV"
      }
    },
    {
      "cell_type": "code",
      "source": [
        "!kaggle datasets download -d mfekadu/darpa-timit-acousticphonetic-continuous-speech"
      ],
      "metadata": {
        "colab": {
          "base_uri": "https://localhost:8080/"
        },
        "id": "oghUlSjKSjHH",
        "outputId": "8db59019-074e-4956-83c4-440b7b9f978b"
      },
      "execution_count": 5,
      "outputs": [
        {
          "output_type": "stream",
          "name": "stdout",
          "text": [
            "Downloading darpa-timit-acousticphonetic-continuous-speech.zip to /content\n",
            " 98% 809M/829M [00:05<00:00, 172MB/s]\n",
            "100% 829M/829M [00:05<00:00, 162MB/s]\n"
          ]
        }
      ]
    },
    {
      "cell_type": "code",
      "source": [
        "!unzip -qq *.zip"
      ],
      "metadata": {
        "id": "5rgO8HsBSrNa"
      },
      "execution_count": 6,
      "outputs": []
    },
    {
      "cell_type": "code",
      "source": [
        "import pandas as pd"
      ],
      "metadata": {
        "id": "y8I7gsqTSwJr"
      },
      "execution_count": 7,
      "outputs": []
    },
    {
      "cell_type": "code",
      "source": [
        "import warnings\n",
        "warnings.filterwarnings(\"ignore\")"
      ],
      "metadata": {
        "id": "N3m0hgkAYBo8"
      },
      "execution_count": 8,
      "outputs": []
    },
    {
      "cell_type": "markdown",
      "source": [
        "# EDA"
      ],
      "metadata": {
        "id": "GjatGyMf9EE_"
      }
    },
    {
      "cell_type": "markdown",
      "source": [
        "## Reading the CSV File as DataFrame"
      ],
      "metadata": {
        "id": "Mb9mDEo8882d"
      }
    },
    {
      "cell_type": "code",
      "source": [
        "df=pd.read_csv(\"train_data.csv\")"
      ],
      "metadata": {
        "id": "t_QGgImOUWEL"
      },
      "execution_count": 9,
      "outputs": []
    },
    {
      "cell_type": "code",
      "source": [
        "df.head()"
      ],
      "metadata": {
        "colab": {
          "base_uri": "https://localhost:8080/",
          "height": 270
        },
        "id": "MhPx_SzqUcLb",
        "outputId": "16f8b836-e072-4242-adef-2a9611d51238"
      },
      "execution_count": 10,
      "outputs": [
        {
          "output_type": "execute_result",
          "data": {
            "text/plain": [
              "   index test_or_train dialect_region speaker_id       filename  \\\n",
              "0    1.0         TRAIN            DR4      MMDM0  SI681.WAV.wav   \n",
              "1    2.0         TRAIN            DR4      MMDM0     SI1311.PHN   \n",
              "2    3.0         TRAIN            DR4      MMDM0     SI1311.WRD   \n",
              "3    4.0         TRAIN            DR4      MMDM0      SX321.PHN   \n",
              "4    5.0         TRAIN            DR4      MMDM0      SX321.WRD   \n",
              "\n",
              "              path_from_data_dir        path_from_data_dir_windows  \\\n",
              "0  TRAIN/DR4/MMDM0/SI681.WAV.wav  TRAIN\\\\DR4\\\\MMDM0\\\\SI681.WAV.wav   \n",
              "1     TRAIN/DR4/MMDM0/SI1311.PHN     TRAIN\\\\DR4\\\\MMDM0\\\\SI1311.PHN   \n",
              "2     TRAIN/DR4/MMDM0/SI1311.WRD     TRAIN\\\\DR4\\\\MMDM0\\\\SI1311.WRD   \n",
              "3      TRAIN/DR4/MMDM0/SX321.PHN      TRAIN\\\\DR4\\\\MMDM0\\\\SX321.PHN   \n",
              "4      TRAIN/DR4/MMDM0/SX321.WRD      TRAIN\\\\DR4\\\\MMDM0\\\\SX321.WRD   \n",
              "\n",
              "  is_converted_audio is_audio is_word_file is_phonetic_file is_sentence_file  \n",
              "0               True     True        False            False            False  \n",
              "1              False    False        False             True            False  \n",
              "2              False    False         True            False            False  \n",
              "3              False    False        False             True            False  \n",
              "4              False    False         True            False            False  "
            ],
            "text/html": [
              "\n",
              "  <div id=\"df-6da3b4c0-0df0-4d40-94e9-599af098023a\">\n",
              "    <div class=\"colab-df-container\">\n",
              "      <div>\n",
              "<style scoped>\n",
              "    .dataframe tbody tr th:only-of-type {\n",
              "        vertical-align: middle;\n",
              "    }\n",
              "\n",
              "    .dataframe tbody tr th {\n",
              "        vertical-align: top;\n",
              "    }\n",
              "\n",
              "    .dataframe thead th {\n",
              "        text-align: right;\n",
              "    }\n",
              "</style>\n",
              "<table border=\"1\" class=\"dataframe\">\n",
              "  <thead>\n",
              "    <tr style=\"text-align: right;\">\n",
              "      <th></th>\n",
              "      <th>index</th>\n",
              "      <th>test_or_train</th>\n",
              "      <th>dialect_region</th>\n",
              "      <th>speaker_id</th>\n",
              "      <th>filename</th>\n",
              "      <th>path_from_data_dir</th>\n",
              "      <th>path_from_data_dir_windows</th>\n",
              "      <th>is_converted_audio</th>\n",
              "      <th>is_audio</th>\n",
              "      <th>is_word_file</th>\n",
              "      <th>is_phonetic_file</th>\n",
              "      <th>is_sentence_file</th>\n",
              "    </tr>\n",
              "  </thead>\n",
              "  <tbody>\n",
              "    <tr>\n",
              "      <th>0</th>\n",
              "      <td>1.0</td>\n",
              "      <td>TRAIN</td>\n",
              "      <td>DR4</td>\n",
              "      <td>MMDM0</td>\n",
              "      <td>SI681.WAV.wav</td>\n",
              "      <td>TRAIN/DR4/MMDM0/SI681.WAV.wav</td>\n",
              "      <td>TRAIN\\\\DR4\\\\MMDM0\\\\SI681.WAV.wav</td>\n",
              "      <td>True</td>\n",
              "      <td>True</td>\n",
              "      <td>False</td>\n",
              "      <td>False</td>\n",
              "      <td>False</td>\n",
              "    </tr>\n",
              "    <tr>\n",
              "      <th>1</th>\n",
              "      <td>2.0</td>\n",
              "      <td>TRAIN</td>\n",
              "      <td>DR4</td>\n",
              "      <td>MMDM0</td>\n",
              "      <td>SI1311.PHN</td>\n",
              "      <td>TRAIN/DR4/MMDM0/SI1311.PHN</td>\n",
              "      <td>TRAIN\\\\DR4\\\\MMDM0\\\\SI1311.PHN</td>\n",
              "      <td>False</td>\n",
              "      <td>False</td>\n",
              "      <td>False</td>\n",
              "      <td>True</td>\n",
              "      <td>False</td>\n",
              "    </tr>\n",
              "    <tr>\n",
              "      <th>2</th>\n",
              "      <td>3.0</td>\n",
              "      <td>TRAIN</td>\n",
              "      <td>DR4</td>\n",
              "      <td>MMDM0</td>\n",
              "      <td>SI1311.WRD</td>\n",
              "      <td>TRAIN/DR4/MMDM0/SI1311.WRD</td>\n",
              "      <td>TRAIN\\\\DR4\\\\MMDM0\\\\SI1311.WRD</td>\n",
              "      <td>False</td>\n",
              "      <td>False</td>\n",
              "      <td>True</td>\n",
              "      <td>False</td>\n",
              "      <td>False</td>\n",
              "    </tr>\n",
              "    <tr>\n",
              "      <th>3</th>\n",
              "      <td>4.0</td>\n",
              "      <td>TRAIN</td>\n",
              "      <td>DR4</td>\n",
              "      <td>MMDM0</td>\n",
              "      <td>SX321.PHN</td>\n",
              "      <td>TRAIN/DR4/MMDM0/SX321.PHN</td>\n",
              "      <td>TRAIN\\\\DR4\\\\MMDM0\\\\SX321.PHN</td>\n",
              "      <td>False</td>\n",
              "      <td>False</td>\n",
              "      <td>False</td>\n",
              "      <td>True</td>\n",
              "      <td>False</td>\n",
              "    </tr>\n",
              "    <tr>\n",
              "      <th>4</th>\n",
              "      <td>5.0</td>\n",
              "      <td>TRAIN</td>\n",
              "      <td>DR4</td>\n",
              "      <td>MMDM0</td>\n",
              "      <td>SX321.WRD</td>\n",
              "      <td>TRAIN/DR4/MMDM0/SX321.WRD</td>\n",
              "      <td>TRAIN\\\\DR4\\\\MMDM0\\\\SX321.WRD</td>\n",
              "      <td>False</td>\n",
              "      <td>False</td>\n",
              "      <td>True</td>\n",
              "      <td>False</td>\n",
              "      <td>False</td>\n",
              "    </tr>\n",
              "  </tbody>\n",
              "</table>\n",
              "</div>\n",
              "      <button class=\"colab-df-convert\" onclick=\"convertToInteractive('df-6da3b4c0-0df0-4d40-94e9-599af098023a')\"\n",
              "              title=\"Convert this dataframe to an interactive table.\"\n",
              "              style=\"display:none;\">\n",
              "        \n",
              "  <svg xmlns=\"http://www.w3.org/2000/svg\" height=\"24px\"viewBox=\"0 0 24 24\"\n",
              "       width=\"24px\">\n",
              "    <path d=\"M0 0h24v24H0V0z\" fill=\"none\"/>\n",
              "    <path d=\"M18.56 5.44l.94 2.06.94-2.06 2.06-.94-2.06-.94-.94-2.06-.94 2.06-2.06.94zm-11 1L8.5 8.5l.94-2.06 2.06-.94-2.06-.94L8.5 2.5l-.94 2.06-2.06.94zm10 10l.94 2.06.94-2.06 2.06-.94-2.06-.94-.94-2.06-.94 2.06-2.06.94z\"/><path d=\"M17.41 7.96l-1.37-1.37c-.4-.4-.92-.59-1.43-.59-.52 0-1.04.2-1.43.59L10.3 9.45l-7.72 7.72c-.78.78-.78 2.05 0 2.83L4 21.41c.39.39.9.59 1.41.59.51 0 1.02-.2 1.41-.59l7.78-7.78 2.81-2.81c.8-.78.8-2.07 0-2.86zM5.41 20L4 18.59l7.72-7.72 1.47 1.35L5.41 20z\"/>\n",
              "  </svg>\n",
              "      </button>\n",
              "      \n",
              "  <style>\n",
              "    .colab-df-container {\n",
              "      display:flex;\n",
              "      flex-wrap:wrap;\n",
              "      gap: 12px;\n",
              "    }\n",
              "\n",
              "    .colab-df-convert {\n",
              "      background-color: #E8F0FE;\n",
              "      border: none;\n",
              "      border-radius: 50%;\n",
              "      cursor: pointer;\n",
              "      display: none;\n",
              "      fill: #1967D2;\n",
              "      height: 32px;\n",
              "      padding: 0 0 0 0;\n",
              "      width: 32px;\n",
              "    }\n",
              "\n",
              "    .colab-df-convert:hover {\n",
              "      background-color: #E2EBFA;\n",
              "      box-shadow: 0px 1px 2px rgba(60, 64, 67, 0.3), 0px 1px 3px 1px rgba(60, 64, 67, 0.15);\n",
              "      fill: #174EA6;\n",
              "    }\n",
              "\n",
              "    [theme=dark] .colab-df-convert {\n",
              "      background-color: #3B4455;\n",
              "      fill: #D2E3FC;\n",
              "    }\n",
              "\n",
              "    [theme=dark] .colab-df-convert:hover {\n",
              "      background-color: #434B5C;\n",
              "      box-shadow: 0px 1px 3px 1px rgba(0, 0, 0, 0.15);\n",
              "      filter: drop-shadow(0px 1px 2px rgba(0, 0, 0, 0.3));\n",
              "      fill: #FFFFFF;\n",
              "    }\n",
              "  </style>\n",
              "\n",
              "      <script>\n",
              "        const buttonEl =\n",
              "          document.querySelector('#df-6da3b4c0-0df0-4d40-94e9-599af098023a button.colab-df-convert');\n",
              "        buttonEl.style.display =\n",
              "          google.colab.kernel.accessAllowed ? 'block' : 'none';\n",
              "\n",
              "        async function convertToInteractive(key) {\n",
              "          const element = document.querySelector('#df-6da3b4c0-0df0-4d40-94e9-599af098023a');\n",
              "          const dataTable =\n",
              "            await google.colab.kernel.invokeFunction('convertToInteractive',\n",
              "                                                     [key], {});\n",
              "          if (!dataTable) return;\n",
              "\n",
              "          const docLinkHtml = 'Like what you see? Visit the ' +\n",
              "            '<a target=\"_blank\" href=https://colab.research.google.com/notebooks/data_table.ipynb>data table notebook</a>'\n",
              "            + ' to learn more about interactive tables.';\n",
              "          element.innerHTML = '';\n",
              "          dataTable['output_type'] = 'display_data';\n",
              "          await google.colab.output.renderOutput(dataTable, element);\n",
              "          const docLink = document.createElement('div');\n",
              "          docLink.innerHTML = docLinkHtml;\n",
              "          element.appendChild(docLink);\n",
              "        }\n",
              "      </script>\n",
              "    </div>\n",
              "  </div>\n",
              "  "
            ]
          },
          "metadata": {},
          "execution_count": 10
        }
      ]
    },
    {
      "cell_type": "code",
      "source": [
        "df[\"dialect_region\"].unique()"
      ],
      "metadata": {
        "colab": {
          "base_uri": "https://localhost:8080/"
        },
        "id": "XWmIzPH9Ud9n",
        "outputId": "920a64b8-f6ab-430e-dcaf-5a5916f14c65"
      },
      "execution_count": 11,
      "outputs": [
        {
          "output_type": "execute_result",
          "data": {
            "text/plain": [
              "array(['DR4', 'DR3', 'DR2', 'DR5', 'DR7', 'DR6', 'DR1', 'DR8', nan],\n",
              "      dtype=object)"
            ]
          },
          "metadata": {},
          "execution_count": 11
        }
      ]
    },
    {
      "cell_type": "markdown",
      "source": [
        "## Selecting Training Dialect"
      ],
      "metadata": {
        "id": "A6q9dzXj9PaZ"
      }
    },
    {
      "cell_type": "code",
      "source": [
        "t_d_r=[\"DR1\",\"DR2\"]"
      ],
      "metadata": {
        "id": "aLW0at8_VZ5t"
      },
      "execution_count": 12,
      "outputs": []
    },
    {
      "cell_type": "code",
      "source": [
        "train_df=df.loc[df['dialect_region'].isin(t_d_r)]"
      ],
      "metadata": {
        "id": "IzQ3keZQWkMg"
      },
      "execution_count": 13,
      "outputs": []
    },
    {
      "cell_type": "code",
      "source": [
        "train_df['dialect_region'].unique()"
      ],
      "metadata": {
        "colab": {
          "base_uri": "https://localhost:8080/"
        },
        "id": "cNsB593HXot_",
        "outputId": "3fdf45a2-f15a-4198-9e5a-0d7519e4294c"
      },
      "execution_count": 14,
      "outputs": [
        {
          "output_type": "execute_result",
          "data": {
            "text/plain": [
              "array(['DR2', 'DR1'], dtype=object)"
            ]
          },
          "metadata": {},
          "execution_count": 14
        }
      ]
    },
    {
      "cell_type": "code",
      "source": [
        "train_df.drop(\"path_from_data_dir_windows\",axis=1,inplace=True)"
      ],
      "metadata": {
        "id": "InuJPVWVXr4w"
      },
      "execution_count": 15,
      "outputs": []
    },
    {
      "cell_type": "code",
      "source": [
        "train_df.head()"
      ],
      "metadata": {
        "colab": {
          "base_uri": "https://localhost:8080/",
          "height": 206
        },
        "id": "2REBnmjGX3yS",
        "outputId": "03e71f77-78b5-4a4e-f6ce-9305f4c4dfc6"
      },
      "execution_count": 16,
      "outputs": [
        {
          "output_type": "execute_result",
          "data": {
            "text/plain": [
              "       index test_or_train dialect_region speaker_id       filename  \\\n",
              "7200  7201.0         TRAIN            DR2      FJKL0       SX32.PHN   \n",
              "7201  7202.0         TRAIN            DR2      FJKL0  SX212.WAV.wav   \n",
              "7202  7203.0         TRAIN            DR2      FJKL0       SX32.WRD   \n",
              "7203  7204.0         TRAIN            DR2      FJKL0      SI932.WRD   \n",
              "7204  7205.0         TRAIN            DR2      FJKL0      SX302.TXT   \n",
              "\n",
              "                 path_from_data_dir is_converted_audio is_audio is_word_file  \\\n",
              "7200       TRAIN/DR2/FJKL0/SX32.PHN              False    False        False   \n",
              "7201  TRAIN/DR2/FJKL0/SX212.WAV.wav               True     True        False   \n",
              "7202       TRAIN/DR2/FJKL0/SX32.WRD              False    False         True   \n",
              "7203      TRAIN/DR2/FJKL0/SI932.WRD              False    False         True   \n",
              "7204      TRAIN/DR2/FJKL0/SX302.TXT              False    False        False   \n",
              "\n",
              "     is_phonetic_file is_sentence_file  \n",
              "7200             True            False  \n",
              "7201            False            False  \n",
              "7202            False            False  \n",
              "7203            False            False  \n",
              "7204            False             True  "
            ],
            "text/html": [
              "\n",
              "  <div id=\"df-d5fa5c52-0b70-4d43-bd35-98682ab3a26d\">\n",
              "    <div class=\"colab-df-container\">\n",
              "      <div>\n",
              "<style scoped>\n",
              "    .dataframe tbody tr th:only-of-type {\n",
              "        vertical-align: middle;\n",
              "    }\n",
              "\n",
              "    .dataframe tbody tr th {\n",
              "        vertical-align: top;\n",
              "    }\n",
              "\n",
              "    .dataframe thead th {\n",
              "        text-align: right;\n",
              "    }\n",
              "</style>\n",
              "<table border=\"1\" class=\"dataframe\">\n",
              "  <thead>\n",
              "    <tr style=\"text-align: right;\">\n",
              "      <th></th>\n",
              "      <th>index</th>\n",
              "      <th>test_or_train</th>\n",
              "      <th>dialect_region</th>\n",
              "      <th>speaker_id</th>\n",
              "      <th>filename</th>\n",
              "      <th>path_from_data_dir</th>\n",
              "      <th>is_converted_audio</th>\n",
              "      <th>is_audio</th>\n",
              "      <th>is_word_file</th>\n",
              "      <th>is_phonetic_file</th>\n",
              "      <th>is_sentence_file</th>\n",
              "    </tr>\n",
              "  </thead>\n",
              "  <tbody>\n",
              "    <tr>\n",
              "      <th>7200</th>\n",
              "      <td>7201.0</td>\n",
              "      <td>TRAIN</td>\n",
              "      <td>DR2</td>\n",
              "      <td>FJKL0</td>\n",
              "      <td>SX32.PHN</td>\n",
              "      <td>TRAIN/DR2/FJKL0/SX32.PHN</td>\n",
              "      <td>False</td>\n",
              "      <td>False</td>\n",
              "      <td>False</td>\n",
              "      <td>True</td>\n",
              "      <td>False</td>\n",
              "    </tr>\n",
              "    <tr>\n",
              "      <th>7201</th>\n",
              "      <td>7202.0</td>\n",
              "      <td>TRAIN</td>\n",
              "      <td>DR2</td>\n",
              "      <td>FJKL0</td>\n",
              "      <td>SX212.WAV.wav</td>\n",
              "      <td>TRAIN/DR2/FJKL0/SX212.WAV.wav</td>\n",
              "      <td>True</td>\n",
              "      <td>True</td>\n",
              "      <td>False</td>\n",
              "      <td>False</td>\n",
              "      <td>False</td>\n",
              "    </tr>\n",
              "    <tr>\n",
              "      <th>7202</th>\n",
              "      <td>7203.0</td>\n",
              "      <td>TRAIN</td>\n",
              "      <td>DR2</td>\n",
              "      <td>FJKL0</td>\n",
              "      <td>SX32.WRD</td>\n",
              "      <td>TRAIN/DR2/FJKL0/SX32.WRD</td>\n",
              "      <td>False</td>\n",
              "      <td>False</td>\n",
              "      <td>True</td>\n",
              "      <td>False</td>\n",
              "      <td>False</td>\n",
              "    </tr>\n",
              "    <tr>\n",
              "      <th>7203</th>\n",
              "      <td>7204.0</td>\n",
              "      <td>TRAIN</td>\n",
              "      <td>DR2</td>\n",
              "      <td>FJKL0</td>\n",
              "      <td>SI932.WRD</td>\n",
              "      <td>TRAIN/DR2/FJKL0/SI932.WRD</td>\n",
              "      <td>False</td>\n",
              "      <td>False</td>\n",
              "      <td>True</td>\n",
              "      <td>False</td>\n",
              "      <td>False</td>\n",
              "    </tr>\n",
              "    <tr>\n",
              "      <th>7204</th>\n",
              "      <td>7205.0</td>\n",
              "      <td>TRAIN</td>\n",
              "      <td>DR2</td>\n",
              "      <td>FJKL0</td>\n",
              "      <td>SX302.TXT</td>\n",
              "      <td>TRAIN/DR2/FJKL0/SX302.TXT</td>\n",
              "      <td>False</td>\n",
              "      <td>False</td>\n",
              "      <td>False</td>\n",
              "      <td>False</td>\n",
              "      <td>True</td>\n",
              "    </tr>\n",
              "  </tbody>\n",
              "</table>\n",
              "</div>\n",
              "      <button class=\"colab-df-convert\" onclick=\"convertToInteractive('df-d5fa5c52-0b70-4d43-bd35-98682ab3a26d')\"\n",
              "              title=\"Convert this dataframe to an interactive table.\"\n",
              "              style=\"display:none;\">\n",
              "        \n",
              "  <svg xmlns=\"http://www.w3.org/2000/svg\" height=\"24px\"viewBox=\"0 0 24 24\"\n",
              "       width=\"24px\">\n",
              "    <path d=\"M0 0h24v24H0V0z\" fill=\"none\"/>\n",
              "    <path d=\"M18.56 5.44l.94 2.06.94-2.06 2.06-.94-2.06-.94-.94-2.06-.94 2.06-2.06.94zm-11 1L8.5 8.5l.94-2.06 2.06-.94-2.06-.94L8.5 2.5l-.94 2.06-2.06.94zm10 10l.94 2.06.94-2.06 2.06-.94-2.06-.94-.94-2.06-.94 2.06-2.06.94z\"/><path d=\"M17.41 7.96l-1.37-1.37c-.4-.4-.92-.59-1.43-.59-.52 0-1.04.2-1.43.59L10.3 9.45l-7.72 7.72c-.78.78-.78 2.05 0 2.83L4 21.41c.39.39.9.59 1.41.59.51 0 1.02-.2 1.41-.59l7.78-7.78 2.81-2.81c.8-.78.8-2.07 0-2.86zM5.41 20L4 18.59l7.72-7.72 1.47 1.35L5.41 20z\"/>\n",
              "  </svg>\n",
              "      </button>\n",
              "      \n",
              "  <style>\n",
              "    .colab-df-container {\n",
              "      display:flex;\n",
              "      flex-wrap:wrap;\n",
              "      gap: 12px;\n",
              "    }\n",
              "\n",
              "    .colab-df-convert {\n",
              "      background-color: #E8F0FE;\n",
              "      border: none;\n",
              "      border-radius: 50%;\n",
              "      cursor: pointer;\n",
              "      display: none;\n",
              "      fill: #1967D2;\n",
              "      height: 32px;\n",
              "      padding: 0 0 0 0;\n",
              "      width: 32px;\n",
              "    }\n",
              "\n",
              "    .colab-df-convert:hover {\n",
              "      background-color: #E2EBFA;\n",
              "      box-shadow: 0px 1px 2px rgba(60, 64, 67, 0.3), 0px 1px 3px 1px rgba(60, 64, 67, 0.15);\n",
              "      fill: #174EA6;\n",
              "    }\n",
              "\n",
              "    [theme=dark] .colab-df-convert {\n",
              "      background-color: #3B4455;\n",
              "      fill: #D2E3FC;\n",
              "    }\n",
              "\n",
              "    [theme=dark] .colab-df-convert:hover {\n",
              "      background-color: #434B5C;\n",
              "      box-shadow: 0px 1px 3px 1px rgba(0, 0, 0, 0.15);\n",
              "      filter: drop-shadow(0px 1px 2px rgba(0, 0, 0, 0.3));\n",
              "      fill: #FFFFFF;\n",
              "    }\n",
              "  </style>\n",
              "\n",
              "      <script>\n",
              "        const buttonEl =\n",
              "          document.querySelector('#df-d5fa5c52-0b70-4d43-bd35-98682ab3a26d button.colab-df-convert');\n",
              "        buttonEl.style.display =\n",
              "          google.colab.kernel.accessAllowed ? 'block' : 'none';\n",
              "\n",
              "        async function convertToInteractive(key) {\n",
              "          const element = document.querySelector('#df-d5fa5c52-0b70-4d43-bd35-98682ab3a26d');\n",
              "          const dataTable =\n",
              "            await google.colab.kernel.invokeFunction('convertToInteractive',\n",
              "                                                     [key], {});\n",
              "          if (!dataTable) return;\n",
              "\n",
              "          const docLinkHtml = 'Like what you see? Visit the ' +\n",
              "            '<a target=\"_blank\" href=https://colab.research.google.com/notebooks/data_table.ipynb>data table notebook</a>'\n",
              "            + ' to learn more about interactive tables.';\n",
              "          element.innerHTML = '';\n",
              "          dataTable['output_type'] = 'display_data';\n",
              "          await google.colab.output.renderOutput(dataTable, element);\n",
              "          const docLink = document.createElement('div');\n",
              "          docLink.innerHTML = docLinkHtml;\n",
              "          element.appendChild(docLink);\n",
              "        }\n",
              "      </script>\n",
              "    </div>\n",
              "  </div>\n",
              "  "
            ]
          },
          "metadata": {},
          "execution_count": 16
        }
      ]
    },
    {
      "cell_type": "markdown",
      "source": [
        "## Selecting Testing Dialect"
      ],
      "metadata": {
        "id": "vB2-jQ1Z9T85"
      }
    },
    {
      "cell_type": "code",
      "source": [
        "test_df=df.loc[df['dialect_region']==\"DR3\"]"
      ],
      "metadata": {
        "id": "2ghot-ABX8hy"
      },
      "execution_count": 17,
      "outputs": []
    },
    {
      "cell_type": "code",
      "source": [
        "train_df[\"FType\"]=train_df[\"path_from_data_dir\"].str.split('.')"
      ],
      "metadata": {
        "id": "ePVXET0ZYS5b"
      },
      "execution_count": 18,
      "outputs": []
    },
    {
      "cell_type": "code",
      "source": [
        "def extract_FType(l):\n",
        "  return l[-1]"
      ],
      "metadata": {
        "id": "YRT-y-xtaF7Y"
      },
      "execution_count": 19,
      "outputs": []
    },
    {
      "cell_type": "code",
      "source": [
        "train_df[\"FType\"]=train_df[\"FType\"].apply(lambda x:extract_FType(x) )"
      ],
      "metadata": {
        "id": "lFpCW2TlbvnH"
      },
      "execution_count": 20,
      "outputs": []
    },
    {
      "cell_type": "markdown",
      "source": [
        "## Exploring Types of Files"
      ],
      "metadata": {
        "id": "DJudEhE-92zr"
      }
    },
    {
      "cell_type": "code",
      "source": [
        "train_df[\"FType\"]"
      ],
      "metadata": {
        "colab": {
          "base_uri": "https://localhost:8080/"
        },
        "id": "73kTIRhxcs9h",
        "outputId": "dbfad451-45dc-43a6-a9cb-3e885b9d5a5a"
      },
      "execution_count": 21,
      "outputs": [
        {
          "output_type": "execute_result",
          "data": {
            "text/plain": [
              "7200     PHN\n",
              "7201     wav\n",
              "7202     WRD\n",
              "7203     WRD\n",
              "7204     TXT\n",
              "        ... \n",
              "21995    WRD\n",
              "21996    WAV\n",
              "21997    WAV\n",
              "21998    TXT\n",
              "21999    TXT\n",
              "Name: FType, Length: 5700, dtype: object"
            ]
          },
          "metadata": {},
          "execution_count": 21
        }
      ]
    },
    {
      "cell_type": "markdown",
      "source": [
        "## Filetypes to be read"
      ],
      "metadata": {
        "id": "OhHJPY969mxW"
      }
    },
    {
      "cell_type": "code",
      "source": [
        "ftypes=[\"PHN\",\"WRD\",\"TXT\"]\n",
        "train_df=train_df.loc[train_df['FType'].isin(ftypes)]"
      ],
      "metadata": {
        "id": "-RrlbMPzcu5j"
      },
      "execution_count": 22,
      "outputs": []
    },
    {
      "cell_type": "code",
      "source": [
        "train_df.head()"
      ],
      "metadata": {
        "colab": {
          "base_uri": "https://localhost:8080/",
          "height": 206
        },
        "id": "y3KBvgQwdCLE",
        "outputId": "1abb6c1a-90cc-466c-bef6-3816745459f9"
      },
      "execution_count": 23,
      "outputs": [
        {
          "output_type": "execute_result",
          "data": {
            "text/plain": [
              "       index test_or_train dialect_region speaker_id   filename  \\\n",
              "7200  7201.0         TRAIN            DR2      FJKL0   SX32.PHN   \n",
              "7202  7203.0         TRAIN            DR2      FJKL0   SX32.WRD   \n",
              "7203  7204.0         TRAIN            DR2      FJKL0  SI932.WRD   \n",
              "7204  7205.0         TRAIN            DR2      FJKL0  SX302.TXT   \n",
              "7205  7206.0         TRAIN            DR2      FJKL0  SX122.WRD   \n",
              "\n",
              "             path_from_data_dir is_converted_audio is_audio is_word_file  \\\n",
              "7200   TRAIN/DR2/FJKL0/SX32.PHN              False    False        False   \n",
              "7202   TRAIN/DR2/FJKL0/SX32.WRD              False    False         True   \n",
              "7203  TRAIN/DR2/FJKL0/SI932.WRD              False    False         True   \n",
              "7204  TRAIN/DR2/FJKL0/SX302.TXT              False    False        False   \n",
              "7205  TRAIN/DR2/FJKL0/SX122.WRD              False    False         True   \n",
              "\n",
              "     is_phonetic_file is_sentence_file FType  \n",
              "7200             True            False   PHN  \n",
              "7202            False            False   WRD  \n",
              "7203            False            False   WRD  \n",
              "7204            False             True   TXT  \n",
              "7205            False            False   WRD  "
            ],
            "text/html": [
              "\n",
              "  <div id=\"df-7a8d8dbe-4925-4e3e-82a8-1aa46f5a7ec6\">\n",
              "    <div class=\"colab-df-container\">\n",
              "      <div>\n",
              "<style scoped>\n",
              "    .dataframe tbody tr th:only-of-type {\n",
              "        vertical-align: middle;\n",
              "    }\n",
              "\n",
              "    .dataframe tbody tr th {\n",
              "        vertical-align: top;\n",
              "    }\n",
              "\n",
              "    .dataframe thead th {\n",
              "        text-align: right;\n",
              "    }\n",
              "</style>\n",
              "<table border=\"1\" class=\"dataframe\">\n",
              "  <thead>\n",
              "    <tr style=\"text-align: right;\">\n",
              "      <th></th>\n",
              "      <th>index</th>\n",
              "      <th>test_or_train</th>\n",
              "      <th>dialect_region</th>\n",
              "      <th>speaker_id</th>\n",
              "      <th>filename</th>\n",
              "      <th>path_from_data_dir</th>\n",
              "      <th>is_converted_audio</th>\n",
              "      <th>is_audio</th>\n",
              "      <th>is_word_file</th>\n",
              "      <th>is_phonetic_file</th>\n",
              "      <th>is_sentence_file</th>\n",
              "      <th>FType</th>\n",
              "    </tr>\n",
              "  </thead>\n",
              "  <tbody>\n",
              "    <tr>\n",
              "      <th>7200</th>\n",
              "      <td>7201.0</td>\n",
              "      <td>TRAIN</td>\n",
              "      <td>DR2</td>\n",
              "      <td>FJKL0</td>\n",
              "      <td>SX32.PHN</td>\n",
              "      <td>TRAIN/DR2/FJKL0/SX32.PHN</td>\n",
              "      <td>False</td>\n",
              "      <td>False</td>\n",
              "      <td>False</td>\n",
              "      <td>True</td>\n",
              "      <td>False</td>\n",
              "      <td>PHN</td>\n",
              "    </tr>\n",
              "    <tr>\n",
              "      <th>7202</th>\n",
              "      <td>7203.0</td>\n",
              "      <td>TRAIN</td>\n",
              "      <td>DR2</td>\n",
              "      <td>FJKL0</td>\n",
              "      <td>SX32.WRD</td>\n",
              "      <td>TRAIN/DR2/FJKL0/SX32.WRD</td>\n",
              "      <td>False</td>\n",
              "      <td>False</td>\n",
              "      <td>True</td>\n",
              "      <td>False</td>\n",
              "      <td>False</td>\n",
              "      <td>WRD</td>\n",
              "    </tr>\n",
              "    <tr>\n",
              "      <th>7203</th>\n",
              "      <td>7204.0</td>\n",
              "      <td>TRAIN</td>\n",
              "      <td>DR2</td>\n",
              "      <td>FJKL0</td>\n",
              "      <td>SI932.WRD</td>\n",
              "      <td>TRAIN/DR2/FJKL0/SI932.WRD</td>\n",
              "      <td>False</td>\n",
              "      <td>False</td>\n",
              "      <td>True</td>\n",
              "      <td>False</td>\n",
              "      <td>False</td>\n",
              "      <td>WRD</td>\n",
              "    </tr>\n",
              "    <tr>\n",
              "      <th>7204</th>\n",
              "      <td>7205.0</td>\n",
              "      <td>TRAIN</td>\n",
              "      <td>DR2</td>\n",
              "      <td>FJKL0</td>\n",
              "      <td>SX302.TXT</td>\n",
              "      <td>TRAIN/DR2/FJKL0/SX302.TXT</td>\n",
              "      <td>False</td>\n",
              "      <td>False</td>\n",
              "      <td>False</td>\n",
              "      <td>False</td>\n",
              "      <td>True</td>\n",
              "      <td>TXT</td>\n",
              "    </tr>\n",
              "    <tr>\n",
              "      <th>7205</th>\n",
              "      <td>7206.0</td>\n",
              "      <td>TRAIN</td>\n",
              "      <td>DR2</td>\n",
              "      <td>FJKL0</td>\n",
              "      <td>SX122.WRD</td>\n",
              "      <td>TRAIN/DR2/FJKL0/SX122.WRD</td>\n",
              "      <td>False</td>\n",
              "      <td>False</td>\n",
              "      <td>True</td>\n",
              "      <td>False</td>\n",
              "      <td>False</td>\n",
              "      <td>WRD</td>\n",
              "    </tr>\n",
              "  </tbody>\n",
              "</table>\n",
              "</div>\n",
              "      <button class=\"colab-df-convert\" onclick=\"convertToInteractive('df-7a8d8dbe-4925-4e3e-82a8-1aa46f5a7ec6')\"\n",
              "              title=\"Convert this dataframe to an interactive table.\"\n",
              "              style=\"display:none;\">\n",
              "        \n",
              "  <svg xmlns=\"http://www.w3.org/2000/svg\" height=\"24px\"viewBox=\"0 0 24 24\"\n",
              "       width=\"24px\">\n",
              "    <path d=\"M0 0h24v24H0V0z\" fill=\"none\"/>\n",
              "    <path d=\"M18.56 5.44l.94 2.06.94-2.06 2.06-.94-2.06-.94-.94-2.06-.94 2.06-2.06.94zm-11 1L8.5 8.5l.94-2.06 2.06-.94-2.06-.94L8.5 2.5l-.94 2.06-2.06.94zm10 10l.94 2.06.94-2.06 2.06-.94-2.06-.94-.94-2.06-.94 2.06-2.06.94z\"/><path d=\"M17.41 7.96l-1.37-1.37c-.4-.4-.92-.59-1.43-.59-.52 0-1.04.2-1.43.59L10.3 9.45l-7.72 7.72c-.78.78-.78 2.05 0 2.83L4 21.41c.39.39.9.59 1.41.59.51 0 1.02-.2 1.41-.59l7.78-7.78 2.81-2.81c.8-.78.8-2.07 0-2.86zM5.41 20L4 18.59l7.72-7.72 1.47 1.35L5.41 20z\"/>\n",
              "  </svg>\n",
              "      </button>\n",
              "      \n",
              "  <style>\n",
              "    .colab-df-container {\n",
              "      display:flex;\n",
              "      flex-wrap:wrap;\n",
              "      gap: 12px;\n",
              "    }\n",
              "\n",
              "    .colab-df-convert {\n",
              "      background-color: #E8F0FE;\n",
              "      border: none;\n",
              "      border-radius: 50%;\n",
              "      cursor: pointer;\n",
              "      display: none;\n",
              "      fill: #1967D2;\n",
              "      height: 32px;\n",
              "      padding: 0 0 0 0;\n",
              "      width: 32px;\n",
              "    }\n",
              "\n",
              "    .colab-df-convert:hover {\n",
              "      background-color: #E2EBFA;\n",
              "      box-shadow: 0px 1px 2px rgba(60, 64, 67, 0.3), 0px 1px 3px 1px rgba(60, 64, 67, 0.15);\n",
              "      fill: #174EA6;\n",
              "    }\n",
              "\n",
              "    [theme=dark] .colab-df-convert {\n",
              "      background-color: #3B4455;\n",
              "      fill: #D2E3FC;\n",
              "    }\n",
              "\n",
              "    [theme=dark] .colab-df-convert:hover {\n",
              "      background-color: #434B5C;\n",
              "      box-shadow: 0px 1px 3px 1px rgba(0, 0, 0, 0.15);\n",
              "      filter: drop-shadow(0px 1px 2px rgba(0, 0, 0, 0.3));\n",
              "      fill: #FFFFFF;\n",
              "    }\n",
              "  </style>\n",
              "\n",
              "      <script>\n",
              "        const buttonEl =\n",
              "          document.querySelector('#df-7a8d8dbe-4925-4e3e-82a8-1aa46f5a7ec6 button.colab-df-convert');\n",
              "        buttonEl.style.display =\n",
              "          google.colab.kernel.accessAllowed ? 'block' : 'none';\n",
              "\n",
              "        async function convertToInteractive(key) {\n",
              "          const element = document.querySelector('#df-7a8d8dbe-4925-4e3e-82a8-1aa46f5a7ec6');\n",
              "          const dataTable =\n",
              "            await google.colab.kernel.invokeFunction('convertToInteractive',\n",
              "                                                     [key], {});\n",
              "          if (!dataTable) return;\n",
              "\n",
              "          const docLinkHtml = 'Like what you see? Visit the ' +\n",
              "            '<a target=\"_blank\" href=https://colab.research.google.com/notebooks/data_table.ipynb>data table notebook</a>'\n",
              "            + ' to learn more about interactive tables.';\n",
              "          element.innerHTML = '';\n",
              "          dataTable['output_type'] = 'display_data';\n",
              "          await google.colab.output.renderOutput(dataTable, element);\n",
              "          const docLink = document.createElement('div');\n",
              "          docLink.innerHTML = docLinkHtml;\n",
              "          element.appendChild(docLink);\n",
              "        }\n",
              "      </script>\n",
              "    </div>\n",
              "  </div>\n",
              "  "
            ]
          },
          "metadata": {},
          "execution_count": 23
        }
      ]
    },
    {
      "cell_type": "code",
      "source": [
        "train_df[\"path_from_data_dir\"]=\"/content/data/\"+train_df[\"path_from_data_dir\"]"
      ],
      "metadata": {
        "id": "HPWt0ByOdEeJ"
      },
      "execution_count": 24,
      "outputs": []
    },
    {
      "cell_type": "code",
      "source": [
        "train_df.head()"
      ],
      "metadata": {
        "colab": {
          "base_uri": "https://localhost:8080/",
          "height": 250
        },
        "id": "XgC2gBvGkI1i",
        "outputId": "e5e59bed-5e88-45f1-b95d-15424715a92b"
      },
      "execution_count": 25,
      "outputs": [
        {
          "output_type": "execute_result",
          "data": {
            "text/plain": [
              "       index test_or_train dialect_region speaker_id   filename  \\\n",
              "7200  7201.0         TRAIN            DR2      FJKL0   SX32.PHN   \n",
              "7202  7203.0         TRAIN            DR2      FJKL0   SX32.WRD   \n",
              "7203  7204.0         TRAIN            DR2      FJKL0  SI932.WRD   \n",
              "7204  7205.0         TRAIN            DR2      FJKL0  SX302.TXT   \n",
              "7205  7206.0         TRAIN            DR2      FJKL0  SX122.WRD   \n",
              "\n",
              "                           path_from_data_dir is_converted_audio is_audio  \\\n",
              "7200   /content/data/TRAIN/DR2/FJKL0/SX32.PHN              False    False   \n",
              "7202   /content/data/TRAIN/DR2/FJKL0/SX32.WRD              False    False   \n",
              "7203  /content/data/TRAIN/DR2/FJKL0/SI932.WRD              False    False   \n",
              "7204  /content/data/TRAIN/DR2/FJKL0/SX302.TXT              False    False   \n",
              "7205  /content/data/TRAIN/DR2/FJKL0/SX122.WRD              False    False   \n",
              "\n",
              "     is_word_file is_phonetic_file is_sentence_file FType  \n",
              "7200        False             True            False   PHN  \n",
              "7202         True            False            False   WRD  \n",
              "7203         True            False            False   WRD  \n",
              "7204        False            False             True   TXT  \n",
              "7205         True            False            False   WRD  "
            ],
            "text/html": [
              "\n",
              "  <div id=\"df-49d57754-8482-4f5f-b63c-904e6a8048e6\">\n",
              "    <div class=\"colab-df-container\">\n",
              "      <div>\n",
              "<style scoped>\n",
              "    .dataframe tbody tr th:only-of-type {\n",
              "        vertical-align: middle;\n",
              "    }\n",
              "\n",
              "    .dataframe tbody tr th {\n",
              "        vertical-align: top;\n",
              "    }\n",
              "\n",
              "    .dataframe thead th {\n",
              "        text-align: right;\n",
              "    }\n",
              "</style>\n",
              "<table border=\"1\" class=\"dataframe\">\n",
              "  <thead>\n",
              "    <tr style=\"text-align: right;\">\n",
              "      <th></th>\n",
              "      <th>index</th>\n",
              "      <th>test_or_train</th>\n",
              "      <th>dialect_region</th>\n",
              "      <th>speaker_id</th>\n",
              "      <th>filename</th>\n",
              "      <th>path_from_data_dir</th>\n",
              "      <th>is_converted_audio</th>\n",
              "      <th>is_audio</th>\n",
              "      <th>is_word_file</th>\n",
              "      <th>is_phonetic_file</th>\n",
              "      <th>is_sentence_file</th>\n",
              "      <th>FType</th>\n",
              "    </tr>\n",
              "  </thead>\n",
              "  <tbody>\n",
              "    <tr>\n",
              "      <th>7200</th>\n",
              "      <td>7201.0</td>\n",
              "      <td>TRAIN</td>\n",
              "      <td>DR2</td>\n",
              "      <td>FJKL0</td>\n",
              "      <td>SX32.PHN</td>\n",
              "      <td>/content/data/TRAIN/DR2/FJKL0/SX32.PHN</td>\n",
              "      <td>False</td>\n",
              "      <td>False</td>\n",
              "      <td>False</td>\n",
              "      <td>True</td>\n",
              "      <td>False</td>\n",
              "      <td>PHN</td>\n",
              "    </tr>\n",
              "    <tr>\n",
              "      <th>7202</th>\n",
              "      <td>7203.0</td>\n",
              "      <td>TRAIN</td>\n",
              "      <td>DR2</td>\n",
              "      <td>FJKL0</td>\n",
              "      <td>SX32.WRD</td>\n",
              "      <td>/content/data/TRAIN/DR2/FJKL0/SX32.WRD</td>\n",
              "      <td>False</td>\n",
              "      <td>False</td>\n",
              "      <td>True</td>\n",
              "      <td>False</td>\n",
              "      <td>False</td>\n",
              "      <td>WRD</td>\n",
              "    </tr>\n",
              "    <tr>\n",
              "      <th>7203</th>\n",
              "      <td>7204.0</td>\n",
              "      <td>TRAIN</td>\n",
              "      <td>DR2</td>\n",
              "      <td>FJKL0</td>\n",
              "      <td>SI932.WRD</td>\n",
              "      <td>/content/data/TRAIN/DR2/FJKL0/SI932.WRD</td>\n",
              "      <td>False</td>\n",
              "      <td>False</td>\n",
              "      <td>True</td>\n",
              "      <td>False</td>\n",
              "      <td>False</td>\n",
              "      <td>WRD</td>\n",
              "    </tr>\n",
              "    <tr>\n",
              "      <th>7204</th>\n",
              "      <td>7205.0</td>\n",
              "      <td>TRAIN</td>\n",
              "      <td>DR2</td>\n",
              "      <td>FJKL0</td>\n",
              "      <td>SX302.TXT</td>\n",
              "      <td>/content/data/TRAIN/DR2/FJKL0/SX302.TXT</td>\n",
              "      <td>False</td>\n",
              "      <td>False</td>\n",
              "      <td>False</td>\n",
              "      <td>False</td>\n",
              "      <td>True</td>\n",
              "      <td>TXT</td>\n",
              "    </tr>\n",
              "    <tr>\n",
              "      <th>7205</th>\n",
              "      <td>7206.0</td>\n",
              "      <td>TRAIN</td>\n",
              "      <td>DR2</td>\n",
              "      <td>FJKL0</td>\n",
              "      <td>SX122.WRD</td>\n",
              "      <td>/content/data/TRAIN/DR2/FJKL0/SX122.WRD</td>\n",
              "      <td>False</td>\n",
              "      <td>False</td>\n",
              "      <td>True</td>\n",
              "      <td>False</td>\n",
              "      <td>False</td>\n",
              "      <td>WRD</td>\n",
              "    </tr>\n",
              "  </tbody>\n",
              "</table>\n",
              "</div>\n",
              "      <button class=\"colab-df-convert\" onclick=\"convertToInteractive('df-49d57754-8482-4f5f-b63c-904e6a8048e6')\"\n",
              "              title=\"Convert this dataframe to an interactive table.\"\n",
              "              style=\"display:none;\">\n",
              "        \n",
              "  <svg xmlns=\"http://www.w3.org/2000/svg\" height=\"24px\"viewBox=\"0 0 24 24\"\n",
              "       width=\"24px\">\n",
              "    <path d=\"M0 0h24v24H0V0z\" fill=\"none\"/>\n",
              "    <path d=\"M18.56 5.44l.94 2.06.94-2.06 2.06-.94-2.06-.94-.94-2.06-.94 2.06-2.06.94zm-11 1L8.5 8.5l.94-2.06 2.06-.94-2.06-.94L8.5 2.5l-.94 2.06-2.06.94zm10 10l.94 2.06.94-2.06 2.06-.94-2.06-.94-.94-2.06-.94 2.06-2.06.94z\"/><path d=\"M17.41 7.96l-1.37-1.37c-.4-.4-.92-.59-1.43-.59-.52 0-1.04.2-1.43.59L10.3 9.45l-7.72 7.72c-.78.78-.78 2.05 0 2.83L4 21.41c.39.39.9.59 1.41.59.51 0 1.02-.2 1.41-.59l7.78-7.78 2.81-2.81c.8-.78.8-2.07 0-2.86zM5.41 20L4 18.59l7.72-7.72 1.47 1.35L5.41 20z\"/>\n",
              "  </svg>\n",
              "      </button>\n",
              "      \n",
              "  <style>\n",
              "    .colab-df-container {\n",
              "      display:flex;\n",
              "      flex-wrap:wrap;\n",
              "      gap: 12px;\n",
              "    }\n",
              "\n",
              "    .colab-df-convert {\n",
              "      background-color: #E8F0FE;\n",
              "      border: none;\n",
              "      border-radius: 50%;\n",
              "      cursor: pointer;\n",
              "      display: none;\n",
              "      fill: #1967D2;\n",
              "      height: 32px;\n",
              "      padding: 0 0 0 0;\n",
              "      width: 32px;\n",
              "    }\n",
              "\n",
              "    .colab-df-convert:hover {\n",
              "      background-color: #E2EBFA;\n",
              "      box-shadow: 0px 1px 2px rgba(60, 64, 67, 0.3), 0px 1px 3px 1px rgba(60, 64, 67, 0.15);\n",
              "      fill: #174EA6;\n",
              "    }\n",
              "\n",
              "    [theme=dark] .colab-df-convert {\n",
              "      background-color: #3B4455;\n",
              "      fill: #D2E3FC;\n",
              "    }\n",
              "\n",
              "    [theme=dark] .colab-df-convert:hover {\n",
              "      background-color: #434B5C;\n",
              "      box-shadow: 0px 1px 3px 1px rgba(0, 0, 0, 0.15);\n",
              "      filter: drop-shadow(0px 1px 2px rgba(0, 0, 0, 0.3));\n",
              "      fill: #FFFFFF;\n",
              "    }\n",
              "  </style>\n",
              "\n",
              "      <script>\n",
              "        const buttonEl =\n",
              "          document.querySelector('#df-49d57754-8482-4f5f-b63c-904e6a8048e6 button.colab-df-convert');\n",
              "        buttonEl.style.display =\n",
              "          google.colab.kernel.accessAllowed ? 'block' : 'none';\n",
              "\n",
              "        async function convertToInteractive(key) {\n",
              "          const element = document.querySelector('#df-49d57754-8482-4f5f-b63c-904e6a8048e6');\n",
              "          const dataTable =\n",
              "            await google.colab.kernel.invokeFunction('convertToInteractive',\n",
              "                                                     [key], {});\n",
              "          if (!dataTable) return;\n",
              "\n",
              "          const docLinkHtml = 'Like what you see? Visit the ' +\n",
              "            '<a target=\"_blank\" href=https://colab.research.google.com/notebooks/data_table.ipynb>data table notebook</a>'\n",
              "            + ' to learn more about interactive tables.';\n",
              "          element.innerHTML = '';\n",
              "          dataTable['output_type'] = 'display_data';\n",
              "          await google.colab.output.renderOutput(dataTable, element);\n",
              "          const docLink = document.createElement('div');\n",
              "          docLink.innerHTML = docLinkHtml;\n",
              "          element.appendChild(docLink);\n",
              "        }\n",
              "      </script>\n",
              "    </div>\n",
              "  </div>\n",
              "  "
            ]
          },
          "metadata": {},
          "execution_count": 25
        }
      ]
    },
    {
      "cell_type": "code",
      "source": [
        "train_df[\"path_from_data_dir\"].values[0].split('.')[0]"
      ],
      "metadata": {
        "colab": {
          "base_uri": "https://localhost:8080/",
          "height": 35
        },
        "id": "9ublsAXDB-WT",
        "outputId": "16166a7e-4044-4945-8fe9-0d19a9dca70a"
      },
      "execution_count": 26,
      "outputs": [
        {
          "output_type": "execute_result",
          "data": {
            "text/plain": [
              "'/content/data/TRAIN/DR2/FJKL0/SX32'"
            ],
            "application/vnd.google.colaboratory.intrinsic+json": {
              "type": "string"
            }
          },
          "metadata": {},
          "execution_count": 26
        }
      ]
    },
    {
      "cell_type": "markdown",
      "source": [
        "## Extracting Words from Selected fie types\n",
        "* Extracting Words and Associated Phoneme from the files"
      ],
      "metadata": {
        "id": "UIejeJvC-Mup"
      }
    },
    {
      "cell_type": "code",
      "source": [
        "def words(dir):\n",
        "  w=[]\n",
        "  phn = []\n",
        "  dir=dir.split('.')[0]\n",
        "  dict_file_wrd = open(str(dir+\".WRD\"), 'r')\n",
        "  dict_file_phn = open(str(dir+\".PHN\"), 'r')\n",
        "  with dict_file_wrd as f:\n",
        "    phonics = [line.rstrip('\\n') for line in f]\n",
        "    for p in phonics:\n",
        "      p=p.split(' ')\n",
        "      s=\"\".join(p[2:])\n",
        "      w.append(s)\n",
        "  with dict_file_phn as f:\n",
        "    phonics = [line.rstrip('\\n') for line in f]\n",
        "    for p in phonics:\n",
        "      p=p.split(' ')\n",
        "      s=\"\".join(p[2:])\n",
        "      phn.append(s)\n",
        "  return w,phn"
      ],
      "metadata": {
        "id": "-2b7oJyxnzJY"
      },
      "execution_count": 27,
      "outputs": []
    },
    {
      "cell_type": "code",
      "source": [
        "train_df[\"path_from_data_dir\"].values[0]"
      ],
      "metadata": {
        "colab": {
          "base_uri": "https://localhost:8080/",
          "height": 35
        },
        "id": "X8tYb3GlvOi1",
        "outputId": "63216aa9-5d03-4d7f-a6a1-f59c178a253c"
      },
      "execution_count": 28,
      "outputs": [
        {
          "output_type": "execute_result",
          "data": {
            "text/plain": [
              "'/content/data/TRAIN/DR2/FJKL0/SX32.PHN'"
            ],
            "application/vnd.google.colaboratory.intrinsic+json": {
              "type": "string"
            }
          },
          "metadata": {},
          "execution_count": 28
        }
      ]
    },
    {
      "cell_type": "code",
      "source": [
        "len(train_df[\"path_from_data_dir\"])"
      ],
      "metadata": {
        "colab": {
          "base_uri": "https://localhost:8080/"
        },
        "id": "ArmFzsP8zNh_",
        "outputId": "b1ebb90f-1594-46d8-90c9-988a9cc918c8"
      },
      "execution_count": 29,
      "outputs": [
        {
          "output_type": "execute_result",
          "data": {
            "text/plain": [
              "3420"
            ]
          },
          "metadata": {},
          "execution_count": 29
        }
      ]
    },
    {
      "cell_type": "code",
      "source": [
        "w=[]\n",
        "p=[]\n",
        "for l in train_df[\"path_from_data_dir\"]:\n",
        "  wp,ph=words(l)\n",
        "  w.append(wp)\n",
        "  p.append(ph)"
      ],
      "metadata": {
        "id": "rm4UOwfguSid"
      },
      "execution_count": 30,
      "outputs": []
    },
    {
      "cell_type": "code",
      "source": [
        "len(p),len(w)"
      ],
      "metadata": {
        "colab": {
          "base_uri": "https://localhost:8080/"
        },
        "id": "YymyRf9xzvKY",
        "outputId": "edbe0ea8-b9c6-4a8f-effc-9729a45c91f1"
      },
      "execution_count": 31,
      "outputs": [
        {
          "output_type": "execute_result",
          "data": {
            "text/plain": [
              "(3420, 3420)"
            ]
          },
          "metadata": {},
          "execution_count": 31
        }
      ]
    },
    {
      "cell_type": "code",
      "source": [
        "data = pd.DataFrame({'Word': w, 'Phonics': p})\n",
        "data.head()"
      ],
      "metadata": {
        "colab": {
          "base_uri": "https://localhost:8080/",
          "height": 206
        },
        "id": "Zwl8Q9qNzxUA",
        "outputId": "c55cbc1b-75bb-48c5-ab7d-dd24acdbd590"
      },
      "execution_count": 32,
      "outputs": [
        {
          "output_type": "execute_result",
          "data": {
            "text/plain": [
              "                                                Word  \\\n",
              "0  [it's, fun, to, roast, marshmallows, on, a, ga...   \n",
              "1  [it's, fun, to, roast, marshmallows, on, a, ga...   \n",
              "2  [his, prescription, hot, and, cold, compresses...   \n",
              "3        [tofu, is, made, from, processed, soybeans]   \n",
              "4  [encyclopedias, seldom, present, anecdotal, ev...   \n",
              "\n",
              "                                             Phonics  \n",
              "0  [h#, ix, tcl, s, f, ah, n, d, axr, r, ow, s, t...  \n",
              "1  [h#, ix, tcl, s, f, ah, n, d, axr, r, ow, s, t...  \n",
              "2  [h#, hh, ih, z, pcl, p, axr, s, kcl, k, r, ih,...  \n",
              "3  [h#, t, ow, f, uw, ih, z, m, ey, dcl, f, r, em...  \n",
              "4  [h#, q, ix, n, s, ay, kcl, k, l, ix, pcl, p, i...  "
            ],
            "text/html": [
              "\n",
              "  <div id=\"df-5ef89910-32eb-42b2-8782-69492a3b9daf\">\n",
              "    <div class=\"colab-df-container\">\n",
              "      <div>\n",
              "<style scoped>\n",
              "    .dataframe tbody tr th:only-of-type {\n",
              "        vertical-align: middle;\n",
              "    }\n",
              "\n",
              "    .dataframe tbody tr th {\n",
              "        vertical-align: top;\n",
              "    }\n",
              "\n",
              "    .dataframe thead th {\n",
              "        text-align: right;\n",
              "    }\n",
              "</style>\n",
              "<table border=\"1\" class=\"dataframe\">\n",
              "  <thead>\n",
              "    <tr style=\"text-align: right;\">\n",
              "      <th></th>\n",
              "      <th>Word</th>\n",
              "      <th>Phonics</th>\n",
              "    </tr>\n",
              "  </thead>\n",
              "  <tbody>\n",
              "    <tr>\n",
              "      <th>0</th>\n",
              "      <td>[it's, fun, to, roast, marshmallows, on, a, ga...</td>\n",
              "      <td>[h#, ix, tcl, s, f, ah, n, d, axr, r, ow, s, t...</td>\n",
              "    </tr>\n",
              "    <tr>\n",
              "      <th>1</th>\n",
              "      <td>[it's, fun, to, roast, marshmallows, on, a, ga...</td>\n",
              "      <td>[h#, ix, tcl, s, f, ah, n, d, axr, r, ow, s, t...</td>\n",
              "    </tr>\n",
              "    <tr>\n",
              "      <th>2</th>\n",
              "      <td>[his, prescription, hot, and, cold, compresses...</td>\n",
              "      <td>[h#, hh, ih, z, pcl, p, axr, s, kcl, k, r, ih,...</td>\n",
              "    </tr>\n",
              "    <tr>\n",
              "      <th>3</th>\n",
              "      <td>[tofu, is, made, from, processed, soybeans]</td>\n",
              "      <td>[h#, t, ow, f, uw, ih, z, m, ey, dcl, f, r, em...</td>\n",
              "    </tr>\n",
              "    <tr>\n",
              "      <th>4</th>\n",
              "      <td>[encyclopedias, seldom, present, anecdotal, ev...</td>\n",
              "      <td>[h#, q, ix, n, s, ay, kcl, k, l, ix, pcl, p, i...</td>\n",
              "    </tr>\n",
              "  </tbody>\n",
              "</table>\n",
              "</div>\n",
              "      <button class=\"colab-df-convert\" onclick=\"convertToInteractive('df-5ef89910-32eb-42b2-8782-69492a3b9daf')\"\n",
              "              title=\"Convert this dataframe to an interactive table.\"\n",
              "              style=\"display:none;\">\n",
              "        \n",
              "  <svg xmlns=\"http://www.w3.org/2000/svg\" height=\"24px\"viewBox=\"0 0 24 24\"\n",
              "       width=\"24px\">\n",
              "    <path d=\"M0 0h24v24H0V0z\" fill=\"none\"/>\n",
              "    <path d=\"M18.56 5.44l.94 2.06.94-2.06 2.06-.94-2.06-.94-.94-2.06-.94 2.06-2.06.94zm-11 1L8.5 8.5l.94-2.06 2.06-.94-2.06-.94L8.5 2.5l-.94 2.06-2.06.94zm10 10l.94 2.06.94-2.06 2.06-.94-2.06-.94-.94-2.06-.94 2.06-2.06.94z\"/><path d=\"M17.41 7.96l-1.37-1.37c-.4-.4-.92-.59-1.43-.59-.52 0-1.04.2-1.43.59L10.3 9.45l-7.72 7.72c-.78.78-.78 2.05 0 2.83L4 21.41c.39.39.9.59 1.41.59.51 0 1.02-.2 1.41-.59l7.78-7.78 2.81-2.81c.8-.78.8-2.07 0-2.86zM5.41 20L4 18.59l7.72-7.72 1.47 1.35L5.41 20z\"/>\n",
              "  </svg>\n",
              "      </button>\n",
              "      \n",
              "  <style>\n",
              "    .colab-df-container {\n",
              "      display:flex;\n",
              "      flex-wrap:wrap;\n",
              "      gap: 12px;\n",
              "    }\n",
              "\n",
              "    .colab-df-convert {\n",
              "      background-color: #E8F0FE;\n",
              "      border: none;\n",
              "      border-radius: 50%;\n",
              "      cursor: pointer;\n",
              "      display: none;\n",
              "      fill: #1967D2;\n",
              "      height: 32px;\n",
              "      padding: 0 0 0 0;\n",
              "      width: 32px;\n",
              "    }\n",
              "\n",
              "    .colab-df-convert:hover {\n",
              "      background-color: #E2EBFA;\n",
              "      box-shadow: 0px 1px 2px rgba(60, 64, 67, 0.3), 0px 1px 3px 1px rgba(60, 64, 67, 0.15);\n",
              "      fill: #174EA6;\n",
              "    }\n",
              "\n",
              "    [theme=dark] .colab-df-convert {\n",
              "      background-color: #3B4455;\n",
              "      fill: #D2E3FC;\n",
              "    }\n",
              "\n",
              "    [theme=dark] .colab-df-convert:hover {\n",
              "      background-color: #434B5C;\n",
              "      box-shadow: 0px 1px 3px 1px rgba(0, 0, 0, 0.15);\n",
              "      filter: drop-shadow(0px 1px 2px rgba(0, 0, 0, 0.3));\n",
              "      fill: #FFFFFF;\n",
              "    }\n",
              "  </style>\n",
              "\n",
              "      <script>\n",
              "        const buttonEl =\n",
              "          document.querySelector('#df-5ef89910-32eb-42b2-8782-69492a3b9daf button.colab-df-convert');\n",
              "        buttonEl.style.display =\n",
              "          google.colab.kernel.accessAllowed ? 'block' : 'none';\n",
              "\n",
              "        async function convertToInteractive(key) {\n",
              "          const element = document.querySelector('#df-5ef89910-32eb-42b2-8782-69492a3b9daf');\n",
              "          const dataTable =\n",
              "            await google.colab.kernel.invokeFunction('convertToInteractive',\n",
              "                                                     [key], {});\n",
              "          if (!dataTable) return;\n",
              "\n",
              "          const docLinkHtml = 'Like what you see? Visit the ' +\n",
              "            '<a target=\"_blank\" href=https://colab.research.google.com/notebooks/data_table.ipynb>data table notebook</a>'\n",
              "            + ' to learn more about interactive tables.';\n",
              "          element.innerHTML = '';\n",
              "          dataTable['output_type'] = 'display_data';\n",
              "          await google.colab.output.renderOutput(dataTable, element);\n",
              "          const docLink = document.createElement('div');\n",
              "          docLink.innerHTML = docLinkHtml;\n",
              "          element.appendChild(docLink);\n",
              "        }\n",
              "      </script>\n",
              "    </div>\n",
              "  </div>\n",
              "  "
            ]
          },
          "metadata": {},
          "execution_count": 32
        }
      ]
    },
    {
      "cell_type": "code",
      "source": [
        "def joiner(w):\n",
        "  return \" \".join(w)"
      ],
      "metadata": {
        "id": "8CTHjVdubnrO"
      },
      "execution_count": 33,
      "outputs": []
    },
    {
      "cell_type": "code",
      "source": [
        "data_fin = data[\"Word\"].apply(lambda x:joiner(x))"
      ],
      "metadata": {
        "id": "t6Mwe7D5bUPg"
      },
      "execution_count": 34,
      "outputs": []
    },
    {
      "cell_type": "code",
      "source": [
        "data_fin"
      ],
      "metadata": {
        "colab": {
          "base_uri": "https://localhost:8080/"
        },
        "id": "Pu9aL3CDby7G",
        "outputId": "f5078592-f38a-4cdb-fe13-b8fc81a33aff"
      },
      "execution_count": 35,
      "outputs": [
        {
          "output_type": "execute_result",
          "data": {
            "text/plain": [
              "0          it's fun to roast marshmallows on a gas burner\n",
              "1          it's fun to roast marshmallows on a gas burner\n",
              "2       his prescription hot and cold compresses to in...\n",
              "3                    tofu is made from processed soybeans\n",
              "4         encyclopedias seldom present anecdotal evidence\n",
              "                              ...                        \n",
              "3415                  most young rise early every morning\n",
              "3416                    clasp the screw in your left hand\n",
              "3417                    clasp the screw in your left hand\n",
              "3418                 the two artists exchanged autographs\n",
              "3419    in simpler terms it amounts to pointing the pl...\n",
              "Name: Word, Length: 3420, dtype: object"
            ]
          },
          "metadata": {},
          "execution_count": 35
        }
      ]
    },
    {
      "cell_type": "code",
      "source": [
        "data_fin.columns=[\"Words\"]"
      ],
      "metadata": {
        "id": "L3pcNo-rb2qo"
      },
      "execution_count": 36,
      "outputs": []
    },
    {
      "cell_type": "code",
      "source": [
        "data_fin_ph=data[\"Phonics\"].apply(lambda x:joiner(x))"
      ],
      "metadata": {
        "id": "JvllsA9mb8Gc"
      },
      "execution_count": 37,
      "outputs": []
    },
    {
      "cell_type": "code",
      "source": [
        "data_fin=pd.DataFrame(list(zip(data_fin,data_fin_ph)),columns=[\"Words\",\"Phonemes\"])"
      ],
      "metadata": {
        "id": "xabfUugBcQva"
      },
      "execution_count": 38,
      "outputs": []
    },
    {
      "cell_type": "markdown",
      "source": [
        "## DataFrame with Sentences in Word and Phoneme Form Created"
      ],
      "metadata": {
        "id": "Bs3zR7KQ-lix"
      }
    },
    {
      "cell_type": "code",
      "source": [
        "data_fin.head()"
      ],
      "metadata": {
        "colab": {
          "base_uri": "https://localhost:8080/",
          "height": 206
        },
        "id": "g0LJIB6McLGV",
        "outputId": "14ee7e5b-1cce-478c-c073-021647d6592c"
      },
      "execution_count": 39,
      "outputs": [
        {
          "output_type": "execute_result",
          "data": {
            "text/plain": [
              "                                               Words  \\\n",
              "0     it's fun to roast marshmallows on a gas burner   \n",
              "1     it's fun to roast marshmallows on a gas burner   \n",
              "2  his prescription hot and cold compresses to in...   \n",
              "3               tofu is made from processed soybeans   \n",
              "4    encyclopedias seldom present anecdotal evidence   \n",
              "\n",
              "                                            Phonemes  \n",
              "0  h# ix tcl s f ah n d axr r ow s tcl t m aa r s...  \n",
              "1  h# ix tcl s f ah n d axr r ow s tcl t m aa r s...  \n",
              "2  h# hh ih z pcl p axr s kcl k r ih pcl sh ix n ...  \n",
              "3  h# t ow f uw ih z m ey dcl f r em pcl p r aa s...  \n",
              "4  h# q ix n s ay kcl k l ix pcl p iy dcl d iy ix...  "
            ],
            "text/html": [
              "\n",
              "  <div id=\"df-b3dd7dae-e181-4981-81b1-4ed190d0336f\">\n",
              "    <div class=\"colab-df-container\">\n",
              "      <div>\n",
              "<style scoped>\n",
              "    .dataframe tbody tr th:only-of-type {\n",
              "        vertical-align: middle;\n",
              "    }\n",
              "\n",
              "    .dataframe tbody tr th {\n",
              "        vertical-align: top;\n",
              "    }\n",
              "\n",
              "    .dataframe thead th {\n",
              "        text-align: right;\n",
              "    }\n",
              "</style>\n",
              "<table border=\"1\" class=\"dataframe\">\n",
              "  <thead>\n",
              "    <tr style=\"text-align: right;\">\n",
              "      <th></th>\n",
              "      <th>Words</th>\n",
              "      <th>Phonemes</th>\n",
              "    </tr>\n",
              "  </thead>\n",
              "  <tbody>\n",
              "    <tr>\n",
              "      <th>0</th>\n",
              "      <td>it's fun to roast marshmallows on a gas burner</td>\n",
              "      <td>h# ix tcl s f ah n d axr r ow s tcl t m aa r s...</td>\n",
              "    </tr>\n",
              "    <tr>\n",
              "      <th>1</th>\n",
              "      <td>it's fun to roast marshmallows on a gas burner</td>\n",
              "      <td>h# ix tcl s f ah n d axr r ow s tcl t m aa r s...</td>\n",
              "    </tr>\n",
              "    <tr>\n",
              "      <th>2</th>\n",
              "      <td>his prescription hot and cold compresses to in...</td>\n",
              "      <td>h# hh ih z pcl p axr s kcl k r ih pcl sh ix n ...</td>\n",
              "    </tr>\n",
              "    <tr>\n",
              "      <th>3</th>\n",
              "      <td>tofu is made from processed soybeans</td>\n",
              "      <td>h# t ow f uw ih z m ey dcl f r em pcl p r aa s...</td>\n",
              "    </tr>\n",
              "    <tr>\n",
              "      <th>4</th>\n",
              "      <td>encyclopedias seldom present anecdotal evidence</td>\n",
              "      <td>h# q ix n s ay kcl k l ix pcl p iy dcl d iy ix...</td>\n",
              "    </tr>\n",
              "  </tbody>\n",
              "</table>\n",
              "</div>\n",
              "      <button class=\"colab-df-convert\" onclick=\"convertToInteractive('df-b3dd7dae-e181-4981-81b1-4ed190d0336f')\"\n",
              "              title=\"Convert this dataframe to an interactive table.\"\n",
              "              style=\"display:none;\">\n",
              "        \n",
              "  <svg xmlns=\"http://www.w3.org/2000/svg\" height=\"24px\"viewBox=\"0 0 24 24\"\n",
              "       width=\"24px\">\n",
              "    <path d=\"M0 0h24v24H0V0z\" fill=\"none\"/>\n",
              "    <path d=\"M18.56 5.44l.94 2.06.94-2.06 2.06-.94-2.06-.94-.94-2.06-.94 2.06-2.06.94zm-11 1L8.5 8.5l.94-2.06 2.06-.94-2.06-.94L8.5 2.5l-.94 2.06-2.06.94zm10 10l.94 2.06.94-2.06 2.06-.94-2.06-.94-.94-2.06-.94 2.06-2.06.94z\"/><path d=\"M17.41 7.96l-1.37-1.37c-.4-.4-.92-.59-1.43-.59-.52 0-1.04.2-1.43.59L10.3 9.45l-7.72 7.72c-.78.78-.78 2.05 0 2.83L4 21.41c.39.39.9.59 1.41.59.51 0 1.02-.2 1.41-.59l7.78-7.78 2.81-2.81c.8-.78.8-2.07 0-2.86zM5.41 20L4 18.59l7.72-7.72 1.47 1.35L5.41 20z\"/>\n",
              "  </svg>\n",
              "      </button>\n",
              "      \n",
              "  <style>\n",
              "    .colab-df-container {\n",
              "      display:flex;\n",
              "      flex-wrap:wrap;\n",
              "      gap: 12px;\n",
              "    }\n",
              "\n",
              "    .colab-df-convert {\n",
              "      background-color: #E8F0FE;\n",
              "      border: none;\n",
              "      border-radius: 50%;\n",
              "      cursor: pointer;\n",
              "      display: none;\n",
              "      fill: #1967D2;\n",
              "      height: 32px;\n",
              "      padding: 0 0 0 0;\n",
              "      width: 32px;\n",
              "    }\n",
              "\n",
              "    .colab-df-convert:hover {\n",
              "      background-color: #E2EBFA;\n",
              "      box-shadow: 0px 1px 2px rgba(60, 64, 67, 0.3), 0px 1px 3px 1px rgba(60, 64, 67, 0.15);\n",
              "      fill: #174EA6;\n",
              "    }\n",
              "\n",
              "    [theme=dark] .colab-df-convert {\n",
              "      background-color: #3B4455;\n",
              "      fill: #D2E3FC;\n",
              "    }\n",
              "\n",
              "    [theme=dark] .colab-df-convert:hover {\n",
              "      background-color: #434B5C;\n",
              "      box-shadow: 0px 1px 3px 1px rgba(0, 0, 0, 0.15);\n",
              "      filter: drop-shadow(0px 1px 2px rgba(0, 0, 0, 0.3));\n",
              "      fill: #FFFFFF;\n",
              "    }\n",
              "  </style>\n",
              "\n",
              "      <script>\n",
              "        const buttonEl =\n",
              "          document.querySelector('#df-b3dd7dae-e181-4981-81b1-4ed190d0336f button.colab-df-convert');\n",
              "        buttonEl.style.display =\n",
              "          google.colab.kernel.accessAllowed ? 'block' : 'none';\n",
              "\n",
              "        async function convertToInteractive(key) {\n",
              "          const element = document.querySelector('#df-b3dd7dae-e181-4981-81b1-4ed190d0336f');\n",
              "          const dataTable =\n",
              "            await google.colab.kernel.invokeFunction('convertToInteractive',\n",
              "                                                     [key], {});\n",
              "          if (!dataTable) return;\n",
              "\n",
              "          const docLinkHtml = 'Like what you see? Visit the ' +\n",
              "            '<a target=\"_blank\" href=https://colab.research.google.com/notebooks/data_table.ipynb>data table notebook</a>'\n",
              "            + ' to learn more about interactive tables.';\n",
              "          element.innerHTML = '';\n",
              "          dataTable['output_type'] = 'display_data';\n",
              "          await google.colab.output.renderOutput(dataTable, element);\n",
              "          const docLink = document.createElement('div');\n",
              "          docLink.innerHTML = docLinkHtml;\n",
              "          element.appendChild(docLink);\n",
              "        }\n",
              "      </script>\n",
              "    </div>\n",
              "  </div>\n",
              "  "
            ]
          },
          "metadata": {},
          "execution_count": 39
        }
      ]
    },
    {
      "cell_type": "code",
      "source": [
        "data.values[5]"
      ],
      "metadata": {
        "colab": {
          "base_uri": "https://localhost:8080/"
        },
        "id": "ctrdltHU-w8s",
        "outputId": "99906ddd-8774-471e-f2b8-01cfecce48e4"
      },
      "execution_count": 40,
      "outputs": [
        {
          "output_type": "execute_result",
          "data": {
            "text/plain": [
              "array([list(['encyclopedias', 'seldom', 'present', 'anecdotal', 'evidence']),\n",
              "       list(['h#', 'q', 'ix', 'n', 's', 'ay', 'kcl', 'k', 'l', 'ix', 'pcl', 'p', 'iy', 'dcl', 'd', 'iy', 'ix', 's', 'eh', 'l', 'dcl', 'd', 'ax', 'm', 'pcl', 'p', 'r', 'ih', 'z', 'eh', 'n', 'tcl', 't', 'q', 'ae', 'n', 'eh', 'kcl', 'd', 'ow', 'dx', 'el', 'q', 'eh', 'v', 'ix', 'dx', 'ix', 'n', 'tcl', 's', 'h#'])],\n",
              "      dtype=object)"
            ]
          },
          "metadata": {},
          "execution_count": 40
        }
      ]
    },
    {
      "cell_type": "markdown",
      "source": [
        "## Creating a Complete Word Phoneme Corpus DataFrame"
      ],
      "metadata": {
        "id": "Gqnk017z_q7X"
      }
    },
    {
      "cell_type": "code",
      "source": [
        "w=[]\n",
        "phn = []\n",
        "dict_file = open(str(\"TIMITDIC.TXT\"), 'r')\n",
        "with dict_file as f:\n",
        "  for _ in range(20):\n",
        "        next(f)\n",
        "  phonics = [line.rstrip('\\n') for line in f]\n",
        "  for p in phonics:\n",
        "    temp=p.rstrip('/')\n",
        "    temp=temp.split(' ')\n",
        "    w.append(temp[0])\n",
        "    phn.append(\" \".join(temp[1:]).replace(\"/\",\"\"))"
      ],
      "metadata": {
        "id": "ylT9TUV7_OgQ"
      },
      "execution_count": 41,
      "outputs": []
    },
    {
      "cell_type": "code",
      "source": [
        "w[2],phn[2]"
      ],
      "metadata": {
        "colab": {
          "base_uri": "https://localhost:8080/"
        },
        "id": "TAho9z-MX8LP",
        "outputId": "07643f20-3c85-45b8-dd27-f4de262d91c4"
      },
      "execution_count": 42,
      "outputs": [
        {
          "output_type": "execute_result",
          "data": {
            "text/plain": [
              "('-upmanship', ' ah1 p m ax n sh ih p')"
            ]
          },
          "metadata": {},
          "execution_count": 42
        }
      ]
    },
    {
      "cell_type": "code",
      "source": [
        "corpus = pd.DataFrame({'Word': w, 'Phonics': phn})\n",
        "corpus.head()"
      ],
      "metadata": {
        "colab": {
          "base_uri": "https://localhost:8080/",
          "height": 206
        },
        "id": "0lqlxXqaX9GU",
        "outputId": "6bbddc30-9e11-4812-dab2-d26cea231df2"
      },
      "execution_count": 43,
      "outputs": [
        {
          "output_type": "execute_result",
          "data": {
            "text/plain": [
              "         Word                Phonics\n",
              "0         'em                   ax m\n",
              "1     -knacks              n ae1 k s\n",
              "2  -upmanship   ah1 p m ax n sh ih p\n",
              "3        -ups                 ah p s\n",
              "4     -zagged              z ae1 g d"
            ],
            "text/html": [
              "\n",
              "  <div id=\"df-4a9167e0-f1c3-4c3f-9ee2-36855b9b313c\">\n",
              "    <div class=\"colab-df-container\">\n",
              "      <div>\n",
              "<style scoped>\n",
              "    .dataframe tbody tr th:only-of-type {\n",
              "        vertical-align: middle;\n",
              "    }\n",
              "\n",
              "    .dataframe tbody tr th {\n",
              "        vertical-align: top;\n",
              "    }\n",
              "\n",
              "    .dataframe thead th {\n",
              "        text-align: right;\n",
              "    }\n",
              "</style>\n",
              "<table border=\"1\" class=\"dataframe\">\n",
              "  <thead>\n",
              "    <tr style=\"text-align: right;\">\n",
              "      <th></th>\n",
              "      <th>Word</th>\n",
              "      <th>Phonics</th>\n",
              "    </tr>\n",
              "  </thead>\n",
              "  <tbody>\n",
              "    <tr>\n",
              "      <th>0</th>\n",
              "      <td>'em</td>\n",
              "      <td>ax m</td>\n",
              "    </tr>\n",
              "    <tr>\n",
              "      <th>1</th>\n",
              "      <td>-knacks</td>\n",
              "      <td>n ae1 k s</td>\n",
              "    </tr>\n",
              "    <tr>\n",
              "      <th>2</th>\n",
              "      <td>-upmanship</td>\n",
              "      <td>ah1 p m ax n sh ih p</td>\n",
              "    </tr>\n",
              "    <tr>\n",
              "      <th>3</th>\n",
              "      <td>-ups</td>\n",
              "      <td>ah p s</td>\n",
              "    </tr>\n",
              "    <tr>\n",
              "      <th>4</th>\n",
              "      <td>-zagged</td>\n",
              "      <td>z ae1 g d</td>\n",
              "    </tr>\n",
              "  </tbody>\n",
              "</table>\n",
              "</div>\n",
              "      <button class=\"colab-df-convert\" onclick=\"convertToInteractive('df-4a9167e0-f1c3-4c3f-9ee2-36855b9b313c')\"\n",
              "              title=\"Convert this dataframe to an interactive table.\"\n",
              "              style=\"display:none;\">\n",
              "        \n",
              "  <svg xmlns=\"http://www.w3.org/2000/svg\" height=\"24px\"viewBox=\"0 0 24 24\"\n",
              "       width=\"24px\">\n",
              "    <path d=\"M0 0h24v24H0V0z\" fill=\"none\"/>\n",
              "    <path d=\"M18.56 5.44l.94 2.06.94-2.06 2.06-.94-2.06-.94-.94-2.06-.94 2.06-2.06.94zm-11 1L8.5 8.5l.94-2.06 2.06-.94-2.06-.94L8.5 2.5l-.94 2.06-2.06.94zm10 10l.94 2.06.94-2.06 2.06-.94-2.06-.94-.94-2.06-.94 2.06-2.06.94z\"/><path d=\"M17.41 7.96l-1.37-1.37c-.4-.4-.92-.59-1.43-.59-.52 0-1.04.2-1.43.59L10.3 9.45l-7.72 7.72c-.78.78-.78 2.05 0 2.83L4 21.41c.39.39.9.59 1.41.59.51 0 1.02-.2 1.41-.59l7.78-7.78 2.81-2.81c.8-.78.8-2.07 0-2.86zM5.41 20L4 18.59l7.72-7.72 1.47 1.35L5.41 20z\"/>\n",
              "  </svg>\n",
              "      </button>\n",
              "      \n",
              "  <style>\n",
              "    .colab-df-container {\n",
              "      display:flex;\n",
              "      flex-wrap:wrap;\n",
              "      gap: 12px;\n",
              "    }\n",
              "\n",
              "    .colab-df-convert {\n",
              "      background-color: #E8F0FE;\n",
              "      border: none;\n",
              "      border-radius: 50%;\n",
              "      cursor: pointer;\n",
              "      display: none;\n",
              "      fill: #1967D2;\n",
              "      height: 32px;\n",
              "      padding: 0 0 0 0;\n",
              "      width: 32px;\n",
              "    }\n",
              "\n",
              "    .colab-df-convert:hover {\n",
              "      background-color: #E2EBFA;\n",
              "      box-shadow: 0px 1px 2px rgba(60, 64, 67, 0.3), 0px 1px 3px 1px rgba(60, 64, 67, 0.15);\n",
              "      fill: #174EA6;\n",
              "    }\n",
              "\n",
              "    [theme=dark] .colab-df-convert {\n",
              "      background-color: #3B4455;\n",
              "      fill: #D2E3FC;\n",
              "    }\n",
              "\n",
              "    [theme=dark] .colab-df-convert:hover {\n",
              "      background-color: #434B5C;\n",
              "      box-shadow: 0px 1px 3px 1px rgba(0, 0, 0, 0.15);\n",
              "      filter: drop-shadow(0px 1px 2px rgba(0, 0, 0, 0.3));\n",
              "      fill: #FFFFFF;\n",
              "    }\n",
              "  </style>\n",
              "\n",
              "      <script>\n",
              "        const buttonEl =\n",
              "          document.querySelector('#df-4a9167e0-f1c3-4c3f-9ee2-36855b9b313c button.colab-df-convert');\n",
              "        buttonEl.style.display =\n",
              "          google.colab.kernel.accessAllowed ? 'block' : 'none';\n",
              "\n",
              "        async function convertToInteractive(key) {\n",
              "          const element = document.querySelector('#df-4a9167e0-f1c3-4c3f-9ee2-36855b9b313c');\n",
              "          const dataTable =\n",
              "            await google.colab.kernel.invokeFunction('convertToInteractive',\n",
              "                                                     [key], {});\n",
              "          if (!dataTable) return;\n",
              "\n",
              "          const docLinkHtml = 'Like what you see? Visit the ' +\n",
              "            '<a target=\"_blank\" href=https://colab.research.google.com/notebooks/data_table.ipynb>data table notebook</a>'\n",
              "            + ' to learn more about interactive tables.';\n",
              "          element.innerHTML = '';\n",
              "          dataTable['output_type'] = 'display_data';\n",
              "          await google.colab.output.renderOutput(dataTable, element);\n",
              "          const docLink = document.createElement('div');\n",
              "          docLink.innerHTML = docLinkHtml;\n",
              "          element.appendChild(docLink);\n",
              "        }\n",
              "      </script>\n",
              "    </div>\n",
              "  </div>\n",
              "  "
            ]
          },
          "metadata": {},
          "execution_count": 43
        }
      ]
    },
    {
      "cell_type": "code",
      "source": [
        "wrd=corpus['Phonics'].loc[corpus['Word']==\"-ups\"]\n",
        "print(\"\".join(wrd))"
      ],
      "metadata": {
        "colab": {
          "base_uri": "https://localhost:8080/"
        },
        "id": "ePHM6u7e4FoV",
        "outputId": "7c773ebf-bbd8-4cb1-caf3-0c8f487690de"
      },
      "execution_count": 44,
      "outputs": [
        {
          "output_type": "stream",
          "name": "stdout",
          "text": [
            " ah p s\n"
          ]
        }
      ]
    },
    {
      "cell_type": "markdown",
      "source": [
        "## Matching the Sentence Words with the Corpus and Creating the Data Frame with Word Phoneme"
      ],
      "metadata": {
        "id": "12J__xOP_3DZ"
      }
    },
    {
      "cell_type": "code",
      "source": [
        "word_dict=[]\n",
        "phoneme_dict=[]\n",
        "for d in data_fin[\"Words\"]:\n",
        "  d=\"\".join(d)\n",
        "  temp=d.split(' ')\n",
        "  for t in temp:\n",
        "      phoneme_dict.append(\"\".join(corpus['Phonics'].loc[corpus['Word']==t]))\n",
        "      word_dict.append(\"\".join(t))\n"
      ],
      "metadata": {
        "id": "IPejel-jahEX"
      },
      "execution_count": 45,
      "outputs": []
    },
    {
      "cell_type": "code",
      "source": [
        "word_dict"
      ],
      "metadata": {
        "colab": {
          "base_uri": "https://localhost:8080/"
        },
        "id": "S744m0485CDy",
        "outputId": "dc3efc71-4d2e-4659-d826-67592946c774"
      },
      "execution_count": 46,
      "outputs": [
        {
          "output_type": "execute_result",
          "data": {
            "text/plain": [
              "[\"it's\",\n",
              " 'fun',\n",
              " 'to',\n",
              " 'roast',\n",
              " 'marshmallows',\n",
              " 'on',\n",
              " 'a',\n",
              " 'gas',\n",
              " 'burner',\n",
              " \"it's\",\n",
              " 'fun',\n",
              " 'to',\n",
              " 'roast',\n",
              " 'marshmallows',\n",
              " 'on',\n",
              " 'a',\n",
              " 'gas',\n",
              " 'burner',\n",
              " 'his',\n",
              " 'prescription',\n",
              " 'hot',\n",
              " 'and',\n",
              " 'cold',\n",
              " 'compresses',\n",
              " 'to',\n",
              " 'increase',\n",
              " 'her',\n",
              " 'absorption',\n",
              " 'of',\n",
              " 'water',\n",
              " 'tofu',\n",
              " 'is',\n",
              " 'made',\n",
              " 'from',\n",
              " 'processed',\n",
              " 'soybeans',\n",
              " 'encyclopedias',\n",
              " 'seldom',\n",
              " 'present',\n",
              " 'anecdotal',\n",
              " 'evidence',\n",
              " 'encyclopedias',\n",
              " 'seldom',\n",
              " 'present',\n",
              " 'anecdotal',\n",
              " 'evidence',\n",
              " 'his',\n",
              " 'prescription',\n",
              " 'hot',\n",
              " 'and',\n",
              " 'cold',\n",
              " 'compresses',\n",
              " 'to',\n",
              " 'increase',\n",
              " 'her',\n",
              " 'absorption',\n",
              " 'of',\n",
              " 'water',\n",
              " 'but',\n",
              " 'now',\n",
              " 'she',\n",
              " 'looked',\n",
              " 'ugly',\n",
              " 'but',\n",
              " 'now',\n",
              " 'she',\n",
              " 'looked',\n",
              " 'ugly',\n",
              " 'was',\n",
              " 'it',\n",
              " 'a',\n",
              " 'birthday',\n",
              " 'ball',\n",
              " 'a',\n",
              " 'young',\n",
              " 'mouse',\n",
              " 'scampered',\n",
              " 'across',\n",
              " 'the',\n",
              " 'field',\n",
              " 'and',\n",
              " 'disappeared',\n",
              " 'a',\n",
              " 'young',\n",
              " 'mouse',\n",
              " 'scampered',\n",
              " 'across',\n",
              " 'the',\n",
              " 'field',\n",
              " 'and',\n",
              " 'disappeared',\n",
              " 'i',\n",
              " 'gave',\n",
              " 'them',\n",
              " 'several',\n",
              " 'choices',\n",
              " 'and',\n",
              " 'let',\n",
              " 'them',\n",
              " 'set',\n",
              " 'the',\n",
              " 'priorities',\n",
              " 'was',\n",
              " 'it',\n",
              " 'a',\n",
              " 'birthday',\n",
              " 'ball',\n",
              " 'she',\n",
              " 'had',\n",
              " 'your',\n",
              " 'dark',\n",
              " 'suit',\n",
              " 'in',\n",
              " 'greasy',\n",
              " 'wash',\n",
              " 'water',\n",
              " 'all',\n",
              " 'year',\n",
              " \"don't\",\n",
              " 'ask',\n",
              " 'me',\n",
              " 'to',\n",
              " 'carry',\n",
              " 'an',\n",
              " 'oily',\n",
              " 'rag',\n",
              " 'like',\n",
              " 'that',\n",
              " 'i',\n",
              " 'gave',\n",
              " 'them',\n",
              " 'several',\n",
              " 'choices',\n",
              " 'and',\n",
              " 'let',\n",
              " 'them',\n",
              " 'set',\n",
              " 'the',\n",
              " 'priorities',\n",
              " 'a',\n",
              " 'young',\n",
              " 'mouse',\n",
              " 'scampered',\n",
              " 'across',\n",
              " 'the',\n",
              " 'field',\n",
              " 'and',\n",
              " 'disappeared',\n",
              " 'was',\n",
              " 'it',\n",
              " 'a',\n",
              " 'birthday',\n",
              " 'ball',\n",
              " 'i',\n",
              " 'gave',\n",
              " 'them',\n",
              " 'several',\n",
              " 'choices',\n",
              " 'and',\n",
              " 'let',\n",
              " 'them',\n",
              " 'set',\n",
              " 'the',\n",
              " 'priorities',\n",
              " \"don't\",\n",
              " 'ask',\n",
              " 'me',\n",
              " 'to',\n",
              " 'carry',\n",
              " 'an',\n",
              " 'oily',\n",
              " 'rag',\n",
              " 'like',\n",
              " 'that',\n",
              " \"don't\",\n",
              " 'ask',\n",
              " 'me',\n",
              " 'to',\n",
              " 'carry',\n",
              " 'an',\n",
              " 'oily',\n",
              " 'rag',\n",
              " 'like',\n",
              " 'that',\n",
              " 'she',\n",
              " 'had',\n",
              " 'your',\n",
              " 'dark',\n",
              " 'suit',\n",
              " 'in',\n",
              " 'greasy',\n",
              " 'wash',\n",
              " 'water',\n",
              " 'all',\n",
              " 'year',\n",
              " 'she',\n",
              " 'had',\n",
              " 'your',\n",
              " 'dark',\n",
              " 'suit',\n",
              " 'in',\n",
              " 'greasy',\n",
              " 'wash',\n",
              " 'water',\n",
              " 'all',\n",
              " 'year',\n",
              " \"it's\",\n",
              " 'fun',\n",
              " 'to',\n",
              " 'roast',\n",
              " 'marshmallows',\n",
              " 'on',\n",
              " 'a',\n",
              " 'gas',\n",
              " 'burner',\n",
              " 'but',\n",
              " 'now',\n",
              " 'she',\n",
              " 'looked',\n",
              " 'ugly',\n",
              " 'encyclopedias',\n",
              " 'seldom',\n",
              " 'present',\n",
              " 'anecdotal',\n",
              " 'evidence',\n",
              " 'his',\n",
              " 'prescription',\n",
              " 'hot',\n",
              " 'and',\n",
              " 'cold',\n",
              " 'compresses',\n",
              " 'to',\n",
              " 'increase',\n",
              " 'her',\n",
              " 'absorption',\n",
              " 'of',\n",
              " 'water',\n",
              " 'tofu',\n",
              " 'is',\n",
              " 'made',\n",
              " 'from',\n",
              " 'processed',\n",
              " 'soybeans',\n",
              " 'tofu',\n",
              " 'is',\n",
              " 'made',\n",
              " 'from',\n",
              " 'processed',\n",
              " 'soybeans',\n",
              " 'solid',\n",
              " 'concrete',\n",
              " 'blocks',\n",
              " 'relatively',\n",
              " 'heavy',\n",
              " 'and',\n",
              " 'dense',\n",
              " 'are',\n",
              " 'used',\n",
              " 'for',\n",
              " 'this',\n",
              " 'shelter',\n",
              " 'alimony',\n",
              " 'harms',\n",
              " 'a',\n",
              " 'divorced',\n",
              " \"man's\",\n",
              " 'wealth',\n",
              " 'alimony',\n",
              " 'harms',\n",
              " 'a',\n",
              " 'divorced',\n",
              " \"man's\",\n",
              " 'wealth',\n",
              " 'brush',\n",
              " 'fires',\n",
              " 'are',\n",
              " 'common',\n",
              " 'in',\n",
              " 'the',\n",
              " 'dry',\n",
              " 'underbrush',\n",
              " 'of',\n",
              " 'nevada',\n",
              " 'after',\n",
              " 'another',\n",
              " 'long',\n",
              " 'pause',\n",
              " 'he',\n",
              " 'asked',\n",
              " 'how',\n",
              " 'many',\n",
              " 'people',\n",
              " 'know',\n",
              " 'who',\n",
              " 'they',\n",
              " 'are',\n",
              " 'his',\n",
              " 'scalp',\n",
              " 'was',\n",
              " 'blistered',\n",
              " 'from',\n",
              " \"today's\",\n",
              " 'hot',\n",
              " 'sun',\n",
              " 'his',\n",
              " 'scalp',\n",
              " 'was',\n",
              " 'blistered',\n",
              " 'from',\n",
              " \"today's\",\n",
              " 'hot',\n",
              " 'sun',\n",
              " 'after',\n",
              " 'another',\n",
              " 'long',\n",
              " 'pause',\n",
              " 'he',\n",
              " 'asked',\n",
              " 'how',\n",
              " 'many',\n",
              " 'people',\n",
              " 'know',\n",
              " 'who',\n",
              " 'they',\n",
              " 'are',\n",
              " 'i',\n",
              " 'just',\n",
              " 'saw',\n",
              " 'jim',\n",
              " 'near',\n",
              " 'the',\n",
              " 'new',\n",
              " 'archeological',\n",
              " 'museum',\n",
              " 'i',\n",
              " 'just',\n",
              " 'saw',\n",
              " 'jim',\n",
              " 'near',\n",
              " 'the',\n",
              " 'new',\n",
              " 'archeological',\n",
              " 'museum',\n",
              " 'norwegian',\n",
              " 'sweaters',\n",
              " 'are',\n",
              " 'made',\n",
              " 'of',\n",
              " \"lamb's\",\n",
              " 'wool',\n",
              " 'she',\n",
              " 'had',\n",
              " 'your',\n",
              " 'dark',\n",
              " 'suit',\n",
              " 'in',\n",
              " 'greasy',\n",
              " 'wash',\n",
              " 'water',\n",
              " 'all',\n",
              " 'year',\n",
              " 'of',\n",
              " 'course',\n",
              " 'dear',\n",
              " 'she',\n",
              " 'said',\n",
              " \"don't\",\n",
              " 'ask',\n",
              " 'me',\n",
              " 'to',\n",
              " 'carry',\n",
              " 'an',\n",
              " 'oily',\n",
              " 'rag',\n",
              " 'like',\n",
              " 'that',\n",
              " 'of',\n",
              " 'course',\n",
              " 'dear',\n",
              " 'she',\n",
              " 'said',\n",
              " 'norwegian',\n",
              " 'sweaters',\n",
              " 'are',\n",
              " 'made',\n",
              " 'of',\n",
              " \"lamb's\",\n",
              " 'wool',\n",
              " 'norwegian',\n",
              " 'sweaters',\n",
              " 'are',\n",
              " 'made',\n",
              " 'of',\n",
              " \"lamb's\",\n",
              " 'wool',\n",
              " 'i',\n",
              " 'just',\n",
              " 'saw',\n",
              " 'jim',\n",
              " 'near',\n",
              " 'the',\n",
              " 'new',\n",
              " 'archeological',\n",
              " 'museum',\n",
              " \"don't\",\n",
              " 'ask',\n",
              " 'me',\n",
              " 'to',\n",
              " 'carry',\n",
              " 'an',\n",
              " 'oily',\n",
              " 'rag',\n",
              " 'like',\n",
              " 'that',\n",
              " 'of',\n",
              " 'course',\n",
              " 'dear',\n",
              " 'she',\n",
              " 'said',\n",
              " \"don't\",\n",
              " 'ask',\n",
              " 'me',\n",
              " 'to',\n",
              " 'carry',\n",
              " 'an',\n",
              " 'oily',\n",
              " 'rag',\n",
              " 'like',\n",
              " 'that',\n",
              " 'she',\n",
              " 'had',\n",
              " 'your',\n",
              " 'dark',\n",
              " 'suit',\n",
              " 'in',\n",
              " 'greasy',\n",
              " 'wash',\n",
              " 'water',\n",
              " 'all',\n",
              " 'year',\n",
              " 'she',\n",
              " 'had',\n",
              " 'your',\n",
              " 'dark',\n",
              " 'suit',\n",
              " 'in',\n",
              " 'greasy',\n",
              " 'wash',\n",
              " 'water',\n",
              " 'all',\n",
              " 'year',\n",
              " 'alimony',\n",
              " 'harms',\n",
              " 'a',\n",
              " 'divorced',\n",
              " \"man's\",\n",
              " 'wealth',\n",
              " 'solid',\n",
              " 'concrete',\n",
              " 'blocks',\n",
              " 'relatively',\n",
              " 'heavy',\n",
              " 'and',\n",
              " 'dense',\n",
              " 'are',\n",
              " 'used',\n",
              " 'for',\n",
              " 'this',\n",
              " 'shelter',\n",
              " 'solid',\n",
              " 'concrete',\n",
              " 'blocks',\n",
              " 'relatively',\n",
              " 'heavy',\n",
              " 'and',\n",
              " 'dense',\n",
              " 'are',\n",
              " 'used',\n",
              " 'for',\n",
              " 'this',\n",
              " 'shelter',\n",
              " 'after',\n",
              " 'another',\n",
              " 'long',\n",
              " 'pause',\n",
              " 'he',\n",
              " 'asked',\n",
              " 'how',\n",
              " 'many',\n",
              " 'people',\n",
              " 'know',\n",
              " 'who',\n",
              " 'they',\n",
              " 'are',\n",
              " 'his',\n",
              " 'scalp',\n",
              " 'was',\n",
              " 'blistered',\n",
              " 'from',\n",
              " \"today's\",\n",
              " 'hot',\n",
              " 'sun',\n",
              " 'brush',\n",
              " 'fires',\n",
              " 'are',\n",
              " 'common',\n",
              " 'in',\n",
              " 'the',\n",
              " 'dry',\n",
              " 'underbrush',\n",
              " 'of',\n",
              " 'nevada',\n",
              " 'brush',\n",
              " 'fires',\n",
              " 'are',\n",
              " 'common',\n",
              " 'in',\n",
              " 'the',\n",
              " 'dry',\n",
              " 'underbrush',\n",
              " 'of',\n",
              " 'nevada',\n",
              " 'a',\n",
              " 'lone',\n",
              " 'star',\n",
              " 'shone',\n",
              " 'in',\n",
              " 'the',\n",
              " 'early',\n",
              " 'evening',\n",
              " 'sky',\n",
              " 'a',\n",
              " 'lone',\n",
              " 'star',\n",
              " 'shone',\n",
              " 'in',\n",
              " 'the',\n",
              " 'early',\n",
              " 'evening',\n",
              " 'sky',\n",
              " 'he',\n",
              " 'recognized',\n",
              " 'his',\n",
              " 'jacket',\n",
              " 'and',\n",
              " 'trousers',\n",
              " 'how',\n",
              " 'oily',\n",
              " 'do',\n",
              " 'you',\n",
              " 'like',\n",
              " 'your',\n",
              " 'salad',\n",
              " 'dressing',\n",
              " 'he',\n",
              " 'recognized',\n",
              " 'his',\n",
              " 'jacket',\n",
              " 'and',\n",
              " 'trousers',\n",
              " \"there's\",\n",
              " 'never',\n",
              " 'enough',\n",
              " 'corn',\n",
              " 'peas',\n",
              " 'or',\n",
              " 'strawberries',\n",
              " \"there's\",\n",
              " 'never',\n",
              " 'enough',\n",
              " 'corn',\n",
              " 'peas',\n",
              " 'or',\n",
              " 'strawberries',\n",
              " 'fall',\n",
              " 'slowly',\n",
              " 'forward',\n",
              " 'onto',\n",
              " 'the',\n",
              " 'hands',\n",
              " 'and',\n",
              " 'let',\n",
              " 'the',\n",
              " 'body',\n",
              " 'down',\n",
              " 'to',\n",
              " 'rest',\n",
              " 'on',\n",
              " 'the',\n",
              " 'floor',\n",
              " 'a',\n",
              " 'connoisseur',\n",
              " 'will',\n",
              " 'enjoy',\n",
              " 'this',\n",
              " 'shellfish',\n",
              " 'dish',\n",
              " 'a',\n",
              " 'connoisseur',\n",
              " 'will',\n",
              " 'enjoy',\n",
              " 'this',\n",
              " 'shellfish',\n",
              " 'dish',\n",
              " 'whoever',\n",
              " 'cooperates',\n",
              " 'in',\n",
              " 'finding',\n",
              " \"nan's\",\n",
              " 'cameo',\n",
              " 'will',\n",
              " 'be',\n",
              " 'rewarded',\n",
              " 'she',\n",
              " 'had',\n",
              " 'your',\n",
              " 'dark',\n",
              " 'suit',\n",
              " 'in',\n",
              " 'greasy',\n",
              " 'wash',\n",
              " 'water',\n",
              " 'all',\n",
              " 'year',\n",
              " 'my',\n",
              " 'instructions',\n",
              " 'desperately',\n",
              " 'need',\n",
              " 'updating',\n",
              " \"don't\",\n",
              " 'ask',\n",
              " 'me',\n",
              " 'to',\n",
              " 'carry',\n",
              " 'an',\n",
              " 'oily',\n",
              " 'rag',\n",
              " 'like',\n",
              " 'that',\n",
              " 'my',\n",
              " 'instructions',\n",
              " 'desperately',\n",
              " 'need',\n",
              " 'updating',\n",
              " 'whoever',\n",
              " 'cooperates',\n",
              " 'in',\n",
              " 'finding',\n",
              " \"nan's\",\n",
              " 'cameo',\n",
              " 'will',\n",
              " 'be',\n",
              " 'rewarded',\n",
              " 'whoever',\n",
              " 'cooperates',\n",
              " 'in',\n",
              " 'finding',\n",
              " \"nan's\",\n",
              " 'cameo',\n",
              " 'will',\n",
              " 'be',\n",
              " 'rewarded',\n",
              " 'a',\n",
              " 'connoisseur',\n",
              " 'will',\n",
              " 'enjoy',\n",
              " 'this',\n",
              " 'shellfish',\n",
              " 'dish',\n",
              " 'fall',\n",
              " 'slowly',\n",
              " 'forward',\n",
              " 'onto',\n",
              " 'the',\n",
              " 'hands',\n",
              " 'and',\n",
              " 'let',\n",
              " 'the',\n",
              " 'body',\n",
              " 'down',\n",
              " 'to',\n",
              " 'rest',\n",
              " 'on',\n",
              " 'the',\n",
              " 'floor',\n",
              " 'fall',\n",
              " 'slowly',\n",
              " 'forward',\n",
              " 'onto',\n",
              " 'the',\n",
              " 'hands',\n",
              " 'and',\n",
              " 'let',\n",
              " 'the',\n",
              " 'body',\n",
              " 'down',\n",
              " 'to',\n",
              " 'rest',\n",
              " 'on',\n",
              " 'the',\n",
              " 'floor',\n",
              " \"don't\",\n",
              " 'ask',\n",
              " 'me',\n",
              " 'to',\n",
              " 'carry',\n",
              " 'an',\n",
              " 'oily',\n",
              " 'rag',\n",
              " 'like',\n",
              " 'that',\n",
              " 'my',\n",
              " 'instructions',\n",
              " 'desperately',\n",
              " 'need',\n",
              " 'updating',\n",
              " \"don't\",\n",
              " 'ask',\n",
              " 'me',\n",
              " 'to',\n",
              " 'carry',\n",
              " 'an',\n",
              " 'oily',\n",
              " 'rag',\n",
              " 'like',\n",
              " 'that',\n",
              " 'she',\n",
              " 'had',\n",
              " 'your',\n",
              " 'dark',\n",
              " 'suit',\n",
              " 'in',\n",
              " 'greasy',\n",
              " 'wash',\n",
              " 'water',\n",
              " 'all',\n",
              " 'year',\n",
              " 'she',\n",
              " 'had',\n",
              " 'your',\n",
              " 'dark',\n",
              " 'suit',\n",
              " 'in',\n",
              " 'greasy',\n",
              " 'wash',\n",
              " 'water',\n",
              " 'all',\n",
              " 'year',\n",
              " 'a',\n",
              " 'lone',\n",
              " 'star',\n",
              " 'shone',\n",
              " 'in',\n",
              " 'the',\n",
              " 'early',\n",
              " 'evening',\n",
              " 'sky',\n",
              " \"there's\",\n",
              " 'never',\n",
              " 'enough',\n",
              " 'corn',\n",
              " 'peas',\n",
              " 'or',\n",
              " 'strawberries',\n",
              " 'how',\n",
              " 'oily',\n",
              " 'do',\n",
              " 'you',\n",
              " 'like',\n",
              " 'your',\n",
              " 'salad',\n",
              " 'dressing',\n",
              " 'how',\n",
              " 'oily',\n",
              " 'do',\n",
              " 'you',\n",
              " 'like',\n",
              " 'your',\n",
              " 'salad',\n",
              " 'dressing',\n",
              " 'he',\n",
              " 'recognized',\n",
              " 'his',\n",
              " 'jacket',\n",
              " 'and',\n",
              " 'trousers',\n",
              " 'the',\n",
              " 'boston',\n",
              " 'ballet',\n",
              " 'overcame',\n",
              " 'their',\n",
              " 'funding',\n",
              " 'shortage',\n",
              " 'the',\n",
              " 'boston',\n",
              " 'ballet',\n",
              " 'overcame',\n",
              " 'their',\n",
              " 'funding',\n",
              " 'shortage',\n",
              " 'this',\n",
              " 'is',\n",
              " 'no',\n",
              " 'assignment',\n",
              " 'for',\n",
              " 'a',\n",
              " 'frivolous',\n",
              " 'girl',\n",
              " 'she',\n",
              " 'assures',\n",
              " 'him',\n",
              " 'we',\n",
              " 'seemed',\n",
              " 'to',\n",
              " 'be',\n",
              " 'witnessing',\n",
              " 'the',\n",
              " 'population',\n",
              " 'explosion',\n",
              " 'right',\n",
              " 'in',\n",
              " 'our',\n",
              " 'own',\n",
              " 'backyards',\n",
              " 'did',\n",
              " 'you',\n",
              " 'eat',\n",
              " 'yet',\n",
              " 'a',\n",
              " 'third',\n",
              " 'shot',\n",
              " 'doused',\n",
              " 'the',\n",
              " 'light',\n",
              " 'those',\n",
              " 'who',\n",
              " 'are',\n",
              " 'not',\n",
              " 'purists',\n",
              " 'use',\n",
              " 'canned',\n",
              " 'vegetables',\n",
              " 'when',\n",
              " 'making',\n",
              " 'stew',\n",
              " 'those',\n",
              " 'who',\n",
              " 'are',\n",
              " 'not',\n",
              " 'purists',\n",
              " 'use',\n",
              " 'canned',\n",
              " 'vegetables',\n",
              " 'when',\n",
              " 'making',\n",
              " 'stew',\n",
              " 'she',\n",
              " 'had',\n",
              " 'your',\n",
              " 'dark',\n",
              " 'suit',\n",
              " 'in',\n",
              " 'greasy',\n",
              " 'wash',\n",
              " 'water',\n",
              " 'all',\n",
              " 'year',\n",
              " 'a',\n",
              " 'third',\n",
              " 'shot',\n",
              " 'doused',\n",
              " 'the',\n",
              " 'light',\n",
              " 'as',\n",
              " 'coauthors',\n",
              " 'we',\n",
              " 'presented',\n",
              " 'our',\n",
              " 'new',\n",
              " 'book',\n",
              " 'to',\n",
              " 'the',\n",
              " 'haughty',\n",
              " 'audience',\n",
              " 'ducks',\n",
              " 'have',\n",
              " 'webbed',\n",
              " 'feet',\n",
              " 'and',\n",
              " 'colorful',\n",
              " 'feathers',\n",
              " 'ducks',\n",
              " 'have',\n",
              " 'webbed',\n",
              " 'feet',\n",
              " 'and',\n",
              " 'colorful',\n",
              " 'feathers',\n",
              " \"don't\",\n",
              " 'ask',\n",
              " 'me',\n",
              " 'to',\n",
              " 'carry',\n",
              " 'an',\n",
              " 'oily',\n",
              " 'rag',\n",
              " 'like',\n",
              " 'that',\n",
              " 'did',\n",
              " 'you',\n",
              " 'eat',\n",
              " 'yet',\n",
              " 'did',\n",
              " 'you',\n",
              " 'eat',\n",
              " 'yet',\n",
              " 'we',\n",
              " 'seemed',\n",
              " 'to',\n",
              " 'be',\n",
              " 'witnessing',\n",
              " 'the',\n",
              " 'population',\n",
              " 'explosion',\n",
              " 'right',\n",
              " 'in',\n",
              " 'our',\n",
              " 'own',\n",
              " 'backyards',\n",
              " 'this',\n",
              " 'is',\n",
              " 'no',\n",
              " 'assignment',\n",
              " 'for',\n",
              " 'a',\n",
              " 'frivolous',\n",
              " 'girl',\n",
              " 'she',\n",
              " 'assures',\n",
              " 'him',\n",
              " 'this',\n",
              " 'is',\n",
              " 'no',\n",
              " 'assignment',\n",
              " 'for',\n",
              " 'a',\n",
              " 'frivolous',\n",
              " 'girl',\n",
              " 'she',\n",
              " 'assures',\n",
              " 'him',\n",
              " 'we',\n",
              " 'seemed',\n",
              " 'to',\n",
              " 'be',\n",
              " 'witnessing',\n",
              " 'the',\n",
              " 'population',\n",
              " 'explosion',\n",
              " 'right',\n",
              " 'in',\n",
              " 'our',\n",
              " 'own',\n",
              " 'backyards',\n",
              " \"don't\",\n",
              " 'ask',\n",
              " 'me',\n",
              " 'to',\n",
              " 'carry',\n",
              " 'an',\n",
              " 'oily',\n",
              " 'rag',\n",
              " 'like',\n",
              " 'that',\n",
              " 'ducks',\n",
              " 'have',\n",
              " 'webbed',\n",
              " 'feet',\n",
              " 'and',\n",
              " 'colorful',\n",
              " 'feathers',\n",
              " 'as',\n",
              " 'coauthors',\n",
              " 'we',\n",
              " 'presented',\n",
              " 'our',\n",
              " 'new',\n",
              " 'book',\n",
              " 'to',\n",
              " 'the',\n",
              " 'haughty',\n",
              " 'audience',\n",
              " 'as',\n",
              " 'coauthors',\n",
              " 'we',\n",
              " 'presented',\n",
              " 'our',\n",
              " 'new',\n",
              " 'book',\n",
              " 'to',\n",
              " ...]"
            ]
          },
          "metadata": {},
          "execution_count": 46
        }
      ]
    },
    {
      "cell_type": "code",
      "source": [
        "data_dict = pd.DataFrame({'Word': word_dict, 'Phonics': phoneme_dict})\n",
        "data_dict.head()"
      ],
      "metadata": {
        "colab": {
          "base_uri": "https://localhost:8080/",
          "height": 206
        },
        "id": "exrOpUPy5keN",
        "outputId": "c9caf10a-2101-4706-8243-9fe12dc05de8"
      },
      "execution_count": 47,
      "outputs": [
        {
          "output_type": "execute_result",
          "data": {
            "text/plain": [
              "           Word                   Phonics\n",
              "0          it's                   ih1 t s\n",
              "1           fun                   f ah1 n\n",
              "2            to                     t uw1\n",
              "3         roast                 r ow1 s t\n",
              "4  marshmallows   m aa1 r sh m eh2 l ow z"
            ],
            "text/html": [
              "\n",
              "  <div id=\"df-4d02df45-15f8-43c2-8425-23f8be03fd70\">\n",
              "    <div class=\"colab-df-container\">\n",
              "      <div>\n",
              "<style scoped>\n",
              "    .dataframe tbody tr th:only-of-type {\n",
              "        vertical-align: middle;\n",
              "    }\n",
              "\n",
              "    .dataframe tbody tr th {\n",
              "        vertical-align: top;\n",
              "    }\n",
              "\n",
              "    .dataframe thead th {\n",
              "        text-align: right;\n",
              "    }\n",
              "</style>\n",
              "<table border=\"1\" class=\"dataframe\">\n",
              "  <thead>\n",
              "    <tr style=\"text-align: right;\">\n",
              "      <th></th>\n",
              "      <th>Word</th>\n",
              "      <th>Phonics</th>\n",
              "    </tr>\n",
              "  </thead>\n",
              "  <tbody>\n",
              "    <tr>\n",
              "      <th>0</th>\n",
              "      <td>it's</td>\n",
              "      <td>ih1 t s</td>\n",
              "    </tr>\n",
              "    <tr>\n",
              "      <th>1</th>\n",
              "      <td>fun</td>\n",
              "      <td>f ah1 n</td>\n",
              "    </tr>\n",
              "    <tr>\n",
              "      <th>2</th>\n",
              "      <td>to</td>\n",
              "      <td>t uw1</td>\n",
              "    </tr>\n",
              "    <tr>\n",
              "      <th>3</th>\n",
              "      <td>roast</td>\n",
              "      <td>r ow1 s t</td>\n",
              "    </tr>\n",
              "    <tr>\n",
              "      <th>4</th>\n",
              "      <td>marshmallows</td>\n",
              "      <td>m aa1 r sh m eh2 l ow z</td>\n",
              "    </tr>\n",
              "  </tbody>\n",
              "</table>\n",
              "</div>\n",
              "      <button class=\"colab-df-convert\" onclick=\"convertToInteractive('df-4d02df45-15f8-43c2-8425-23f8be03fd70')\"\n",
              "              title=\"Convert this dataframe to an interactive table.\"\n",
              "              style=\"display:none;\">\n",
              "        \n",
              "  <svg xmlns=\"http://www.w3.org/2000/svg\" height=\"24px\"viewBox=\"0 0 24 24\"\n",
              "       width=\"24px\">\n",
              "    <path d=\"M0 0h24v24H0V0z\" fill=\"none\"/>\n",
              "    <path d=\"M18.56 5.44l.94 2.06.94-2.06 2.06-.94-2.06-.94-.94-2.06-.94 2.06-2.06.94zm-11 1L8.5 8.5l.94-2.06 2.06-.94-2.06-.94L8.5 2.5l-.94 2.06-2.06.94zm10 10l.94 2.06.94-2.06 2.06-.94-2.06-.94-.94-2.06-.94 2.06-2.06.94z\"/><path d=\"M17.41 7.96l-1.37-1.37c-.4-.4-.92-.59-1.43-.59-.52 0-1.04.2-1.43.59L10.3 9.45l-7.72 7.72c-.78.78-.78 2.05 0 2.83L4 21.41c.39.39.9.59 1.41.59.51 0 1.02-.2 1.41-.59l7.78-7.78 2.81-2.81c.8-.78.8-2.07 0-2.86zM5.41 20L4 18.59l7.72-7.72 1.47 1.35L5.41 20z\"/>\n",
              "  </svg>\n",
              "      </button>\n",
              "      \n",
              "  <style>\n",
              "    .colab-df-container {\n",
              "      display:flex;\n",
              "      flex-wrap:wrap;\n",
              "      gap: 12px;\n",
              "    }\n",
              "\n",
              "    .colab-df-convert {\n",
              "      background-color: #E8F0FE;\n",
              "      border: none;\n",
              "      border-radius: 50%;\n",
              "      cursor: pointer;\n",
              "      display: none;\n",
              "      fill: #1967D2;\n",
              "      height: 32px;\n",
              "      padding: 0 0 0 0;\n",
              "      width: 32px;\n",
              "    }\n",
              "\n",
              "    .colab-df-convert:hover {\n",
              "      background-color: #E2EBFA;\n",
              "      box-shadow: 0px 1px 2px rgba(60, 64, 67, 0.3), 0px 1px 3px 1px rgba(60, 64, 67, 0.15);\n",
              "      fill: #174EA6;\n",
              "    }\n",
              "\n",
              "    [theme=dark] .colab-df-convert {\n",
              "      background-color: #3B4455;\n",
              "      fill: #D2E3FC;\n",
              "    }\n",
              "\n",
              "    [theme=dark] .colab-df-convert:hover {\n",
              "      background-color: #434B5C;\n",
              "      box-shadow: 0px 1px 3px 1px rgba(0, 0, 0, 0.15);\n",
              "      filter: drop-shadow(0px 1px 2px rgba(0, 0, 0, 0.3));\n",
              "      fill: #FFFFFF;\n",
              "    }\n",
              "  </style>\n",
              "\n",
              "      <script>\n",
              "        const buttonEl =\n",
              "          document.querySelector('#df-4d02df45-15f8-43c2-8425-23f8be03fd70 button.colab-df-convert');\n",
              "        buttonEl.style.display =\n",
              "          google.colab.kernel.accessAllowed ? 'block' : 'none';\n",
              "\n",
              "        async function convertToInteractive(key) {\n",
              "          const element = document.querySelector('#df-4d02df45-15f8-43c2-8425-23f8be03fd70');\n",
              "          const dataTable =\n",
              "            await google.colab.kernel.invokeFunction('convertToInteractive',\n",
              "                                                     [key], {});\n",
              "          if (!dataTable) return;\n",
              "\n",
              "          const docLinkHtml = 'Like what you see? Visit the ' +\n",
              "            '<a target=\"_blank\" href=https://colab.research.google.com/notebooks/data_table.ipynb>data table notebook</a>'\n",
              "            + ' to learn more about interactive tables.';\n",
              "          element.innerHTML = '';\n",
              "          dataTable['output_type'] = 'display_data';\n",
              "          await google.colab.output.renderOutput(dataTable, element);\n",
              "          const docLink = document.createElement('div');\n",
              "          docLink.innerHTML = docLinkHtml;\n",
              "          element.appendChild(docLink);\n",
              "        }\n",
              "      </script>\n",
              "    </div>\n",
              "  </div>\n",
              "  "
            ]
          },
          "metadata": {},
          "execution_count": 47
        }
      ]
    },
    {
      "cell_type": "code",
      "source": [
        "data_dict.shape"
      ],
      "metadata": {
        "colab": {
          "base_uri": "https://localhost:8080/"
        },
        "id": "u5pAC4cq5yHq",
        "outputId": "06586cb4-e986-4b41-9b0b-4904ccd6a633"
      },
      "execution_count": 48,
      "outputs": [
        {
          "output_type": "execute_result",
          "data": {
            "text/plain": [
              "(29562, 2)"
            ]
          },
          "metadata": {},
          "execution_count": 48
        }
      ]
    },
    {
      "cell_type": "code",
      "source": [
        "import tensorflow as tf"
      ],
      "metadata": {
        "id": "SAdBf32_6C1a"
      },
      "execution_count": 49,
      "outputs": []
    },
    {
      "cell_type": "markdown",
      "source": [
        "## Tokenization"
      ],
      "metadata": {
        "id": "5zsERrUDAAgz"
      }
    },
    {
      "cell_type": "code",
      "source": [
        "tokenizer = tf.keras.preprocessing.text.Tokenizer(oov_token='<OOV>')\n",
        "tokenizer.fit_on_texts(data['Phonics'].values)\n",
        "word_index = tokenizer.word_index\n",
        "print(word_index)"
      ],
      "metadata": {
        "colab": {
          "base_uri": "https://localhost:8080/"
        },
        "id": "0Q5RzGSc5-il",
        "outputId": "b30452f2-1e9a-45e1-f9b7-6fd160d4fce4"
      },
      "execution_count": 50,
      "outputs": [
        {
          "output_type": "stream",
          "name": "stdout",
          "text": [
            "{'<OOV>': 1, 'h#': 2, 'ix': 3, 's': 4, 'n': 5, 'iy': 6, 'tcl': 7, 'r': 8, 'l': 9, 'kcl': 10, 'dcl': 11, 'k': 12, 'ih': 13, 't': 14, 'ae': 15, 'm': 16, 'eh': 17, 'q': 18, 'd': 19, 'z': 20, 'ax': 21, 'axr': 22, 'aa': 23, 'w': 24, 'dh': 25, 'ao': 26, 'pcl': 27, 'p': 28, 'dx': 29, 'ay': 30, 'sh': 31, 'ah': 32, 'f': 33, 'gcl': 34, 'ey': 35, 'ow': 36, 'er': 37, 'b': 38, 'g': 39, 'v': 40, 'bcl': 41, 'ux': 42, 'y': 43, 'epi': 44, 'ng': 45, 'jh': 46, 'hv': 47, 'el': 48, 'nx': 49, 'pau': 50, 'hh': 51, 'ch': 52, 'th': 53, 'aw': 54, 'oy': 55, 'en': 56, 'uw': 57, 'uh': 58, 'ax-h': 59, 'zh': 60, 'em': 61, 'eng': 62}\n"
          ]
        }
      ]
    },
    {
      "cell_type": "code",
      "source": [
        "data_dict = data_dict[~data_dict['Phonics'].str.contains('#')].reset_index(drop=True)\n",
        "data_dict.sample(10)"
      ],
      "metadata": {
        "colab": {
          "base_uri": "https://localhost:8080/",
          "height": 363
        },
        "id": "zA9sbR2F6FMC",
        "outputId": "f7b881b7-d0c0-44f0-d5d4-a5e0d7f8c115"
      },
      "execution_count": 51,
      "outputs": [
        {
          "output_type": "execute_result",
          "data": {
            "text/plain": [
              "          Word           Phonics\n",
              "18558     very        v eh1 r iy\n",
              "29322       in             ih1 n\n",
              "29157      had          hh ae1 d\n",
              "11403    angry     ae1 ng g r iy\n",
              "22135       an              ae n\n",
              "17164      gas           g ae1 s\n",
              "18902  thinker   th ih1 ng k axr\n",
              "3067       and            ae n d\n",
              "3317      away          ax w ey1\n",
              "13683   john's        jh aa1 n z"
            ],
            "text/html": [
              "\n",
              "  <div id=\"df-e4b6b77e-0a34-4f57-979f-145b4cdda7c1\">\n",
              "    <div class=\"colab-df-container\">\n",
              "      <div>\n",
              "<style scoped>\n",
              "    .dataframe tbody tr th:only-of-type {\n",
              "        vertical-align: middle;\n",
              "    }\n",
              "\n",
              "    .dataframe tbody tr th {\n",
              "        vertical-align: top;\n",
              "    }\n",
              "\n",
              "    .dataframe thead th {\n",
              "        text-align: right;\n",
              "    }\n",
              "</style>\n",
              "<table border=\"1\" class=\"dataframe\">\n",
              "  <thead>\n",
              "    <tr style=\"text-align: right;\">\n",
              "      <th></th>\n",
              "      <th>Word</th>\n",
              "      <th>Phonics</th>\n",
              "    </tr>\n",
              "  </thead>\n",
              "  <tbody>\n",
              "    <tr>\n",
              "      <th>18558</th>\n",
              "      <td>very</td>\n",
              "      <td>v eh1 r iy</td>\n",
              "    </tr>\n",
              "    <tr>\n",
              "      <th>29322</th>\n",
              "      <td>in</td>\n",
              "      <td>ih1 n</td>\n",
              "    </tr>\n",
              "    <tr>\n",
              "      <th>29157</th>\n",
              "      <td>had</td>\n",
              "      <td>hh ae1 d</td>\n",
              "    </tr>\n",
              "    <tr>\n",
              "      <th>11403</th>\n",
              "      <td>angry</td>\n",
              "      <td>ae1 ng g r iy</td>\n",
              "    </tr>\n",
              "    <tr>\n",
              "      <th>22135</th>\n",
              "      <td>an</td>\n",
              "      <td>ae n</td>\n",
              "    </tr>\n",
              "    <tr>\n",
              "      <th>17164</th>\n",
              "      <td>gas</td>\n",
              "      <td>g ae1 s</td>\n",
              "    </tr>\n",
              "    <tr>\n",
              "      <th>18902</th>\n",
              "      <td>thinker</td>\n",
              "      <td>th ih1 ng k axr</td>\n",
              "    </tr>\n",
              "    <tr>\n",
              "      <th>3067</th>\n",
              "      <td>and</td>\n",
              "      <td>ae n d</td>\n",
              "    </tr>\n",
              "    <tr>\n",
              "      <th>3317</th>\n",
              "      <td>away</td>\n",
              "      <td>ax w ey1</td>\n",
              "    </tr>\n",
              "    <tr>\n",
              "      <th>13683</th>\n",
              "      <td>john's</td>\n",
              "      <td>jh aa1 n z</td>\n",
              "    </tr>\n",
              "  </tbody>\n",
              "</table>\n",
              "</div>\n",
              "      <button class=\"colab-df-convert\" onclick=\"convertToInteractive('df-e4b6b77e-0a34-4f57-979f-145b4cdda7c1')\"\n",
              "              title=\"Convert this dataframe to an interactive table.\"\n",
              "              style=\"display:none;\">\n",
              "        \n",
              "  <svg xmlns=\"http://www.w3.org/2000/svg\" height=\"24px\"viewBox=\"0 0 24 24\"\n",
              "       width=\"24px\">\n",
              "    <path d=\"M0 0h24v24H0V0z\" fill=\"none\"/>\n",
              "    <path d=\"M18.56 5.44l.94 2.06.94-2.06 2.06-.94-2.06-.94-.94-2.06-.94 2.06-2.06.94zm-11 1L8.5 8.5l.94-2.06 2.06-.94-2.06-.94L8.5 2.5l-.94 2.06-2.06.94zm10 10l.94 2.06.94-2.06 2.06-.94-2.06-.94-.94-2.06-.94 2.06-2.06.94z\"/><path d=\"M17.41 7.96l-1.37-1.37c-.4-.4-.92-.59-1.43-.59-.52 0-1.04.2-1.43.59L10.3 9.45l-7.72 7.72c-.78.78-.78 2.05 0 2.83L4 21.41c.39.39.9.59 1.41.59.51 0 1.02-.2 1.41-.59l7.78-7.78 2.81-2.81c.8-.78.8-2.07 0-2.86zM5.41 20L4 18.59l7.72-7.72 1.47 1.35L5.41 20z\"/>\n",
              "  </svg>\n",
              "      </button>\n",
              "      \n",
              "  <style>\n",
              "    .colab-df-container {\n",
              "      display:flex;\n",
              "      flex-wrap:wrap;\n",
              "      gap: 12px;\n",
              "    }\n",
              "\n",
              "    .colab-df-convert {\n",
              "      background-color: #E8F0FE;\n",
              "      border: none;\n",
              "      border-radius: 50%;\n",
              "      cursor: pointer;\n",
              "      display: none;\n",
              "      fill: #1967D2;\n",
              "      height: 32px;\n",
              "      padding: 0 0 0 0;\n",
              "      width: 32px;\n",
              "    }\n",
              "\n",
              "    .colab-df-convert:hover {\n",
              "      background-color: #E2EBFA;\n",
              "      box-shadow: 0px 1px 2px rgba(60, 64, 67, 0.3), 0px 1px 3px 1px rgba(60, 64, 67, 0.15);\n",
              "      fill: #174EA6;\n",
              "    }\n",
              "\n",
              "    [theme=dark] .colab-df-convert {\n",
              "      background-color: #3B4455;\n",
              "      fill: #D2E3FC;\n",
              "    }\n",
              "\n",
              "    [theme=dark] .colab-df-convert:hover {\n",
              "      background-color: #434B5C;\n",
              "      box-shadow: 0px 1px 3px 1px rgba(0, 0, 0, 0.15);\n",
              "      filter: drop-shadow(0px 1px 2px rgba(0, 0, 0, 0.3));\n",
              "      fill: #FFFFFF;\n",
              "    }\n",
              "  </style>\n",
              "\n",
              "      <script>\n",
              "        const buttonEl =\n",
              "          document.querySelector('#df-e4b6b77e-0a34-4f57-979f-145b4cdda7c1 button.colab-df-convert');\n",
              "        buttonEl.style.display =\n",
              "          google.colab.kernel.accessAllowed ? 'block' : 'none';\n",
              "\n",
              "        async function convertToInteractive(key) {\n",
              "          const element = document.querySelector('#df-e4b6b77e-0a34-4f57-979f-145b4cdda7c1');\n",
              "          const dataTable =\n",
              "            await google.colab.kernel.invokeFunction('convertToInteractive',\n",
              "                                                     [key], {});\n",
              "          if (!dataTable) return;\n",
              "\n",
              "          const docLinkHtml = 'Like what you see? Visit the ' +\n",
              "            '<a target=\"_blank\" href=https://colab.research.google.com/notebooks/data_table.ipynb>data table notebook</a>'\n",
              "            + ' to learn more about interactive tables.';\n",
              "          element.innerHTML = '';\n",
              "          dataTable['output_type'] = 'display_data';\n",
              "          await google.colab.output.renderOutput(dataTable, element);\n",
              "          const docLink = document.createElement('div');\n",
              "          docLink.innerHTML = docLinkHtml;\n",
              "          element.appendChild(docLink);\n",
              "        }\n",
              "      </script>\n",
              "    </div>\n",
              "  </div>\n",
              "  "
            ]
          },
          "metadata": {},
          "execution_count": 51
        }
      ]
    },
    {
      "cell_type": "code",
      "source": [
        "tokenizer = tf.keras.preprocessing.text.Tokenizer(oov_token='<OOV>')\n",
        "tokenizer.fit_on_texts(data_dict['Phonics'].values)\n",
        "word_index = tokenizer.word_index\n",
        "print(word_index)"
      ],
      "metadata": {
        "colab": {
          "base_uri": "https://localhost:8080/"
        },
        "id": "oP40VvdZ6ONA",
        "outputId": "17fe93a5-2f33-4a95-a749-0c59517438a7"
      },
      "execution_count": 52,
      "outputs": [
        {
          "output_type": "stream",
          "name": "stdout",
          "text": [
            "{'<OOV>': 1, 't': 2, 'n': 3, 'r': 4, 's': 5, 'k': 6, 'd': 7, 'ax': 8, 'l': 9, 'ae1': 10, 'ih1': 11, 'm': 12, 'z': 13, 'iy1': 14, 'ao1': 15, 'iy': 16, 'dh': 17, 'w': 18, 'ix': 19, 'p': 20, 'uw1': 21, 'axr': 22, 'aa1': 23, 'hh': 24, 'g': 25, 'eh1': 26, 'b': 27, 'sh': 28, 'f': 29, 'ay1': 30, 'v': 31, 'y': 32, 'ow1': 33, 'ih': 34, 'ah1': 35, 'ey1': 36, 'ng': 37, 'ae': 38, 'uh1': 39, 'jh': 40, 'el': 41, 'er1': 42, 'ch': 43, 'aw1': 44, 'oy1': 45, 'th': 46, 'ey2': 47, 'ae2': 48, 'ih2': 49, 'eh2': 50, 'ay2': 51, 'ow2': 52, 'uw': 53, 'en': 54, 'er': 55, 'ow': 56, 'ah2': 57, 'uw2': 58, 'aa2': 59, 'iy2': 60, 'ao': 61, 'uh': 62, 'ay': 63, 'eh': 64, 'aa': 65, 'zh': 66, 'ao2': 67, 'ey': 68, 'ah': 69, 'oy2': 70, 'er2': 71, 'uh2': 72, 'aw2': 73, 'em': 74, 'aw': 75}\n"
          ]
        }
      ]
    },
    {
      "cell_type": "code",
      "source": [
        "vocab_length = len(tokenizer.word_index) + 1\n",
        "vocab_length"
      ],
      "metadata": {
        "colab": {
          "base_uri": "https://localhost:8080/"
        },
        "id": "rUYjlirj6edj",
        "outputId": "38d50253-d30d-43ef-8106-396093554d44"
      },
      "execution_count": 53,
      "outputs": [
        {
          "output_type": "execute_result",
          "data": {
            "text/plain": [
              "76"
            ]
          },
          "metadata": {},
          "execution_count": 53
        }
      ]
    },
    {
      "cell_type": "markdown",
      "source": [
        "## Text To Sequences"
      ],
      "metadata": {
        "id": "3Gonme6dAHeW"
      }
    },
    {
      "cell_type": "code",
      "source": [
        "sequences = tokenizer.texts_to_sequences(data_dict['Phonics'].values)\n",
        "print(sequences[:5])"
      ],
      "metadata": {
        "colab": {
          "base_uri": "https://localhost:8080/"
        },
        "id": "8Laq74tx6hw0",
        "outputId": "b318dffa-53f4-44b3-f575-d29649a85a30"
      },
      "execution_count": 54,
      "outputs": [
        {
          "output_type": "stream",
          "name": "stdout",
          "text": [
            "[[11, 2, 5], [29, 35, 3], [2, 21], [4, 33, 5, 2], [12, 23, 4, 28, 12, 50, 9, 56, 13]]\n"
          ]
        }
      ]
    },
    {
      "cell_type": "code",
      "source": [
        "longest_sentence = len(max(sequences, key=len))\n",
        "longest_sentence"
      ],
      "metadata": {
        "colab": {
          "base_uri": "https://localhost:8080/"
        },
        "id": "AjQksK9-6mPX",
        "outputId": "a8e9ac07-7cdb-4d8e-915d-ace647aa487e"
      },
      "execution_count": 55,
      "outputs": [
        {
          "output_type": "execute_result",
          "data": {
            "text/plain": [
              "14"
            ]
          },
          "metadata": {},
          "execution_count": 55
        }
      ]
    },
    {
      "cell_type": "markdown",
      "source": [
        "## Padded Phonics"
      ],
      "metadata": {
        "id": "jRDYUGWCAKJV"
      }
    },
    {
      "cell_type": "code",
      "source": [
        "padded_phonics = tf.keras.preprocessing.sequence.pad_sequences(sequences, maxlen=longest_sentence, padding='post')\n",
        "print(padded_phonics[:5])"
      ],
      "metadata": {
        "colab": {
          "base_uri": "https://localhost:8080/"
        },
        "id": "Om6_H3sp6opG",
        "outputId": "1f244d21-c5d5-47f8-c2e1-b2adfcee69b0"
      },
      "execution_count": 56,
      "outputs": [
        {
          "output_type": "stream",
          "name": "stdout",
          "text": [
            "[[11  2  5  0  0  0  0  0  0  0  0  0  0  0]\n",
            " [29 35  3  0  0  0  0  0  0  0  0  0  0  0]\n",
            " [ 2 21  0  0  0  0  0  0  0  0  0  0  0  0]\n",
            " [ 4 33  5  2  0  0  0  0  0  0  0  0  0  0]\n",
            " [12 23  4 28 12 50  9 56 13  0  0  0  0  0]]\n"
          ]
        }
      ]
    },
    {
      "cell_type": "code",
      "source": [
        "\n",
        "len(data_dict['Word'].unique())"
      ],
      "metadata": {
        "colab": {
          "base_uri": "https://localhost:8080/"
        },
        "id": "ufnEzT8H6rVc",
        "outputId": "5c06b321-2cc9-4798-c03e-004ce36ba269"
      },
      "execution_count": 57,
      "outputs": [
        {
          "output_type": "execute_result",
          "data": {
            "text/plain": [
              "2396"
            ]
          },
          "metadata": {},
          "execution_count": 57
        }
      ]
    },
    {
      "cell_type": "markdown",
      "source": [
        "## Model Building with LSTM - Model 1"
      ],
      "metadata": {
        "id": "2YZl-RVDAM0U"
      }
    },
    {
      "cell_type": "code",
      "source": [
        "embedding_dim = 10\n",
        "tf.keras.backend.clear_session()\n",
        "model = tf.keras.Sequential([\n",
        "    tf.keras.layers.Embedding(vocab_length, embedding_dim, \n",
        "                              input_length=longest_sentence),\n",
        "    tf.keras.layers.LSTM(256, activation='tanh', return_sequences=True),\n",
        "    tf.keras.layers.LSTM(128, activation='tanh'),\n",
        "    tf.keras.layers.Dense(64, activation='relu'),\n",
        "    tf.keras.layers.Dense(len(data_dict['Word'].unique()), activation='softmax')\n",
        "])\n",
        "model.compile(optimizer='adam', loss='sparse_categorical_crossentropy', metrics=['accuracy'])\n",
        "model.summary()"
      ],
      "metadata": {
        "colab": {
          "base_uri": "https://localhost:8080/"
        },
        "id": "u8VSI3Ah6weI",
        "outputId": "0300f234-abf8-436c-9196-44b522a1b515"
      },
      "execution_count": 58,
      "outputs": [
        {
          "output_type": "stream",
          "name": "stdout",
          "text": [
            "Model: \"sequential\"\n",
            "_________________________________________________________________\n",
            " Layer (type)                Output Shape              Param #   \n",
            "=================================================================\n",
            " embedding (Embedding)       (None, 14, 10)            760       \n",
            "                                                                 \n",
            " lstm (LSTM)                 (None, 14, 256)           273408    \n",
            "                                                                 \n",
            " lstm_1 (LSTM)               (None, 128)               197120    \n",
            "                                                                 \n",
            " dense (Dense)               (None, 64)                8256      \n",
            "                                                                 \n",
            " dense_1 (Dense)             (None, 2396)              155740    \n",
            "                                                                 \n",
            "=================================================================\n",
            "Total params: 635,284\n",
            "Trainable params: 635,284\n",
            "Non-trainable params: 0\n",
            "_________________________________________________________________\n"
          ]
        }
      ]
    },
    {
      "cell_type": "code",
      "source": [
        "from sklearn.preprocessing import LabelEncoder"
      ],
      "metadata": {
        "id": "wz2lg2VI68T0"
      },
      "execution_count": 59,
      "outputs": []
    },
    {
      "cell_type": "markdown",
      "source": [
        "## Label Encoding"
      ],
      "metadata": {
        "id": "xxFxNJahAWaX"
      }
    },
    {
      "cell_type": "code",
      "source": [
        "y = data_dict['Word'].values\n",
        "encoder = LabelEncoder()\n",
        "encoder.fit(y)\n",
        "encoded_y = encoder.transform(y)"
      ],
      "metadata": {
        "id": "E0--hKCA63OX"
      },
      "execution_count": 60,
      "outputs": []
    },
    {
      "cell_type": "markdown",
      "source": [
        "## Model Training"
      ],
      "metadata": {
        "id": "JbKIuRQ_AYhu"
      }
    },
    {
      "cell_type": "code",
      "source": [
        "history = model.fit(padded_phonics, encoded_y, epochs=100)"
      ],
      "metadata": {
        "colab": {
          "base_uri": "https://localhost:8080/"
        },
        "id": "7UvN8jxS67xl",
        "outputId": "fa81d666-5f8a-4c89-948f-be196d1ebf94"
      },
      "execution_count": 61,
      "outputs": [
        {
          "output_type": "stream",
          "name": "stdout",
          "text": [
            "Epoch 1/100\n",
            "924/924 [==============================] - 17s 10ms/step - loss: 6.5388 - accuracy: 0.0386\n",
            "Epoch 2/100\n",
            "924/924 [==============================] - 7s 7ms/step - loss: 6.3654 - accuracy: 0.0401\n",
            "Epoch 3/100\n",
            "924/924 [==============================] - 7s 8ms/step - loss: 6.3582 - accuracy: 0.0401\n",
            "Epoch 4/100\n",
            "924/924 [==============================] - 6s 7ms/step - loss: 6.3569 - accuracy: 0.0401\n",
            "Epoch 5/100\n",
            "924/924 [==============================] - 6s 7ms/step - loss: 6.3534 - accuracy: 0.0401\n",
            "Epoch 6/100\n",
            "924/924 [==============================] - 6s 7ms/step - loss: 6.3500 - accuracy: 0.0401\n",
            "Epoch 7/100\n",
            "924/924 [==============================] - 6s 7ms/step - loss: 6.1729 - accuracy: 0.0573\n",
            "Epoch 8/100\n",
            "924/924 [==============================] - 6s 7ms/step - loss: 5.9836 - accuracy: 0.0731\n",
            "Epoch 9/100\n",
            "924/924 [==============================] - 6s 7ms/step - loss: 5.5749 - accuracy: 0.1101\n",
            "Epoch 10/100\n",
            "924/924 [==============================] - 7s 7ms/step - loss: 4.0815 - accuracy: 0.3448\n",
            "Epoch 11/100\n",
            "924/924 [==============================] - 6s 7ms/step - loss: 3.1327 - accuracy: 0.4591\n",
            "Epoch 12/100\n",
            "924/924 [==============================] - 6s 7ms/step - loss: 2.4985 - accuracy: 0.5338\n",
            "Epoch 13/100\n",
            "924/924 [==============================] - 6s 7ms/step - loss: 2.0383 - accuracy: 0.5846\n",
            "Epoch 14/100\n",
            "924/924 [==============================] - 6s 7ms/step - loss: 1.7088 - accuracy: 0.6264\n",
            "Epoch 15/100\n",
            "924/924 [==============================] - 6s 7ms/step - loss: 1.4349 - accuracy: 0.6640\n",
            "Epoch 16/100\n",
            "924/924 [==============================] - 7s 7ms/step - loss: 1.3636 - accuracy: 0.6737\n",
            "Epoch 17/100\n",
            "924/924 [==============================] - 6s 7ms/step - loss: 1.0660 - accuracy: 0.7277\n",
            "Epoch 18/100\n",
            "924/924 [==============================] - 6s 7ms/step - loss: 0.8807 - accuracy: 0.7619\n",
            "Epoch 19/100\n",
            "924/924 [==============================] - 6s 7ms/step - loss: 0.8022 - accuracy: 0.7789\n",
            "Epoch 20/100\n",
            "924/924 [==============================] - 6s 7ms/step - loss: 0.6723 - accuracy: 0.8083\n",
            "Epoch 21/100\n",
            "924/924 [==============================] - 6s 7ms/step - loss: 0.5593 - accuracy: 0.8349\n",
            "Epoch 22/100\n",
            "924/924 [==============================] - 6s 7ms/step - loss: 0.4987 - accuracy: 0.8482\n",
            "Epoch 23/100\n",
            "924/924 [==============================] - 6s 7ms/step - loss: 0.4456 - accuracy: 0.8633\n",
            "Epoch 24/100\n",
            "924/924 [==============================] - 6s 7ms/step - loss: 0.4058 - accuracy: 0.8739\n",
            "Epoch 25/100\n",
            "924/924 [==============================] - 6s 7ms/step - loss: 0.4566 - accuracy: 0.8689\n",
            "Epoch 26/100\n",
            "924/924 [==============================] - 6s 7ms/step - loss: 0.4065 - accuracy: 0.8772\n",
            "Epoch 27/100\n",
            "924/924 [==============================] - 7s 8ms/step - loss: 0.3344 - accuracy: 0.8968\n",
            "Epoch 28/100\n",
            "924/924 [==============================] - 6s 7ms/step - loss: 0.2814 - accuracy: 0.9125\n",
            "Epoch 29/100\n",
            "924/924 [==============================] - 6s 7ms/step - loss: 0.3635 - accuracy: 0.8913\n",
            "Epoch 30/100\n",
            "924/924 [==============================] - 7s 8ms/step - loss: 0.2681 - accuracy: 0.9148\n",
            "Epoch 31/100\n",
            "924/924 [==============================] - 6s 7ms/step - loss: 0.2132 - accuracy: 0.9299\n",
            "Epoch 32/100\n",
            "924/924 [==============================] - 6s 7ms/step - loss: 0.2241 - accuracy: 0.9267\n",
            "Epoch 33/100\n",
            "924/924 [==============================] - 7s 7ms/step - loss: 0.2055 - accuracy: 0.9320\n",
            "Epoch 34/100\n",
            "924/924 [==============================] - 6s 7ms/step - loss: 0.1894 - accuracy: 0.9389\n",
            "Epoch 35/100\n",
            "924/924 [==============================] - 6s 7ms/step - loss: 0.1773 - accuracy: 0.9427\n",
            "Epoch 36/100\n",
            "924/924 [==============================] - 6s 7ms/step - loss: 0.1595 - accuracy: 0.9473\n",
            "Epoch 37/100\n",
            "924/924 [==============================] - 6s 7ms/step - loss: 0.1768 - accuracy: 0.9427\n",
            "Epoch 38/100\n",
            "924/924 [==============================] - 6s 7ms/step - loss: 0.1456 - accuracy: 0.9523\n",
            "Epoch 39/100\n",
            "924/924 [==============================] - 6s 7ms/step - loss: 0.1584 - accuracy: 0.9491\n",
            "Epoch 40/100\n",
            "924/924 [==============================] - 6s 7ms/step - loss: 0.1367 - accuracy: 0.9547\n",
            "Epoch 41/100\n",
            "924/924 [==============================] - 6s 7ms/step - loss: 0.1286 - accuracy: 0.9576\n",
            "Epoch 42/100\n",
            "924/924 [==============================] - 6s 7ms/step - loss: 0.1954 - accuracy: 0.9419\n",
            "Epoch 43/100\n",
            "924/924 [==============================] - 6s 7ms/step - loss: 0.2231 - accuracy: 0.9419\n",
            "Epoch 44/100\n",
            "924/924 [==============================] - 6s 7ms/step - loss: 0.0989 - accuracy: 0.9695\n",
            "Epoch 45/100\n",
            "924/924 [==============================] - 6s 7ms/step - loss: 0.1343 - accuracy: 0.9586\n",
            "Epoch 46/100\n",
            "924/924 [==============================] - 6s 7ms/step - loss: 0.1182 - accuracy: 0.9638\n",
            "Epoch 47/100\n",
            "924/924 [==============================] - 6s 7ms/step - loss: 0.0902 - accuracy: 0.9717\n",
            "Epoch 48/100\n",
            "924/924 [==============================] - 6s 7ms/step - loss: 0.1233 - accuracy: 0.9600\n",
            "Epoch 49/100\n",
            "924/924 [==============================] - 6s 7ms/step - loss: 0.1025 - accuracy: 0.9678\n",
            "Epoch 50/100\n",
            "924/924 [==============================] - 6s 7ms/step - loss: 0.0882 - accuracy: 0.9717\n",
            "Epoch 51/100\n",
            "924/924 [==============================] - 6s 7ms/step - loss: 0.1321 - accuracy: 0.9616\n",
            "Epoch 52/100\n",
            "924/924 [==============================] - 6s 7ms/step - loss: 0.1009 - accuracy: 0.9694\n",
            "Epoch 53/100\n",
            "924/924 [==============================] - 6s 7ms/step - loss: 0.0788 - accuracy: 0.9748\n",
            "Epoch 54/100\n",
            "924/924 [==============================] - 6s 7ms/step - loss: 0.1010 - accuracy: 0.9683\n",
            "Epoch 55/100\n",
            "924/924 [==============================] - 7s 7ms/step - loss: 0.0777 - accuracy: 0.9764\n",
            "Epoch 56/100\n",
            "924/924 [==============================] - 7s 7ms/step - loss: 0.0873 - accuracy: 0.9726\n",
            "Epoch 57/100\n",
            "924/924 [==============================] - 6s 7ms/step - loss: 0.0942 - accuracy: 0.9709\n",
            "Epoch 58/100\n",
            "924/924 [==============================] - 6s 7ms/step - loss: 0.0701 - accuracy: 0.9777\n",
            "Epoch 59/100\n",
            "924/924 [==============================] - 6s 7ms/step - loss: 0.1099 - accuracy: 0.9658\n",
            "Epoch 60/100\n",
            "924/924 [==============================] - 6s 7ms/step - loss: 0.0630 - accuracy: 0.9793\n",
            "Epoch 61/100\n",
            "924/924 [==============================] - 6s 7ms/step - loss: 0.0619 - accuracy: 0.9801\n",
            "Epoch 62/100\n",
            "924/924 [==============================] - 6s 7ms/step - loss: 0.1138 - accuracy: 0.9661\n",
            "Epoch 63/100\n",
            "924/924 [==============================] - 6s 7ms/step - loss: 0.0560 - accuracy: 0.9827\n",
            "Epoch 64/100\n",
            "924/924 [==============================] - 6s 7ms/step - loss: 0.0659 - accuracy: 0.9793\n",
            "Epoch 65/100\n",
            "924/924 [==============================] - 7s 7ms/step - loss: 0.1378 - accuracy: 0.9636\n",
            "Epoch 66/100\n",
            "924/924 [==============================] - 7s 7ms/step - loss: 0.1609 - accuracy: 0.9565\n",
            "Epoch 67/100\n",
            "924/924 [==============================] - 6s 7ms/step - loss: 0.0790 - accuracy: 0.9762\n",
            "Epoch 68/100\n",
            "924/924 [==============================] - 6s 7ms/step - loss: 0.0655 - accuracy: 0.9799\n",
            "Epoch 69/100\n",
            "924/924 [==============================] - 6s 7ms/step - loss: 0.0635 - accuracy: 0.9804\n",
            "Epoch 70/100\n",
            "924/924 [==============================] - 6s 7ms/step - loss: 0.0647 - accuracy: 0.9798\n",
            "Epoch 71/100\n",
            "924/924 [==============================] - 6s 7ms/step - loss: 0.0758 - accuracy: 0.9767\n",
            "Epoch 72/100\n",
            "924/924 [==============================] - 6s 7ms/step - loss: 0.0661 - accuracy: 0.9794\n",
            "Epoch 73/100\n",
            "924/924 [==============================] - 6s 7ms/step - loss: 0.0575 - accuracy: 0.9823\n",
            "Epoch 74/100\n",
            "924/924 [==============================] - 6s 7ms/step - loss: 0.0646 - accuracy: 0.9795\n",
            "Epoch 75/100\n",
            "924/924 [==============================] - 6s 7ms/step - loss: 0.0837 - accuracy: 0.9751\n",
            "Epoch 76/100\n",
            "924/924 [==============================] - 6s 7ms/step - loss: 0.0521 - accuracy: 0.9838\n",
            "Epoch 77/100\n",
            "924/924 [==============================] - 6s 7ms/step - loss: 0.0760 - accuracy: 0.9771\n",
            "Epoch 78/100\n",
            "924/924 [==============================] - 6s 7ms/step - loss: 0.0545 - accuracy: 0.9831\n",
            "Epoch 79/100\n",
            "924/924 [==============================] - 6s 7ms/step - loss: 0.0520 - accuracy: 0.9832\n",
            "Epoch 80/100\n",
            "924/924 [==============================] - 6s 7ms/step - loss: 0.0740 - accuracy: 0.9776\n",
            "Epoch 81/100\n",
            "924/924 [==============================] - 6s 7ms/step - loss: 0.0445 - accuracy: 0.9857\n",
            "Epoch 82/100\n",
            "924/924 [==============================] - 6s 7ms/step - loss: 0.0741 - accuracy: 0.9770\n",
            "Epoch 83/100\n",
            "924/924 [==============================] - 6s 7ms/step - loss: 0.0484 - accuracy: 0.9842\n",
            "Epoch 84/100\n",
            "924/924 [==============================] - 7s 7ms/step - loss: 0.0664 - accuracy: 0.9803\n",
            "Epoch 85/100\n",
            "924/924 [==============================] - 7s 7ms/step - loss: 0.0545 - accuracy: 0.9821\n",
            "Epoch 86/100\n",
            "924/924 [==============================] - 6s 7ms/step - loss: 0.0528 - accuracy: 0.9830\n",
            "Epoch 87/100\n",
            "924/924 [==============================] - 6s 7ms/step - loss: 0.0985 - accuracy: 0.9725\n",
            "Epoch 88/100\n",
            "924/924 [==============================] - 6s 7ms/step - loss: 0.0443 - accuracy: 0.9860\n",
            "Epoch 89/100\n",
            "924/924 [==============================] - 6s 7ms/step - loss: 0.0434 - accuracy: 0.9865\n",
            "Epoch 90/100\n",
            "924/924 [==============================] - 6s 7ms/step - loss: 0.0638 - accuracy: 0.9811\n",
            "Epoch 91/100\n",
            "924/924 [==============================] - 6s 7ms/step - loss: 0.0733 - accuracy: 0.9795\n",
            "Epoch 92/100\n",
            "924/924 [==============================] - 6s 7ms/step - loss: 0.0405 - accuracy: 0.9870\n",
            "Epoch 93/100\n",
            "924/924 [==============================] - 6s 7ms/step - loss: 0.0519 - accuracy: 0.9840\n",
            "Epoch 94/100\n",
            "924/924 [==============================] - 6s 7ms/step - loss: 0.0584 - accuracy: 0.9820\n",
            "Epoch 95/100\n",
            "924/924 [==============================] - 6s 7ms/step - loss: 0.0480 - accuracy: 0.9852\n",
            "Epoch 96/100\n",
            "924/924 [==============================] - 6s 7ms/step - loss: 0.0629 - accuracy: 0.9803\n",
            "Epoch 97/100\n",
            "924/924 [==============================] - 6s 7ms/step - loss: 0.0411 - accuracy: 0.9872\n",
            "Epoch 98/100\n",
            "924/924 [==============================] - 6s 7ms/step - loss: 0.0747 - accuracy: 0.9781\n",
            "Epoch 99/100\n",
            "924/924 [==============================] - 6s 7ms/step - loss: 0.0486 - accuracy: 0.9848\n",
            "Epoch 100/100\n",
            "924/924 [==============================] - 6s 7ms/step - loss: 0.0457 - accuracy: 0.9860\n"
          ]
        }
      ]
    },
    {
      "cell_type": "markdown",
      "source": [
        "## Model Evaluation"
      ],
      "metadata": {
        "id": "TLhAKJgsAcXl"
      }
    },
    {
      "cell_type": "code",
      "source": [
        "model.evaluate(padded_phonics, encoded_y)"
      ],
      "metadata": {
        "colab": {
          "base_uri": "https://localhost:8080/"
        },
        "id": "PKkLek7O7CF0",
        "outputId": "b1bd0c4d-00a7-482e-c900-7eeff520adcc"
      },
      "execution_count": 62,
      "outputs": [
        {
          "output_type": "stream",
          "name": "stdout",
          "text": [
            "924/924 [==============================] - 4s 4ms/step - loss: 0.0351 - accuracy: 0.9886\n"
          ]
        },
        {
          "output_type": "execute_result",
          "data": {
            "text/plain": [
              "[0.03514425829052925, 0.9886340498924255]"
            ]
          },
          "metadata": {},
          "execution_count": 62
        }
      ]
    },
    {
      "cell_type": "markdown",
      "source": [
        "## Testing"
      ],
      "metadata": {
        "id": "IxnMWe0IAeXF"
      }
    },
    {
      "cell_type": "code",
      "source": [
        "sentence=\"At ambulance departure he is seldom present for the essay he wandered\""
      ],
      "metadata": {
        "id": "Fz8ckZYd9aYM"
      },
      "execution_count": 63,
      "outputs": []
    },
    {
      "cell_type": "code",
      "source": [
        "word_dict_eval=[]\n",
        "phoneme_dict_eval=[]\n",
        "temp=sentence.split(' ')\n",
        "for t in temp:\n",
        "    phoneme_dict_eval.append(\"\".join(corpus['Phonics'].loc[corpus['Word']==t]))\n",
        "    word_dict_eval.append(\"\".join(t))"
      ],
      "metadata": {
        "id": "vMqMQkP7-Ef8"
      },
      "execution_count": 64,
      "outputs": []
    },
    {
      "cell_type": "code",
      "source": [
        "data_dict_eval = pd.DataFrame({'Word': word_dict_eval, 'Phonics': phoneme_dict_eval})\n",
        "data_dict_eval.head()"
      ],
      "metadata": {
        "colab": {
          "base_uri": "https://localhost:8080/",
          "height": 206
        },
        "id": "QbCwq4PY-SYo",
        "outputId": "30f09a51-1468-4e45-93bb-b2d1e6fc8ef6"
      },
      "execution_count": 65,
      "outputs": [
        {
          "output_type": "execute_result",
          "data": {
            "text/plain": [
              "        Word                 Phonics\n",
              "0         At                        \n",
              "1  ambulance   ae1 m b y uh l ax n s\n",
              "2  departure     d ax p aa1 r ch axr\n",
              "3         he                  hh iy1\n",
              "4         is                   ih1 z"
            ],
            "text/html": [
              "\n",
              "  <div id=\"df-a232b9f1-863b-482b-9abc-e835ce222456\">\n",
              "    <div class=\"colab-df-container\">\n",
              "      <div>\n",
              "<style scoped>\n",
              "    .dataframe tbody tr th:only-of-type {\n",
              "        vertical-align: middle;\n",
              "    }\n",
              "\n",
              "    .dataframe tbody tr th {\n",
              "        vertical-align: top;\n",
              "    }\n",
              "\n",
              "    .dataframe thead th {\n",
              "        text-align: right;\n",
              "    }\n",
              "</style>\n",
              "<table border=\"1\" class=\"dataframe\">\n",
              "  <thead>\n",
              "    <tr style=\"text-align: right;\">\n",
              "      <th></th>\n",
              "      <th>Word</th>\n",
              "      <th>Phonics</th>\n",
              "    </tr>\n",
              "  </thead>\n",
              "  <tbody>\n",
              "    <tr>\n",
              "      <th>0</th>\n",
              "      <td>At</td>\n",
              "      <td></td>\n",
              "    </tr>\n",
              "    <tr>\n",
              "      <th>1</th>\n",
              "      <td>ambulance</td>\n",
              "      <td>ae1 m b y uh l ax n s</td>\n",
              "    </tr>\n",
              "    <tr>\n",
              "      <th>2</th>\n",
              "      <td>departure</td>\n",
              "      <td>d ax p aa1 r ch axr</td>\n",
              "    </tr>\n",
              "    <tr>\n",
              "      <th>3</th>\n",
              "      <td>he</td>\n",
              "      <td>hh iy1</td>\n",
              "    </tr>\n",
              "    <tr>\n",
              "      <th>4</th>\n",
              "      <td>is</td>\n",
              "      <td>ih1 z</td>\n",
              "    </tr>\n",
              "  </tbody>\n",
              "</table>\n",
              "</div>\n",
              "      <button class=\"colab-df-convert\" onclick=\"convertToInteractive('df-a232b9f1-863b-482b-9abc-e835ce222456')\"\n",
              "              title=\"Convert this dataframe to an interactive table.\"\n",
              "              style=\"display:none;\">\n",
              "        \n",
              "  <svg xmlns=\"http://www.w3.org/2000/svg\" height=\"24px\"viewBox=\"0 0 24 24\"\n",
              "       width=\"24px\">\n",
              "    <path d=\"M0 0h24v24H0V0z\" fill=\"none\"/>\n",
              "    <path d=\"M18.56 5.44l.94 2.06.94-2.06 2.06-.94-2.06-.94-.94-2.06-.94 2.06-2.06.94zm-11 1L8.5 8.5l.94-2.06 2.06-.94-2.06-.94L8.5 2.5l-.94 2.06-2.06.94zm10 10l.94 2.06.94-2.06 2.06-.94-2.06-.94-.94-2.06-.94 2.06-2.06.94z\"/><path d=\"M17.41 7.96l-1.37-1.37c-.4-.4-.92-.59-1.43-.59-.52 0-1.04.2-1.43.59L10.3 9.45l-7.72 7.72c-.78.78-.78 2.05 0 2.83L4 21.41c.39.39.9.59 1.41.59.51 0 1.02-.2 1.41-.59l7.78-7.78 2.81-2.81c.8-.78.8-2.07 0-2.86zM5.41 20L4 18.59l7.72-7.72 1.47 1.35L5.41 20z\"/>\n",
              "  </svg>\n",
              "      </button>\n",
              "      \n",
              "  <style>\n",
              "    .colab-df-container {\n",
              "      display:flex;\n",
              "      flex-wrap:wrap;\n",
              "      gap: 12px;\n",
              "    }\n",
              "\n",
              "    .colab-df-convert {\n",
              "      background-color: #E8F0FE;\n",
              "      border: none;\n",
              "      border-radius: 50%;\n",
              "      cursor: pointer;\n",
              "      display: none;\n",
              "      fill: #1967D2;\n",
              "      height: 32px;\n",
              "      padding: 0 0 0 0;\n",
              "      width: 32px;\n",
              "    }\n",
              "\n",
              "    .colab-df-convert:hover {\n",
              "      background-color: #E2EBFA;\n",
              "      box-shadow: 0px 1px 2px rgba(60, 64, 67, 0.3), 0px 1px 3px 1px rgba(60, 64, 67, 0.15);\n",
              "      fill: #174EA6;\n",
              "    }\n",
              "\n",
              "    [theme=dark] .colab-df-convert {\n",
              "      background-color: #3B4455;\n",
              "      fill: #D2E3FC;\n",
              "    }\n",
              "\n",
              "    [theme=dark] .colab-df-convert:hover {\n",
              "      background-color: #434B5C;\n",
              "      box-shadow: 0px 1px 3px 1px rgba(0, 0, 0, 0.15);\n",
              "      filter: drop-shadow(0px 1px 2px rgba(0, 0, 0, 0.3));\n",
              "      fill: #FFFFFF;\n",
              "    }\n",
              "  </style>\n",
              "\n",
              "      <script>\n",
              "        const buttonEl =\n",
              "          document.querySelector('#df-a232b9f1-863b-482b-9abc-e835ce222456 button.colab-df-convert');\n",
              "        buttonEl.style.display =\n",
              "          google.colab.kernel.accessAllowed ? 'block' : 'none';\n",
              "\n",
              "        async function convertToInteractive(key) {\n",
              "          const element = document.querySelector('#df-a232b9f1-863b-482b-9abc-e835ce222456');\n",
              "          const dataTable =\n",
              "            await google.colab.kernel.invokeFunction('convertToInteractive',\n",
              "                                                     [key], {});\n",
              "          if (!dataTable) return;\n",
              "\n",
              "          const docLinkHtml = 'Like what you see? Visit the ' +\n",
              "            '<a target=\"_blank\" href=https://colab.research.google.com/notebooks/data_table.ipynb>data table notebook</a>'\n",
              "            + ' to learn more about interactive tables.';\n",
              "          element.innerHTML = '';\n",
              "          dataTable['output_type'] = 'display_data';\n",
              "          await google.colab.output.renderOutput(dataTable, element);\n",
              "          const docLink = document.createElement('div');\n",
              "          docLink.innerHTML = docLinkHtml;\n",
              "          element.appendChild(docLink);\n",
              "        }\n",
              "      </script>\n",
              "    </div>\n",
              "  </div>\n",
              "  "
            ]
          },
          "metadata": {},
          "execution_count": 65
        }
      ]
    },
    {
      "cell_type": "code",
      "source": [
        "data_dict_eval.head(10)"
      ],
      "metadata": {
        "colab": {
          "base_uri": "https://localhost:8080/",
          "height": 363
        },
        "id": "r4E5GXyU_d8O",
        "outputId": "3490f03f-f2fe-4742-a15d-1e3b3873929d"
      },
      "execution_count": 66,
      "outputs": [
        {
          "output_type": "execute_result",
          "data": {
            "text/plain": [
              "        Word                 Phonics\n",
              "0         At                        \n",
              "1  ambulance   ae1 m b y uh l ax n s\n",
              "2  departure     d ax p aa1 r ch axr\n",
              "3         he                  hh iy1\n",
              "4         is                   ih1 z\n",
              "5     seldom          s eh1 l d ax m\n",
              "6    present                        \n",
              "7        for                 f ao1 r\n",
              "8        the                   dh ax\n",
              "9      essay               eh1 s ey2"
            ],
            "text/html": [
              "\n",
              "  <div id=\"df-dc65e952-64f0-48d5-b424-e6be30da6cb8\">\n",
              "    <div class=\"colab-df-container\">\n",
              "      <div>\n",
              "<style scoped>\n",
              "    .dataframe tbody tr th:only-of-type {\n",
              "        vertical-align: middle;\n",
              "    }\n",
              "\n",
              "    .dataframe tbody tr th {\n",
              "        vertical-align: top;\n",
              "    }\n",
              "\n",
              "    .dataframe thead th {\n",
              "        text-align: right;\n",
              "    }\n",
              "</style>\n",
              "<table border=\"1\" class=\"dataframe\">\n",
              "  <thead>\n",
              "    <tr style=\"text-align: right;\">\n",
              "      <th></th>\n",
              "      <th>Word</th>\n",
              "      <th>Phonics</th>\n",
              "    </tr>\n",
              "  </thead>\n",
              "  <tbody>\n",
              "    <tr>\n",
              "      <th>0</th>\n",
              "      <td>At</td>\n",
              "      <td></td>\n",
              "    </tr>\n",
              "    <tr>\n",
              "      <th>1</th>\n",
              "      <td>ambulance</td>\n",
              "      <td>ae1 m b y uh l ax n s</td>\n",
              "    </tr>\n",
              "    <tr>\n",
              "      <th>2</th>\n",
              "      <td>departure</td>\n",
              "      <td>d ax p aa1 r ch axr</td>\n",
              "    </tr>\n",
              "    <tr>\n",
              "      <th>3</th>\n",
              "      <td>he</td>\n",
              "      <td>hh iy1</td>\n",
              "    </tr>\n",
              "    <tr>\n",
              "      <th>4</th>\n",
              "      <td>is</td>\n",
              "      <td>ih1 z</td>\n",
              "    </tr>\n",
              "    <tr>\n",
              "      <th>5</th>\n",
              "      <td>seldom</td>\n",
              "      <td>s eh1 l d ax m</td>\n",
              "    </tr>\n",
              "    <tr>\n",
              "      <th>6</th>\n",
              "      <td>present</td>\n",
              "      <td></td>\n",
              "    </tr>\n",
              "    <tr>\n",
              "      <th>7</th>\n",
              "      <td>for</td>\n",
              "      <td>f ao1 r</td>\n",
              "    </tr>\n",
              "    <tr>\n",
              "      <th>8</th>\n",
              "      <td>the</td>\n",
              "      <td>dh ax</td>\n",
              "    </tr>\n",
              "    <tr>\n",
              "      <th>9</th>\n",
              "      <td>essay</td>\n",
              "      <td>eh1 s ey2</td>\n",
              "    </tr>\n",
              "  </tbody>\n",
              "</table>\n",
              "</div>\n",
              "      <button class=\"colab-df-convert\" onclick=\"convertToInteractive('df-dc65e952-64f0-48d5-b424-e6be30da6cb8')\"\n",
              "              title=\"Convert this dataframe to an interactive table.\"\n",
              "              style=\"display:none;\">\n",
              "        \n",
              "  <svg xmlns=\"http://www.w3.org/2000/svg\" height=\"24px\"viewBox=\"0 0 24 24\"\n",
              "       width=\"24px\">\n",
              "    <path d=\"M0 0h24v24H0V0z\" fill=\"none\"/>\n",
              "    <path d=\"M18.56 5.44l.94 2.06.94-2.06 2.06-.94-2.06-.94-.94-2.06-.94 2.06-2.06.94zm-11 1L8.5 8.5l.94-2.06 2.06-.94-2.06-.94L8.5 2.5l-.94 2.06-2.06.94zm10 10l.94 2.06.94-2.06 2.06-.94-2.06-.94-.94-2.06-.94 2.06-2.06.94z\"/><path d=\"M17.41 7.96l-1.37-1.37c-.4-.4-.92-.59-1.43-.59-.52 0-1.04.2-1.43.59L10.3 9.45l-7.72 7.72c-.78.78-.78 2.05 0 2.83L4 21.41c.39.39.9.59 1.41.59.51 0 1.02-.2 1.41-.59l7.78-7.78 2.81-2.81c.8-.78.8-2.07 0-2.86zM5.41 20L4 18.59l7.72-7.72 1.47 1.35L5.41 20z\"/>\n",
              "  </svg>\n",
              "      </button>\n",
              "      \n",
              "  <style>\n",
              "    .colab-df-container {\n",
              "      display:flex;\n",
              "      flex-wrap:wrap;\n",
              "      gap: 12px;\n",
              "    }\n",
              "\n",
              "    .colab-df-convert {\n",
              "      background-color: #E8F0FE;\n",
              "      border: none;\n",
              "      border-radius: 50%;\n",
              "      cursor: pointer;\n",
              "      display: none;\n",
              "      fill: #1967D2;\n",
              "      height: 32px;\n",
              "      padding: 0 0 0 0;\n",
              "      width: 32px;\n",
              "    }\n",
              "\n",
              "    .colab-df-convert:hover {\n",
              "      background-color: #E2EBFA;\n",
              "      box-shadow: 0px 1px 2px rgba(60, 64, 67, 0.3), 0px 1px 3px 1px rgba(60, 64, 67, 0.15);\n",
              "      fill: #174EA6;\n",
              "    }\n",
              "\n",
              "    [theme=dark] .colab-df-convert {\n",
              "      background-color: #3B4455;\n",
              "      fill: #D2E3FC;\n",
              "    }\n",
              "\n",
              "    [theme=dark] .colab-df-convert:hover {\n",
              "      background-color: #434B5C;\n",
              "      box-shadow: 0px 1px 3px 1px rgba(0, 0, 0, 0.15);\n",
              "      filter: drop-shadow(0px 1px 2px rgba(0, 0, 0, 0.3));\n",
              "      fill: #FFFFFF;\n",
              "    }\n",
              "  </style>\n",
              "\n",
              "      <script>\n",
              "        const buttonEl =\n",
              "          document.querySelector('#df-dc65e952-64f0-48d5-b424-e6be30da6cb8 button.colab-df-convert');\n",
              "        buttonEl.style.display =\n",
              "          google.colab.kernel.accessAllowed ? 'block' : 'none';\n",
              "\n",
              "        async function convertToInteractive(key) {\n",
              "          const element = document.querySelector('#df-dc65e952-64f0-48d5-b424-e6be30da6cb8');\n",
              "          const dataTable =\n",
              "            await google.colab.kernel.invokeFunction('convertToInteractive',\n",
              "                                                     [key], {});\n",
              "          if (!dataTable) return;\n",
              "\n",
              "          const docLinkHtml = 'Like what you see? Visit the ' +\n",
              "            '<a target=\"_blank\" href=https://colab.research.google.com/notebooks/data_table.ipynb>data table notebook</a>'\n",
              "            + ' to learn more about interactive tables.';\n",
              "          element.innerHTML = '';\n",
              "          dataTable['output_type'] = 'display_data';\n",
              "          await google.colab.output.renderOutput(dataTable, element);\n",
              "          const docLink = document.createElement('div');\n",
              "          docLink.innerHTML = docLinkHtml;\n",
              "          element.appendChild(docLink);\n",
              "        }\n",
              "      </script>\n",
              "    </div>\n",
              "  </div>\n",
              "  "
            ]
          },
          "metadata": {},
          "execution_count": 66
        }
      ]
    },
    {
      "cell_type": "markdown",
      "source": [
        "* We observe that our test sentence words have been converted into their respective phonemes properly with few exceptions\n",
        "* These Exceptions maybe unknown words that may not have been part of the training.\n",
        "* With the Test Dataframe Ready, we are now proceeding towards Tokenization and Padding and will try to predict"
      ],
      "metadata": {
        "id": "1qHA4OOTAjUb"
      }
    },
    {
      "cell_type": "code",
      "source": [
        "tokenizer_eval = tf.keras.preprocessing.text.Tokenizer(oov_token='<OOV>')\n",
        "tokenizer_eval.fit_on_texts(data_dict_eval['Phonics'].values)\n",
        "word_index_eval = tokenizer_eval.word_index\n",
        "print(word_index_eval)\n",
        "vocab_length_eval = len(tokenizer_eval.word_index) + 1\n",
        "print(vocab_length_eval)\n",
        "sequences_eval = tokenizer_eval.texts_to_sequences(data_dict_eval['Phonics'].values)\n",
        "print(sequences_eval[:5])\n",
        "longest_sentence_eval = len(max(sequences_eval, key=len))\n",
        "longest_sentence_eval\n",
        "padded_phonics_eval = tf.keras.preprocessing.sequence.pad_sequences(sequences_eval, maxlen=14, padding='post')\n",
        "print(padded_phonics_eval[:5])"
      ],
      "metadata": {
        "colab": {
          "base_uri": "https://localhost:8080/"
        },
        "id": "sjQF72WX-fi9",
        "outputId": "d1e17500-85f6-47c9-e5a9-e299f9329212"
      },
      "execution_count": 67,
      "outputs": [
        {
          "output_type": "stream",
          "name": "stdout",
          "text": [
            "{'<OOV>': 1, 'ax': 2, 'd': 3, 's': 4, 'm': 5, 'l': 6, 'n': 7, 'aa1': 8, 'r': 9, 'axr': 10, 'hh': 11, 'iy1': 12, 'eh1': 13, 'ae1': 14, 'b': 15, 'y': 16, 'uh': 17, 'p': 18, 'ch': 19, 'ih1': 20, 'z': 21, 'f': 22, 'ao1': 23, 'dh': 24, 'ey2': 25, 'w': 26}\n",
            "27\n",
            "[[], [14, 5, 15, 16, 17, 6, 2, 7, 4], [3, 2, 18, 8, 9, 19, 10], [11, 12], [20, 21]]\n",
            "[[ 0  0  0  0  0  0  0  0  0  0  0  0  0  0]\n",
            " [14  5 15 16 17  6  2  7  4  0  0  0  0  0]\n",
            " [ 3  2 18  8  9 19 10  0  0  0  0  0  0  0]\n",
            " [11 12  0  0  0  0  0  0  0  0  0  0  0  0]\n",
            " [20 21  0  0  0  0  0  0  0  0  0  0  0  0]]\n"
          ]
        }
      ]
    },
    {
      "cell_type": "code",
      "source": [
        "padded_phonics_eval"
      ],
      "metadata": {
        "colab": {
          "base_uri": "https://localhost:8080/"
        },
        "id": "-2ZL5092Asnh",
        "outputId": "d52fdbb7-256b-4e5f-cd3f-94e49a8c2185"
      },
      "execution_count": 68,
      "outputs": [
        {
          "output_type": "execute_result",
          "data": {
            "text/plain": [
              "array([[ 0,  0,  0,  0,  0,  0,  0,  0,  0,  0,  0,  0,  0,  0],\n",
              "       [14,  5, 15, 16, 17,  6,  2,  7,  4,  0,  0,  0,  0,  0],\n",
              "       [ 3,  2, 18,  8,  9, 19, 10,  0,  0,  0,  0,  0,  0,  0],\n",
              "       [11, 12,  0,  0,  0,  0,  0,  0,  0,  0,  0,  0,  0,  0],\n",
              "       [20, 21,  0,  0,  0,  0,  0,  0,  0,  0,  0,  0,  0,  0],\n",
              "       [ 4, 13,  6,  3,  2,  5,  0,  0,  0,  0,  0,  0,  0,  0],\n",
              "       [ 0,  0,  0,  0,  0,  0,  0,  0,  0,  0,  0,  0,  0,  0],\n",
              "       [22, 23,  9,  0,  0,  0,  0,  0,  0,  0,  0,  0,  0,  0],\n",
              "       [24,  2,  0,  0,  0,  0,  0,  0,  0,  0,  0,  0,  0,  0],\n",
              "       [13,  4, 25,  0,  0,  0,  0,  0,  0,  0,  0,  0,  0,  0],\n",
              "       [11, 12,  0,  0,  0,  0,  0,  0,  0,  0,  0,  0,  0,  0],\n",
              "       [26,  8,  7,  3, 10,  3,  0,  0,  0,  0,  0,  0,  0,  0]],\n",
              "      dtype=int32)"
            ]
          },
          "metadata": {},
          "execution_count": 68
        }
      ]
    },
    {
      "cell_type": "code",
      "source": [
        "padded_phonics_eval[6].reshape(1,-1)"
      ],
      "metadata": {
        "colab": {
          "base_uri": "https://localhost:8080/"
        },
        "id": "asyeB9GABYWj",
        "outputId": "a5c9728d-e9a5-457b-cccc-1de3b0f133ba"
      },
      "execution_count": 69,
      "outputs": [
        {
          "output_type": "execute_result",
          "data": {
            "text/plain": [
              "array([[0, 0, 0, 0, 0, 0, 0, 0, 0, 0, 0, 0, 0, 0]], dtype=int32)"
            ]
          },
          "metadata": {},
          "execution_count": 69
        }
      ]
    },
    {
      "cell_type": "code",
      "source": [
        "predictions=model.predict(padded_phonics_eval)"
      ],
      "metadata": {
        "id": "bXYIyhM1_1BV"
      },
      "execution_count": 70,
      "outputs": []
    },
    {
      "cell_type": "code",
      "source": [
        "import numpy as np\n",
        "predictions"
      ],
      "metadata": {
        "colab": {
          "base_uri": "https://localhost:8080/"
        },
        "id": "fNi24jyw_6zO",
        "outputId": "433e5a93-d8f8-4e65-d7fe-50dd7de56955"
      },
      "execution_count": 71,
      "outputs": [
        {
          "output_type": "execute_result",
          "data": {
            "text/plain": [
              "array([[8.4121980e-12, 2.3752271e-09, 8.0257092e-07, ..., 8.3083348e-14,\n",
              "        1.7786692e-11, 3.9372230e-07],\n",
              "       [5.4997397e-29, 3.2696879e-33, 1.9181656e-33, ..., 9.2997947e-36,\n",
              "        3.6411296e-36, 2.3586591e-37],\n",
              "       [9.3274963e-26, 6.3094959e-18, 1.2664320e-22, ..., 2.3194510e-34,\n",
              "        2.1244276e-16, 6.0277208e-22],\n",
              "       ...,\n",
              "       [1.4876040e-33, 3.0079708e-23, 8.9533660e-29, ..., 3.3008292e-36,\n",
              "        2.5944494e-22, 5.1366135e-33],\n",
              "       [2.3358016e-15, 3.3193621e-30, 5.5567939e-20, ..., 4.0244801e-15,\n",
              "        5.8869628e-15, 8.2858839e-13],\n",
              "       [0.0000000e+00, 1.1209713e-36, 0.0000000e+00, ..., 3.0434513e-32,\n",
              "        2.0520075e-34, 8.2423463e-23]], dtype=float32)"
            ]
          },
          "metadata": {},
          "execution_count": 71
        }
      ]
    },
    {
      "cell_type": "code",
      "source": [
        "predictions=np.argmax(predictions, axis=1)"
      ],
      "metadata": {
        "id": "eggl78HtCmJp"
      },
      "execution_count": 72,
      "outputs": []
    },
    {
      "cell_type": "code",
      "source": [
        "word_pred = encoder.inverse_transform(predictions)"
      ],
      "metadata": {
        "id": "eqwQt2byCtEx"
      },
      "execution_count": 73,
      "outputs": []
    },
    {
      "cell_type": "code",
      "source": [
        "word_pred"
      ],
      "metadata": {
        "colab": {
          "base_uri": "https://localhost:8080/"
        },
        "id": "lbe8KVZgC1et",
        "outputId": "0437711a-810c-4643-d804-732c56feefe4"
      },
      "execution_count": 74,
      "outputs": [
        {
          "output_type": "execute_result",
          "data": {
            "text/plain": [
              "array(['use', 'evening', 'involved', 'it', 'eight', 'evening', 'use',\n",
              "       'pool', 'how', 'see', 'it', 'economy'], dtype=object)"
            ]
          },
          "metadata": {},
          "execution_count": 74
        }
      ]
    },
    {
      "cell_type": "markdown",
      "source": [
        "* Word Predictions Show that the predictions are not accurate"
      ],
      "metadata": {
        "id": "PFEdttujBJPw"
      }
    },
    {
      "cell_type": "markdown",
      "source": [
        "## Using Time Steps - Extracting the phoneme of a word as per time step"
      ],
      "metadata": {
        "id": "F3XiKvKGDmtG"
      }
    },
    {
      "cell_type": "code",
      "source": [
        "import glob,tqdm,re,os\n",
        "from tqdm import tqdm\n",
        "from tensorflow.keras.preprocessing.text import Tokenizer"
      ],
      "metadata": {
        "id": "NDbrlXBjO5bR"
      },
      "execution_count": 75,
      "outputs": []
    },
    {
      "cell_type": "code",
      "source": [
        "w = pd.read_csv(\"data/TRAIN/DR1/FCJF0/SA1.WRD\",sep=' ',header=None)\n",
        "p = pd.read_csv(\"data/TRAIN/DR1/FCJF0/SA1.PHN\",sep=' ',header=None)"
      ],
      "metadata": {
        "id": "BUJ1bT1dC3O_"
      },
      "execution_count": 76,
      "outputs": []
    },
    {
      "cell_type": "code",
      "source": [
        "w.head()"
      ],
      "metadata": {
        "colab": {
          "base_uri": "https://localhost:8080/",
          "height": 206
        },
        "id": "AbhksP0xPUc9",
        "outputId": "85312056-c2d8-4320-8809-45bc28bf5bf0"
      },
      "execution_count": 77,
      "outputs": [
        {
          "output_type": "execute_result",
          "data": {
            "text/plain": [
              "       0      1     2\n",
              "0   3050   5723   she\n",
              "1   5723  10337   had\n",
              "2   9190  11517  your\n",
              "3  11517  16334  dark\n",
              "4  16334  21199  suit"
            ],
            "text/html": [
              "\n",
              "  <div id=\"df-e47107a7-5cca-470a-a610-481b9d21f8c0\">\n",
              "    <div class=\"colab-df-container\">\n",
              "      <div>\n",
              "<style scoped>\n",
              "    .dataframe tbody tr th:only-of-type {\n",
              "        vertical-align: middle;\n",
              "    }\n",
              "\n",
              "    .dataframe tbody tr th {\n",
              "        vertical-align: top;\n",
              "    }\n",
              "\n",
              "    .dataframe thead th {\n",
              "        text-align: right;\n",
              "    }\n",
              "</style>\n",
              "<table border=\"1\" class=\"dataframe\">\n",
              "  <thead>\n",
              "    <tr style=\"text-align: right;\">\n",
              "      <th></th>\n",
              "      <th>0</th>\n",
              "      <th>1</th>\n",
              "      <th>2</th>\n",
              "    </tr>\n",
              "  </thead>\n",
              "  <tbody>\n",
              "    <tr>\n",
              "      <th>0</th>\n",
              "      <td>3050</td>\n",
              "      <td>5723</td>\n",
              "      <td>she</td>\n",
              "    </tr>\n",
              "    <tr>\n",
              "      <th>1</th>\n",
              "      <td>5723</td>\n",
              "      <td>10337</td>\n",
              "      <td>had</td>\n",
              "    </tr>\n",
              "    <tr>\n",
              "      <th>2</th>\n",
              "      <td>9190</td>\n",
              "      <td>11517</td>\n",
              "      <td>your</td>\n",
              "    </tr>\n",
              "    <tr>\n",
              "      <th>3</th>\n",
              "      <td>11517</td>\n",
              "      <td>16334</td>\n",
              "      <td>dark</td>\n",
              "    </tr>\n",
              "    <tr>\n",
              "      <th>4</th>\n",
              "      <td>16334</td>\n",
              "      <td>21199</td>\n",
              "      <td>suit</td>\n",
              "    </tr>\n",
              "  </tbody>\n",
              "</table>\n",
              "</div>\n",
              "      <button class=\"colab-df-convert\" onclick=\"convertToInteractive('df-e47107a7-5cca-470a-a610-481b9d21f8c0')\"\n",
              "              title=\"Convert this dataframe to an interactive table.\"\n",
              "              style=\"display:none;\">\n",
              "        \n",
              "  <svg xmlns=\"http://www.w3.org/2000/svg\" height=\"24px\"viewBox=\"0 0 24 24\"\n",
              "       width=\"24px\">\n",
              "    <path d=\"M0 0h24v24H0V0z\" fill=\"none\"/>\n",
              "    <path d=\"M18.56 5.44l.94 2.06.94-2.06 2.06-.94-2.06-.94-.94-2.06-.94 2.06-2.06.94zm-11 1L8.5 8.5l.94-2.06 2.06-.94-2.06-.94L8.5 2.5l-.94 2.06-2.06.94zm10 10l.94 2.06.94-2.06 2.06-.94-2.06-.94-.94-2.06-.94 2.06-2.06.94z\"/><path d=\"M17.41 7.96l-1.37-1.37c-.4-.4-.92-.59-1.43-.59-.52 0-1.04.2-1.43.59L10.3 9.45l-7.72 7.72c-.78.78-.78 2.05 0 2.83L4 21.41c.39.39.9.59 1.41.59.51 0 1.02-.2 1.41-.59l7.78-7.78 2.81-2.81c.8-.78.8-2.07 0-2.86zM5.41 20L4 18.59l7.72-7.72 1.47 1.35L5.41 20z\"/>\n",
              "  </svg>\n",
              "      </button>\n",
              "      \n",
              "  <style>\n",
              "    .colab-df-container {\n",
              "      display:flex;\n",
              "      flex-wrap:wrap;\n",
              "      gap: 12px;\n",
              "    }\n",
              "\n",
              "    .colab-df-convert {\n",
              "      background-color: #E8F0FE;\n",
              "      border: none;\n",
              "      border-radius: 50%;\n",
              "      cursor: pointer;\n",
              "      display: none;\n",
              "      fill: #1967D2;\n",
              "      height: 32px;\n",
              "      padding: 0 0 0 0;\n",
              "      width: 32px;\n",
              "    }\n",
              "\n",
              "    .colab-df-convert:hover {\n",
              "      background-color: #E2EBFA;\n",
              "      box-shadow: 0px 1px 2px rgba(60, 64, 67, 0.3), 0px 1px 3px 1px rgba(60, 64, 67, 0.15);\n",
              "      fill: #174EA6;\n",
              "    }\n",
              "\n",
              "    [theme=dark] .colab-df-convert {\n",
              "      background-color: #3B4455;\n",
              "      fill: #D2E3FC;\n",
              "    }\n",
              "\n",
              "    [theme=dark] .colab-df-convert:hover {\n",
              "      background-color: #434B5C;\n",
              "      box-shadow: 0px 1px 3px 1px rgba(0, 0, 0, 0.15);\n",
              "      filter: drop-shadow(0px 1px 2px rgba(0, 0, 0, 0.3));\n",
              "      fill: #FFFFFF;\n",
              "    }\n",
              "  </style>\n",
              "\n",
              "      <script>\n",
              "        const buttonEl =\n",
              "          document.querySelector('#df-e47107a7-5cca-470a-a610-481b9d21f8c0 button.colab-df-convert');\n",
              "        buttonEl.style.display =\n",
              "          google.colab.kernel.accessAllowed ? 'block' : 'none';\n",
              "\n",
              "        async function convertToInteractive(key) {\n",
              "          const element = document.querySelector('#df-e47107a7-5cca-470a-a610-481b9d21f8c0');\n",
              "          const dataTable =\n",
              "            await google.colab.kernel.invokeFunction('convertToInteractive',\n",
              "                                                     [key], {});\n",
              "          if (!dataTable) return;\n",
              "\n",
              "          const docLinkHtml = 'Like what you see? Visit the ' +\n",
              "            '<a target=\"_blank\" href=https://colab.research.google.com/notebooks/data_table.ipynb>data table notebook</a>'\n",
              "            + ' to learn more about interactive tables.';\n",
              "          element.innerHTML = '';\n",
              "          dataTable['output_type'] = 'display_data';\n",
              "          await google.colab.output.renderOutput(dataTable, element);\n",
              "          const docLink = document.createElement('div');\n",
              "          docLink.innerHTML = docLinkHtml;\n",
              "          element.appendChild(docLink);\n",
              "        }\n",
              "      </script>\n",
              "    </div>\n",
              "  </div>\n",
              "  "
            ]
          },
          "metadata": {},
          "execution_count": 77
        }
      ]
    },
    {
      "cell_type": "code",
      "source": [
        "p.head()"
      ],
      "metadata": {
        "colab": {
          "base_uri": "https://localhost:8080/",
          "height": 206
        },
        "id": "9Bv40o-iPWg5",
        "outputId": "22d90b11-9cb2-435f-cfe4-6176ff153cde"
      },
      "execution_count": 78,
      "outputs": [
        {
          "output_type": "execute_result",
          "data": {
            "text/plain": [
              "      0     1   2\n",
              "0     0  3050  h#\n",
              "1  3050  4559  sh\n",
              "2  4559  5723  ix\n",
              "3  5723  6642  hv\n",
              "4  6642  8772  eh"
            ],
            "text/html": [
              "\n",
              "  <div id=\"df-2d99d0f1-b75b-4504-b255-ec3cb00e71b5\">\n",
              "    <div class=\"colab-df-container\">\n",
              "      <div>\n",
              "<style scoped>\n",
              "    .dataframe tbody tr th:only-of-type {\n",
              "        vertical-align: middle;\n",
              "    }\n",
              "\n",
              "    .dataframe tbody tr th {\n",
              "        vertical-align: top;\n",
              "    }\n",
              "\n",
              "    .dataframe thead th {\n",
              "        text-align: right;\n",
              "    }\n",
              "</style>\n",
              "<table border=\"1\" class=\"dataframe\">\n",
              "  <thead>\n",
              "    <tr style=\"text-align: right;\">\n",
              "      <th></th>\n",
              "      <th>0</th>\n",
              "      <th>1</th>\n",
              "      <th>2</th>\n",
              "    </tr>\n",
              "  </thead>\n",
              "  <tbody>\n",
              "    <tr>\n",
              "      <th>0</th>\n",
              "      <td>0</td>\n",
              "      <td>3050</td>\n",
              "      <td>h#</td>\n",
              "    </tr>\n",
              "    <tr>\n",
              "      <th>1</th>\n",
              "      <td>3050</td>\n",
              "      <td>4559</td>\n",
              "      <td>sh</td>\n",
              "    </tr>\n",
              "    <tr>\n",
              "      <th>2</th>\n",
              "      <td>4559</td>\n",
              "      <td>5723</td>\n",
              "      <td>ix</td>\n",
              "    </tr>\n",
              "    <tr>\n",
              "      <th>3</th>\n",
              "      <td>5723</td>\n",
              "      <td>6642</td>\n",
              "      <td>hv</td>\n",
              "    </tr>\n",
              "    <tr>\n",
              "      <th>4</th>\n",
              "      <td>6642</td>\n",
              "      <td>8772</td>\n",
              "      <td>eh</td>\n",
              "    </tr>\n",
              "  </tbody>\n",
              "</table>\n",
              "</div>\n",
              "      <button class=\"colab-df-convert\" onclick=\"convertToInteractive('df-2d99d0f1-b75b-4504-b255-ec3cb00e71b5')\"\n",
              "              title=\"Convert this dataframe to an interactive table.\"\n",
              "              style=\"display:none;\">\n",
              "        \n",
              "  <svg xmlns=\"http://www.w3.org/2000/svg\" height=\"24px\"viewBox=\"0 0 24 24\"\n",
              "       width=\"24px\">\n",
              "    <path d=\"M0 0h24v24H0V0z\" fill=\"none\"/>\n",
              "    <path d=\"M18.56 5.44l.94 2.06.94-2.06 2.06-.94-2.06-.94-.94-2.06-.94 2.06-2.06.94zm-11 1L8.5 8.5l.94-2.06 2.06-.94-2.06-.94L8.5 2.5l-.94 2.06-2.06.94zm10 10l.94 2.06.94-2.06 2.06-.94-2.06-.94-.94-2.06-.94 2.06-2.06.94z\"/><path d=\"M17.41 7.96l-1.37-1.37c-.4-.4-.92-.59-1.43-.59-.52 0-1.04.2-1.43.59L10.3 9.45l-7.72 7.72c-.78.78-.78 2.05 0 2.83L4 21.41c.39.39.9.59 1.41.59.51 0 1.02-.2 1.41-.59l7.78-7.78 2.81-2.81c.8-.78.8-2.07 0-2.86zM5.41 20L4 18.59l7.72-7.72 1.47 1.35L5.41 20z\"/>\n",
              "  </svg>\n",
              "      </button>\n",
              "      \n",
              "  <style>\n",
              "    .colab-df-container {\n",
              "      display:flex;\n",
              "      flex-wrap:wrap;\n",
              "      gap: 12px;\n",
              "    }\n",
              "\n",
              "    .colab-df-convert {\n",
              "      background-color: #E8F0FE;\n",
              "      border: none;\n",
              "      border-radius: 50%;\n",
              "      cursor: pointer;\n",
              "      display: none;\n",
              "      fill: #1967D2;\n",
              "      height: 32px;\n",
              "      padding: 0 0 0 0;\n",
              "      width: 32px;\n",
              "    }\n",
              "\n",
              "    .colab-df-convert:hover {\n",
              "      background-color: #E2EBFA;\n",
              "      box-shadow: 0px 1px 2px rgba(60, 64, 67, 0.3), 0px 1px 3px 1px rgba(60, 64, 67, 0.15);\n",
              "      fill: #174EA6;\n",
              "    }\n",
              "\n",
              "    [theme=dark] .colab-df-convert {\n",
              "      background-color: #3B4455;\n",
              "      fill: #D2E3FC;\n",
              "    }\n",
              "\n",
              "    [theme=dark] .colab-df-convert:hover {\n",
              "      background-color: #434B5C;\n",
              "      box-shadow: 0px 1px 3px 1px rgba(0, 0, 0, 0.15);\n",
              "      filter: drop-shadow(0px 1px 2px rgba(0, 0, 0, 0.3));\n",
              "      fill: #FFFFFF;\n",
              "    }\n",
              "  </style>\n",
              "\n",
              "      <script>\n",
              "        const buttonEl =\n",
              "          document.querySelector('#df-2d99d0f1-b75b-4504-b255-ec3cb00e71b5 button.colab-df-convert');\n",
              "        buttonEl.style.display =\n",
              "          google.colab.kernel.accessAllowed ? 'block' : 'none';\n",
              "\n",
              "        async function convertToInteractive(key) {\n",
              "          const element = document.querySelector('#df-2d99d0f1-b75b-4504-b255-ec3cb00e71b5');\n",
              "          const dataTable =\n",
              "            await google.colab.kernel.invokeFunction('convertToInteractive',\n",
              "                                                     [key], {});\n",
              "          if (!dataTable) return;\n",
              "\n",
              "          const docLinkHtml = 'Like what you see? Visit the ' +\n",
              "            '<a target=\"_blank\" href=https://colab.research.google.com/notebooks/data_table.ipynb>data table notebook</a>'\n",
              "            + ' to learn more about interactive tables.';\n",
              "          element.innerHTML = '';\n",
              "          dataTable['output_type'] = 'display_data';\n",
              "          await google.colab.output.renderOutput(dataTable, element);\n",
              "          const docLink = document.createElement('div');\n",
              "          docLink.innerHTML = docLinkHtml;\n",
              "          element.appendChild(docLink);\n",
              "        }\n",
              "      </script>\n",
              "    </div>\n",
              "  </div>\n",
              "  "
            ]
          },
          "metadata": {},
          "execution_count": 78
        }
      ]
    },
    {
      "cell_type": "markdown",
      "source": [
        "## Data Preprocessing - Time step wise word phoneme pair Extraction"
      ],
      "metadata": {
        "id": "xuixe1XBBbNf"
      }
    },
    {
      "cell_type": "code",
      "source": [
        "dialects = ['DR1','DR2','DR3']\n",
        "wds = []\n",
        "for d in dialects:\n",
        "    word_paths = glob.glob(f'data/TRAIN/{d}/*/*.WRD', recursive = True)\n",
        "    for word_path in tqdm(word_paths):\n",
        "        s_pattern = re.findall(\"\\/[A-Z0-9]+\\/[A-Z0-9]+.WRD\",word_path)[0].split(\".\")[0]\n",
        "        pattern = re.findall(\"[A-Z0-9]+.WRD\",word_path)[0].split(\".\")[0]\n",
        "        s_path = re.findall(\".+\\/\",word_path)[0]\n",
        "        p_path = os.path.join(s_path,pattern+'.PHN')\n",
        "        words = pd.read_csv(word_path,sep=' ',header=None)\n",
        "        phs = pd.read_csv(p_path,sep=' ',header=None)\n",
        "        words['dialect'] = [d]*len(words)\n",
        "        words['speaker'] = [s_pattern]*len(words)\n",
        "        for index,record in words.iterrows():\n",
        "            ph = ' '.join(phs[(phs[0]>=record[0]) & (phs[1]<=record[1])][2].tolist())\n",
        "            words.loc[index,'phoneme'] = ph\n",
        "        wds.append(words)"
      ],
      "metadata": {
        "colab": {
          "base_uri": "https://localhost:8080/"
        },
        "id": "D6cYe46UOxZv",
        "outputId": "f137566c-180c-4913-fa75-73fc6f836f20"
      },
      "execution_count": 79,
      "outputs": [
        {
          "output_type": "stream",
          "name": "stderr",
          "text": [
            "100%|██████████| 380/380 [00:04<00:00, 77.92it/s]\n",
            "100%|██████████| 760/760 [00:09<00:00, 82.86it/s]\n",
            "100%|██████████| 760/760 [00:09<00:00, 82.39it/s]\n"
          ]
        }
      ]
    },
    {
      "cell_type": "markdown",
      "source": [
        "## Creating the final DataFrame"
      ],
      "metadata": {
        "id": "H_2azNg5Bg9O"
      }
    },
    {
      "cell_type": "code",
      "source": [
        "data = pd.concat(wds)\n",
        "data.reset_index(drop=True,inplace=True)\n",
        "data.columns = ['s','e','word','dialect','speaker','phoneme']\n",
        "data.head()"
      ],
      "metadata": {
        "colab": {
          "base_uri": "https://localhost:8080/",
          "height": 206
        },
        "id": "V5pOBl-rQ5hw",
        "outputId": "a1bc8a64-d31e-4d84-bbc0-d0450fd5d0d7"
      },
      "execution_count": 80,
      "outputs": [
        {
          "output_type": "execute_result",
          "data": {
            "text/plain": [
              "       s      e   word dialect     speaker        phoneme\n",
              "0  11028  13869  don't     DR1  /MTJS0/SA2        d ow nx\n",
              "1  13869  19000    ask     DR1  /MTJS0/SA2       ae s kcl\n",
              "2  19000  20600     me     DR1  /MTJS0/SA2           m iy\n",
              "3  20600  22023     to     DR1  /MTJS0/SA2          dx ix\n",
              "4  22023  28532  carry     DR1  /MTJS0/SA2  kcl k ae r iy"
            ],
            "text/html": [
              "\n",
              "  <div id=\"df-61d739a9-726d-4904-bc56-42ff5753727c\">\n",
              "    <div class=\"colab-df-container\">\n",
              "      <div>\n",
              "<style scoped>\n",
              "    .dataframe tbody tr th:only-of-type {\n",
              "        vertical-align: middle;\n",
              "    }\n",
              "\n",
              "    .dataframe tbody tr th {\n",
              "        vertical-align: top;\n",
              "    }\n",
              "\n",
              "    .dataframe thead th {\n",
              "        text-align: right;\n",
              "    }\n",
              "</style>\n",
              "<table border=\"1\" class=\"dataframe\">\n",
              "  <thead>\n",
              "    <tr style=\"text-align: right;\">\n",
              "      <th></th>\n",
              "      <th>s</th>\n",
              "      <th>e</th>\n",
              "      <th>word</th>\n",
              "      <th>dialect</th>\n",
              "      <th>speaker</th>\n",
              "      <th>phoneme</th>\n",
              "    </tr>\n",
              "  </thead>\n",
              "  <tbody>\n",
              "    <tr>\n",
              "      <th>0</th>\n",
              "      <td>11028</td>\n",
              "      <td>13869</td>\n",
              "      <td>don't</td>\n",
              "      <td>DR1</td>\n",
              "      <td>/MTJS0/SA2</td>\n",
              "      <td>d ow nx</td>\n",
              "    </tr>\n",
              "    <tr>\n",
              "      <th>1</th>\n",
              "      <td>13869</td>\n",
              "      <td>19000</td>\n",
              "      <td>ask</td>\n",
              "      <td>DR1</td>\n",
              "      <td>/MTJS0/SA2</td>\n",
              "      <td>ae s kcl</td>\n",
              "    </tr>\n",
              "    <tr>\n",
              "      <th>2</th>\n",
              "      <td>19000</td>\n",
              "      <td>20600</td>\n",
              "      <td>me</td>\n",
              "      <td>DR1</td>\n",
              "      <td>/MTJS0/SA2</td>\n",
              "      <td>m iy</td>\n",
              "    </tr>\n",
              "    <tr>\n",
              "      <th>3</th>\n",
              "      <td>20600</td>\n",
              "      <td>22023</td>\n",
              "      <td>to</td>\n",
              "      <td>DR1</td>\n",
              "      <td>/MTJS0/SA2</td>\n",
              "      <td>dx ix</td>\n",
              "    </tr>\n",
              "    <tr>\n",
              "      <th>4</th>\n",
              "      <td>22023</td>\n",
              "      <td>28532</td>\n",
              "      <td>carry</td>\n",
              "      <td>DR1</td>\n",
              "      <td>/MTJS0/SA2</td>\n",
              "      <td>kcl k ae r iy</td>\n",
              "    </tr>\n",
              "  </tbody>\n",
              "</table>\n",
              "</div>\n",
              "      <button class=\"colab-df-convert\" onclick=\"convertToInteractive('df-61d739a9-726d-4904-bc56-42ff5753727c')\"\n",
              "              title=\"Convert this dataframe to an interactive table.\"\n",
              "              style=\"display:none;\">\n",
              "        \n",
              "  <svg xmlns=\"http://www.w3.org/2000/svg\" height=\"24px\"viewBox=\"0 0 24 24\"\n",
              "       width=\"24px\">\n",
              "    <path d=\"M0 0h24v24H0V0z\" fill=\"none\"/>\n",
              "    <path d=\"M18.56 5.44l.94 2.06.94-2.06 2.06-.94-2.06-.94-.94-2.06-.94 2.06-2.06.94zm-11 1L8.5 8.5l.94-2.06 2.06-.94-2.06-.94L8.5 2.5l-.94 2.06-2.06.94zm10 10l.94 2.06.94-2.06 2.06-.94-2.06-.94-.94-2.06-.94 2.06-2.06.94z\"/><path d=\"M17.41 7.96l-1.37-1.37c-.4-.4-.92-.59-1.43-.59-.52 0-1.04.2-1.43.59L10.3 9.45l-7.72 7.72c-.78.78-.78 2.05 0 2.83L4 21.41c.39.39.9.59 1.41.59.51 0 1.02-.2 1.41-.59l7.78-7.78 2.81-2.81c.8-.78.8-2.07 0-2.86zM5.41 20L4 18.59l7.72-7.72 1.47 1.35L5.41 20z\"/>\n",
              "  </svg>\n",
              "      </button>\n",
              "      \n",
              "  <style>\n",
              "    .colab-df-container {\n",
              "      display:flex;\n",
              "      flex-wrap:wrap;\n",
              "      gap: 12px;\n",
              "    }\n",
              "\n",
              "    .colab-df-convert {\n",
              "      background-color: #E8F0FE;\n",
              "      border: none;\n",
              "      border-radius: 50%;\n",
              "      cursor: pointer;\n",
              "      display: none;\n",
              "      fill: #1967D2;\n",
              "      height: 32px;\n",
              "      padding: 0 0 0 0;\n",
              "      width: 32px;\n",
              "    }\n",
              "\n",
              "    .colab-df-convert:hover {\n",
              "      background-color: #E2EBFA;\n",
              "      box-shadow: 0px 1px 2px rgba(60, 64, 67, 0.3), 0px 1px 3px 1px rgba(60, 64, 67, 0.15);\n",
              "      fill: #174EA6;\n",
              "    }\n",
              "\n",
              "    [theme=dark] .colab-df-convert {\n",
              "      background-color: #3B4455;\n",
              "      fill: #D2E3FC;\n",
              "    }\n",
              "\n",
              "    [theme=dark] .colab-df-convert:hover {\n",
              "      background-color: #434B5C;\n",
              "      box-shadow: 0px 1px 3px 1px rgba(0, 0, 0, 0.15);\n",
              "      filter: drop-shadow(0px 1px 2px rgba(0, 0, 0, 0.3));\n",
              "      fill: #FFFFFF;\n",
              "    }\n",
              "  </style>\n",
              "\n",
              "      <script>\n",
              "        const buttonEl =\n",
              "          document.querySelector('#df-61d739a9-726d-4904-bc56-42ff5753727c button.colab-df-convert');\n",
              "        buttonEl.style.display =\n",
              "          google.colab.kernel.accessAllowed ? 'block' : 'none';\n",
              "\n",
              "        async function convertToInteractive(key) {\n",
              "          const element = document.querySelector('#df-61d739a9-726d-4904-bc56-42ff5753727c');\n",
              "          const dataTable =\n",
              "            await google.colab.kernel.invokeFunction('convertToInteractive',\n",
              "                                                     [key], {});\n",
              "          if (!dataTable) return;\n",
              "\n",
              "          const docLinkHtml = 'Like what you see? Visit the ' +\n",
              "            '<a target=\"_blank\" href=https://colab.research.google.com/notebooks/data_table.ipynb>data table notebook</a>'\n",
              "            + ' to learn more about interactive tables.';\n",
              "          element.innerHTML = '';\n",
              "          dataTable['output_type'] = 'display_data';\n",
              "          await google.colab.output.renderOutput(dataTable, element);\n",
              "          const docLink = document.createElement('div');\n",
              "          docLink.innerHTML = docLinkHtml;\n",
              "          element.appendChild(docLink);\n",
              "        }\n",
              "      </script>\n",
              "    </div>\n",
              "  </div>\n",
              "  "
            ]
          },
          "metadata": {},
          "execution_count": 80
        }
      ]
    },
    {
      "cell_type": "markdown",
      "source": [
        "## Train Test Spliting as per Dialect"
      ],
      "metadata": {
        "id": "sUGZH3YdBj8X"
      }
    },
    {
      "cell_type": "code",
      "source": [
        "train = set(data[data['dialect'].isin(['DR1','DR2'])]['word'].tolist())\n",
        "val = set(data[data['dialect']=='DR3']['word'].tolist())"
      ],
      "metadata": {
        "id": "eIRjXZykRRZ-"
      },
      "execution_count": 81,
      "outputs": []
    },
    {
      "cell_type": "code",
      "source": [
        "encoder = LabelEncoder()\n",
        "data['label'] = encoder.fit_transform(data['word'])"
      ],
      "metadata": {
        "id": "TCFENzAQTLIM"
      },
      "execution_count": 82,
      "outputs": []
    },
    {
      "cell_type": "code",
      "source": [
        "train = data[data['dialect'].isin(['DR1','DR2'])][['phoneme','word','label']]\n",
        "train = train.sample(frac=1).reset_index(drop=True)\n",
        "val = data[data['dialect']=='DR3'].reset_index(drop=True)[['phoneme','word','label']]"
      ],
      "metadata": {
        "id": "PKJSoC0FTRSw"
      },
      "execution_count": 83,
      "outputs": []
    },
    {
      "cell_type": "markdown",
      "source": [
        "## Tokenization"
      ],
      "metadata": {
        "id": "N6KCOuUQBuK-"
      }
    },
    {
      "cell_type": "code",
      "source": [
        "phonemes = data['phoneme'].tolist()\n",
        "tokenizer = Tokenizer(oov_token='OOV')\n",
        "tokenizer.fit_on_texts(phonemes)\n",
        "vocab_size = len(tokenizer.word_index) + 1"
      ],
      "metadata": {
        "id": "bywZ5SEqTTJf"
      },
      "execution_count": 84,
      "outputs": []
    },
    {
      "cell_type": "markdown",
      "source": [
        "## Sequencing"
      ],
      "metadata": {
        "id": "Mt3_9lM0ByUh"
      }
    },
    {
      "cell_type": "code",
      "source": [
        "seq = train['phoneme'].values\n",
        "train_sequences = tokenizer.texts_to_sequences(train['phoneme'].values)\n",
        "val_sequences = tokenizer.texts_to_sequences(val['phoneme'].values)\n",
        "max_length = len(max(sequences, key=len))"
      ],
      "metadata": {
        "id": "mKEk3mUXTWpl"
      },
      "execution_count": 85,
      "outputs": []
    },
    {
      "cell_type": "code",
      "source": [
        "from tensorflow.keras.preprocessing.sequence import pad_sequences"
      ],
      "metadata": {
        "id": "qI-d3FAwrRdo"
      },
      "execution_count": 86,
      "outputs": []
    },
    {
      "cell_type": "markdown",
      "source": [
        "## Padding"
      ],
      "metadata": {
        "id": "vq6J7SlDB0PV"
      }
    },
    {
      "cell_type": "code",
      "source": [
        "X_train = pad_sequences(train_sequences, maxlen=max_length, padding='post')\n",
        "X_val = pad_sequences(val_sequences, maxlen=max_length, padding='post')\n",
        "y_train = train['label'].values\n",
        "y_val = val['label'].values"
      ],
      "metadata": {
        "id": "pAhkyjtbrCod"
      },
      "execution_count": 87,
      "outputs": []
    },
    {
      "cell_type": "code",
      "source": [
        "from tensorflow.keras.layers import Embedding, Input, LSTM, Dense, Bidirectional"
      ],
      "metadata": {
        "id": "RXO0WY-88mbx"
      },
      "execution_count": 88,
      "outputs": []
    },
    {
      "cell_type": "markdown",
      "source": [
        "## Bidirectional LSTM Model - Model 2"
      ],
      "metadata": {
        "id": "9asGbt60B1n8"
      }
    },
    {
      "cell_type": "code",
      "source": [
        "embedding_dim = 10\n",
        "tf.keras.backend.clear_session()\n",
        "model = tf.keras.Sequential([\n",
        "    Embedding(vocab_size, embedding_dim, \n",
        "                              input_length=max_length),\n",
        "    Bidirectional(LSTM(256, activation='tanh', return_sequences=True)),\n",
        "    Bidirectional(LSTM(128, activation='tanh')),\n",
        "    Dense(64, activation='relu'),\n",
        "    Dense(data['label'].nunique(), activation='softmax')\n",
        "])\n",
        "model.compile(optimizer='adam', loss='sparse_categorical_crossentropy', metrics=['accuracy'])\n",
        "model.summary()"
      ],
      "metadata": {
        "colab": {
          "base_uri": "https://localhost:8080/"
        },
        "id": "nb-oUG_TrSr3",
        "outputId": "6f2d3ec0-fee5-40a6-caf4-32db215dd87c"
      },
      "execution_count": 89,
      "outputs": [
        {
          "output_type": "stream",
          "name": "stdout",
          "text": [
            "Model: \"sequential\"\n",
            "_________________________________________________________________\n",
            " Layer (type)                Output Shape              Param #   \n",
            "=================================================================\n",
            " embedding (Embedding)       (None, 14, 10)            620       \n",
            "                                                                 \n",
            " bidirectional (Bidirectiona  (None, 14, 512)          546816    \n",
            " l)                                                              \n",
            "                                                                 \n",
            " bidirectional_1 (Bidirectio  (None, 256)              656384    \n",
            " nal)                                                            \n",
            "                                                                 \n",
            " dense (Dense)               (None, 64)                16448     \n",
            "                                                                 \n",
            " dense_1 (Dense)             (None, 3094)              201110    \n",
            "                                                                 \n",
            "=================================================================\n",
            "Total params: 1,421,378\n",
            "Trainable params: 1,421,378\n",
            "Non-trainable params: 0\n",
            "_________________________________________________________________\n"
          ]
        }
      ]
    },
    {
      "cell_type": "code",
      "source": [
        "early_stop_cb = tf.keras.callbacks.EarlyStopping(\n",
        "    monitor='val_loss', min_delta=0, patience=10, verbose=0,\n",
        "    mode='auto'\n",
        ")"
      ],
      "metadata": {
        "id": "Gvkc8FE6Dgth"
      },
      "execution_count": 90,
      "outputs": []
    },
    {
      "cell_type": "markdown",
      "source": [
        "## Training the Model"
      ],
      "metadata": {
        "id": "j55tKHnXB5ub"
      }
    },
    {
      "cell_type": "code",
      "source": [
        "history = model.fit(X_train,y_train,\n",
        "                    batch_size=16,\n",
        "                    epochs=30,\n",
        "                    validation_data=(X_val,y_val),\n",
        "                    validation_batch_size=32,\n",
        "                    callbacks = [early_stop_cb])"
      ],
      "metadata": {
        "colab": {
          "base_uri": "https://localhost:8080/"
        },
        "id": "_KbhTvCir0OW",
        "outputId": "52ccc4c1-e187-489d-c269-bae33b473ede"
      },
      "execution_count": 91,
      "outputs": [
        {
          "output_type": "stream",
          "name": "stdout",
          "text": [
            "Epoch 1/30\n",
            "616/616 [==============================] - 13s 14ms/step - loss: 6.4957 - accuracy: 0.0484 - val_loss: 5.8279 - val_accuracy: 0.0886\n",
            "Epoch 2/30\n",
            "616/616 [==============================] - 7s 12ms/step - loss: 5.4763 - accuracy: 0.1046 - val_loss: 5.4661 - val_accuracy: 0.1756\n",
            "Epoch 3/30\n",
            "616/616 [==============================] - 7s 12ms/step - loss: 4.9164 - accuracy: 0.2067 - val_loss: 5.1371 - val_accuracy: 0.2372\n",
            "Epoch 4/30\n",
            "616/616 [==============================] - 7s 12ms/step - loss: 4.3832 - accuracy: 0.2865 - val_loss: 4.8694 - val_accuracy: 0.3365\n",
            "Epoch 5/30\n",
            "616/616 [==============================] - 7s 12ms/step - loss: 3.9477 - accuracy: 0.3397 - val_loss: 4.6574 - val_accuracy: 0.3639\n",
            "Epoch 6/30\n",
            "616/616 [==============================] - 7s 12ms/step - loss: 3.5863 - accuracy: 0.3772 - val_loss: 4.5183 - val_accuracy: 0.3862\n",
            "Epoch 7/30\n",
            "616/616 [==============================] - 8s 13ms/step - loss: 3.2870 - accuracy: 0.4063 - val_loss: 4.4773 - val_accuracy: 0.4056\n",
            "Epoch 8/30\n",
            "616/616 [==============================] - 7s 12ms/step - loss: 3.0219 - accuracy: 0.4325 - val_loss: 4.4196 - val_accuracy: 0.4531\n",
            "Epoch 9/30\n",
            "616/616 [==============================] - 7s 12ms/step - loss: 2.7620 - accuracy: 0.4612 - val_loss: 4.4328 - val_accuracy: 0.4786\n",
            "Epoch 10/30\n",
            "616/616 [==============================] - 7s 12ms/step - loss: 2.5169 - accuracy: 0.4867 - val_loss: 4.4320 - val_accuracy: 0.5021\n",
            "Epoch 11/30\n",
            "616/616 [==============================] - 7s 12ms/step - loss: 2.2966 - accuracy: 0.5090 - val_loss: 4.4812 - val_accuracy: 0.5148\n",
            "Epoch 12/30\n",
            "616/616 [==============================] - 7s 12ms/step - loss: 2.1128 - accuracy: 0.5280 - val_loss: 4.5312 - val_accuracy: 0.5204\n",
            "Epoch 13/30\n",
            "616/616 [==============================] - 7s 12ms/step - loss: 1.9371 - accuracy: 0.5478 - val_loss: 4.7196 - val_accuracy: 0.5419\n",
            "Epoch 14/30\n",
            "616/616 [==============================] - 7s 12ms/step - loss: 1.7992 - accuracy: 0.5685 - val_loss: 4.7981 - val_accuracy: 0.5478\n",
            "Epoch 15/30\n",
            "616/616 [==============================] - 7s 12ms/step - loss: 1.6725 - accuracy: 0.5814 - val_loss: 4.7803 - val_accuracy: 0.5680\n",
            "Epoch 16/30\n",
            "616/616 [==============================] - 7s 11ms/step - loss: 1.5459 - accuracy: 0.6006 - val_loss: 4.9737 - val_accuracy: 0.5683\n",
            "Epoch 17/30\n",
            "616/616 [==============================] - 7s 12ms/step - loss: 1.4491 - accuracy: 0.6224 - val_loss: 4.9654 - val_accuracy: 0.5855\n",
            "Epoch 18/30\n",
            "616/616 [==============================] - 7s 12ms/step - loss: 1.3568 - accuracy: 0.6357 - val_loss: 4.9834 - val_accuracy: 0.5926\n"
          ]
        }
      ]
    },
    {
      "cell_type": "code",
      "source": [
        "model.evaluate(X_val,y_val)"
      ],
      "metadata": {
        "colab": {
          "base_uri": "https://localhost:8080/"
        },
        "id": "lBxtIJ2-r6cx",
        "outputId": "48382672-4053-4cee-9691-4dce2d202ef0"
      },
      "execution_count": 92,
      "outputs": [
        {
          "output_type": "stream",
          "name": "stdout",
          "text": [
            "208/208 [==============================] - 1s 6ms/step - loss: 4.9834 - accuracy: 0.5926\n"
          ]
        },
        {
          "output_type": "execute_result",
          "data": {
            "text/plain": [
              "[4.983437538146973, 0.592637300491333]"
            ]
          },
          "metadata": {},
          "execution_count": 92
        }
      ]
    },
    {
      "cell_type": "markdown",
      "source": [
        "* The Evaluation shows 60% accuracy however there is no considerable reduction in the loss"
      ],
      "metadata": {
        "id": "RDQLOJrZCCNA"
      }
    },
    {
      "cell_type": "markdown",
      "source": [
        "## Lets build statements and try predicting using this model"
      ],
      "metadata": {
        "id": "aRelzbQmB_Pp"
      }
    },
    {
      "cell_type": "code",
      "source": [
        "statements = []\n",
        "for speaker in tqdm(data['speaker'].unique()):\n",
        "    sentence = \" \".join(data[data['speaker']==speaker]['word'].tolist())\n",
        "    phoneme = \"  \".join(data[data['speaker']==speaker]['phoneme'].tolist())\n",
        "    statements.append([speaker,sentence,phoneme])"
      ],
      "metadata": {
        "colab": {
          "base_uri": "https://localhost:8080/"
        },
        "id": "nn8RTpZrsbEr",
        "outputId": "09d6b160-03f2-4aee-e4b2-56e88ee67830"
      },
      "execution_count": 93,
      "outputs": [
        {
          "output_type": "stream",
          "name": "stderr",
          "text": [
            "100%|██████████| 1900/1900 [00:05<00:00, 326.33it/s]\n"
          ]
        }
      ]
    },
    {
      "cell_type": "code",
      "source": [
        "df = pd.DataFrame(statements,columns=['speaker','sentence','phonemes'])\n",
        "df.head()"
      ],
      "metadata": {
        "colab": {
          "base_uri": "https://localhost:8080/",
          "height": 206
        },
        "id": "OCRXoGqlsa9j",
        "outputId": "b08e4f7b-975a-4c6b-bb20-349711155d92"
      },
      "execution_count": 94,
      "outputs": [
        {
          "output_type": "execute_result",
          "data": {
            "text/plain": [
              "         speaker                                           sentence  \\\n",
              "0     /MTJS0/SA2        don't ask me to carry an oily rag like that   \n",
              "1   /MTJS0/SX292  these exclusive documents must be locked up at...   \n",
              "2  /MTJS0/SI1822  but to the infuriation of scientists for no kn...   \n",
              "3   /MTJS0/SX112         tugboats are capable of hauling huge loads   \n",
              "4   /MTJS0/SI562  family loyalties and cooperative work have bee...   \n",
              "\n",
              "                                            phonemes  \n",
              "0  d ow nx  ae s kcl  m iy  dx ix  kcl k ae r iy ...  \n",
              "1  dh iy z  ix kcl k s kcl k l uw s ax v  dcl d a...  \n",
              "2  b ah tcl  t ih  dh iy  ix n f y er r iy ey sh ...  \n",
              "3  t ah gcl b ow tcl s  ix  kcl k ey pcl p ax bcl...  \n",
              "4  f ae m l iy  l oy el tcl t iy z  ix ng  kcl k ...  "
            ],
            "text/html": [
              "\n",
              "  <div id=\"df-c16c2743-6250-45cc-8d16-c56a60f582a2\">\n",
              "    <div class=\"colab-df-container\">\n",
              "      <div>\n",
              "<style scoped>\n",
              "    .dataframe tbody tr th:only-of-type {\n",
              "        vertical-align: middle;\n",
              "    }\n",
              "\n",
              "    .dataframe tbody tr th {\n",
              "        vertical-align: top;\n",
              "    }\n",
              "\n",
              "    .dataframe thead th {\n",
              "        text-align: right;\n",
              "    }\n",
              "</style>\n",
              "<table border=\"1\" class=\"dataframe\">\n",
              "  <thead>\n",
              "    <tr style=\"text-align: right;\">\n",
              "      <th></th>\n",
              "      <th>speaker</th>\n",
              "      <th>sentence</th>\n",
              "      <th>phonemes</th>\n",
              "    </tr>\n",
              "  </thead>\n",
              "  <tbody>\n",
              "    <tr>\n",
              "      <th>0</th>\n",
              "      <td>/MTJS0/SA2</td>\n",
              "      <td>don't ask me to carry an oily rag like that</td>\n",
              "      <td>d ow nx  ae s kcl  m iy  dx ix  kcl k ae r iy ...</td>\n",
              "    </tr>\n",
              "    <tr>\n",
              "      <th>1</th>\n",
              "      <td>/MTJS0/SX292</td>\n",
              "      <td>these exclusive documents must be locked up at...</td>\n",
              "      <td>dh iy z  ix kcl k s kcl k l uw s ax v  dcl d a...</td>\n",
              "    </tr>\n",
              "    <tr>\n",
              "      <th>2</th>\n",
              "      <td>/MTJS0/SI1822</td>\n",
              "      <td>but to the infuriation of scientists for no kn...</td>\n",
              "      <td>b ah tcl  t ih  dh iy  ix n f y er r iy ey sh ...</td>\n",
              "    </tr>\n",
              "    <tr>\n",
              "      <th>3</th>\n",
              "      <td>/MTJS0/SX112</td>\n",
              "      <td>tugboats are capable of hauling huge loads</td>\n",
              "      <td>t ah gcl b ow tcl s  ix  kcl k ey pcl p ax bcl...</td>\n",
              "    </tr>\n",
              "    <tr>\n",
              "      <th>4</th>\n",
              "      <td>/MTJS0/SI562</td>\n",
              "      <td>family loyalties and cooperative work have bee...</td>\n",
              "      <td>f ae m l iy  l oy el tcl t iy z  ix ng  kcl k ...</td>\n",
              "    </tr>\n",
              "  </tbody>\n",
              "</table>\n",
              "</div>\n",
              "      <button class=\"colab-df-convert\" onclick=\"convertToInteractive('df-c16c2743-6250-45cc-8d16-c56a60f582a2')\"\n",
              "              title=\"Convert this dataframe to an interactive table.\"\n",
              "              style=\"display:none;\">\n",
              "        \n",
              "  <svg xmlns=\"http://www.w3.org/2000/svg\" height=\"24px\"viewBox=\"0 0 24 24\"\n",
              "       width=\"24px\">\n",
              "    <path d=\"M0 0h24v24H0V0z\" fill=\"none\"/>\n",
              "    <path d=\"M18.56 5.44l.94 2.06.94-2.06 2.06-.94-2.06-.94-.94-2.06-.94 2.06-2.06.94zm-11 1L8.5 8.5l.94-2.06 2.06-.94-2.06-.94L8.5 2.5l-.94 2.06-2.06.94zm10 10l.94 2.06.94-2.06 2.06-.94-2.06-.94-.94-2.06-.94 2.06-2.06.94z\"/><path d=\"M17.41 7.96l-1.37-1.37c-.4-.4-.92-.59-1.43-.59-.52 0-1.04.2-1.43.59L10.3 9.45l-7.72 7.72c-.78.78-.78 2.05 0 2.83L4 21.41c.39.39.9.59 1.41.59.51 0 1.02-.2 1.41-.59l7.78-7.78 2.81-2.81c.8-.78.8-2.07 0-2.86zM5.41 20L4 18.59l7.72-7.72 1.47 1.35L5.41 20z\"/>\n",
              "  </svg>\n",
              "      </button>\n",
              "      \n",
              "  <style>\n",
              "    .colab-df-container {\n",
              "      display:flex;\n",
              "      flex-wrap:wrap;\n",
              "      gap: 12px;\n",
              "    }\n",
              "\n",
              "    .colab-df-convert {\n",
              "      background-color: #E8F0FE;\n",
              "      border: none;\n",
              "      border-radius: 50%;\n",
              "      cursor: pointer;\n",
              "      display: none;\n",
              "      fill: #1967D2;\n",
              "      height: 32px;\n",
              "      padding: 0 0 0 0;\n",
              "      width: 32px;\n",
              "    }\n",
              "\n",
              "    .colab-df-convert:hover {\n",
              "      background-color: #E2EBFA;\n",
              "      box-shadow: 0px 1px 2px rgba(60, 64, 67, 0.3), 0px 1px 3px 1px rgba(60, 64, 67, 0.15);\n",
              "      fill: #174EA6;\n",
              "    }\n",
              "\n",
              "    [theme=dark] .colab-df-convert {\n",
              "      background-color: #3B4455;\n",
              "      fill: #D2E3FC;\n",
              "    }\n",
              "\n",
              "    [theme=dark] .colab-df-convert:hover {\n",
              "      background-color: #434B5C;\n",
              "      box-shadow: 0px 1px 3px 1px rgba(0, 0, 0, 0.15);\n",
              "      filter: drop-shadow(0px 1px 2px rgba(0, 0, 0, 0.3));\n",
              "      fill: #FFFFFF;\n",
              "    }\n",
              "  </style>\n",
              "\n",
              "      <script>\n",
              "        const buttonEl =\n",
              "          document.querySelector('#df-c16c2743-6250-45cc-8d16-c56a60f582a2 button.colab-df-convert');\n",
              "        buttonEl.style.display =\n",
              "          google.colab.kernel.accessAllowed ? 'block' : 'none';\n",
              "\n",
              "        async function convertToInteractive(key) {\n",
              "          const element = document.querySelector('#df-c16c2743-6250-45cc-8d16-c56a60f582a2');\n",
              "          const dataTable =\n",
              "            await google.colab.kernel.invokeFunction('convertToInteractive',\n",
              "                                                     [key], {});\n",
              "          if (!dataTable) return;\n",
              "\n",
              "          const docLinkHtml = 'Like what you see? Visit the ' +\n",
              "            '<a target=\"_blank\" href=https://colab.research.google.com/notebooks/data_table.ipynb>data table notebook</a>'\n",
              "            + ' to learn more about interactive tables.';\n",
              "          element.innerHTML = '';\n",
              "          dataTable['output_type'] = 'display_data';\n",
              "          await google.colab.output.renderOutput(dataTable, element);\n",
              "          const docLink = document.createElement('div');\n",
              "          docLink.innerHTML = docLinkHtml;\n",
              "          element.appendChild(docLink);\n",
              "        }\n",
              "      </script>\n",
              "    </div>\n",
              "  </div>\n",
              "  "
            ]
          },
          "metadata": {},
          "execution_count": 94
        }
      ]
    },
    {
      "cell_type": "markdown",
      "source": [
        "## Prediction Functions"
      ],
      "metadata": {
        "id": "FUMaYv0QCNd7"
      }
    },
    {
      "cell_type": "code",
      "source": [
        "def predictions(sentence):\n",
        "    phonemes = sentence.split(\"  \")\n",
        "    w_s = \"\"\n",
        "    for p in phonemes:\n",
        "        text_seq = tokenizer.texts_to_sequences([p])\n",
        "        text_padded = pad_sequences(text_seq, maxlen=max_length, padding='post')\n",
        "        pred = model.predict(text_padded)\n",
        "        pred = np.argmax(pred,axis=1)\n",
        "        word = encoder.classes_[pred[0]]\n",
        "        w_s = w_s + word + \" \"\n",
        "    w_s = w_s.strip()\n",
        "    return w_s"
      ],
      "metadata": {
        "id": "-4L_OVlTsaz0"
      },
      "execution_count": 95,
      "outputs": []
    },
    {
      "cell_type": "code",
      "source": [
        "from tqdm.notebook import tqdm\n",
        "tqdm.pandas()"
      ],
      "metadata": {
        "id": "rScPv36OxvI2"
      },
      "execution_count": 96,
      "outputs": []
    },
    {
      "cell_type": "code",
      "source": [
        "df['predictions'] = df['phonemes'].progress_apply(predictions)"
      ],
      "metadata": {
        "colab": {
          "base_uri": "https://localhost:8080/",
          "height": 49,
          "referenced_widgets": [
            "6b97f943eb3d428e86875710cb7dd855",
            "35923091ebbb4014ac501a0e8cbc49fd",
            "e1d5d2cd85394f2f917974f2bc3e21bb",
            "c62b9a05bc3d4aa9b8aacee674fe5b72",
            "6aa2e94190fb478db6878895c009d2dd",
            "b8325c5c36c1451aa0f8480ebf59a329",
            "46c928322bf54676824cdc642899c314",
            "bfcc3f9f72444175940d21b271271968",
            "de62568ac41b4cb38add54d0aafdc5fc",
            "e93b05b75d0042cc83490c4b7255b636",
            "37e3b7b03f794f639db074f17b787b98"
          ]
        },
        "id": "N7zXqhhDxVTj",
        "outputId": "1d507edf-9ad2-443b-944b-8e80d5eac2e2"
      },
      "execution_count": 97,
      "outputs": [
        {
          "output_type": "display_data",
          "data": {
            "text/plain": [
              "  0%|          | 0/1900 [00:00<?, ?it/s]"
            ],
            "application/vnd.jupyter.widget-view+json": {
              "version_major": 2,
              "version_minor": 0,
              "model_id": "6b97f943eb3d428e86875710cb7dd855"
            }
          },
          "metadata": {}
        }
      ]
    },
    {
      "cell_type": "code",
      "source": [
        "df = pd.merge(df,data[['speaker','dialect']].drop_duplicates(),how='left',left_on='speaker',right_on='speaker')"
      ],
      "metadata": {
        "id": "yb05-CvoxYAf"
      },
      "execution_count": 98,
      "outputs": []
    },
    {
      "cell_type": "code",
      "source": [
        "df.head()"
      ],
      "metadata": {
        "colab": {
          "base_uri": "https://localhost:8080/",
          "height": 206
        },
        "id": "myTc9MKr10Um",
        "outputId": "e8c9a6ab-eb77-4ff1-fe91-9d1d44c3cee7"
      },
      "execution_count": 99,
      "outputs": [
        {
          "output_type": "execute_result",
          "data": {
            "text/plain": [
              "         speaker                                           sentence  \\\n",
              "0     /MTJS0/SA2        don't ask me to carry an oily rag like that   \n",
              "1   /MTJS0/SX292  these exclusive documents must be locked up at...   \n",
              "2  /MTJS0/SI1822  but to the infuriation of scientists for no kn...   \n",
              "3   /MTJS0/SX112         tugboats are capable of hauling huge loads   \n",
              "4   /MTJS0/SI562  family loyalties and cooperative work have bee...   \n",
              "\n",
              "                                            phonemes  \\\n",
              "0  d ow nx  ae s kcl  m iy  dx ix  kcl k ae r iy ...   \n",
              "1  dh iy z  ix kcl k s kcl k l uw s ax v  dcl d a...   \n",
              "2  b ah tcl  t ih  dh iy  ix n f y er r iy ey sh ...   \n",
              "3  t ah gcl b ow tcl s  ix  kcl k ey pcl p ax bcl...   \n",
              "4  f ae m l iy  l oy el tcl t iy z  ix ng  kcl k ...   \n",
              "\n",
              "                                         predictions dialect  \n",
              "0        don't ask me to carry an oily rag like that     DR1  \n",
              "1  these excitement documents many be locked up i...     DR1  \n",
              "2  but to the available of system for no known da...     DR1  \n",
              "3      tugboats a capitalists of hauling wide overly     DR1  \n",
              "4  moment system in disclaimer work he'll been av...     DR1  "
            ],
            "text/html": [
              "\n",
              "  <div id=\"df-ed6f0241-b538-472a-a9f0-a86294213bdd\">\n",
              "    <div class=\"colab-df-container\">\n",
              "      <div>\n",
              "<style scoped>\n",
              "    .dataframe tbody tr th:only-of-type {\n",
              "        vertical-align: middle;\n",
              "    }\n",
              "\n",
              "    .dataframe tbody tr th {\n",
              "        vertical-align: top;\n",
              "    }\n",
              "\n",
              "    .dataframe thead th {\n",
              "        text-align: right;\n",
              "    }\n",
              "</style>\n",
              "<table border=\"1\" class=\"dataframe\">\n",
              "  <thead>\n",
              "    <tr style=\"text-align: right;\">\n",
              "      <th></th>\n",
              "      <th>speaker</th>\n",
              "      <th>sentence</th>\n",
              "      <th>phonemes</th>\n",
              "      <th>predictions</th>\n",
              "      <th>dialect</th>\n",
              "    </tr>\n",
              "  </thead>\n",
              "  <tbody>\n",
              "    <tr>\n",
              "      <th>0</th>\n",
              "      <td>/MTJS0/SA2</td>\n",
              "      <td>don't ask me to carry an oily rag like that</td>\n",
              "      <td>d ow nx  ae s kcl  m iy  dx ix  kcl k ae r iy ...</td>\n",
              "      <td>don't ask me to carry an oily rag like that</td>\n",
              "      <td>DR1</td>\n",
              "    </tr>\n",
              "    <tr>\n",
              "      <th>1</th>\n",
              "      <td>/MTJS0/SX292</td>\n",
              "      <td>these exclusive documents must be locked up at...</td>\n",
              "      <td>dh iy z  ix kcl k s kcl k l uw s ax v  dcl d a...</td>\n",
              "      <td>these excitement documents many be locked up i...</td>\n",
              "      <td>DR1</td>\n",
              "    </tr>\n",
              "    <tr>\n",
              "      <th>2</th>\n",
              "      <td>/MTJS0/SI1822</td>\n",
              "      <td>but to the infuriation of scientists for no kn...</td>\n",
              "      <td>b ah tcl  t ih  dh iy  ix n f y er r iy ey sh ...</td>\n",
              "      <td>but to the available of system for no known da...</td>\n",
              "      <td>DR1</td>\n",
              "    </tr>\n",
              "    <tr>\n",
              "      <th>3</th>\n",
              "      <td>/MTJS0/SX112</td>\n",
              "      <td>tugboats are capable of hauling huge loads</td>\n",
              "      <td>t ah gcl b ow tcl s  ix  kcl k ey pcl p ax bcl...</td>\n",
              "      <td>tugboats a capitalists of hauling wide overly</td>\n",
              "      <td>DR1</td>\n",
              "    </tr>\n",
              "    <tr>\n",
              "      <th>4</th>\n",
              "      <td>/MTJS0/SI562</td>\n",
              "      <td>family loyalties and cooperative work have bee...</td>\n",
              "      <td>f ae m l iy  l oy el tcl t iy z  ix ng  kcl k ...</td>\n",
              "      <td>moment system in disclaimer work he'll been av...</td>\n",
              "      <td>DR1</td>\n",
              "    </tr>\n",
              "  </tbody>\n",
              "</table>\n",
              "</div>\n",
              "      <button class=\"colab-df-convert\" onclick=\"convertToInteractive('df-ed6f0241-b538-472a-a9f0-a86294213bdd')\"\n",
              "              title=\"Convert this dataframe to an interactive table.\"\n",
              "              style=\"display:none;\">\n",
              "        \n",
              "  <svg xmlns=\"http://www.w3.org/2000/svg\" height=\"24px\"viewBox=\"0 0 24 24\"\n",
              "       width=\"24px\">\n",
              "    <path d=\"M0 0h24v24H0V0z\" fill=\"none\"/>\n",
              "    <path d=\"M18.56 5.44l.94 2.06.94-2.06 2.06-.94-2.06-.94-.94-2.06-.94 2.06-2.06.94zm-11 1L8.5 8.5l.94-2.06 2.06-.94-2.06-.94L8.5 2.5l-.94 2.06-2.06.94zm10 10l.94 2.06.94-2.06 2.06-.94-2.06-.94-.94-2.06-.94 2.06-2.06.94z\"/><path d=\"M17.41 7.96l-1.37-1.37c-.4-.4-.92-.59-1.43-.59-.52 0-1.04.2-1.43.59L10.3 9.45l-7.72 7.72c-.78.78-.78 2.05 0 2.83L4 21.41c.39.39.9.59 1.41.59.51 0 1.02-.2 1.41-.59l7.78-7.78 2.81-2.81c.8-.78.8-2.07 0-2.86zM5.41 20L4 18.59l7.72-7.72 1.47 1.35L5.41 20z\"/>\n",
              "  </svg>\n",
              "      </button>\n",
              "      \n",
              "  <style>\n",
              "    .colab-df-container {\n",
              "      display:flex;\n",
              "      flex-wrap:wrap;\n",
              "      gap: 12px;\n",
              "    }\n",
              "\n",
              "    .colab-df-convert {\n",
              "      background-color: #E8F0FE;\n",
              "      border: none;\n",
              "      border-radius: 50%;\n",
              "      cursor: pointer;\n",
              "      display: none;\n",
              "      fill: #1967D2;\n",
              "      height: 32px;\n",
              "      padding: 0 0 0 0;\n",
              "      width: 32px;\n",
              "    }\n",
              "\n",
              "    .colab-df-convert:hover {\n",
              "      background-color: #E2EBFA;\n",
              "      box-shadow: 0px 1px 2px rgba(60, 64, 67, 0.3), 0px 1px 3px 1px rgba(60, 64, 67, 0.15);\n",
              "      fill: #174EA6;\n",
              "    }\n",
              "\n",
              "    [theme=dark] .colab-df-convert {\n",
              "      background-color: #3B4455;\n",
              "      fill: #D2E3FC;\n",
              "    }\n",
              "\n",
              "    [theme=dark] .colab-df-convert:hover {\n",
              "      background-color: #434B5C;\n",
              "      box-shadow: 0px 1px 3px 1px rgba(0, 0, 0, 0.15);\n",
              "      filter: drop-shadow(0px 1px 2px rgba(0, 0, 0, 0.3));\n",
              "      fill: #FFFFFF;\n",
              "    }\n",
              "  </style>\n",
              "\n",
              "      <script>\n",
              "        const buttonEl =\n",
              "          document.querySelector('#df-ed6f0241-b538-472a-a9f0-a86294213bdd button.colab-df-convert');\n",
              "        buttonEl.style.display =\n",
              "          google.colab.kernel.accessAllowed ? 'block' : 'none';\n",
              "\n",
              "        async function convertToInteractive(key) {\n",
              "          const element = document.querySelector('#df-ed6f0241-b538-472a-a9f0-a86294213bdd');\n",
              "          const dataTable =\n",
              "            await google.colab.kernel.invokeFunction('convertToInteractive',\n",
              "                                                     [key], {});\n",
              "          if (!dataTable) return;\n",
              "\n",
              "          const docLinkHtml = 'Like what you see? Visit the ' +\n",
              "            '<a target=\"_blank\" href=https://colab.research.google.com/notebooks/data_table.ipynb>data table notebook</a>'\n",
              "            + ' to learn more about interactive tables.';\n",
              "          element.innerHTML = '';\n",
              "          dataTable['output_type'] = 'display_data';\n",
              "          await google.colab.output.renderOutput(dataTable, element);\n",
              "          const docLink = document.createElement('div');\n",
              "          docLink.innerHTML = docLinkHtml;\n",
              "          element.appendChild(docLink);\n",
              "        }\n",
              "      </script>\n",
              "    </div>\n",
              "  </div>\n",
              "  "
            ]
          },
          "metadata": {},
          "execution_count": 99
        }
      ]
    },
    {
      "cell_type": "markdown",
      "source": [
        "* We observe that the words are still note being predicted accurately"
      ],
      "metadata": {
        "id": "y2chgJH7CV3C"
      }
    },
    {
      "cell_type": "markdown",
      "source": [
        "## Using Word Distances\n"
      ],
      "metadata": {
        "id": "LRt-YlF0CqO2"
      }
    },
    {
      "cell_type": "code",
      "source": [
        "sentences = df['sentence'].tolist() + df['predictions'].tolist()\n",
        "tokenizer = Tokenizer(oov_token='OOV')\n",
        "tokenizer.fit_on_texts(sentences)\n",
        "vocab_size = len(tokenizer.word_index) + 1"
      ],
      "metadata": {
        "id": "IYrzR6Vd11ub"
      },
      "execution_count": 100,
      "outputs": []
    },
    {
      "cell_type": "code",
      "source": [
        "print(f'Vocabulary Size is {vocab_size}')"
      ],
      "metadata": {
        "colab": {
          "base_uri": "https://localhost:8080/"
        },
        "id": "yD-11xAI2DV8",
        "outputId": "7207ec27-5b4e-4db9-95c7-2ae3c5cd4652"
      },
      "execution_count": 101,
      "outputs": [
        {
          "output_type": "stream",
          "name": "stdout",
          "text": [
            "Vocabulary Size is 3096\n"
          ]
        }
      ]
    },
    {
      "cell_type": "markdown",
      "source": [
        "## Using Cosine Distances"
      ],
      "metadata": {
        "id": "d77Lkp8QCwYm"
      }
    },
    {
      "cell_type": "code",
      "source": [
        "from scipy.spatial.distance import cosine\n",
        "from tensorflow.keras.layers import Embedding"
      ],
      "metadata": {
        "id": "Glpq52wI2HV4"
      },
      "execution_count": 102,
      "outputs": []
    },
    {
      "cell_type": "markdown",
      "source": [
        "## Defining Functions for Word to Word Distance, Sentence to Sentence Distance and Total Sentence Distance"
      ],
      "metadata": {
        "id": "mki7m7vvCypz"
      }
    },
    {
      "cell_type": "code",
      "source": [
        "def word_to_word(w1,w2):\n",
        "    x1 = np.array(tokenizer.texts_to_sequences([w1])[0])\n",
        "    x2 = np.array(tokenizer.texts_to_sequences([w2])[0])\n",
        "    word_vector = Embedding(vocab_size, 16, input_length=1)\n",
        "    v1 = word_vector(x1)\n",
        "    v2 = word_vector(x2)\n",
        "    distance = cosine(v1,v2)\n",
        "    return round(distance,2)\n",
        "\n",
        "def sentence_total(sent1,sent2):\n",
        "    total_dist = 0\n",
        "    for word1,word2 in zip(sent1.split(),sent2.split()):\n",
        "        total_dist+=word_to_word(word1,word2)\n",
        "    return total_dist\n",
        "\n",
        "def sentence_to_sentence(sent1,sent2):\n",
        "    dist = \"\"\n",
        "    for word1,word2 in zip(sent1.split(),sent2.split()):\n",
        "        dist+=str(word_to_word(word1,word2))+','\n",
        "    dist = dist.strip(\",\")\n",
        "    return dist"
      ],
      "metadata": {
        "id": "gYJOsaUU2Og0"
      },
      "execution_count": 103,
      "outputs": []
    },
    {
      "cell_type": "code",
      "source": [
        "df['wd'] = df.progress_apply(lambda x: sentence_to_sentence(x['sentence'],x['predictions']),axis=1)\n",
        "df['total_wd'] = df.progress_apply(lambda x: sentence_total(x['sentence'],x['predictions']),axis=1)"
      ],
      "metadata": {
        "colab": {
          "base_uri": "https://localhost:8080/",
          "height": 81,
          "referenced_widgets": [
            "e03a4da48fb34cc68fab2a92aecd5bea",
            "993786c741d24a7789c82f7136f9c34a",
            "ff6efd9fb54546ebbd7cc0dca6e976ef",
            "cd9d0f3ac6844da583cf6eb72ec17740",
            "e36509eeeef7404489a34ca8e1dbf88d",
            "90978ec1447f4f649764a337e3ab91ef",
            "9af427e05e444a19bcd4412991bbe120",
            "52e43dd10c7b48b58c3dd147bca949d9",
            "8105f9d89ad04229957019ec3c4504bd",
            "6d02a460e03f46078ecb3979ead53731",
            "c9208f6471664b5096b1ef1dfc4cbd4e",
            "8a0364aa889a4676acbffc29145cb878",
            "bdd548b426074a2a9e75fc10e87f6e2c",
            "83bec2d9e49a42469a0320938d25e9ea",
            "5348d16dfd804d01b7c79f4439ce67be",
            "2244dcc6f0de4c73bc09fae12a4689fa",
            "f8d27162f8e34a55b23ac7441bac1a12",
            "84e0da8a1c934e09b1a0d03580395434",
            "521bd7e576f34d779f25c48353f9838b",
            "0c418b24310f45ba8f425503f14b283c",
            "e359a1f9eb964f6584b8669400620769",
            "2de4ff16ef2e43da8f00b4b0ee398fc5"
          ]
        },
        "id": "4P5abxrb23RC",
        "outputId": "385eb4f9-b419-4d46-89e0-ebf282e362e8"
      },
      "execution_count": 104,
      "outputs": [
        {
          "output_type": "display_data",
          "data": {
            "text/plain": [
              "  0%|          | 0/1900 [00:00<?, ?it/s]"
            ],
            "application/vnd.jupyter.widget-view+json": {
              "version_major": 2,
              "version_minor": 0,
              "model_id": "e03a4da48fb34cc68fab2a92aecd5bea"
            }
          },
          "metadata": {}
        },
        {
          "output_type": "display_data",
          "data": {
            "text/plain": [
              "  0%|          | 0/1900 [00:00<?, ?it/s]"
            ],
            "application/vnd.jupyter.widget-view+json": {
              "version_major": 2,
              "version_minor": 0,
              "model_id": "8a0364aa889a4676acbffc29145cb878"
            }
          },
          "metadata": {}
        }
      ]
    },
    {
      "cell_type": "markdown",
      "source": [
        "## Distances introduced to DataFrame"
      ],
      "metadata": {
        "id": "ZoHdn4w3C7TY"
      }
    },
    {
      "cell_type": "code",
      "source": [
        "df.head()"
      ],
      "metadata": {
        "colab": {
          "base_uri": "https://localhost:8080/",
          "height": 250
        },
        "id": "uL4_gwmG236B",
        "outputId": "e9ec2e71-eca0-4097-984d-3e795a3394a7"
      },
      "execution_count": 105,
      "outputs": [
        {
          "output_type": "execute_result",
          "data": {
            "text/plain": [
              "         speaker                                           sentence  \\\n",
              "0     /MTJS0/SA2        don't ask me to carry an oily rag like that   \n",
              "1   /MTJS0/SX292  these exclusive documents must be locked up at...   \n",
              "2  /MTJS0/SI1822  but to the infuriation of scientists for no kn...   \n",
              "3   /MTJS0/SX112         tugboats are capable of hauling huge loads   \n",
              "4   /MTJS0/SI562  family loyalties and cooperative work have bee...   \n",
              "\n",
              "                                            phonemes  \\\n",
              "0  d ow nx  ae s kcl  m iy  dx ix  kcl k ae r iy ...   \n",
              "1  dh iy z  ix kcl k s kcl k l uw s ax v  dcl d a...   \n",
              "2  b ah tcl  t ih  dh iy  ix n f y er r iy ey sh ...   \n",
              "3  t ah gcl b ow tcl s  ix  kcl k ey pcl p ax bcl...   \n",
              "4  f ae m l iy  l oy el tcl t iy z  ix ng  kcl k ...   \n",
              "\n",
              "                                         predictions dialect  \\\n",
              "0        don't ask me to carry an oily rag like that     DR1   \n",
              "1  these excitement documents many be locked up i...     DR1   \n",
              "2  but to the available of system for no known da...     DR1   \n",
              "3      tugboats a capitalists of hauling wide overly     DR1   \n",
              "4  moment system in disclaimer work he'll been av...     DR1   \n",
              "\n",
              "                                             wd  total_wd  \n",
              "0                           0,0,0,0,0,0,0,0,0,0      0.00  \n",
              "1                  0,0.95,0,1.26,0,0,0,0.63,0,0      2.65  \n",
              "2  0,0,0,1.01,0,0.99,0,0,0,1.43,0,0,1.22,0,1.08      5.36  \n",
              "3                      0,0.81,1.0,0,0,1.19,1.04      4.05  \n",
              "4       1.38,0.75,1.21,0.99,0,0.77,0,1.06,0,1.0      6.94  "
            ],
            "text/html": [
              "\n",
              "  <div id=\"df-9cbcb388-fd5e-4584-9a19-c6c4dcf4c6e3\">\n",
              "    <div class=\"colab-df-container\">\n",
              "      <div>\n",
              "<style scoped>\n",
              "    .dataframe tbody tr th:only-of-type {\n",
              "        vertical-align: middle;\n",
              "    }\n",
              "\n",
              "    .dataframe tbody tr th {\n",
              "        vertical-align: top;\n",
              "    }\n",
              "\n",
              "    .dataframe thead th {\n",
              "        text-align: right;\n",
              "    }\n",
              "</style>\n",
              "<table border=\"1\" class=\"dataframe\">\n",
              "  <thead>\n",
              "    <tr style=\"text-align: right;\">\n",
              "      <th></th>\n",
              "      <th>speaker</th>\n",
              "      <th>sentence</th>\n",
              "      <th>phonemes</th>\n",
              "      <th>predictions</th>\n",
              "      <th>dialect</th>\n",
              "      <th>wd</th>\n",
              "      <th>total_wd</th>\n",
              "    </tr>\n",
              "  </thead>\n",
              "  <tbody>\n",
              "    <tr>\n",
              "      <th>0</th>\n",
              "      <td>/MTJS0/SA2</td>\n",
              "      <td>don't ask me to carry an oily rag like that</td>\n",
              "      <td>d ow nx  ae s kcl  m iy  dx ix  kcl k ae r iy ...</td>\n",
              "      <td>don't ask me to carry an oily rag like that</td>\n",
              "      <td>DR1</td>\n",
              "      <td>0,0,0,0,0,0,0,0,0,0</td>\n",
              "      <td>0.00</td>\n",
              "    </tr>\n",
              "    <tr>\n",
              "      <th>1</th>\n",
              "      <td>/MTJS0/SX292</td>\n",
              "      <td>these exclusive documents must be locked up at...</td>\n",
              "      <td>dh iy z  ix kcl k s kcl k l uw s ax v  dcl d a...</td>\n",
              "      <td>these excitement documents many be locked up i...</td>\n",
              "      <td>DR1</td>\n",
              "      <td>0,0.95,0,1.26,0,0,0,0.63,0,0</td>\n",
              "      <td>2.65</td>\n",
              "    </tr>\n",
              "    <tr>\n",
              "      <th>2</th>\n",
              "      <td>/MTJS0/SI1822</td>\n",
              "      <td>but to the infuriation of scientists for no kn...</td>\n",
              "      <td>b ah tcl  t ih  dh iy  ix n f y er r iy ey sh ...</td>\n",
              "      <td>but to the available of system for no known da...</td>\n",
              "      <td>DR1</td>\n",
              "      <td>0,0,0,1.01,0,0.99,0,0,0,1.43,0,0,1.22,0,1.08</td>\n",
              "      <td>5.36</td>\n",
              "    </tr>\n",
              "    <tr>\n",
              "      <th>3</th>\n",
              "      <td>/MTJS0/SX112</td>\n",
              "      <td>tugboats are capable of hauling huge loads</td>\n",
              "      <td>t ah gcl b ow tcl s  ix  kcl k ey pcl p ax bcl...</td>\n",
              "      <td>tugboats a capitalists of hauling wide overly</td>\n",
              "      <td>DR1</td>\n",
              "      <td>0,0.81,1.0,0,0,1.19,1.04</td>\n",
              "      <td>4.05</td>\n",
              "    </tr>\n",
              "    <tr>\n",
              "      <th>4</th>\n",
              "      <td>/MTJS0/SI562</td>\n",
              "      <td>family loyalties and cooperative work have bee...</td>\n",
              "      <td>f ae m l iy  l oy el tcl t iy z  ix ng  kcl k ...</td>\n",
              "      <td>moment system in disclaimer work he'll been av...</td>\n",
              "      <td>DR1</td>\n",
              "      <td>1.38,0.75,1.21,0.99,0,0.77,0,1.06,0,1.0</td>\n",
              "      <td>6.94</td>\n",
              "    </tr>\n",
              "  </tbody>\n",
              "</table>\n",
              "</div>\n",
              "      <button class=\"colab-df-convert\" onclick=\"convertToInteractive('df-9cbcb388-fd5e-4584-9a19-c6c4dcf4c6e3')\"\n",
              "              title=\"Convert this dataframe to an interactive table.\"\n",
              "              style=\"display:none;\">\n",
              "        \n",
              "  <svg xmlns=\"http://www.w3.org/2000/svg\" height=\"24px\"viewBox=\"0 0 24 24\"\n",
              "       width=\"24px\">\n",
              "    <path d=\"M0 0h24v24H0V0z\" fill=\"none\"/>\n",
              "    <path d=\"M18.56 5.44l.94 2.06.94-2.06 2.06-.94-2.06-.94-.94-2.06-.94 2.06-2.06.94zm-11 1L8.5 8.5l.94-2.06 2.06-.94-2.06-.94L8.5 2.5l-.94 2.06-2.06.94zm10 10l.94 2.06.94-2.06 2.06-.94-2.06-.94-.94-2.06-.94 2.06-2.06.94z\"/><path d=\"M17.41 7.96l-1.37-1.37c-.4-.4-.92-.59-1.43-.59-.52 0-1.04.2-1.43.59L10.3 9.45l-7.72 7.72c-.78.78-.78 2.05 0 2.83L4 21.41c.39.39.9.59 1.41.59.51 0 1.02-.2 1.41-.59l7.78-7.78 2.81-2.81c.8-.78.8-2.07 0-2.86zM5.41 20L4 18.59l7.72-7.72 1.47 1.35L5.41 20z\"/>\n",
              "  </svg>\n",
              "      </button>\n",
              "      \n",
              "  <style>\n",
              "    .colab-df-container {\n",
              "      display:flex;\n",
              "      flex-wrap:wrap;\n",
              "      gap: 12px;\n",
              "    }\n",
              "\n",
              "    .colab-df-convert {\n",
              "      background-color: #E8F0FE;\n",
              "      border: none;\n",
              "      border-radius: 50%;\n",
              "      cursor: pointer;\n",
              "      display: none;\n",
              "      fill: #1967D2;\n",
              "      height: 32px;\n",
              "      padding: 0 0 0 0;\n",
              "      width: 32px;\n",
              "    }\n",
              "\n",
              "    .colab-df-convert:hover {\n",
              "      background-color: #E2EBFA;\n",
              "      box-shadow: 0px 1px 2px rgba(60, 64, 67, 0.3), 0px 1px 3px 1px rgba(60, 64, 67, 0.15);\n",
              "      fill: #174EA6;\n",
              "    }\n",
              "\n",
              "    [theme=dark] .colab-df-convert {\n",
              "      background-color: #3B4455;\n",
              "      fill: #D2E3FC;\n",
              "    }\n",
              "\n",
              "    [theme=dark] .colab-df-convert:hover {\n",
              "      background-color: #434B5C;\n",
              "      box-shadow: 0px 1px 3px 1px rgba(0, 0, 0, 0.15);\n",
              "      filter: drop-shadow(0px 1px 2px rgba(0, 0, 0, 0.3));\n",
              "      fill: #FFFFFF;\n",
              "    }\n",
              "  </style>\n",
              "\n",
              "      <script>\n",
              "        const buttonEl =\n",
              "          document.querySelector('#df-9cbcb388-fd5e-4584-9a19-c6c4dcf4c6e3 button.colab-df-convert');\n",
              "        buttonEl.style.display =\n",
              "          google.colab.kernel.accessAllowed ? 'block' : 'none';\n",
              "\n",
              "        async function convertToInteractive(key) {\n",
              "          const element = document.querySelector('#df-9cbcb388-fd5e-4584-9a19-c6c4dcf4c6e3');\n",
              "          const dataTable =\n",
              "            await google.colab.kernel.invokeFunction('convertToInteractive',\n",
              "                                                     [key], {});\n",
              "          if (!dataTable) return;\n",
              "\n",
              "          const docLinkHtml = 'Like what you see? Visit the ' +\n",
              "            '<a target=\"_blank\" href=https://colab.research.google.com/notebooks/data_table.ipynb>data table notebook</a>'\n",
              "            + ' to learn more about interactive tables.';\n",
              "          element.innerHTML = '';\n",
              "          dataTable['output_type'] = 'display_data';\n",
              "          await google.colab.output.renderOutput(dataTable, element);\n",
              "          const docLink = document.createElement('div');\n",
              "          docLink.innerHTML = docLinkHtml;\n",
              "          element.appendChild(docLink);\n",
              "        }\n",
              "      </script>\n",
              "    </div>\n",
              "  </div>\n",
              "  "
            ]
          },
          "metadata": {},
          "execution_count": 105
        }
      ]
    },
    {
      "cell_type": "code",
      "source": [
        "import matplotlib.pyplot as plt"
      ],
      "metadata": {
        "id": "-MSVNhk83Zyz"
      },
      "execution_count": 106,
      "outputs": []
    },
    {
      "cell_type": "markdown",
      "source": [
        "## Ploting Distributions of These Distances"
      ],
      "metadata": {
        "id": "57aSqLrFC_1r"
      }
    },
    {
      "cell_type": "code",
      "source": [
        "fig, ax = plt.subplots(nrows=2)\n",
        "fig.tight_layout(pad=2.0)\n",
        "ax[0].hist(df[df['dialect'].isin(['DR1','DR2'])]['total_wd'])\n",
        "ax[0].set_title(\"Word Sentence Distribution for Dialect 1 and Dialect 2\")\n",
        "ax[1].hist(df[df['dialect'].isin(['DR3'])]['total_wd'])\n",
        "ax[1].set_title(\"Word Sentence Distribution for Dialect 3\")"
      ],
      "metadata": {
        "colab": {
          "base_uri": "https://localhost:8080/",
          "height": 308
        },
        "id": "nyNcsRkm7TE0",
        "outputId": "c7a39502-93e6-411a-888b-5ce2a976c38e"
      },
      "execution_count": 107,
      "outputs": [
        {
          "output_type": "execute_result",
          "data": {
            "text/plain": [
              "Text(0.5, 1.0, 'Word Sentence Distribution for Dialect 3')"
            ]
          },
          "metadata": {},
          "execution_count": 107
        },
        {
          "output_type": "display_data",
          "data": {
            "text/plain": [
              "<Figure size 432x288 with 2 Axes>"
            ],
            "image/png": "[encoded data removed]"
          },
          "metadata": {
            "needs_background": "light"
          }
        }
      ]
    },
    {
      "cell_type": "markdown",
      "source": [
        "## Getting Distances in The Training Set"
      ],
      "metadata": {
        "id": "eTF4WrneDCdA"
      }
    },
    {
      "cell_type": "code",
      "source": [
        "for i in range(3):\n",
        "    print(f\"Actual: \",df.iloc[i].sentence)\n",
        "    print(f\"\\nPredicted: \",df.iloc[i].predictions)\n",
        "    print(f\"\\nWord Dist: \",df.iloc[i].wd)\n",
        "    print(\"\\n\")"
      ],
      "metadata": {
        "colab": {
          "base_uri": "https://localhost:8080/"
        },
        "id": "s0w1yGjc4vng",
        "outputId": "e108fbd3-2d11-4028-f68a-a9b3a8c237ac"
      },
      "execution_count": 108,
      "outputs": [
        {
          "output_type": "stream",
          "name": "stdout",
          "text": [
            "Actual:  don't ask me to carry an oily rag like that\n",
            "\n",
            "Predicted:  don't ask me to carry an oily rag like that\n",
            "\n",
            "Word Dist:  0,0,0,0,0,0,0,0,0,0\n",
            "\n",
            "\n",
            "Actual:  these exclusive documents must be locked up at all times\n",
            "\n",
            "Predicted:  these excitement documents many be locked up it all times\n",
            "\n",
            "Word Dist:  0,0.95,0,1.26,0,0,0,0.63,0,0\n",
            "\n",
            "\n",
            "Actual:  but to the infuriation of scientists for no known reason not all of them did\n",
            "\n",
            "Predicted:  but to the available of system for no known damage not all a them deal\n",
            "\n",
            "Word Dist:  0,0,0,1.01,0,0.99,0,0,0,1.43,0,0,1.22,0,1.08\n",
            "\n",
            "\n"
          ]
        }
      ]
    },
    {
      "cell_type": "markdown",
      "source": [
        "## Getting Distances in the Test Set"
      ],
      "metadata": {
        "id": "rMMqJ5PwDHAz"
      }
    },
    {
      "cell_type": "code",
      "source": [
        "for i in range(3):\n",
        "    print(f\"Actual: \",df[df['dialect']=='DR3'].iloc[i].sentence)\n",
        "    print(f\"\\nPredicted: \",df[df['dialect']=='DR3'].iloc[i].predictions)\n",
        "    print(f\"\\nWord Dist: \",df[df['dialect']=='DR3'].iloc[i].wd)\n",
        "    print(\"\\n\")"
      ],
      "metadata": {
        "colab": {
          "base_uri": "https://localhost:8080/"
        },
        "id": "pLNFtTiU5NvH",
        "outputId": "805f8a6b-be47-42a4-fdad-4074ca6004ab"
      },
      "execution_count": 109,
      "outputs": [
        {
          "output_type": "stream",
          "name": "stdout",
          "text": [
            "Actual:  don't ask me to carry an oily rag like that\n",
            "\n",
            "Predicted:  don't ask me to carry an oily rag like that\n",
            "\n",
            "Word Dist:  0,0,0,0,0,0,0,0,0,0\n",
            "\n",
            "\n",
            "Actual:  why the hell didn't you come out when you saw them gang up on me\n",
            "\n",
            "Predicted:  why the have dealers you caused are when you saw them grow up on me\n",
            "\n",
            "Word Dist:  0,0,1.09,0.84,0,0.93,0.74,0,0,0,0,1.31,0,0,0\n",
            "\n",
            "\n",
            "Actual:  the overweight charmer could slip poison into anyone's tea\n",
            "\n",
            "Predicted:  the only remove could slightly film into anyone's to\n",
            "\n",
            "Word Dist:  0,1.01,1.09,0,0.72,0.8,0,0,0.93\n",
            "\n",
            "\n"
          ]
        }
      ]
    }
  ]
}