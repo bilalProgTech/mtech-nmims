{
  "nbformat": 4,
  "nbformat_minor": 0,
  "metadata": {
    "colab": {
      "provenance": [],
      "collapsed_sections": [
        "o2v48nKPudlk",
        "SQum8vW_0fOy",
        "TSFxsM150jlz",
        "KnfmqLXH46GU",
        "pZhzDisY7eWz"
      ]
    },
    "kernelspec": {
      "name": "python3",
      "display_name": "Python 3"
    },
    "language_info": {
      "name": "python"
    },
    "accelerator": "GPU",
    "gpuClass": "standard"
  },
  "cells": [
    {
      "cell_type": "code",
      "execution_count": null,
      "metadata": {
        "id": "at93KBC_cPKD"
      },
      "outputs": [],
      "source": [
        "import warnings\n",
        "warnings.filterwarnings(\"ignore\")"
      ]
    },
    {
      "cell_type": "code",
      "source": [
        "import librosa\n",
        "import librosa.display\n",
        "from sklearn.preprocessing import minmax_scale\n",
        "import IPython.display as ipd\n",
        "import matplotlib.pyplot as plt\n",
        "%matplotlib inline\n",
        "import numpy as np\n",
        "import pandas as pd\n",
        "import os,random,shutil\n",
        "from sklearn.linear_model import LogisticRegression\n",
        "from sklearn.model_selection import train_test_split\n",
        "from sklearn.preprocessing import StandardScaler\n",
        "from sklearn.metrics import ConfusionMatrixDisplay,accuracy_score\n",
        "import tensorflow as tf\n",
        "from tensorflow.keras import regularizers\n",
        "from sklearn.model_selection import train_test_split\n",
        "import tensorflow as tf\n",
        "from tensorflow.keras.preprocessing.image import ImageDataGenerator\n",
        "from tensorflow.keras.layers import Conv2D, MaxPooling2D, Dropout, UpSampling2D,add\n",
        "import keras\n",
        "from matplotlib import pyplot as plt\n",
        "import numpy as np\n",
        "from keras.layers import Input,Conv2D,MaxPooling2D,UpSampling2D\n",
        "from keras.models import Model\n",
        "import soundfile\n",
        "from tensorflow import keras\n",
        "from tensorflow.keras import layers"
      ],
      "metadata": {
        "id": "Og-zmjHOdK3C"
      },
      "execution_count": null,
      "outputs": []
    },
    {
      "cell_type": "markdown",
      "source": [
        "#Data Loading"
      ],
      "metadata": {
        "id": "BNgSUp7O-eS0"
      }
    },
    {
      "cell_type": "code",
      "source": [
        "os.environ['KAGGLE_CONFIG_DIR']='/content'\n",
        "!kaggle datasets download -d uwrfkaggler/ravdess-emotional-speech-audio"
      ],
      "metadata": {
        "colab": {
          "base_uri": "https://localhost:8080/"
        },
        "id": "J6SzuGAYhQRT",
        "outputId": "e53a4c20-1eaa-477e-81ee-284c30b90759"
      },
      "execution_count": null,
      "outputs": [
        {
          "output_type": "stream",
          "name": "stdout",
          "text": [
            "Warning: Your Kaggle API key is readable by other users on this system! To fix this, you can run 'chmod 600 /content/kaggle.json'\n",
            "Downloading ravdess-emotional-speech-audio.zip to /content\n",
            " 96% 414M/429M [00:01<00:00, 292MB/s]\n",
            "100% 429M/429M [00:01<00:00, 274MB/s]\n"
          ]
        }
      ]
    },
    {
      "cell_type": "code",
      "source": [
        "os.makedirs(\"/content/Happy\")\n",
        "os.makedirs(\"/content/Sad\")\n",
        "os.makedirs(\"/content/input\")\n",
        "\n",
        "name = ('03-01-03-01-01-01',\n",
        "        '03-01-03-01-01-02',\n",
        "        '03-01-03-01-02-01',\n",
        "        '03-01-03-02-02-01',\n",
        "        '03-01-03-02-02-02',\n",
        "        '03-01-04-01-01-01',\n",
        "        '03-01-04-01-01-02',\n",
        "        '03-01-04-01-02-01',\n",
        "        '03-01-04-01-02-02',\n",
        "        '03-01-04-02-01-01',\n",
        "        '03-01-04-02-01-02',\n",
        "        '03-01-04-02-02-01',\n",
        "        '03-01-03-01-02-02',\n",
        "        '03-01-03-02-01-01',\n",
        "        '03-01-03-02-01-02',\n",
        "        '03-01-04-02-02-02')\n"
      ],
      "metadata": {
        "id": "Is8eqOQYdMNh"
      },
      "execution_count": null,
      "outputs": []
    },
    {
      "cell_type": "code",
      "source": [
        "!unzip -qq ravdess-emotional-speech-audio.zip -d input"
      ],
      "metadata": {
        "id": "htDScYnqhXLG"
      },
      "execution_count": null,
      "outputs": []
    },
    {
      "cell_type": "markdown",
      "source": [
        "#Data Preprocessing"
      ],
      "metadata": {
        "id": "A3uLciUG-g_c"
      }
    },
    {
      "cell_type": "code",
      "source": [
        "i = 1\n",
        "for dirname, _, filenames in os.walk('/content/input'):\n",
        "    for filename in filenames:\n",
        "        if filename.startswith(name):\n",
        "            i = i+1\n",
        "            if filename.startswith((\"03-01-03\")):\n",
        "                shutil.copy(os.path.join(dirname, filename),\"/content/Happy/\")\n",
        "            else:\n",
        "                shutil.copy(os.path.join(dirname, filename),\"/content/Sad/\")\n",
        "            \n",
        "print(\"Count = \",i)"
      ],
      "metadata": {
        "colab": {
          "base_uri": "https://localhost:8080/"
        },
        "id": "2GmG_LrCgqng",
        "outputId": "b26c5d2f-f717-4002-cd2d-416f46238371"
      },
      "execution_count": null,
      "outputs": [
        {
          "output_type": "stream",
          "name": "stdout",
          "text": [
            "Count =  769\n"
          ]
        }
      ]
    },
    {
      "cell_type": "code",
      "source": [
        "i = 0\n",
        "mfcc_happy = []\n",
        "for dirname, _, filenames in os.walk('/content/'):\n",
        "    print(dirname)\n",
        "    if dirname == \"/content/Happy\":\n",
        "        for filename in filenames:\n",
        "            if filename.endswith(\".wav\"):\n",
        "                a = os.path.join(dirname, filename)\n",
        "                x, sr = librosa.load(a)\n",
        "                mfccs = librosa.feature.mfcc(y=x, sr=sr, n_mfcc=64)\n",
        "                mean = np.mean((mfccs).T,axis = 0)\n",
        "                mfcc_happy.append(mean)\n",
        "                i = i+1\n",
        "                if i == 250:\n",
        "                    break\n",
        "        "
      ],
      "metadata": {
        "colab": {
          "base_uri": "https://localhost:8080/"
        },
        "id": "igYszZfBiOvY",
        "outputId": "1132ebff-f61b-477d-b15a-95fc1c161975"
      },
      "execution_count": null,
      "outputs": [
        {
          "output_type": "stream",
          "name": "stdout",
          "text": [
            "/content/\n",
            "/content/.config\n",
            "/content/.config/logs\n",
            "/content/.config/logs/2022.10.27\n",
            "/content/.config/configurations\n",
            "/content/Sad\n",
            "/content/Happy\n",
            "/content/input\n",
            "/content/input/Actor_03\n",
            "/content/input/Actor_12\n",
            "/content/input/Actor_04\n",
            "/content/input/Actor_21\n",
            "/content/input/Actor_07\n",
            "/content/input/Actor_01\n",
            "/content/input/Actor_06\n",
            "/content/input/Actor_02\n",
            "/content/input/audio_speech_actors_01-24\n",
            "/content/input/audio_speech_actors_01-24/Actor_03\n",
            "/content/input/audio_speech_actors_01-24/Actor_12\n",
            "/content/input/audio_speech_actors_01-24/Actor_04\n",
            "/content/input/audio_speech_actors_01-24/Actor_21\n",
            "/content/input/audio_speech_actors_01-24/Actor_07\n",
            "/content/input/audio_speech_actors_01-24/Actor_01\n",
            "/content/input/audio_speech_actors_01-24/Actor_06\n",
            "/content/input/audio_speech_actors_01-24/Actor_02\n",
            "/content/input/audio_speech_actors_01-24/Actor_17\n",
            "/content/input/audio_speech_actors_01-24/Actor_15\n",
            "/content/input/audio_speech_actors_01-24/Actor_23\n",
            "/content/input/audio_speech_actors_01-24/Actor_13\n",
            "/content/input/audio_speech_actors_01-24/Actor_14\n",
            "/content/input/audio_speech_actors_01-24/Actor_09\n",
            "/content/input/audio_speech_actors_01-24/Actor_18\n",
            "/content/input/audio_speech_actors_01-24/Actor_11\n",
            "/content/input/audio_speech_actors_01-24/Actor_20\n",
            "/content/input/audio_speech_actors_01-24/Actor_08\n",
            "/content/input/audio_speech_actors_01-24/Actor_10\n",
            "/content/input/audio_speech_actors_01-24/Actor_24\n",
            "/content/input/audio_speech_actors_01-24/Actor_05\n",
            "/content/input/audio_speech_actors_01-24/Actor_22\n",
            "/content/input/audio_speech_actors_01-24/Actor_16\n",
            "/content/input/audio_speech_actors_01-24/Actor_19\n",
            "/content/input/Actor_17\n",
            "/content/input/Actor_15\n",
            "/content/input/Actor_23\n",
            "/content/input/Actor_13\n",
            "/content/input/Actor_14\n",
            "/content/input/Actor_09\n",
            "/content/input/Actor_18\n",
            "/content/input/Actor_11\n",
            "/content/input/Actor_20\n",
            "/content/input/Actor_08\n",
            "/content/input/Actor_10\n",
            "/content/input/Actor_24\n",
            "/content/input/Actor_05\n",
            "/content/input/Actor_22\n",
            "/content/input/Actor_16\n",
            "/content/input/Actor_19\n",
            "/content/sample_data\n"
          ]
        }
      ]
    },
    {
      "cell_type": "code",
      "source": [
        "i = 0\n",
        "melspec_happy = []\n",
        "for dirname, _, filenames in os.walk('/content/'):\n",
        "    print(dirname)\n",
        "    if dirname == \"/content/Happy\":\n",
        "        for filename in filenames:\n",
        "            if filename.endswith(\".wav\"):\n",
        "                a = os.path.join(dirname, filename)\n",
        "                x, sr = librosa.load(a)\n",
        "        \n",
        "                mel = librosa.feature.melspectrogram(y=x, sr=sr, n_mels=64)\n",
        "                mean = np.mean((mel).T,axis = 0)\n",
        "                melspec_happy.append(mean)\n",
        "                i = i+1\n",
        "                if i == 250:\n",
        "                    break"
      ],
      "metadata": {
        "colab": {
          "base_uri": "https://localhost:8080/"
        },
        "id": "fwUXlT97lBaQ",
        "outputId": "a8da5c88-59c9-450b-eda2-02bd6cc01afe"
      },
      "execution_count": null,
      "outputs": [
        {
          "output_type": "stream",
          "name": "stdout",
          "text": [
            "/content/\n",
            "/content/.config\n",
            "/content/.config/logs\n",
            "/content/.config/logs/2022.10.27\n",
            "/content/.config/configurations\n",
            "/content/Sad\n",
            "/content/Happy\n",
            "/content/input\n",
            "/content/input/Actor_03\n",
            "/content/input/Actor_12\n",
            "/content/input/Actor_04\n",
            "/content/input/Actor_21\n",
            "/content/input/Actor_07\n",
            "/content/input/Actor_01\n",
            "/content/input/Actor_06\n",
            "/content/input/Actor_02\n",
            "/content/input/audio_speech_actors_01-24\n",
            "/content/input/audio_speech_actors_01-24/Actor_03\n",
            "/content/input/audio_speech_actors_01-24/Actor_12\n",
            "/content/input/audio_speech_actors_01-24/Actor_04\n",
            "/content/input/audio_speech_actors_01-24/Actor_21\n",
            "/content/input/audio_speech_actors_01-24/Actor_07\n",
            "/content/input/audio_speech_actors_01-24/Actor_01\n",
            "/content/input/audio_speech_actors_01-24/Actor_06\n",
            "/content/input/audio_speech_actors_01-24/Actor_02\n",
            "/content/input/audio_speech_actors_01-24/Actor_17\n",
            "/content/input/audio_speech_actors_01-24/Actor_15\n",
            "/content/input/audio_speech_actors_01-24/Actor_23\n",
            "/content/input/audio_speech_actors_01-24/Actor_13\n",
            "/content/input/audio_speech_actors_01-24/Actor_14\n",
            "/content/input/audio_speech_actors_01-24/Actor_09\n",
            "/content/input/audio_speech_actors_01-24/Actor_18\n",
            "/content/input/audio_speech_actors_01-24/Actor_11\n",
            "/content/input/audio_speech_actors_01-24/Actor_20\n",
            "/content/input/audio_speech_actors_01-24/Actor_08\n",
            "/content/input/audio_speech_actors_01-24/Actor_10\n",
            "/content/input/audio_speech_actors_01-24/Actor_24\n",
            "/content/input/audio_speech_actors_01-24/Actor_05\n",
            "/content/input/audio_speech_actors_01-24/Actor_22\n",
            "/content/input/audio_speech_actors_01-24/Actor_16\n",
            "/content/input/audio_speech_actors_01-24/Actor_19\n",
            "/content/input/Actor_17\n",
            "/content/input/Actor_15\n",
            "/content/input/Actor_23\n",
            "/content/input/Actor_13\n",
            "/content/input/Actor_14\n",
            "/content/input/Actor_09\n",
            "/content/input/Actor_18\n",
            "/content/input/Actor_11\n",
            "/content/input/Actor_20\n",
            "/content/input/Actor_08\n",
            "/content/input/Actor_10\n",
            "/content/input/Actor_24\n",
            "/content/input/Actor_05\n",
            "/content/input/Actor_22\n",
            "/content/input/Actor_16\n",
            "/content/input/Actor_19\n",
            "/content/sample_data\n"
          ]
        }
      ]
    },
    {
      "cell_type": "code",
      "source": [
        "i = 0\n",
        "mfcc_sad = []\n",
        "for dirname, _, filenames in os.walk('/content/'):\n",
        "    print(dirname)\n",
        "    if dirname == \"/content/Happy\":\n",
        "        for filename in filenames:\n",
        "            if filename.endswith(\".wav\"):\n",
        "                a = os.path.join(dirname, filename)\n",
        "                x, sr = librosa.load(a)\n",
        "                mfccs = librosa.feature.mfcc(y=x, sr=sr, n_mfcc=64)\n",
        "                mean = np.mean((mfccs).T,axis = 0)\n",
        "                mfcc_sad.append(mean)\n",
        "                i = i+1\n",
        "                if i == 250:\n",
        "                    break"
      ],
      "metadata": {
        "colab": {
          "base_uri": "https://localhost:8080/"
        },
        "id": "umLNA8x5j42X",
        "outputId": "4758104d-3e6c-4b41-c46c-bd66ccd7cfe4"
      },
      "execution_count": null,
      "outputs": [
        {
          "output_type": "stream",
          "name": "stdout",
          "text": [
            "/content/\n",
            "/content/.config\n",
            "/content/.config/logs\n",
            "/content/.config/logs/2022.10.27\n",
            "/content/.config/configurations\n",
            "/content/Sad\n",
            "/content/Happy\n",
            "/content/input\n",
            "/content/input/Actor_03\n",
            "/content/input/Actor_12\n",
            "/content/input/Actor_04\n",
            "/content/input/Actor_21\n",
            "/content/input/Actor_07\n",
            "/content/input/Actor_01\n",
            "/content/input/Actor_06\n",
            "/content/input/Actor_02\n",
            "/content/input/audio_speech_actors_01-24\n",
            "/content/input/audio_speech_actors_01-24/Actor_03\n",
            "/content/input/audio_speech_actors_01-24/Actor_12\n",
            "/content/input/audio_speech_actors_01-24/Actor_04\n",
            "/content/input/audio_speech_actors_01-24/Actor_21\n",
            "/content/input/audio_speech_actors_01-24/Actor_07\n",
            "/content/input/audio_speech_actors_01-24/Actor_01\n",
            "/content/input/audio_speech_actors_01-24/Actor_06\n",
            "/content/input/audio_speech_actors_01-24/Actor_02\n",
            "/content/input/audio_speech_actors_01-24/Actor_17\n",
            "/content/input/audio_speech_actors_01-24/Actor_15\n",
            "/content/input/audio_speech_actors_01-24/Actor_23\n",
            "/content/input/audio_speech_actors_01-24/Actor_13\n",
            "/content/input/audio_speech_actors_01-24/Actor_14\n",
            "/content/input/audio_speech_actors_01-24/Actor_09\n",
            "/content/input/audio_speech_actors_01-24/Actor_18\n",
            "/content/input/audio_speech_actors_01-24/Actor_11\n",
            "/content/input/audio_speech_actors_01-24/Actor_20\n",
            "/content/input/audio_speech_actors_01-24/Actor_08\n",
            "/content/input/audio_speech_actors_01-24/Actor_10\n",
            "/content/input/audio_speech_actors_01-24/Actor_24\n",
            "/content/input/audio_speech_actors_01-24/Actor_05\n",
            "/content/input/audio_speech_actors_01-24/Actor_22\n",
            "/content/input/audio_speech_actors_01-24/Actor_16\n",
            "/content/input/audio_speech_actors_01-24/Actor_19\n",
            "/content/input/Actor_17\n",
            "/content/input/Actor_15\n",
            "/content/input/Actor_23\n",
            "/content/input/Actor_13\n",
            "/content/input/Actor_14\n",
            "/content/input/Actor_09\n",
            "/content/input/Actor_18\n",
            "/content/input/Actor_11\n",
            "/content/input/Actor_20\n",
            "/content/input/Actor_08\n",
            "/content/input/Actor_10\n",
            "/content/input/Actor_24\n",
            "/content/input/Actor_05\n",
            "/content/input/Actor_22\n",
            "/content/input/Actor_16\n",
            "/content/input/Actor_19\n",
            "/content/sample_data\n"
          ]
        }
      ]
    },
    {
      "cell_type": "code",
      "source": [
        "i = 0\n",
        "melspec_sad = []\n",
        "for dirname, _, filenames in os.walk('/content/'):\n",
        "    print(dirname)\n",
        "    if dirname == \"/content/Sad\":\n",
        "        for filename in filenames:\n",
        "            if filename.endswith(\".wav\"):\n",
        "                a = os.path.join(dirname, filename)\n",
        "                x, sr = librosa.load(a)\n",
        "        \n",
        "                mel = librosa.feature.melspectrogram(y=x, sr=sr, n_mels=64)\n",
        "                mean = np.mean((mel).T,axis = 0)\n",
        "                melspec_sad.append(mean)\n",
        "                i = i+1\n",
        "                if i == 250:\n",
        "                    break"
      ],
      "metadata": {
        "colab": {
          "base_uri": "https://localhost:8080/"
        },
        "id": "jdQGJcX0lQCd",
        "outputId": "9deeb2eb-55da-4c65-b528-de781d163b7f"
      },
      "execution_count": null,
      "outputs": [
        {
          "output_type": "stream",
          "name": "stdout",
          "text": [
            "/content/\n",
            "/content/.config\n",
            "/content/.config/logs\n",
            "/content/.config/logs/2022.10.27\n",
            "/content/.config/configurations\n",
            "/content/Sad\n",
            "/content/Happy\n",
            "/content/input\n",
            "/content/input/Actor_03\n",
            "/content/input/Actor_12\n",
            "/content/input/Actor_04\n",
            "/content/input/Actor_21\n",
            "/content/input/Actor_07\n",
            "/content/input/Actor_01\n",
            "/content/input/Actor_06\n",
            "/content/input/Actor_02\n",
            "/content/input/audio_speech_actors_01-24\n",
            "/content/input/audio_speech_actors_01-24/Actor_03\n",
            "/content/input/audio_speech_actors_01-24/Actor_12\n",
            "/content/input/audio_speech_actors_01-24/Actor_04\n",
            "/content/input/audio_speech_actors_01-24/Actor_21\n",
            "/content/input/audio_speech_actors_01-24/Actor_07\n",
            "/content/input/audio_speech_actors_01-24/Actor_01\n",
            "/content/input/audio_speech_actors_01-24/Actor_06\n",
            "/content/input/audio_speech_actors_01-24/Actor_02\n",
            "/content/input/audio_speech_actors_01-24/Actor_17\n",
            "/content/input/audio_speech_actors_01-24/Actor_15\n",
            "/content/input/audio_speech_actors_01-24/Actor_23\n",
            "/content/input/audio_speech_actors_01-24/Actor_13\n",
            "/content/input/audio_speech_actors_01-24/Actor_14\n",
            "/content/input/audio_speech_actors_01-24/Actor_09\n",
            "/content/input/audio_speech_actors_01-24/Actor_18\n",
            "/content/input/audio_speech_actors_01-24/Actor_11\n",
            "/content/input/audio_speech_actors_01-24/Actor_20\n",
            "/content/input/audio_speech_actors_01-24/Actor_08\n",
            "/content/input/audio_speech_actors_01-24/Actor_10\n",
            "/content/input/audio_speech_actors_01-24/Actor_24\n",
            "/content/input/audio_speech_actors_01-24/Actor_05\n",
            "/content/input/audio_speech_actors_01-24/Actor_22\n",
            "/content/input/audio_speech_actors_01-24/Actor_16\n",
            "/content/input/audio_speech_actors_01-24/Actor_19\n",
            "/content/input/Actor_17\n",
            "/content/input/Actor_15\n",
            "/content/input/Actor_23\n",
            "/content/input/Actor_13\n",
            "/content/input/Actor_14\n",
            "/content/input/Actor_09\n",
            "/content/input/Actor_18\n",
            "/content/input/Actor_11\n",
            "/content/input/Actor_20\n",
            "/content/input/Actor_08\n",
            "/content/input/Actor_10\n",
            "/content/input/Actor_24\n",
            "/content/input/Actor_05\n",
            "/content/input/Actor_22\n",
            "/content/input/Actor_16\n",
            "/content/input/Actor_19\n",
            "/content/sample_data\n"
          ]
        }
      ]
    },
    {
      "cell_type": "code",
      "source": [
        "happy_features = pd.DataFrame(mfcc_happy,columns=range(1,65))\n",
        "happy_features[\"Category\"] = \"Happy\"\n",
        "sad_features = pd.DataFrame(mfcc_sad,columns=range(1,65))\n",
        "sad_features[\"Category\"] = \"Sad\""
      ],
      "metadata": {
        "id": "mL5UCSoOkFNo"
      },
      "execution_count": null,
      "outputs": []
    },
    {
      "cell_type": "code",
      "source": [
        "mfccdf = happy_features.append(sad_features)\n",
        "mfccdf.to_csv(\"Mfcc.csv\",index=False)"
      ],
      "metadata": {
        "id": "zTQEIMJOkRxq"
      },
      "execution_count": null,
      "outputs": []
    },
    {
      "cell_type": "code",
      "source": [
        "mel_happy = pd.DataFrame(melspec_happy,columns=range(1,65))\n",
        "mel_happy[\"Category\"] = \"Happy\"\n",
        "mel_sad = pd.DataFrame(melspec_sad,columns=range(1,65))\n",
        "mel_sad[\"Category\"] = \"Sad\""
      ],
      "metadata": {
        "id": "io0OFfOgke1R"
      },
      "execution_count": null,
      "outputs": []
    },
    {
      "cell_type": "code",
      "source": [
        "mel_df = mel_happy.append(mel_sad)"
      ],
      "metadata": {
        "id": "8eHj8jZns_oc"
      },
      "execution_count": null,
      "outputs": []
    },
    {
      "cell_type": "code",
      "source": [
        "mel_df.to_csv(\"Mel.csv\",index=False)"
      ],
      "metadata": {
        "id": "vej6njMvtFx2"
      },
      "execution_count": null,
      "outputs": []
    },
    {
      "cell_type": "markdown",
      "source": [
        "# Logistic Regression Model\n",
        "### Features Used : MFCC"
      ],
      "metadata": {
        "id": "ohrQAGXQtv40"
      }
    },
    {
      "cell_type": "code",
      "source": [
        "def L_Reg(X,y):\n",
        "    X_train, X_test, y_train, y_test = train_test_split(X, y, test_size=0.2, random_state=42,stratify = y)\n",
        "    scaler = StandardScaler()\n",
        "    X_train_scale = scaler.fit_transform(X_train)\n",
        "    X_test_scale = scaler.transform(X_test)\n",
        "    lr = LogisticRegression()\n",
        "    lr.fit(X_train_scale,y_train)\n",
        "    y_train_pred = lr.predict(X_train_scale)\n",
        "    y_test_pred = lr.predict(X_test_scale)\n",
        "    print(\"Training Accuracy = \",accuracy_score(y_train,y_train_pred)*100,\"%\")\n",
        "    print(\"Validation/Test Accuracy = \",accuracy_score(y_test,y_test_pred)*100,\"%\")"
      ],
      "metadata": {
        "id": "R54Hg3nRtqhR"
      },
      "execution_count": null,
      "outputs": []
    },
    {
      "cell_type": "code",
      "source": [
        "mfccdf[\"Category\"] = mfccdf[\"Category\"].replace({'Happy':1,'Sad':0})\n",
        "X = mfccdf.iloc[:,0:64]\n",
        "y = mfccdf[\"Category\"]"
      ],
      "metadata": {
        "id": "5teznu58uLlo"
      },
      "execution_count": null,
      "outputs": []
    },
    {
      "cell_type": "code",
      "source": [
        "L_Reg(X,y)"
      ],
      "metadata": {
        "colab": {
          "base_uri": "https://localhost:8080/"
        },
        "id": "RT7vPaFiuYgC",
        "outputId": "5fa9ada2-80bf-4fce-c765-66866d2e8da4"
      },
      "execution_count": null,
      "outputs": [
        {
          "output_type": "stream",
          "name": "stdout",
          "text": [
            "Training Accuracy =  56.67752442996743 %\n",
            "Validation/Test Accuracy =  23.376623376623375 %\n"
          ]
        }
      ]
    },
    {
      "cell_type": "markdown",
      "source": [
        "### Features Used: Mel Spectrogram"
      ],
      "metadata": {
        "id": "o2v48nKPudlk"
      }
    },
    {
      "cell_type": "code",
      "source": [
        "mel_df[\"Category\"] = mel_df[\"Category\"].replace({\"Happy\": 1,\"Sad\": 0})\n",
        "X = mel_df.iloc[:,:-1]\n",
        "y = mel_df.iloc[:,-1:]"
      ],
      "metadata": {
        "id": "8Ab3zatcubsL"
      },
      "execution_count": null,
      "outputs": []
    },
    {
      "cell_type": "code",
      "source": [
        "L_Reg(X,y)"
      ],
      "metadata": {
        "colab": {
          "base_uri": "https://localhost:8080/"
        },
        "id": "0FgqnOCQuugD",
        "outputId": "1488e449-2756-42ff-b185-0a6cd374bd4c"
      },
      "execution_count": null,
      "outputs": [
        {
          "output_type": "stream",
          "name": "stdout",
          "text": [
            "Training Accuracy =  75.8957654723127 %\n",
            "Validation/Test Accuracy =  71.42857142857143 %\n"
          ]
        }
      ]
    },
    {
      "cell_type": "markdown",
      "source": [
        "**Result**: Logistic Regression using Mel Spectrogram Features Give Better Accuracy"
      ],
      "metadata": {
        "id": "_l1WjQbK-z67"
      }
    },
    {
      "cell_type": "markdown",
      "source": [
        "# CNN Model"
      ],
      "metadata": {
        "id": "KqNBQt-Ju9ld"
      }
    },
    {
      "cell_type": "markdown",
      "source": [
        "### Features Used : MFCC"
      ],
      "metadata": {
        "id": "SQum8vW_0fOy"
      }
    },
    {
      "cell_type": "code",
      "source": [
        "X = mfccdf.iloc[:,0:64]\n",
        "y = mfccdf[\"Category\"]\n",
        "X_train, X_test, y_train, y_test = train_test_split(X, y, test_size=0.2, random_state=42,stratify = y)"
      ],
      "metadata": {
        "id": "_bb0tf93u1b7"
      },
      "execution_count": null,
      "outputs": []
    },
    {
      "cell_type": "code",
      "source": [
        "X_train = np.array(X_train).reshape(X_train.shape[0],16,4,1)\n",
        "X_test = np.array(X_test).reshape(X_test.shape[0],16,4,1)"
      ],
      "metadata": {
        "id": "N0TYlyRrvIVc"
      },
      "execution_count": null,
      "outputs": []
    },
    {
      "cell_type": "code",
      "source": [
        "tf.keras.backend.clear_session()\n",
        "model = tf.keras.Sequential([\n",
        "    tf.keras.layers.InputLayer(input_shape=(16, 4 , 1)),\n",
        "    tf.keras.layers.Conv2D(filters=16, kernel_size=(3, 3), activation='relu', padding = \"same\"),\n",
        "    tf.keras.layers.MaxPooling2D(2, 2),\n",
        "    tf.keras.layers.Conv2D(filters=16, kernel_size=(2, 2), activation='relu', padding = \"same\"),\n",
        "    tf.keras.layers.MaxPooling2D(2, 2),\n",
        "    tf.keras.layers.Flatten(),\n",
        "    tf.keras.layers.Dense(16, activation='relu'),\n",
        "    tf.keras.layers.Dense(1,activation='sigmoid')\n",
        "])\n",
        "model.summary()"
      ],
      "metadata": {
        "colab": {
          "base_uri": "https://localhost:8080/"
        },
        "id": "BvYFNJcHvMeM",
        "outputId": "52313b4b-e5af-4074-b11c-73304bbdf2ed"
      },
      "execution_count": null,
      "outputs": [
        {
          "output_type": "stream",
          "name": "stdout",
          "text": [
            "Model: \"sequential\"\n",
            "_________________________________________________________________\n",
            " Layer (type)                Output Shape              Param #   \n",
            "=================================================================\n",
            " conv2d (Conv2D)             (None, 16, 4, 16)         160       \n",
            "                                                                 \n",
            " max_pooling2d (MaxPooling2D  (None, 8, 2, 16)         0         \n",
            " )                                                               \n",
            "                                                                 \n",
            " conv2d_1 (Conv2D)           (None, 8, 2, 16)          1040      \n",
            "                                                                 \n",
            " max_pooling2d_1 (MaxPooling  (None, 4, 1, 16)         0         \n",
            " 2D)                                                             \n",
            "                                                                 \n",
            " flatten (Flatten)           (None, 64)                0         \n",
            "                                                                 \n",
            " dense (Dense)               (None, 16)                1040      \n",
            "                                                                 \n",
            " dense_1 (Dense)             (None, 1)                 17        \n",
            "                                                                 \n",
            "=================================================================\n",
            "Total params: 2,257\n",
            "Trainable params: 2,257\n",
            "Non-trainable params: 0\n",
            "_________________________________________________________________\n"
          ]
        }
      ]
    },
    {
      "cell_type": "code",
      "source": [
        "model.compile(optimizer=tf.keras.optimizers.Adam(learning_rate=0.001),loss='binary_crossentropy', metrics='accuracy')"
      ],
      "metadata": {
        "id": "FPJhENzTvbal"
      },
      "execution_count": null,
      "outputs": []
    },
    {
      "cell_type": "code",
      "source": [
        "history = model.fit(X_train, y_train, epochs=100,validation_data=(X_test,y_test))"
      ],
      "metadata": {
        "colab": {
          "base_uri": "https://localhost:8080/"
        },
        "id": "jaUjhHEQvhrl",
        "outputId": "617010d0-8281-4783-a21c-39d812262cd3"
      },
      "execution_count": null,
      "outputs": [
        {
          "output_type": "stream",
          "name": "stdout",
          "text": [
            "Epoch 1/100\n",
            "10/10 [==============================] - 1s 22ms/step - loss: 0.8623 - accuracy: 0.5081 - val_loss: 0.7752 - val_accuracy: 0.5065\n",
            "Epoch 2/100\n",
            "10/10 [==============================] - 0s 6ms/step - loss: 0.7304 - accuracy: 0.4984 - val_loss: 0.7629 - val_accuracy: 0.3766\n",
            "Epoch 3/100\n",
            "10/10 [==============================] - 0s 6ms/step - loss: 0.7195 - accuracy: 0.5277 - val_loss: 0.7602 - val_accuracy: 0.3506\n",
            "Epoch 4/100\n",
            "10/10 [==============================] - 0s 6ms/step - loss: 0.7114 - accuracy: 0.5212 - val_loss: 0.7816 - val_accuracy: 0.3506\n",
            "Epoch 5/100\n",
            "10/10 [==============================] - 0s 8ms/step - loss: 0.7051 - accuracy: 0.5309 - val_loss: 0.7978 - val_accuracy: 0.3636\n",
            "Epoch 6/100\n",
            "10/10 [==============================] - 0s 6ms/step - loss: 0.7046 - accuracy: 0.5212 - val_loss: 0.7828 - val_accuracy: 0.4026\n",
            "Epoch 7/100\n",
            "10/10 [==============================] - 0s 8ms/step - loss: 0.6949 - accuracy: 0.5179 - val_loss: 0.8061 - val_accuracy: 0.3766\n",
            "Epoch 8/100\n",
            "10/10 [==============================] - 0s 6ms/step - loss: 0.6978 - accuracy: 0.5375 - val_loss: 0.8037 - val_accuracy: 0.3636\n",
            "Epoch 9/100\n",
            "10/10 [==============================] - 0s 6ms/step - loss: 0.6908 - accuracy: 0.5472 - val_loss: 0.8174 - val_accuracy: 0.3766\n",
            "Epoch 10/100\n",
            "10/10 [==============================] - 0s 5ms/step - loss: 0.7227 - accuracy: 0.5049 - val_loss: 0.8510 - val_accuracy: 0.4545\n",
            "Epoch 11/100\n",
            "10/10 [==============================] - 0s 6ms/step - loss: 0.7388 - accuracy: 0.4984 - val_loss: 0.8393 - val_accuracy: 0.4675\n",
            "Epoch 12/100\n",
            "10/10 [==============================] - 0s 6ms/step - loss: 0.6853 - accuracy: 0.5537 - val_loss: 0.8318 - val_accuracy: 0.3117\n",
            "Epoch 13/100\n",
            "10/10 [==============================] - 0s 9ms/step - loss: 0.6946 - accuracy: 0.5472 - val_loss: 0.8731 - val_accuracy: 0.4156\n",
            "Epoch 14/100\n",
            "10/10 [==============================] - 0s 6ms/step - loss: 0.6783 - accuracy: 0.5700 - val_loss: 0.8828 - val_accuracy: 0.4675\n",
            "Epoch 15/100\n",
            "10/10 [==============================] - 0s 6ms/step - loss: 0.7041 - accuracy: 0.5277 - val_loss: 0.8395 - val_accuracy: 0.2468\n",
            "Epoch 16/100\n",
            "10/10 [==============================] - 0s 6ms/step - loss: 0.6856 - accuracy: 0.5472 - val_loss: 0.8477 - val_accuracy: 0.2597\n",
            "Epoch 17/100\n",
            "10/10 [==============================] - 0s 6ms/step - loss: 0.6868 - accuracy: 0.5342 - val_loss: 0.8448 - val_accuracy: 0.2338\n",
            "Epoch 18/100\n",
            "10/10 [==============================] - 0s 7ms/step - loss: 0.7090 - accuracy: 0.5570 - val_loss: 0.8509 - val_accuracy: 0.2338\n",
            "Epoch 19/100\n",
            "10/10 [==============================] - 0s 7ms/step - loss: 0.6834 - accuracy: 0.5505 - val_loss: 0.8657 - val_accuracy: 0.2468\n",
            "Epoch 20/100\n",
            "10/10 [==============================] - 0s 6ms/step - loss: 0.6923 - accuracy: 0.5440 - val_loss: 1.0140 - val_accuracy: 0.4675\n",
            "Epoch 21/100\n",
            "10/10 [==============================] - 0s 6ms/step - loss: 0.7635 - accuracy: 0.5375 - val_loss: 0.8864 - val_accuracy: 0.3117\n",
            "Epoch 22/100\n",
            "10/10 [==============================] - 0s 6ms/step - loss: 0.7127 - accuracy: 0.5570 - val_loss: 0.8753 - val_accuracy: 0.2338\n",
            "Epoch 23/100\n",
            "10/10 [==============================] - 0s 6ms/step - loss: 0.6708 - accuracy: 0.5603 - val_loss: 0.9100 - val_accuracy: 0.3377\n",
            "Epoch 24/100\n",
            "10/10 [==============================] - 0s 6ms/step - loss: 0.7147 - accuracy: 0.5147 - val_loss: 0.9201 - val_accuracy: 0.3506\n",
            "Epoch 25/100\n",
            "10/10 [==============================] - 0s 6ms/step - loss: 0.6896 - accuracy: 0.5603 - val_loss: 0.8941 - val_accuracy: 0.2468\n",
            "Epoch 26/100\n",
            "10/10 [==============================] - 0s 8ms/step - loss: 0.6947 - accuracy: 0.5440 - val_loss: 0.9174 - val_accuracy: 0.4026\n",
            "Epoch 27/100\n",
            "10/10 [==============================] - 0s 7ms/step - loss: 0.6806 - accuracy: 0.5635 - val_loss: 0.9123 - val_accuracy: 0.2727\n",
            "Epoch 28/100\n",
            "10/10 [==============================] - 0s 6ms/step - loss: 0.6852 - accuracy: 0.5472 - val_loss: 0.9333 - val_accuracy: 0.3506\n",
            "Epoch 29/100\n",
            "10/10 [==============================] - 0s 6ms/step - loss: 0.6958 - accuracy: 0.5570 - val_loss: 0.9034 - val_accuracy: 0.2468\n",
            "Epoch 30/100\n",
            "10/10 [==============================] - 0s 7ms/step - loss: 0.7044 - accuracy: 0.5309 - val_loss: 0.9692 - val_accuracy: 0.4805\n",
            "Epoch 31/100\n",
            "10/10 [==============================] - 0s 6ms/step - loss: 0.7068 - accuracy: 0.5244 - val_loss: 0.9329 - val_accuracy: 0.3247\n",
            "Epoch 32/100\n",
            "10/10 [==============================] - 0s 6ms/step - loss: 0.6998 - accuracy: 0.5277 - val_loss: 0.9448 - val_accuracy: 0.4156\n",
            "Epoch 33/100\n",
            "10/10 [==============================] - 0s 6ms/step - loss: 0.7326 - accuracy: 0.5147 - val_loss: 0.9032 - val_accuracy: 0.1558\n",
            "Epoch 34/100\n",
            "10/10 [==============================] - 0s 6ms/step - loss: 0.7705 - accuracy: 0.5375 - val_loss: 1.0871 - val_accuracy: 0.4416\n",
            "Epoch 35/100\n",
            "10/10 [==============================] - 0s 6ms/step - loss: 0.7655 - accuracy: 0.5114 - val_loss: 1.0056 - val_accuracy: 0.4156\n",
            "Epoch 36/100\n",
            "10/10 [==============================] - 0s 6ms/step - loss: 0.7736 - accuracy: 0.5114 - val_loss: 0.9436 - val_accuracy: 0.3247\n",
            "Epoch 37/100\n",
            "10/10 [==============================] - 0s 6ms/step - loss: 0.6803 - accuracy: 0.5863 - val_loss: 0.9282 - val_accuracy: 0.2078\n",
            "Epoch 38/100\n",
            "10/10 [==============================] - 0s 6ms/step - loss: 0.6841 - accuracy: 0.5831 - val_loss: 0.9814 - val_accuracy: 0.3636\n",
            "Epoch 39/100\n",
            "10/10 [==============================] - 0s 6ms/step - loss: 0.6992 - accuracy: 0.5342 - val_loss: 0.9401 - val_accuracy: 0.1818\n",
            "Epoch 40/100\n",
            "10/10 [==============================] - 0s 6ms/step - loss: 0.6889 - accuracy: 0.5505 - val_loss: 0.9377 - val_accuracy: 0.1818\n",
            "Epoch 41/100\n",
            "10/10 [==============================] - 0s 7ms/step - loss: 0.6761 - accuracy: 0.5635 - val_loss: 0.9335 - val_accuracy: 0.2468\n",
            "Epoch 42/100\n",
            "10/10 [==============================] - 0s 6ms/step - loss: 0.6811 - accuracy: 0.5407 - val_loss: 0.9326 - val_accuracy: 0.1299\n",
            "Epoch 43/100\n",
            "10/10 [==============================] - 0s 6ms/step - loss: 0.6728 - accuracy: 0.5472 - val_loss: 0.9920 - val_accuracy: 0.3506\n",
            "Epoch 44/100\n",
            "10/10 [==============================] - 0s 6ms/step - loss: 0.7283 - accuracy: 0.4919 - val_loss: 0.9464 - val_accuracy: 0.1299\n",
            "Epoch 45/100\n",
            "10/10 [==============================] - 0s 6ms/step - loss: 0.7004 - accuracy: 0.5603 - val_loss: 0.9836 - val_accuracy: 0.3247\n",
            "Epoch 46/100\n",
            "10/10 [==============================] - 0s 6ms/step - loss: 0.6715 - accuracy: 0.5765 - val_loss: 1.0025 - val_accuracy: 0.3247\n",
            "Epoch 47/100\n",
            "10/10 [==============================] - 0s 6ms/step - loss: 0.6968 - accuracy: 0.5309 - val_loss: 0.9717 - val_accuracy: 0.2078\n",
            "Epoch 48/100\n",
            "10/10 [==============================] - 0s 8ms/step - loss: 0.6964 - accuracy: 0.5407 - val_loss: 0.9946 - val_accuracy: 0.3896\n",
            "Epoch 49/100\n",
            "10/10 [==============================] - 0s 6ms/step - loss: 0.6706 - accuracy: 0.5863 - val_loss: 0.9779 - val_accuracy: 0.2078\n",
            "Epoch 50/100\n",
            "10/10 [==============================] - 0s 6ms/step - loss: 0.6752 - accuracy: 0.5472 - val_loss: 0.9620 - val_accuracy: 0.1429\n",
            "Epoch 51/100\n",
            "10/10 [==============================] - 0s 6ms/step - loss: 0.6678 - accuracy: 0.5635 - val_loss: 0.9712 - val_accuracy: 0.1688\n",
            "Epoch 52/100\n",
            "10/10 [==============================] - 0s 6ms/step - loss: 0.6669 - accuracy: 0.5603 - val_loss: 0.9737 - val_accuracy: 0.1558\n",
            "Epoch 53/100\n",
            "10/10 [==============================] - 0s 6ms/step - loss: 0.6654 - accuracy: 0.6026 - val_loss: 0.9844 - val_accuracy: 0.2078\n",
            "Epoch 54/100\n",
            "10/10 [==============================] - 0s 6ms/step - loss: 0.6620 - accuracy: 0.5635 - val_loss: 1.0046 - val_accuracy: 0.2338\n",
            "Epoch 55/100\n",
            "10/10 [==============================] - 0s 6ms/step - loss: 0.6825 - accuracy: 0.5407 - val_loss: 1.0200 - val_accuracy: 0.2338\n",
            "Epoch 56/100\n",
            "10/10 [==============================] - 0s 7ms/step - loss: 0.6790 - accuracy: 0.5993 - val_loss: 1.0279 - val_accuracy: 0.3247\n",
            "Epoch 57/100\n",
            "10/10 [==============================] - 0s 6ms/step - loss: 0.6689 - accuracy: 0.5700 - val_loss: 1.0042 - val_accuracy: 0.1688\n",
            "Epoch 58/100\n",
            "10/10 [==============================] - 0s 6ms/step - loss: 0.6672 - accuracy: 0.5831 - val_loss: 0.9953 - val_accuracy: 0.1299\n",
            "Epoch 59/100\n",
            "10/10 [==============================] - 0s 7ms/step - loss: 0.6617 - accuracy: 0.5863 - val_loss: 1.0027 - val_accuracy: 0.1299\n",
            "Epoch 60/100\n",
            "10/10 [==============================] - 0s 7ms/step - loss: 0.6611 - accuracy: 0.5798 - val_loss: 1.0162 - val_accuracy: 0.1688\n",
            "Epoch 61/100\n",
            "10/10 [==============================] - 0s 6ms/step - loss: 0.6689 - accuracy: 0.5537 - val_loss: 1.0149 - val_accuracy: 0.1299\n",
            "Epoch 62/100\n",
            "10/10 [==============================] - 0s 6ms/step - loss: 0.6642 - accuracy: 0.5896 - val_loss: 1.0575 - val_accuracy: 0.2597\n",
            "Epoch 63/100\n",
            "10/10 [==============================] - 0s 6ms/step - loss: 0.6710 - accuracy: 0.5537 - val_loss: 1.0158 - val_accuracy: 0.1429\n",
            "Epoch 64/100\n",
            "10/10 [==============================] - 0s 6ms/step - loss: 0.6610 - accuracy: 0.5733 - val_loss: 1.0700 - val_accuracy: 0.2987\n",
            "Epoch 65/100\n",
            "10/10 [==============================] - 0s 6ms/step - loss: 0.6791 - accuracy: 0.5440 - val_loss: 1.0212 - val_accuracy: 0.1429\n",
            "Epoch 66/100\n",
            "10/10 [==============================] - 0s 6ms/step - loss: 0.6694 - accuracy: 0.5603 - val_loss: 1.0661 - val_accuracy: 0.3247\n",
            "Epoch 67/100\n",
            "10/10 [==============================] - 0s 6ms/step - loss: 0.7106 - accuracy: 0.5375 - val_loss: 1.0643 - val_accuracy: 0.2857\n",
            "Epoch 68/100\n",
            "10/10 [==============================] - 0s 8ms/step - loss: 0.6979 - accuracy: 0.5342 - val_loss: 1.0541 - val_accuracy: 0.2597\n",
            "Epoch 69/100\n",
            "10/10 [==============================] - 0s 6ms/step - loss: 0.6641 - accuracy: 0.5570 - val_loss: 1.0513 - val_accuracy: 0.2338\n",
            "Epoch 70/100\n",
            "10/10 [==============================] - 0s 6ms/step - loss: 0.6655 - accuracy: 0.5896 - val_loss: 1.0346 - val_accuracy: 0.1169\n",
            "Epoch 71/100\n",
            "10/10 [==============================] - 0s 6ms/step - loss: 0.6592 - accuracy: 0.5863 - val_loss: 1.0442 - val_accuracy: 0.1169\n",
            "Epoch 72/100\n",
            "10/10 [==============================] - 0s 6ms/step - loss: 0.6721 - accuracy: 0.5570 - val_loss: 1.0375 - val_accuracy: 0.1169\n",
            "Epoch 73/100\n",
            "10/10 [==============================] - 0s 7ms/step - loss: 0.6541 - accuracy: 0.5765 - val_loss: 1.0479 - val_accuracy: 0.1039\n",
            "Epoch 74/100\n",
            "10/10 [==============================] - 0s 6ms/step - loss: 0.6534 - accuracy: 0.5765 - val_loss: 1.0599 - val_accuracy: 0.1169\n",
            "Epoch 75/100\n",
            "10/10 [==============================] - 0s 7ms/step - loss: 0.6542 - accuracy: 0.5896 - val_loss: 1.0738 - val_accuracy: 0.1688\n",
            "Epoch 76/100\n",
            "10/10 [==============================] - 0s 6ms/step - loss: 0.6706 - accuracy: 0.5733 - val_loss: 1.0586 - val_accuracy: 0.1039\n",
            "Epoch 77/100\n",
            "10/10 [==============================] - 0s 6ms/step - loss: 0.6565 - accuracy: 0.5733 - val_loss: 1.0708 - val_accuracy: 0.1688\n",
            "Epoch 78/100\n",
            "10/10 [==============================] - 0s 6ms/step - loss: 0.6746 - accuracy: 0.5472 - val_loss: 1.0720 - val_accuracy: 0.1299\n",
            "Epoch 79/100\n",
            "10/10 [==============================] - 0s 6ms/step - loss: 0.6633 - accuracy: 0.5603 - val_loss: 1.0926 - val_accuracy: 0.1558\n",
            "Epoch 80/100\n",
            "10/10 [==============================] - 0s 7ms/step - loss: 0.6454 - accuracy: 0.5896 - val_loss: 1.0705 - val_accuracy: 0.1299\n",
            "Epoch 81/100\n",
            "10/10 [==============================] - 0s 6ms/step - loss: 0.6627 - accuracy: 0.5700 - val_loss: 1.0743 - val_accuracy: 0.0909\n",
            "Epoch 82/100\n",
            "10/10 [==============================] - 0s 6ms/step - loss: 0.6561 - accuracy: 0.5798 - val_loss: 1.0896 - val_accuracy: 0.1558\n",
            "Epoch 83/100\n",
            "10/10 [==============================] - 0s 6ms/step - loss: 0.6503 - accuracy: 0.5961 - val_loss: 1.1087 - val_accuracy: 0.1429\n",
            "Epoch 84/100\n",
            "10/10 [==============================] - 0s 6ms/step - loss: 0.6671 - accuracy: 0.5700 - val_loss: 1.0983 - val_accuracy: 0.1039\n",
            "Epoch 85/100\n",
            "10/10 [==============================] - 0s 6ms/step - loss: 0.6503 - accuracy: 0.6091 - val_loss: 1.1075 - val_accuracy: 0.1039\n",
            "Epoch 86/100\n",
            "10/10 [==============================] - 0s 6ms/step - loss: 0.6412 - accuracy: 0.5993 - val_loss: 1.0982 - val_accuracy: 0.0909\n",
            "Epoch 87/100\n",
            "10/10 [==============================] - 0s 6ms/step - loss: 0.6513 - accuracy: 0.5798 - val_loss: 1.1221 - val_accuracy: 0.1429\n",
            "Epoch 88/100\n",
            "10/10 [==============================] - 0s 6ms/step - loss: 0.6662 - accuracy: 0.5668 - val_loss: 1.1207 - val_accuracy: 0.1039\n",
            "Epoch 89/100\n",
            "10/10 [==============================] - 0s 6ms/step - loss: 0.6542 - accuracy: 0.5863 - val_loss: 1.1108 - val_accuracy: 0.1169\n",
            "Epoch 90/100\n",
            "10/10 [==============================] - 0s 7ms/step - loss: 0.6556 - accuracy: 0.5798 - val_loss: 1.1382 - val_accuracy: 0.1429\n",
            "Epoch 91/100\n",
            "10/10 [==============================] - 0s 6ms/step - loss: 0.6507 - accuracy: 0.6091 - val_loss: 1.1256 - val_accuracy: 0.1039\n",
            "Epoch 92/100\n",
            "10/10 [==============================] - 0s 6ms/step - loss: 0.6448 - accuracy: 0.6059 - val_loss: 1.1415 - val_accuracy: 0.1039\n",
            "Epoch 93/100\n",
            "10/10 [==============================] - 0s 6ms/step - loss: 0.6521 - accuracy: 0.5765 - val_loss: 1.1584 - val_accuracy: 0.1688\n",
            "Epoch 94/100\n",
            "10/10 [==============================] - 0s 6ms/step - loss: 0.6711 - accuracy: 0.5700 - val_loss: 1.1373 - val_accuracy: 0.1299\n",
            "Epoch 95/100\n",
            "10/10 [==============================] - 0s 6ms/step - loss: 0.6711 - accuracy: 0.5668 - val_loss: 1.1506 - val_accuracy: 0.2338\n",
            "Epoch 96/100\n",
            "10/10 [==============================] - 0s 6ms/step - loss: 0.6976 - accuracy: 0.5277 - val_loss: 1.1285 - val_accuracy: 0.1169\n",
            "Epoch 97/100\n",
            "10/10 [==============================] - 0s 5ms/step - loss: 0.6510 - accuracy: 0.5993 - val_loss: 1.1532 - val_accuracy: 0.1039\n",
            "Epoch 98/100\n",
            "10/10 [==============================] - 0s 6ms/step - loss: 0.6456 - accuracy: 0.5635 - val_loss: 1.1494 - val_accuracy: 0.1169\n",
            "Epoch 99/100\n",
            "10/10 [==============================] - 0s 7ms/step - loss: 0.6545 - accuracy: 0.5668 - val_loss: 1.1709 - val_accuracy: 0.1299\n",
            "Epoch 100/100\n",
            "10/10 [==============================] - 0s 6ms/step - loss: 0.6506 - accuracy: 0.5863 - val_loss: 1.1677 - val_accuracy: 0.1299\n"
          ]
        }
      ]
    },
    {
      "cell_type": "code",
      "source": [
        "plt.figure(figsize=(20, 5))\n",
        "loss = history.history['loss']\n",
        "val_loss = history.history['val_loss']\n",
        "plt.plot(loss, label='Training Loss')\n",
        "plt.plot( val_loss, label='Validation Loss')\n",
        "plt.legend(loc='upper light')\n",
        "plt.title('Training and Validation Loss')\n",
        "plt.show()"
      ],
      "metadata": {
        "colab": {
          "base_uri": "https://localhost:8080/",
          "height": 325
        },
        "id": "S9ZZC5civmUN",
        "outputId": "1d877fe6-84de-402a-b404-afb62f49df97"
      },
      "execution_count": null,
      "outputs": [
        {
          "output_type": "display_data",
          "data": {
            "text/plain": [
              "<Figure size 1440x360 with 1 Axes>"
            ],
            "image/png": "[encoded data removed]"
          },
          "metadata": {
            "needs_background": "light"
          }
        }
      ]
    },
    {
      "cell_type": "code",
      "source": [
        "y_train_pred = np.where(model.predict(X_train) > 0.5, 1,0)\n",
        "y_test_pred = np.where(model.predict(X_test) > 0.5, 1,0)\n",
        "print(\"Training accuracy = \",accuracy_score(y_train,y_train_pred)*100,\"%\")\n",
        "print(\"Validation accuracy = \",accuracy_score(y_test,y_test_pred)*100,\"%\")"
      ],
      "metadata": {
        "colab": {
          "base_uri": "https://localhost:8080/"
        },
        "id": "LHXIIf80y9CV",
        "outputId": "430a9939-431e-4cc5-ba43-8a516feb6344"
      },
      "execution_count": null,
      "outputs": [
        {
          "output_type": "stream",
          "name": "stdout",
          "text": [
            "10/10 [==============================] - 0s 2ms/step\n",
            "3/3 [==============================] - 0s 3ms/step\n",
            "Training accuracy =  59.28338762214984 %\n",
            "Validation accuracy =  12.987012987012985 %\n"
          ]
        }
      ]
    },
    {
      "cell_type": "markdown",
      "source": [
        "### Features Used : Mel Spectogram"
      ],
      "metadata": {
        "id": "TSFxsM150jlz"
      }
    },
    {
      "cell_type": "code",
      "source": [
        "X = mel_df.iloc[:,0:64]\n",
        "y = mel_df[\"Category\"]\n",
        "X_train, X_test, y_train, y_test = train_test_split(X, y, test_size=0.2, random_state=42,stratify = y)"
      ],
      "metadata": {
        "id": "pIjiYscZziV1"
      },
      "execution_count": null,
      "outputs": []
    },
    {
      "cell_type": "code",
      "source": [
        "X_train = np.array(X_train).reshape(X_train.shape[0],16,4,1)\n",
        "X_test = np.array(X_test).reshape(X_test.shape[0],16,4,1)"
      ],
      "metadata": {
        "id": "xMIJYXzo0wl9"
      },
      "execution_count": null,
      "outputs": []
    },
    {
      "cell_type": "code",
      "source": [
        "model.compile(optimizer=tf.keras.optimizers.Adam(learning_rate=0.001),loss='binary_crossentropy', metrics='accuracy')"
      ],
      "metadata": {
        "id": "fAQitXp80zPs"
      },
      "execution_count": null,
      "outputs": []
    },
    {
      "cell_type": "code",
      "source": [
        "history_mel = model.fit(X_train, y_train, epochs=100,validation_data=(X_test,y_test))"
      ],
      "metadata": {
        "colab": {
          "base_uri": "https://localhost:8080/"
        },
        "id": "3VDZCsSz02Bc",
        "outputId": "36614d31-50ca-4ef5-913d-637579195461"
      },
      "execution_count": null,
      "outputs": [
        {
          "output_type": "stream",
          "name": "stdout",
          "text": [
            "Epoch 1/100\n",
            "10/10 [==============================] - 1s 22ms/step - loss: 0.6809 - accuracy: 0.5765 - val_loss: 0.6581 - val_accuracy: 0.6753\n",
            "Epoch 2/100\n",
            "10/10 [==============================] - 0s 8ms/step - loss: 0.6626 - accuracy: 0.6515 - val_loss: 0.6383 - val_accuracy: 0.6883\n",
            "Epoch 3/100\n",
            "10/10 [==============================] - 0s 6ms/step - loss: 0.6520 - accuracy: 0.6808 - val_loss: 0.6201 - val_accuracy: 0.7532\n",
            "Epoch 4/100\n",
            "10/10 [==============================] - 0s 6ms/step - loss: 0.6437 - accuracy: 0.6938 - val_loss: 0.6088 - val_accuracy: 0.7532\n",
            "Epoch 5/100\n",
            "10/10 [==============================] - 0s 6ms/step - loss: 0.6358 - accuracy: 0.6873 - val_loss: 0.6012 - val_accuracy: 0.7532\n",
            "Epoch 6/100\n",
            "10/10 [==============================] - 0s 6ms/step - loss: 0.6312 - accuracy: 0.6710 - val_loss: 0.5937 - val_accuracy: 0.7532\n",
            "Epoch 7/100\n",
            "10/10 [==============================] - 0s 7ms/step - loss: 0.6257 - accuracy: 0.6710 - val_loss: 0.5878 - val_accuracy: 0.7273\n",
            "Epoch 8/100\n",
            "10/10 [==============================] - 0s 6ms/step - loss: 0.6213 - accuracy: 0.6645 - val_loss: 0.5823 - val_accuracy: 0.7273\n",
            "Epoch 9/100\n",
            "10/10 [==============================] - 0s 6ms/step - loss: 0.6179 - accuracy: 0.6678 - val_loss: 0.5769 - val_accuracy: 0.7273\n",
            "Epoch 10/100\n",
            "10/10 [==============================] - 0s 6ms/step - loss: 0.6131 - accuracy: 0.6612 - val_loss: 0.5728 - val_accuracy: 0.7273\n",
            "Epoch 11/100\n",
            "10/10 [==============================] - 0s 6ms/step - loss: 0.6093 - accuracy: 0.6612 - val_loss: 0.5697 - val_accuracy: 0.7273\n",
            "Epoch 12/100\n",
            "10/10 [==============================] - 0s 6ms/step - loss: 0.6063 - accuracy: 0.6645 - val_loss: 0.5654 - val_accuracy: 0.7273\n",
            "Epoch 13/100\n",
            "10/10 [==============================] - 0s 8ms/step - loss: 0.6033 - accuracy: 0.6678 - val_loss: 0.5605 - val_accuracy: 0.7273\n",
            "Epoch 14/100\n",
            "10/10 [==============================] - 0s 6ms/step - loss: 0.6002 - accuracy: 0.6678 - val_loss: 0.5589 - val_accuracy: 0.7273\n",
            "Epoch 15/100\n",
            "10/10 [==============================] - 0s 8ms/step - loss: 0.5980 - accuracy: 0.6775 - val_loss: 0.5541 - val_accuracy: 0.7273\n",
            "Epoch 16/100\n",
            "10/10 [==============================] - 0s 6ms/step - loss: 0.5980 - accuracy: 0.6645 - val_loss: 0.5508 - val_accuracy: 0.7532\n",
            "Epoch 17/100\n",
            "10/10 [==============================] - 0s 7ms/step - loss: 0.5915 - accuracy: 0.6743 - val_loss: 0.5529 - val_accuracy: 0.7532\n",
            "Epoch 18/100\n",
            "10/10 [==============================] - 0s 6ms/step - loss: 0.5882 - accuracy: 0.6743 - val_loss: 0.5465 - val_accuracy: 0.7273\n",
            "Epoch 19/100\n",
            "10/10 [==============================] - 0s 6ms/step - loss: 0.5846 - accuracy: 0.6808 - val_loss: 0.5427 - val_accuracy: 0.7273\n",
            "Epoch 20/100\n",
            "10/10 [==============================] - 0s 6ms/step - loss: 0.5824 - accuracy: 0.6808 - val_loss: 0.5416 - val_accuracy: 0.7532\n",
            "Epoch 21/100\n",
            "10/10 [==============================] - 0s 6ms/step - loss: 0.5773 - accuracy: 0.6840 - val_loss: 0.5359 - val_accuracy: 0.7403\n",
            "Epoch 22/100\n",
            "10/10 [==============================] - 0s 6ms/step - loss: 0.5800 - accuracy: 0.6808 - val_loss: 0.5357 - val_accuracy: 0.7532\n",
            "Epoch 23/100\n",
            "10/10 [==============================] - 0s 6ms/step - loss: 0.5774 - accuracy: 0.6873 - val_loss: 0.5310 - val_accuracy: 0.7532\n",
            "Epoch 24/100\n",
            "10/10 [==============================] - 0s 6ms/step - loss: 0.5756 - accuracy: 0.6906 - val_loss: 0.5275 - val_accuracy: 0.7273\n",
            "Epoch 25/100\n",
            "10/10 [==============================] - 0s 5ms/step - loss: 0.5712 - accuracy: 0.6873 - val_loss: 0.5278 - val_accuracy: 0.7532\n",
            "Epoch 26/100\n",
            "10/10 [==============================] - 0s 6ms/step - loss: 0.5672 - accuracy: 0.6840 - val_loss: 0.5234 - val_accuracy: 0.7403\n",
            "Epoch 27/100\n",
            "10/10 [==============================] - 0s 6ms/step - loss: 0.5635 - accuracy: 0.6938 - val_loss: 0.5260 - val_accuracy: 0.7532\n",
            "Epoch 28/100\n",
            "10/10 [==============================] - 0s 6ms/step - loss: 0.5596 - accuracy: 0.6938 - val_loss: 0.5237 - val_accuracy: 0.7532\n",
            "Epoch 29/100\n",
            "10/10 [==============================] - 0s 6ms/step - loss: 0.5547 - accuracy: 0.7003 - val_loss: 0.5167 - val_accuracy: 0.7662\n",
            "Epoch 30/100\n",
            "10/10 [==============================] - 0s 7ms/step - loss: 0.5504 - accuracy: 0.7068 - val_loss: 0.5149 - val_accuracy: 0.7792\n",
            "Epoch 31/100\n",
            "10/10 [==============================] - 0s 6ms/step - loss: 0.5460 - accuracy: 0.7036 - val_loss: 0.5079 - val_accuracy: 0.7532\n",
            "Epoch 32/100\n",
            "10/10 [==============================] - 0s 7ms/step - loss: 0.5448 - accuracy: 0.7036 - val_loss: 0.5128 - val_accuracy: 0.7532\n",
            "Epoch 33/100\n",
            "10/10 [==============================] - 0s 6ms/step - loss: 0.5416 - accuracy: 0.7166 - val_loss: 0.5046 - val_accuracy: 0.7792\n",
            "Epoch 34/100\n",
            "10/10 [==============================] - 0s 6ms/step - loss: 0.5411 - accuracy: 0.7068 - val_loss: 0.5052 - val_accuracy: 0.7792\n",
            "Epoch 35/100\n",
            "10/10 [==============================] - 0s 6ms/step - loss: 0.5409 - accuracy: 0.7068 - val_loss: 0.5037 - val_accuracy: 0.7662\n",
            "Epoch 36/100\n",
            "10/10 [==============================] - 0s 6ms/step - loss: 0.5351 - accuracy: 0.7101 - val_loss: 0.5027 - val_accuracy: 0.7662\n",
            "Epoch 37/100\n",
            "10/10 [==============================] - 0s 6ms/step - loss: 0.5281 - accuracy: 0.7166 - val_loss: 0.4982 - val_accuracy: 0.7792\n",
            "Epoch 38/100\n",
            "10/10 [==============================] - 0s 6ms/step - loss: 0.5267 - accuracy: 0.7134 - val_loss: 0.5017 - val_accuracy: 0.7532\n",
            "Epoch 39/100\n",
            "10/10 [==============================] - 0s 6ms/step - loss: 0.5223 - accuracy: 0.7264 - val_loss: 0.4953 - val_accuracy: 0.7532\n",
            "Epoch 40/100\n",
            "10/10 [==============================] - 0s 14ms/step - loss: 0.5165 - accuracy: 0.7264 - val_loss: 0.4933 - val_accuracy: 0.7403\n",
            "Epoch 41/100\n",
            "10/10 [==============================] - 0s 14ms/step - loss: 0.5128 - accuracy: 0.7296 - val_loss: 0.4904 - val_accuracy: 0.7403\n",
            "Epoch 42/100\n",
            "10/10 [==============================] - 0s 10ms/step - loss: 0.5081 - accuracy: 0.7296 - val_loss: 0.4963 - val_accuracy: 0.7532\n",
            "Epoch 43/100\n",
            "10/10 [==============================] - 0s 12ms/step - loss: 0.5067 - accuracy: 0.7231 - val_loss: 0.4938 - val_accuracy: 0.7532\n",
            "Epoch 44/100\n",
            "10/10 [==============================] - 0s 9ms/step - loss: 0.5031 - accuracy: 0.7362 - val_loss: 0.4933 - val_accuracy: 0.7532\n",
            "Epoch 45/100\n",
            "10/10 [==============================] - 0s 13ms/step - loss: 0.5002 - accuracy: 0.7394 - val_loss: 0.4862 - val_accuracy: 0.7403\n",
            "Epoch 46/100\n",
            "10/10 [==============================] - 0s 11ms/step - loss: 0.4984 - accuracy: 0.7264 - val_loss: 0.4961 - val_accuracy: 0.7532\n",
            "Epoch 47/100\n",
            "10/10 [==============================] - 0s 10ms/step - loss: 0.4949 - accuracy: 0.7362 - val_loss: 0.4898 - val_accuracy: 0.7532\n",
            "Epoch 48/100\n",
            "10/10 [==============================] - 0s 12ms/step - loss: 0.4920 - accuracy: 0.7622 - val_loss: 0.4912 - val_accuracy: 0.7532\n",
            "Epoch 49/100\n",
            "10/10 [==============================] - 0s 7ms/step - loss: 0.4884 - accuracy: 0.7394 - val_loss: 0.4886 - val_accuracy: 0.7532\n",
            "Epoch 50/100\n",
            "10/10 [==============================] - 0s 6ms/step - loss: 0.4860 - accuracy: 0.7524 - val_loss: 0.4975 - val_accuracy: 0.7532\n",
            "Epoch 51/100\n",
            "10/10 [==============================] - 0s 6ms/step - loss: 0.4842 - accuracy: 0.7362 - val_loss: 0.4956 - val_accuracy: 0.7532\n",
            "Epoch 52/100\n",
            "10/10 [==============================] - 0s 6ms/step - loss: 0.4831 - accuracy: 0.7459 - val_loss: 0.4875 - val_accuracy: 0.7792\n",
            "Epoch 53/100\n",
            "10/10 [==============================] - 0s 6ms/step - loss: 0.4775 - accuracy: 0.7622 - val_loss: 0.4917 - val_accuracy: 0.7662\n",
            "Epoch 54/100\n",
            "10/10 [==============================] - 0s 6ms/step - loss: 0.4766 - accuracy: 0.7622 - val_loss: 0.4885 - val_accuracy: 0.7662\n",
            "Epoch 55/100\n",
            "10/10 [==============================] - 0s 9ms/step - loss: 0.4736 - accuracy: 0.7752 - val_loss: 0.4985 - val_accuracy: 0.7532\n",
            "Epoch 56/100\n",
            "10/10 [==============================] - 0s 6ms/step - loss: 0.4707 - accuracy: 0.7818 - val_loss: 0.4798 - val_accuracy: 0.7792\n",
            "Epoch 57/100\n",
            "10/10 [==============================] - 0s 6ms/step - loss: 0.4684 - accuracy: 0.7785 - val_loss: 0.5009 - val_accuracy: 0.7532\n",
            "Epoch 58/100\n",
            "10/10 [==============================] - 0s 6ms/step - loss: 0.4675 - accuracy: 0.7818 - val_loss: 0.4784 - val_accuracy: 0.7792\n",
            "Epoch 59/100\n",
            "10/10 [==============================] - 0s 6ms/step - loss: 0.4665 - accuracy: 0.7883 - val_loss: 0.4980 - val_accuracy: 0.7662\n",
            "Epoch 60/100\n",
            "10/10 [==============================] - 0s 6ms/step - loss: 0.4628 - accuracy: 0.7818 - val_loss: 0.4913 - val_accuracy: 0.7662\n",
            "Epoch 61/100\n",
            "10/10 [==============================] - 0s 6ms/step - loss: 0.4635 - accuracy: 0.7752 - val_loss: 0.4917 - val_accuracy: 0.7662\n",
            "Epoch 62/100\n",
            "10/10 [==============================] - 0s 6ms/step - loss: 0.4596 - accuracy: 0.7915 - val_loss: 0.4994 - val_accuracy: 0.7532\n",
            "Epoch 63/100\n",
            "10/10 [==============================] - 0s 7ms/step - loss: 0.4590 - accuracy: 0.8013 - val_loss: 0.5118 - val_accuracy: 0.7532\n",
            "Epoch 64/100\n",
            "10/10 [==============================] - 0s 8ms/step - loss: 0.4564 - accuracy: 0.7915 - val_loss: 0.5008 - val_accuracy: 0.7792\n",
            "Epoch 65/100\n",
            "10/10 [==============================] - 0s 6ms/step - loss: 0.4562 - accuracy: 0.7785 - val_loss: 0.4987 - val_accuracy: 0.7662\n",
            "Epoch 66/100\n",
            "10/10 [==============================] - 0s 6ms/step - loss: 0.4573 - accuracy: 0.7850 - val_loss: 0.5043 - val_accuracy: 0.7532\n",
            "Epoch 67/100\n",
            "10/10 [==============================] - 0s 6ms/step - loss: 0.4513 - accuracy: 0.7980 - val_loss: 0.4926 - val_accuracy: 0.7662\n",
            "Epoch 68/100\n",
            "10/10 [==============================] - 0s 6ms/step - loss: 0.4557 - accuracy: 0.7850 - val_loss: 0.4954 - val_accuracy: 0.7662\n",
            "Epoch 69/100\n",
            "10/10 [==============================] - 0s 6ms/step - loss: 0.4466 - accuracy: 0.7980 - val_loss: 0.4888 - val_accuracy: 0.7792\n",
            "Epoch 70/100\n",
            "10/10 [==============================] - 0s 7ms/step - loss: 0.4453 - accuracy: 0.8013 - val_loss: 0.4914 - val_accuracy: 0.7662\n",
            "Epoch 71/100\n",
            "10/10 [==============================] - 0s 6ms/step - loss: 0.4418 - accuracy: 0.7980 - val_loss: 0.4970 - val_accuracy: 0.7792\n",
            "Epoch 72/100\n",
            "10/10 [==============================] - 0s 6ms/step - loss: 0.4412 - accuracy: 0.8013 - val_loss: 0.5038 - val_accuracy: 0.7532\n",
            "Epoch 73/100\n",
            "10/10 [==============================] - 0s 6ms/step - loss: 0.4394 - accuracy: 0.8013 - val_loss: 0.5085 - val_accuracy: 0.7662\n",
            "Epoch 74/100\n",
            "10/10 [==============================] - 0s 6ms/step - loss: 0.4374 - accuracy: 0.8046 - val_loss: 0.5086 - val_accuracy: 0.7532\n",
            "Epoch 75/100\n",
            "10/10 [==============================] - 0s 8ms/step - loss: 0.4380 - accuracy: 0.8046 - val_loss: 0.5010 - val_accuracy: 0.7662\n",
            "Epoch 76/100\n",
            "10/10 [==============================] - 0s 7ms/step - loss: 0.4332 - accuracy: 0.8013 - val_loss: 0.5058 - val_accuracy: 0.7532\n",
            "Epoch 77/100\n",
            "10/10 [==============================] - 0s 6ms/step - loss: 0.4332 - accuracy: 0.8013 - val_loss: 0.5117 - val_accuracy: 0.7532\n",
            "Epoch 78/100\n",
            "10/10 [==============================] - 0s 6ms/step - loss: 0.4329 - accuracy: 0.8046 - val_loss: 0.5327 - val_accuracy: 0.7532\n",
            "Epoch 79/100\n",
            "10/10 [==============================] - 0s 6ms/step - loss: 0.4318 - accuracy: 0.8111 - val_loss: 0.5175 - val_accuracy: 0.7532\n",
            "Epoch 80/100\n",
            "10/10 [==============================] - 0s 6ms/step - loss: 0.4293 - accuracy: 0.8046 - val_loss: 0.5193 - val_accuracy: 0.7532\n",
            "Epoch 81/100\n",
            "10/10 [==============================] - 0s 6ms/step - loss: 0.4287 - accuracy: 0.8111 - val_loss: 0.5201 - val_accuracy: 0.7403\n",
            "Epoch 82/100\n",
            "10/10 [==============================] - 0s 6ms/step - loss: 0.4278 - accuracy: 0.8013 - val_loss: 0.5251 - val_accuracy: 0.7403\n",
            "Epoch 83/100\n",
            "10/10 [==============================] - 0s 6ms/step - loss: 0.4316 - accuracy: 0.8013 - val_loss: 0.5427 - val_accuracy: 0.7532\n",
            "Epoch 84/100\n",
            "10/10 [==============================] - 0s 6ms/step - loss: 0.4507 - accuracy: 0.7752 - val_loss: 0.5689 - val_accuracy: 0.7532\n",
            "Epoch 85/100\n",
            "10/10 [==============================] - 0s 7ms/step - loss: 0.4437 - accuracy: 0.7948 - val_loss: 0.5862 - val_accuracy: 0.7273\n",
            "Epoch 86/100\n",
            "10/10 [==============================] - 0s 8ms/step - loss: 0.4379 - accuracy: 0.7883 - val_loss: 0.5625 - val_accuracy: 0.7532\n",
            "Epoch 87/100\n",
            "10/10 [==============================] - 0s 6ms/step - loss: 0.4255 - accuracy: 0.8046 - val_loss: 0.5389 - val_accuracy: 0.7662\n",
            "Epoch 88/100\n",
            "10/10 [==============================] - 0s 7ms/step - loss: 0.4245 - accuracy: 0.8078 - val_loss: 0.5519 - val_accuracy: 0.7273\n",
            "Epoch 89/100\n",
            "10/10 [==============================] - 0s 6ms/step - loss: 0.4221 - accuracy: 0.8078 - val_loss: 0.5251 - val_accuracy: 0.7662\n",
            "Epoch 90/100\n",
            "10/10 [==============================] - 0s 6ms/step - loss: 0.4277 - accuracy: 0.7980 - val_loss: 0.5401 - val_accuracy: 0.7403\n",
            "Epoch 91/100\n",
            "10/10 [==============================] - 0s 6ms/step - loss: 0.4194 - accuracy: 0.8046 - val_loss: 0.5296 - val_accuracy: 0.7532\n",
            "Epoch 92/100\n",
            "10/10 [==============================] - 0s 6ms/step - loss: 0.4228 - accuracy: 0.8013 - val_loss: 0.5446 - val_accuracy: 0.7403\n",
            "Epoch 93/100\n",
            "10/10 [==============================] - 0s 6ms/step - loss: 0.4141 - accuracy: 0.8143 - val_loss: 0.5448 - val_accuracy: 0.7403\n",
            "Epoch 94/100\n",
            "10/10 [==============================] - 0s 6ms/step - loss: 0.4141 - accuracy: 0.8046 - val_loss: 0.5446 - val_accuracy: 0.7403\n",
            "Epoch 95/100\n",
            "10/10 [==============================] - 0s 6ms/step - loss: 0.4114 - accuracy: 0.8046 - val_loss: 0.5518 - val_accuracy: 0.7403\n",
            "Epoch 96/100\n",
            "10/10 [==============================] - 0s 6ms/step - loss: 0.4143 - accuracy: 0.8078 - val_loss: 0.5589 - val_accuracy: 0.7403\n",
            "Epoch 97/100\n",
            "10/10 [==============================] - 0s 6ms/step - loss: 0.4186 - accuracy: 0.8143 - val_loss: 0.5569 - val_accuracy: 0.7403\n",
            "Epoch 98/100\n",
            "10/10 [==============================] - 0s 6ms/step - loss: 0.4083 - accuracy: 0.8046 - val_loss: 0.5554 - val_accuracy: 0.7403\n",
            "Epoch 99/100\n",
            "10/10 [==============================] - 0s 6ms/step - loss: 0.4056 - accuracy: 0.8143 - val_loss: 0.5569 - val_accuracy: 0.7403\n",
            "Epoch 100/100\n",
            "10/10 [==============================] - 0s 7ms/step - loss: 0.4060 - accuracy: 0.8078 - val_loss: 0.5644 - val_accuracy: 0.7403\n"
          ]
        }
      ]
    },
    {
      "cell_type": "code",
      "source": [
        "plt.figure(figsize=(20, 5))\n",
        "loss = history_mel.history['loss']\n",
        "val_loss = history_mel.history['val_loss']\n",
        "plt.plot(loss, label='Training Loss')\n",
        "plt.plot( val_loss, label='Validation Loss')\n",
        "plt.legend(loc='upper right')\n",
        "plt.title('Training and Validation Loss')\n",
        "plt.show()"
      ],
      "metadata": {
        "colab": {
          "base_uri": "https://localhost:8080/",
          "height": 323
        },
        "id": "BmYOFkF-05d0",
        "outputId": "a80fc453-b4da-4d11-8617-c741327eb8c5"
      },
      "execution_count": null,
      "outputs": [
        {
          "output_type": "display_data",
          "data": {
            "text/plain": [
              "<Figure size 1440x360 with 1 Axes>"
            ],
            "image/png": "[encoded data removed]"
          },
          "metadata": {
            "needs_background": "light"
          }
        }
      ]
    },
    {
      "cell_type": "code",
      "source": [
        "y_train_pred = np.where(model.predict(X_train) > 0.5, 1,0)\n",
        "y_test_pred = np.where(model.predict(X_test) > 0.5, 1,0)"
      ],
      "metadata": {
        "colab": {
          "base_uri": "https://localhost:8080/"
        },
        "id": "l6AoWwMD1ENc",
        "outputId": "4c1829db-6d3a-44a9-d7b9-f555ffb6999b"
      },
      "execution_count": null,
      "outputs": [
        {
          "output_type": "stream",
          "name": "stdout",
          "text": [
            "10/10 [==============================] - 0s 3ms/step\n",
            "3/3 [==============================] - 0s 8ms/step\n"
          ]
        }
      ]
    },
    {
      "cell_type": "code",
      "source": [
        "print(\"Training accuracy = \",accuracy_score(y_train,y_train_pred)*100,'%')\n",
        "print(\"Valiation/Test accuracy = \",accuracy_score(y_test,y_test_pred)*100,'%')"
      ],
      "metadata": {
        "colab": {
          "base_uri": "https://localhost:8080/"
        },
        "id": "5XzsgKf61WL0",
        "outputId": "66f380c6-af2a-477c-abc5-98c43f082fe5"
      },
      "execution_count": null,
      "outputs": [
        {
          "output_type": "stream",
          "name": "stdout",
          "text": [
            "Training accuracy =  80.78175895765473 %\n",
            "Valiation/Test accuracy =  74.02597402597402 %\n"
          ]
        }
      ]
    },
    {
      "cell_type": "markdown",
      "source": [
        "**Result**: Mel Spctrogram Features Give better classification accuracy in CNN Model"
      ],
      "metadata": {
        "id": "qZIGoCLA_Cho"
      }
    },
    {
      "cell_type": "markdown",
      "source": [
        "# Auto Encoders"
      ],
      "metadata": {
        "id": "As-3gZ0C43UN"
      }
    },
    {
      "cell_type": "markdown",
      "source": [
        "## Pre Processing "
      ],
      "metadata": {
        "id": "KnfmqLXH46GU"
      }
    },
    {
      "cell_type": "code",
      "source": [
        "happys = []\n",
        "sads = []\n",
        "i = 0\n",
        "l_happy = []\n",
        "for dirname, _, filenames in os.walk('/content/'):\n",
        "    if dirname == \"/content/Happy\":\n",
        "        for filename in filenames:\n",
        "            if filename.endswith(\".wav\"):\n",
        "                happys.append(filename)\n",
        "    if dirname == \"/content/Sad\":\n",
        "        for filename in filenames:\n",
        "            if filename.endswith(\".wav\"):\n",
        "                sads.append(filename)\n",
        "                "
      ],
      "metadata": {
        "id": "xAX89Bg01e_N"
      },
      "execution_count": null,
      "outputs": []
    },
    {
      "cell_type": "code",
      "source": [
        "happy = []\n",
        "sad = []\n",
        "for i in happys:\n",
        "    for j in sads:\n",
        "        \n",
        "        x = i[:-4]\n",
        "        y = j[:-4]\n",
        "        split_x = x.split('-') \n",
        "        split_y = y.split('-')\n",
        "        \n",
        "        \n",
        "        \n",
        "        if ((split_x[-1] == split_y[-1])and (split_x[-4] == split_y[-4]) and (split_x[-2] == split_y[-2])and (split_x[-3] == split_y[-3])):\n",
        "            happy.append(i)\n",
        "            sad.append(j)"
      ],
      "metadata": {
        "id": "kDcMoNe55IY-"
      },
      "execution_count": null,
      "outputs": []
    },
    {
      "cell_type": "code",
      "source": [
        "maindf = pd.DataFrame()\n",
        "maindf[\"happy\"] = happy\n",
        "maindf[\"sad\"] = sad"
      ],
      "metadata": {
        "id": "jKWtfxfC5PqO"
      },
      "execution_count": null,
      "outputs": []
    },
    {
      "cell_type": "code",
      "source": [
        "maindf.tail()"
      ],
      "metadata": {
        "colab": {
          "base_uri": "https://localhost:8080/",
          "height": 206
        },
        "id": "5Oi2fG9v5UfW",
        "outputId": "c094d299-6049-4252-da91-f55fe5893afd"
      },
      "execution_count": null,
      "outputs": [
        {
          "output_type": "execute_result",
          "data": {
            "text/plain": [
              "                        happy                       sad\n",
              "187  03-01-03-02-02-01-12.wav  03-01-04-02-02-01-12.wav\n",
              "188  03-01-03-02-02-02-13.wav  03-01-04-02-02-02-13.wav\n",
              "189  03-01-03-01-01-02-12.wav  03-01-04-01-01-02-12.wav\n",
              "190  03-01-03-01-02-01-21.wav  03-01-04-01-02-01-21.wav\n",
              "191  03-01-03-01-01-02-22.wav  03-01-04-01-01-02-22.wav"
            ],
            "text/html": [
              "\n",
              "  <div id=\"df-e79585ae-92e1-468e-aaee-67f66a00fc3e\">\n",
              "    <div class=\"colab-df-container\">\n",
              "      <div>\n",
              "<style scoped>\n",
              "    .dataframe tbody tr th:only-of-type {\n",
              "        vertical-align: middle;\n",
              "    }\n",
              "\n",
              "    .dataframe tbody tr th {\n",
              "        vertical-align: top;\n",
              "    }\n",
              "\n",
              "    .dataframe thead th {\n",
              "        text-align: right;\n",
              "    }\n",
              "</style>\n",
              "<table border=\"1\" class=\"dataframe\">\n",
              "  <thead>\n",
              "    <tr style=\"text-align: right;\">\n",
              "      <th></th>\n",
              "      <th>happy</th>\n",
              "      <th>sad</th>\n",
              "    </tr>\n",
              "  </thead>\n",
              "  <tbody>\n",
              "    <tr>\n",
              "      <th>187</th>\n",
              "      <td>03-01-03-02-02-01-12.wav</td>\n",
              "      <td>03-01-04-02-02-01-12.wav</td>\n",
              "    </tr>\n",
              "    <tr>\n",
              "      <th>188</th>\n",
              "      <td>03-01-03-02-02-02-13.wav</td>\n",
              "      <td>03-01-04-02-02-02-13.wav</td>\n",
              "    </tr>\n",
              "    <tr>\n",
              "      <th>189</th>\n",
              "      <td>03-01-03-01-01-02-12.wav</td>\n",
              "      <td>03-01-04-01-01-02-12.wav</td>\n",
              "    </tr>\n",
              "    <tr>\n",
              "      <th>190</th>\n",
              "      <td>03-01-03-01-02-01-21.wav</td>\n",
              "      <td>03-01-04-01-02-01-21.wav</td>\n",
              "    </tr>\n",
              "    <tr>\n",
              "      <th>191</th>\n",
              "      <td>03-01-03-01-01-02-22.wav</td>\n",
              "      <td>03-01-04-01-01-02-22.wav</td>\n",
              "    </tr>\n",
              "  </tbody>\n",
              "</table>\n",
              "</div>\n",
              "      <button class=\"colab-df-convert\" onclick=\"convertToInteractive('df-e79585ae-92e1-468e-aaee-67f66a00fc3e')\"\n",
              "              title=\"Convert this dataframe to an interactive table.\"\n",
              "              style=\"display:none;\">\n",
              "        \n",
              "  <svg xmlns=\"http://www.w3.org/2000/svg\" height=\"24px\"viewBox=\"0 0 24 24\"\n",
              "       width=\"24px\">\n",
              "    <path d=\"M0 0h24v24H0V0z\" fill=\"none\"/>\n",
              "    <path d=\"M18.56 5.44l.94 2.06.94-2.06 2.06-.94-2.06-.94-.94-2.06-.94 2.06-2.06.94zm-11 1L8.5 8.5l.94-2.06 2.06-.94-2.06-.94L8.5 2.5l-.94 2.06-2.06.94zm10 10l.94 2.06.94-2.06 2.06-.94-2.06-.94-.94-2.06-.94 2.06-2.06.94z\"/><path d=\"M17.41 7.96l-1.37-1.37c-.4-.4-.92-.59-1.43-.59-.52 0-1.04.2-1.43.59L10.3 9.45l-7.72 7.72c-.78.78-.78 2.05 0 2.83L4 21.41c.39.39.9.59 1.41.59.51 0 1.02-.2 1.41-.59l7.78-7.78 2.81-2.81c.8-.78.8-2.07 0-2.86zM5.41 20L4 18.59l7.72-7.72 1.47 1.35L5.41 20z\"/>\n",
              "  </svg>\n",
              "      </button>\n",
              "      \n",
              "  <style>\n",
              "    .colab-df-container {\n",
              "      display:flex;\n",
              "      flex-wrap:wrap;\n",
              "      gap: 12px;\n",
              "    }\n",
              "\n",
              "    .colab-df-convert {\n",
              "      background-color: #E8F0FE;\n",
              "      border: none;\n",
              "      border-radius: 50%;\n",
              "      cursor: pointer;\n",
              "      display: none;\n",
              "      fill: #1967D2;\n",
              "      height: 32px;\n",
              "      padding: 0 0 0 0;\n",
              "      width: 32px;\n",
              "    }\n",
              "\n",
              "    .colab-df-convert:hover {\n",
              "      background-color: #E2EBFA;\n",
              "      box-shadow: 0px 1px 2px rgba(60, 64, 67, 0.3), 0px 1px 3px 1px rgba(60, 64, 67, 0.15);\n",
              "      fill: #174EA6;\n",
              "    }\n",
              "\n",
              "    [theme=dark] .colab-df-convert {\n",
              "      background-color: #3B4455;\n",
              "      fill: #D2E3FC;\n",
              "    }\n",
              "\n",
              "    [theme=dark] .colab-df-convert:hover {\n",
              "      background-color: #434B5C;\n",
              "      box-shadow: 0px 1px 3px 1px rgba(0, 0, 0, 0.15);\n",
              "      filter: drop-shadow(0px 1px 2px rgba(0, 0, 0, 0.3));\n",
              "      fill: #FFFFFF;\n",
              "    }\n",
              "  </style>\n",
              "\n",
              "      <script>\n",
              "        const buttonEl =\n",
              "          document.querySelector('#df-e79585ae-92e1-468e-aaee-67f66a00fc3e button.colab-df-convert');\n",
              "        buttonEl.style.display =\n",
              "          google.colab.kernel.accessAllowed ? 'block' : 'none';\n",
              "\n",
              "        async function convertToInteractive(key) {\n",
              "          const element = document.querySelector('#df-e79585ae-92e1-468e-aaee-67f66a00fc3e');\n",
              "          const dataTable =\n",
              "            await google.colab.kernel.invokeFunction('convertToInteractive',\n",
              "                                                     [key], {});\n",
              "          if (!dataTable) return;\n",
              "\n",
              "          const docLinkHtml = 'Like what you see? Visit the ' +\n",
              "            '<a target=\"_blank\" href=https://colab.research.google.com/notebooks/data_table.ipynb>data table notebook</a>'\n",
              "            + ' to learn more about interactive tables.';\n",
              "          element.innerHTML = '';\n",
              "          dataTable['output_type'] = 'display_data';\n",
              "          await google.colab.output.renderOutput(dataTable, element);\n",
              "          const docLink = document.createElement('div');\n",
              "          docLink.innerHTML = docLinkHtml;\n",
              "          element.appendChild(docLink);\n",
              "        }\n",
              "      </script>\n",
              "    </div>\n",
              "  </div>\n",
              "  "
            ]
          },
          "metadata": {},
          "execution_count": 93
        }
      ]
    },
    {
      "cell_type": "code",
      "source": [
        "maindf[\"happy\"] = '/content/Happy/' + maindf[\"happy\"]\n",
        "maindf[\"sad\"] = '/content/Sad/' + maindf[\"sad\"]"
      ],
      "metadata": {
        "id": "oFlQvQnz5ZBu"
      },
      "execution_count": null,
      "outputs": []
    },
    {
      "cell_type": "code",
      "source": [
        "maindf.tail()"
      ],
      "metadata": {
        "colab": {
          "base_uri": "https://localhost:8080/",
          "height": 206
        },
        "id": "plU91o5U5gmG",
        "outputId": "1863ab5f-eab8-4012-eb92-af4888602a39"
      },
      "execution_count": null,
      "outputs": [
        {
          "output_type": "execute_result",
          "data": {
            "text/plain": [
              "                                       happy  \\\n",
              "187  /content/Happy/03-01-03-02-02-01-12.wav   \n",
              "188  /content/Happy/03-01-03-02-02-02-13.wav   \n",
              "189  /content/Happy/03-01-03-01-01-02-12.wav   \n",
              "190  /content/Happy/03-01-03-01-02-01-21.wav   \n",
              "191  /content/Happy/03-01-03-01-01-02-22.wav   \n",
              "\n",
              "                                       sad  \n",
              "187  /content/Sad/03-01-04-02-02-01-12.wav  \n",
              "188  /content/Sad/03-01-04-02-02-02-13.wav  \n",
              "189  /content/Sad/03-01-04-01-01-02-12.wav  \n",
              "190  /content/Sad/03-01-04-01-02-01-21.wav  \n",
              "191  /content/Sad/03-01-04-01-01-02-22.wav  "
            ],
            "text/html": [
              "\n",
              "  <div id=\"df-b809f759-6751-4636-b63b-3cd6ecf89d54\">\n",
              "    <div class=\"colab-df-container\">\n",
              "      <div>\n",
              "<style scoped>\n",
              "    .dataframe tbody tr th:only-of-type {\n",
              "        vertical-align: middle;\n",
              "    }\n",
              "\n",
              "    .dataframe tbody tr th {\n",
              "        vertical-align: top;\n",
              "    }\n",
              "\n",
              "    .dataframe thead th {\n",
              "        text-align: right;\n",
              "    }\n",
              "</style>\n",
              "<table border=\"1\" class=\"dataframe\">\n",
              "  <thead>\n",
              "    <tr style=\"text-align: right;\">\n",
              "      <th></th>\n",
              "      <th>happy</th>\n",
              "      <th>sad</th>\n",
              "    </tr>\n",
              "  </thead>\n",
              "  <tbody>\n",
              "    <tr>\n",
              "      <th>187</th>\n",
              "      <td>/content/Happy/03-01-03-02-02-01-12.wav</td>\n",
              "      <td>/content/Sad/03-01-04-02-02-01-12.wav</td>\n",
              "    </tr>\n",
              "    <tr>\n",
              "      <th>188</th>\n",
              "      <td>/content/Happy/03-01-03-02-02-02-13.wav</td>\n",
              "      <td>/content/Sad/03-01-04-02-02-02-13.wav</td>\n",
              "    </tr>\n",
              "    <tr>\n",
              "      <th>189</th>\n",
              "      <td>/content/Happy/03-01-03-01-01-02-12.wav</td>\n",
              "      <td>/content/Sad/03-01-04-01-01-02-12.wav</td>\n",
              "    </tr>\n",
              "    <tr>\n",
              "      <th>190</th>\n",
              "      <td>/content/Happy/03-01-03-01-02-01-21.wav</td>\n",
              "      <td>/content/Sad/03-01-04-01-02-01-21.wav</td>\n",
              "    </tr>\n",
              "    <tr>\n",
              "      <th>191</th>\n",
              "      <td>/content/Happy/03-01-03-01-01-02-22.wav</td>\n",
              "      <td>/content/Sad/03-01-04-01-01-02-22.wav</td>\n",
              "    </tr>\n",
              "  </tbody>\n",
              "</table>\n",
              "</div>\n",
              "      <button class=\"colab-df-convert\" onclick=\"convertToInteractive('df-b809f759-6751-4636-b63b-3cd6ecf89d54')\"\n",
              "              title=\"Convert this dataframe to an interactive table.\"\n",
              "              style=\"display:none;\">\n",
              "        \n",
              "  <svg xmlns=\"http://www.w3.org/2000/svg\" height=\"24px\"viewBox=\"0 0 24 24\"\n",
              "       width=\"24px\">\n",
              "    <path d=\"M0 0h24v24H0V0z\" fill=\"none\"/>\n",
              "    <path d=\"M18.56 5.44l.94 2.06.94-2.06 2.06-.94-2.06-.94-.94-2.06-.94 2.06-2.06.94zm-11 1L8.5 8.5l.94-2.06 2.06-.94-2.06-.94L8.5 2.5l-.94 2.06-2.06.94zm10 10l.94 2.06.94-2.06 2.06-.94-2.06-.94-.94-2.06-.94 2.06-2.06.94z\"/><path d=\"M17.41 7.96l-1.37-1.37c-.4-.4-.92-.59-1.43-.59-.52 0-1.04.2-1.43.59L10.3 9.45l-7.72 7.72c-.78.78-.78 2.05 0 2.83L4 21.41c.39.39.9.59 1.41.59.51 0 1.02-.2 1.41-.59l7.78-7.78 2.81-2.81c.8-.78.8-2.07 0-2.86zM5.41 20L4 18.59l7.72-7.72 1.47 1.35L5.41 20z\"/>\n",
              "  </svg>\n",
              "      </button>\n",
              "      \n",
              "  <style>\n",
              "    .colab-df-container {\n",
              "      display:flex;\n",
              "      flex-wrap:wrap;\n",
              "      gap: 12px;\n",
              "    }\n",
              "\n",
              "    .colab-df-convert {\n",
              "      background-color: #E8F0FE;\n",
              "      border: none;\n",
              "      border-radius: 50%;\n",
              "      cursor: pointer;\n",
              "      display: none;\n",
              "      fill: #1967D2;\n",
              "      height: 32px;\n",
              "      padding: 0 0 0 0;\n",
              "      width: 32px;\n",
              "    }\n",
              "\n",
              "    .colab-df-convert:hover {\n",
              "      background-color: #E2EBFA;\n",
              "      box-shadow: 0px 1px 2px rgba(60, 64, 67, 0.3), 0px 1px 3px 1px rgba(60, 64, 67, 0.15);\n",
              "      fill: #174EA6;\n",
              "    }\n",
              "\n",
              "    [theme=dark] .colab-df-convert {\n",
              "      background-color: #3B4455;\n",
              "      fill: #D2E3FC;\n",
              "    }\n",
              "\n",
              "    [theme=dark] .colab-df-convert:hover {\n",
              "      background-color: #434B5C;\n",
              "      box-shadow: 0px 1px 3px 1px rgba(0, 0, 0, 0.15);\n",
              "      filter: drop-shadow(0px 1px 2px rgba(0, 0, 0, 0.3));\n",
              "      fill: #FFFFFF;\n",
              "    }\n",
              "  </style>\n",
              "\n",
              "      <script>\n",
              "        const buttonEl =\n",
              "          document.querySelector('#df-b809f759-6751-4636-b63b-3cd6ecf89d54 button.colab-df-convert');\n",
              "        buttonEl.style.display =\n",
              "          google.colab.kernel.accessAllowed ? 'block' : 'none';\n",
              "\n",
              "        async function convertToInteractive(key) {\n",
              "          const element = document.querySelector('#df-b809f759-6751-4636-b63b-3cd6ecf89d54');\n",
              "          const dataTable =\n",
              "            await google.colab.kernel.invokeFunction('convertToInteractive',\n",
              "                                                     [key], {});\n",
              "          if (!dataTable) return;\n",
              "\n",
              "          const docLinkHtml = 'Like what you see? Visit the ' +\n",
              "            '<a target=\"_blank\" href=https://colab.research.google.com/notebooks/data_table.ipynb>data table notebook</a>'\n",
              "            + ' to learn more about interactive tables.';\n",
              "          element.innerHTML = '';\n",
              "          dataTable['output_type'] = 'display_data';\n",
              "          await google.colab.output.renderOutput(dataTable, element);\n",
              "          const docLink = document.createElement('div');\n",
              "          docLink.innerHTML = docLinkHtml;\n",
              "          element.appendChild(docLink);\n",
              "        }\n",
              "      </script>\n",
              "    </div>\n",
              "  </div>\n",
              "  "
            ]
          },
          "metadata": {},
          "execution_count": 95
        }
      ]
    },
    {
      "cell_type": "code",
      "source": [
        "train, test = train_test_split(maindf, test_size=0.30)"
      ],
      "metadata": {
        "id": "MTM99sZA5jKP"
      },
      "execution_count": null,
      "outputs": []
    },
    {
      "cell_type": "code",
      "source": [
        "file_count = 0\n",
        "train_hf = []\n",
        "for count_, path in zip(range(train.shape[0]), train['happy'].values):\n",
        "    x , sr = librosa.load(path)\n",
        "    mfcc = librosa.feature.mfcc(y=x, sr=sr,n_fft = 256, n_mfcc=20)\n",
        "    mfcc_t = mfcc.T\n",
        "    N = mfcc_t.size\n",
        "    if mfcc_t.shape != (256,20):\n",
        "        mfcc_t = np.pad(mfcc_t, ((0,(256-mfcc_t.shape[0])),(0,0)), mode='constant')\n",
        "    train_hf.append(mfcc_t)\n",
        "    count_ += 1"
      ],
      "metadata": {
        "id": "Rw6HQ3nd5nIf"
      },
      "execution_count": null,
      "outputs": []
    },
    {
      "cell_type": "code",
      "source": [
        "train_sf = []\n",
        "for count_, path in zip(range(train.shape[0]), train['sad'].values):\n",
        "    x , sr = librosa.load(path)\n",
        "    mfcc = librosa.feature.mfcc(y=x, sr=sr,n_fft = 256, n_mfcc=20)\n",
        "    mfcc_t = mfcc.T\n",
        "    N = mfcc_t.size\n",
        "    if mfcc_t.shape != (256,20):\n",
        "        mfcc_t = np.pad(mfcc_t, ((0,(256-mfcc_t.shape[0])),(0,0)), mode='constant')\n",
        "    train_sf.append(mfcc_t)\n",
        "    count_ += 1"
      ],
      "metadata": {
        "id": "GYIuNlzr5yAn"
      },
      "execution_count": null,
      "outputs": []
    },
    {
      "cell_type": "code",
      "source": [
        "file_count = 0\n",
        "test_hf = []\n",
        "for count_, path in zip(range(test.shape[0]), test['happy'].values):\n",
        "    x , sr = librosa.load(path)\n",
        "    mfcc = librosa.feature.mfcc(y=x, sr=sr,n_fft = 256, n_mfcc=20)\n",
        "    mfcc_t = mfcc.T\n",
        "    N = mfcc_t.size\n",
        "    if mfcc_t.shape != (256,20):\n",
        "        mfcc_t = np.pad(mfcc_t, ((0,(256-mfcc_t.shape[0])),(0,0)), mode='constant')\n",
        "    test_hf.append(mfcc_t)\n",
        "    count_ += 1\n",
        "\n",
        "file_count = 0\n",
        "test_sf = []\n",
        "for count_, path in zip(range(test.shape[0]), test['sad'].values):\n",
        "    x , sr = librosa.load(path)\n",
        "    mfcc = librosa.feature.mfcc(y=x, sr=sr,n_fft = 256, n_mfcc=20)\n",
        "    mfcc_t = mfcc.T\n",
        "    N = mfcc_t.size\n",
        "    if mfcc_t.shape != (256,20):\n",
        "        mfcc_t = np.pad(mfcc_t, ((0,(256-mfcc_t.shape[0])),(0,0)), mode='constant')\n",
        "    test_sf.append(mfcc_t)\n",
        "    count_ += 1"
      ],
      "metadata": {
        "id": "_iC-CQN0501d"
      },
      "execution_count": null,
      "outputs": []
    },
    {
      "cell_type": "code",
      "source": [
        "print(np.array(test_hf).shape,np.array(test_sf).shape)\n",
        "print(np.array(train_hf).shape,np.array(train_sf).shape)"
      ],
      "metadata": {
        "colab": {
          "base_uri": "https://localhost:8080/"
        },
        "id": "n9VBs5zt6NQn",
        "outputId": "a89585ad-13e8-4bad-8f58-4f74b3739e54"
      },
      "execution_count": null,
      "outputs": [
        {
          "output_type": "stream",
          "name": "stdout",
          "text": [
            "(58, 256, 20) (58, 256, 20)\n",
            "(134, 256, 20) (134, 256, 20)\n"
          ]
        }
      ]
    },
    {
      "cell_type": "code",
      "source": [
        "train_hf = np.array(train_hf).reshape(134,256,20,1)\n",
        "train_sf = np.array(train_sf).reshape(134,256,20,1)\n",
        "test_hf = np.array(test_hf).reshape(58,256,20,1)\n",
        "test_sf = np.array(test_sf).reshape(58,256,20,1)"
      ],
      "metadata": {
        "id": "GjmQpbpQ6Wov"
      },
      "execution_count": null,
      "outputs": []
    },
    {
      "cell_type": "markdown",
      "source": [
        "### Autoencoder Model"
      ],
      "metadata": {
        "id": "pZhzDisY7eWz"
      }
    },
    {
      "cell_type": "code",
      "source": [
        "tf.keras.backend.clear_session()\n",
        "class AE_Audio(tf.keras.models.Model):\n",
        "    def __init__(self):\n",
        "        super(AE_Audio, self).__init__()\n",
        "        self.encoder = tf.keras.Sequential([\n",
        "        tf.keras.layers.InputLayer(input_shape=(256, 20, 1)),\n",
        "        tf.keras.layers.Conv2D(128, (3, 3), activation='relu', padding='same'),\n",
        "        tf.keras.layers.MaxPooling2D(2, 2),\n",
        "        tf.keras.layers.Conv2D(64, (3, 3), activation='relu', padding='same'),\n",
        "        tf.keras.layers.MaxPooling2D(2, 2)])\n",
        "\n",
        "        self.decoder = tf.keras.Sequential([\n",
        "        tf.keras.layers.Conv2D(64, (3, 3), activation='relu', padding='same'),\n",
        "        tf.keras.layers.UpSampling2D((2, 2)),\n",
        "        tf.keras.layers.Conv2D(64, (3, 3), activation='relu', padding='same'),\n",
        "        tf.keras.layers.UpSampling2D((2, 2)),\n",
        "        tf.keras.layers.Conv2D(128, (3, 3), activation='relu', padding='same'),\n",
        "        tf.keras.layers.Conv2D(1, kernel_size=(3, 3), activation='sigmoid', padding='same')])\n",
        "\n",
        "    def call(self, x):\n",
        "        encoded = self.encoder(x)\n",
        "        decoded = self.decoder(encoded)\n",
        "        return decoded\n",
        "\n",
        "autoencoder = AE_Audio()"
      ],
      "metadata": {
        "id": "7PrOjzBq6iSP"
      },
      "execution_count": null,
      "outputs": []
    },
    {
      "cell_type": "code",
      "source": [
        "autoencoder.compile(optimizer='adam', loss='binary_crossentropy')"
      ],
      "metadata": {
        "id": "LtaZqo4D7p9v"
      },
      "execution_count": null,
      "outputs": []
    },
    {
      "cell_type": "code",
      "source": [
        "history = autoencoder.fit(train_hf, train_sf, epochs=10,validation_data = (test_hf,test_sf))"
      ],
      "metadata": {
        "colab": {
          "base_uri": "https://localhost:8080/"
        },
        "id": "5Bba05cX7rpn",
        "outputId": "f03e2c13-6c24-4e0d-af06-b76888549b78"
      },
      "execution_count": null,
      "outputs": [
        {
          "output_type": "stream",
          "name": "stdout",
          "text": [
            "Epoch 1/10\n",
            "5/5 [==============================] - 3s 301ms/step - loss: -1741.0889 - val_loss: -15938.1504\n",
            "Epoch 2/10\n",
            "5/5 [==============================] - 0s 43ms/step - loss: -52733.0664 - val_loss: -239828.8594\n",
            "Epoch 3/10\n",
            "5/5 [==============================] - 0s 44ms/step - loss: -578868.5625 - val_loss: -1934983.7500\n",
            "Epoch 4/10\n",
            "5/5 [==============================] - 0s 43ms/step - loss: -3950291.5000 - val_loss: -10874637.0000\n",
            "Epoch 5/10\n",
            "5/5 [==============================] - 0s 44ms/step - loss: -19735214.0000 - val_loss: -48097544.0000\n",
            "Epoch 6/10\n",
            "5/5 [==============================] - 0s 42ms/step - loss: -81264416.0000 - val_loss: -177953008.0000\n",
            "Epoch 7/10\n",
            "5/5 [==============================] - 0s 42ms/step - loss: -282126208.0000 - val_loss: -573056448.0000\n",
            "Epoch 8/10\n",
            "5/5 [==============================] - 0s 45ms/step - loss: -865427328.0000 - val_loss: -1652498944.0000\n",
            "Epoch 9/10\n",
            "5/5 [==============================] - 0s 45ms/step - loss: -2411715072.0000 - val_loss: -4338797056.0000\n",
            "Epoch 10/10\n",
            "5/5 [==============================] - 0s 44ms/step - loss: -6124627456.0000 - val_loss: -10504792064.0000\n"
          ]
        }
      ]
    },
    {
      "cell_type": "code",
      "source": [
        "sample = np.array(test_hf[0]).reshape(1,256,20,1)\n",
        "es = autoencoder.encoder(sample).numpy()\n",
        "ds = autoencoder.decoder(es).numpy()"
      ],
      "metadata": {
        "id": "wBzf71x07-a_"
      },
      "execution_count": null,
      "outputs": []
    },
    {
      "cell_type": "code",
      "source": [
        "mfcc_test_Sample = librosa.feature.inverse.mfcc_to_audio(ds.reshape(256, 20))\n",
        "soundfile.write('example.wav', mfcc_test_Sample, 20000)"
      ],
      "metadata": {
        "id": "zILbRsV18LuA"
      },
      "execution_count": null,
      "outputs": []
    },
    {
      "cell_type": "code",
      "source": [
        "ipd.Audio('example.wav')"
      ],
      "metadata": {
        "colab": {
          "base_uri": "https://localhost:8080/",
          "height": 76
        },
        "id": "8zwKKhm38PxA",
        "outputId": "a07fba82-818f-4187-93b5-2767b589a098"
      },
      "execution_count": null,
      "outputs": [
        {
          "output_type": "execute_result",
          "data": {
            "text/plain": [
              "<IPython.lib.display.Audio object>"
            ],
            "text/html": [
              "\n",
              "                <audio  controls=\"controls\" >\n",
              "                    <source src=\"data:audio/x-wav;base64,UklGRiRMAABXQVZFZm10IBAAAAABAAEAIE4AAECcAAACABAAZGF0YQBMAABM9tvrsQjBJpoFUvTPBirzcP1Q75fz3gm5FJn++AHI/J8Gjf/o8RoS3AQ7FYoTjwiR/yIJeQKQCcL3I/kjAPIEov1SEn0FdBt592kEjQbJD5cOXv4DEp37EQxAHIDsFPoYD5T5eQNB+57gt+8EGXEXSy6ZCHscPvgBC3v+1QoC/lQJuwR5A7Dlj/QW8cT49fdfAwQFmfzM9d0I5QoL++fyMN8IEkn6ae1HCGL8XAv/Dcn8gf1eD2f3kPwQCDoEItzu9T//Y+ar/SIJjRFX9XoHhfiPA+f8BOkiDEcIYvo2BMX7qA35/bX1E+67/EsR2gQgEEAMtweRHuj5rRXO9yXz2vkPC5fzqQgjBLDz5/yS91L/a/lh76fzFwDNAR8C7wRMBv/m3/OcC3D5Ih2a9kgKfQx69cUKzh5NBGD+sCDb5Mj5QvWbDusXavI44hb4N+/eHyPhzvnN9/4Cug/a6ocNpO50/4sIbe0l+TkMXRLbApcMwPok61X76wBoAzjp1QLD/o0I3v04BTMKtBH5AA8EphDW7kwP/hAIBdf+IA+MAbb1Gw1mAjsXOwfQ+pn7/+d7/GgNm+56/mDw3OYU9OX/Yx229038iQEV/ar7gffHDaXmkPpoESH01PtS/LsAJ/Qn95fixvUTAg7+2/iuDIwcMebtCEQKgvVi/Vn+qxkI+T0J7fiFEWwHeRlq7APq5Qxq+e8BPgKKBWPob+hAAS0JpOhE+08IIP8Z+RoCju4L5dIQ0eu6B8IPkOo7BEzhZv3I+NPwy+u4E1cXEAgy7AwFAxAh8HHxSug5D5zwSAJF/yAKpRfeBPwCUwxG+cMDvBEK/+z84figDOYRJAl8+lcTKQ2jCjjxnwpe6sXkQAEuAYj7VvgNGyoHKhqSC4MJrwDZ9UL7rBRU/ZEWaPZGA8IKu/ze9hkeau4AE3389PyGAWThYwz08VIRiRcr8wPg/vWFHD/5gtlMAE0PsQGK8UELEwxx9uvryQuhAEv+nOzQA6QP7AcKEpv7C+5VBqvxD/qIBlT2tw1m9N4KKPFTAvflsvhKBXn/kfah+CERv/Ks9N3zjPLq9loGXPeyBcEOvf+l0u/0SgsxFP/sMvlg9RzslwHJ9QH8GA19DI346gJUBQQBrf3E7GYcUPse9DPoyxLrAYP3UAYgD+r3//psFV3acu81Hivv0v34BScaYBSnCoYK9QFDD74Mi+ZV8NLvqgtM6wf32gu1Dbf9pgrO/L8USP5Y5n3gge0lDCQGBwB979QLyOu2BEQOXxQB/+TxS/Rl/pQXrPUTCF8KFPo0/dgHAfSuCMbczwe/4dIEHP0nBGjzzevv8x4HlQfJ/oYAGe9RCf8HggX6Cv/nt+2vEIQFJwlOAWX9SffcDo//OQSi8pQZaQEi7CUAhP6z/pYS2ga2EaT24ObV/ur6Xf1BAFgLXx4Z4RMSh+PnAbEA6AYK6U7wNAQbC/P+Iv/27YAS4h7qA7wjnvZ8BaUAPAp374EVOADuBrzf8PfP+aTwogla/54EEg3REfHz7B0LDmwAnRmSB9bszgTwAtD7ifsFDCkJh/bfHXcJE/0AASvoJRMk9W0NlRNCDvn3B/7UCNLxxRtfELAB2/sf3H79vQGVC/4EEg0S5ZPqrP2tBaYKrfw3/b/WAQR597kFy/8p5S0Ba/3/AwAG2gmxBEfo+/snIokMne0qBkgGg/vjCQcKZPa/Ei7uABueB8QJFQ2tG8IDEBBX7Pr2jv2H6kEPNvGv+KjzpvEV+OsKMPMB7gkZB/4Y9jgAUPfy7tP2d/3s+nwL1eF9A4H8sAurEtoKiwsgBHP/UP3gAbb9kAz7FUMEPgtYAcT7BfOJ6gfh4QhG6EcGK+vE9xQBWuIM9pH9nfrjEF3/0/uxDQELofNOGOH5vPIqCIkAePoP5fT4LASoDvwQc+2y8Pz2a/Oe7UX7buedArUjDRZFDoAEi+06EQv7dvW6+Z7sFwchArgJ3fI7+9rv3vGTEB4M7/o2H7YOtPdl7mUMSPtpAMDxDP4YCloMe/nZE6UD+fxHAqcOn/yE6XYeLwFK7tn6FvqaA9D8IeTK9u75ogqxCAUSwvdN/0P8Rf2D/3HqWgIuEuXxwexOGhEHSgnPCLTyCvFHChMeeQMdBzECkQt2CIkFLPrCB3r8AQuY/+z3yPIh7W30AP4iA+r4jhim/bAKogcq3oEK4fQ3/uYCMQxK+cMIsvAc90YOiPx8DSobbfTA/GH74Pg0A9wPs/aE9N8QEdvJB9cBhvMjACQLBwVS/6X7cgGU3iwX+/xyA4rvIAXh+H8ODwq780QO8w0M+0QUE/2DCor2GgGL/9r5s/jA+1T5QvuC94LlmwWsCQL/XAv7/DEUByIm+DsBBvvm9t72Cghn/9cCARNv/j7wPu355V/6d/zI4mL4GSfXG4jvD+dT7rT0CPg//HoI5gsMDzAIYfZr/gYb1Qs/Gdr1HvJp/G0JkvnI9SQb9vnh4xsLiwLRH2YD9QqMA5MXgwYV+BIU09fl9UwVpeZQ71IHwwV6Dp8TBvcy9ZUIRQKX+f757vVnB9cAAvVNEoLmYPoPC9P5yPXbCB3y4v7//9fyLg2RDE0AsAUICDcEwebY97EBK/cdFbULcfQlFykXSfbp/0n/9RDT/AIX0hTMAAYRzSSN/UH+/+V499zzy+yUELAH5A3e/RD9Yu/cKNcDpvmGA0YDKhLFB/sH7QQi/SL7yQo59XsCNQc056vpugf5B5cICO3MACkeWCEeFNAMnfXMCiT2MAAD9Kz3ePHa5yD7Xfu39hnh3/xABJ0TXA3d8UTw0+QS+awfRwRTGEvyvAEO5PHjrPug/C4I8RK28BgENvR4BEP+AvzME3ziCvqI/n3+Nvco/Zn38/XDB/sAGQFF/8Eau/HhAygL0PBICaoTpPJT6qIcpQDBL0fzFBEwB6cKBgqK+ov/rAKRAHTnuf1j7yTxsP8wBYjl5PvsC97uh/T1/kfzrwzX4zv9o88/8ygBNRStBBD+pfm979oEehMM/jP7rNXk+tzLUOWlDsX2j/vkBLfoDvk/+5T3SA1d8tMF++K7+5ftJhF7Fcn/Cx6sGUUJWPVt8rIF7gEH/dfwvhA897f3Iwe09SL/N/Q0+Nz8W/AHDCcTxBYM7gv/wf0U+ykPhQiT9gkD7/9S684IDwDnBjzmZw5MFDj6o+5fHFMJvO/oA2j7SQxU+jjwQRYt/UgZvBJT8xQJVwdtEfECKuoTCv329OnE7ur9mPl18OX+ew1cEm/q8Pss+8n8wfta95MBkQVD/K8CjgUREsvqgwZs+44WUenr3SwZ5QiGA3wFLfVT9AcRZQUTCr7vBvWz9pAAygGj9trqfAG9/rkVSflT2ir22wBe+rflKwqECwYBPu52FS77Ge114gwKb/Ye7pf+MADdC37uDOWb8MIMyQ5WGwbqkB1+8D3+sgeLAJ/+Bgm0AUECfgJg/mL+rQ1ODWwJEv2J9F/7ghKo/70JJgAj6sYTefKS+WgDjxsEB8Psr+txG9/oh+uR/SQVBwce/ZkOTAPv+EH9LfzLC1H6aPSeFkb5mAve+cz0dQaDB5cYfPMyDHUQWAr8CcoGcQROCPkKHBx8CzIA3gQU4l39OvXi8BP/HfY08hgQ2fNLDncHsPXGArD3tgXD4wkTLg2C/44IffjoDgv04Qp1DxUBMeX95lMOefex8zztLBX1Bt35tPaeBXkIy+NfAAoEbgKTBUUHT/zQ8iIPO/bO2kD2FQ4DBGgCefLqBETvvQWZAUToj/x5A73XQApWDTAUAgQX9GcXUOlmIcf96PzRBlgNOwPo3t0JUApZ6zT54gD/D4jcaQef9iEHre4M/cH7bvNKAw7+qvpWBBD5VtECCMoC3wr+/F4Azg2yBOAQ6flR9+QQxPLMCr8e4vLgA4HdixfZIaUIq/DiDcP79A+C7/cElfRj9QIgTAVeERD21x1WDw0JYAaBFbj+lA1UCxD3JgakAogDWQlv+YAXPfbP+4sFk/+5A0EBpeEWARAJCg578A7ugPef/f0VWgBXDBEK7/nJ64z5wQZaBCAFxAw1A8IB7wMW9XICPRPgElT5JPRBAkLrOwN+GtsB4AQnCfLvp+hJ/H7/X/mU76YDbRX+JxPluxA09SQFZvYPFF8YefzBBcn+WBoyH9Mdfvv1CM33hgwz/T36j/4pDCEbzfVuJu/88PhH8ovv/OtmE3APJPxmB0b8EQX2EwINvuuzA2L++/+JBuALs+IkBssCGg5H/LYZVPUw+XD2dRObAlr+3/50+DMOMPdj/+oITgyk0Xvj2hjb5nQCj//EFV33qAVQ/YAYGhJbFSz9+PTTAl8Gr/xkGhfwBeZZFVXh2BlsDVz0+wRX82oAIevH/RP/fwIt9XQEtwbuAZoTXfvT7MDzLfS19c3m8fZe9cH+Qvdj8NEHChKWDFn0RgudAIsOYAh6/kYL3PGUCPQEq/lZFf7vtBQxBVIB8BxCEjjqXwtJ6ZntcgRjC0AE4RfK8CAIuvd6BUYH3QN76GMCdPGICa/1ivGV7WzpLPOxBmzk9fUgGsAJsgWB8cX57e+87RES6hMZ9jwgIAdhDFTugQKg8DcGoPJa/RsIC/qa+ucDQ+OHHIT/NPKfAIzzQvuLF5gIZOAZFzD9RelK9I330OkUJxoGmALPCyEPKhK2EbL5y/S9+g79K/esCov0PQxOBNgIa900Bin1MvV+Ec4El/h/Dl4joQqG99j0A/aaGSkFEwgD9PEDTto74u/51+4UDWEZ5BQaCNf/mhDaCI8IEfyVBGESAwHj/5j6guWN6REahwPDEbcR/PTfBzn+IAZzAkn0zfD19/oLwPLs65jnh+Wt9dr1SgQ3CdIL/fzkEJwYrvHeBAf3xerlCs781gRx+/UCuhFW+rX1dwCyHM/7MBNeB+DyuwUMB2MTxOVy++4CXfxC7bjcHQ1l/MgANwVX/f4E1Q/R7hb1KREQEgX/oAHd8S35JAVG+CL+vPP+GjAgCQ+f+ZvrFQAA9SP4l/QF+k4JZBRH13X7agb+2SwRCAme9FICESRqCKIODOhg9ZP1tAHz6wILPgE7Ha4Mpvz3EhENxBnZ91br2+58EmwL2vIz+CEL4fPkBqX+FhZE6QkbW/T/EQ8J7RJPAIn8N/4g/i4EYQjlE4YQ+/ZE+CvwlfHxAN/6WvpAA38EPv048fcL4wR5/oMhj/iq8NjshRkdBAX+j+9ZCH0NdvpY/O/uZOct8eH9uP+wBjTuowkrAlMdVgXZ9JYaq+87FyoK3wg8KUf9ph7r8ST8RPyz/fLupe1C+oT1ahyE7BYDVQW6B+34EAzz5ZHxBAlh7gQEWBBf9Drg4wuiEmr89PEm94P0C/mIBFj+YhQeFecLdARu+d8LwfbkDL3+OgRy/Kz1dwtkAZT8E/d0B6XzQtjSIqMRjfajABoNfwsX9yUIAutr89IGYgcb9oYFSOM/7yL2v/kU9sj1V/Yk66gBaArECpP+rPvm8Drx1+3f5ggLSf2g/Bnz+wJdIdEIhgonEGjxAwjTD5MQe/uC8jsIRAJVBm73hQfgBtsVTfiw9wnf2uok+nb7vPamFILoF/IwD1gJnxNGB+T4wPyO8icBXRdh+u/94g+iAgD9Uf9Q/rD64AWw+nsXrv2s8Y4M5uYCB27svv5F7Wb71/8Q+Qn43AvU+aL7PAq7Gnf8OudgAG/1igB161Pyr/4nDr7vDPkn61Pw3ety6lDw0fdCCinlE/3Y8732Dv8F9mUW7A339xXpY/Jh/rcKrAIe/BTynPaK5Vz+dvFp/D/8cQnLAhndDfTjATIROwt3A4MO3vDM8dQABgYpD3sNQ/v0Bi0OsAB1BM0OnA7v+0Yb6fq1Crf8lOxN/6bvrBQtDtIXkRFv+W4KxRZn8mf3p/UmAd3puf62A+Pp8xNcARUFHOmVBjwBjQ/K8JMB5gjaBpzobvAODNsf7xMt8XkFBQUP+tj52AOWBJwDV+PF+54IGxCN+R8C/ho89rX1OwQS8kUXCAesBjni++z6J8z0GPDgCxcAWwAyDrry1xPq4GEHxBvjCr8TcuLACx0PpgCq9TII0+ta6ygD3wDi6o7ryA7v88z3egIp/zIPjwj6/fj8TNd1/bYO3RFt9DQCB/4n+lwKWgFj9ZPqAfkZ66IBRf6d9af3IvIN8LD0TAd/ECP5Tgj07AcKFuqU/in5BRC8/gcCUBLPBp0U2+zj+jgbX//T98UGuAK39WAKF/UQAnr8ZPF6Atj9Yv2vDccEa/wPBtHzVAkgH+H9Mgdf9CkAdP/L4S3/zP6s8krrVhM2/KjvhhHy/qj/Z//10UEGnPPXB+cZmtyV5+QTj/0pC7371vPS8QD4UPd+Guf/ePbh58Hx6vnJAVsYFRewC0j/cfX1BCwCLwdZJ0wUKv3m9bf/jAokBNASKRbCE+b0efcvAhf1fPsu7ZANXA4X7u4A3wnl68f8JwKUAhQEX/vH8vsXkQcp/9sERwgP7c35Iv6MAFYJFAFYDqLxu/f7H6fr2PaRHS39RAGCDNYYzQ6I5nkY3AACDycZVt2v/oojm/05CIwALvzmB0/ukBZM+VoPQhKWAEL0ZgaVH+wLS/USABD/APOw+WL1PhnYCmsWRgPgBNcQvBzDCHYGkPsWCTnzf/JYDOgYFgJ8ECsPmPvTBKL0Cwmi5UP4/wE4B/IJZgKO7XsAEPyMES0Nu/kOAHLgEgB4/PYE8PNBB8gX7fTWCrz8+fX98VL5+v1VEoDYwuUvCzgG9OoN9UABmBS0CJT5YQei9ycA1Pv+Cfwd5g6q/sUIOAAF9db4Ie8ZDRT9qgJU69/x4g+r7HABnP4hAzXu1wU5EfUE/f7iHAoB2v6rFhUCNvzkBWPlk+aXAIQWAf0q5A76mRK5D7AIkO5IIuYE3g8KCtsf0PGxBqDyDfx1EssVye98/TYV/PRsKPPbAQT14t8PNw+866oSEPHfBwgF6hhCBa7xIwO668QC9/hs8VPy4wN2BCr/fPlm+lnpIek4/9YNmwxiECv0zQac/2cBbvLGDAb3SvAF64fzif9xGUQPPgj0BFH3tg67/hDgn/Me+cPz6/uHFkgH/hPg//8FIQNpGdAY49wBD7EAcwPJBEYJuujiC/H23Ac4+1rvxPgWHA74AwOo/bH3R/tn8Wz7kfRn/RD0I+uhD+MS2e0HIbwMu/Ol8FgNCw+C+0IJrQLX+CUABPus7SwBvfKc/rP6RAFZ6t0hY+Y/6w4GtAIT9vEBHQTT+BX7//1X9N7sHAU+9EgLPQY9Dlsi8xNV90v+2OOS5VILow+ZDtgER/kdAjIIMPeg/JUD8vxZA/ceEwcu5CPoZQeu2Zf/7fZm76sJvABe+Wv5/fPBEtkExQQQ76wFGySBCLT6DwBmD2gargjXCNcGKvu4DukL6xNV/KEadwIB6jb4IvyF5uwXaQGWBcPtjA0mC/n08+2fA84MieFGJP8Icw7jESQDLvud8mLoeObY+ib2yP06CgDyYhJO7yEAoQ++DQQQxOvnBn73YOdHA2b6afsvExcHm/9R36EGWvBEHAzrlRVlB1AMFQTSDJXlmu3Q8bIMGfE7E1zzWgwg+3oUsfLB/TvyogvwDk4JFBKmAPgGuQdEArn6sPltAbQJvt01Ahv9We+D6hb7GO3nFoICKv37GcYbKPuw9arm9AUl+NT+Yfq598X1jfAxD4kRiAno8Wf5zxG/7jsFxQ3jF5sLQfFbGhXynBhO6w7+bPluDq4SA/ufBT/wbAvWCQr3rPpm7i79eAb7CoD6hBzRC0PmUPcE5/EK4Bw6+FzxugNZ8IUYhgLL8fH2YfilCMX8PvkP9CUH3AQv4FId4gzN9GYapxqIAV8NFf8J+FgLLPeO9t//Zf0p8JECKQiV/OoHp/qpASf1aPhu/cANSf2/DPcVDu2aDhz/T+jWA4UOgPKi8rMNfuX9B5IAse9Z/3kMThPo/wQHRPQt+o/0nPsB8eb1d/LI7rzczRdZF+vw4fpn6R8mwRKuD+cRIBlZ9Cvz6g6G/HT0TQKQ8UYDS/du/H0Kr/2zAuDttAXZ8gz3MPQiEfbvFhRR99r1GQKR+0f6MvwOF3kVfBU6+8cKhOhCARj1/ub+9Uv37A8HAkX6/eW69pEHEBz09if+RwiXAXsIYxbM6Cz3+ARD+08JBtKmCI31be6/Bt38BBFZBJwFXuZp8A0PqgJC+Ajoehl37fURrg/CFrkcwfva/NsWVQZJ+TMDPQAtB9MGkvpODhr9lQs//+L6BREBCBX13PmP/G3wRP5N0mH2nAZVCjXri//IDgvtFgYoCbH/fBB6/gMBwQMNENobnOuPHiQDWg9aHHn2CgMS82IEDgHZBoj6dgEu8jgAIv5V/bkDUu90/8nnse3sFJDsuvH57HccM+149mT2CfhoBRj64BOY/YD2W/AICHr0ovMg1nTwCP4hCy3pIhWM/FP4oxmy6ZT67/4tC+UKjxPyAwH4+gvqFnvxKPC9BbIRqf7DBHsLnf1SClMIfwhcCnYScCYK5R7lzxaWF80D8vbP/kkJ1eBXA5YGZv5DCLr9vPbk8EERuQAe/9QPTBiyL7r2HQUqEMIR4w/PBf///wRk+qX+8/3d/Mj8junjB7D0MRCiAtgLDgbO1VjguwRU7fkQRwp5AIH/MvYYC4jwNACXE33+Zv/j8jP0RAIdFaP6MwZlAKULjOciAH4MS+o99AQEKu3+9AwAOwlbAEf4TBAhC2QDM/puCy/yJAH8+ZoIFA0A81D4QPjg8HTySwy8D8P5WA407JTwP/0e6swTBQo19Q0EYvXe9hYGT/EpAKXvfuHf8EXsmu1h44v+ugH/GDP9w/nC5aP+ZwIi9rjzz/7X7x/gYQYXBJ8C2wp6ElcB4fW/59L57AkM9psCVwmq9+kkaBaE5ob5ePChCMIYGuDa/xIKfvLK+vAI2gtCBrkCpQIpBZ/2jd576jEFJAJK9Hfw9g6d/J37nAW/6F/hygAHF8jzXems3AIBdA7I/Mj2rABMCe/y5vTED2791/m36271ofMq9jYdKgyf8or8KwIo8hEJTvSa7kUaOeCr+Tv7YQWc+awJefns36MBEBWR8yoNjATMG9H2JPvXHQ4XERA0BYL7GR8k9WrNh/835d0K1Ptv9+0QxwgwBIHyAvDb+aUTUgPGDVLv/+55DjIZLxh09m8Owuld7NgBkhSLB9QPavKPFavhTAJ4+I79XhFBDNvmM/s88mYL9QGQCTYh2QsvB0IJj/BK8U718fydBGUNBA8hCPsWgOwl+o0Lc/WW+JQDRglH9G0HmghD/0oAcxVWAl0NgArn+3EUhPrvG4j5iQD28nsMAwjWB+v+lAIP+UP5BxWNDxkHQvjXAqP9iMrDCBv5qRcN7+oDGu1j64UFjAjhAmn9G/7+35ziofWxIZjfsgoO/Ur71vV/DB4CzvW1+X728wuG+MgR2vN++rv5M/GY678WBQ9mCA4ZPAC1G2X68ACeA94Cf++6Djv7BvMy6AELTgotGVL6k+pR+GAF8eTl+lr+EvL//OUKVARP91jtjgwHAJkNwhHfCIUPgQwSDaX+tP8x/R8FPPsJGCDwwxvuAEYVUwp17pz5axOlB9IASfg8+PD3fgudB7wK5gHl5+kV1gjSGgnt1deeEmIHK/tQDvT0swYY+q0QSAa/DfAJQfAqEV4L2fTv+W7ou/qo+2UAzP65/Rf7+fbEGyj80vwDBHX4cAAmCrPznv0LA5z9+/Y+CJIFN/7a9iUGu/4VIFEWYP4mAUMU2AGI+dX+zh6S+jT8YAWU+k30DxIq948NMQVe73UBgfWOI9EgQ+xvBBgPAfxWCJT3rfNDDnAAVvE1D1IIJQsU+8MUXgt2Ba3yOe8r9SsEI/Y0+1gPQPpIDkoCzfXkAn/sMeed+xkDCQGu8QT+2f5yCJzpUQdP2C/7rQ1MGJsChQAA+ysOfvGjAq3qGwFT7v7vcgm0EVIDDR7LFvIAlAB3EMsLmfV3B1j6vAIe+/3um+7W7zMEowIq5J71Yf5VC20Uh/tr8B0eCOo+Fl4GvwoTCf8irQko37jpDQRL+/7v3wWPBYwlPBMiABABNQg06kAKswNS5gQKBhu+D3Ee0e13EVkPFA34BDoGjgfm2xMRJf43DH74F/wb9HkKxgNZ/iz+y/rNHxgNwA3rE6MSAura7SEJM/qP7ALt5wrq6zMIqwnD2cruLfL6BQLvWhgBGb/0TAvo4tUHrOjhG2kDYwRZC7TeJgaT7jUPnOk884cPUxL8Ix7t5xIsDAoJeevlDzkQhv1G/Fz7becvBQ4FaQwH+nf8xgXy8KoczPBJCAAAnPWz/B7/4gWaH+Hvr+Vp+p8Cx9vHAfbt+P7i9/QRu/NeFU4Fb+crDX/3lw4JDqEGlQ/7B7YCsAKLBrn/r91wCKj+YQSZDyj33OqO+6YVNPUN8dPve+6m/7wBigO1DxETBPOuB9QP3QBJBY/+ewcC8XAIGxix61PxpgD08Kr+ffUUDIb3bxhP+ZD99A+YADsBKQfQ/6oYrQ7X+JoE0uUD8CfxfQuY8v8YvQLt/sYKHAD288X4SgYTAa8D8RN5ByvybAhd+mcIIQnE69MHlyd79Nz/qQi4+K0LEAQUFXIGj/Pa7Z0KTAyzBGzxQ//R7NT58Qxi7OwDLPygB3P3HQ5DB3L3qAQ58iMRSQD05Y71y91ABdX8/uWqAqv9Pg0x6NEGNP4CDa4PkP0A+VMA7uee68zuSRAl52IE1fRDCCgbpfr5DvoHje78ADwV0P79CBT+RAaA9f785wO1C+/3dA4rEnHolgXi/7/x1wPb9LP/+A5J2Szzc/goC1v1L/FS8pwP/PSg/UgD6Ajb/5rduv5lEqUNNhcr9q7tkA8/CqQD6w5lD24CAe4NFNIYofxr8HkLYQI97/XvkxGe7uXuNxDlAqgtUg/Z+OX/be+sB6H/yAgS+GUBLgje5/D0QePn9Sbw/QNkAtb+TwU0Ds0E7AR0/zwWbgSh6C33BQp0/8v+RghjEGAOxAYBG2ftvPfkBL36TuonBXT22OV0C3X95AGV7+IBuO0GAB39guRC+nT1zgG6EG793wrCD9MYvv8A7ZrxZgibDGv9Jf2s8xniMhwvC/PmtwXZ97zrBfnzBDEP2AOM8x38mPGp/TMAyxbqB3oEmgMD9wn5f/yoDi3p9gQyBaUJ1A6hDFD+/fiNDfwLfvPI9EMCx+DaAB7wivBMB+D9FBMlEzgCrQP2+DP45vog+WQW0P0QEYsp8vc5EVH6NA0XAjH50Py8/AviHQ/2Awj/NQD740z6cwWPCaTw9hdO9vgMZewd+eQQLfodDCfzRw4182QLOBXi+778B/uW/MIFgfev+IwGzf9N+j381+k+9lHZUQU3Cc/1PvA+9vT+6+397g7kZPLy+H35d/zlAtvRFwwR8jbnit1qCwYXBgcK9OMJdgp+EYv21/jYB1EawfyOD44A5wk48cci8Qso7WfsCwCX6P/kPRrD3x0JfPhYA4wEtQEUFRMJ8fae+3cKsvjG/TgGFQrsDeL0S/koD/EQAQRE8Pf+ywl78V7sKgye+wTj/Q8W644AOhPH+n/5rQ0r5mcSqwbt7YH1zwsAAOMA0vZtAvn5U/HHEdD39PeiGbcF7A5WAvPsgOOxD5sZYCDq4YHsywM0DwT2dPv6BPkFBw7j6Bb8AQsvCMoUMBMQ6wYHzfnN8MoNTBcYE3cLOf3f/esIogTQ7gkOLw5GBo7/+/tW8PsHuPxBApwQiPVbAksI6/D9/bYC9ypUL/IIRPJs4UT4Se83/LwRRQFy+O/7jO0DC9UGmRpuCwDgMge4/BXzWBTA600NeCNS9/n6Exf7CDkVLRDCHeP0a/DhBhYC9wUtCvADXfpuC+ciMgHlBx0KMPu4BKT8hQ4YFEwkFRb57173rv7N/fUEMvy2DwUNmBlb0ybl6Pxq8gL6ofiyE6MNEPXg7rcQLPaY6rcGivZb8YgHdP1v67D9p9q/EUftIvIDCmUbW/1qAT8AIgaq+iYL1fKK6XAP6uePAnkCKAdC/ykJjRRO+1Ho1xI+64r1xvbT9iv1/+p5Anf/8Qq1EsoCyeYT7OgHYROtEm/zpw1XAgUJ1PMpD+wHhgrf9AQA2gSb7ioLN/8fAO/m5ALF9tv4wgGH7NcOp/C+Ae8HBwRZB7QElNzzB/gBFAE4BocGMNxM7EsXAwVJBPv4SAWMAFMTtPBG9s3vHwNa8o0Aff2cAfXz5Api/sX+ePosFEjrgB7S5i3r+PLf7+EHIQVA/TQC9Q/uBxUIFv0Q9tL4Svkq8/79QPTGBnPz2AH+G6IN7/2E8SAGPyWo/7D5x/N/EMcV7f1fFbj5u/VZ81kORfVo8o32pRZkEzwGr+KN+ZUIU/Ad6jUCUxSj9Nn0uve3AJn2XP39BW79+xGN8hoalheRBEfyWhBdHtwEn/ev6rPwHf2kCyztrPlQ7jsBZPKFEA0Fqvng+jzvKv7sBdgGNvxh8UEAYORe+PQAydqL/an/0954Agj/rwJT+xgAmADT+zoBIg4a/UbviQCL8RrzNP6bA67vgff6DIwLXQ/EBZsQIf8JAET8bxL68X3oxQ9S2+wJdhAdCSz9OfruCTX29QDS9zsG7uXw4vcPcwm0/vAGbAAv/ErznhZJ8VATifvlAS39hu/54D74MP2a5+EJTP8zCFj1bAVU94sCTecWBMUJxxIYGYME0O6GBIINdg0dAysZewMt+ocDpvwvEizx9wwT8Kb9U+sA91L5AwCa9IEEIAuh9gEGWvXADrg1mO2Q+yH5+/JEADD+hexE6lb0YiMU8EsOcvXN9cX5xhRZBNr+gg/+ErkI+gBw71YHSPXa/v0DZu/OIJzuOhM1/uoJifCdAr3s6QZu/C3ncP229BwSTxji8JUOcv4oBmzziwd5CEoSTQGs/+n9jvTW/6Xqhgqt6/TuUx3cDLvsIxICEw7j3PlEDKgFbv0Y+fX44/6u+z7yU+2J7YwGFg5z+vv0A/de+03YeAnwDo/+u/yz/9z1a+wUGUvx8/db9VwAr/St/kLwARJl9xr/bitwE8oR5QAnBuEFvQJjG4wHFgI8HtD4UAjm8JAFffnT5OnyGAah+oL17vxmIZQL/Q8oAbYAEAL2AgkI3vfABY342hA27DYYDPhk+SEFuefG9uv61Ar/B/UBTiNw8ZMdHfDN+L//NQBIAULxFB9KDen3kS5T7wcPhAA47Ab/ovO/9Twc6P1k+asNjAuPDYwI0faWCUXp3/puBKkFpRIgyQsE4/eODej6tPQQAOr/UwWg88/0EvGR85v6pOVUGo4FaPDuC78RKxsdCQfZXgLFBnH1IQghBH4IbRL3+Rr/gu/hDjTqGug0EcUAvSBZCBYaCNJCB8DShO8DD84PyfhS9HYA2PrfD1ntzA6kCOv67/5JEkoGv+u3BAr2Fv9h9ADx2wHA8zf0TfPQBLH/6Q4zFkjvexBOHGD+rQnB57XtOexS8bgAVv38B/oBHuxXDzEEiPvaCJkEfeoe+10YLRpoBEYAJPXn+qoYIREDCP/14gbFCB4HMuYzCkAOoOvL+VchVv0n+B0MK/0rB1gInffX+8f16/m5BTD1wQ997dUSVPlTDhcAdgwUB8j89QGhCVH5igsA/vTs+QnVFlj31uJ9838Af/PAC6H9N+ZR7qn5dxBsFqQf2Rj4CK3vPQI4Fun7O/r48QMXTwRl79j5j+925xwC1fRsDWLpm/9kDIr9mu3m7dIQjAg/9KkTwf9lCHUBqQpJ/bP4Rvv59WMBdAc4/vwB2Q2M9qH6ZPIFGCPnBAbB43HnNOun9sP+twBaFoL5SAa97q3xowdE9yUCtxH/BNsABxe/DuJAFww5/Tb6DfSIFdcgYgxS+F4UPAL7ByIU9/tJCZ8IUwf89u39AAVwAjH99AmsBU/lnPhjC7j65/e0C8UA2gSzBGkNvxP39hIILiYdAVf62Qby7LjxdeeG+XwP9wI/CG3x3xXvG4cHP+TTCIT6jQYtB7X7kO/N903vR/1t+qT8ggdhCOEMTu5Z/Y33TgrX82fs/AIDDmIDJw9i/dQFxQuv+Nsa6wBwBM8HuflsA4gKUvcSCEoZvRFm+1j5bOb3/VMPpfvDCHoUvhqhBCT/vPGsDqUOQA8QEm75rAcEEkgBpfJW8UoV9hoA9uPhngBVCQkET/0UDXwDiP+f7cv9ABzGBfn1LwIgCq7xdAGWApUArP/OID0NlfVv/zv5FPl2/jr4N/hk8Wzv6wyG+rYXYP+A+Z4ngfb38AYMhBfeEAn/ueMlE8Dpov5/EvL4ZOq2HZ8LNfKFArER8/vw9P0IUswh/vYULAvNA60CvgAz/tT4CQix6VUGluXm/fnxs/fE+0QI2/h8/3/vPAR79/DrqOna9DLuhuvC8n8Nxxs+9srkqv2UDNcEXvgNB50AS/zR+ijengF0ALYibv5GDdcGyAswACEKPwUPGHMB9fR+AIrwfAMcCU37V+da9lP5MwFt87HrcgrM+KcEcQOW7B/91v57Bcocl/utINv4uwUTBmIDs+kdBsEUtvqkCfoOuOyjEvv04eXF+hsRRvpDE34GN/Bp/hL2dQfLA3D+OwpG+av7dBk8CNQFYhnO9DLvXwPP7pTzEN1rGEX+uhCp9w/7PAdFElIPp/Wv8yTphgt56zbvav7o+0n1gu039dr9/P35DEwIEAW9BGQB/BBD+BgDFQ68DREDi+ovDdgBIgyAB4jzoRHRADUKx/fdDcXkTglIInHzyOQ9/d8Bs/bvC77yJhoICKT79+/4D1L2KQRnCZQTPAKQ+94ZJf3R8v39+PO3F6T/pwPUAx3mW/pLA7j4rgnhAi75Sw7EF6/4s+0hG5bpIfWA51gAdBOs9r0DR/s08q4GwPHa6KT42PZs6HvyrAh2/wf2yPidDFn4OftcBrz2Pghh7pnwTAHoHrb1A/xQ9mTvfvwt9BH+QPJqC0vluPg5FeIW/fNx+NoIFuxY6Rv4ZOMZF/8GafeICC30rA+JB4AjLgNr/ur2BhGDBgIF8RS26lfvof60CZ77SwOB7AQHU/yEC1D2vPR08jnkkgBUDnrulAw55QDjROQO2NQNp/qPD7P4cfyYAlHjofTgB+HwzABUAYYCaPQO8sf6XwgLIyAFSuDG/rH+ugvi7Q8CkgKc/0P8XSfXCCIMrwtQADkRhASQ3w8FR//1AkTwHQKd0ZsLgRgR9yr8o+gQ5KcEQRTZBpgWjepEEy/vq/+SDQ4CefZBEYECLwe1ACj9axJl8or6Qu9jD0EEVf2jCH0OMwHJ+zP75RPh+Mv2Ee0aBscEBACPACHilgDDGGAI4iQEEHcCLPLBEY3mK/qYDSICMwjwDEbuHf3l9an0+Pyz/osaCgk9+4H0TgwbCWX4yPfi+74H1/flAXgD//J3H5AIxRSf7ekCMfD6/Wv3KBNQ7UYB0PmXAqn3PeOX+Sb+V+ycECkTsQvcE7EPR/pbF8rtsgms4NXyPwOV1yMR6ujcEdr1qwPKAzT2M/dc/9sRBgEBF7YWBOOa4kcbmCBdAl8O4hUkCsEKlc+q+D/8Yfgq70L+BAZb9HYQrPfi/ub8VANKCm0Ql+8ZAU8HxuaA+doaq+5XAgIIYvifD4DoH/b3BajqngpUAfII6gijCJXtj/Sr/aIA5wsrEGIRzAuy/CL53wztD8j9H/znC8D0dhhI/6zzJPsJ+W/3gQWLC1v4Fv5e9f8bLwzQ/WAL6eAV88cAO/5LDRbZVPitGgH3Agj7BDUSTQQaBT79UQR3CEUHoAcA/GwX0g0ABIHr2fcz76kCDxvrG+IPNg92A68PRvpd+9j1Vv248uochyZe6IEEL/Sr9xXy9PRgCTjujvLFBEYC5u22/F0V0d276s8lsxnL57v89P/q8w8MqP1l9IDtU/aH+hYF8/bD7VEAhgUK5j4L9+xNAv/7bhTl9dr/NBHKEQ4HQd+/+9YEuQ7h68kScPxQBIAOnRNP8ljp1uVY9NcOXO38DxX5KgO0+Pj45RlS9jv+IBww7UEOaOnI9esF/vs4ECwD1wCs8lgNnuhsAuUNWBIjArgInv0Z8wwDS/VZ/zL0WAOk92bqWgSM4uUPkPwXGsH4jP68Bhzv8OUNDjEAjerF/eP3lAaLECPukO8WC3wHjw6NHmEOyhoo7Z766Pus/Ej9hf/i+OIan/ZpAML19Okg/6n0D/D18/kEyAOeCGjlUg50FoYQsu9aBLgGEBPD7wz0TQ0Y77L7+++i934LWeaf8/zvDAuE/yL+GQ5j/r4AvBKy9cjcBRvk9136nOZw9VL6U/bQE1gE6fiN/1sD8QoGDnXjZ/ybCVQT/gvQ8vYIuOTL7g/waf+sDoHxzvpZ9vEQ4ww+FYr1QwE07CH/Ee5u+8/qkxl5BNsEgOIR+1MCrgTA+Y30fQdf8CPgWxKr/vrzggcb+b3ysAIs/VsLwwrz+MANFPhTF47y5hFXGNcKmfJW878FwA0zBPEElOPrC9v1BAJKFDITPPq9Fdb1OQj9CR8WzQXD+t8E//DUCyn07/hs9RH96QF2BsISbxSkEiH+SPoPBZoDuxv4/n4NYgR/7ln/siLhHVYWE/uwCSkahQ6u/eUPPfKK+TkKQwAJE3sGT+inJD365/hZ7+/sKvyh+779t/WU+Tb8evz1+2ID3QOTAeIADwlb/r72QgjuBIkvQvpGBo4GyAYoAMnnp+qA9x7pccmV+7D5NRJ1DOsRYug7+DP3O+3x/JDyNP26CBz8ZxcjBW39kQn//7cOMgnACC4VDAQh7gInn+vG/rv9NBFkFLUFCf8t5pQF4hMxBAH1Ju7TAOEGoP9RGF0FLxLf8xYRPP0K8EsET/nsA/YF9e8p3IbzJ/tD9U703RV5Hlr+0+0H/soPUwWKBtTvcd0pBg8QGwcj/NEPn/VHBfT5vP2/BAULMxPT90zyviFl83n1Tx/3EGzvT/tyCqDc5QPlEl/79AR6Bp33wff27MoKce9XDETxzw+4AHv9Wgh9Efn8B/q0/Tj9+uMh8yUK7glnAE393w1iCEMECO1PGHwFMettA4IA3gQp5fIQ5vvhDhQajgP8BRr+nfn7+xTxovChCK33Xv8HFQTzqgGoC4X6cvbaB3r6EPk2Ahz+d/3OB/8F0/lZ6mwDcRJECVUjPAiKEhcE8wkt/k8AzQx+Ftn/uf/3HFLhyw53E0b6QAiM90AAb/zZEoXtiguEFXsBWP5Y+AQK2/lyB7Ds1QDX/nHq4glNBL/8vxCo/dwQBeg4CbYP8wFXDXsGhfreAREI3+hl+roAhPFq9Af/aweL8XcAk+D2+YYdVfrJ8OIDVgKYHe32XeVWAE0OwQbUCdMC4g2MCQwJcP9j6f8Lewhe8QLUMwVY5+sFKBL/CtUGOvhI8Ij9KAt0+qIHGAT6AzLVahhnAF8J5Q5mCzkMHQi6E4T7je7LBY7dafurCuYTTwRzCgwFCf8+CQgItwps9VoIS/dNDGQT7RSg7Zr9kxbI+DMLdgn6+hkSaBJLA7ruigWkD/j3pvpzDYUEqhQOCJQXa/kvDeES8Pft6j/6KO8WAabxIeUo/Cn+cAIF6eXhl/XpBtYBWPO459T1BADuD20JT/uw4+wBlgMz9mH94vyb9973WRK0AiYEq/dmE6UK0gH1Mev5LgjxLO0QR/SNC0Ds4BOz9YYHq+8Z34wAJxUoC3IGhAXE6k3n6hOACn0TTuxz5Xwek9XVCW78twnb6mjpfvEG/QPvYxMeEjcSnPS3DXj5FQrkBMzxMf5c/qnsFttO8YAXiAM/8KYHlhwA8gfrl/0ZA7L8aOATCLL7RPX97Lr5ifVLAxjubwFJEWgVz/Nh+dwcPQFz/xoArPq+8hoDQ+2oDUwZeO8eBxn2B+0g8BDwNP4w8+v0Sg0L6kn+J/x6E6v3QPA+DF4AJwLCAE8OBQzU9C74HwLKE6YYxest9Zj2QvqHCerqRunC3+0Ls+26+wX5qw/97REHWfLu+CwUi+sxIc7tSQwW/K8A2vTp+gPzietzDFUG8e5b9sPsAwnR/SwBh/Q6AmkIM/f8CKz3kfn3GJ8AWQ3ZBjkG2gR5/Vr79ABQC4b0iOUNBS/zCvNPFTP+yxoh/9T4m/7dD737yvxOBN75dfmR7c0Nb+4l+FUITtW/Gwn6MRMpCzPwBfqXIt0MkQ4NCzL04evQ9U4vEvoD/8oCMPgTFdsFEfkyA6MIm/12Ag4CLPawBYcGw/TS7S33WhD2Gez0sAl6CdT5lQMh/H7rlOhtE2HuYBUQAUrzVwaqBDYLtwb3A5oKbQ/e+F8Byw8B4s/2hwkbCp4SbfCS7Y7/megf5xYUB//C/c8Y2w0U7djisesE83HyIApABpYXiOso7IX/8PDQ/v4QZg1Y9bjrE+IC3H0LwQnGE+77+wFXF14F+fB59gXTMQ859GX17Aj1ANP6DANADvb0k9mDCBQM3QuKAbwPBQIf93oMz/nOD8AFwgg6BfgMsvpx+/ABdurz9k7/e/VE9nwFDuwsBK70Lvkq+Cb0i+XtDmgDJRY9DsIN2f3oC5v+ZgVgKWj+7uq1+SIGpQEg8ZXqyRWQ+ID5CPJo9PP+Zwd9+Lcfnv+4BhDoef/qClYQ2wLFAZMMBRJzCEb2EgXZBib/GgRE6HgRHgUH7jADfe4381D3SARj9DX+0yQeB+P7jvxmAtgC5xFk5OkRVPFy+aL71Bs28FcWTfRNGBLvAuidDqX+Wwtq+qoKowU3BTT7ORE89VQTwgS7AqvdNfJi/ZsRkhLIETb2JfkR7iDvJfk283riDfojCPoSCRHTEADtkffp6uP1Iv60+BvmYBPMAScJv/0QBcMH1+vZ+pH9BCeRD8n5p/SdCtAIxvCZ6tnCcBnBGKYCPRr180cLwPafAUsD6gXfAlbz4frMDkEI6wYqAsL5Kwbv++3u9gM09J3+dgGBBnYDGPwWAsHv2u148k8R8RJRBnIRkRYw6QzwyBGRCMwLBPWZ72/+9PWLApj+Ag499xcBOyD+9UH48Qz77qv+Kg4F/cPoJOkeC8TrP/hzASL1wSAb55Yck/8t+oUFMP9H/+cHVQwy7wX+6vzi/7jtcw9R9hQXG/lcAw4aBfJo+G0DvRR06Yj6HOd+Az/z8PC/BnjvdfmL/isAKQD/AlrptgX9CPD/u/d5C6gFrvUm98z3p+73BXL+GRLB7c3lWPsr/7z6SPOo8FAIC+90DA/1Tu+7+XT71vdOBpQCOPLHBRnwQP9tBr8DMgja9ef5+w9w9f8FShA5CtoBYAog85ETKvhJBpIIBfeEIPUQavxwDNvsDAzj73/dIBC0AMgEswVYA4Lznefc/z0h/P/vDAXvewQL+QMLFtsB+bkWEPOm8SgKHf6nDGICCvi6/2sMle4B/TQQQwIFA0jyABmyBrkSzSF5LPD6uRAmDdME5A6LATLzjgdQ8v/7swUrCWcGEQ509bIDvwkyFN8Htw/5Af7+BfdBCTcVqAf9/moIQ/s54b4L5/+2DDH0MwOx/pcCixRlD/8SqQeGAD7td/0j8tH19POZ8Kb+sfDp/Sv7EgGa/MQkZAGHAl4OlPGD6d4CVw7s8lcIm+fk8nn61SBa+cH1GAuh63f9igLCCMEVvvsUCVX/Fx6f/TP6XAIIEuoMmQcFAqX2aRJC/KXq1gFBDXL/xRLhE6Dg9A7U+bPx1vjCBKIbFfsm8UX8dwB5DSby+PED+soKkQrcI4LmNgY/Ib71KQZG+DoJvg8+DIMT5PS7AowTNw+c/esFOBiF7esJWea2AEHgF+hiAkb4RQtp5oD1Q/6WDx8BNQNSAN0MiOK/8WAOPPrQ+XQGuvoI5XbkbQaGEJT1BwprCA7oRfSVAb7mCfzNAYj0miA1/Ab1WPqOArb43QxbAq326O+v/d0clgAc+i8cZg+gCYMPku61Dfn7QRWF43wCrPa3DQcNyf4DH1D62Qg09FbzBPfsAaD4Xwk66dcGrRIMDCr1e/Vy5gH4hBsMBhgRcv4ZFBwTlx67CmzsYwL/AsH6uN2i+SgSAehpEdn90vBq5pAv2ATi7HwM6vI07LLx1PVu92QQzQID7jcAnP5265Tdkfl28Z3/rfzF8bPytQIWAn0UivOt8nYR7wqr/XL/PvzU69j+0AuiBkH+NQa39+sMJ/D4/jf71w87B3nQVPgYAg//ZunF/pH8iPtd9T34od8ODvL4AA4P+p34+geY+AYNHxfUCE8JXxm0DugBIvY3G+vzFO5i+xgHYgcvBvfyP/P6ErT/hvgn/FflE/sH+F70of179MEGff0C/vkI4hCV7a7z8OXS+T31e+yw+WAMuQGaA7cDVRMOBr8J4hWV+mrxiBCaAFoBqwQh/xTzmQMQCIHeof0H7rn/YQFUDLgkp/yZABsR8wLWHWD/Eww2C1Tpsv3pA7cD5P0G71sLjuyKEY/9Jf+4/g4BYhE4/PMFSf+uC2X2DxFT7rftUgJ8/1/tcffVE10VgP3bEI7/fuhW8oH2PQS+CITq+gJN8u731wSdGF4R1weQ9yT8ZAGp4nD0ORB9A/8Dbgrh8QMU7A5Q93PgiQPoGCsVLOIo9lMD1gbC+PYZjg5fDtj6bAgVBB0JrPHU7mYDYgK49gUHMgz+BzgATf/t7k36SP988JQe0PaJ+5nsZAXGBWn2rgUJFnvtreEDBTL/L/FcBZHdL+554yb8FPWy+H75aAY88V8gxBQq/DAAugUi+JXi4voLCgMU7/Fr9GnuYwAp+rzilw+5Au8P5xGFBJ/+4AElBkvW0gKbCAYFmQqpFs3zPxBqCycAHB1pCDfh7QpT2RrxcgMf8msFGgT28JPzC+Wh+mT66QDBFT/6PxaU+Z0PH+wPBckGYASx6oIGbwfh8fEhdvLMAQPrXgnWH9XztARW+H/7uwS1Fz0JH/e3/TQRaiUKFP36zRLC8WL3fuu37uMPhRNgBF0DJgezCB34r/z46a//cw9v+FcAxBQ13uQR5fRTDTr51AAGDo7+Xyrg++8RbwpOBqwKmQVB/f0oXvNcAx71c/qyBgH9pgNHBCn3lfRS4wwQ2w3M/CvtAwxgDC71ZyBV+xDviwiJCHj5VQfGE9D2yAE48iT0w/b39PbiQwPP6ev/kQSyBrzlmxYo/NEFFvOJAzAI1QTi8Yn+gSr/E1EE9/uG/MkAfhg8G1T1TOU8CaECiBYT/x79v/3Z2cvlIgReEoUKoe3NFwgVdxSQ69D4b+MAAloSyAmo/9UCpe+vC4/vhfhpAJnrRwjjGEwFI/sI8pQLTQWkCbf1DPgRCdAf9vupCCQRMPlo5zUOfwbkE74DtBPj/2QHxgGF4D0i+/vX/OcINvA/Fn4eHAbL/Jz+c/v8DJ4BWAXFAVL/9vCv3tAG9uKxAIAH+QIzAl7mbeR2CJDpkQBbGLISNe5g8vT/qQt7BKsG3A/BDC3tP/cXFu73HfxMEpQIkvbp+JUS8e9v/Dn4zxL6Dh8DJP968ZwEzPJUG9H+Pe7E8OHR2iZcBPUIa+3j7p7+tw2H7BIOeA/bEboOFO30Ciz7oAFaClfkiOrJBHP8NhGA/LsWyerJ9wcAShMnA37+DAAgEckAneS98wMX+grh958b3/RbKp0VmxE0Dn8TPwVjDboAmvvqCS/93fKCIvsJ4AoAB3sRUwpjAdLze/ai9T3qMhgAEv79bvTeCwEIZQ9AGDwh2QZa/zoGygmNAvYC9vFY3MYC7RSH6ywFMuiOCbQLiAME8k8BCPKt+1b8DutpDNgGFAM2CJT6OPrq+YUA/P7NGqgE0RcJ/mP8kAUS8/L4ov9vBToCHfj3F68cDP3j95DuDgTM3qcS5fA6FvLvzAfA/w7xU/l5/pAC8ezJ8bEB0AIMBaf/vv5YD8jv1AHD7+gE0//R6WEN5PXq8FkNP/oZ9DIHPvjb6THzqvRrGeL0Tg8/BIvu4vx05Iz69BNV4egEfRLv9PD29w4gAwMSQhZ0+3n15Q7u7X77L/jz+8Eg9ea6AMzzKAhr61v3Svo6FeoMuxBHExX39frn/ZQKS/Gr9PEMJwdm6Q7xJwt7EfYV/OrtCOLwH/G8+R3+kQC2DKwGr/BGB5L+5/DA/GURI+sX9V/8m/+/+hICgwIL+bEFk+sNBKrx/QCTAS//mP/j/xX17/lqBkgODgyl3BPxEAbJ8rcN0/eJ+Uru2Al5HD3u3+7sCe0JRvX2Ct0SZwHD9VwLGAiu87P7Tuhb97IQhAU/+vT5ihj7BvHm0AkoGhj1t/xB/a/3tgOsADv+peyYGt0AZw17Cd4HbfJDDfL53eYkCQ0L7fY7Aj309/KUAdwATPTRCPsV3fnN9/oJkv9T/FgF5dt3AMECHwfw7snvAfusABkCSgL36/r1VgmBB4z5XQ+26f32UPv/7Zn/d94+DtEJTfIq/nLhaPfw/c74HwEQBEoOIA9hIdgcnBFKA07+IfgG9837IfAIGDwClPK48CH/1wzSATYHF/0TC1wCxyU8897rWx233mD8SQBK/aQOeAfC7fsCDPZw+tUT2BVr/TESAO6lD/IVIwJKG+IEKgM/+SACRgBGBeX+HgucBKzvIAOc+Zb3XQfdC3wZOPZe6Vf3PeCg+hIJ/O/tC6UNBPqO687/YSNb7jgZ8/6NBTjr/OUy+PT26vfZEWcOdwYwCcoS9QJF92TxdOBjFpQcewX/+7gMDhW6Ag8FPQMa4Ijievui8U/zSvbU8U/3/gU89k4Qpv8zF531JfD7BvfwcQ0PB80N8fQPIuEXggBHDvT/vRcNAogBOvHOFRcBWxWCAr0EBwjOBVb0B/AR8g//pAItF2r2ZNiHCuz49vHi1oMJLgHN8csEdf00+1cQMPppCsgNOv/ZAiz67BTh/WrvTe9OAQb6I/Sl6bL9X9Q9IBf2evKcBSr8CwZZ+vj5Df7kBR3vbgMXDk3zvvnU+Of+jP/4Bt31YexVDrzqPv3W9AcLpwQfNI8YFgQa/SH5fwIgCeb0ifNV/8UEzRcK7rX9dRwM910MyvtbAzUFTwl36mMELvF/HDwGqgFN8vAG7v2k1iAOx/J2+eP70ho7/hkEC/c3CkkFhf+8FhgXm/nj+7Xu3+E19rXutwsWB075Dg2JBIUK0ADy+E8RUN/HCd8F9d8MAl4VPPJrALL7hxEc/l4ObgMP6yAIiwH8+N0ePBPf8n7XkOu6Am0XFfly5DXvPPYtDRT7UwwMBAHwivSfCM8EZvq9Fe37wft6GHXmQP4sFtYSQ/lbBYkCdvCl6RvzJxOO9qP/xBCRGEjzQ+EF8EbyxBGG9Lv7w/BF+5gCLxJQ9xbr5erhDA7ppfoW6Db2A/oqAk0Bsga9EDIdGOvQ+rIEogin/Uz5kgYu/88Y3ubHDzzkW/8YDGcCthVR7wzz1gSTAED1OAitFvYCbv3Y/zf/4AOx8i737Qs/6D0QGP9WBI70Awv6/4AGM/vN5koBid9W9+PxpwANIK788/+p7xYJcB9lE+n4eumkA0ronQGXEQMCNvs//uTsGQcpDcD0L/Bz/IQXBwENB+wSHd2s/6kLgga59lz2/QhpCFIGzwuwKAMFS/sa99v/f+5D+MkC/gs1/+IHkPN6BrP4mhOaFP4XYPnrEtgThQbgFf0PrABI+u73r/K6EhL+6w8K/d/25uK3AaMIuvbL6jDXaw5LEL7+CA0T+lr73/NI+JH+CfQB8pIUUfseALf4GP2d3IkL3P6g+WQRpfKR/RcjpxIX+GzsnRFnCvz4UAmL9OYIbOaV7TcMDgof+ZQRUQCU++AYShBR7mL0tQAT930J2ffwARIei/IG+CLxZwOx52XqFw367d3s6u28+N/nuACa9IAIVvRA+4XwAAZkEc/0zfrV8M/zmBRrBPTz2+k0+kMIzfyGFj77nx5Q6NgD7fQp9tX9DgqWB4/34QRJ7Sj8IwTd8LIE3PS6EyUPBPWMB+IRpPzy+O4OXO9PBOX2tAHL/T784+p15NH1N//57x0cNAZCFvUPB/MA8m0XTvMQ+5P22/k3FfwDt+t/8NwNCwuv+/UFl/k++WACjA1k9TgLcvRb71sFk/7OIOsAchEH7ab4HAgU7zsArwxB+Tfz0O6S+NTrYvLI+94CcPg+APn9v99w/6QNDO9B/34SuB2e+iYUCBc68iX87PgO+ysVAvjr/oUBNRAj9Yv8yf++/xD3GAYI+DAJ9wErBIcGd/yK/5kBEQFTFFMAmv3ODfMCLg2a4W4HnANNCgHzbvV3Ei7zqgUR/ooIRxG5ANHhxwIZA3wC8Qv3954K/xT0JTX1Zg/5BpQTcRdwDL0gNAUpBS0NhvOwBmX5H/Ej+OQR1RT4IvvfVheE/mT+K/jDEtkOAgFy7ZcGfA+cFTkIFgxL9Ln/Qwr3+I4RyAYVGHHmi/xX6SoNi/guAm4NBwpkE8kOdu7mFeL5h/2O/4YGXfQk/uTh8v1+/tECeALKB00JJgbM/gcEtxAwDJDpiwFRDt3aav+CAZ0IbwHA8ZwQ1f+cEb0GbwD2GmvoJAT8B33P/uvwAKD2l+oi9NwJCfNvCfoEEPCM8R8KD//cCRf8SAR/6+oBS+tUEcEJNBcABkbuaf/NE5L3mvYQFDECXe+RCy4FUA1SDHL4Xypj8DHzAwnKBZkI7hA3EGcW0xlhB2EMfxWtDQkPG/4JAYgPkw/S68jqxgFN8OLcYQ6PAwUEl/gMCPETKgcN97v/ru5K70IdkfLu+LHQKxcmFaoJcQGAAvsSWgko/+j0sfyG/RsYY/7mDVzyteSw/moJsfKmA1LrrwzECqL3UwnC9J0ayw0n+z/7FObkAwsIVCC7CZIIkAp8/oTqH/woCrUFYwLD9hgJsPbjE338MO9PCQPs8vLc5CEPieDF78oVFQU163oUlwH/EmLoS/K9DYYFow6sB5wSNhQ87vr4uBPL+4oMgf7D5nAQuul00roIhADxBTnv2wj3+u4BPvt1CKb/i/1pFubf9REqFrrxNPzi+pzuufjl+vcPnwDECrH7FvOl9PHyDAdR9gwTTfpI+unw9vY8CEwZxwD+MoTqXPPW/PP8XgME+gH/8vdjCNTrt++W6hYKEQCm+OEYgAq3JHL3Z+9PCNYCcv09I7fywQyA6Lb/rwq7+4/tiAIh/XQTNhO59dgHfAP2AKD0E/A98B/3M/kX+TAAtwPgACP6Bfxo9y/xz/M4FRD7gQ8h9B8J3AU8Bp74oALAGA/ttft4Ccz50PY+APXgRgDiBuftj+x09F/xtf5eDV3+5vw2GGUPdu7b+LIXvxuF+PUEkQv6+IgIeQxND1//HwGo/6rnU/2wB3IH5PQnCGv94QIjDUr4EhYX9Qj4nQvmANvfqQLnBFDkuQHBCXvrev78+XsQxg2v+LEEmfF4/psLJ/P1AzsUiwGT/3EQWf4jADEJovRN2RL5uw6d/5H0Fvd+66Dn3/wMA0XrLfFGAcsTKwqi6Q8Jm/pHDLDrSgx0CQr8/gwn37ME3AcUCmIfAQeTBtL7XflS7ewQAAsDBXkErhPFBfAMZgHAFQr2ifkK+zH4kgrw4YgR5up6FuIWivGI5nj1xe8QBcf/Y/CEDQIOhgvLDy/lO/j4Ct8Az+5Q9wMGjyGtFFkOy/y48Xz6uOykHawFwB4a/PTX9w7j+073sfyt+I7mMgsBBqj2F/fLAJr74AGq+6by1g6z9Tn1dOui5VQOQPqS6SwPhgtO+isIMRHP8vT+DgBSAvf9YAiX8CcI0gRS+zv3cwMLF1z6VwiC7tUCGgE/+YL2iAp8Aqb+ugNwBrH4Dg3c6r4AiPwx/Mr1tvMpBRb80gE35Kvn/AilFLcRFvhM94b2/hNzBKDuaOjZ6i/2FgPcGD3+lxPK6RMJfgO/BPsCfwO9AyADyADS7e76NgJD9e33rfeOCk73Ng04DY70rQJa/N/2Lf6PD179PhSNBL0DIPP9/zT2LgqB8+/l+v6e9Gro5wNW+RQbKvIWBasGCvrm958JyP3RAOrnmfWZBM0BvgtdFzj11+pJ/LbvzQRu71UBLOfwHnX6yA6qH38TjQMXAXQZJf9T6wICOfbe+KoF4yD5HUf3L/YxAQ8VGAUZBPsG\" type=\"audio/x-wav\" />\n",
              "                    Your browser does not support the audio element.\n",
              "                </audio>\n",
              "              "
            ]
          },
          "metadata": {},
          "execution_count": 112
        }
      ]
    },
    {
      "cell_type": "markdown",
      "source": [
        "**Result**: Simple Autoencoder shows an exponential increase in loss which is because the autoencoder is unable to map the features properly"
      ],
      "metadata": {
        "id": "9dk4dSWR_Odd"
      }
    },
    {
      "cell_type": "markdown",
      "source": [
        "#Variational Autoencoder"
      ],
      "metadata": {
        "id": "fJ0Di9hv8Zjt"
      }
    },
    {
      "cell_type": "code",
      "source": [
        "class Sampling(layers.Layer):\n",
        "    def call(self, inputs):\n",
        "        z_mean, z_log_var = inputs\n",
        "        batch = tf.shape(z_mean)[0]\n",
        "        dim = tf.shape(z_mean)[1]\n",
        "        epsilon = tf.keras.backend.random_normal(shape=(batch, dim))\n",
        "        return z_mean + tf.exp(0.5 * z_log_var) * epsilon"
      ],
      "metadata": {
        "id": "SqTrMnVY8XSW"
      },
      "execution_count": null,
      "outputs": []
    },
    {
      "cell_type": "code",
      "source": [
        "latent_dim = 2\n",
        "encoder_inputs = keras.Input(shape=(256, 20, 1))\n",
        "x = layers.Conv2D(32, 3, activation=\"relu\", strides=2, padding=\"same\")(encoder_inputs)\n",
        "x = layers.Conv2D(64, 3, activation=\"relu\", strides=2, padding=\"same\")(x)\n",
        "x = layers.Flatten()(x)\n",
        "x = layers.Dense(16, activation=\"relu\")(x)\n",
        "z_mean = layers.Dense(latent_dim, name=\"z_mean\")(x)\n",
        "z_log_var = layers.Dense(latent_dim, name=\"z_log_var\")(x)\n",
        "z = Sampling()([z_mean, z_log_var])\n",
        "encoder = keras.Model(encoder_inputs, [z_mean, z_log_var, z], name=\"encoder\")\n",
        "encoder.summary()"
      ],
      "metadata": {
        "colab": {
          "base_uri": "https://localhost:8080/"
        },
        "id": "oDkDz06A9XeY",
        "outputId": "db09c4c7-44bb-4f52-a308-9548d57d8da1"
      },
      "execution_count": null,
      "outputs": [
        {
          "output_type": "stream",
          "name": "stdout",
          "text": [
            "Model: \"encoder\"\n",
            "__________________________________________________________________________________________________\n",
            " Layer (type)                   Output Shape         Param #     Connected to                     \n",
            "==================================================================================================\n",
            " input_2 (InputLayer)           [(None, 256, 20, 1)  0           []                               \n",
            "                                ]                                                                 \n",
            "                                                                                                  \n",
            " conv2d_6 (Conv2D)              (None, 128, 10, 32)  320         ['input_2[0][0]']                \n",
            "                                                                                                  \n",
            " conv2d_7 (Conv2D)              (None, 64, 5, 64)    18496       ['conv2d_6[0][0]']               \n",
            "                                                                                                  \n",
            " flatten (Flatten)              (None, 20480)        0           ['conv2d_7[0][0]']               \n",
            "                                                                                                  \n",
            " dense (Dense)                  (None, 16)           327696      ['flatten[0][0]']                \n",
            "                                                                                                  \n",
            " z_mean (Dense)                 (None, 2)            34          ['dense[0][0]']                  \n",
            "                                                                                                  \n",
            " z_log_var (Dense)              (None, 2)            34          ['dense[0][0]']                  \n",
            "                                                                                                  \n",
            " sampling (Sampling)            (None, 2)            0           ['z_mean[0][0]',                 \n",
            "                                                                  'z_log_var[0][0]']              \n",
            "                                                                                                  \n",
            "==================================================================================================\n",
            "Total params: 346,580\n",
            "Trainable params: 346,580\n",
            "Non-trainable params: 0\n",
            "__________________________________________________________________________________________________\n"
          ]
        }
      ]
    },
    {
      "cell_type": "code",
      "source": [
        "latent_inputs = keras.Input(shape=(latent_dim,))\n",
        "x = layers.Dense(64 * 5 * 64, activation=\"relu\")(latent_inputs)\n",
        "x = layers.Reshape((64, 5, 64))(x)\n",
        "x = layers.Conv2DTranspose(64, 3, activation=\"relu\", strides=2, padding=\"same\")(x)\n",
        "x = layers.Conv2DTranspose(32, 3, activation=\"relu\", strides=2, padding=\"same\")(x)\n",
        "decoder_outputs = layers.Conv2DTranspose(1, 3, activation=\"sigmoid\", padding=\"same\")(x)\n",
        "decoder = keras.Model(latent_inputs, decoder_outputs, name=\"decoder\")\n",
        "decoder.summary()"
      ],
      "metadata": {
        "colab": {
          "base_uri": "https://localhost:8080/"
        },
        "id": "Of_dBQI99a1u",
        "outputId": "69c9e37a-8ef3-44d1-86b4-5d09b13ba32f"
      },
      "execution_count": null,
      "outputs": [
        {
          "output_type": "stream",
          "name": "stdout",
          "text": [
            "Model: \"decoder\"\n",
            "_________________________________________________________________\n",
            " Layer (type)                Output Shape              Param #   \n",
            "=================================================================\n",
            " input_3 (InputLayer)        [(None, 2)]               0         \n",
            "                                                                 \n",
            " dense_1 (Dense)             (None, 20480)             61440     \n",
            "                                                                 \n",
            " reshape (Reshape)           (None, 64, 5, 64)         0         \n",
            "                                                                 \n",
            " conv2d_transpose (Conv2DTra  (None, 128, 10, 64)      36928     \n",
            " nspose)                                                         \n",
            "                                                                 \n",
            " conv2d_transpose_1 (Conv2DT  (None, 256, 20, 32)      18464     \n",
            " ranspose)                                                       \n",
            "                                                                 \n",
            " conv2d_transpose_2 (Conv2DT  (None, 256, 20, 1)       289       \n",
            " ranspose)                                                       \n",
            "                                                                 \n",
            "=================================================================\n",
            "Total params: 117,121\n",
            "Trainable params: 117,121\n",
            "Non-trainable params: 0\n",
            "_________________________________________________________________\n"
          ]
        }
      ]
    },
    {
      "cell_type": "code",
      "source": [
        "class VarAutoEnc(keras.Model):\n",
        "    def __init__(self, encoder, decoder, **kwargs):\n",
        "        super(VarAutoEnc, self).__init__(**kwargs)\n",
        "        self.encoder = encoder\n",
        "        self.decoder = decoder\n",
        "        self.total_loss_tracker = keras.metrics.Mean(name=\"total_loss\")\n",
        "        self.reconstruction_loss_tracker = keras.metrics.Mean(\n",
        "            name=\"reconstruction_loss\"\n",
        "        )\n",
        "        self.kl_loss_tracker = keras.metrics.Mean(name=\"kl_loss\")\n",
        "\n",
        "    @property\n",
        "    def metrics(self):\n",
        "        return [\n",
        "            self.total_loss_tracker,\n",
        "            self.reconstruction_loss_tracker,\n",
        "            self.kl_loss_tracker,\n",
        "        ]\n",
        "\n",
        "    def train_step(self, data):\n",
        "        \n",
        "        with tf.GradientTape() as tape:\n",
        "            z_mean, z_log_var, z = self.encoder(data)\n",
        "            reconstruction = self.decoder(z)\n",
        "            reconstruction_loss = tf.reduce_mean(\n",
        "                tf.reduce_sum(\n",
        "                    keras.losses.binary_crossentropy(data, reconstruction), axis=(1, 2)\n",
        "                )\n",
        "            )\n",
        "            kl_loss = -0.5 * (1 + z_log_var - tf.square(z_mean) - tf.exp(z_log_var))\n",
        "            kl_loss = tf.reduce_mean(tf.reduce_sum(kl_loss, axis=1))\n",
        "            total_loss = reconstruction_loss + kl_loss\n",
        "        grads = tape.gradient(total_loss, self.trainable_weights)\n",
        "        self.optimizer.apply_gradients(zip(grads, self.trainable_weights))\n",
        "        self.total_loss_tracker.update_state(total_loss)\n",
        "        self.reconstruction_loss_tracker.update_state(reconstruction_loss)\n",
        "        self.kl_loss_tracker.update_state(kl_loss)\n",
        "        return {\n",
        "            \"loss\": self.total_loss_tracker.result(),\n",
        "            \"reconstruction_loss\": self.reconstruction_loss_tracker.result(),\n",
        "            \"kl_loss\": self.kl_loss_tracker.result(),\n",
        "        }\n",
        "    def call(self, x):\n",
        "        encoded = self.encoder(x)\n",
        "        decoded = self.decoder(encoded)\n",
        "        return decoded"
      ],
      "metadata": {
        "id": "AyI-lqiH9d6W"
      },
      "execution_count": null,
      "outputs": []
    },
    {
      "cell_type": "code",
      "source": [
        "vae = VarAutoEnc(encoder, decoder)\n",
        "vae.compile(optimizer=keras.optimizers.Adam())"
      ],
      "metadata": {
        "id": "HUqOuRhr9p6g"
      },
      "execution_count": null,
      "outputs": []
    },
    {
      "cell_type": "code",
      "source": [
        "history = vae.fit(train_hf,\n",
        "                   epochs=10)"
      ],
      "metadata": {
        "colab": {
          "base_uri": "https://localhost:8080/"
        },
        "id": "eSb0nC0U9ttA",
        "outputId": "bd2b65bf-d57b-4717-c221-ecf3f8917818"
      },
      "execution_count": null,
      "outputs": [
        {
          "output_type": "stream",
          "name": "stdout",
          "text": [
            "Epoch 1/10\n",
            "5/5 [==============================] - 2s 40ms/step - loss: 4091.1602 - reconstruction_loss: 2559.3176 - kl_loss: 222.4673\n",
            "Epoch 2/10\n",
            "5/5 [==============================] - 0s 11ms/step - loss: -20056.7850 - reconstruction_loss: -36305.3867 - kl_loss: 2235.5852\n",
            "Epoch 3/10\n",
            "5/5 [==============================] - 0s 11ms/step - loss: -343400.0521 - reconstruction_loss: -572274.0000 - kl_loss: 45018.0000\n",
            "Epoch 4/10\n",
            "5/5 [==============================] - 0s 12ms/step - loss: -3133866.6458 - reconstruction_loss: -4897400.0000 - kl_loss: 408380.3438\n",
            "Epoch 5/10\n",
            "5/5 [==============================] - 0s 11ms/step - loss: -21837840.1667 - reconstruction_loss: -32313942.0000 - kl_loss: 2586151.5000\n",
            "Epoch 6/10\n",
            "5/5 [==============================] - 0s 12ms/step - loss: -122444389.3333 - reconstruction_loss: -173610272.0000 - kl_loss: 12447908.0000\n",
            "Epoch 7/10\n",
            "5/5 [==============================] - 0s 15ms/step - loss: -571453418.6667 - reconstruction_loss: -773242944.0000 - kl_loss: 47753876.0000\n",
            "Epoch 8/10\n",
            "5/5 [==============================] - 0s 14ms/step - loss: -2294296533.3333 - reconstruction_loss: -3056710400.0000 - kl_loss: 171455056.0000\n",
            "Epoch 9/10\n",
            "5/5 [==============================] - 0s 16ms/step - loss: -8072034560.0000 - reconstruction_loss: -10391877632.0000 - kl_loss: 513886784.0000\n",
            "Epoch 10/10\n",
            "5/5 [==============================] - 0s 11ms/step - loss: -25696967338.6667 - reconstruction_loss: -32806486016.0000 - kl_loss: 1494229248.0000\n"
          ]
        }
      ]
    },
    {
      "cell_type": "code",
      "source": [
        "sample = np.array(test_hf[0]).reshape(1,256,20,1)\n",
        "z_mean, z_log_var, z = vae.encoder(sample)\n",
        "ds = vae.decoder(z).numpy()"
      ],
      "metadata": {
        "id": "eCWfwvTX9wFg"
      },
      "execution_count": null,
      "outputs": []
    },
    {
      "cell_type": "code",
      "source": [
        "mfcc_test = librosa.feature.inverse.mfcc_to_audio(ds.reshape(256, 20))\n",
        "soundfile.write('example1.wav', mfcc_test, 20000)"
      ],
      "metadata": {
        "id": "800vsRc8994o"
      },
      "execution_count": null,
      "outputs": []
    },
    {
      "cell_type": "code",
      "source": [
        "\n",
        "ipd.Audio('example1.wav')"
      ],
      "metadata": {
        "colab": {
          "base_uri": "https://localhost:8080/",
          "height": 76
        },
        "id": "Wle_lsrX-Cuw",
        "outputId": "af5b9e4f-fc74-4423-845c-7719282b9de6"
      },
      "execution_count": null,
      "outputs": [
        {
          "output_type": "execute_result",
          "data": {
            "text/plain": [
              "<IPython.lib.display.Audio object>"
            ],
            "text/html": [
              "\n",
              "                <audio  controls=\"controls\" >\n",
              "                    <source src=\"data:audio/x-wav;base64,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\" type=\"audio/x-wav\" />\n",
              "                    Your browser does not support the audio element.\n",
              "                </audio>\n",
              "              "
            ]
          },
          "metadata": {},
          "execution_count": 121
        }
      ]
    },
    {
      "cell_type": "markdown",
      "source": [
        "**Result**:Variational Autoencoder shows an exponential increase in loss which is because the features are not being mapped properly"
      ],
      "metadata": {
        "id": "yqGMtq36_Zw3"
      }
    }
  ]
}