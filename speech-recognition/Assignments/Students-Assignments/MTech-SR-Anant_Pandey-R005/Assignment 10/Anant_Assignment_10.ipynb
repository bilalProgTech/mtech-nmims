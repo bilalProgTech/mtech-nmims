{
  "nbformat": 4,
  "nbformat_minor": 0,
  "metadata": {
    "colab": {
      "provenance": [],
      "collapsed_sections": []
    },
    "kernelspec": {
      "name": "python3",
      "display_name": "Python 3"
    },
    "language_info": {
      "name": "python"
    },
    "accelerator": "GPU",
    "gpuClass": "standard"
  },
  "cells": [
    {
      "cell_type": "code",
      "source": [
        "import warnings\n",
        "warnings.filterwarnings(\"ignore\")\n",
        "import librosa\n",
        "import librosa.display\n",
        "from sklearn.preprocessing import minmax_scale\n",
        "import IPython.display as ipd\n",
        "import matplotlib.pyplot as plt\n",
        "%matplotlib inline\n",
        "import numpy as np\n",
        "import pandas as pd\n",
        "import os,random,shutil\n",
        "from sklearn.linear_model import LogisticRegression\n",
        "from sklearn.model_selection import train_test_split\n",
        "from sklearn.preprocessing import StandardScaler\n",
        "from sklearn.metrics import ConfusionMatrixDisplay,accuracy_score\n",
        "import tensorflow as tf\n",
        "from tensorflow.keras import regularizers\n",
        "from sklearn.model_selection import train_test_split\n",
        "import tensorflow as tf\n",
        "from tensorflow.keras.preprocessing.image import ImageDataGenerator\n",
        "from tensorflow.keras.layers import Conv2D, MaxPooling2D, Dropout, UpSampling2D,add\n",
        "import keras\n",
        "from matplotlib import pyplot as plt\n",
        "import numpy as np\n",
        "from keras.layers import Input,Conv2D,MaxPooling2D,UpSampling2D\n",
        "from keras.models import Model\n",
        "import soundfile\n",
        "from tensorflow import keras\n",
        "from tensorflow.keras import layers"
      ],
      "metadata": {
        "id": "Og-zmjHOdK3C"
      },
      "execution_count": 2,
      "outputs": []
    },
    {
      "cell_type": "markdown",
      "source": [
        "#Data Wrangling"
      ],
      "metadata": {
        "id": "BNgSUp7O-eS0"
      }
    },
    {
      "cell_type": "code",
      "source": [
        "os.environ['KAGGLE_CONFIG_DIR']='/content'\n",
        "!kaggle datasets download -d uwrfkaggler/ravdess-emotional-speech-audio"
      ],
      "metadata": {
        "colab": {
          "base_uri": "https://localhost:8080/"
        },
        "id": "J6SzuGAYhQRT",
        "outputId": "5fb8a66d-f243-469b-d0ce-41f5867b9b6a"
      },
      "execution_count": 3,
      "outputs": [
        {
          "output_type": "stream",
          "name": "stdout",
          "text": [
            "Warning: Your Kaggle API key is readable by other users on this system! To fix this, you can run 'chmod 600 /content/kaggle.json'\n",
            "Downloading ravdess-emotional-speech-audio.zip to /content\n",
            " 99% 425M/429M [00:08<00:00, 59.6MB/s]\n",
            "100% 429M/429M [00:08<00:00, 51.7MB/s]\n"
          ]
        }
      ]
    },
    {
      "cell_type": "code",
      "source": [
        "os.makedirs(\"/content/Happy\")\n",
        "os.makedirs(\"/content/Sad\")\n",
        "os.makedirs(\"/content/input\")\n",
        "\n",
        "name = ('03-01-03-02-02-01',\n",
        "        '03-01-03-02-02-02',\n",
        "        '03-01-04-01-01-01',\n",
        "        '03-01-04-01-01-02',\n",
        "        '03-01-04-01-02-01',\n",
        "        '03-01-04-01-02-02',\n",
        "        '03-01-04-02-01-01',\n",
        "        '03-01-04-02-01-02',\n",
        "        '03-01-03-01-01-01',\n",
        "        '03-01-03-01-01-02',\n",
        "        '03-01-03-01-02-01',\n",
        "        '03-01-04-02-02-01',\n",
        "        '03-01-03-01-02-02',\n",
        "        '03-01-03-02-01-01',\n",
        "        '03-01-03-02-01-02',\n",
        "        '03-01-04-02-02-02')\n"
      ],
      "metadata": {
        "id": "Is8eqOQYdMNh"
      },
      "execution_count": 4,
      "outputs": []
    },
    {
      "cell_type": "code",
      "source": [
        "!unzip -qq ravdess-emotional-speech-audio.zip -d input"
      ],
      "metadata": {
        "id": "htDScYnqhXLG"
      },
      "execution_count": 5,
      "outputs": []
    },
    {
      "cell_type": "markdown",
      "source": [
        "#Data Preprocessing"
      ],
      "metadata": {
        "id": "A3uLciUG-g_c"
      }
    },
    {
      "cell_type": "code",
      "source": [
        "i = 1\n",
        "for dirname, _, filenames in os.walk('/content/input'):\n",
        "    for filename in filenames:\n",
        "        if filename.startswith(name):\n",
        "            i = i+1\n",
        "            if filename.startswith((\"03-01-03\")):\n",
        "                shutil.copy(os.path.join(dirname, filename),\"/content/Happy/\")\n",
        "            else:\n",
        "                shutil.copy(os.path.join(dirname, filename),\"/content/Sad/\")\n",
        "            \n",
        "print(\"Count = \",i)\n",
        "\n",
        "# Happy Files MFCC\n",
        "i = 0\n",
        "mfcc_happy = []\n",
        "for dirname, _, filenames in os.walk('/content/'):\n",
        "    print(dirname)\n",
        "    if dirname == \"/content/Happy\":\n",
        "        for filename in filenames:\n",
        "            if filename.endswith(\".wav\"):\n",
        "                a = os.path.join(dirname, filename)\n",
        "                x, sr = librosa.load(a)\n",
        "                mfccs = librosa.feature.mfcc(y=x, sr=sr, n_mfcc=64)\n",
        "                mean = np.mean((mfccs).T,axis = 0)\n",
        "                mfcc_happy.append(mean)\n",
        "                i = i+1\n",
        "                if i == 250:\n",
        "                    break\n",
        "\n",
        "# Happy Files Mel Spectrogram\n",
        "i = 0\n",
        "melspec_happy = []\n",
        "for dirname, _, filenames in os.walk('/content/'):\n",
        "    print(dirname)\n",
        "    if dirname == \"/content/Happy\":\n",
        "        for filename in filenames:\n",
        "            if filename.endswith(\".wav\"):\n",
        "                a = os.path.join(dirname, filename)\n",
        "                x, sr = librosa.load(a)\n",
        "        \n",
        "                mel = librosa.feature.melspectrogram(y=x, sr=sr, n_mels=64)\n",
        "                mean = np.mean((mel).T,axis = 0)\n",
        "                melspec_happy.append(mean)\n",
        "                i = i+1\n",
        "                if i == 250:\n",
        "                    break\n",
        "\n",
        "#Sad Files  MFCC\n",
        "i = 0\n",
        "mfcc_sad = []\n",
        "for dirname, _, filenames in os.walk('/content/'):\n",
        "    print(dirname)\n",
        "    if dirname == \"/content/Happy\":\n",
        "        for filename in filenames:\n",
        "            if filename.endswith(\".wav\"):\n",
        "                a = os.path.join(dirname, filename)\n",
        "                x, sr = librosa.load(a)\n",
        "                mfccs = librosa.feature.mfcc(y=x, sr=sr, n_mfcc=64)\n",
        "                mean = np.mean((mfccs).T,axis = 0)\n",
        "                mfcc_sad.append(mean)\n",
        "                i = i+1\n",
        "                if i == 250:\n",
        "                    break\n",
        "\n",
        "#Sad Files  Mel Spectrogram\n",
        "i = 0\n",
        "melspec_sad = []\n",
        "for dirname, _, filenames in os.walk('/content/'):\n",
        "    print(dirname)\n",
        "    if dirname == \"/content/Sad\":\n",
        "        for filename in filenames:\n",
        "            if filename.endswith(\".wav\"):\n",
        "                a = os.path.join(dirname, filename)\n",
        "                x, sr = librosa.load(a)\n",
        "        \n",
        "                mel = librosa.feature.melspectrogram(y=x, sr=sr, n_mels=64)\n",
        "                mean = np.mean((mel).T,axis = 0)\n",
        "                melspec_sad.append(mean)\n",
        "                i = i+1\n",
        "                if i == 250:\n",
        "                    break"
      ],
      "metadata": {
        "colab": {
          "base_uri": "https://localhost:8080/"
        },
        "id": "2GmG_LrCgqng",
        "outputId": "6d89f5bc-1d20-43ac-e029-6b3e343a5c04"
      },
      "execution_count": 6,
      "outputs": [
        {
          "output_type": "stream",
          "name": "stdout",
          "text": [
            "Count =  769\n",
            "/content/\n",
            "/content/.config\n",
            "/content/.config/logs\n",
            "/content/.config/logs/2022.10.27\n",
            "/content/.config/configurations\n",
            "/content/Sad\n",
            "/content/Happy\n",
            "/content/input\n",
            "/content/input/Actor_03\n",
            "/content/input/Actor_12\n",
            "/content/input/Actor_04\n",
            "/content/input/Actor_21\n",
            "/content/input/Actor_07\n",
            "/content/input/Actor_01\n",
            "/content/input/Actor_06\n",
            "/content/input/Actor_02\n",
            "/content/input/audio_speech_actors_01-24\n",
            "/content/input/audio_speech_actors_01-24/Actor_03\n",
            "/content/input/audio_speech_actors_01-24/Actor_12\n",
            "/content/input/audio_speech_actors_01-24/Actor_04\n",
            "/content/input/audio_speech_actors_01-24/Actor_21\n",
            "/content/input/audio_speech_actors_01-24/Actor_07\n",
            "/content/input/audio_speech_actors_01-24/Actor_01\n",
            "/content/input/audio_speech_actors_01-24/Actor_06\n",
            "/content/input/audio_speech_actors_01-24/Actor_02\n",
            "/content/input/audio_speech_actors_01-24/Actor_17\n",
            "/content/input/audio_speech_actors_01-24/Actor_15\n",
            "/content/input/audio_speech_actors_01-24/Actor_23\n",
            "/content/input/audio_speech_actors_01-24/Actor_13\n",
            "/content/input/audio_speech_actors_01-24/Actor_14\n",
            "/content/input/audio_speech_actors_01-24/Actor_09\n",
            "/content/input/audio_speech_actors_01-24/Actor_18\n",
            "/content/input/audio_speech_actors_01-24/Actor_11\n",
            "/content/input/audio_speech_actors_01-24/Actor_20\n",
            "/content/input/audio_speech_actors_01-24/Actor_08\n",
            "/content/input/audio_speech_actors_01-24/Actor_10\n",
            "/content/input/audio_speech_actors_01-24/Actor_24\n",
            "/content/input/audio_speech_actors_01-24/Actor_05\n",
            "/content/input/audio_speech_actors_01-24/Actor_22\n",
            "/content/input/audio_speech_actors_01-24/Actor_16\n",
            "/content/input/audio_speech_actors_01-24/Actor_19\n",
            "/content/input/Actor_17\n",
            "/content/input/Actor_15\n",
            "/content/input/Actor_23\n",
            "/content/input/Actor_13\n",
            "/content/input/Actor_14\n",
            "/content/input/Actor_09\n",
            "/content/input/Actor_18\n",
            "/content/input/Actor_11\n",
            "/content/input/Actor_20\n",
            "/content/input/Actor_08\n",
            "/content/input/Actor_10\n",
            "/content/input/Actor_24\n",
            "/content/input/Actor_05\n",
            "/content/input/Actor_22\n",
            "/content/input/Actor_16\n",
            "/content/input/Actor_19\n",
            "/content/sample_data\n",
            "/content/\n",
            "/content/.config\n",
            "/content/.config/logs\n",
            "/content/.config/logs/2022.10.27\n",
            "/content/.config/configurations\n",
            "/content/Sad\n",
            "/content/Happy\n",
            "/content/input\n",
            "/content/input/Actor_03\n",
            "/content/input/Actor_12\n",
            "/content/input/Actor_04\n",
            "/content/input/Actor_21\n",
            "/content/input/Actor_07\n",
            "/content/input/Actor_01\n",
            "/content/input/Actor_06\n",
            "/content/input/Actor_02\n",
            "/content/input/audio_speech_actors_01-24\n",
            "/content/input/audio_speech_actors_01-24/Actor_03\n",
            "/content/input/audio_speech_actors_01-24/Actor_12\n",
            "/content/input/audio_speech_actors_01-24/Actor_04\n",
            "/content/input/audio_speech_actors_01-24/Actor_21\n",
            "/content/input/audio_speech_actors_01-24/Actor_07\n",
            "/content/input/audio_speech_actors_01-24/Actor_01\n",
            "/content/input/audio_speech_actors_01-24/Actor_06\n",
            "/content/input/audio_speech_actors_01-24/Actor_02\n",
            "/content/input/audio_speech_actors_01-24/Actor_17\n",
            "/content/input/audio_speech_actors_01-24/Actor_15\n",
            "/content/input/audio_speech_actors_01-24/Actor_23\n",
            "/content/input/audio_speech_actors_01-24/Actor_13\n",
            "/content/input/audio_speech_actors_01-24/Actor_14\n",
            "/content/input/audio_speech_actors_01-24/Actor_09\n",
            "/content/input/audio_speech_actors_01-24/Actor_18\n",
            "/content/input/audio_speech_actors_01-24/Actor_11\n",
            "/content/input/audio_speech_actors_01-24/Actor_20\n",
            "/content/input/audio_speech_actors_01-24/Actor_08\n",
            "/content/input/audio_speech_actors_01-24/Actor_10\n",
            "/content/input/audio_speech_actors_01-24/Actor_24\n",
            "/content/input/audio_speech_actors_01-24/Actor_05\n",
            "/content/input/audio_speech_actors_01-24/Actor_22\n",
            "/content/input/audio_speech_actors_01-24/Actor_16\n",
            "/content/input/audio_speech_actors_01-24/Actor_19\n",
            "/content/input/Actor_17\n",
            "/content/input/Actor_15\n",
            "/content/input/Actor_23\n",
            "/content/input/Actor_13\n",
            "/content/input/Actor_14\n",
            "/content/input/Actor_09\n",
            "/content/input/Actor_18\n",
            "/content/input/Actor_11\n",
            "/content/input/Actor_20\n",
            "/content/input/Actor_08\n",
            "/content/input/Actor_10\n",
            "/content/input/Actor_24\n",
            "/content/input/Actor_05\n",
            "/content/input/Actor_22\n",
            "/content/input/Actor_16\n",
            "/content/input/Actor_19\n",
            "/content/sample_data\n",
            "/content/\n",
            "/content/.config\n",
            "/content/.config/logs\n",
            "/content/.config/logs/2022.10.27\n",
            "/content/.config/configurations\n",
            "/content/Sad\n",
            "/content/Happy\n",
            "/content/input\n",
            "/content/input/Actor_03\n",
            "/content/input/Actor_12\n",
            "/content/input/Actor_04\n",
            "/content/input/Actor_21\n",
            "/content/input/Actor_07\n",
            "/content/input/Actor_01\n",
            "/content/input/Actor_06\n",
            "/content/input/Actor_02\n",
            "/content/input/audio_speech_actors_01-24\n",
            "/content/input/audio_speech_actors_01-24/Actor_03\n",
            "/content/input/audio_speech_actors_01-24/Actor_12\n",
            "/content/input/audio_speech_actors_01-24/Actor_04\n",
            "/content/input/audio_speech_actors_01-24/Actor_21\n",
            "/content/input/audio_speech_actors_01-24/Actor_07\n",
            "/content/input/audio_speech_actors_01-24/Actor_01\n",
            "/content/input/audio_speech_actors_01-24/Actor_06\n",
            "/content/input/audio_speech_actors_01-24/Actor_02\n",
            "/content/input/audio_speech_actors_01-24/Actor_17\n",
            "/content/input/audio_speech_actors_01-24/Actor_15\n",
            "/content/input/audio_speech_actors_01-24/Actor_23\n",
            "/content/input/audio_speech_actors_01-24/Actor_13\n",
            "/content/input/audio_speech_actors_01-24/Actor_14\n",
            "/content/input/audio_speech_actors_01-24/Actor_09\n",
            "/content/input/audio_speech_actors_01-24/Actor_18\n",
            "/content/input/audio_speech_actors_01-24/Actor_11\n",
            "/content/input/audio_speech_actors_01-24/Actor_20\n",
            "/content/input/audio_speech_actors_01-24/Actor_08\n",
            "/content/input/audio_speech_actors_01-24/Actor_10\n",
            "/content/input/audio_speech_actors_01-24/Actor_24\n",
            "/content/input/audio_speech_actors_01-24/Actor_05\n",
            "/content/input/audio_speech_actors_01-24/Actor_22\n",
            "/content/input/audio_speech_actors_01-24/Actor_16\n",
            "/content/input/audio_speech_actors_01-24/Actor_19\n",
            "/content/input/Actor_17\n",
            "/content/input/Actor_15\n",
            "/content/input/Actor_23\n",
            "/content/input/Actor_13\n",
            "/content/input/Actor_14\n",
            "/content/input/Actor_09\n",
            "/content/input/Actor_18\n",
            "/content/input/Actor_11\n",
            "/content/input/Actor_20\n",
            "/content/input/Actor_08\n",
            "/content/input/Actor_10\n",
            "/content/input/Actor_24\n",
            "/content/input/Actor_05\n",
            "/content/input/Actor_22\n",
            "/content/input/Actor_16\n",
            "/content/input/Actor_19\n",
            "/content/sample_data\n",
            "/content/\n",
            "/content/.config\n",
            "/content/.config/logs\n",
            "/content/.config/logs/2022.10.27\n",
            "/content/.config/configurations\n",
            "/content/Sad\n",
            "/content/Happy\n",
            "/content/input\n",
            "/content/input/Actor_03\n",
            "/content/input/Actor_12\n",
            "/content/input/Actor_04\n",
            "/content/input/Actor_21\n",
            "/content/input/Actor_07\n",
            "/content/input/Actor_01\n",
            "/content/input/Actor_06\n",
            "/content/input/Actor_02\n",
            "/content/input/audio_speech_actors_01-24\n",
            "/content/input/audio_speech_actors_01-24/Actor_03\n",
            "/content/input/audio_speech_actors_01-24/Actor_12\n",
            "/content/input/audio_speech_actors_01-24/Actor_04\n",
            "/content/input/audio_speech_actors_01-24/Actor_21\n",
            "/content/input/audio_speech_actors_01-24/Actor_07\n",
            "/content/input/audio_speech_actors_01-24/Actor_01\n",
            "/content/input/audio_speech_actors_01-24/Actor_06\n",
            "/content/input/audio_speech_actors_01-24/Actor_02\n",
            "/content/input/audio_speech_actors_01-24/Actor_17\n",
            "/content/input/audio_speech_actors_01-24/Actor_15\n",
            "/content/input/audio_speech_actors_01-24/Actor_23\n",
            "/content/input/audio_speech_actors_01-24/Actor_13\n",
            "/content/input/audio_speech_actors_01-24/Actor_14\n",
            "/content/input/audio_speech_actors_01-24/Actor_09\n",
            "/content/input/audio_speech_actors_01-24/Actor_18\n",
            "/content/input/audio_speech_actors_01-24/Actor_11\n",
            "/content/input/audio_speech_actors_01-24/Actor_20\n",
            "/content/input/audio_speech_actors_01-24/Actor_08\n",
            "/content/input/audio_speech_actors_01-24/Actor_10\n",
            "/content/input/audio_speech_actors_01-24/Actor_24\n",
            "/content/input/audio_speech_actors_01-24/Actor_05\n",
            "/content/input/audio_speech_actors_01-24/Actor_22\n",
            "/content/input/audio_speech_actors_01-24/Actor_16\n",
            "/content/input/audio_speech_actors_01-24/Actor_19\n",
            "/content/input/Actor_17\n",
            "/content/input/Actor_15\n",
            "/content/input/Actor_23\n",
            "/content/input/Actor_13\n",
            "/content/input/Actor_14\n",
            "/content/input/Actor_09\n",
            "/content/input/Actor_18\n",
            "/content/input/Actor_11\n",
            "/content/input/Actor_20\n",
            "/content/input/Actor_08\n",
            "/content/input/Actor_10\n",
            "/content/input/Actor_24\n",
            "/content/input/Actor_05\n",
            "/content/input/Actor_22\n",
            "/content/input/Actor_16\n",
            "/content/input/Actor_19\n",
            "/content/sample_data\n"
          ]
        }
      ]
    },
    {
      "cell_type": "code",
      "source": [
        "happy_features = pd.DataFrame(mfcc_happy,columns=range(1,65))\n",
        "happy_features[\"Cat\"] = \"Happy\"\n",
        "sad_features = pd.DataFrame(mfcc_sad,columns=range(1,65))\n",
        "sad_features[\"Cat\"] = \"Sad\""
      ],
      "metadata": {
        "id": "mL5UCSoOkFNo"
      },
      "execution_count": 7,
      "outputs": []
    },
    {
      "cell_type": "code",
      "source": [
        "mfccdf = happy_features.append(sad_features)\n",
        "mfccdf.to_csv(\"Mfcc.csv\",index=False)"
      ],
      "metadata": {
        "id": "zTQEIMJOkRxq"
      },
      "execution_count": 8,
      "outputs": []
    },
    {
      "cell_type": "code",
      "source": [
        "mel_happy = pd.DataFrame(melspec_happy,columns=range(1,65))\n",
        "mel_happy[\"Cat\"] = \"Happy\"\n",
        "mel_sad = pd.DataFrame(melspec_sad,columns=range(1,65))\n",
        "mel_sad[\"Cat\"] = \"Sad\""
      ],
      "metadata": {
        "id": "io0OFfOgke1R"
      },
      "execution_count": 9,
      "outputs": []
    },
    {
      "cell_type": "code",
      "source": [
        "meldf = mel_happy.append(mel_sad)"
      ],
      "metadata": {
        "id": "8eHj8jZns_oc"
      },
      "execution_count": 10,
      "outputs": []
    },
    {
      "cell_type": "code",
      "source": [
        "meldf.to_csv(\"Mel.csv\",index=False)"
      ],
      "metadata": {
        "id": "vej6njMvtFx2"
      },
      "execution_count": 11,
      "outputs": []
    },
    {
      "cell_type": "markdown",
      "source": [
        "# Logistic Regression Model- MFCC"
      ],
      "metadata": {
        "id": "ohrQAGXQtv40"
      }
    },
    {
      "cell_type": "code",
      "source": [
        "def Log_Reg(X,y):\n",
        "    X_train, X_test, y_train, y_test = train_test_split(X, y, test_size=0.2, random_state=42,stratify = y)\n",
        "    scaler = StandardScaler()\n",
        "    X_train_scale = scaler.fit_transform(X_train)\n",
        "    X_test_scale = scaler.transform(X_test)\n",
        "    lr = LogisticRegression()\n",
        "    lr.fit(X_train_scale,y_train)\n",
        "    y_train_pred = lr.predict(X_train_scale)\n",
        "    y_test_pred = lr.predict(X_test_scale)\n",
        "    print(\"Training Accuracy = \",accuracy_score(y_train,y_train_pred))\n",
        "    print(\"Validation/Test Accuracy = \",accuracy_score(y_test,y_test_pred))"
      ],
      "metadata": {
        "id": "R54Hg3nRtqhR"
      },
      "execution_count": 12,
      "outputs": []
    },
    {
      "cell_type": "code",
      "source": [
        "mfccdf[\"Cat\"] = mfccdf[\"Cat\"].replace({'Happy':1,'Sad':0})\n",
        "X = mfccdf.iloc[:,0:64]\n",
        "y = mfccdf[\"Cat\"]\n",
        "Log_Reg(X,y)"
      ],
      "metadata": {
        "id": "5teznu58uLlo",
        "colab": {
          "base_uri": "https://localhost:8080/"
        },
        "outputId": "34eb3022-ea58-4768-b6f9-53ddc0d60013"
      },
      "execution_count": 13,
      "outputs": [
        {
          "output_type": "stream",
          "name": "stdout",
          "text": [
            "Training Accuracy =  0.5667752442996743\n",
            "Validation/Test Accuracy =  0.23376623376623376\n"
          ]
        }
      ]
    },
    {
      "cell_type": "markdown",
      "source": [
        "# Logistic Regression Model- Mel Spectrogram"
      ],
      "metadata": {
        "id": "o2v48nKPudlk"
      }
    },
    {
      "cell_type": "code",
      "source": [
        "meldf[\"Cat\"] = meldf[\"Cat\"].replace({\"Happy\": 1,\"Sad\": 0})\n",
        "X = meldf.iloc[:,:-1]\n",
        "y = meldf.iloc[:,-1:]\n",
        "Log_Reg(X,y)"
      ],
      "metadata": {
        "id": "8Ab3zatcubsL",
        "colab": {
          "base_uri": "https://localhost:8080/"
        },
        "outputId": "81ba9e75-8126-430f-9f2c-100fad7d6c8a"
      },
      "execution_count": 14,
      "outputs": [
        {
          "output_type": "stream",
          "name": "stdout",
          "text": [
            "Training Accuracy =  0.758957654723127\n",
            "Validation/Test Accuracy =  0.7142857142857143\n"
          ]
        }
      ]
    },
    {
      "cell_type": "markdown",
      "source": [
        "**Conclusion**:Mel Spectrogram Features Give Better Accuracy using Logistic Regression"
      ],
      "metadata": {
        "id": "_l1WjQbK-z67"
      }
    },
    {
      "cell_type": "markdown",
      "source": [
        "# CNN Model - MFCC"
      ],
      "metadata": {
        "id": "KqNBQt-Ju9ld"
      }
    },
    {
      "cell_type": "code",
      "source": [
        "X = mfccdf.iloc[:,0:64]\n",
        "y = mfccdf[\"Cat\"]\n",
        "X_train, X_test, y_train, y_test = train_test_split(X, y, test_size=0.2,stratify = y)\n",
        "X_train = np.array(X_train).reshape(X_train.shape[0],16,4,1)\n",
        "X_test = np.array(X_test).reshape(X_test.shape[0],16,4,1)"
      ],
      "metadata": {
        "id": "_bb0tf93u1b7"
      },
      "execution_count": 15,
      "outputs": []
    },
    {
      "cell_type": "code",
      "source": [
        "tf.keras.backend.clear_session()\n",
        "model = tf.keras.Sequential([\n",
        "    tf.keras.layers.InputLayer(input_shape=(16, 4 , 1)),\n",
        "    tf.keras.layers.Conv2D(filters=16, kernel_size=(3, 3), activation='relu', padding = \"same\"),\n",
        "    tf.keras.layers.MaxPooling2D(2, 2),\n",
        "    tf.keras.layers.Flatten(),\n",
        "    tf.keras.layers.Dense(16, activation='relu'),\n",
        "    tf.keras.layers.Dense(1,activation='sigmoid')\n",
        "])\n",
        "model.summary()\n",
        "model.compile(optimizer=tf.keras.optimizers.Adam(learning_rate=0.001),loss='binary_crossentropy', metrics='accuracy')"
      ],
      "metadata": {
        "colab": {
          "base_uri": "https://localhost:8080/"
        },
        "id": "BvYFNJcHvMeM",
        "outputId": "28731434-d6d0-40a5-b341-31e3d8bb46ac"
      },
      "execution_count": 16,
      "outputs": [
        {
          "output_type": "stream",
          "name": "stdout",
          "text": [
            "Model: \"sequential\"\n",
            "_________________________________________________________________\n",
            " Layer (type)                Output Shape              Param #   \n",
            "=================================================================\n",
            " conv2d (Conv2D)             (None, 16, 4, 16)         160       \n",
            "                                                                 \n",
            " max_pooling2d (MaxPooling2D  (None, 8, 2, 16)         0         \n",
            " )                                                               \n",
            "                                                                 \n",
            " flatten (Flatten)           (None, 256)               0         \n",
            "                                                                 \n",
            " dense (Dense)               (None, 16)                4112      \n",
            "                                                                 \n",
            " dense_1 (Dense)             (None, 1)                 17        \n",
            "                                                                 \n",
            "=================================================================\n",
            "Total params: 4,289\n",
            "Trainable params: 4,289\n",
            "Non-trainable params: 0\n",
            "_________________________________________________________________\n"
          ]
        }
      ]
    },
    {
      "cell_type": "code",
      "source": [
        "history = model.fit(X_train, y_train, epochs=100,validation_data=(X_test,y_test))"
      ],
      "metadata": {
        "colab": {
          "base_uri": "https://localhost:8080/"
        },
        "id": "jaUjhHEQvhrl",
        "outputId": "b8b0d206-7705-4507-a341-97ba25241b97"
      },
      "execution_count": 17,
      "outputs": [
        {
          "output_type": "stream",
          "name": "stdout",
          "text": [
            "Epoch 1/100\n",
            "10/10 [==============================] - 10s 56ms/step - loss: 7.0869 - accuracy: 0.5114 - val_loss: 4.4389 - val_accuracy: 0.5065\n",
            "Epoch 2/100\n",
            "10/10 [==============================] - 0s 9ms/step - loss: 2.5713 - accuracy: 0.4691 - val_loss: 1.3585 - val_accuracy: 0.4935\n",
            "Epoch 3/100\n",
            "10/10 [==============================] - 0s 10ms/step - loss: 1.3437 - accuracy: 0.4593 - val_loss: 1.2013 - val_accuracy: 0.4935\n",
            "Epoch 4/100\n",
            "10/10 [==============================] - 0s 12ms/step - loss: 1.0433 - accuracy: 0.5309 - val_loss: 0.9503 - val_accuracy: 0.5195\n",
            "Epoch 5/100\n",
            "10/10 [==============================] - 0s 9ms/step - loss: 0.8335 - accuracy: 0.5081 - val_loss: 0.8010 - val_accuracy: 0.4805\n",
            "Epoch 6/100\n",
            "10/10 [==============================] - 0s 10ms/step - loss: 0.8288 - accuracy: 0.4788 - val_loss: 0.7976 - val_accuracy: 0.4805\n",
            "Epoch 7/100\n",
            "10/10 [==============================] - 0s 15ms/step - loss: 0.8147 - accuracy: 0.4919 - val_loss: 0.7930 - val_accuracy: 0.4545\n",
            "Epoch 8/100\n",
            "10/10 [==============================] - 0s 20ms/step - loss: 0.7848 - accuracy: 0.4756 - val_loss: 0.7921 - val_accuracy: 0.4545\n",
            "Epoch 9/100\n",
            "10/10 [==============================] - 0s 10ms/step - loss: 0.7901 - accuracy: 0.5244 - val_loss: 0.8390 - val_accuracy: 0.4675\n",
            "Epoch 10/100\n",
            "10/10 [==============================] - 0s 10ms/step - loss: 0.8330 - accuracy: 0.5049 - val_loss: 0.7829 - val_accuracy: 0.4545\n",
            "Epoch 11/100\n",
            "10/10 [==============================] - 0s 15ms/step - loss: 0.7629 - accuracy: 0.4984 - val_loss: 0.7706 - val_accuracy: 0.4416\n",
            "Epoch 12/100\n",
            "10/10 [==============================] - 0s 12ms/step - loss: 0.7476 - accuracy: 0.4886 - val_loss: 0.7770 - val_accuracy: 0.4416\n",
            "Epoch 13/100\n",
            "10/10 [==============================] - 0s 14ms/step - loss: 0.7534 - accuracy: 0.5114 - val_loss: 0.7961 - val_accuracy: 0.4675\n",
            "Epoch 14/100\n",
            "10/10 [==============================] - 0s 14ms/step - loss: 0.7727 - accuracy: 0.4853 - val_loss: 0.8304 - val_accuracy: 0.4675\n",
            "Epoch 15/100\n",
            "10/10 [==============================] - 0s 18ms/step - loss: 0.7518 - accuracy: 0.4919 - val_loss: 0.7964 - val_accuracy: 0.5195\n",
            "Epoch 16/100\n",
            "10/10 [==============================] - 0s 11ms/step - loss: 0.8108 - accuracy: 0.4625 - val_loss: 0.8136 - val_accuracy: 0.5325\n",
            "Epoch 17/100\n",
            "10/10 [==============================] - 0s 6ms/step - loss: 0.7447 - accuracy: 0.4886 - val_loss: 0.8027 - val_accuracy: 0.4286\n",
            "Epoch 18/100\n",
            "10/10 [==============================] - 0s 6ms/step - loss: 0.7318 - accuracy: 0.5114 - val_loss: 0.8322 - val_accuracy: 0.4805\n",
            "Epoch 19/100\n",
            "10/10 [==============================] - 0s 6ms/step - loss: 0.7422 - accuracy: 0.5081 - val_loss: 0.7946 - val_accuracy: 0.4026\n",
            "Epoch 20/100\n",
            "10/10 [==============================] - 0s 8ms/step - loss: 0.7265 - accuracy: 0.5244 - val_loss: 0.8540 - val_accuracy: 0.4545\n",
            "Epoch 21/100\n",
            "10/10 [==============================] - 0s 11ms/step - loss: 0.7739 - accuracy: 0.4886 - val_loss: 0.8184 - val_accuracy: 0.4675\n",
            "Epoch 22/100\n",
            "10/10 [==============================] - 0s 10ms/step - loss: 0.7728 - accuracy: 0.4691 - val_loss: 0.8080 - val_accuracy: 0.4416\n",
            "Epoch 23/100\n",
            "10/10 [==============================] - 0s 12ms/step - loss: 0.7205 - accuracy: 0.5016 - val_loss: 0.8256 - val_accuracy: 0.4286\n",
            "Epoch 24/100\n",
            "10/10 [==============================] - 0s 9ms/step - loss: 0.7870 - accuracy: 0.5081 - val_loss: 0.9328 - val_accuracy: 0.4675\n",
            "Epoch 25/100\n",
            "10/10 [==============================] - 0s 9ms/step - loss: 0.7821 - accuracy: 0.5407 - val_loss: 0.9061 - val_accuracy: 0.4805\n",
            "Epoch 26/100\n",
            "10/10 [==============================] - 0s 10ms/step - loss: 0.7659 - accuracy: 0.5114 - val_loss: 0.8058 - val_accuracy: 0.4026\n",
            "Epoch 27/100\n",
            "10/10 [==============================] - 0s 11ms/step - loss: 0.7653 - accuracy: 0.4756 - val_loss: 0.9680 - val_accuracy: 0.4935\n",
            "Epoch 28/100\n",
            "10/10 [==============================] - 0s 10ms/step - loss: 0.7778 - accuracy: 0.4658 - val_loss: 0.8555 - val_accuracy: 0.4416\n",
            "Epoch 29/100\n",
            "10/10 [==============================] - 0s 9ms/step - loss: 0.7866 - accuracy: 0.5016 - val_loss: 0.8505 - val_accuracy: 0.4286\n",
            "Epoch 30/100\n",
            "10/10 [==============================] - 0s 9ms/step - loss: 0.7301 - accuracy: 0.5147 - val_loss: 0.8382 - val_accuracy: 0.3896\n",
            "Epoch 31/100\n",
            "10/10 [==============================] - 0s 8ms/step - loss: 0.7095 - accuracy: 0.5407 - val_loss: 0.8157 - val_accuracy: 0.3506\n",
            "Epoch 32/100\n",
            "10/10 [==============================] - 0s 9ms/step - loss: 0.7313 - accuracy: 0.4723 - val_loss: 0.8220 - val_accuracy: 0.3896\n",
            "Epoch 33/100\n",
            "10/10 [==============================] - 0s 9ms/step - loss: 0.7090 - accuracy: 0.5114 - val_loss: 0.8254 - val_accuracy: 0.4026\n",
            "Epoch 34/100\n",
            "10/10 [==============================] - 0s 13ms/step - loss: 0.7126 - accuracy: 0.5147 - val_loss: 0.8588 - val_accuracy: 0.4026\n",
            "Epoch 35/100\n",
            "10/10 [==============================] - 0s 9ms/step - loss: 0.7828 - accuracy: 0.5016 - val_loss: 0.9965 - val_accuracy: 0.4805\n",
            "Epoch 36/100\n",
            "10/10 [==============================] - 0s 10ms/step - loss: 0.8074 - accuracy: 0.4951 - val_loss: 0.8349 - val_accuracy: 0.3636\n",
            "Epoch 37/100\n",
            "10/10 [==============================] - 0s 10ms/step - loss: 0.7487 - accuracy: 0.5081 - val_loss: 0.9662 - val_accuracy: 0.4935\n",
            "Epoch 38/100\n",
            "10/10 [==============================] - 0s 9ms/step - loss: 0.7420 - accuracy: 0.4951 - val_loss: 0.8554 - val_accuracy: 0.3636\n",
            "Epoch 39/100\n",
            "10/10 [==============================] - 0s 8ms/step - loss: 0.7509 - accuracy: 0.4919 - val_loss: 0.8341 - val_accuracy: 0.3506\n",
            "Epoch 40/100\n",
            "10/10 [==============================] - 0s 5ms/step - loss: 0.7148 - accuracy: 0.5342 - val_loss: 0.8450 - val_accuracy: 0.3636\n",
            "Epoch 41/100\n",
            "10/10 [==============================] - 0s 5ms/step - loss: 0.7012 - accuracy: 0.4984 - val_loss: 0.8431 - val_accuracy: 0.3506\n",
            "Epoch 42/100\n",
            "10/10 [==============================] - 0s 5ms/step - loss: 0.7372 - accuracy: 0.5179 - val_loss: 0.8475 - val_accuracy: 0.3896\n",
            "Epoch 43/100\n",
            "10/10 [==============================] - 0s 6ms/step - loss: 0.7020 - accuracy: 0.5375 - val_loss: 0.8366 - val_accuracy: 0.3247\n",
            "Epoch 44/100\n",
            "10/10 [==============================] - 0s 6ms/step - loss: 0.6860 - accuracy: 0.5244 - val_loss: 0.9003 - val_accuracy: 0.4416\n",
            "Epoch 45/100\n",
            "10/10 [==============================] - 0s 5ms/step - loss: 0.7392 - accuracy: 0.4951 - val_loss: 0.9399 - val_accuracy: 0.4286\n",
            "Epoch 46/100\n",
            "10/10 [==============================] - 0s 7ms/step - loss: 0.7328 - accuracy: 0.5114 - val_loss: 0.9437 - val_accuracy: 0.4675\n",
            "Epoch 47/100\n",
            "10/10 [==============================] - 0s 6ms/step - loss: 0.7454 - accuracy: 0.5440 - val_loss: 0.8638 - val_accuracy: 0.3636\n",
            "Epoch 48/100\n",
            "10/10 [==============================] - 0s 6ms/step - loss: 0.7690 - accuracy: 0.4300 - val_loss: 1.1400 - val_accuracy: 0.5065\n",
            "Epoch 49/100\n",
            "10/10 [==============================] - 0s 5ms/step - loss: 0.8171 - accuracy: 0.5081 - val_loss: 0.8637 - val_accuracy: 0.3636\n",
            "Epoch 50/100\n",
            "10/10 [==============================] - 0s 5ms/step - loss: 0.7543 - accuracy: 0.5147 - val_loss: 1.0194 - val_accuracy: 0.4545\n",
            "Epoch 51/100\n",
            "10/10 [==============================] - 0s 6ms/step - loss: 0.7729 - accuracy: 0.4919 - val_loss: 0.8673 - val_accuracy: 0.2727\n",
            "Epoch 52/100\n",
            "10/10 [==============================] - 0s 6ms/step - loss: 0.6978 - accuracy: 0.5570 - val_loss: 1.0732 - val_accuracy: 0.5065\n",
            "Epoch 53/100\n",
            "10/10 [==============================] - 0s 6ms/step - loss: 0.7957 - accuracy: 0.4691 - val_loss: 1.0080 - val_accuracy: 0.4805\n",
            "Epoch 54/100\n",
            "10/10 [==============================] - 0s 7ms/step - loss: 0.8239 - accuracy: 0.4528 - val_loss: 0.8741 - val_accuracy: 0.2857\n",
            "Epoch 55/100\n",
            "10/10 [==============================] - 0s 6ms/step - loss: 0.6742 - accuracy: 0.5700 - val_loss: 0.9133 - val_accuracy: 0.3766\n",
            "Epoch 56/100\n",
            "10/10 [==============================] - 0s 6ms/step - loss: 0.7378 - accuracy: 0.5114 - val_loss: 0.8773 - val_accuracy: 0.2987\n",
            "Epoch 57/100\n",
            "10/10 [==============================] - 0s 6ms/step - loss: 0.6906 - accuracy: 0.5407 - val_loss: 0.9498 - val_accuracy: 0.4286\n",
            "Epoch 58/100\n",
            "10/10 [==============================] - 0s 6ms/step - loss: 0.7485 - accuracy: 0.4919 - val_loss: 0.9694 - val_accuracy: 0.4545\n",
            "Epoch 59/100\n",
            "10/10 [==============================] - 0s 5ms/step - loss: 0.7875 - accuracy: 0.4886 - val_loss: 0.9382 - val_accuracy: 0.3896\n",
            "Epoch 60/100\n",
            "10/10 [==============================] - 0s 5ms/step - loss: 0.8264 - accuracy: 0.4723 - val_loss: 1.0396 - val_accuracy: 0.4545\n",
            "Epoch 61/100\n",
            "10/10 [==============================] - 0s 6ms/step - loss: 0.8084 - accuracy: 0.5147 - val_loss: 0.9688 - val_accuracy: 0.4416\n",
            "Epoch 62/100\n",
            "10/10 [==============================] - 0s 7ms/step - loss: 0.7523 - accuracy: 0.4658 - val_loss: 0.8955 - val_accuracy: 0.2468\n",
            "Epoch 63/100\n",
            "10/10 [==============================] - 0s 6ms/step - loss: 0.7038 - accuracy: 0.5668 - val_loss: 0.8907 - val_accuracy: 0.2208\n",
            "Epoch 64/100\n",
            "10/10 [==============================] - 0s 6ms/step - loss: 0.7105 - accuracy: 0.5375 - val_loss: 0.9752 - val_accuracy: 0.4286\n",
            "Epoch 65/100\n",
            "10/10 [==============================] - 0s 8ms/step - loss: 0.7709 - accuracy: 0.5342 - val_loss: 0.9038 - val_accuracy: 0.2338\n",
            "Epoch 66/100\n",
            "10/10 [==============================] - 0s 9ms/step - loss: 0.6919 - accuracy: 0.5537 - val_loss: 0.9720 - val_accuracy: 0.4156\n",
            "Epoch 67/100\n",
            "10/10 [==============================] - 0s 9ms/step - loss: 0.7115 - accuracy: 0.5407 - val_loss: 0.9476 - val_accuracy: 0.4156\n",
            "Epoch 68/100\n",
            "10/10 [==============================] - 0s 9ms/step - loss: 0.7161 - accuracy: 0.5114 - val_loss: 0.9120 - val_accuracy: 0.3117\n",
            "Epoch 69/100\n",
            "10/10 [==============================] - 0s 9ms/step - loss: 0.7243 - accuracy: 0.5472 - val_loss: 0.9204 - val_accuracy: 0.3247\n",
            "Epoch 70/100\n",
            "10/10 [==============================] - 0s 10ms/step - loss: 0.6849 - accuracy: 0.5407 - val_loss: 0.9913 - val_accuracy: 0.4545\n",
            "Epoch 71/100\n",
            "10/10 [==============================] - 0s 11ms/step - loss: 0.6944 - accuracy: 0.5700 - val_loss: 0.9087 - val_accuracy: 0.2468\n",
            "Epoch 72/100\n",
            "10/10 [==============================] - 0s 8ms/step - loss: 0.7362 - accuracy: 0.5440 - val_loss: 1.1208 - val_accuracy: 0.4935\n",
            "Epoch 73/100\n",
            "10/10 [==============================] - 0s 11ms/step - loss: 0.7484 - accuracy: 0.5244 - val_loss: 0.9131 - val_accuracy: 0.2338\n",
            "Epoch 74/100\n",
            "10/10 [==============================] - 0s 8ms/step - loss: 0.6847 - accuracy: 0.5342 - val_loss: 0.9783 - val_accuracy: 0.4026\n",
            "Epoch 75/100\n",
            "10/10 [==============================] - 0s 8ms/step - loss: 0.6848 - accuracy: 0.5765 - val_loss: 0.9552 - val_accuracy: 0.3766\n",
            "Epoch 76/100\n",
            "10/10 [==============================] - 0s 15ms/step - loss: 0.7286 - accuracy: 0.5309 - val_loss: 0.9161 - val_accuracy: 0.2338\n",
            "Epoch 77/100\n",
            "10/10 [==============================] - 0s 17ms/step - loss: 0.6812 - accuracy: 0.5765 - val_loss: 1.0216 - val_accuracy: 0.4416\n",
            "Epoch 78/100\n",
            "10/10 [==============================] - 0s 17ms/step - loss: 0.7015 - accuracy: 0.5831 - val_loss: 0.9504 - val_accuracy: 0.2987\n",
            "Epoch 79/100\n",
            "10/10 [==============================] - 0s 16ms/step - loss: 0.6777 - accuracy: 0.5309 - val_loss: 0.9663 - val_accuracy: 0.3506\n",
            "Epoch 80/100\n",
            "10/10 [==============================] - 0s 13ms/step - loss: 0.7224 - accuracy: 0.5472 - val_loss: 0.9468 - val_accuracy: 0.2857\n",
            "Epoch 81/100\n",
            "10/10 [==============================] - 0s 18ms/step - loss: 0.7073 - accuracy: 0.5277 - val_loss: 0.9523 - val_accuracy: 0.3247\n",
            "Epoch 82/100\n",
            "10/10 [==============================] - 0s 20ms/step - loss: 0.7068 - accuracy: 0.5505 - val_loss: 0.9457 - val_accuracy: 0.2727\n",
            "Epoch 83/100\n",
            "10/10 [==============================] - 0s 18ms/step - loss: 0.7287 - accuracy: 0.5505 - val_loss: 1.1700 - val_accuracy: 0.5065\n",
            "Epoch 84/100\n",
            "10/10 [==============================] - 0s 11ms/step - loss: 0.8700 - accuracy: 0.5309 - val_loss: 1.0601 - val_accuracy: 0.4545\n",
            "Epoch 85/100\n",
            "10/10 [==============================] - 0s 21ms/step - loss: 0.7961 - accuracy: 0.4723 - val_loss: 0.9835 - val_accuracy: 0.3896\n",
            "Epoch 86/100\n",
            "10/10 [==============================] - 0s 20ms/step - loss: 0.7382 - accuracy: 0.5212 - val_loss: 1.1648 - val_accuracy: 0.4935\n",
            "Epoch 87/100\n",
            "10/10 [==============================] - 0s 14ms/step - loss: 0.7254 - accuracy: 0.5635 - val_loss: 0.9696 - val_accuracy: 0.2597\n",
            "Epoch 88/100\n",
            "10/10 [==============================] - 0s 21ms/step - loss: 0.7060 - accuracy: 0.5081 - val_loss: 0.9490 - val_accuracy: 0.2078\n",
            "Epoch 89/100\n",
            "10/10 [==============================] - 0s 22ms/step - loss: 0.6856 - accuracy: 0.5505 - val_loss: 0.9762 - val_accuracy: 0.2857\n",
            "Epoch 90/100\n",
            "10/10 [==============================] - 0s 20ms/step - loss: 0.7003 - accuracy: 0.5472 - val_loss: 0.9752 - val_accuracy: 0.3247\n",
            "Epoch 91/100\n",
            "10/10 [==============================] - 0s 14ms/step - loss: 0.7182 - accuracy: 0.5375 - val_loss: 1.0629 - val_accuracy: 0.4545\n",
            "Epoch 92/100\n",
            "10/10 [==============================] - 0s 18ms/step - loss: 0.7462 - accuracy: 0.4853 - val_loss: 0.9664 - val_accuracy: 0.2727\n",
            "Epoch 93/100\n",
            "10/10 [==============================] - 0s 23ms/step - loss: 0.7627 - accuracy: 0.5635 - val_loss: 1.0954 - val_accuracy: 0.4286\n",
            "Epoch 94/100\n",
            "10/10 [==============================] - 0s 22ms/step - loss: 0.7583 - accuracy: 0.5635 - val_loss: 1.0218 - val_accuracy: 0.4156\n",
            "Epoch 95/100\n",
            "10/10 [==============================] - 0s 11ms/step - loss: 0.7201 - accuracy: 0.5440 - val_loss: 1.0111 - val_accuracy: 0.3636\n",
            "Epoch 96/100\n",
            "10/10 [==============================] - 0s 13ms/step - loss: 0.6901 - accuracy: 0.5277 - val_loss: 1.0097 - val_accuracy: 0.3506\n",
            "Epoch 97/100\n",
            "10/10 [==============================] - 0s 12ms/step - loss: 0.6785 - accuracy: 0.5798 - val_loss: 1.1515 - val_accuracy: 0.4805\n",
            "Epoch 98/100\n",
            "10/10 [==============================] - 0s 13ms/step - loss: 0.8008 - accuracy: 0.5147 - val_loss: 0.9568 - val_accuracy: 0.1558\n",
            "Epoch 99/100\n",
            "10/10 [==============================] - 0s 16ms/step - loss: 0.7256 - accuracy: 0.5537 - val_loss: 0.9628 - val_accuracy: 0.1948\n",
            "Epoch 100/100\n",
            "10/10 [==============================] - 0s 11ms/step - loss: 0.6764 - accuracy: 0.5375 - val_loss: 0.9740 - val_accuracy: 0.2338\n"
          ]
        }
      ]
    },
    {
      "cell_type": "code",
      "source": [
        "plt.figure(figsize=(14, 5))\n",
        "loss = history.history['loss']\n",
        "val_loss = history.history['val_loss']\n",
        "plt.plot(loss, label='Training Loss')\n",
        "plt.plot( val_loss, label='Validation Loss')\n",
        "plt.legend(loc='upper light')\n",
        "plt.title('Training and Validation Loss')\n",
        "plt.show()"
      ],
      "metadata": {
        "colab": {
          "base_uri": "https://localhost:8080/",
          "height": 336
        },
        "id": "S9ZZC5civmUN",
        "outputId": "ad813a5c-0a41-47e1-b35b-da69d0fe2e58"
      },
      "execution_count": 18,
      "outputs": [
        {
          "output_type": "display_data",
          "data": {
            "text/plain": [
              "<Figure size 1008x360 with 1 Axes>"
            ],
            "image/png": "[encoded data removed]"
          },
          "metadata": {
            "needs_background": "light"
          }
        }
      ]
    },
    {
      "cell_type": "code",
      "source": [
        "y_train_pred = np.where(model.predict(X_train) > 0.5, 1,0)\n",
        "y_test_pred = np.where(model.predict(X_test) > 0.5, 1,0)\n",
        "print(\"Training accuracy = \",accuracy_score(y_train,y_train_pred))\n",
        "print(\"Validation accuracy = \",accuracy_score(y_test,y_test_pred))"
      ],
      "metadata": {
        "colab": {
          "base_uri": "https://localhost:8080/"
        },
        "id": "LHXIIf80y9CV",
        "outputId": "94fb2873-e819-430a-93e5-9e345e3ea271"
      },
      "execution_count": 19,
      "outputs": [
        {
          "output_type": "stream",
          "name": "stdout",
          "text": [
            "10/10 [==============================] - 0s 3ms/step\n",
            "3/3 [==============================] - 0s 5ms/step\n",
            "Training accuracy =  0.5667752442996743\n",
            "Validation accuracy =  0.23376623376623376\n"
          ]
        }
      ]
    },
    {
      "cell_type": "markdown",
      "source": [
        "# CNN Model - Mel Spectrogram"
      ],
      "metadata": {
        "id": "TSFxsM150jlz"
      }
    },
    {
      "cell_type": "code",
      "source": [
        "X = meldf.iloc[:,0:64]\n",
        "y = meldf[\"Cat\"]\n",
        "X_train, X_test, y_train, y_test = train_test_split(X, y, test_size=0.2,stratify = y)\n",
        "X_train = np.array(X_train).reshape(X_train.shape[0],16,4,1)\n",
        "X_test = np.array(X_test).reshape(X_test.shape[0],16,4,1)"
      ],
      "metadata": {
        "id": "pIjiYscZziV1"
      },
      "execution_count": 22,
      "outputs": []
    },
    {
      "cell_type": "code",
      "source": [
        "model.compile(optimizer=tf.keras.optimizers.Adam(learning_rate=0.001),loss='binary_crossentropy', metrics='accuracy')"
      ],
      "metadata": {
        "id": "fAQitXp80zPs"
      },
      "execution_count": 23,
      "outputs": []
    },
    {
      "cell_type": "code",
      "source": [
        "history_mel = model.fit(X_train, y_train, epochs=100,validation_data=(X_test,y_test))"
      ],
      "metadata": {
        "colab": {
          "base_uri": "https://localhost:8080/"
        },
        "id": "3VDZCsSz02Bc",
        "outputId": "eecd0eef-9393-4fc7-ff60-8bc052657379"
      },
      "execution_count": 24,
      "outputs": [
        {
          "output_type": "stream",
          "name": "stdout",
          "text": [
            "Epoch 1/100\n",
            "10/10 [==============================] - 1s 19ms/step - loss: 0.6644 - accuracy: 0.6873 - val_loss: 0.6435 - val_accuracy: 0.6623\n",
            "Epoch 2/100\n",
            "10/10 [==============================] - 0s 6ms/step - loss: 0.6388 - accuracy: 0.6873 - val_loss: 0.6521 - val_accuracy: 0.6753\n",
            "Epoch 3/100\n",
            "10/10 [==============================] - 0s 6ms/step - loss: 0.6301 - accuracy: 0.7068 - val_loss: 0.6588 - val_accuracy: 0.7532\n",
            "Epoch 4/100\n",
            "10/10 [==============================] - 0s 6ms/step - loss: 0.6233 - accuracy: 0.6938 - val_loss: 0.6547 - val_accuracy: 0.7662\n",
            "Epoch 5/100\n",
            "10/10 [==============================] - 0s 5ms/step - loss: 0.6169 - accuracy: 0.7134 - val_loss: 0.6499 - val_accuracy: 0.7273\n",
            "Epoch 6/100\n",
            "10/10 [==============================] - 0s 5ms/step - loss: 0.6116 - accuracy: 0.7036 - val_loss: 0.6477 - val_accuracy: 0.7013\n",
            "Epoch 7/100\n",
            "10/10 [==============================] - 0s 5ms/step - loss: 0.6041 - accuracy: 0.6971 - val_loss: 0.6484 - val_accuracy: 0.7013\n",
            "Epoch 8/100\n",
            "10/10 [==============================] - 0s 5ms/step - loss: 0.5996 - accuracy: 0.6906 - val_loss: 0.6438 - val_accuracy: 0.6753\n",
            "Epoch 9/100\n",
            "10/10 [==============================] - 0s 5ms/step - loss: 0.5942 - accuracy: 0.6938 - val_loss: 0.6508 - val_accuracy: 0.7013\n",
            "Epoch 10/100\n",
            "10/10 [==============================] - 0s 6ms/step - loss: 0.5872 - accuracy: 0.6840 - val_loss: 0.6411 - val_accuracy: 0.6753\n",
            "Epoch 11/100\n",
            "10/10 [==============================] - 0s 6ms/step - loss: 0.5829 - accuracy: 0.6808 - val_loss: 0.6423 - val_accuracy: 0.6753\n",
            "Epoch 12/100\n",
            "10/10 [==============================] - 0s 6ms/step - loss: 0.5769 - accuracy: 0.6873 - val_loss: 0.6343 - val_accuracy: 0.6753\n",
            "Epoch 13/100\n",
            "10/10 [==============================] - 0s 6ms/step - loss: 0.5754 - accuracy: 0.6840 - val_loss: 0.6410 - val_accuracy: 0.6753\n",
            "Epoch 14/100\n",
            "10/10 [==============================] - 0s 5ms/step - loss: 0.5691 - accuracy: 0.6743 - val_loss: 0.6370 - val_accuracy: 0.6623\n",
            "Epoch 15/100\n",
            "10/10 [==============================] - 0s 5ms/step - loss: 0.5672 - accuracy: 0.6840 - val_loss: 0.6407 - val_accuracy: 0.6883\n",
            "Epoch 16/100\n",
            "10/10 [==============================] - 0s 6ms/step - loss: 0.5610 - accuracy: 0.6840 - val_loss: 0.6244 - val_accuracy: 0.6623\n",
            "Epoch 17/100\n",
            "10/10 [==============================] - 0s 6ms/step - loss: 0.5712 - accuracy: 0.6743 - val_loss: 0.6411 - val_accuracy: 0.7013\n",
            "Epoch 18/100\n",
            "10/10 [==============================] - 0s 5ms/step - loss: 0.5601 - accuracy: 0.6971 - val_loss: 0.6447 - val_accuracy: 0.7013\n",
            "Epoch 19/100\n",
            "10/10 [==============================] - 0s 7ms/step - loss: 0.5574 - accuracy: 0.6873 - val_loss: 0.6229 - val_accuracy: 0.6883\n",
            "Epoch 20/100\n",
            "10/10 [==============================] - 0s 5ms/step - loss: 0.5514 - accuracy: 0.6840 - val_loss: 0.6207 - val_accuracy: 0.6883\n",
            "Epoch 21/100\n",
            "10/10 [==============================] - 0s 6ms/step - loss: 0.5484 - accuracy: 0.6873 - val_loss: 0.6157 - val_accuracy: 0.6883\n",
            "Epoch 22/100\n",
            "10/10 [==============================] - 0s 5ms/step - loss: 0.5564 - accuracy: 0.6938 - val_loss: 0.6466 - val_accuracy: 0.6883\n",
            "Epoch 23/100\n",
            "10/10 [==============================] - 0s 5ms/step - loss: 0.5506 - accuracy: 0.7003 - val_loss: 0.6433 - val_accuracy: 0.6883\n",
            "Epoch 24/100\n",
            "10/10 [==============================] - 0s 5ms/step - loss: 0.5468 - accuracy: 0.6873 - val_loss: 0.6334 - val_accuracy: 0.7013\n",
            "Epoch 25/100\n",
            "10/10 [==============================] - 0s 5ms/step - loss: 0.5433 - accuracy: 0.6971 - val_loss: 0.6286 - val_accuracy: 0.6883\n",
            "Epoch 26/100\n",
            "10/10 [==============================] - 0s 5ms/step - loss: 0.5453 - accuracy: 0.7003 - val_loss: 0.6201 - val_accuracy: 0.7013\n",
            "Epoch 27/100\n",
            "10/10 [==============================] - 0s 5ms/step - loss: 0.5478 - accuracy: 0.6971 - val_loss: 0.6580 - val_accuracy: 0.6883\n",
            "Epoch 28/100\n",
            "10/10 [==============================] - 0s 6ms/step - loss: 0.5469 - accuracy: 0.7036 - val_loss: 0.6360 - val_accuracy: 0.7013\n",
            "Epoch 29/100\n",
            "10/10 [==============================] - 0s 8ms/step - loss: 0.5412 - accuracy: 0.6971 - val_loss: 0.6189 - val_accuracy: 0.6883\n",
            "Epoch 30/100\n",
            "10/10 [==============================] - 0s 6ms/step - loss: 0.5362 - accuracy: 0.6938 - val_loss: 0.6000 - val_accuracy: 0.6883\n",
            "Epoch 31/100\n",
            "10/10 [==============================] - 0s 6ms/step - loss: 0.5322 - accuracy: 0.7199 - val_loss: 0.5999 - val_accuracy: 0.6883\n",
            "Epoch 32/100\n",
            "10/10 [==============================] - 0s 7ms/step - loss: 0.5296 - accuracy: 0.7068 - val_loss: 0.6007 - val_accuracy: 0.6883\n",
            "Epoch 33/100\n",
            "10/10 [==============================] - 0s 6ms/step - loss: 0.5264 - accuracy: 0.7199 - val_loss: 0.5977 - val_accuracy: 0.6753\n",
            "Epoch 34/100\n",
            "10/10 [==============================] - 0s 6ms/step - loss: 0.5270 - accuracy: 0.7199 - val_loss: 0.6059 - val_accuracy: 0.6883\n",
            "Epoch 35/100\n",
            "10/10 [==============================] - 0s 6ms/step - loss: 0.5289 - accuracy: 0.7036 - val_loss: 0.6226 - val_accuracy: 0.7013\n",
            "Epoch 36/100\n",
            "10/10 [==============================] - 0s 7ms/step - loss: 0.5274 - accuracy: 0.7134 - val_loss: 0.6051 - val_accuracy: 0.6883\n",
            "Epoch 37/100\n",
            "10/10 [==============================] - 0s 6ms/step - loss: 0.5232 - accuracy: 0.7101 - val_loss: 0.5940 - val_accuracy: 0.6753\n",
            "Epoch 38/100\n",
            "10/10 [==============================] - 0s 6ms/step - loss: 0.5207 - accuracy: 0.7264 - val_loss: 0.5875 - val_accuracy: 0.6753\n",
            "Epoch 39/100\n",
            "10/10 [==============================] - 0s 6ms/step - loss: 0.5209 - accuracy: 0.7199 - val_loss: 0.5951 - val_accuracy: 0.7013\n",
            "Epoch 40/100\n",
            "10/10 [==============================] - 0s 5ms/step - loss: 0.5168 - accuracy: 0.7166 - val_loss: 0.5889 - val_accuracy: 0.6883\n",
            "Epoch 41/100\n",
            "10/10 [==============================] - 0s 5ms/step - loss: 0.5148 - accuracy: 0.7264 - val_loss: 0.5856 - val_accuracy: 0.6753\n",
            "Epoch 42/100\n",
            "10/10 [==============================] - 0s 5ms/step - loss: 0.5122 - accuracy: 0.7362 - val_loss: 0.5863 - val_accuracy: 0.6753\n",
            "Epoch 43/100\n",
            "10/10 [==============================] - 0s 6ms/step - loss: 0.5120 - accuracy: 0.7199 - val_loss: 0.5908 - val_accuracy: 0.7143\n",
            "Epoch 44/100\n",
            "10/10 [==============================] - 0s 6ms/step - loss: 0.5080 - accuracy: 0.7329 - val_loss: 0.5986 - val_accuracy: 0.6753\n",
            "Epoch 45/100\n",
            "10/10 [==============================] - 0s 6ms/step - loss: 0.5224 - accuracy: 0.7134 - val_loss: 0.6571 - val_accuracy: 0.7273\n",
            "Epoch 46/100\n",
            "10/10 [==============================] - 0s 5ms/step - loss: 0.5292 - accuracy: 0.7068 - val_loss: 0.6567 - val_accuracy: 0.7143\n",
            "Epoch 47/100\n",
            "10/10 [==============================] - 0s 6ms/step - loss: 0.5231 - accuracy: 0.7036 - val_loss: 0.6165 - val_accuracy: 0.6753\n",
            "Epoch 48/100\n",
            "10/10 [==============================] - 0s 5ms/step - loss: 0.5130 - accuracy: 0.7296 - val_loss: 0.5923 - val_accuracy: 0.6753\n",
            "Epoch 49/100\n",
            "10/10 [==============================] - 0s 5ms/step - loss: 0.5073 - accuracy: 0.7394 - val_loss: 0.5828 - val_accuracy: 0.7143\n",
            "Epoch 50/100\n",
            "10/10 [==============================] - 0s 6ms/step - loss: 0.5043 - accuracy: 0.7362 - val_loss: 0.5778 - val_accuracy: 0.7143\n",
            "Epoch 51/100\n",
            "10/10 [==============================] - 0s 6ms/step - loss: 0.5012 - accuracy: 0.7459 - val_loss: 0.5803 - val_accuracy: 0.7143\n",
            "Epoch 52/100\n",
            "10/10 [==============================] - 0s 6ms/step - loss: 0.5017 - accuracy: 0.7492 - val_loss: 0.5759 - val_accuracy: 0.7143\n",
            "Epoch 53/100\n",
            "10/10 [==============================] - 0s 7ms/step - loss: 0.4979 - accuracy: 0.7492 - val_loss: 0.5758 - val_accuracy: 0.7013\n",
            "Epoch 54/100\n",
            "10/10 [==============================] - 0s 7ms/step - loss: 0.4963 - accuracy: 0.7427 - val_loss: 0.5746 - val_accuracy: 0.7143\n",
            "Epoch 55/100\n",
            "10/10 [==============================] - 0s 5ms/step - loss: 0.4969 - accuracy: 0.7524 - val_loss: 0.5770 - val_accuracy: 0.7143\n",
            "Epoch 56/100\n",
            "10/10 [==============================] - 0s 5ms/step - loss: 0.4941 - accuracy: 0.7427 - val_loss: 0.5900 - val_accuracy: 0.7273\n",
            "Epoch 57/100\n",
            "10/10 [==============================] - 0s 5ms/step - loss: 0.4937 - accuracy: 0.7427 - val_loss: 0.5785 - val_accuracy: 0.7013\n",
            "Epoch 58/100\n",
            "10/10 [==============================] - 0s 5ms/step - loss: 0.4970 - accuracy: 0.7394 - val_loss: 0.5688 - val_accuracy: 0.6753\n",
            "Epoch 59/100\n",
            "10/10 [==============================] - 0s 5ms/step - loss: 0.4901 - accuracy: 0.7622 - val_loss: 0.5794 - val_accuracy: 0.7403\n",
            "Epoch 60/100\n",
            "10/10 [==============================] - 0s 7ms/step - loss: 0.4883 - accuracy: 0.7687 - val_loss: 0.5843 - val_accuracy: 0.7013\n",
            "Epoch 61/100\n",
            "10/10 [==============================] - 0s 5ms/step - loss: 0.4889 - accuracy: 0.7622 - val_loss: 0.5757 - val_accuracy: 0.7143\n",
            "Epoch 62/100\n",
            "10/10 [==============================] - 0s 7ms/step - loss: 0.4870 - accuracy: 0.7622 - val_loss: 0.5816 - val_accuracy: 0.7143\n",
            "Epoch 63/100\n",
            "10/10 [==============================] - 0s 7ms/step - loss: 0.4865 - accuracy: 0.7622 - val_loss: 0.5693 - val_accuracy: 0.7143\n",
            "Epoch 64/100\n",
            "10/10 [==============================] - 0s 5ms/step - loss: 0.4873 - accuracy: 0.7557 - val_loss: 0.5670 - val_accuracy: 0.7143\n",
            "Epoch 65/100\n",
            "10/10 [==============================] - 0s 6ms/step - loss: 0.4905 - accuracy: 0.7524 - val_loss: 0.6066 - val_accuracy: 0.7403\n",
            "Epoch 66/100\n",
            "10/10 [==============================] - 0s 6ms/step - loss: 0.4901 - accuracy: 0.7492 - val_loss: 0.5713 - val_accuracy: 0.7143\n",
            "Epoch 67/100\n",
            "10/10 [==============================] - 0s 5ms/step - loss: 0.4836 - accuracy: 0.7622 - val_loss: 0.5571 - val_accuracy: 0.7143\n",
            "Epoch 68/100\n",
            "10/10 [==============================] - 0s 6ms/step - loss: 0.4800 - accuracy: 0.7687 - val_loss: 0.5570 - val_accuracy: 0.7013\n",
            "Epoch 69/100\n",
            "10/10 [==============================] - 0s 5ms/step - loss: 0.4777 - accuracy: 0.7720 - val_loss: 0.5650 - val_accuracy: 0.7273\n",
            "Epoch 70/100\n",
            "10/10 [==============================] - 0s 6ms/step - loss: 0.4769 - accuracy: 0.7752 - val_loss: 0.5707 - val_accuracy: 0.7013\n",
            "Epoch 71/100\n",
            "10/10 [==============================] - 0s 6ms/step - loss: 0.4759 - accuracy: 0.7752 - val_loss: 0.5701 - val_accuracy: 0.7013\n",
            "Epoch 72/100\n",
            "10/10 [==============================] - 0s 5ms/step - loss: 0.4742 - accuracy: 0.7785 - val_loss: 0.5722 - val_accuracy: 0.7013\n",
            "Epoch 73/100\n",
            "10/10 [==============================] - 0s 5ms/step - loss: 0.4736 - accuracy: 0.7720 - val_loss: 0.5736 - val_accuracy: 0.7013\n",
            "Epoch 74/100\n",
            "10/10 [==============================] - 0s 5ms/step - loss: 0.4751 - accuracy: 0.7818 - val_loss: 0.5778 - val_accuracy: 0.7273\n",
            "Epoch 75/100\n",
            "10/10 [==============================] - 0s 11ms/step - loss: 0.4739 - accuracy: 0.7752 - val_loss: 0.5722 - val_accuracy: 0.7013\n",
            "Epoch 76/100\n",
            "10/10 [==============================] - 0s 8ms/step - loss: 0.4726 - accuracy: 0.7752 - val_loss: 0.5739 - val_accuracy: 0.7273\n",
            "Epoch 77/100\n",
            "10/10 [==============================] - 0s 8ms/step - loss: 0.4694 - accuracy: 0.7752 - val_loss: 0.5683 - val_accuracy: 0.7013\n",
            "Epoch 78/100\n",
            "10/10 [==============================] - 0s 9ms/step - loss: 0.4683 - accuracy: 0.7752 - val_loss: 0.5704 - val_accuracy: 0.7013\n",
            "Epoch 79/100\n",
            "10/10 [==============================] - 0s 10ms/step - loss: 0.4668 - accuracy: 0.7785 - val_loss: 0.5714 - val_accuracy: 0.7013\n",
            "Epoch 80/100\n",
            "10/10 [==============================] - 0s 10ms/step - loss: 0.4662 - accuracy: 0.7785 - val_loss: 0.5742 - val_accuracy: 0.7013\n",
            "Epoch 81/100\n",
            "10/10 [==============================] - 0s 11ms/step - loss: 0.4644 - accuracy: 0.7752 - val_loss: 0.5747 - val_accuracy: 0.7013\n",
            "Epoch 82/100\n",
            "10/10 [==============================] - 0s 10ms/step - loss: 0.4658 - accuracy: 0.7752 - val_loss: 0.5723 - val_accuracy: 0.7143\n",
            "Epoch 83/100\n",
            "10/10 [==============================] - 0s 10ms/step - loss: 0.4632 - accuracy: 0.7785 - val_loss: 0.5730 - val_accuracy: 0.7013\n",
            "Epoch 84/100\n",
            "10/10 [==============================] - 0s 12ms/step - loss: 0.4633 - accuracy: 0.7785 - val_loss: 0.5724 - val_accuracy: 0.7143\n",
            "Epoch 85/100\n",
            "10/10 [==============================] - 0s 9ms/step - loss: 0.4617 - accuracy: 0.7818 - val_loss: 0.5762 - val_accuracy: 0.7013\n",
            "Epoch 86/100\n",
            "10/10 [==============================] - 0s 7ms/step - loss: 0.4612 - accuracy: 0.7818 - val_loss: 0.5748 - val_accuracy: 0.7143\n",
            "Epoch 87/100\n",
            "10/10 [==============================] - 0s 8ms/step - loss: 0.4593 - accuracy: 0.7818 - val_loss: 0.5727 - val_accuracy: 0.7013\n",
            "Epoch 88/100\n",
            "10/10 [==============================] - 0s 9ms/step - loss: 0.4590 - accuracy: 0.7818 - val_loss: 0.5689 - val_accuracy: 0.7013\n",
            "Epoch 89/100\n",
            "10/10 [==============================] - 0s 10ms/step - loss: 0.4579 - accuracy: 0.7850 - val_loss: 0.5753 - val_accuracy: 0.7013\n",
            "Epoch 90/100\n",
            "10/10 [==============================] - 0s 15ms/step - loss: 0.4563 - accuracy: 0.7818 - val_loss: 0.5731 - val_accuracy: 0.7013\n",
            "Epoch 91/100\n",
            "10/10 [==============================] - 0s 13ms/step - loss: 0.4570 - accuracy: 0.7785 - val_loss: 0.5749 - val_accuracy: 0.7143\n",
            "Epoch 92/100\n",
            "10/10 [==============================] - 0s 16ms/step - loss: 0.4553 - accuracy: 0.7818 - val_loss: 0.5776 - val_accuracy: 0.7273\n",
            "Epoch 93/100\n",
            "10/10 [==============================] - 0s 14ms/step - loss: 0.4539 - accuracy: 0.7850 - val_loss: 0.5699 - val_accuracy: 0.7013\n",
            "Epoch 94/100\n",
            "10/10 [==============================] - 0s 8ms/step - loss: 0.4542 - accuracy: 0.7785 - val_loss: 0.5780 - val_accuracy: 0.7143\n",
            "Epoch 95/100\n",
            "10/10 [==============================] - 0s 12ms/step - loss: 0.4564 - accuracy: 0.7850 - val_loss: 0.5751 - val_accuracy: 0.7273\n",
            "Epoch 96/100\n",
            "10/10 [==============================] - 0s 10ms/step - loss: 0.4528 - accuracy: 0.7850 - val_loss: 0.5671 - val_accuracy: 0.7143\n",
            "Epoch 97/100\n",
            "10/10 [==============================] - 0s 15ms/step - loss: 0.4503 - accuracy: 0.7883 - val_loss: 0.5651 - val_accuracy: 0.7143\n",
            "Epoch 98/100\n",
            "10/10 [==============================] - 0s 14ms/step - loss: 0.4501 - accuracy: 0.7883 - val_loss: 0.5749 - val_accuracy: 0.7273\n",
            "Epoch 99/100\n",
            "10/10 [==============================] - 0s 5ms/step - loss: 0.4540 - accuracy: 0.7915 - val_loss: 0.5843 - val_accuracy: 0.7143\n",
            "Epoch 100/100\n",
            "10/10 [==============================] - 0s 7ms/step - loss: 0.4630 - accuracy: 0.7850 - val_loss: 0.6334 - val_accuracy: 0.7532\n"
          ]
        }
      ]
    },
    {
      "cell_type": "code",
      "source": [
        "plt.figure(figsize=(14, 5))\n",
        "loss = history_mel.history['loss']\n",
        "val_loss = history_mel.history['val_loss']\n",
        "plt.plot(loss, label='Training Loss')\n",
        "plt.plot( val_loss, label='Validation Loss')\n",
        "plt.legend(loc='upper right')\n",
        "plt.title('Training and Validation Loss')\n",
        "plt.show()"
      ],
      "metadata": {
        "colab": {
          "base_uri": "https://localhost:8080/",
          "height": 336
        },
        "id": "BmYOFkF-05d0",
        "outputId": "aa5b7c08-cd36-404f-91f9-39e42ad56983"
      },
      "execution_count": 26,
      "outputs": [
        {
          "output_type": "display_data",
          "data": {
            "text/plain": [
              "<Figure size 1008x360 with 1 Axes>"
            ],
            "image/png": "[encoded data removed]"
          },
          "metadata": {
            "needs_background": "light"
          }
        }
      ]
    },
    {
      "cell_type": "code",
      "source": [
        "y_train_pred = np.where(model.predict(X_train) > 0.5, 1,0)\n",
        "y_test_pred = np.where(model.predict(X_test) > 0.5, 1,0)"
      ],
      "metadata": {
        "colab": {
          "base_uri": "https://localhost:8080/"
        },
        "id": "l6AoWwMD1ENc",
        "outputId": "ffc2aa61-d183-4025-8f87-5f3e4eaa9e38"
      },
      "execution_count": 27,
      "outputs": [
        {
          "output_type": "stream",
          "name": "stdout",
          "text": [
            "10/10 [==============================] - 0s 3ms/step\n",
            "3/3 [==============================] - 0s 5ms/step\n"
          ]
        }
      ]
    },
    {
      "cell_type": "code",
      "source": [
        "print(\"Training accuracy = \",accuracy_score(y_train,y_train_pred))\n",
        "print(\"Valiation/Test accuracy = \",accuracy_score(y_test,y_test_pred))"
      ],
      "metadata": {
        "colab": {
          "base_uri": "https://localhost:8080/"
        },
        "id": "5XzsgKf61WL0",
        "outputId": "8558f64f-c87d-4577-f691-2863aa025def"
      },
      "execution_count": 28,
      "outputs": [
        {
          "output_type": "stream",
          "name": "stdout",
          "text": [
            "Training accuracy =  0.762214983713355\n",
            "Valiation/Test accuracy =  0.7532467532467533\n"
          ]
        }
      ]
    },
    {
      "cell_type": "markdown",
      "source": [
        "**Conclusion**: Mel Spectrogram outperforms MFCC in CNN Model"
      ],
      "metadata": {
        "id": "qZIGoCLA_Cho"
      }
    },
    {
      "cell_type": "markdown",
      "source": [
        "# Auto Encoders"
      ],
      "metadata": {
        "id": "As-3gZ0C43UN"
      }
    },
    {
      "cell_type": "markdown",
      "source": [
        "## Pre Processing "
      ],
      "metadata": {
        "id": "KnfmqLXH46GU"
      }
    },
    {
      "cell_type": "code",
      "source": [
        "#Extracting the Files\n",
        "happys = []\n",
        "sads = []\n",
        "i = 0\n",
        "l_happy = []\n",
        "for dirname, _, filenames in os.walk('/content/'):\n",
        "    if dirname == \"/content/Happy\":\n",
        "        for filename in filenames:\n",
        "            if filename.endswith(\".wav\"):\n",
        "                happys.append(filename)\n",
        "    if dirname == \"/content/Sad\":\n",
        "        for filename in filenames:\n",
        "            if filename.endswith(\".wav\"):\n",
        "                sads.append(filename)\n",
        "\n",
        "#Naming Conventions for Files\n",
        "happy = []\n",
        "sad = []\n",
        "for i in happys:\n",
        "    for j in sads:\n",
        "        x = i[:-4]\n",
        "        y = j[:-4]\n",
        "        split_x = x.split('-') \n",
        "        split_y = y.split('-')\n",
        "        if ((split_x[-1] == split_y[-1])and (split_x[-4] == split_y[-4]) and (split_x[-2] == split_y[-2])and (split_x[-3] == split_y[-3])):\n",
        "            happy.append(i)\n",
        "            sad.append(j)"
      ],
      "metadata": {
        "id": "xAX89Bg01e_N"
      },
      "execution_count": 32,
      "outputs": []
    },
    {
      "cell_type": "code",
      "source": [
        "maindf = pd.DataFrame()\n",
        "maindf[\"happy\"] = happy\n",
        "maindf[\"sad\"] = sad\n",
        "maindf.tail()"
      ],
      "metadata": {
        "id": "jKWtfxfC5PqO",
        "colab": {
          "base_uri": "https://localhost:8080/",
          "height": 206
        },
        "outputId": "df331a31-f92d-4850-c143-767229c98ce1"
      },
      "execution_count": 33,
      "outputs": [
        {
          "output_type": "execute_result",
          "data": {
            "text/plain": [
              "                        happy                       sad\n",
              "187  03-01-03-02-02-01-12.wav  03-01-04-02-02-01-12.wav\n",
              "188  03-01-03-02-02-02-13.wav  03-01-04-02-02-02-13.wav\n",
              "189  03-01-03-01-01-02-12.wav  03-01-04-01-01-02-12.wav\n",
              "190  03-01-03-01-02-01-21.wav  03-01-04-01-02-01-21.wav\n",
              "191  03-01-03-01-01-02-22.wav  03-01-04-01-01-02-22.wav"
            ],
            "text/html": [
              "\n",
              "  <div id=\"df-0466f743-cfca-4603-a969-74c6efe56f44\">\n",
              "    <div class=\"colab-df-container\">\n",
              "      <div>\n",
              "<style scoped>\n",
              "    .dataframe tbody tr th:only-of-type {\n",
              "        vertical-align: middle;\n",
              "    }\n",
              "\n",
              "    .dataframe tbody tr th {\n",
              "        vertical-align: top;\n",
              "    }\n",
              "\n",
              "    .dataframe thead th {\n",
              "        text-align: right;\n",
              "    }\n",
              "</style>\n",
              "<table border=\"1\" class=\"dataframe\">\n",
              "  <thead>\n",
              "    <tr style=\"text-align: right;\">\n",
              "      <th></th>\n",
              "      <th>happy</th>\n",
              "      <th>sad</th>\n",
              "    </tr>\n",
              "  </thead>\n",
              "  <tbody>\n",
              "    <tr>\n",
              "      <th>187</th>\n",
              "      <td>03-01-03-02-02-01-12.wav</td>\n",
              "      <td>03-01-04-02-02-01-12.wav</td>\n",
              "    </tr>\n",
              "    <tr>\n",
              "      <th>188</th>\n",
              "      <td>03-01-03-02-02-02-13.wav</td>\n",
              "      <td>03-01-04-02-02-02-13.wav</td>\n",
              "    </tr>\n",
              "    <tr>\n",
              "      <th>189</th>\n",
              "      <td>03-01-03-01-01-02-12.wav</td>\n",
              "      <td>03-01-04-01-01-02-12.wav</td>\n",
              "    </tr>\n",
              "    <tr>\n",
              "      <th>190</th>\n",
              "      <td>03-01-03-01-02-01-21.wav</td>\n",
              "      <td>03-01-04-01-02-01-21.wav</td>\n",
              "    </tr>\n",
              "    <tr>\n",
              "      <th>191</th>\n",
              "      <td>03-01-03-01-01-02-22.wav</td>\n",
              "      <td>03-01-04-01-01-02-22.wav</td>\n",
              "    </tr>\n",
              "  </tbody>\n",
              "</table>\n",
              "</div>\n",
              "      <button class=\"colab-df-convert\" onclick=\"convertToInteractive('df-0466f743-cfca-4603-a969-74c6efe56f44')\"\n",
              "              title=\"Convert this dataframe to an interactive table.\"\n",
              "              style=\"display:none;\">\n",
              "        \n",
              "  <svg xmlns=\"http://www.w3.org/2000/svg\" height=\"24px\"viewBox=\"0 0 24 24\"\n",
              "       width=\"24px\">\n",
              "    <path d=\"M0 0h24v24H0V0z\" fill=\"none\"/>\n",
              "    <path d=\"M18.56 5.44l.94 2.06.94-2.06 2.06-.94-2.06-.94-.94-2.06-.94 2.06-2.06.94zm-11 1L8.5 8.5l.94-2.06 2.06-.94-2.06-.94L8.5 2.5l-.94 2.06-2.06.94zm10 10l.94 2.06.94-2.06 2.06-.94-2.06-.94-.94-2.06-.94 2.06-2.06.94z\"/><path d=\"M17.41 7.96l-1.37-1.37c-.4-.4-.92-.59-1.43-.59-.52 0-1.04.2-1.43.59L10.3 9.45l-7.72 7.72c-.78.78-.78 2.05 0 2.83L4 21.41c.39.39.9.59 1.41.59.51 0 1.02-.2 1.41-.59l7.78-7.78 2.81-2.81c.8-.78.8-2.07 0-2.86zM5.41 20L4 18.59l7.72-7.72 1.47 1.35L5.41 20z\"/>\n",
              "  </svg>\n",
              "      </button>\n",
              "      \n",
              "  <style>\n",
              "    .colab-df-container {\n",
              "      display:flex;\n",
              "      flex-wrap:wrap;\n",
              "      gap: 12px;\n",
              "    }\n",
              "\n",
              "    .colab-df-convert {\n",
              "      background-color: #E8F0FE;\n",
              "      border: none;\n",
              "      border-radius: 50%;\n",
              "      cursor: pointer;\n",
              "      display: none;\n",
              "      fill: #1967D2;\n",
              "      height: 32px;\n",
              "      padding: 0 0 0 0;\n",
              "      width: 32px;\n",
              "    }\n",
              "\n",
              "    .colab-df-convert:hover {\n",
              "      background-color: #E2EBFA;\n",
              "      box-shadow: 0px 1px 2px rgba(60, 64, 67, 0.3), 0px 1px 3px 1px rgba(60, 64, 67, 0.15);\n",
              "      fill: #174EA6;\n",
              "    }\n",
              "\n",
              "    [theme=dark] .colab-df-convert {\n",
              "      background-color: #3B4455;\n",
              "      fill: #D2E3FC;\n",
              "    }\n",
              "\n",
              "    [theme=dark] .colab-df-convert:hover {\n",
              "      background-color: #434B5C;\n",
              "      box-shadow: 0px 1px 3px 1px rgba(0, 0, 0, 0.15);\n",
              "      filter: drop-shadow(0px 1px 2px rgba(0, 0, 0, 0.3));\n",
              "      fill: #FFFFFF;\n",
              "    }\n",
              "  </style>\n",
              "\n",
              "      <script>\n",
              "        const buttonEl =\n",
              "          document.querySelector('#df-0466f743-cfca-4603-a969-74c6efe56f44 button.colab-df-convert');\n",
              "        buttonEl.style.display =\n",
              "          google.colab.kernel.accessAllowed ? 'block' : 'none';\n",
              "\n",
              "        async function convertToInteractive(key) {\n",
              "          const element = document.querySelector('#df-0466f743-cfca-4603-a969-74c6efe56f44');\n",
              "          const dataTable =\n",
              "            await google.colab.kernel.invokeFunction('convertToInteractive',\n",
              "                                                     [key], {});\n",
              "          if (!dataTable) return;\n",
              "\n",
              "          const docLinkHtml = 'Like what you see? Visit the ' +\n",
              "            '<a target=\"_blank\" href=https://colab.research.google.com/notebooks/data_table.ipynb>data table notebook</a>'\n",
              "            + ' to learn more about interactive tables.';\n",
              "          element.innerHTML = '';\n",
              "          dataTable['output_type'] = 'display_data';\n",
              "          await google.colab.output.renderOutput(dataTable, element);\n",
              "          const docLink = document.createElement('div');\n",
              "          docLink.innerHTML = docLinkHtml;\n",
              "          element.appendChild(docLink);\n",
              "        }\n",
              "      </script>\n",
              "    </div>\n",
              "  </div>\n",
              "  "
            ]
          },
          "metadata": {},
          "execution_count": 33
        }
      ]
    },
    {
      "cell_type": "code",
      "source": [
        "maindf[\"happy\"] = '/content/Happy/' + maindf[\"happy\"]\n",
        "maindf[\"sad\"] = '/content/Sad/' + maindf[\"sad\"]\n",
        "maindf.tail()"
      ],
      "metadata": {
        "id": "oFlQvQnz5ZBu",
        "colab": {
          "base_uri": "https://localhost:8080/",
          "height": 206
        },
        "outputId": "e0c6a4df-d7ce-4b03-bb56-100e246d15f6"
      },
      "execution_count": 34,
      "outputs": [
        {
          "output_type": "execute_result",
          "data": {
            "text/plain": [
              "                                       happy  \\\n",
              "187  /content/Happy/03-01-03-02-02-01-12.wav   \n",
              "188  /content/Happy/03-01-03-02-02-02-13.wav   \n",
              "189  /content/Happy/03-01-03-01-01-02-12.wav   \n",
              "190  /content/Happy/03-01-03-01-02-01-21.wav   \n",
              "191  /content/Happy/03-01-03-01-01-02-22.wav   \n",
              "\n",
              "                                       sad  \n",
              "187  /content/Sad/03-01-04-02-02-01-12.wav  \n",
              "188  /content/Sad/03-01-04-02-02-02-13.wav  \n",
              "189  /content/Sad/03-01-04-01-01-02-12.wav  \n",
              "190  /content/Sad/03-01-04-01-02-01-21.wav  \n",
              "191  /content/Sad/03-01-04-01-01-02-22.wav  "
            ],
            "text/html": [
              "\n",
              "  <div id=\"df-c2f918b3-22cf-4879-830d-b67bc398af29\">\n",
              "    <div class=\"colab-df-container\">\n",
              "      <div>\n",
              "<style scoped>\n",
              "    .dataframe tbody tr th:only-of-type {\n",
              "        vertical-align: middle;\n",
              "    }\n",
              "\n",
              "    .dataframe tbody tr th {\n",
              "        vertical-align: top;\n",
              "    }\n",
              "\n",
              "    .dataframe thead th {\n",
              "        text-align: right;\n",
              "    }\n",
              "</style>\n",
              "<table border=\"1\" class=\"dataframe\">\n",
              "  <thead>\n",
              "    <tr style=\"text-align: right;\">\n",
              "      <th></th>\n",
              "      <th>happy</th>\n",
              "      <th>sad</th>\n",
              "    </tr>\n",
              "  </thead>\n",
              "  <tbody>\n",
              "    <tr>\n",
              "      <th>187</th>\n",
              "      <td>/content/Happy/03-01-03-02-02-01-12.wav</td>\n",
              "      <td>/content/Sad/03-01-04-02-02-01-12.wav</td>\n",
              "    </tr>\n",
              "    <tr>\n",
              "      <th>188</th>\n",
              "      <td>/content/Happy/03-01-03-02-02-02-13.wav</td>\n",
              "      <td>/content/Sad/03-01-04-02-02-02-13.wav</td>\n",
              "    </tr>\n",
              "    <tr>\n",
              "      <th>189</th>\n",
              "      <td>/content/Happy/03-01-03-01-01-02-12.wav</td>\n",
              "      <td>/content/Sad/03-01-04-01-01-02-12.wav</td>\n",
              "    </tr>\n",
              "    <tr>\n",
              "      <th>190</th>\n",
              "      <td>/content/Happy/03-01-03-01-02-01-21.wav</td>\n",
              "      <td>/content/Sad/03-01-04-01-02-01-21.wav</td>\n",
              "    </tr>\n",
              "    <tr>\n",
              "      <th>191</th>\n",
              "      <td>/content/Happy/03-01-03-01-01-02-22.wav</td>\n",
              "      <td>/content/Sad/03-01-04-01-01-02-22.wav</td>\n",
              "    </tr>\n",
              "  </tbody>\n",
              "</table>\n",
              "</div>\n",
              "      <button class=\"colab-df-convert\" onclick=\"convertToInteractive('df-c2f918b3-22cf-4879-830d-b67bc398af29')\"\n",
              "              title=\"Convert this dataframe to an interactive table.\"\n",
              "              style=\"display:none;\">\n",
              "        \n",
              "  <svg xmlns=\"http://www.w3.org/2000/svg\" height=\"24px\"viewBox=\"0 0 24 24\"\n",
              "       width=\"24px\">\n",
              "    <path d=\"M0 0h24v24H0V0z\" fill=\"none\"/>\n",
              "    <path d=\"M18.56 5.44l.94 2.06.94-2.06 2.06-.94-2.06-.94-.94-2.06-.94 2.06-2.06.94zm-11 1L8.5 8.5l.94-2.06 2.06-.94-2.06-.94L8.5 2.5l-.94 2.06-2.06.94zm10 10l.94 2.06.94-2.06 2.06-.94-2.06-.94-.94-2.06-.94 2.06-2.06.94z\"/><path d=\"M17.41 7.96l-1.37-1.37c-.4-.4-.92-.59-1.43-.59-.52 0-1.04.2-1.43.59L10.3 9.45l-7.72 7.72c-.78.78-.78 2.05 0 2.83L4 21.41c.39.39.9.59 1.41.59.51 0 1.02-.2 1.41-.59l7.78-7.78 2.81-2.81c.8-.78.8-2.07 0-2.86zM5.41 20L4 18.59l7.72-7.72 1.47 1.35L5.41 20z\"/>\n",
              "  </svg>\n",
              "      </button>\n",
              "      \n",
              "  <style>\n",
              "    .colab-df-container {\n",
              "      display:flex;\n",
              "      flex-wrap:wrap;\n",
              "      gap: 12px;\n",
              "    }\n",
              "\n",
              "    .colab-df-convert {\n",
              "      background-color: #E8F0FE;\n",
              "      border: none;\n",
              "      border-radius: 50%;\n",
              "      cursor: pointer;\n",
              "      display: none;\n",
              "      fill: #1967D2;\n",
              "      height: 32px;\n",
              "      padding: 0 0 0 0;\n",
              "      width: 32px;\n",
              "    }\n",
              "\n",
              "    .colab-df-convert:hover {\n",
              "      background-color: #E2EBFA;\n",
              "      box-shadow: 0px 1px 2px rgba(60, 64, 67, 0.3), 0px 1px 3px 1px rgba(60, 64, 67, 0.15);\n",
              "      fill: #174EA6;\n",
              "    }\n",
              "\n",
              "    [theme=dark] .colab-df-convert {\n",
              "      background-color: #3B4455;\n",
              "      fill: #D2E3FC;\n",
              "    }\n",
              "\n",
              "    [theme=dark] .colab-df-convert:hover {\n",
              "      background-color: #434B5C;\n",
              "      box-shadow: 0px 1px 3px 1px rgba(0, 0, 0, 0.15);\n",
              "      filter: drop-shadow(0px 1px 2px rgba(0, 0, 0, 0.3));\n",
              "      fill: #FFFFFF;\n",
              "    }\n",
              "  </style>\n",
              "\n",
              "      <script>\n",
              "        const buttonEl =\n",
              "          document.querySelector('#df-c2f918b3-22cf-4879-830d-b67bc398af29 button.colab-df-convert');\n",
              "        buttonEl.style.display =\n",
              "          google.colab.kernel.accessAllowed ? 'block' : 'none';\n",
              "\n",
              "        async function convertToInteractive(key) {\n",
              "          const element = document.querySelector('#df-c2f918b3-22cf-4879-830d-b67bc398af29');\n",
              "          const dataTable =\n",
              "            await google.colab.kernel.invokeFunction('convertToInteractive',\n",
              "                                                     [key], {});\n",
              "          if (!dataTable) return;\n",
              "\n",
              "          const docLinkHtml = 'Like what you see? Visit the ' +\n",
              "            '<a target=\"_blank\" href=https://colab.research.google.com/notebooks/data_table.ipynb>data table notebook</a>'\n",
              "            + ' to learn more about interactive tables.';\n",
              "          element.innerHTML = '';\n",
              "          dataTable['output_type'] = 'display_data';\n",
              "          await google.colab.output.renderOutput(dataTable, element);\n",
              "          const docLink = document.createElement('div');\n",
              "          docLink.innerHTML = docLinkHtml;\n",
              "          element.appendChild(docLink);\n",
              "        }\n",
              "      </script>\n",
              "    </div>\n",
              "  </div>\n",
              "  "
            ]
          },
          "metadata": {},
          "execution_count": 34
        }
      ]
    },
    {
      "cell_type": "code",
      "source": [
        "train, test = train_test_split(maindf, test_size=0.20)"
      ],
      "metadata": {
        "id": "MTM99sZA5jKP"
      },
      "execution_count": 35,
      "outputs": []
    },
    {
      "cell_type": "code",
      "source": [
        "#Train Happy Set MFCC\n",
        "file_count = 0\n",
        "train_hf = []\n",
        "for count_, path in zip(range(train.shape[0]), train['happy'].values):\n",
        "    x , sr = librosa.load(path)\n",
        "    mfcc = librosa.feature.mfcc(y=x, sr=sr,n_fft = 256, n_mfcc=20)\n",
        "    mfcc_t = mfcc.T\n",
        "    N = mfcc_t.size\n",
        "    if mfcc_t.shape != (256,20):\n",
        "        mfcc_t = np.pad(mfcc_t, ((0,(256-mfcc_t.shape[0])),(0,0)), mode='constant')\n",
        "    train_hf.append(mfcc_t)\n",
        "    count_ += 1\n",
        "\n",
        "#Train Sad Set MFCC\n",
        "train_sf = []\n",
        "for count_, path in zip(range(train.shape[0]), train['sad'].values):\n",
        "    x , sr = librosa.load(path)\n",
        "    mfcc = librosa.feature.mfcc(y=x, sr=sr,n_fft = 256, n_mfcc=20)\n",
        "    mfcc_t = mfcc.T\n",
        "    N = mfcc_t.size\n",
        "    if mfcc_t.shape != (256,20):\n",
        "        mfcc_t = np.pad(mfcc_t, ((0,(256-mfcc_t.shape[0])),(0,0)), mode='constant')\n",
        "    train_sf.append(mfcc_t)\n",
        "    count_ += 1"
      ],
      "metadata": {
        "id": "Rw6HQ3nd5nIf"
      },
      "execution_count": 36,
      "outputs": []
    },
    {
      "cell_type": "code",
      "source": [
        "#Test Happy Set MFCC\n",
        "file_count = 0\n",
        "test_hf = []\n",
        "for count_, path in zip(range(test.shape[0]), test['happy'].values):\n",
        "    x , sr = librosa.load(path)\n",
        "    mfcc = librosa.feature.mfcc(y=x, sr=sr,n_fft = 256, n_mfcc=20)\n",
        "    mfcc_t = mfcc.T\n",
        "    N = mfcc_t.size\n",
        "    if mfcc_t.shape != (256,20):\n",
        "        mfcc_t = np.pad(mfcc_t, ((0,(256-mfcc_t.shape[0])),(0,0)), mode='constant')\n",
        "    test_hf.append(mfcc_t)\n",
        "    count_ += 1\n",
        "\n",
        "#Test Sad Set MFCC\n",
        "file_count = 0\n",
        "test_sf = []\n",
        "for count_, path in zip(range(test.shape[0]), test['sad'].values):\n",
        "    x , sr = librosa.load(path)\n",
        "    mfcc = librosa.feature.mfcc(y=x, sr=sr,n_fft = 256, n_mfcc=20)\n",
        "    mfcc_t = mfcc.T\n",
        "    N = mfcc_t.size\n",
        "    if mfcc_t.shape != (256,20):\n",
        "        mfcc_t = np.pad(mfcc_t, ((0,(256-mfcc_t.shape[0])),(0,0)), mode='constant')\n",
        "    test_sf.append(mfcc_t)\n",
        "    count_ += 1"
      ],
      "metadata": {
        "id": "GYIuNlzr5yAn"
      },
      "execution_count": 37,
      "outputs": []
    },
    {
      "cell_type": "code",
      "source": [
        "print(\"Test Shapes:\",np.array(test_hf).shape,np.array(test_sf).shape)\n",
        "print(\"Train Shapes:\",np.array(train_hf).shape,np.array(train_sf).shape)"
      ],
      "metadata": {
        "colab": {
          "base_uri": "https://localhost:8080/"
        },
        "id": "n9VBs5zt6NQn",
        "outputId": "8185e2ae-e9a9-49f9-9970-f4f849160e49"
      },
      "execution_count": 38,
      "outputs": [
        {
          "output_type": "stream",
          "name": "stdout",
          "text": [
            "Test Shapes: (39, 256, 20) (39, 256, 20)\n",
            "Train Shapes: (153, 256, 20) (153, 256, 20)\n"
          ]
        }
      ]
    },
    {
      "cell_type": "code",
      "source": [
        "train_hf = np.array(train_hf).reshape(153,256,20,1)\n",
        "train_sf = np.array(train_sf).reshape(153,256,20,1)\n",
        "test_hf = np.array(test_hf).reshape(39,256,20,1)\n",
        "test_sf = np.array(test_sf).reshape(39,256,20,1)"
      ],
      "metadata": {
        "id": "GjmQpbpQ6Wov"
      },
      "execution_count": 39,
      "outputs": []
    },
    {
      "cell_type": "markdown",
      "source": [
        "### Autoencoder Model"
      ],
      "metadata": {
        "id": "pZhzDisY7eWz"
      }
    },
    {
      "cell_type": "code",
      "source": [
        "tf.keras.backend.clear_session()\n",
        "class AE(tf.keras.models.Model):\n",
        "    def __init__(self):\n",
        "        super(AE, self).__init__()\n",
        "        self.encoder = tf.keras.Sequential([\n",
        "        tf.keras.layers.InputLayer(input_shape=(256, 20, 1)),\n",
        "        tf.keras.layers.Conv2D(128, (3, 3), activation='relu', padding='same'),\n",
        "        tf.keras.layers.MaxPooling2D(2, 2),\n",
        "        tf.keras.layers.Conv2D(64, (3, 3), activation='relu', padding='same'),\n",
        "        tf.keras.layers.MaxPooling2D(2, 2)])\n",
        "\n",
        "        self.decoder = tf.keras.Sequential([\n",
        "        tf.keras.layers.Conv2D(64, (3, 3), activation='relu', padding='same'),\n",
        "        tf.keras.layers.UpSampling2D((2, 2)),\n",
        "        tf.keras.layers.Conv2D(64, (3, 3), activation='relu', padding='same'),\n",
        "        tf.keras.layers.UpSampling2D((2, 2)),\n",
        "        tf.keras.layers.Conv2D(128, (3, 3), activation='relu', padding='same'),\n",
        "        tf.keras.layers.Conv2D(1, kernel_size=(3, 3), activation='sigmoid', padding='same')])\n",
        "\n",
        "    def call(self, x):\n",
        "        encoded = self.encoder(x)\n",
        "        decoded = self.decoder(encoded)\n",
        "        return decoded\n",
        "\n",
        "autoencoder = AE()"
      ],
      "metadata": {
        "id": "7PrOjzBq6iSP"
      },
      "execution_count": 46,
      "outputs": []
    },
    {
      "cell_type": "code",
      "source": [
        "autoencoder.compile(optimizer='adam', loss='binary_crossentropy')"
      ],
      "metadata": {
        "id": "LtaZqo4D7p9v"
      },
      "execution_count": 47,
      "outputs": []
    },
    {
      "cell_type": "code",
      "source": [
        "history = autoencoder.fit(train_hf, train_sf, epochs=5,validation_data = (test_hf,test_sf))"
      ],
      "metadata": {
        "colab": {
          "base_uri": "https://localhost:8080/"
        },
        "id": "5Bba05cX7rpn",
        "outputId": "6365615a-4772-4dd2-9c9a-30aebabb01df"
      },
      "execution_count": 48,
      "outputs": [
        {
          "output_type": "stream",
          "name": "stdout",
          "text": [
            "Epoch 1/5\n",
            "5/5 [==============================] - 1s 107ms/step - loss: -2118.4983 - val_loss: -13002.1035\n",
            "Epoch 2/5\n",
            "5/5 [==============================] - 0s 49ms/step - loss: -50423.9727 - val_loss: -178956.4219\n",
            "Epoch 3/5\n",
            "5/5 [==============================] - 0s 49ms/step - loss: -483960.9375 - val_loss: -1393814.1250\n",
            "Epoch 4/5\n",
            "5/5 [==============================] - 0s 48ms/step - loss: -3122013.2500 - val_loss: -7829381.0000\n",
            "Epoch 5/5\n",
            "5/5 [==============================] - 0s 48ms/step - loss: -15558937.0000 - val_loss: -34895696.0000\n"
          ]
        }
      ]
    },
    {
      "cell_type": "markdown",
      "source": [
        "**Conclusion**: Simple Autoencoder loss increases which means it does not learn the features properly"
      ],
      "metadata": {
        "id": "9dk4dSWR_Odd"
      }
    },
    {
      "cell_type": "markdown",
      "source": [
        "#Variational Autoencoder"
      ],
      "metadata": {
        "id": "fJ0Di9hv8Zjt"
      }
    },
    {
      "cell_type": "code",
      "source": [
        "class Sampling(layers.Layer):\n",
        "    def call(self, inputs):\n",
        "        z_mean, z_log_var = inputs\n",
        "        batch = tf.shape(z_mean)[0]\n",
        "        dim = tf.shape(z_mean)[1]\n",
        "        epsilon = tf.keras.backend.random_normal(shape=(batch, dim))\n",
        "        return z_mean + tf.exp(0.5 * z_log_var) * epsilon"
      ],
      "metadata": {
        "id": "SqTrMnVY8XSW"
      },
      "execution_count": 66,
      "outputs": []
    },
    {
      "cell_type": "code",
      "source": [
        "latent_dim = 2\n",
        "encoder_inputs = keras.Input(shape=(256, 20, 1))\n",
        "x = layers.Conv2D(32, 3, activation=\"relu\", strides=2, padding=\"same\")(encoder_inputs)\n",
        "x = layers.Conv2D(64, 3, activation=\"relu\", strides=2, padding=\"same\")(x)\n",
        "x = layers.Flatten()(x)\n",
        "x = layers.Dense(16, activation=\"relu\")(x)\n",
        "z_mean = layers.Dense(latent_dim, name=\"z_mean\")(x)\n",
        "z_log_var = layers.Dense(latent_dim, name=\"z_log_var\")(x)\n",
        "z = Sampling()([z_mean, z_log_var])\n",
        "encoder = keras.Model(encoder_inputs, [z_mean, z_log_var, z], name=\"encoder\")\n",
        "encoder.summary()"
      ],
      "metadata": {
        "colab": {
          "base_uri": "https://localhost:8080/"
        },
        "id": "oDkDz06A9XeY",
        "outputId": "ad81d599-0ffd-43d5-98d4-970e5f07032a"
      },
      "execution_count": 67,
      "outputs": [
        {
          "output_type": "stream",
          "name": "stdout",
          "text": [
            "Model: \"encoder\"\n",
            "__________________________________________________________________________________________________\n",
            " Layer (type)                   Output Shape         Param #     Connected to                     \n",
            "==================================================================================================\n",
            " input_4 (InputLayer)           [(None, 256, 20, 1)  0           []                               \n",
            "                                ]                                                                 \n",
            "                                                                                                  \n",
            " conv2d_8 (Conv2D)              (None, 128, 10, 32)  320         ['input_4[0][0]']                \n",
            "                                                                                                  \n",
            " conv2d_9 (Conv2D)              (None, 64, 5, 64)    18496       ['conv2d_8[0][0]']               \n",
            "                                                                                                  \n",
            " flatten_1 (Flatten)            (None, 20480)        0           ['conv2d_9[0][0]']               \n",
            "                                                                                                  \n",
            " dense_2 (Dense)                (None, 16)           327696      ['flatten_1[0][0]']              \n",
            "                                                                                                  \n",
            " z_mean (Dense)                 (None, 2)            34          ['dense_2[0][0]']                \n",
            "                                                                                                  \n",
            " z_log_var (Dense)              (None, 2)            34          ['dense_2[0][0]']                \n",
            "                                                                                                  \n",
            " sampling_1 (Sampling)          (None, 2)            0           ['z_mean[0][0]',                 \n",
            "                                                                  'z_log_var[0][0]']              \n",
            "                                                                                                  \n",
            "==================================================================================================\n",
            "Total params: 346,580\n",
            "Trainable params: 346,580\n",
            "Non-trainable params: 0\n",
            "__________________________________________________________________________________________________\n"
          ]
        }
      ]
    },
    {
      "cell_type": "code",
      "source": [
        "latent_inputs = keras.Input(shape=(latent_dim,))\n",
        "x = layers.Dense(64 * 5 * 64, activation=\"relu\")(latent_inputs)\n",
        "x = layers.Reshape((64, 5, 64))(x)\n",
        "x = layers.Conv2DTranspose(64, 3, activation=\"relu\", strides=2, padding=\"same\")(x)\n",
        "x = layers.Conv2DTranspose(32, 3, activation=\"relu\", strides=2, padding=\"same\")(x)\n",
        "decoder_outputs = layers.Conv2DTranspose(1, 3, activation=\"sigmoid\", padding=\"same\")(x)\n",
        "decoder = keras.Model(latent_inputs, decoder_outputs, name=\"decoder\")\n",
        "decoder.summary()"
      ],
      "metadata": {
        "colab": {
          "base_uri": "https://localhost:8080/"
        },
        "id": "Of_dBQI99a1u",
        "outputId": "256c1748-701c-41cc-ead4-f1e20d50a82a"
      },
      "execution_count": 68,
      "outputs": [
        {
          "output_type": "stream",
          "name": "stdout",
          "text": [
            "Model: \"decoder\"\n",
            "_________________________________________________________________\n",
            " Layer (type)                Output Shape              Param #   \n",
            "=================================================================\n",
            " input_5 (InputLayer)        [(None, 2)]               0         \n",
            "                                                                 \n",
            " dense_3 (Dense)             (None, 20480)             61440     \n",
            "                                                                 \n",
            " reshape_1 (Reshape)         (None, 64, 5, 64)         0         \n",
            "                                                                 \n",
            " conv2d_transpose_3 (Conv2DT  (None, 128, 10, 64)      36928     \n",
            " ranspose)                                                       \n",
            "                                                                 \n",
            " conv2d_transpose_4 (Conv2DT  (None, 256, 20, 32)      18464     \n",
            " ranspose)                                                       \n",
            "                                                                 \n",
            " conv2d_transpose_5 (Conv2DT  (None, 256, 20, 1)       289       \n",
            " ranspose)                                                       \n",
            "                                                                 \n",
            "=================================================================\n",
            "Total params: 117,121\n",
            "Trainable params: 117,121\n",
            "Non-trainable params: 0\n",
            "_________________________________________________________________\n"
          ]
        }
      ]
    },
    {
      "cell_type": "code",
      "source": [
        "class VarAE(keras.Model):\n",
        "    def __init__(self, encoder, decoder, **kwargs):\n",
        "        super(VarAE, self).__init__(**kwargs)\n",
        "        self.encoder = encoder\n",
        "        self.decoder = decoder\n",
        "        self.total_loss_tracker = keras.metrics.Mean(name=\"total_loss\")\n",
        "        self.reconstruction_loss_tracker = keras.metrics.Mean(\n",
        "            name=\"reconstruction_loss\"\n",
        "        )\n",
        "        self.kl_loss_tracker = keras.metrics.Mean(name=\"kl_loss\")\n",
        "\n",
        "    @property\n",
        "    def metrics(self):\n",
        "        return [\n",
        "            self.total_loss_tracker,\n",
        "            self.reconstruction_loss_tracker,\n",
        "            self.kl_loss_tracker,\n",
        "        ]\n",
        "\n",
        "    def train_step(self, data):\n",
        "        \n",
        "        with tf.GradientTape() as tape:\n",
        "            z_mean, z_log_var, z = self.encoder(data)\n",
        "            reconstruction = self.decoder(z)\n",
        "            reconstruction_loss = tf.reduce_mean(\n",
        "                tf.reduce_sum(\n",
        "                    keras.losses.binary_crossentropy(data, reconstruction), axis=(1, 2)\n",
        "                )\n",
        "            )\n",
        "            kl_loss = -0.5 * (1 + z_log_var - tf.square(z_mean) - tf.exp(z_log_var))\n",
        "            kl_loss = tf.reduce_mean(tf.reduce_sum(kl_loss, axis=1))\n",
        "            total_loss = reconstruction_loss + kl_loss\n",
        "        grads = tape.gradient(total_loss, self.trainable_weights)\n",
        "        self.optimizer.apply_gradients(zip(grads, self.trainable_weights))\n",
        "        self.total_loss_tracker.update_state(total_loss)\n",
        "        self.reconstruction_loss_tracker.update_state(reconstruction_loss)\n",
        "        self.kl_loss_tracker.update_state(kl_loss)\n",
        "        return {\n",
        "            \"loss\": self.total_loss_tracker.result(),\n",
        "            \"reconstruction_loss\": self.reconstruction_loss_tracker.result(),\n",
        "            \"kl_loss\": self.kl_loss_tracker.result(),\n",
        "        }\n",
        "    def call(self, x):\n",
        "        encoded = self.encoder(x)\n",
        "        decoded = self.decoder(encoded)\n",
        "        return decoded"
      ],
      "metadata": {
        "id": "AyI-lqiH9d6W"
      },
      "execution_count": 69,
      "outputs": []
    },
    {
      "cell_type": "code",
      "source": [
        "vae = VarAE(encoder, decoder)\n",
        "vae.compile(optimizer=keras.optimizers.Adam())"
      ],
      "metadata": {
        "id": "HUqOuRhr9p6g"
      },
      "execution_count": 70,
      "outputs": []
    },
    {
      "cell_type": "code",
      "source": [
        "history = vae.fit(train_hf,\n",
        "                   epochs=3)"
      ],
      "metadata": {
        "colab": {
          "base_uri": "https://localhost:8080/"
        },
        "id": "eSb0nC0U9ttA",
        "outputId": "3ae232e9-d46b-4799-bfbe-02490cf2c10f"
      },
      "execution_count": 71,
      "outputs": [
        {
          "output_type": "stream",
          "name": "stdout",
          "text": [
            "Epoch 1/3\n",
            "5/5 [==============================] - 1s 19ms/step - loss: -4222.9751 - reconstruction_loss: -62179.6133 - kl_loss: 19266.0918\n",
            "Epoch 2/3\n",
            "5/5 [==============================] - 0s 18ms/step - loss: -522270.1979 - reconstruction_loss: -854678.3125 - kl_loss: 64806.9922\n",
            "Epoch 3/3\n",
            "5/5 [==============================] - 0s 17ms/step - loss: nan - reconstruction_loss: nan - kl_loss: nan\n"
          ]
        }
      ]
    },
    {
      "cell_type": "markdown",
      "source": [
        "**Conclusion**:High loss of Variational Autoencoder is indicative of very poor learning of algorithm"
      ],
      "metadata": {
        "id": "yqGMtq36_Zw3"
      }
    },
    {
      "cell_type": "code",
      "source": [],
      "metadata": {
        "id": "Wjmjw-R1-E03"
      },
      "execution_count": null,
      "outputs": []
    }
  ]
}