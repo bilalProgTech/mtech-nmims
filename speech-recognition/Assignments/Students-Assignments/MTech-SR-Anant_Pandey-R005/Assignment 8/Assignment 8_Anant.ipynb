{
 "cells": [
  {
   "cell_type": "markdown",
   "metadata": {},
   "source": [
    "\n",
    "# Speech Analysis on European Languages and Next Word Prediction\n",
    "\n",
    "**Language chosen - French**\n",
    "\n",
    "**Note - Originally intended to run on Spanish speaker data however due to the presence of currupt audio files, French dataset was chosen instead**"
   ]
  },
  {
   "cell_type": "markdown",
   "metadata": {},
   "source": [
    "**Getting rid of warnings**"
   ]
  },
  {
   "cell_type": "code",
   "execution_count": 1,
   "metadata": {
    "_cell_guid": "b1076dfc-b9ad-4769-8c92-a6c4dae69d19",
    "_uuid": "8f2839f25d086af736a60e9eeb907d3b93b6e0e5",
    "execution": {
     "iopub.execute_input": "2022-10-16T09:52:54.740596Z",
     "iopub.status.busy": "2022-10-16T09:52:54.740250Z",
     "iopub.status.idle": "2022-10-16T09:53:07.867772Z",
     "shell.execute_reply": "2022-10-16T09:53:07.866621Z",
     "shell.execute_reply.started": "2022-10-16T09:52:54.740522Z"
    }
   },
   "outputs": [
    {
     "name": "stdout",
     "output_type": "stream",
     "text": [
      "Collecting shutup\n",
      "  Downloading shutup-0.2.0-py3-none-any.whl (1.5 kB)\n",
      "Installing collected packages: shutup\n",
      "Successfully installed shutup-0.2.0\n",
      "\u001b[33mWARNING: Running pip as the 'root' user can result in broken permissions and conflicting behaviour with the system package manager. It is recommended to use a virtual environment instead: https://pip.pypa.io/warnings/venv\u001b[0m\u001b[33m\n",
      "\u001b[0m"
     ]
    }
   ],
   "source": [
    "!pip install shutup"
   ]
  },
  {
   "cell_type": "code",
   "execution_count": 2,
   "metadata": {
    "execution": {
     "iopub.execute_input": "2022-10-16T09:53:07.871842Z",
     "iopub.status.busy": "2022-10-16T09:53:07.870993Z",
     "iopub.status.idle": "2022-10-16T09:53:07.881756Z",
     "shell.execute_reply": "2022-10-16T09:53:07.880825Z",
     "shell.execute_reply.started": "2022-10-16T09:53:07.871808Z"
    }
   },
   "outputs": [],
   "source": [
    "import shutup; shutup.please()"
   ]
  },
  {
   "cell_type": "markdown",
   "metadata": {},
   "source": [
    "# Environmental Setup"
   ]
  },
  {
   "cell_type": "markdown",
   "metadata": {},
   "source": [
    "Follow the next steps to open the notebook in colab environment\n",
    "\n",
    "**Kaggle API Token for Google Colab**"
   ]
  },
  {
   "cell_type": "code",
   "execution_count": 3,
   "metadata": {
    "execution": {
     "iopub.execute_input": "2022-10-16T09:53:15.054893Z",
     "iopub.status.busy": "2022-10-16T09:53:15.054528Z",
     "iopub.status.idle": "2022-10-16T09:53:15.059313Z",
     "shell.execute_reply": "2022-10-16T09:53:15.058387Z",
     "shell.execute_reply.started": "2022-10-16T09:53:15.054857Z"
    }
   },
   "outputs": [],
   "source": [
    "!pip install kaggle"
   ]
  },
  {
   "cell_type": "code",
   "execution_count": 4,
   "metadata": {
    "execution": {
     "iopub.execute_input": "2022-10-16T09:53:17.879260Z",
     "iopub.status.busy": "2022-10-16T09:53:17.878883Z",
     "iopub.status.idle": "2022-10-16T09:53:17.883647Z",
     "shell.execute_reply": "2022-10-16T09:53:17.882462Z",
     "shell.execute_reply.started": "2022-10-16T09:53:17.879228Z"
    }
   },
   "outputs": [],
   "source": [
    "!mkdir ~/.kaggle\n",
    "!cp /content/kaggle.json ~/.kaggle/kaggle.json\n",
    "!chmod 600 /root/.kaggle/kaggle.json"
   ]
  },
  {
   "cell_type": "code",
   "execution_count": 5,
   "metadata": {
    "execution": {
     "iopub.execute_input": "2022-10-16T09:53:19.591344Z",
     "iopub.status.busy": "2022-10-16T09:53:19.590434Z",
     "iopub.status.idle": "2022-10-16T09:53:19.595161Z",
     "shell.execute_reply": "2022-10-16T09:53:19.593913Z",
     "shell.execute_reply.started": "2022-10-16T09:53:19.591307Z"
    }
   },
   "outputs": [],
   "source": [
    "!kaggle datasets download bryanpark/french-single-speaker-speech-dataset"
   ]
  },
  {
   "cell_type": "code",
   "execution_count": 6,
   "metadata": {
    "execution": {
     "iopub.execute_input": "2022-10-16T09:53:21.004884Z",
     "iopub.status.busy": "2022-10-16T09:53:21.004284Z",
     "iopub.status.idle": "2022-10-16T09:53:21.009609Z",
     "shell.execute_reply": "2022-10-16T09:53:21.008419Z",
     "shell.execute_reply.started": "2022-10-16T09:53:21.004847Z"
    }
   },
   "outputs": [],
   "source": [
    "!unzip *.zip"
   ]
  },
  {
   "cell_type": "markdown",
   "metadata": {},
   "source": [
    "# Importing Required Libraries"
   ]
  },
  {
   "cell_type": "code",
   "execution_count": 7,
   "metadata": {
    "execution": {
     "iopub.execute_input": "2022-10-16T09:53:33.374290Z",
     "iopub.status.busy": "2022-10-16T09:53:33.373877Z",
     "iopub.status.idle": "2022-10-16T09:53:41.011573Z",
     "shell.execute_reply": "2022-10-16T09:53:41.010475Z",
     "shell.execute_reply.started": "2022-10-16T09:53:33.374257Z"
    }
   },
   "outputs": [],
   "source": [
    "import pandas as pd\n",
    "import numpy as np\n",
    "import matplotlib.pyplot as plt\n",
    "import seaborn as sns\n",
    "sns.set_style(\"darkgrid\")\n",
    "import nltk\n",
    "import librosa\n",
    "import librosa.display\n",
    "import tensorflow as tf\n",
    "import re\n",
    "import os\n",
    "import string\n",
    "from nltk.corpus import stopwords\n",
    "from tensorflow.keras.utils import plot_model\n",
    "from sklearn.model_selection import train_test_split\n",
    "from tensorflow.keras.preprocessing.text import Tokenizer\n",
    "from tensorflow.keras.preprocessing.sequence import pad_sequences\n",
    "from tensorflow.keras.utils import Sequence\n",
    "from tensorflow.keras.utils import to_categorical\n",
    "from tensorflow.keras.models import Sequential, Model\n",
    "from tensorflow.keras.layers import Conv2D, MaxPooling2D, GlobalAveragePooling2D, Activation, Dropout, Flatten, Dense, Input, Layer\n",
    "from tensorflow.keras.layers import Embedding, LSTM, add, Concatenate, Reshape, concatenate, Bidirectional\n",
    "from tensorflow.keras.optimizers import Nadam\n",
    "from tensorflow.keras.callbacks import ModelCheckpoint, EarlyStopping, ReduceLROnPlateau"
   ]
  },
  {
   "cell_type": "code",
   "execution_count": 8,
   "metadata": {
    "execution": {
     "iopub.execute_input": "2022-10-16T09:53:44.715516Z",
     "iopub.status.busy": "2022-10-16T09:53:44.714878Z",
     "iopub.status.idle": "2022-10-16T09:54:19.041336Z",
     "shell.execute_reply": "2022-10-16T09:54:19.040441Z",
     "shell.execute_reply.started": "2022-10-16T09:53:44.715481Z"
    }
   },
   "outputs": [
    {
     "name": "stdout",
     "output_type": "stream",
     "text": [
      "NLTK Downloader\n",
      "---------------------------------------------------------------------------\n",
      "    d) Download   l) List    u) Update   c) Config   h) Help   q) Quit\n",
      "---------------------------------------------------------------------------\n"
     ]
    },
    {
     "name": "stdin",
     "output_type": "stream",
     "text": [
      "Downloader>  d\n"
     ]
    },
    {
     "name": "stdout",
     "output_type": "stream",
     "text": [
      "\n",
      "Download which package (l=list; x=cancel)?\n"
     ]
    },
    {
     "name": "stdin",
     "output_type": "stream",
     "text": [
      "  Identifier>  all\n"
     ]
    },
    {
     "name": "stderr",
     "output_type": "stream",
     "text": [
      "    Downloading collection 'all'\n",
      "       | \n",
      "       | Downloading package abc to /usr/share/nltk_data...\n",
      "       |   Package abc is already up-to-date!\n",
      "       | Downloading package alpino to /usr/share/nltk_data...\n",
      "       |   Package alpino is already up-to-date!\n",
      "       | Downloading package averaged_perceptron_tagger to\n",
      "       |     /usr/share/nltk_data...\n",
      "       |   Package averaged_perceptron_tagger is already up-to-date!\n",
      "       | Downloading package averaged_perceptron_tagger_ru to\n",
      "       |     /usr/share/nltk_data...\n",
      "       |   Unzipping taggers/averaged_perceptron_tagger_ru.zip.\n",
      "       | Downloading package basque_grammars to\n",
      "       |     /usr/share/nltk_data...\n",
      "       |   Package basque_grammars is already up-to-date!\n",
      "       | Downloading package biocreative_ppi to\n",
      "       |     /usr/share/nltk_data...\n",
      "       |   Package biocreative_ppi is already up-to-date!\n",
      "       | Downloading package bllip_wsj_no_aux to\n",
      "       |     /usr/share/nltk_data...\n",
      "       |   Package bllip_wsj_no_aux is already up-to-date!\n",
      "       | Downloading package book_grammars to /usr/share/nltk_data...\n",
      "       |   Package book_grammars is already up-to-date!\n",
      "       | Downloading package brown to /usr/share/nltk_data...\n",
      "       |   Package brown is already up-to-date!\n",
      "       | Downloading package brown_tei to /usr/share/nltk_data...\n",
      "       |   Package brown_tei is already up-to-date!\n",
      "       | Downloading package cess_cat to /usr/share/nltk_data...\n",
      "       |   Package cess_cat is already up-to-date!\n",
      "       | Downloading package cess_esp to /usr/share/nltk_data...\n",
      "       |   Package cess_esp is already up-to-date!\n",
      "       | Downloading package chat80 to /usr/share/nltk_data...\n",
      "       |   Package chat80 is already up-to-date!\n",
      "       | Downloading package city_database to /usr/share/nltk_data...\n",
      "       |   Package city_database is already up-to-date!\n",
      "       | Downloading package cmudict to /usr/share/nltk_data...\n",
      "       |   Package cmudict is already up-to-date!\n",
      "       | Downloading package comparative_sentences to\n",
      "       |     /usr/share/nltk_data...\n",
      "       |   Unzipping corpora/comparative_sentences.zip.\n",
      "       | Downloading package comtrans to /usr/share/nltk_data...\n",
      "       |   Package comtrans is already up-to-date!\n",
      "       | Downloading package conll2000 to /usr/share/nltk_data...\n",
      "       |   Package conll2000 is already up-to-date!\n",
      "       | Downloading package conll2002 to /usr/share/nltk_data...\n",
      "       |   Package conll2002 is already up-to-date!\n",
      "       | Downloading package conll2007 to /usr/share/nltk_data...\n",
      "       |   Package conll2007 is already up-to-date!\n",
      "       | Downloading package crubadan to /usr/share/nltk_data...\n",
      "       |   Package crubadan is already up-to-date!\n",
      "       | Downloading package dependency_treebank to\n",
      "       |     /usr/share/nltk_data...\n",
      "       |   Package dependency_treebank is already up-to-date!\n",
      "       | Downloading package dolch to /usr/share/nltk_data...\n",
      "       |   Unzipping corpora/dolch.zip.\n",
      "       | Downloading package europarl_raw to /usr/share/nltk_data...\n",
      "       |   Package europarl_raw is already up-to-date!\n",
      "       | Downloading package extended_omw to /usr/share/nltk_data...\n",
      "       | Downloading package floresta to /usr/share/nltk_data...\n",
      "       |   Package floresta is already up-to-date!\n",
      "       | Downloading package framenet_v15 to /usr/share/nltk_data...\n",
      "       |   Unzipping corpora/framenet_v15.zip.\n",
      "       | Downloading package framenet_v17 to /usr/share/nltk_data...\n",
      "       |   Unzipping corpora/framenet_v17.zip.\n",
      "       | Downloading package gazetteers to /usr/share/nltk_data...\n",
      "       |   Package gazetteers is already up-to-date!\n",
      "       | Downloading package genesis to /usr/share/nltk_data...\n",
      "       |   Package genesis is already up-to-date!\n",
      "       | Downloading package gutenberg to /usr/share/nltk_data...\n",
      "       |   Package gutenberg is already up-to-date!\n",
      "       | Downloading package ieer to /usr/share/nltk_data...\n",
      "       |   Package ieer is already up-to-date!\n",
      "       | Downloading package inaugural to /usr/share/nltk_data...\n",
      "       |   Package inaugural is already up-to-date!\n",
      "       | Downloading package indian to /usr/share/nltk_data...\n",
      "       |   Package indian is already up-to-date!\n",
      "       | Downloading package jeita to /usr/share/nltk_data...\n",
      "       |   Package jeita is already up-to-date!\n",
      "       | Downloading package kimmo to /usr/share/nltk_data...\n",
      "       |   Package kimmo is already up-to-date!\n",
      "       | Downloading package knbc to /usr/share/nltk_data...\n",
      "       |   Package knbc is already up-to-date!\n",
      "       | Downloading package large_grammars to /usr/share/nltk_data...\n",
      "       |   Package large_grammars is already up-to-date!\n",
      "       | Downloading package lin_thesaurus to /usr/share/nltk_data...\n",
      "       |   Package lin_thesaurus is already up-to-date!\n",
      "       | Downloading package mac_morpho to /usr/share/nltk_data...\n",
      "       |   Package mac_morpho is already up-to-date!\n",
      "       | Downloading package machado to /usr/share/nltk_data...\n",
      "       |   Package machado is already up-to-date!\n",
      "       | Downloading package masc_tagged to /usr/share/nltk_data...\n",
      "       |   Package masc_tagged is already up-to-date!\n",
      "       | Downloading package maxent_ne_chunker to\n",
      "       |     /usr/share/nltk_data...\n",
      "       |   Package maxent_ne_chunker is already up-to-date!\n",
      "       | Downloading package maxent_treebank_pos_tagger to\n",
      "       |     /usr/share/nltk_data...\n",
      "       |   Package maxent_treebank_pos_tagger is already up-to-date!\n",
      "       | Downloading package moses_sample to /usr/share/nltk_data...\n",
      "       |   Package moses_sample is already up-to-date!\n",
      "       | Downloading package movie_reviews to /usr/share/nltk_data...\n",
      "       |   Package movie_reviews is already up-to-date!\n",
      "       | Downloading package mte_teip5 to /usr/share/nltk_data...\n",
      "       |   Package mte_teip5 is already up-to-date!\n",
      "       | Downloading package mwa_ppdb to /usr/share/nltk_data...\n",
      "       |   Unzipping misc/mwa_ppdb.zip.\n",
      "       | Downloading package names to /usr/share/nltk_data...\n",
      "       |   Package names is already up-to-date!\n",
      "       | Downloading package nombank.1.0 to /usr/share/nltk_data...\n",
      "       | Downloading package nonbreaking_prefixes to\n",
      "       |     /usr/share/nltk_data...\n",
      "       |   Unzipping corpora/nonbreaking_prefixes.zip.\n",
      "       | Downloading package nps_chat to /usr/share/nltk_data...\n",
      "       |   Package nps_chat is already up-to-date!\n",
      "       | Downloading package omw to /usr/share/nltk_data...\n",
      "       |   Package omw is already up-to-date!\n",
      "       | Downloading package omw-1.4 to /usr/share/nltk_data...\n",
      "       | Downloading package opinion_lexicon to\n",
      "       |     /usr/share/nltk_data...\n",
      "       |   Package opinion_lexicon is already up-to-date!\n",
      "       | Downloading package panlex_swadesh to /usr/share/nltk_data...\n",
      "       | Downloading package paradigms to /usr/share/nltk_data...\n",
      "       |   Package paradigms is already up-to-date!\n",
      "       | Downloading package pe08 to /usr/share/nltk_data...\n",
      "       |   Unzipping corpora/pe08.zip.\n",
      "       | Downloading package perluniprops to /usr/share/nltk_data...\n",
      "       |   Unzipping misc/perluniprops.zip.\n",
      "       | Downloading package pil to /usr/share/nltk_data...\n",
      "       |   Package pil is already up-to-date!\n",
      "       | Downloading package pl196x to /usr/share/nltk_data...\n",
      "       |   Package pl196x is already up-to-date!\n",
      "       | Downloading package porter_test to /usr/share/nltk_data...\n",
      "       |   Package porter_test is already up-to-date!\n",
      "       | Downloading package ppattach to /usr/share/nltk_data...\n",
      "       |   Package ppattach is already up-to-date!\n",
      "       | Downloading package problem_reports to\n",
      "       |     /usr/share/nltk_data...\n",
      "       |   Package problem_reports is already up-to-date!\n",
      "       | Downloading package product_reviews_1 to\n",
      "       |     /usr/share/nltk_data...\n",
      "       |   Package product_reviews_1 is already up-to-date!\n",
      "       | Downloading package product_reviews_2 to\n",
      "       |     /usr/share/nltk_data...\n",
      "       |   Package product_reviews_2 is already up-to-date!\n",
      "       | Downloading package propbank to /usr/share/nltk_data...\n",
      "       |   Package propbank is already up-to-date!\n",
      "       | Downloading package pros_cons to /usr/share/nltk_data...\n",
      "       |   Package pros_cons is already up-to-date!\n",
      "       | Downloading package ptb to /usr/share/nltk_data...\n",
      "       |   Package ptb is already up-to-date!\n",
      "       | Downloading package punkt to /usr/share/nltk_data...\n",
      "       |   Package punkt is already up-to-date!\n",
      "       | Downloading package qc to /usr/share/nltk_data...\n",
      "       |   Package qc is already up-to-date!\n",
      "       | Downloading package reuters to /usr/share/nltk_data...\n",
      "       |   Package reuters is already up-to-date!\n",
      "       | Downloading package rslp to /usr/share/nltk_data...\n",
      "       |   Package rslp is already up-to-date!\n",
      "       | Downloading package rte to /usr/share/nltk_data...\n",
      "       |   Package rte is already up-to-date!\n",
      "       | Downloading package sample_grammars to\n",
      "       |     /usr/share/nltk_data...\n",
      "       |   Package sample_grammars is already up-to-date!\n",
      "       | Downloading package semcor to /usr/share/nltk_data...\n",
      "       |   Package semcor is already up-to-date!\n",
      "       | Downloading package senseval to /usr/share/nltk_data...\n",
      "       |   Package senseval is already up-to-date!\n",
      "       | Downloading package sentence_polarity to\n",
      "       |     /usr/share/nltk_data...\n",
      "       |   Package sentence_polarity is already up-to-date!\n",
      "       | Downloading package sentiwordnet to /usr/share/nltk_data...\n",
      "       |   Package sentiwordnet is already up-to-date!\n",
      "       | Downloading package shakespeare to /usr/share/nltk_data...\n",
      "       |   Package shakespeare is already up-to-date!\n",
      "       | Downloading package sinica_treebank to\n",
      "       |     /usr/share/nltk_data...\n",
      "       |   Package sinica_treebank is already up-to-date!\n",
      "       | Downloading package smultron to /usr/share/nltk_data...\n",
      "       |   Package smultron is already up-to-date!\n",
      "       | Downloading package snowball_data to /usr/share/nltk_data...\n",
      "       |   Package snowball_data is already up-to-date!\n",
      "       | Downloading package spanish_grammars to\n",
      "       |     /usr/share/nltk_data...\n",
      "       |   Package spanish_grammars is already up-to-date!\n",
      "       | Downloading package state_union to /usr/share/nltk_data...\n",
      "       |   Package state_union is already up-to-date!\n",
      "       | Downloading package stopwords to /usr/share/nltk_data...\n",
      "       |   Package stopwords is already up-to-date!\n",
      "       | Downloading package subjectivity to /usr/share/nltk_data...\n",
      "       |   Package subjectivity is already up-to-date!\n",
      "       | Downloading package swadesh to /usr/share/nltk_data...\n",
      "       |   Package swadesh is already up-to-date!\n",
      "       | Downloading package switchboard to /usr/share/nltk_data...\n",
      "       |   Package switchboard is already up-to-date!\n",
      "       | Downloading package tagsets to /usr/share/nltk_data...\n",
      "       |   Package tagsets is already up-to-date!\n",
      "       | Downloading package timit to /usr/share/nltk_data...\n",
      "       |   Package timit is already up-to-date!\n",
      "       | Downloading package toolbox to /usr/share/nltk_data...\n",
      "       |   Package toolbox is already up-to-date!\n",
      "       | Downloading package treebank to /usr/share/nltk_data...\n",
      "       |   Package treebank is already up-to-date!\n",
      "       | Downloading package twitter_samples to\n",
      "       |     /usr/share/nltk_data...\n",
      "       |   Package twitter_samples is already up-to-date!\n",
      "       | Downloading package udhr to /usr/share/nltk_data...\n",
      "       |   Package udhr is already up-to-date!\n",
      "       | Downloading package udhr2 to /usr/share/nltk_data...\n",
      "       |   Package udhr2 is already up-to-date!\n",
      "       | Downloading package unicode_samples to\n",
      "       |     /usr/share/nltk_data...\n",
      "       |   Package unicode_samples is already up-to-date!\n",
      "       | Downloading package universal_tagset to\n",
      "       |     /usr/share/nltk_data...\n",
      "       |   Package universal_tagset is already up-to-date!\n",
      "       | Downloading package universal_treebanks_v20 to\n",
      "       |     /usr/share/nltk_data...\n",
      "       |   Package universal_treebanks_v20 is already up-to-date!\n",
      "       | Downloading package vader_lexicon to /usr/share/nltk_data...\n",
      "       |   Package vader_lexicon is already up-to-date!\n",
      "       | Downloading package verbnet to /usr/share/nltk_data...\n",
      "       |   Package verbnet is already up-to-date!\n",
      "       | Downloading package verbnet3 to /usr/share/nltk_data...\n",
      "       |   Unzipping corpora/verbnet3.zip.\n",
      "       | Downloading package webtext to /usr/share/nltk_data...\n",
      "       |   Package webtext is already up-to-date!\n",
      "       | Downloading package wmt15_eval to /usr/share/nltk_data...\n",
      "       |   Unzipping models/wmt15_eval.zip.\n",
      "       | Downloading package word2vec_sample to\n",
      "       |     /usr/share/nltk_data...\n",
      "       |   Package word2vec_sample is already up-to-date!\n",
      "       | Downloading package wordnet to /usr/share/nltk_data...\n",
      "       |   Package wordnet is already up-to-date!\n",
      "       | Downloading package wordnet2021 to /usr/share/nltk_data...\n",
      "       | Downloading package wordnet31 to /usr/share/nltk_data...\n",
      "       | Downloading package wordnet_ic to /usr/share/nltk_data...\n",
      "       |   Package wordnet_ic is already up-to-date!\n",
      "       | Downloading package words to /usr/share/nltk_data...\n",
      "       |   Package words is already up-to-date!\n",
      "       | Downloading package ycoe to /usr/share/nltk_data...\n",
      "       |   Package ycoe is already up-to-date!\n",
      "       | \n",
      "     Done downloading collection all\n"
     ]
    },
    {
     "name": "stdout",
     "output_type": "stream",
     "text": [
      "\n",
      "---------------------------------------------------------------------------\n",
      "    d) Download   l) List    u) Update   c) Config   h) Help   q) Quit\n",
      "---------------------------------------------------------------------------\n"
     ]
    },
    {
     "name": "stdin",
     "output_type": "stream",
     "text": [
      "Downloader>  q\n"
     ]
    },
    {
     "data": {
      "text/plain": [
       "True"
      ]
     },
     "execution_count": 8,
     "metadata": {},
     "output_type": "execute_result"
    }
   ],
   "source": [
    "nltk.download()"
   ]
  },
  {
   "cell_type": "markdown",
   "metadata": {},
   "source": [
    "**Loading the data**"
   ]
  },
  {
   "cell_type": "code",
   "execution_count": 9,
   "metadata": {
    "execution": {
     "iopub.execute_input": "2022-10-16T09:54:19.044654Z",
     "iopub.status.busy": "2022-10-16T09:54:19.043128Z",
     "iopub.status.idle": "2022-10-16T09:54:19.123369Z",
     "shell.execute_reply": "2022-10-16T09:54:19.122465Z",
     "shell.execute_reply.started": "2022-10-16T09:54:19.044613Z"
    }
   },
   "outputs": [],
   "source": [
    "dataframe = pd.read_csv('../input/french-single-speaker-speech-dataset/transcript.txt', sep='|', header=None)"
   ]
  },
  {
   "cell_type": "code",
   "execution_count": 10,
   "metadata": {
    "execution": {
     "iopub.execute_input": "2022-10-16T09:54:19.125228Z",
     "iopub.status.busy": "2022-10-16T09:54:19.124873Z",
     "iopub.status.idle": "2022-10-16T09:54:19.663867Z",
     "shell.execute_reply": "2022-10-16T09:54:19.662776Z",
     "shell.execute_reply.started": "2022-10-16T09:54:19.125194Z"
    }
   },
   "outputs": [],
   "source": [
    "dataframe.columns = [\"Wave_file\",\"Messages\",\"Transcript\",\"Audio Length\"]"
   ]
  },
  {
   "cell_type": "code",
   "execution_count": 11,
   "metadata": {
    "execution": {
     "iopub.execute_input": "2022-10-16T09:54:19.667029Z",
     "iopub.status.busy": "2022-10-16T09:54:19.666469Z",
     "iopub.status.idle": "2022-10-16T09:54:19.680669Z",
     "shell.execute_reply": "2022-10-16T09:54:19.679671Z",
     "shell.execute_reply.started": "2022-10-16T09:54:19.666949Z"
    }
   },
   "outputs": [],
   "source": [
    "dataframe[\"Wave_file\"] = \"../input/french-single-speaker-speech-dataset/\" + dataframe[\"Wave_file\"]"
   ]
  },
  {
   "cell_type": "code",
   "execution_count": 12,
   "metadata": {
    "execution": {
     "iopub.execute_input": "2022-10-16T09:54:19.683265Z",
     "iopub.status.busy": "2022-10-16T09:54:19.682574Z",
     "iopub.status.idle": "2022-10-16T09:54:19.702075Z",
     "shell.execute_reply": "2022-10-16T09:54:19.701113Z",
     "shell.execute_reply.started": "2022-10-16T09:54:19.683230Z"
    }
   },
   "outputs": [
    {
     "data": {
      "text/html": [
       "<div>\n",
       "<style scoped>\n",
       "    .dataframe tbody tr th:only-of-type {\n",
       "        vertical-align: middle;\n",
       "    }\n",
       "\n",
       "    .dataframe tbody tr th {\n",
       "        vertical-align: top;\n",
       "    }\n",
       "\n",
       "    .dataframe thead th {\n",
       "        text-align: right;\n",
       "    }\n",
       "</style>\n",
       "<table border=\"1\" class=\"dataframe\">\n",
       "  <thead>\n",
       "    <tr style=\"text-align: right;\">\n",
       "      <th></th>\n",
       "      <th>Wave_file</th>\n",
       "      <th>Messages</th>\n",
       "      <th>Transcript</th>\n",
       "      <th>Audio Length</th>\n",
       "    </tr>\n",
       "  </thead>\n",
       "  <tbody>\n",
       "    <tr>\n",
       "      <th>0</th>\n",
       "      <td>../input/french-single-speaker-speech-dataset/...</td>\n",
       "      <td>Chapitre I La Charybde du faubourg Saint-Antoi...</td>\n",
       "      <td>Chapitre I La Charybde du faubourg Saint-Antoi...</td>\n",
       "      <td>7.63</td>\n",
       "    </tr>\n",
       "    <tr>\n",
       "      <th>1</th>\n",
       "      <td>../input/french-single-speaker-speech-dataset/...</td>\n",
       "      <td>Les deux plus mémorables barricades que l'obse...</td>\n",
       "      <td>Les deux plus mémorables barricades que l'obse...</td>\n",
       "      <td>9.41</td>\n",
       "    </tr>\n",
       "    <tr>\n",
       "      <th>2</th>\n",
       "      <td>../input/french-single-speaker-speech-dataset/...</td>\n",
       "      <td>Ces deux barricades, symboles toutes les deux,...</td>\n",
       "      <td>Ces deux barricades, symboles toutes les deux,...</td>\n",
       "      <td>6.27</td>\n",
       "    </tr>\n",
       "    <tr>\n",
       "      <th>3</th>\n",
       "      <td>../input/french-single-speaker-speech-dataset/...</td>\n",
       "      <td>sortirent de terre lors de la fatale insurrect...</td>\n",
       "      <td>sortirent de terre lors de la fatale insurrect...</td>\n",
       "      <td>9.24</td>\n",
       "    </tr>\n",
       "    <tr>\n",
       "      <th>4</th>\n",
       "      <td>../input/french-single-speaker-speech-dataset/...</td>\n",
       "      <td>Il arrive quelquefois que, même contre les pri...</td>\n",
       "      <td>Il arrive quelquefois que, même contre les pri...</td>\n",
       "      <td>6.54</td>\n",
       "    </tr>\n",
       "  </tbody>\n",
       "</table>\n",
       "</div>"
      ],
      "text/plain": [
       "                                           Wave_file  \\\n",
       "0  ../input/french-single-speaker-speech-dataset/...   \n",
       "1  ../input/french-single-speaker-speech-dataset/...   \n",
       "2  ../input/french-single-speaker-speech-dataset/...   \n",
       "3  ../input/french-single-speaker-speech-dataset/...   \n",
       "4  ../input/french-single-speaker-speech-dataset/...   \n",
       "\n",
       "                                            Messages  \\\n",
       "0  Chapitre I La Charybde du faubourg Saint-Antoi...   \n",
       "1  Les deux plus mémorables barricades que l'obse...   \n",
       "2  Ces deux barricades, symboles toutes les deux,...   \n",
       "3  sortirent de terre lors de la fatale insurrect...   \n",
       "4  Il arrive quelquefois que, même contre les pri...   \n",
       "\n",
       "                                          Transcript  Audio Length  \n",
       "0  Chapitre I La Charybde du faubourg Saint-Antoi...          7.63  \n",
       "1  Les deux plus mémorables barricades que l'obse...          9.41  \n",
       "2  Ces deux barricades, symboles toutes les deux,...          6.27  \n",
       "3  sortirent de terre lors de la fatale insurrect...          9.24  \n",
       "4  Il arrive quelquefois que, même contre les pri...          6.54  "
      ]
     },
     "execution_count": 12,
     "metadata": {},
     "output_type": "execute_result"
    }
   ],
   "source": [
    "dataframe.head()"
   ]
  },
  {
   "cell_type": "code",
   "execution_count": 13,
   "metadata": {
    "execution": {
     "iopub.execute_input": "2022-10-16T09:54:19.704212Z",
     "iopub.status.busy": "2022-10-16T09:54:19.703316Z",
     "iopub.status.idle": "2022-10-16T09:54:19.727993Z",
     "shell.execute_reply": "2022-10-16T09:54:19.727029Z",
     "shell.execute_reply.started": "2022-10-16T09:54:19.704177Z"
    }
   },
   "outputs": [
    {
     "data": {
      "text/html": [
       "<div>\n",
       "<style scoped>\n",
       "    .dataframe tbody tr th:only-of-type {\n",
       "        vertical-align: middle;\n",
       "    }\n",
       "\n",
       "    .dataframe tbody tr th {\n",
       "        vertical-align: top;\n",
       "    }\n",
       "\n",
       "    .dataframe thead th {\n",
       "        text-align: right;\n",
       "    }\n",
       "</style>\n",
       "<table border=\"1\" class=\"dataframe\">\n",
       "  <thead>\n",
       "    <tr style=\"text-align: right;\">\n",
       "      <th></th>\n",
       "      <th>count</th>\n",
       "      <th>mean</th>\n",
       "      <th>std</th>\n",
       "      <th>min</th>\n",
       "      <th>25%</th>\n",
       "      <th>50%</th>\n",
       "      <th>75%</th>\n",
       "      <th>max</th>\n",
       "    </tr>\n",
       "  </thead>\n",
       "  <tbody>\n",
       "    <tr>\n",
       "      <th>Audio Length</th>\n",
       "      <td>8649.0</td>\n",
       "      <td>7.971208</td>\n",
       "      <td>2.089509</td>\n",
       "      <td>1.01</td>\n",
       "      <td>6.81</td>\n",
       "      <td>8.23</td>\n",
       "      <td>9.24</td>\n",
       "      <td>29.61</td>\n",
       "    </tr>\n",
       "  </tbody>\n",
       "</table>\n",
       "</div>"
      ],
      "text/plain": [
       "               count      mean       std   min   25%   50%   75%    max\n",
       "Audio Length  8649.0  7.971208  2.089509  1.01  6.81  8.23  9.24  29.61"
      ]
     },
     "execution_count": 13,
     "metadata": {},
     "output_type": "execute_result"
    }
   ],
   "source": [
    "dataframe.describe().T"
   ]
  },
  {
   "cell_type": "markdown",
   "metadata": {},
   "source": [
    "**PreProcessing the Data**"
   ]
  },
  {
   "cell_type": "code",
   "execution_count": 14,
   "metadata": {
    "execution": {
     "iopub.execute_input": "2022-10-16T09:54:23.862009Z",
     "iopub.status.busy": "2022-10-16T09:54:23.861416Z",
     "iopub.status.idle": "2022-10-16T09:54:23.870125Z",
     "shell.execute_reply": "2022-10-16T09:54:23.868947Z",
     "shell.execute_reply.started": "2022-10-16T09:54:23.861974Z"
    }
   },
   "outputs": [],
   "source": [
    "stopwords = stopwords.words('french')\n",
    "punct = list(string.punctuation)"
   ]
  },
  {
   "cell_type": "markdown",
   "metadata": {},
   "source": [
    "**Preprocessing the data -**\n",
    "\n",
    "Creating a data preprocessing function, that carries out a series of preprocessing operations on the dataset."
   ]
  },
  {
   "cell_type": "code",
   "execution_count": 15,
   "metadata": {
    "execution": {
     "iopub.execute_input": "2022-10-16T09:54:26.138788Z",
     "iopub.status.busy": "2022-10-16T09:54:26.138024Z",
     "iopub.status.idle": "2022-10-16T09:54:26.153304Z",
     "shell.execute_reply": "2022-10-16T09:54:26.152271Z",
     "shell.execute_reply.started": "2022-10-16T09:54:26.138737Z"
    }
   },
   "outputs": [],
   "source": [
    "def data_preprocessing(dataframe):\n",
    "    dataframe[\"Messages\"] = dataframe[\"Messages\"].apply(lambda x: re.sub('[^a-zA-Z]',' ',x))\n",
    "    dataframe[\"Messages\"] = dataframe[\"Messages\"].apply(lambda x: x.lower())\n",
    "    dataframe[\"Messages\"] = dataframe[\"Messages\"].apply(lambda x: x.replace(\"[^A-Za-z]\",\"\"))\n",
    "    dataframe[\"Messages\"] = dataframe[\"Messages\"].apply(lambda x: x.replace(\"'\",\"\"))\n",
    "    dataframe[\"Messages\"] = dataframe[\"Messages\"].apply(lambda x: x.replace(\"\\s+\",\" \"))\n",
    "    dataframe[\"Messages\"] = dataframe[\"Messages\"].apply(lambda x: \" \".join([word for word in x.split() if word not in punct]))\n",
    "    dataframe[\"Messages\"] = dataframe[\"Messages\"].apply(lambda x: \" \".join([word for word in x.split() if word not in stopwords and len(word)>1]))\n",
    "    dataframe[\"Messages\"] = \"start \"+dataframe[\"Messages\"]+\" end\"\n",
    "    return dataframe"
   ]
  },
  {
   "cell_type": "code",
   "execution_count": 16,
   "metadata": {
    "execution": {
     "iopub.execute_input": "2022-10-16T09:54:27.960180Z",
     "iopub.status.busy": "2022-10-16T09:54:27.959599Z",
     "iopub.status.idle": "2022-10-16T09:54:29.081883Z",
     "shell.execute_reply": "2022-10-16T09:54:29.080796Z",
     "shell.execute_reply.started": "2022-10-16T09:54:27.960139Z"
    }
   },
   "outputs": [
    {
     "data": {
      "text/html": [
       "<div>\n",
       "<style scoped>\n",
       "    .dataframe tbody tr th:only-of-type {\n",
       "        vertical-align: middle;\n",
       "    }\n",
       "\n",
       "    .dataframe tbody tr th {\n",
       "        vertical-align: top;\n",
       "    }\n",
       "\n",
       "    .dataframe thead th {\n",
       "        text-align: right;\n",
       "    }\n",
       "</style>\n",
       "<table border=\"1\" class=\"dataframe\">\n",
       "  <thead>\n",
       "    <tr style=\"text-align: right;\">\n",
       "      <th></th>\n",
       "      <th>Wave_file</th>\n",
       "      <th>Messages</th>\n",
       "      <th>Transcript</th>\n",
       "      <th>Audio Length</th>\n",
       "    </tr>\n",
       "  </thead>\n",
       "  <tbody>\n",
       "    <tr>\n",
       "      <th>7913</th>\n",
       "      <td>../input/french-single-speaker-speech-dataset/...</td>\n",
       "      <td>start videmment comment pouvait conna tre puis...</td>\n",
       "      <td>– videmment. Mais comment pouvait-il la connaî...</td>\n",
       "      <td>7.91</td>\n",
       "    </tr>\n",
       "    <tr>\n",
       "      <th>1811</th>\n",
       "      <td>../input/french-single-speaker-speech-dataset/...</td>\n",
       "      <td>start alise presque id al entend angleterre mo...</td>\n",
       "      <td>Il réalise presque l'idéal de ce qu'on entend ...</td>\n",
       "      <td>9.12</td>\n",
       "    </tr>\n",
       "    <tr>\n",
       "      <th>4923</th>\n",
       "      <td>../input/french-single-speaker-speech-dataset/...</td>\n",
       "      <td>start cet argent bien voici toute chose jais b...</td>\n",
       "      <td>cet argent est bien à toi. Voici toute la chos...</td>\n",
       "      <td>7.59</td>\n",
       "    </tr>\n",
       "    <tr>\n",
       "      <th>4695</th>\n",
       "      <td>../input/french-single-speaker-speech-dataset/...</td>\n",
       "      <td>start toute vie concentrait cette heure asseya...</td>\n",
       "      <td>Toute sa vie se concentrait dans cette heure-l...</td>\n",
       "      <td>4.94</td>\n",
       "    </tr>\n",
       "    <tr>\n",
       "      <th>7159</th>\n",
       "      <td>../input/french-single-speaker-speech-dataset/...</td>\n",
       "      <td>start deux heures pourrai quitter place apr av...</td>\n",
       "      <td>deux heures, je pourrai moi-même quitter la pl...</td>\n",
       "      <td>9.31</td>\n",
       "    </tr>\n",
       "  </tbody>\n",
       "</table>\n",
       "</div>"
      ],
      "text/plain": [
       "                                              Wave_file  \\\n",
       "7913  ../input/french-single-speaker-speech-dataset/...   \n",
       "1811  ../input/french-single-speaker-speech-dataset/...   \n",
       "4923  ../input/french-single-speaker-speech-dataset/...   \n",
       "4695  ../input/french-single-speaker-speech-dataset/...   \n",
       "7159  ../input/french-single-speaker-speech-dataset/...   \n",
       "\n",
       "                                               Messages  \\\n",
       "7913  start videmment comment pouvait conna tre puis...   \n",
       "1811  start alise presque id al entend angleterre mo...   \n",
       "4923  start cet argent bien voici toute chose jais b...   \n",
       "4695  start toute vie concentrait cette heure asseya...   \n",
       "7159  start deux heures pourrai quitter place apr av...   \n",
       "\n",
       "                                             Transcript  Audio Length  \n",
       "7913  – videmment. Mais comment pouvait-il la connaî...          7.91  \n",
       "1811  Il réalise presque l'idéal de ce qu'on entend ...          9.12  \n",
       "4923  cet argent est bien à toi. Voici toute la chos...          7.59  \n",
       "4695  Toute sa vie se concentrait dans cette heure-l...          4.94  \n",
       "7159  deux heures, je pourrai moi-même quitter la pl...          9.31  "
      ]
     },
     "execution_count": 16,
     "metadata": {},
     "output_type": "execute_result"
    }
   ],
   "source": [
    "dataframe = data_preprocessing(dataframe)\n",
    "dataframe = dataframe.sample(2500,random_state = 0 )\n",
    "dataframe.head()"
   ]
  },
  {
   "cell_type": "markdown",
   "metadata": {},
   "source": [
    "**Tokenization**"
   ]
  },
  {
   "cell_type": "code",
   "execution_count": 17,
   "metadata": {
    "execution": {
     "iopub.execute_input": "2022-10-16T09:54:33.893083Z",
     "iopub.status.busy": "2022-10-16T09:54:33.892720Z",
     "iopub.status.idle": "2022-10-16T09:54:33.898790Z",
     "shell.execute_reply": "2022-10-16T09:54:33.897734Z",
     "shell.execute_reply.started": "2022-10-16T09:54:33.893054Z"
    }
   },
   "outputs": [],
   "source": [
    "messages = dataframe[\"Messages\"].to_list()"
   ]
  },
  {
   "cell_type": "code",
   "execution_count": 18,
   "metadata": {
    "execution": {
     "iopub.execute_input": "2022-10-16T09:54:35.747356Z",
     "iopub.status.busy": "2022-10-16T09:54:35.746993Z",
     "iopub.status.idle": "2022-10-16T09:54:35.806604Z",
     "shell.execute_reply": "2022-10-16T09:54:35.805723Z",
     "shell.execute_reply.started": "2022-10-16T09:54:35.747325Z"
    }
   },
   "outputs": [],
   "source": [
    "messages = dataframe[\"Messages\"].to_list()\n",
    "tokenizer = Tokenizer()\n",
    "tokenizer.fit_on_texts(messages)\n",
    "vocab_size = len(tokenizer.word_index)+1\n",
    "max_length = dataframe[\"Messages\"].apply(lambda x: len(x.split(\" \"))).max()"
   ]
  },
  {
   "cell_type": "code",
   "execution_count": 19,
   "metadata": {
    "execution": {
     "iopub.execute_input": "2022-10-16T09:54:37.476245Z",
     "iopub.status.busy": "2022-10-16T09:54:37.475261Z",
     "iopub.status.idle": "2022-10-16T09:54:37.516999Z",
     "shell.execute_reply": "2022-10-16T09:54:37.515974Z",
     "shell.execute_reply.started": "2022-10-16T09:54:37.476206Z"
    }
   },
   "outputs": [],
   "source": [
    "sequences = tokenizer.texts_to_sequences(messages)"
   ]
  },
  {
   "cell_type": "markdown",
   "metadata": {},
   "source": [
    "**MFCC Feature Creation**"
   ]
  },
  {
   "cell_type": "code",
   "execution_count": 20,
   "metadata": {
    "execution": {
     "iopub.execute_input": "2022-10-16T09:54:39.900210Z",
     "iopub.status.busy": "2022-10-16T09:54:39.899851Z",
     "iopub.status.idle": "2022-10-16T09:54:39.906198Z",
     "shell.execute_reply": "2022-10-16T09:54:39.905175Z",
     "shell.execute_reply.started": "2022-10-16T09:54:39.900180Z"
    }
   },
   "outputs": [],
   "source": [
    "def create_mfcc_features(path):\n",
    "    mfccs = []\n",
    "    try:\n",
    "        x , sr = librosa.load(path, res_type='kaiser_fast')\n",
    "        mfccs = librosa.feature.mfcc(y=x, sr=sr, n_mfcc=128)\n",
    "        mfccs = np.mean(mfccs.T,axis=0)\n",
    "    except:\n",
    "        print('Error reading audio')\n",
    "    return mfccs"
   ]
  },
  {
   "cell_type": "code",
   "execution_count": 21,
   "metadata": {
    "execution": {
     "iopub.execute_input": "2022-10-16T09:54:41.914885Z",
     "iopub.status.busy": "2022-10-16T09:54:41.914185Z",
     "iopub.status.idle": "2022-10-16T09:56:16.213580Z",
     "shell.execute_reply": "2022-10-16T09:56:16.211850Z",
     "shell.execute_reply.started": "2022-10-16T09:54:41.914847Z"
    }
   },
   "outputs": [],
   "source": [
    "features = []\n",
    "for path in dataframe[\"Wave_file\"]:\n",
    "    x = create_mfcc_features(path)\n",
    "    x = x.reshape(16, 8, 1)\n",
    "    features.append(x)"
   ]
  },
  {
   "cell_type": "markdown",
   "metadata": {},
   "source": [
    "# Model Creation\n",
    "\n",
    "**Objective - Creation of a CNN Model to carry out the prediction of the following word.**\n",
    "\n",
    "**Inputs to the Model -**\n",
    "1. Audio features\n",
    "2. Audio Messages\n",
    "\n",
    "\n",
    "**Outputs to the Model -**\n",
    "1. Next predicted word"
   ]
  },
  {
   "cell_type": "code",
   "execution_count": 22,
   "metadata": {
    "execution": {
     "iopub.execute_input": "2022-10-16T09:56:16.222262Z",
     "iopub.status.busy": "2022-10-16T09:56:16.221428Z",
     "iopub.status.idle": "2022-10-16T09:56:16.242122Z",
     "shell.execute_reply": "2022-10-16T09:56:16.240779Z",
     "shell.execute_reply.started": "2022-10-16T09:56:16.222202Z"
    }
   },
   "outputs": [],
   "source": [
    "X1 = []\n",
    "X2 = []\n",
    "y = []\n",
    "j = 0\n",
    "for feature in features:\n",
    "    if j == 1:\n",
    "        break\n",
    "    seq = tokenizer.texts_to_sequences([messages[j]])[0]\n",
    "    j = j+1\n",
    "    for i in range(1,len(seq)):\n",
    "        in_seq, out_seq = seq[:i], seq[i]\n",
    "        out_seq = to_categorical([out_seq], num_classes=vocab_size)\n",
    "        X1.append(feature)\n",
    "        X2.append(in_seq)\n",
    "        y.append(out_seq)\n"
   ]
  },
  {
   "cell_type": "code",
   "execution_count": 23,
   "metadata": {
    "execution": {
     "iopub.execute_input": "2022-10-16T09:56:16.244380Z",
     "iopub.status.busy": "2022-10-16T09:56:16.243931Z",
     "iopub.status.idle": "2022-10-16T09:56:16.262750Z",
     "shell.execute_reply": "2022-10-16T09:56:16.261302Z",
     "shell.execute_reply.started": "2022-10-16T09:56:16.244337Z"
    }
   },
   "outputs": [],
   "source": [
    "input2 = []\n",
    "for i in X2:\n",
    "    input2.append(tokenizer.sequences_to_texts([i]))\n",
    "    \n",
    "model_data = pd.DataFrame()\n",
    "model_data[\"mfcc_features\"] = X1\n",
    "model_data[\"input_messages\"]= input2\n",
    "model_data[\"outputs\"] = y"
   ]
  },
  {
   "cell_type": "code",
   "execution_count": 24,
   "metadata": {
    "execution": {
     "iopub.execute_input": "2022-10-16T09:56:16.270794Z",
     "iopub.status.busy": "2022-10-16T09:56:16.270319Z",
     "iopub.status.idle": "2022-10-16T09:56:16.493284Z",
     "shell.execute_reply": "2022-10-16T09:56:16.492295Z",
     "shell.execute_reply.started": "2022-10-16T09:56:16.270750Z"
    }
   },
   "outputs": [
    {
     "data": {
      "text/html": [
       "<div>\n",
       "<style scoped>\n",
       "    .dataframe tbody tr th:only-of-type {\n",
       "        vertical-align: middle;\n",
       "    }\n",
       "\n",
       "    .dataframe tbody tr th {\n",
       "        vertical-align: top;\n",
       "    }\n",
       "\n",
       "    .dataframe thead th {\n",
       "        text-align: right;\n",
       "    }\n",
       "</style>\n",
       "<table border=\"1\" class=\"dataframe\">\n",
       "  <thead>\n",
       "    <tr style=\"text-align: right;\">\n",
       "      <th></th>\n",
       "      <th>mfcc_features</th>\n",
       "      <th>input_messages</th>\n",
       "      <th>outputs</th>\n",
       "    </tr>\n",
       "  </thead>\n",
       "  <tbody>\n",
       "    <tr>\n",
       "      <th>0</th>\n",
       "      <td>[[[-364.45276], [89.522064], [-9.886822], [30....</td>\n",
       "      <td>[start]</td>\n",
       "      <td>[[0.0, 0.0, 0.0, 0.0, 0.0, 0.0, 0.0, 0.0, 0.0,...</td>\n",
       "    </tr>\n",
       "    <tr>\n",
       "      <th>1</th>\n",
       "      <td>[[[-364.45276], [89.522064], [-9.886822], [30....</td>\n",
       "      <td>[start videmment]</td>\n",
       "      <td>[[0.0, 0.0, 0.0, 0.0, 0.0, 0.0, 0.0, 0.0, 0.0,...</td>\n",
       "    </tr>\n",
       "    <tr>\n",
       "      <th>2</th>\n",
       "      <td>[[[-364.45276], [89.522064], [-9.886822], [30....</td>\n",
       "      <td>[start videmment comment]</td>\n",
       "      <td>[[0.0, 0.0, 0.0, 0.0, 0.0, 0.0, 0.0, 0.0, 0.0,...</td>\n",
       "    </tr>\n",
       "    <tr>\n",
       "      <th>3</th>\n",
       "      <td>[[[-364.45276], [89.522064], [-9.886822], [30....</td>\n",
       "      <td>[start videmment comment pouvait]</td>\n",
       "      <td>[[0.0, 0.0, 0.0, 0.0, 0.0, 0.0, 0.0, 0.0, 0.0,...</td>\n",
       "    </tr>\n",
       "    <tr>\n",
       "      <th>4</th>\n",
       "      <td>[[[-364.45276], [89.522064], [-9.886822], [30....</td>\n",
       "      <td>[start videmment comment pouvait conna]</td>\n",
       "      <td>[[0.0, 0.0, 0.0, 0.0, 0.0, 0.0, 0.0, 1.0, 0.0,...</td>\n",
       "    </tr>\n",
       "  </tbody>\n",
       "</table>\n",
       "</div>"
      ],
      "text/plain": [
       "                                       mfcc_features  \\\n",
       "0  [[[-364.45276], [89.522064], [-9.886822], [30....   \n",
       "1  [[[-364.45276], [89.522064], [-9.886822], [30....   \n",
       "2  [[[-364.45276], [89.522064], [-9.886822], [30....   \n",
       "3  [[[-364.45276], [89.522064], [-9.886822], [30....   \n",
       "4  [[[-364.45276], [89.522064], [-9.886822], [30....   \n",
       "\n",
       "                            input_messages  \\\n",
       "0                                  [start]   \n",
       "1                        [start videmment]   \n",
       "2                [start videmment comment]   \n",
       "3        [start videmment comment pouvait]   \n",
       "4  [start videmment comment pouvait conna]   \n",
       "\n",
       "                                             outputs  \n",
       "0  [[0.0, 0.0, 0.0, 0.0, 0.0, 0.0, 0.0, 0.0, 0.0,...  \n",
       "1  [[0.0, 0.0, 0.0, 0.0, 0.0, 0.0, 0.0, 0.0, 0.0,...  \n",
       "2  [[0.0, 0.0, 0.0, 0.0, 0.0, 0.0, 0.0, 0.0, 0.0,...  \n",
       "3  [[0.0, 0.0, 0.0, 0.0, 0.0, 0.0, 0.0, 0.0, 0.0,...  \n",
       "4  [[0.0, 0.0, 0.0, 0.0, 0.0, 0.0, 0.0, 1.0, 0.0,...  "
      ]
     },
     "execution_count": 24,
     "metadata": {},
     "output_type": "execute_result"
    }
   ],
   "source": [
    "model_data.head()"
   ]
  },
  {
   "cell_type": "markdown",
   "metadata": {},
   "source": [
    "**Feature creation for all files**"
   ]
  },
  {
   "cell_type": "code",
   "execution_count": 25,
   "metadata": {
    "execution": {
     "iopub.execute_input": "2022-10-16T09:56:16.494766Z",
     "iopub.status.busy": "2022-10-16T09:56:16.494444Z",
     "iopub.status.idle": "2022-10-16T09:56:17.742576Z",
     "shell.execute_reply": "2022-10-16T09:56:17.741503Z",
     "shell.execute_reply.started": "2022-10-16T09:56:16.494733Z"
    }
   },
   "outputs": [],
   "source": [
    "X1 = []\n",
    "X2 = []\n",
    "y = []\n",
    "j = 0\n",
    "for feature in features:\n",
    "    if j == 2000:\n",
    "        break\n",
    "    seq = tokenizer.texts_to_sequences([messages[j]])[0]\n",
    "    j = j+1\n",
    "    for i in range(1,len(seq)):\n",
    "        in_seq, out_seq = seq[:i], seq[i]\n",
    "        in_seq = pad_sequences([in_seq], maxlen=max_length)\n",
    "        out_seq = to_categorical([out_seq], num_classes=vocab_size)\n",
    "        X1.append(feature)\n",
    "        X2.append(in_seq)\n",
    "        y.append(out_seq)\n",
    "X1 = np.array(X1)\n",
    "X2 = np.array(X2)\n",
    "y = np.array(y)"
   ]
  },
  {
   "cell_type": "code",
   "execution_count": 26,
   "metadata": {
    "execution": {
     "iopub.execute_input": "2022-10-16T09:56:17.744538Z",
     "iopub.status.busy": "2022-10-16T09:56:17.744142Z",
     "iopub.status.idle": "2022-10-16T09:56:17.752727Z",
     "shell.execute_reply": "2022-10-16T09:56:17.751634Z",
     "shell.execute_reply.started": "2022-10-16T09:56:17.744501Z"
    }
   },
   "outputs": [
    {
     "data": {
      "text/plain": [
       "((23373, 16, 8, 1), (23373, 1, 45), (23373, 1, 7213))"
      ]
     },
     "execution_count": 26,
     "metadata": {},
     "output_type": "execute_result"
    }
   ],
   "source": [
    "X1.shape,X2.shape,y.shape"
   ]
  },
  {
   "cell_type": "code",
   "execution_count": 27,
   "metadata": {
    "execution": {
     "iopub.execute_input": "2022-10-16T09:56:17.755095Z",
     "iopub.status.busy": "2022-10-16T09:56:17.754354Z",
     "iopub.status.idle": "2022-10-16T09:56:17.762973Z",
     "shell.execute_reply": "2022-10-16T09:56:17.761724Z",
     "shell.execute_reply.started": "2022-10-16T09:56:17.755059Z"
    }
   },
   "outputs": [],
   "source": [
    "X2 = X2.reshape(23373,45)\n",
    "y = y.reshape(23373,7213)"
   ]
  },
  {
   "cell_type": "code",
   "execution_count": 28,
   "metadata": {
    "execution": {
     "iopub.execute_input": "2022-10-16T09:56:17.765326Z",
     "iopub.status.busy": "2022-10-16T09:56:17.764832Z",
     "iopub.status.idle": "2022-10-16T09:56:17.795920Z",
     "shell.execute_reply": "2022-10-16T09:56:17.795043Z",
     "shell.execute_reply.started": "2022-10-16T09:56:17.765290Z"
    }
   },
   "outputs": [],
   "source": [
    "final_dataframe = pd.DataFrame({\"X1\": list(X1),\"X2\":list(X2),\"y\":list(y)})"
   ]
  },
  {
   "cell_type": "code",
   "execution_count": 29,
   "metadata": {
    "execution": {
     "iopub.execute_input": "2022-10-16T09:56:17.797617Z",
     "iopub.status.busy": "2022-10-16T09:56:17.797190Z",
     "iopub.status.idle": "2022-10-16T09:56:17.976561Z",
     "shell.execute_reply": "2022-10-16T09:56:17.975564Z",
     "shell.execute_reply.started": "2022-10-16T09:56:17.797509Z"
    }
   },
   "outputs": [
    {
     "data": {
      "text/html": [
       "<div>\n",
       "<style scoped>\n",
       "    .dataframe tbody tr th:only-of-type {\n",
       "        vertical-align: middle;\n",
       "    }\n",
       "\n",
       "    .dataframe tbody tr th {\n",
       "        vertical-align: top;\n",
       "    }\n",
       "\n",
       "    .dataframe thead th {\n",
       "        text-align: right;\n",
       "    }\n",
       "</style>\n",
       "<table border=\"1\" class=\"dataframe\">\n",
       "  <thead>\n",
       "    <tr style=\"text-align: right;\">\n",
       "      <th></th>\n",
       "      <th>X1</th>\n",
       "      <th>X2</th>\n",
       "      <th>y</th>\n",
       "    </tr>\n",
       "  </thead>\n",
       "  <tbody>\n",
       "    <tr>\n",
       "      <th>0</th>\n",
       "      <td>[[[-364.45276], [89.522064], [-9.886822], [30....</td>\n",
       "      <td>[0, 0, 0, 0, 0, 0, 0, 0, 0, 0, 0, 0, 0, 0, 0, ...</td>\n",
       "      <td>[0.0, 0.0, 0.0, 0.0, 0.0, 0.0, 0.0, 0.0, 0.0, ...</td>\n",
       "    </tr>\n",
       "    <tr>\n",
       "      <th>1</th>\n",
       "      <td>[[[-364.45276], [89.522064], [-9.886822], [30....</td>\n",
       "      <td>[0, 0, 0, 0, 0, 0, 0, 0, 0, 0, 0, 0, 0, 0, 0, ...</td>\n",
       "      <td>[0.0, 0.0, 0.0, 0.0, 0.0, 0.0, 0.0, 0.0, 0.0, ...</td>\n",
       "    </tr>\n",
       "    <tr>\n",
       "      <th>2</th>\n",
       "      <td>[[[-364.45276], [89.522064], [-9.886822], [30....</td>\n",
       "      <td>[0, 0, 0, 0, 0, 0, 0, 0, 0, 0, 0, 0, 0, 0, 0, ...</td>\n",
       "      <td>[0.0, 0.0, 0.0, 0.0, 0.0, 0.0, 0.0, 0.0, 0.0, ...</td>\n",
       "    </tr>\n",
       "    <tr>\n",
       "      <th>3</th>\n",
       "      <td>[[[-364.45276], [89.522064], [-9.886822], [30....</td>\n",
       "      <td>[0, 0, 0, 0, 0, 0, 0, 0, 0, 0, 0, 0, 0, 0, 0, ...</td>\n",
       "      <td>[0.0, 0.0, 0.0, 0.0, 0.0, 0.0, 0.0, 0.0, 0.0, ...</td>\n",
       "    </tr>\n",
       "    <tr>\n",
       "      <th>4</th>\n",
       "      <td>[[[-364.45276], [89.522064], [-9.886822], [30....</td>\n",
       "      <td>[0, 0, 0, 0, 0, 0, 0, 0, 0, 0, 0, 0, 0, 0, 0, ...</td>\n",
       "      <td>[0.0, 0.0, 0.0, 0.0, 0.0, 0.0, 0.0, 1.0, 0.0, ...</td>\n",
       "    </tr>\n",
       "  </tbody>\n",
       "</table>\n",
       "</div>"
      ],
      "text/plain": [
       "                                                  X1  \\\n",
       "0  [[[-364.45276], [89.522064], [-9.886822], [30....   \n",
       "1  [[[-364.45276], [89.522064], [-9.886822], [30....   \n",
       "2  [[[-364.45276], [89.522064], [-9.886822], [30....   \n",
       "3  [[[-364.45276], [89.522064], [-9.886822], [30....   \n",
       "4  [[[-364.45276], [89.522064], [-9.886822], [30....   \n",
       "\n",
       "                                                  X2  \\\n",
       "0  [0, 0, 0, 0, 0, 0, 0, 0, 0, 0, 0, 0, 0, 0, 0, ...   \n",
       "1  [0, 0, 0, 0, 0, 0, 0, 0, 0, 0, 0, 0, 0, 0, 0, ...   \n",
       "2  [0, 0, 0, 0, 0, 0, 0, 0, 0, 0, 0, 0, 0, 0, 0, ...   \n",
       "3  [0, 0, 0, 0, 0, 0, 0, 0, 0, 0, 0, 0, 0, 0, 0, ...   \n",
       "4  [0, 0, 0, 0, 0, 0, 0, 0, 0, 0, 0, 0, 0, 0, 0, ...   \n",
       "\n",
       "                                                   y  \n",
       "0  [0.0, 0.0, 0.0, 0.0, 0.0, 0.0, 0.0, 0.0, 0.0, ...  \n",
       "1  [0.0, 0.0, 0.0, 0.0, 0.0, 0.0, 0.0, 0.0, 0.0, ...  \n",
       "2  [0.0, 0.0, 0.0, 0.0, 0.0, 0.0, 0.0, 0.0, 0.0, ...  \n",
       "3  [0.0, 0.0, 0.0, 0.0, 0.0, 0.0, 0.0, 0.0, 0.0, ...  \n",
       "4  [0.0, 0.0, 0.0, 0.0, 0.0, 0.0, 0.0, 1.0, 0.0, ...  "
      ]
     },
     "execution_count": 29,
     "metadata": {},
     "output_type": "execute_result"
    }
   ],
   "source": [
    "final_dataframe.head()"
   ]
  },
  {
   "cell_type": "code",
   "execution_count": 30,
   "metadata": {
    "execution": {
     "iopub.execute_input": "2022-10-16T09:56:17.980582Z",
     "iopub.status.busy": "2022-10-16T09:56:17.980293Z",
     "iopub.status.idle": "2022-10-16T09:56:17.987009Z",
     "shell.execute_reply": "2022-10-16T09:56:17.986101Z",
     "shell.execute_reply.started": "2022-10-16T09:56:17.980557Z"
    }
   },
   "outputs": [],
   "source": [
    "wave_file = dataframe[\"Wave_file\"].to_list()"
   ]
  },
  {
   "cell_type": "code",
   "execution_count": 31,
   "metadata": {
    "execution": {
     "iopub.execute_input": "2022-10-16T09:56:17.989071Z",
     "iopub.status.busy": "2022-10-16T09:56:17.988489Z",
     "iopub.status.idle": "2022-10-16T09:56:17.995998Z",
     "shell.execute_reply": "2022-10-16T09:56:17.995058Z",
     "shell.execute_reply.started": "2022-10-16T09:56:17.989036Z"
    }
   },
   "outputs": [],
   "source": [
    "split = int(len(messages)*0.8)\n",
    "X_train = [X1[:split],X2[:split]]\n",
    "y_train = y[:split]\n",
    "X_test = [X1[split:],X2[split:]]\n",
    "y_test = y[split:]"
   ]
  },
  {
   "cell_type": "markdown",
   "metadata": {},
   "source": [
    "**Model Creation**\n",
    "\n",
    "The created CNN model will be run 2 times.\n",
    "\n",
    "Once for making predictions on training data and second time for making predictions on validation data."
   ]
  },
  {
   "cell_type": "code",
   "execution_count": 32,
   "metadata": {
    "execution": {
     "iopub.execute_input": "2022-10-16T09:56:17.997971Z",
     "iopub.status.busy": "2022-10-16T09:56:17.997428Z",
     "iopub.status.idle": "2022-10-16T09:56:21.414167Z",
     "shell.execute_reply": "2022-10-16T09:56:21.413240Z",
     "shell.execute_reply.started": "2022-10-16T09:56:17.997937Z"
    }
   },
   "outputs": [
    {
     "name": "stderr",
     "output_type": "stream",
     "text": [
      "2022-10-16 09:56:18.111835: I tensorflow/stream_executor/cuda/cuda_gpu_executor.cc:937] successful NUMA node read from SysFS had negative value (-1), but there must be at least one NUMA node, so returning NUMA node zero\n",
      "2022-10-16 09:56:18.232553: I tensorflow/stream_executor/cuda/cuda_gpu_executor.cc:937] successful NUMA node read from SysFS had negative value (-1), but there must be at least one NUMA node, so returning NUMA node zero\n",
      "2022-10-16 09:56:18.233801: I tensorflow/stream_executor/cuda/cuda_gpu_executor.cc:937] successful NUMA node read from SysFS had negative value (-1), but there must be at least one NUMA node, so returning NUMA node zero\n",
      "2022-10-16 09:56:18.518677: I tensorflow/core/platform/cpu_feature_guard.cc:142] This TensorFlow binary is optimized with oneAPI Deep Neural Network Library (oneDNN) to use the following CPU instructions in performance-critical operations:  AVX2 AVX512F FMA\n",
      "To enable them in other operations, rebuild TensorFlow with the appropriate compiler flags.\n",
      "2022-10-16 09:56:18.519212: I tensorflow/stream_executor/cuda/cuda_gpu_executor.cc:937] successful NUMA node read from SysFS had negative value (-1), but there must be at least one NUMA node, so returning NUMA node zero\n",
      "2022-10-16 09:56:18.520466: I tensorflow/stream_executor/cuda/cuda_gpu_executor.cc:937] successful NUMA node read from SysFS had negative value (-1), but there must be at least one NUMA node, so returning NUMA node zero\n",
      "2022-10-16 09:56:18.521538: I tensorflow/stream_executor/cuda/cuda_gpu_executor.cc:937] successful NUMA node read from SysFS had negative value (-1), but there must be at least one NUMA node, so returning NUMA node zero\n",
      "2022-10-16 09:56:20.708114: I tensorflow/stream_executor/cuda/cuda_gpu_executor.cc:937] successful NUMA node read from SysFS had negative value (-1), but there must be at least one NUMA node, so returning NUMA node zero\n",
      "2022-10-16 09:56:20.709059: I tensorflow/stream_executor/cuda/cuda_gpu_executor.cc:937] successful NUMA node read from SysFS had negative value (-1), but there must be at least one NUMA node, so returning NUMA node zero\n",
      "2022-10-16 09:56:20.709764: I tensorflow/stream_executor/cuda/cuda_gpu_executor.cc:937] successful NUMA node read from SysFS had negative value (-1), but there must be at least one NUMA node, so returning NUMA node zero\n",
      "2022-10-16 09:56:20.710354: I tensorflow/core/common_runtime/gpu/gpu_device.cc:1510] Created device /job:localhost/replica:0/task:0/device:GPU:0 with 15401 MB memory:  -> device: 0, name: Tesla P100-PCIE-16GB, pci bus id: 0000:00:04.0, compute capability: 6.0\n"
     ]
    }
   ],
   "source": [
    "input1 = Input(shape=(16,8,1))\n",
    "input2 = Input(shape=(max_length,))\n",
    "\n",
    "feature_model = Conv2D(filters=16, kernel_size=(3, 3), activation='relu', padding = \"same\")(input1)\n",
    "feature_model = MaxPooling2D(2, 2)(feature_model)\n",
    "feature_model = Conv2D(filters=8, kernel_size=(3, 3), activation='relu', padding = \"same\")(feature_model)\n",
    "feature_model = MaxPooling2D(2, 2)(feature_model)\n",
    "feature_model = Flatten()(feature_model)\n",
    "feature_model = Dense(128, activation='relu')(feature_model)\n",
    "feature_model_reshaped = Reshape((1, 128), input_shape=(128,))(feature_model)\n",
    "\n",
    "prompt_features = Embedding(vocab_size, 128, mask_zero=False)(input2)\n",
    "prompt_features = LSTM(128)(prompt_features)\n",
    "prompt_features = Dropout(0.5)(prompt_features)\n",
    "\n",
    "x = add([prompt_features, feature_model])\n",
    "x = Dense(128, activation='relu')(x)\n",
    "x = Dropout(0.5)(x)\n",
    "output = Dense(vocab_size, activation='softmax')(x)\n",
    "\n"
   ]
  },
  {
   "cell_type": "markdown",
   "metadata": {},
   "source": [
    "**Invoking Model**"
   ]
  },
  {
   "cell_type": "code",
   "execution_count": 33,
   "metadata": {
    "execution": {
     "iopub.execute_input": "2022-10-16T09:56:21.416059Z",
     "iopub.status.busy": "2022-10-16T09:56:21.415708Z",
     "iopub.status.idle": "2022-10-16T09:56:21.426742Z",
     "shell.execute_reply": "2022-10-16T09:56:21.425721Z",
     "shell.execute_reply.started": "2022-10-16T09:56:21.416025Z"
    }
   },
   "outputs": [],
   "source": [
    "prediction_model = Model(inputs=[input1,input2], outputs=output)"
   ]
  },
  {
   "cell_type": "markdown",
   "metadata": {},
   "source": [
    "**Compiling Model**"
   ]
  },
  {
   "cell_type": "code",
   "execution_count": 34,
   "metadata": {
    "execution": {
     "iopub.execute_input": "2022-10-16T09:56:21.429000Z",
     "iopub.status.busy": "2022-10-16T09:56:21.428703Z",
     "iopub.status.idle": "2022-10-16T09:56:21.443437Z",
     "shell.execute_reply": "2022-10-16T09:56:21.442441Z",
     "shell.execute_reply.started": "2022-10-16T09:56:21.428975Z"
    }
   },
   "outputs": [],
   "source": [
    "prediction_model.compile(loss='categorical_crossentropy',optimizer='Nadam')"
   ]
  },
  {
   "cell_type": "markdown",
   "metadata": {},
   "source": [
    "**Visualising Model Summary**"
   ]
  },
  {
   "cell_type": "code",
   "execution_count": 35,
   "metadata": {
    "execution": {
     "iopub.execute_input": "2022-10-16T09:56:21.446870Z",
     "iopub.status.busy": "2022-10-16T09:56:21.446584Z",
     "iopub.status.idle": "2022-10-16T09:56:22.433475Z",
     "shell.execute_reply": "2022-10-16T09:56:22.432346Z",
     "shell.execute_reply.started": "2022-10-16T09:56:21.446842Z"
    }
   },
   "outputs": [
    {
     "data": {
      "image/png": "[encoded data removed]",
      "text/plain": [
       "<IPython.core.display.Image object>"
      ]
     },
     "execution_count": 35,
     "metadata": {},
     "output_type": "execute_result"
    }
   ],
   "source": [
    "plot_model(prediction_model)"
   ]
  },
  {
   "cell_type": "markdown",
   "metadata": {},
   "source": [
    "**Fitting the Model**"
   ]
  },
  {
   "cell_type": "code",
   "execution_count": 36,
   "metadata": {
    "execution": {
     "iopub.execute_input": "2022-10-16T09:56:22.436806Z",
     "iopub.status.busy": "2022-10-16T09:56:22.435483Z",
     "iopub.status.idle": "2022-10-16T09:58:49.792376Z",
     "shell.execute_reply": "2022-10-16T09:58:49.791438Z",
     "shell.execute_reply.started": "2022-10-16T09:56:22.436760Z"
    }
   },
   "outputs": [
    {
     "name": "stderr",
     "output_type": "stream",
     "text": [
      "2022-10-16 09:56:22.576544: I tensorflow/compiler/mlir/mlir_graph_optimization_pass.cc:185] None of the MLIR Optimization Passes are enabled (registered 2)\n"
     ]
    },
    {
     "name": "stdout",
     "output_type": "stream",
     "text": [
      "Epoch 1/50\n"
     ]
    },
    {
     "name": "stderr",
     "output_type": "stream",
     "text": [
      "2022-10-16 09:56:25.500964: I tensorflow/stream_executor/cuda/cuda_dnn.cc:369] Loaded cuDNN version 8005\n"
     ]
    },
    {
     "name": "stdout",
     "output_type": "stream",
     "text": [
      "60/63 [===========================>..] - ETA: 0s - loss: 8.3902"
     ]
    },
    {
     "name": "stderr",
     "output_type": "stream",
     "text": [
      "2022-10-16 09:56:32.371236: W tensorflow/core/framework/cpu_allocator_impl.cc:80] Allocation of 616653796 exceeds 10% of free system memory.\n",
      "2022-10-16 09:56:33.106871: W tensorflow/core/framework/cpu_allocator_impl.cc:80] Allocation of 616653796 exceeds 10% of free system memory.\n"
     ]
    },
    {
     "name": "stdout",
     "output_type": "stream",
     "text": [
      "63/63 [==============================] - 14s 76ms/step - loss: 8.3605 - val_loss: 7.9350\n",
      "Epoch 2/50\n",
      "63/63 [==============================] - 3s 43ms/step - loss: 7.3903 - val_loss: 7.9543\n",
      "Epoch 3/50\n",
      "63/63 [==============================] - 3s 46ms/step - loss: 7.1081 - val_loss: 7.9861\n",
      "Epoch 4/50\n",
      "63/63 [==============================] - 3s 43ms/step - loss: 6.9230 - val_loss: 8.5649\n",
      "Epoch 5/50\n",
      "63/63 [==============================] - 3s 42ms/step - loss: 6.7895 - val_loss: 8.3267\n",
      "Epoch 6/50\n",
      "63/63 [==============================] - 3s 43ms/step - loss: 6.6780 - val_loss: 8.3312\n",
      "Epoch 7/50\n",
      "63/63 [==============================] - 3s 45ms/step - loss: 6.5275 - val_loss: 9.1683\n",
      "Epoch 8/50\n",
      "63/63 [==============================] - 3s 42ms/step - loss: 6.4034 - val_loss: 8.9046\n",
      "Epoch 9/50\n",
      "63/63 [==============================] - 3s 42ms/step - loss: 6.2565 - val_loss: 9.0379\n",
      "Epoch 10/50\n",
      "63/63 [==============================] - 3s 42ms/step - loss: 6.1088 - val_loss: 9.0600\n",
      "Epoch 11/50\n",
      "63/63 [==============================] - 3s 45ms/step - loss: 5.9909 - val_loss: 9.4338\n",
      "Epoch 12/50\n",
      "63/63 [==============================] - 3s 46ms/step - loss: 5.8612 - val_loss: 9.5250\n",
      "Epoch 13/50\n",
      "63/63 [==============================] - 3s 43ms/step - loss: 5.7183 - val_loss: 9.5965\n",
      "Epoch 14/50\n",
      "63/63 [==============================] - 3s 42ms/step - loss: 5.6013 - val_loss: 10.0741\n",
      "Epoch 15/50\n",
      "63/63 [==============================] - 3s 45ms/step - loss: 5.5094 - val_loss: 9.8785\n",
      "Epoch 16/50\n",
      "63/63 [==============================] - 3s 42ms/step - loss: 5.3536 - val_loss: 10.1500\n",
      "Epoch 17/50\n",
      "63/63 [==============================] - 3s 42ms/step - loss: 5.2002 - val_loss: 10.9246\n",
      "Epoch 18/50\n",
      "63/63 [==============================] - 3s 42ms/step - loss: 5.0932 - val_loss: 10.8094\n",
      "Epoch 19/50\n",
      "63/63 [==============================] - 3s 45ms/step - loss: 4.9586 - val_loss: 10.8885\n",
      "Epoch 20/50\n",
      "63/63 [==============================] - 3s 42ms/step - loss: 4.8657 - val_loss: 11.1531\n",
      "Epoch 21/50\n",
      "63/63 [==============================] - 3s 42ms/step - loss: 4.7062 - val_loss: 10.8905\n",
      "Epoch 22/50\n",
      "63/63 [==============================] - 3s 42ms/step - loss: 4.5561 - val_loss: 11.5261\n",
      "Epoch 23/50\n",
      "63/63 [==============================] - 3s 46ms/step - loss: 4.4311 - val_loss: 11.7181\n",
      "Epoch 24/50\n",
      "63/63 [==============================] - 3s 48ms/step - loss: 4.3301 - val_loss: 11.8134\n",
      "Epoch 25/50\n",
      "63/63 [==============================] - 3s 42ms/step - loss: 4.1968 - val_loss: 11.9320\n",
      "Epoch 26/50\n",
      "63/63 [==============================] - 3s 43ms/step - loss: 4.0656 - val_loss: 11.9309\n",
      "Epoch 27/50\n",
      "63/63 [==============================] - 3s 45ms/step - loss: 3.9373 - val_loss: 12.4466\n",
      "Epoch 28/50\n",
      "63/63 [==============================] - 3s 42ms/step - loss: 3.8107 - val_loss: 12.6670\n",
      "Epoch 29/50\n",
      "63/63 [==============================] - 3s 42ms/step - loss: 3.7347 - val_loss: 12.7267\n",
      "Epoch 30/50\n",
      "63/63 [==============================] - 3s 42ms/step - loss: 3.5774 - val_loss: 12.9032\n",
      "Epoch 31/50\n",
      "63/63 [==============================] - 3s 45ms/step - loss: 3.4556 - val_loss: 13.3735\n",
      "Epoch 32/50\n",
      "63/63 [==============================] - 3s 43ms/step - loss: 3.3918 - val_loss: 13.4898\n",
      "Epoch 33/50\n",
      "63/63 [==============================] - 3s 42ms/step - loss: 3.2860 - val_loss: 13.8745\n",
      "Epoch 34/50\n",
      "63/63 [==============================] - 3s 42ms/step - loss: 3.1924 - val_loss: 13.9472\n",
      "Epoch 35/50\n",
      "63/63 [==============================] - 3s 44ms/step - loss: 3.0953 - val_loss: 14.3197\n",
      "Epoch 36/50\n",
      "63/63 [==============================] - 3s 52ms/step - loss: 3.0053 - val_loss: 13.8095\n",
      "Epoch 37/50\n",
      "63/63 [==============================] - 3s 42ms/step - loss: 2.9470 - val_loss: 14.0993\n",
      "Epoch 38/50\n",
      "63/63 [==============================] - 3s 42ms/step - loss: 2.8830 - val_loss: 14.6545\n",
      "Epoch 39/50\n",
      "63/63 [==============================] - 3s 45ms/step - loss: 2.7943 - val_loss: 14.5996\n",
      "Epoch 40/50\n",
      "63/63 [==============================] - 3s 42ms/step - loss: 2.7155 - val_loss: 15.1746\n",
      "Epoch 41/50\n",
      "63/63 [==============================] - 3s 43ms/step - loss: 2.6539 - val_loss: 15.3629\n",
      "Epoch 42/50\n",
      "63/63 [==============================] - 3s 42ms/step - loss: 2.5579 - val_loss: 15.1175\n",
      "Epoch 43/50\n",
      "63/63 [==============================] - 3s 43ms/step - loss: 2.5276 - val_loss: 15.2190\n",
      "Epoch 44/50\n",
      "63/63 [==============================] - 3s 45ms/step - loss: 2.4357 - val_loss: 16.0871\n",
      "Epoch 45/50\n",
      "63/63 [==============================] - 3s 42ms/step - loss: 2.3996 - val_loss: 15.6586\n",
      "Epoch 46/50\n",
      "63/63 [==============================] - 3s 42ms/step - loss: 2.3585 - val_loss: 16.1370\n",
      "Epoch 47/50\n",
      "63/63 [==============================] - 3s 47ms/step - loss: 2.2624 - val_loss: 16.1060\n",
      "Epoch 48/50\n",
      "63/63 [==============================] - 3s 50ms/step - loss: 2.2441 - val_loss: 16.1601\n",
      "Epoch 49/50\n",
      "63/63 [==============================] - 3s 44ms/step - loss: 2.2088 - val_loss: 16.1525\n",
      "Epoch 50/50\n",
      "63/63 [==============================] - 3s 43ms/step - loss: 2.1498 - val_loss: 16.2265\n"
     ]
    }
   ],
   "source": [
    "history = prediction_model.fit(X_train,y_train,\n",
    "        epochs=50,\n",
    "        batch_size = 32,\n",
    "        validation_data=(X_test,y_test),\n",
    "        validation_batch_size = 32)"
   ]
  },
  {
   "cell_type": "markdown",
   "metadata": {},
   "source": [
    "**Model Predictions**"
   ]
  },
  {
   "cell_type": "code",
   "execution_count": 37,
   "metadata": {
    "execution": {
     "iopub.execute_input": "2022-10-16T09:58:49.794893Z",
     "iopub.status.busy": "2022-10-16T09:58:49.794390Z",
     "iopub.status.idle": "2022-10-16T09:58:49.802869Z",
     "shell.execute_reply": "2022-10-16T09:58:49.800741Z",
     "shell.execute_reply.started": "2022-10-16T09:58:49.794845Z"
    }
   },
   "outputs": [],
   "source": [
    "def idx_to_word(integer,tokenizer):\n",
    "    for word, index in tokenizer.word_index.items():\n",
    "        if index==integer:\n",
    "            return word\n",
    "    return None"
   ]
  },
  {
   "cell_type": "markdown",
   "metadata": {},
   "source": [
    "**Evaluation on Training Data**"
   ]
  },
  {
   "cell_type": "code",
   "execution_count": 38,
   "metadata": {
    "execution": {
     "iopub.execute_input": "2022-10-16T09:58:49.805118Z",
     "iopub.status.busy": "2022-10-16T09:58:49.804486Z",
     "iopub.status.idle": "2022-10-16T09:58:55.386029Z",
     "shell.execute_reply": "2022-10-16T09:58:55.384956Z",
     "shell.execute_reply.started": "2022-10-16T09:58:49.805083Z"
    }
   },
   "outputs": [
    {
     "name": "stdout",
     "output_type": "stream",
     "text": [
      "Actual text : start videmment comment pouvait conna tre puisque hasard canisme secret cette lampe end\n",
      "Predicted text : start videmment pouvait conna re conna tre puisque hasard secret lampe end\n",
      "\n",
      "\n",
      "Actual text : start alise presque id al entend angleterre mot respectable convenable gris tre end\n",
      "Predicted text : start alise presque entend entend angleterre respectable convenable convenable convenable end\n",
      "\n",
      "\n",
      "Actual text : start cet argent bien voici toute chose jais blanc vient norv ge end\n",
      "Predicted text : start argent valjean argent valjean jais jais blanc vient norv ge end\n",
      "\n",
      "\n",
      "Actual text : start toute vie concentrait cette heure asseyait pr end\n",
      "Predicted text : start toute valjean concentrait concentrait valjean asseyait end\n",
      "\n",
      "\n",
      "Actual text : start deux heures pourrai quitter place apr avoir enlev derniers vestiges installation petite affaire end\n",
      "Predicted text : start heures pourrai pourrai pourrai place apr apr apr avoir enlev derniers installation affaire end\n",
      "\n",
      "\n",
      "Actual text : start sol tait effondr dallage croul gout tait chang puits perdu trouvait plus solide end\n",
      "Predicted text : start sol tait effondr effondr dallage dallage croul gout tait puits perdu perdu solide end\n",
      "\n",
      "\n",
      "Actual text : start avis consid re duel entre herlock sholm ars lupin chose gl avance end\n",
      "Predicted text : start avis consid re duel duel herlock herlock herlock sholm lupin end\n",
      "\n",
      "\n",
      "Actual text : start puis rendit chez bijoutier auquel remit grenats madame envoie pierres end\n",
      "Predicted text : start chez double chez tre auquel grenats madame envoie pierres end\n",
      "\n",
      "\n",
      "Actual text : start tel tait cet ancien paris livr querelles ind cisions tonnements longtemps assez end\n",
      "Predicted text : start cet ancien paris paris livr querelles ind cisions tonnements longtemps assez end\n",
      "\n",
      "\n",
      "Actual text : start puis plongeait sous eau venait battre mur quai end\n",
      "Predicted text : start voil plongeait venait personne eau venait battre mur quai end\n",
      "\n",
      "\n"
     ]
    }
   ],
   "source": [
    "for j in range(10):\n",
    "    in_text = \"start\"\n",
    "    feature = create_mfcc_features(wave_file[j])\n",
    "    feature = feature.reshape(1,16,8,1)\n",
    "    for i in range(max_length):\n",
    "        sequence = tokenizer.texts_to_sequences([in_text])[0]\n",
    "        sequence = pad_sequences([sequence], max_length)\n",
    "\n",
    "        y_pred = prediction_model.predict([feature,sequence])\n",
    "        y_pred = np.argmax(y_pred)\n",
    "        \n",
    "        word = idx_to_word(y_pred, tokenizer)\n",
    "        \n",
    "        if word is None:\n",
    "            break\n",
    "            \n",
    "        in_text+= \" \" + word\n",
    "        \n",
    "        if word == 'end':\n",
    "            break\n",
    "    print(\"Actual text :\",messages[j])\n",
    "    print(\"Predicted text :\",in_text)\n",
    "    print(\"\\n\")"
   ]
  },
  {
   "cell_type": "markdown",
   "metadata": {},
   "source": [
    "**Validation Data Evaluation**"
   ]
  },
  {
   "cell_type": "code",
   "execution_count": 39,
   "metadata": {
    "execution": {
     "iopub.execute_input": "2022-10-16T09:58:55.388117Z",
     "iopub.status.busy": "2022-10-16T09:58:55.387701Z",
     "iopub.status.idle": "2022-10-16T09:59:01.107501Z",
     "shell.execute_reply": "2022-10-16T09:59:01.106464Z",
     "shell.execute_reply.started": "2022-10-16T09:58:55.388076Z"
    }
   },
   "outputs": [
    {
     "name": "stdout",
     "output_type": "stream",
     "text": [
      "Actual text : start trouvait nouveau face tres prot ars lupin sous action directe influence end\n",
      "Predicted text : start seul taillant cessaire comme municipalit comme affaires neuilly end\n",
      "\n",
      "\n",
      "Actual text : start voir entrer autres posta aguets derri re tas blais rage patiente chien arr end\n",
      "Predicted text : start continue existe papiers hoche capitula rostiers fleurus end\n",
      "\n",
      "\n",
      "Actual text : start dix derniers si cles travaill sans pouvoir terminer plus pu finir paris end\n",
      "Predicted text : start droit pourrai pourrai assis tait mis valjean envie reprit gratis end\n",
      "\n",
      "\n",
      "Actual text : start encore encombr sens dessus dessous air champ bataille joies veille end\n",
      "Predicted text : start mot cette vu sang sang joie supr end\n",
      "\n",
      "\n",
      "Actual text : start ressemblait sens marchait comme instant cygnes nageaient end\n",
      "Predicted text : start fini admet progr sublime songent end\n",
      "\n",
      "\n",
      "Actual text : start ob issance ici consistait souvenir marius oubliait aucun effort faire cela end\n",
      "Predicted text : start tait born peu tait tombe tombe pr repli vie end\n",
      "\n",
      "\n",
      "Actual text : start tait joie tais si triste pris temps habiller dois faire peur end\n",
      "Predicted text : start cet cet effondr effondr voisine meurtrier baron gout gout marius perdu perdu pique end\n",
      "\n",
      "\n",
      "Actual text : start soir rentrant chambre dansa gavotte faisant castagnettes pouce index chanta chanson voici end\n",
      "Predicted text : start marius temps temps temps temps temps temps temps temps temps temps temps temps temps temps temps temps temps temps temps temps temps temps temps temps temps temps temps temps temps temps temps temps temps temps temps temps temps temps temps temps temps temps temps temps\n",
      "\n",
      "\n",
      "Actual text : start cela tonne moiti jolie jeune comment sortie porte end\n",
      "Predicted text : start chez chez quel droite chez tre jour jour end\n",
      "\n",
      "\n",
      "Actual text : start fonte soigneusement astiqu carreaux porcelaine blanche monta end\n",
      "Predicted text : start donc billets monsieur monsieur profitons disait end\n",
      "\n",
      "\n"
     ]
    }
   ],
   "source": [
    "for j in range(1800,1810):\n",
    "    in_text = \"start\"\n",
    "    feature = create_mfcc_features(wave_file[j])\n",
    "    feature = feature.reshape(1,16,8,1)\n",
    "    for i in range(max_length):\n",
    "        sequence = tokenizer.texts_to_sequences([in_text])[0]\n",
    "        sequence = pad_sequences([sequence], max_length)\n",
    "\n",
    "        y_pred = prediction_model.predict([feature,sequence])\n",
    "        y_pred = np.argmax(y_pred)\n",
    "        \n",
    "        word = idx_to_word(y_pred, tokenizer)\n",
    "        \n",
    "        if word is None:\n",
    "            break\n",
    "            \n",
    "        in_text+= \" \" + word\n",
    "        \n",
    "        if word == 'end':\n",
    "            break\n",
    "    print(\"Actual text :\",messages[j])\n",
    "    print(\"Predicted text :\",in_text)\n",
    "    print(\"\\n\")"
   ]
  },
  {
   "cell_type": "markdown",
   "metadata": {},
   "source": [
    "**As we can see the predicted text is not yielding satisfactory results and may be the result of one of the following reasons -**\n",
    "\n",
    "1. Inadequate samples for training\n",
    "2. Requirement of a better model\n",
    "3. Probable use of SOTA models"
   ]
  }
 ],
 "metadata": {
  "kernelspec": {
   "display_name": "Python 3 (ipykernel)",
   "language": "python",
   "name": "python3"
  },
  "language_info": {
   "codemirror_mode": {
    "name": "ipython",
    "version": 3
   },
   "file_extension": ".py",
   "mimetype": "text/x-python",
   "name": "python",
   "nbconvert_exporter": "python",
   "pygments_lexer": "ipython3",
   "version": "3.9.12"
  }
 },
 "nbformat": 4,
 "nbformat_minor": 4
}
