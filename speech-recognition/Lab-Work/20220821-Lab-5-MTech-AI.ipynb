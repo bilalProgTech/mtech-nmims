{
  "nbformat": 4,
  "nbformat_minor": 0,
  "metadata": {
    "colab": {
      "name": "20220821-Lab-5-MTech-AI",
      "provenance": [],
      "authorship_tag": "ABX9TyO6d8CMx1JswTJpqXgWh52v",
      "include_colab_link": true
    },
    "kernelspec": {
      "name": "python3",
      "display_name": "Python 3"
    },
    "language_info": {
      "name": "python"
    }
  },
  "cells": [
    {
      "cell_type": "markdown",
      "metadata": {
        "id": "view-in-github",
        "colab_type": "text"
      },
      "source": [
        "<a href=\"https://colab.research.google.com/github/bilalProgTech/mtech-nmims/blob/master/speech-recognition/Lab-Work/20220821-Lab-5-MTech-AI.ipynb\" target=\"_parent\"><img src=\"https://colab.research.google.com/assets/colab-badge.svg\" alt=\"Open In Colab\"/></a>"
      ]
    },
    {
      "cell_type": "code",
      "execution_count": null,
      "metadata": {
        "id": "txjLsNgBu4Rq"
      },
      "outputs": [],
      "source": [
        "import os\n",
        "os.environ['KAGGLE_CONFIG_DIR']='/content'\n",
        "!kaggle competitions download -c tensorflow-speech-recognition-challenge\n",
        "!unzip *.zip\n",
        "!7za x 'train.7z'"
      ]
    },
    {
      "cell_type": "code",
      "source": [
        "import librosa\n",
        "import librosa.display\n",
        "import pandas as pd\n",
        "import numpy as np\n",
        "import matplotlib.pyplot as plt\n",
        "%matplotlib inline\n",
        "import seaborn as sns\n",
        "from sklearn.preprocessing import LabelEncoder\n",
        "import IPython.display as ipd\n",
        "import plotly as py\n",
        "import plotly.graph_objs as go"
      ],
      "metadata": {
        "id": "sxO7R9jRv2eN"
      },
      "execution_count": 2,
      "outputs": []
    },
    {
      "cell_type": "code",
      "source": [
        "files = []\n",
        "target_series = []\n",
        "for dirname, _, filenames in os.walk('/content/train/audio/'):\n",
        "    for filename in filenames:\n",
        "        filepath = os.path.join(dirname, filename)\n",
        "        target = filepath.split('/')[-2]\n",
        "        if target not in '_background_noise_':\n",
        "            target_series.append(target)\n",
        "            files.append(filepath)\n",
        "data = pd.DataFrame(target_series, columns=['target'])\n",
        "data['filename'] = files\n",
        "data = data.sample(frac=1)\n",
        "data = data.reset_index(drop=True)\n",
        "data.head()"
      ],
      "metadata": {
        "id": "rsMCn4PLxvF7"
      },
      "execution_count": null,
      "outputs": []
    },
    {
      "cell_type": "code",
      "source": [
        "df = pd.DataFrame()\n",
        "for target in data['target'].unique():\n",
        "    df = df.append(data[data['target']==target].sample(150))\n",
        "df = df.sample(frac=1)\n",
        "df = df.reset_index(drop=True)\n",
        "df.head()"
      ],
      "metadata": {
        "id": "1AYnUk3eza7j"
      },
      "execution_count": null,
      "outputs": []
    },
    {
      "cell_type": "code",
      "source": [
        "df.shape"
      ],
      "metadata": {
        "id": "p59cHjDd1Yu7"
      },
      "execution_count": null,
      "outputs": []
    },
    {
      "cell_type": "code",
      "source": [
        "def create_mfcc_features(path):\n",
        "    mfccs = []\n",
        "    try:\n",
        "        x , sr = librosa.load(path, res_type='kaiser_fast')\n",
        "        mfccs = librosa.feature.mfcc(y=x, sr=sr, n_mfcc=128)\n",
        "        mfccs = np.mean(mfccs.T,axis=0)\n",
        "    except:\n",
        "        print('Error reading audio')\n",
        "    return mfccs"
      ],
      "metadata": {
        "id": "S44vZJ-axzK6"
      },
      "execution_count": 6,
      "outputs": []
    },
    {
      "cell_type": "code",
      "source": [
        "X_df = pd.DataFrame(df['filename'].apply(lambda x: create_mfcc_features(x)).tolist())"
      ],
      "metadata": {
        "id": "44D2jd3nyqOK"
      },
      "execution_count": 7,
      "outputs": []
    },
    {
      "cell_type": "code",
      "source": [
        "X_df.head()"
      ],
      "metadata": {
        "id": "Jotl7dmE2F12"
      },
      "execution_count": null,
      "outputs": []
    },
    {
      "cell_type": "markdown",
      "source": [
        "# MODELS"
      ],
      "metadata": {
        "id": "rMc1xNkuy2Vz"
      }
    },
    {
      "cell_type": "code",
      "source": [
        "X_df.shape"
      ],
      "metadata": {
        "id": "E27wH3u22Xvy"
      },
      "execution_count": null,
      "outputs": []
    },
    {
      "cell_type": "code",
      "source": [
        "encoder = LabelEncoder()\n",
        "encoder.fit(df['target'])\n",
        "y = encoder.transform(df['target'])"
      ],
      "metadata": {
        "id": "30iNMUNU2YgU"
      },
      "execution_count": 11,
      "outputs": []
    },
    {
      "cell_type": "code",
      "source": [
        "import tensorflow as tf\n",
        "from sklearn.model_selection import train_test_split\n",
        "from sklearn.metrics import accuracy_score, log_loss, confusion_matrix"
      ],
      "metadata": {
        "id": "X7DUk3002pZV"
      },
      "execution_count": 12,
      "outputs": []
    },
    {
      "cell_type": "code",
      "source": [
        "x_train, x_val, y_train, y_val = train_test_split(np.array(X_df), y, test_size=0.10, stratify=y)"
      ],
      "metadata": {
        "id": "dgCM6-772anq"
      },
      "execution_count": 14,
      "outputs": []
    },
    {
      "cell_type": "code",
      "source": [
        "x_train = x_train.reshape(x_train.shape[0], 16, 8, 1)\n",
        "x_val = x_val.reshape(x_val.shape[0], 16, 8, 1)"
      ],
      "metadata": {
        "id": "KpoJ9JTD2zFh"
      },
      "execution_count": 15,
      "outputs": []
    },
    {
      "cell_type": "code",
      "source": [
        "x_train.shape"
      ],
      "metadata": {
        "id": "K2ENET_s27ne"
      },
      "execution_count": null,
      "outputs": []
    },
    {
      "cell_type": "code",
      "source": [
        "tf.keras.backend.clear_session()\n",
        "model = tf.keras.Sequential([\n",
        "    tf.keras.layers.InputLayer(input_shape=(16, 8, 1)),\n",
        "    tf.keras.layers.Conv2D(filters=16, kernel_size=(3, 3), activation='relu', padding = \"same\"),\n",
        "    tf.keras.layers.MaxPooling2D(2, 2),\n",
        "    tf.keras.layers.Conv2D(filters=8, kernel_size=(3, 3), activation='relu', padding = \"same\"),\n",
        "    tf.keras.layers.MaxPooling2D(2, 2),\n",
        "    tf.keras.layers.Flatten(),\n",
        "    tf.keras.layers.Dense(16, activation='relu'),\n",
        "    tf.keras.layers.Dense(len(data['target'].unique()), activation='softmax')\n",
        "])\n",
        "model.summary()"
      ],
      "metadata": {
        "id": "ma461J9M29xl"
      },
      "execution_count": null,
      "outputs": []
    },
    {
      "cell_type": "code",
      "source": [
        "model.compile(optimizer='adam', loss='sparse_categorical_crossentropy', metrics=['accuracy'])"
      ],
      "metadata": {
        "id": "WleOjoOU3Drb"
      },
      "execution_count": 21,
      "outputs": []
    },
    {
      "cell_type": "code",
      "source": [
        "history = model.fit(x_train, y_train, epochs=200)"
      ],
      "metadata": {
        "id": "aMoJS47t3M80"
      },
      "execution_count": null,
      "outputs": []
    },
    {
      "cell_type": "code",
      "source": [
        "prob_val = model.predict(x_val)\n",
        "pred_val = np.argmax(prob_val, axis=1)\n",
        "pred_val = encoder.inverse_transform(pred_val)"
      ],
      "metadata": {
        "id": "Awuv0kn43P1T"
      },
      "execution_count": 23,
      "outputs": []
    },
    {
      "cell_type": "code",
      "source": [
        "sns.heatmap(confusion_matrix(encoder.inverse_transform(y_val), pred_val))"
      ],
      "metadata": {
        "id": "03Y9xfeJ37uK"
      },
      "execution_count": null,
      "outputs": []
    },
    {
      "cell_type": "code",
      "source": [
        "x , sr = librosa.load('/content/my_audio.mp4')\n",
        "plt.figure(figsize=(20, 5))\n",
        "plt.title('Waveplot')\n",
        "librosa.display.waveplot(x, sr=sr)\n",
        "plt.show()"
      ],
      "metadata": {
        "id": "mZ5yx-IhKV1K"
      },
      "execution_count": null,
      "outputs": []
    },
    {
      "cell_type": "code",
      "source": [
        "x.shape"
      ],
      "metadata": {
        "id": "nTaaGPuRMI_i"
      },
      "execution_count": null,
      "outputs": []
    },
    {
      "cell_type": "code",
      "source": [
        "total_time = x.shape[0]/sr\n",
        "per_window = x.shape[0]/total_time\n",
        "total_time, per_window"
      ],
      "metadata": {
        "id": "0YxYP4vzKH-C"
      },
      "execution_count": null,
      "outputs": []
    },
    {
      "cell_type": "code",
      "source": [
        "ipd.Audio('/content/my_audio.mp4')"
      ],
      "metadata": {
        "id": "WcE-bZLGLp7d"
      },
      "execution_count": null,
      "outputs": []
    },
    {
      "cell_type": "code",
      "source": [
        "x , sr = librosa.load('/content/my_audio.mp4')\n",
        "plt.figure(figsize=(20, 5))\n",
        "plt.title('Waveplot')\n",
        "librosa.display.waveplot(x[int(2.3*per_window):int(2.6*per_window)], sr=sr)\n",
        "plt.show()"
      ],
      "metadata": {
        "id": "hOu-4UEE7tWe"
      },
      "execution_count": null,
      "outputs": []
    },
    {
      "cell_type": "code",
      "source": [
        "mfccs = librosa.feature.mfcc(y=x[int(2.3*per_window):int(2.6*per_window)], sr=sr, n_mfcc=128)\n",
        "mfccs = np.mean(mfccs.T,axis=0)"
      ],
      "metadata": {
        "id": "Kfn0mRfmKA6K"
      },
      "execution_count": 75,
      "outputs": []
    },
    {
      "cell_type": "code",
      "source": [
        "mfccs.shape"
      ],
      "metadata": {
        "id": "dYGI4toaK2rq"
      },
      "execution_count": null,
      "outputs": []
    },
    {
      "cell_type": "code",
      "source": [
        "x_test = mfccs.reshape(1, 16, 8, 1)\n",
        "x_test"
      ],
      "metadata": {
        "id": "JBa00_ZKK3S5"
      },
      "execution_count": null,
      "outputs": []
    },
    {
      "cell_type": "code",
      "source": [
        "prob_val = model.predict(x_test)\n",
        "pred_val = np.argmax(prob_val, axis=1)\n",
        "pred_val = encoder.inverse_transform(pred_val)"
      ],
      "metadata": {
        "id": "9PQSAoqdLC6T"
      },
      "execution_count": 78,
      "outputs": []
    },
    {
      "cell_type": "code",
      "source": [
        "pred_val"
      ],
      "metadata": {
        "id": "hYJCNR4nLWxR"
      },
      "execution_count": null,
      "outputs": []
    }
  ]
}