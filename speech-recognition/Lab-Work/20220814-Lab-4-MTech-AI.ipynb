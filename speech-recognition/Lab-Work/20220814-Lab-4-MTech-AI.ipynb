{
  "nbformat": 4,
  "nbformat_minor": 0,
  "metadata": {
    "colab": {
      "name": "20220814-Lab-4-MTech-AI",
      "provenance": [],
      "collapsed_sections": [],
      "authorship_tag": "ABX9TyMhTxOmVQpYlVGn8QNsc7Qf",
      "include_colab_link": true
    },
    "kernelspec": {
      "name": "python3",
      "display_name": "Python 3"
    },
    "language_info": {
      "name": "python"
    }
  },
  "cells": [
    {
      "cell_type": "markdown",
      "metadata": {
        "id": "view-in-github",
        "colab_type": "text"
      },
      "source": [
        "<a href=\"https://colab.research.google.com/github/bilalProgTech/mtech-nmims/blob/master/speech-recognition/Lab-Work/20220814-Lab-4-MTech-AI.ipynb\" target=\"_parent\"><img src=\"https://colab.research.google.com/assets/colab-badge.svg\" alt=\"Open In Colab\"/></a>"
      ]
    },
    {
      "cell_type": "code",
      "execution_count": null,
      "metadata": {
        "id": "D63LXUcxkCqM"
      },
      "outputs": [],
      "source": [
        "import os\n",
        "os.environ['KAGGLE_CONFIG_DIR'] = '/content/'\n",
        "!kaggle competitions download -c tensorflow-speech-recognition-challenge\n",
        "!unzip *.zip"
      ]
    },
    {
      "cell_type": "code",
      "source": [
        "!7za x 'train.7z' "
      ],
      "metadata": {
        "id": "o2ndpPAdkGtL"
      },
      "execution_count": null,
      "outputs": []
    },
    {
      "cell_type": "code",
      "source": [
        "import librosa\n",
        "import librosa.display\n",
        "import pandas as pd\n",
        "import numpy as np\n",
        "import matplotlib.pyplot as plt\n",
        "%matplotlib inline\n",
        "import seaborn as sns\n",
        "from sklearn.preprocessing import LabelEncoder\n",
        "from sklearn.decomposition import PCA\n",
        "from sklearn.cluster import KMeans, AgglomerativeClustering, DBSCAN\n",
        "from sklearn.metrics import accuracy_score, log_loss, confusion_matrix\n",
        "import IPython.display as ipd\n",
        "import plotly as py\n",
        "import plotly.graph_objs as go"
      ],
      "metadata": {
        "id": "DNIZj_PikGqu"
      },
      "execution_count": null,
      "outputs": []
    },
    {
      "cell_type": "code",
      "source": [
        "files = []\n",
        "target_series = []\n",
        "for dirname, _, filenames in os.walk('/content/train/audio/'):\n",
        "    for filename in filenames:\n",
        "        filepath = os.path.join(dirname, filename)\n",
        "        target = filepath.split('/')[-2]\n",
        "        if target == 'happy' or target == 'stop' or target == 'wow':\n",
        "            target_series.append(target)\n",
        "            files.append(filepath)\n",
        "data = pd.DataFrame(target_series, columns=['target'])\n",
        "data['filename'] = files\n",
        "data = data.sample(frac=1)\n",
        "data = data.reset_index(drop=True)\n",
        "data.head()"
      ],
      "metadata": {
        "id": "i4XW5NXFkGoN"
      },
      "execution_count": null,
      "outputs": []
    },
    {
      "cell_type": "code",
      "source": [
        "def get_audio_feature_plots(path, target):\n",
        "    x , sr = librosa.load(path)\n",
        "    plt.figure(figsize=(20, 5))\n",
        "    plt.title('Waveplot of '+target)\n",
        "    librosa.display.waveplot(x, sr=sr)\n",
        "    plt.show()\n",
        "\n",
        "    plt.figure(figsize=(20, 6))\n",
        "    plt.title('MFCC Spectral of '+target)\n",
        "    mfccs = librosa.feature.mfcc(y=x, sr=sr) # n_mfcc\n",
        "    librosa.display.specshow(mfccs, sr=sr, x_axis='time')\n",
        "    print(mfccs.shape)\n",
        "    plt.show()\n",
        "\n",
        "    plt.figure(figsize=(20, 6))\n",
        "    plt.title('Mel Spectrogram of '+target)\n",
        "    mel_spec = librosa.feature.melspectrogram(y=x, sr=sr)\n",
        "    librosa.display.specshow(mel_spec, sr=sr, x_axis='time')\n",
        "    plt.show()\n",
        "\n",
        "    zero_crossings = librosa.zero_crossings(x)\n",
        "    print(\"Sum of zero crossing \", zero_crossings.sum())\n",
        "    plt.figure(figsize=(20, 5))\n",
        "    plt.title('Zero Crossing Rate of '+target)\n",
        "    zcrs = librosa.feature.zero_crossing_rate(x)\n",
        "    plt.plot(zcrs[0])\n",
        "    plt.show()"
      ],
      "metadata": {
        "id": "Kr6zPjDJkGmC"
      },
      "execution_count": null,
      "outputs": []
    },
    {
      "cell_type": "code",
      "source": [
        "sample = data[(data['target'] == 'wow')].sample(1)\n",
        "get_audio_feature_plots(sample['filename'].values[0], sample['target'].values[0])\n",
        "ipd.Audio(sample.filename.values[0])"
      ],
      "metadata": {
        "id": "TiFTvBCLkGjT"
      },
      "execution_count": null,
      "outputs": []
    },
    {
      "cell_type": "code",
      "source": [
        "sample = data[(data['target'] == 'stop')].sample(1)\n",
        "get_audio_feature_plots(sample['filename'].values[0], sample['target'].values[0])\n",
        "ipd.Audio(sample.filename.values[0])"
      ],
      "metadata": {
        "id": "4S_DPHBXkGg5"
      },
      "execution_count": null,
      "outputs": []
    },
    {
      "cell_type": "code",
      "source": [
        "sample = data[(data['target'] == 'happy')].sample(1)\n",
        "get_audio_feature_plots(sample['filename'].values[0], sample['target'].values[0])\n",
        "ipd.Audio(sample.filename.values[0])"
      ],
      "metadata": {
        "id": "u0ubWaERkGeV"
      },
      "execution_count": null,
      "outputs": []
    },
    {
      "cell_type": "markdown",
      "source": [
        "# Feature Extractions\n",
        "\n",
        "### Zero Cross Ratings"
      ],
      "metadata": {
        "id": "DAfqc4h6kRkl"
      }
    },
    {
      "cell_type": "code",
      "source": [
        "def create_zero_cross_rating_features(path):\n",
        "    zcrs = []\n",
        "    try:\n",
        "        x , sr = librosa.load(path, res_type='kaiser_fast')\n",
        "        zcrs = librosa.feature.zero_crossing_rate(x)[0]\n",
        "    except:\n",
        "        print('Error reading audio')\n",
        "    return zcrs"
      ],
      "metadata": {
        "id": "iQYQmp1nkGb-"
      },
      "execution_count": null,
      "outputs": []
    },
    {
      "cell_type": "code",
      "source": [
        "%%time\n",
        "X_df = pd.DataFrame(data['filename'].apply(lambda x: create_zero_cross_rating_features(x)).tolist())"
      ],
      "metadata": {
        "id": "854rvwZSkGZU"
      },
      "execution_count": null,
      "outputs": []
    },
    {
      "cell_type": "code",
      "source": [
        "X_df.head()"
      ],
      "metadata": {
        "id": "dXys2Zd6kGW8"
      },
      "execution_count": null,
      "outputs": []
    },
    {
      "cell_type": "code",
      "source": [
        "X_df.shape, data.shape"
      ],
      "metadata": {
        "id": "l0slPaNGkGUl"
      },
      "execution_count": null,
      "outputs": []
    },
    {
      "cell_type": "code",
      "source": [
        "X_df.isnull().sum()"
      ],
      "metadata": {
        "id": "_Cdw4AzbkaIH"
      },
      "execution_count": null,
      "outputs": []
    },
    {
      "cell_type": "code",
      "source": [
        "X_impute = X_df.copy()\n",
        "X_impute = X_impute.fillna(0)\n",
        "X_impute.isnull().sum().sum()"
      ],
      "metadata": {
        "id": "fnqacTRAkaFb"
      },
      "execution_count": null,
      "outputs": []
    },
    {
      "cell_type": "code",
      "source": [
        "plt.figure(figsize=(8,8))\n",
        "sns.heatmap(X_impute.corr(), vmax=1, square=True)\n",
        "\n",
        "plt.title('Correlation between different zero cross rating features')\n",
        "plt.show()"
      ],
      "metadata": {
        "id": "c2yoLEK_kaCm"
      },
      "execution_count": null,
      "outputs": []
    },
    {
      "cell_type": "markdown",
      "source": [
        "### PCA"
      ],
      "metadata": {
        "id": "wHcQqPr1klP9"
      }
    },
    {
      "cell_type": "code",
      "source": [
        "# Create principal components\n",
        "pca = PCA()\n",
        "X_pca = pca.fit_transform(X_impute)\n",
        "\n",
        "# Convert to dataframe\n",
        "X_pca = pd.DataFrame(X_pca, columns=['PCA_'+str(i) for i in range(len(X_impute.columns))])\n",
        "\n",
        "X_pca.head()"
      ],
      "metadata": {
        "id": "saeF63FRkZ_y"
      },
      "execution_count": null,
      "outputs": []
    },
    {
      "cell_type": "code",
      "source": [
        "plt.figure(figsize=(8,8))\n",
        "sns.heatmap(X_pca.corr(), vmax=1, square=True)\n",
        "\n",
        "plt.title('Correlation between PCA Components')\n",
        "plt.show()"
      ],
      "metadata": {
        "id": "qOKa6UNukZ9G"
      },
      "execution_count": null,
      "outputs": []
    },
    {
      "cell_type": "code",
      "source": [
        "loadings = pd.DataFrame(\n",
        "    pca.components_.T,\n",
        "    columns=X_pca.columns,\n",
        "    index=X_impute.columns,\n",
        ")\n",
        "plt.figure(figsize=(8,8))\n",
        "sns.heatmap(loadings, vmax=1, square=True, cmap='cubehelix')\n",
        "\n",
        "plt.title('Loadings of PCA with zero cross rating')\n",
        "plt.show()"
      ],
      "metadata": {
        "id": "6w61RbYFkZ6i"
      },
      "execution_count": null,
      "outputs": []
    },
    {
      "cell_type": "code",
      "source": [
        "plt.figure(figsize=(8,8))\n",
        "sns.lineplot(np.arange(pca.n_components_) + 1, pca.explained_variance_ratio_, marker='o')\n",
        "plt.title('Scree Plot')\n",
        "plt.xlabel('Principal Component')\n",
        "plt.ylabel('Variance Explained')\n",
        "plt.show()"
      ],
      "metadata": {
        "id": "cnLjpRDdkZ3m"
      },
      "execution_count": null,
      "outputs": []
    },
    {
      "cell_type": "markdown",
      "source": [
        "### KMeans"
      ],
      "metadata": {
        "id": "rlC1DU4DkjMj"
      }
    },
    {
      "cell_type": "code",
      "source": [
        "opt_val = []\n",
        "for i in range(1, 11):\n",
        "    kmeans = KMeans(n_clusters = i, init = 'k-means++', random_state = 42)\n",
        "    kmeans.fit(X_pca.iloc[:, :3])\n",
        "    opt_val.append(kmeans.inertia_)"
      ],
      "metadata": {
        "id": "4aDkteTTkZ1T"
      },
      "execution_count": null,
      "outputs": []
    },
    {
      "cell_type": "code",
      "source": [
        "plt.figure(figsize=(10,5))\n",
        "sns.lineplot(range(1, 11), opt_val, marker='o',color='red')\n",
        "plt.title('The Elbow Method')\n",
        "plt.xlabel('Number of clusters')\n",
        "plt.ylabel('Optimal Value')\n",
        "plt.show()"
      ],
      "metadata": {
        "id": "7WXxTMVVkZyU"
      },
      "execution_count": null,
      "outputs": []
    },
    {
      "cell_type": "code",
      "source": [
        "kmeans = KMeans(n_clusters = 3, init = 'k-means++', random_state = 42)\n",
        "y_kmeans = kmeans.fit_predict(X_pca.iloc[:, :3])"
      ],
      "metadata": {
        "id": "WyWTZ4cokZvc"
      },
      "execution_count": null,
      "outputs": []
    },
    {
      "cell_type": "code",
      "source": [
        "trace1 = go.Scatter3d(\n",
        "    x= X_pca['PCA_0'],\n",
        "    y= X_pca['PCA_1'],\n",
        "    z= X_pca['PCA_2'],\n",
        "    mode='markers',\n",
        "     marker=dict(\n",
        "        color = y_kmeans, \n",
        "        size= 10,\n",
        "        line=dict(\n",
        "            color= y_kmeans,\n",
        "            width= 12\n",
        "        ),\n",
        "        opacity=0.8\n",
        "     )\n",
        ")\n",
        "data_plotly = [trace1]\n",
        "layout = go.Layout(\n",
        "    title= 'Clusters wrt three PCA Components',\n",
        "    scene = dict(\n",
        "            xaxis = dict(title  = 'PCA 0'),\n",
        "            yaxis = dict(title  = 'PCA 1'),\n",
        "            zaxis = dict(title  = 'PCA 2')\n",
        "        )\n",
        ")\n",
        "fig = go.Figure(data=data_plotly, layout=layout)\n",
        "fig.show()"
      ],
      "metadata": {
        "id": "7C_yPqGRkZqr"
      },
      "execution_count": null,
      "outputs": []
    }
  ]
}